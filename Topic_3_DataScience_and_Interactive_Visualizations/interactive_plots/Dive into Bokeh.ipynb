{
 "cells": [
  {
   "cell_type": "markdown",
   "id": "7e90d7dd",
   "metadata": {},
   "source": [
    "# Bokeh Turorial\n",
    "\n",
    "## Installation\n",
    "For smooth integrability in streamlit, please install bokeh version 2.2.2.\n",
    "To this end, use either\n",
    "   \n",
    "    pip install bokeh==\"2.2.2\"\n",
    "\n",
    "or\n",
    "   \n",
    "    conda install bokeh=2.2.2\n",
    "    \n",
    "If you already installed bokeh, check the version compiling:"
   ]
  },
  {
   "cell_type": "code",
   "execution_count": 1,
   "id": "36b64879",
   "metadata": {},
   "outputs": [
    {
     "name": "stdout",
     "output_type": "stream",
     "text": [
      "2.2.2\n"
     ]
    }
   ],
   "source": [
    "import bokeh\n",
    "print(bokeh.__version__)"
   ]
  },
  {
   "cell_type": "markdown",
   "id": "e0d1b3aa",
   "metadata": {},
   "source": [
    "If your version is **higher** than 2.2.2, you need to downgrade (if its **lower**, just use the above installation command).\n",
    "\n",
    "    pip uninstall bokeh\n",
    "    pip install bokeh==\"2.2.2\"\n",
    "    \n",
    "For conda, consider creating a new environment or do \n",
    "\n",
    "    conda install -c conda-forge bokeh=2.2.2 "
   ]
  },
  {
   "cell_type": "markdown",
   "id": "9daea06f",
   "metadata": {},
   "source": [
    "## Turtorials and cheat sheets\n",
    "\n",
    "Bokeh provides clear documentation on https://docs.bokeh.org/.\n",
    "We here follow the first steps that they provide on their website.\n",
    "\n",
    "Outline: \n",
    "- First steps 1: Creating a line chart\n",
    "- First steps 2: Adding and customizing renderers\n",
    "- First steps 3: Adding legends, text, and annotations\n",
    "- First steps 4: Customizing your plot\n",
    "- First steps 5: Vectorizing glyph properties\n",
    "- First steps 6: Combining plots\n",
    "- First steps 7: Displaying and exporting\n",
    "- First steps 8: Providing and filtering data\n",
    "- First steps 9: Using widgets"
   ]
  },
  {
   "cell_type": "markdown",
   "id": "1ddda445",
   "metadata": {},
   "source": [
    "# First steps 1: Creating a line chart\n",
    "With just a few lines of Python code, Bokeh enables you to create interactive, JavaScript-powered visualizations displayable in a web browser.\n",
    "\n",
    "The basic idea of Bokeh is a two-step process: First, you select from Bokeh’s building blocks to create your visualization. Second, you customize these building blocks to fit your needs.\n",
    "\n",
    "To do that, Bokeh combines two elements:\n",
    "\n",
    "- A Python library for defining the content and interactive functionalities of your visualization.\n",
    "\n",
    "- A JavaScript library called BokehJS that is working in the background to display your interactive visualizations in a web browser.\n",
    "\n",
    "Based on your Python code, Bokeh automatically generates all the necessary JavaScript and HTML code for you. In its default setting, Bokeh automatically loads any additional JavaScript code from Bokeh’s CDN (content delivery network).\n",
    "\n",
    "Bokeh’s documentation consists of several elements, including the user guide with detailed explanations and examples and the reference guide that systematically describes every element of Bokeh. In this guide, you will find links to both those resources."
   ]
  },
  {
   "cell_type": "markdown",
   "id": "c180fe26",
   "metadata": {},
   "source": [
    "## Creating a simple line chart\n",
    "Your first visualization will be a plot with a single line that looks like this:\n",
    "\n",
    "Even a simple graph like this has interactive features. Use the tools on the right of the plot to explore:"
   ]
  },
  {
   "cell_type": "code",
   "execution_count": 2,
   "id": "3a8f05bf",
   "metadata": {},
   "outputs": [
    {
     "data": {
      "text/html": [
       "\n",
       "    <div class=\"bk-root\">\n",
       "        <a href=\"https://bokeh.org\" target=\"_blank\" class=\"bk-logo bk-logo-small bk-logo-notebook\"></a>\n",
       "        <span id=\"1049\">Loading BokehJS ...</span>\n",
       "    </div>"
      ]
     },
     "metadata": {},
     "output_type": "display_data"
    },
    {
     "data": {
      "application/javascript": [
       "\n",
       "(function(root) {\n",
       "  function now() {\n",
       "    return new Date();\n",
       "  }\n",
       "\n",
       "  var force = true;\n",
       "\n",
       "  if (typeof root._bokeh_onload_callbacks === \"undefined\" || force === true) {\n",
       "    root._bokeh_onload_callbacks = [];\n",
       "    root._bokeh_is_loading = undefined;\n",
       "  }\n",
       "\n",
       "  var JS_MIME_TYPE = 'application/javascript';\n",
       "  var HTML_MIME_TYPE = 'text/html';\n",
       "  var EXEC_MIME_TYPE = 'application/vnd.bokehjs_exec.v0+json';\n",
       "  var CLASS_NAME = 'output_bokeh rendered_html';\n",
       "\n",
       "  /**\n",
       "   * Render data to the DOM node\n",
       "   */\n",
       "  function render(props, node) {\n",
       "    var script = document.createElement(\"script\");\n",
       "    node.appendChild(script);\n",
       "  }\n",
       "\n",
       "  /**\n",
       "   * Handle when an output is cleared or removed\n",
       "   */\n",
       "  function handleClearOutput(event, handle) {\n",
       "    var cell = handle.cell;\n",
       "\n",
       "    var id = cell.output_area._bokeh_element_id;\n",
       "    var server_id = cell.output_area._bokeh_server_id;\n",
       "    // Clean up Bokeh references\n",
       "    if (id != null && id in Bokeh.index) {\n",
       "      Bokeh.index[id].model.document.clear();\n",
       "      delete Bokeh.index[id];\n",
       "    }\n",
       "\n",
       "    if (server_id !== undefined) {\n",
       "      // Clean up Bokeh references\n",
       "      var cmd = \"from bokeh.io.state import curstate; print(curstate().uuid_to_server['\" + server_id + \"'].get_sessions()[0].document.roots[0]._id)\";\n",
       "      cell.notebook.kernel.execute(cmd, {\n",
       "        iopub: {\n",
       "          output: function(msg) {\n",
       "            var id = msg.content.text.trim();\n",
       "            if (id in Bokeh.index) {\n",
       "              Bokeh.index[id].model.document.clear();\n",
       "              delete Bokeh.index[id];\n",
       "            }\n",
       "          }\n",
       "        }\n",
       "      });\n",
       "      // Destroy server and session\n",
       "      var cmd = \"import bokeh.io.notebook as ion; ion.destroy_server('\" + server_id + \"')\";\n",
       "      cell.notebook.kernel.execute(cmd);\n",
       "    }\n",
       "  }\n",
       "\n",
       "  /**\n",
       "   * Handle when a new output is added\n",
       "   */\n",
       "  function handleAddOutput(event, handle) {\n",
       "    var output_area = handle.output_area;\n",
       "    var output = handle.output;\n",
       "\n",
       "    // limit handleAddOutput to display_data with EXEC_MIME_TYPE content only\n",
       "    if ((output.output_type != \"display_data\") || (!output.data.hasOwnProperty(EXEC_MIME_TYPE))) {\n",
       "      return\n",
       "    }\n",
       "\n",
       "    var toinsert = output_area.element.find(\".\" + CLASS_NAME.split(' ')[0]);\n",
       "\n",
       "    if (output.metadata[EXEC_MIME_TYPE][\"id\"] !== undefined) {\n",
       "      toinsert[toinsert.length - 1].firstChild.textContent = output.data[JS_MIME_TYPE];\n",
       "      // store reference to embed id on output_area\n",
       "      output_area._bokeh_element_id = output.metadata[EXEC_MIME_TYPE][\"id\"];\n",
       "    }\n",
       "    if (output.metadata[EXEC_MIME_TYPE][\"server_id\"] !== undefined) {\n",
       "      var bk_div = document.createElement(\"div\");\n",
       "      bk_div.innerHTML = output.data[HTML_MIME_TYPE];\n",
       "      var script_attrs = bk_div.children[0].attributes;\n",
       "      for (var i = 0; i < script_attrs.length; i++) {\n",
       "        toinsert[toinsert.length - 1].firstChild.setAttribute(script_attrs[i].name, script_attrs[i].value);\n",
       "        toinsert[toinsert.length - 1].firstChild.textContent = bk_div.children[0].textContent\n",
       "      }\n",
       "      // store reference to server id on output_area\n",
       "      output_area._bokeh_server_id = output.metadata[EXEC_MIME_TYPE][\"server_id\"];\n",
       "    }\n",
       "  }\n",
       "\n",
       "  function register_renderer(events, OutputArea) {\n",
       "\n",
       "    function append_mime(data, metadata, element) {\n",
       "      // create a DOM node to render to\n",
       "      var toinsert = this.create_output_subarea(\n",
       "        metadata,\n",
       "        CLASS_NAME,\n",
       "        EXEC_MIME_TYPE\n",
       "      );\n",
       "      this.keyboard_manager.register_events(toinsert);\n",
       "      // Render to node\n",
       "      var props = {data: data, metadata: metadata[EXEC_MIME_TYPE]};\n",
       "      render(props, toinsert[toinsert.length - 1]);\n",
       "      element.append(toinsert);\n",
       "      return toinsert\n",
       "    }\n",
       "\n",
       "    /* Handle when an output is cleared or removed */\n",
       "    events.on('clear_output.CodeCell', handleClearOutput);\n",
       "    events.on('delete.Cell', handleClearOutput);\n",
       "\n",
       "    /* Handle when a new output is added */\n",
       "    events.on('output_added.OutputArea', handleAddOutput);\n",
       "\n",
       "    /**\n",
       "     * Register the mime type and append_mime function with output_area\n",
       "     */\n",
       "    OutputArea.prototype.register_mime_type(EXEC_MIME_TYPE, append_mime, {\n",
       "      /* Is output safe? */\n",
       "      safe: true,\n",
       "      /* Index of renderer in `output_area.display_order` */\n",
       "      index: 0\n",
       "    });\n",
       "  }\n",
       "\n",
       "  // register the mime type if in Jupyter Notebook environment and previously unregistered\n",
       "  if (root.Jupyter !== undefined) {\n",
       "    var events = require('base/js/events');\n",
       "    var OutputArea = require('notebook/js/outputarea').OutputArea;\n",
       "\n",
       "    if (OutputArea.prototype.mime_types().indexOf(EXEC_MIME_TYPE) == -1) {\n",
       "      register_renderer(events, OutputArea);\n",
       "    }\n",
       "  }\n",
       "\n",
       "  \n",
       "  if (typeof (root._bokeh_timeout) === \"undefined\" || force === true) {\n",
       "    root._bokeh_timeout = Date.now() + 5000;\n",
       "    root._bokeh_failed_load = false;\n",
       "  }\n",
       "\n",
       "  var NB_LOAD_WARNING = {'data': {'text/html':\n",
       "     \"<div style='background-color: #fdd'>\\n\"+\n",
       "     \"<p>\\n\"+\n",
       "     \"BokehJS does not appear to have successfully loaded. If loading BokehJS from CDN, this \\n\"+\n",
       "     \"may be due to a slow or bad network connection. Possible fixes:\\n\"+\n",
       "     \"</p>\\n\"+\n",
       "     \"<ul>\\n\"+\n",
       "     \"<li>re-rerun `output_notebook()` to attempt to load from CDN again, or</li>\\n\"+\n",
       "     \"<li>use INLINE resources instead, as so:</li>\\n\"+\n",
       "     \"</ul>\\n\"+\n",
       "     \"<code>\\n\"+\n",
       "     \"from bokeh.resources import INLINE\\n\"+\n",
       "     \"output_notebook(resources=INLINE)\\n\"+\n",
       "     \"</code>\\n\"+\n",
       "     \"</div>\"}};\n",
       "\n",
       "  function display_loaded() {\n",
       "    var el = document.getElementById(\"1049\");\n",
       "    if (el != null) {\n",
       "      el.textContent = \"BokehJS is loading...\";\n",
       "    }\n",
       "    if (root.Bokeh !== undefined) {\n",
       "      if (el != null) {\n",
       "        el.textContent = \"BokehJS \" + root.Bokeh.version + \" successfully loaded.\";\n",
       "      }\n",
       "    } else if (Date.now() < root._bokeh_timeout) {\n",
       "      setTimeout(display_loaded, 100)\n",
       "    }\n",
       "  }\n",
       "\n",
       "\n",
       "  function run_callbacks() {\n",
       "    try {\n",
       "      root._bokeh_onload_callbacks.forEach(function(callback) {\n",
       "        if (callback != null)\n",
       "          callback();\n",
       "      });\n",
       "    } finally {\n",
       "      delete root._bokeh_onload_callbacks\n",
       "    }\n",
       "    console.debug(\"Bokeh: all callbacks have finished\");\n",
       "  }\n",
       "\n",
       "  function load_libs(css_urls, js_urls, callback) {\n",
       "    if (css_urls == null) css_urls = [];\n",
       "    if (js_urls == null) js_urls = [];\n",
       "\n",
       "    root._bokeh_onload_callbacks.push(callback);\n",
       "    if (root._bokeh_is_loading > 0) {\n",
       "      console.debug(\"Bokeh: BokehJS is being loaded, scheduling callback at\", now());\n",
       "      return null;\n",
       "    }\n",
       "    if (js_urls == null || js_urls.length === 0) {\n",
       "      run_callbacks();\n",
       "      return null;\n",
       "    }\n",
       "    console.debug(\"Bokeh: BokehJS not loaded, scheduling load and callback at\", now());\n",
       "    root._bokeh_is_loading = css_urls.length + js_urls.length;\n",
       "\n",
       "    function on_load() {\n",
       "      root._bokeh_is_loading--;\n",
       "      if (root._bokeh_is_loading === 0) {\n",
       "        console.debug(\"Bokeh: all BokehJS libraries/stylesheets loaded\");\n",
       "        run_callbacks()\n",
       "      }\n",
       "    }\n",
       "\n",
       "    function on_error() {\n",
       "      console.error(\"failed to load \" + url);\n",
       "    }\n",
       "\n",
       "    for (var i = 0; i < css_urls.length; i++) {\n",
       "      var url = css_urls[i];\n",
       "      const element = document.createElement(\"link\");\n",
       "      element.onload = on_load;\n",
       "      element.onerror = on_error;\n",
       "      element.rel = \"stylesheet\";\n",
       "      element.type = \"text/css\";\n",
       "      element.href = url;\n",
       "      console.debug(\"Bokeh: injecting link tag for BokehJS stylesheet: \", url);\n",
       "      document.body.appendChild(element);\n",
       "    }\n",
       "\n",
       "    const hashes = {\"https://cdn.bokeh.org/bokeh/release/bokeh-2.2.2.min.js\": \"JayppSWSRBsibIZqI8S4vAb1oFgLL0uhNvSn8cmArlOvYOwfFjYeyY5UWwJ+K0SU\", \"https://cdn.bokeh.org/bokeh/release/bokeh-widgets-2.2.2.min.js\": \"G0/Tv/Yy/zEPNsnW0Qif/FOsGesd+KIrKg/QLmvQmReuUW9qmSP7mAmr0VpiUNr3\", \"https://cdn.bokeh.org/bokeh/release/bokeh-tables-2.2.2.min.js\": \"VLYHEbLQDk5G1+/4ALU0myoJPMEUsngWry2fzYorFOUmarjGRPLLURaeK/on6JqX\"};\n",
       "\n",
       "    for (var i = 0; i < js_urls.length; i++) {\n",
       "      var url = js_urls[i];\n",
       "      var element = document.createElement('script');\n",
       "      element.onload = on_load;\n",
       "      element.onerror = on_error;\n",
       "      element.async = false;\n",
       "      element.src = url;\n",
       "      if (url in hashes) {\n",
       "        element.crossOrigin = \"anonymous\";\n",
       "        element.integrity = \"sha384-\" + hashes[url];\n",
       "      }\n",
       "      console.debug(\"Bokeh: injecting script tag for BokehJS library: \", url);\n",
       "      document.head.appendChild(element);\n",
       "    }\n",
       "  };\n",
       "\n",
       "  function inject_raw_css(css) {\n",
       "    const element = document.createElement(\"style\");\n",
       "    element.appendChild(document.createTextNode(css));\n",
       "    document.body.appendChild(element);\n",
       "  }\n",
       "\n",
       "  \n",
       "  var js_urls = [\"https://cdn.bokeh.org/bokeh/release/bokeh-2.2.2.min.js\", \"https://cdn.bokeh.org/bokeh/release/bokeh-widgets-2.2.2.min.js\", \"https://cdn.bokeh.org/bokeh/release/bokeh-tables-2.2.2.min.js\"];\n",
       "  var css_urls = [];\n",
       "  \n",
       "\n",
       "  var inline_js = [\n",
       "    function(Bokeh) {\n",
       "      Bokeh.set_log_level(\"info\");\n",
       "    },\n",
       "    function(Bokeh) {\n",
       "    \n",
       "    \n",
       "    }\n",
       "  ];\n",
       "\n",
       "  function run_inline_js() {\n",
       "    \n",
       "    if (root.Bokeh !== undefined || force === true) {\n",
       "      \n",
       "    for (var i = 0; i < inline_js.length; i++) {\n",
       "      inline_js[i].call(root, root.Bokeh);\n",
       "    }\n",
       "    if (force === true) {\n",
       "        display_loaded();\n",
       "      }} else if (Date.now() < root._bokeh_timeout) {\n",
       "      setTimeout(run_inline_js, 100);\n",
       "    } else if (!root._bokeh_failed_load) {\n",
       "      console.log(\"Bokeh: BokehJS failed to load within specified timeout.\");\n",
       "      root._bokeh_failed_load = true;\n",
       "    } else if (force !== true) {\n",
       "      var cell = $(document.getElementById(\"1049\")).parents('.cell').data().cell;\n",
       "      cell.output_area.append_execute_result(NB_LOAD_WARNING)\n",
       "    }\n",
       "\n",
       "  }\n",
       "\n",
       "  if (root._bokeh_is_loading === 0) {\n",
       "    console.debug(\"Bokeh: BokehJS loaded, going straight to plotting\");\n",
       "    run_inline_js();\n",
       "  } else {\n",
       "    load_libs(css_urls, js_urls, function() {\n",
       "      console.debug(\"Bokeh: BokehJS plotting callback run at\", now());\n",
       "      run_inline_js();\n",
       "    });\n",
       "  }\n",
       "}(window));"
      ],
      "application/vnd.bokehjs_load.v0+json": "\n(function(root) {\n  function now() {\n    return new Date();\n  }\n\n  var force = true;\n\n  if (typeof root._bokeh_onload_callbacks === \"undefined\" || force === true) {\n    root._bokeh_onload_callbacks = [];\n    root._bokeh_is_loading = undefined;\n  }\n\n  \n\n  \n  if (typeof (root._bokeh_timeout) === \"undefined\" || force === true) {\n    root._bokeh_timeout = Date.now() + 5000;\n    root._bokeh_failed_load = false;\n  }\n\n  var NB_LOAD_WARNING = {'data': {'text/html':\n     \"<div style='background-color: #fdd'>\\n\"+\n     \"<p>\\n\"+\n     \"BokehJS does not appear to have successfully loaded. If loading BokehJS from CDN, this \\n\"+\n     \"may be due to a slow or bad network connection. Possible fixes:\\n\"+\n     \"</p>\\n\"+\n     \"<ul>\\n\"+\n     \"<li>re-rerun `output_notebook()` to attempt to load from CDN again, or</li>\\n\"+\n     \"<li>use INLINE resources instead, as so:</li>\\n\"+\n     \"</ul>\\n\"+\n     \"<code>\\n\"+\n     \"from bokeh.resources import INLINE\\n\"+\n     \"output_notebook(resources=INLINE)\\n\"+\n     \"</code>\\n\"+\n     \"</div>\"}};\n\n  function display_loaded() {\n    var el = document.getElementById(\"1049\");\n    if (el != null) {\n      el.textContent = \"BokehJS is loading...\";\n    }\n    if (root.Bokeh !== undefined) {\n      if (el != null) {\n        el.textContent = \"BokehJS \" + root.Bokeh.version + \" successfully loaded.\";\n      }\n    } else if (Date.now() < root._bokeh_timeout) {\n      setTimeout(display_loaded, 100)\n    }\n  }\n\n\n  function run_callbacks() {\n    try {\n      root._bokeh_onload_callbacks.forEach(function(callback) {\n        if (callback != null)\n          callback();\n      });\n    } finally {\n      delete root._bokeh_onload_callbacks\n    }\n    console.debug(\"Bokeh: all callbacks have finished\");\n  }\n\n  function load_libs(css_urls, js_urls, callback) {\n    if (css_urls == null) css_urls = [];\n    if (js_urls == null) js_urls = [];\n\n    root._bokeh_onload_callbacks.push(callback);\n    if (root._bokeh_is_loading > 0) {\n      console.debug(\"Bokeh: BokehJS is being loaded, scheduling callback at\", now());\n      return null;\n    }\n    if (js_urls == null || js_urls.length === 0) {\n      run_callbacks();\n      return null;\n    }\n    console.debug(\"Bokeh: BokehJS not loaded, scheduling load and callback at\", now());\n    root._bokeh_is_loading = css_urls.length + js_urls.length;\n\n    function on_load() {\n      root._bokeh_is_loading--;\n      if (root._bokeh_is_loading === 0) {\n        console.debug(\"Bokeh: all BokehJS libraries/stylesheets loaded\");\n        run_callbacks()\n      }\n    }\n\n    function on_error() {\n      console.error(\"failed to load \" + url);\n    }\n\n    for (var i = 0; i < css_urls.length; i++) {\n      var url = css_urls[i];\n      const element = document.createElement(\"link\");\n      element.onload = on_load;\n      element.onerror = on_error;\n      element.rel = \"stylesheet\";\n      element.type = \"text/css\";\n      element.href = url;\n      console.debug(\"Bokeh: injecting link tag for BokehJS stylesheet: \", url);\n      document.body.appendChild(element);\n    }\n\n    const hashes = {\"https://cdn.bokeh.org/bokeh/release/bokeh-2.2.2.min.js\": \"JayppSWSRBsibIZqI8S4vAb1oFgLL0uhNvSn8cmArlOvYOwfFjYeyY5UWwJ+K0SU\", \"https://cdn.bokeh.org/bokeh/release/bokeh-widgets-2.2.2.min.js\": \"G0/Tv/Yy/zEPNsnW0Qif/FOsGesd+KIrKg/QLmvQmReuUW9qmSP7mAmr0VpiUNr3\", \"https://cdn.bokeh.org/bokeh/release/bokeh-tables-2.2.2.min.js\": \"VLYHEbLQDk5G1+/4ALU0myoJPMEUsngWry2fzYorFOUmarjGRPLLURaeK/on6JqX\"};\n\n    for (var i = 0; i < js_urls.length; i++) {\n      var url = js_urls[i];\n      var element = document.createElement('script');\n      element.onload = on_load;\n      element.onerror = on_error;\n      element.async = false;\n      element.src = url;\n      if (url in hashes) {\n        element.crossOrigin = \"anonymous\";\n        element.integrity = \"sha384-\" + hashes[url];\n      }\n      console.debug(\"Bokeh: injecting script tag for BokehJS library: \", url);\n      document.head.appendChild(element);\n    }\n  };\n\n  function inject_raw_css(css) {\n    const element = document.createElement(\"style\");\n    element.appendChild(document.createTextNode(css));\n    document.body.appendChild(element);\n  }\n\n  \n  var js_urls = [\"https://cdn.bokeh.org/bokeh/release/bokeh-2.2.2.min.js\", \"https://cdn.bokeh.org/bokeh/release/bokeh-widgets-2.2.2.min.js\", \"https://cdn.bokeh.org/bokeh/release/bokeh-tables-2.2.2.min.js\"];\n  var css_urls = [];\n  \n\n  var inline_js = [\n    function(Bokeh) {\n      Bokeh.set_log_level(\"info\");\n    },\n    function(Bokeh) {\n    \n    \n    }\n  ];\n\n  function run_inline_js() {\n    \n    if (root.Bokeh !== undefined || force === true) {\n      \n    for (var i = 0; i < inline_js.length; i++) {\n      inline_js[i].call(root, root.Bokeh);\n    }\n    if (force === true) {\n        display_loaded();\n      }} else if (Date.now() < root._bokeh_timeout) {\n      setTimeout(run_inline_js, 100);\n    } else if (!root._bokeh_failed_load) {\n      console.log(\"Bokeh: BokehJS failed to load within specified timeout.\");\n      root._bokeh_failed_load = true;\n    } else if (force !== true) {\n      var cell = $(document.getElementById(\"1049\")).parents('.cell').data().cell;\n      cell.output_area.append_execute_result(NB_LOAD_WARNING)\n    }\n\n  }\n\n  if (root._bokeh_is_loading === 0) {\n    console.debug(\"Bokeh: BokehJS loaded, going straight to plotting\");\n    run_inline_js();\n  } else {\n    load_libs(css_urls, js_urls, function() {\n      console.debug(\"Bokeh: BokehJS plotting callback run at\", now());\n      run_inline_js();\n    });\n  }\n}(window));"
     },
     "metadata": {},
     "output_type": "display_data"
    },
    {
     "data": {
      "text/html": [
       "\n",
       "\n",
       "\n",
       "\n",
       "\n",
       "\n",
       "  <div class=\"bk-root\" id=\"83d613d5-e086-4c50-b702-71bd0cddf38e\" data-root-id=\"1001\"></div>\n"
      ]
     },
     "metadata": {},
     "output_type": "display_data"
    },
    {
     "data": {
      "application/javascript": [
       "(function(root) {\n",
       "  function embed_document(root) {\n",
       "    \n",
       "  var docs_json = {\"062117b0-a5ab-4912-a1b4-a941aee603ed\":{\"roots\":{\"references\":[{\"attributes\":{\"below\":[{\"id\":\"1012\"}],\"center\":[{\"id\":\"1015\"},{\"id\":\"1019\"},{\"id\":\"1047\"}],\"left\":[{\"id\":\"1016\"}],\"renderers\":[{\"id\":\"1037\"}],\"title\":{\"id\":\"1002\"},\"toolbar\":{\"id\":\"1027\"},\"x_range\":{\"id\":\"1004\"},\"x_scale\":{\"id\":\"1008\"},\"y_range\":{\"id\":\"1006\"},\"y_scale\":{\"id\":\"1010\"}},\"id\":\"1001\",\"subtype\":\"Figure\",\"type\":\"Plot\"},{\"attributes\":{},\"id\":\"1024\",\"type\":\"ResetTool\"},{\"attributes\":{\"line_color\":\"#1f77b4\",\"line_width\":2,\"x\":{\"field\":\"x\"},\"y\":{\"field\":\"y\"}},\"id\":\"1035\",\"type\":\"Line\"},{\"attributes\":{\"line_alpha\":0.1,\"line_color\":\"#1f77b4\",\"line_width\":2,\"x\":{\"field\":\"x\"},\"y\":{\"field\":\"y\"}},\"id\":\"1036\",\"type\":\"Line\"},{\"attributes\":{\"source\":{\"id\":\"1034\"}},\"id\":\"1038\",\"type\":\"CDSView\"},{\"attributes\":{\"items\":[{\"id\":\"1048\"}]},\"id\":\"1047\",\"type\":\"Legend\"},{\"attributes\":{},\"id\":\"1041\",\"type\":\"BasicTickFormatter\"},{\"attributes\":{\"label\":{\"value\":\"Temp.\"},\"renderers\":[{\"id\":\"1037\"}]},\"id\":\"1048\",\"type\":\"LegendItem\"},{\"attributes\":{},\"id\":\"1006\",\"type\":\"DataRange1d\"},{\"attributes\":{},\"id\":\"1043\",\"type\":\"BasicTickFormatter\"},{\"attributes\":{\"data_source\":{\"id\":\"1034\"},\"glyph\":{\"id\":\"1035\"},\"hover_glyph\":null,\"muted_glyph\":null,\"nonselection_glyph\":{\"id\":\"1036\"},\"selection_glyph\":null,\"view\":{\"id\":\"1038\"}},\"id\":\"1037\",\"type\":\"GlyphRenderer\"},{\"attributes\":{\"bottom_units\":\"screen\",\"fill_alpha\":0.5,\"fill_color\":\"lightgrey\",\"left_units\":\"screen\",\"level\":\"overlay\",\"line_alpha\":1.0,\"line_color\":\"black\",\"line_dash\":[4,4],\"line_width\":2,\"right_units\":\"screen\",\"top_units\":\"screen\"},\"id\":\"1026\",\"type\":\"BoxAnnotation\"},{\"attributes\":{\"text\":\"Simple line example\"},\"id\":\"1002\",\"type\":\"Title\"},{\"attributes\":{},\"id\":\"1013\",\"type\":\"BasicTicker\"},{\"attributes\":{\"axis_label\":\"x\",\"formatter\":{\"id\":\"1043\"},\"ticker\":{\"id\":\"1013\"}},\"id\":\"1012\",\"type\":\"LinearAxis\"},{\"attributes\":{\"data\":{\"x\":[1,2,3,4,5],\"y\":[6,7,2,4,5]},\"selected\":{\"id\":\"1045\"},\"selection_policy\":{\"id\":\"1044\"}},\"id\":\"1034\",\"type\":\"ColumnDataSource\"},{\"attributes\":{\"axis\":{\"id\":\"1012\"},\"ticker\":null},\"id\":\"1015\",\"type\":\"Grid\"},{\"attributes\":{},\"id\":\"1021\",\"type\":\"WheelZoomTool\"},{\"attributes\":{},\"id\":\"1044\",\"type\":\"UnionRenderers\"},{\"attributes\":{},\"id\":\"1004\",\"type\":\"DataRange1d\"},{\"attributes\":{\"axis_label\":\"y\",\"formatter\":{\"id\":\"1041\"},\"ticker\":{\"id\":\"1017\"}},\"id\":\"1016\",\"type\":\"LinearAxis\"},{\"attributes\":{},\"id\":\"1010\",\"type\":\"LinearScale\"},{\"attributes\":{},\"id\":\"1045\",\"type\":\"Selection\"},{\"attributes\":{},\"id\":\"1008\",\"type\":\"LinearScale\"},{\"attributes\":{\"axis\":{\"id\":\"1016\"},\"dimension\":1,\"ticker\":null},\"id\":\"1019\",\"type\":\"Grid\"},{\"attributes\":{},\"id\":\"1017\",\"type\":\"BasicTicker\"},{\"attributes\":{},\"id\":\"1025\",\"type\":\"HelpTool\"},{\"attributes\":{\"active_drag\":\"auto\",\"active_inspect\":\"auto\",\"active_multi\":null,\"active_scroll\":\"auto\",\"active_tap\":\"auto\",\"tools\":[{\"id\":\"1020\"},{\"id\":\"1021\"},{\"id\":\"1022\"},{\"id\":\"1023\"},{\"id\":\"1024\"},{\"id\":\"1025\"}]},\"id\":\"1027\",\"type\":\"Toolbar\"},{\"attributes\":{},\"id\":\"1020\",\"type\":\"PanTool\"},{\"attributes\":{\"overlay\":{\"id\":\"1026\"}},\"id\":\"1022\",\"type\":\"BoxZoomTool\"},{\"attributes\":{},\"id\":\"1023\",\"type\":\"SaveTool\"}],\"root_ids\":[\"1001\"]},\"title\":\"Bokeh Application\",\"version\":\"2.2.2\"}};\n",
       "  var render_items = [{\"docid\":\"062117b0-a5ab-4912-a1b4-a941aee603ed\",\"root_ids\":[\"1001\"],\"roots\":{\"1001\":\"83d613d5-e086-4c50-b702-71bd0cddf38e\"}}];\n",
       "  root.Bokeh.embed.embed_items_notebook(docs_json, render_items);\n",
       "\n",
       "  }\n",
       "  if (root.Bokeh !== undefined) {\n",
       "    embed_document(root);\n",
       "  } else {\n",
       "    var attempts = 0;\n",
       "    var timer = setInterval(function(root) {\n",
       "      if (root.Bokeh !== undefined) {\n",
       "        clearInterval(timer);\n",
       "        embed_document(root);\n",
       "      } else {\n",
       "        attempts++;\n",
       "        if (attempts > 100) {\n",
       "          clearInterval(timer);\n",
       "          console.log(\"Bokeh: ERROR: Unable to run BokehJS code because BokehJS library is missing\");\n",
       "        }\n",
       "      }\n",
       "    }, 10, root)\n",
       "  }\n",
       "})(window);"
      ],
      "application/vnd.bokehjs_exec.v0+json": ""
     },
     "metadata": {
      "application/vnd.bokehjs_exec.v0+json": {
       "id": "1001"
      }
     },
     "output_type": "display_data"
    }
   ],
   "source": [
    "from bokeh.plotting import figure, output_notebook, show, save\n",
    "#Define two lists containing the data for your line chart:\n",
    "\n",
    "# prepare some data\n",
    "x = [1, 2, 3, 4, 5]\n",
    "y = [6, 7, 2, 4, 5]\n",
    "\n",
    "# create a new plot with a title and axis labels\n",
    "p = figure(title=\"Simple line example\", x_axis_label='x', y_axis_label='y')\n",
    "\n",
    "# add a line renderer with legend and line thickness to the plot\n",
    "p.line(x, y, legend_label=\"Temp.\", line_width=2)\n",
    "\n",
    "# show the results\n",
    "output_notebook() # uncomment this line if you want to open a browser window with the plot\n",
    "show(p)"
   ]
  },
  {
   "cell_type": "markdown",
   "id": "ea5b3632",
   "metadata": {},
   "source": [
    "## Combining multiple graphs"
   ]
  },
  {
   "cell_type": "code",
   "execution_count": 3,
   "id": "68ad878f",
   "metadata": {},
   "outputs": [
    {
     "data": {
      "text/html": [
       "\n",
       "\n",
       "\n",
       "\n",
       "\n",
       "\n",
       "  <div class=\"bk-root\" id=\"cc81dbcf-b1f4-4113-bd31-49ad50962b81\" data-root-id=\"1098\"></div>\n"
      ]
     },
     "metadata": {},
     "output_type": "display_data"
    },
    {
     "data": {
      "application/javascript": [
       "(function(root) {\n",
       "  function embed_document(root) {\n",
       "    \n",
       "  var docs_json = {\"d65a9cc6-f85b-4dfa-bb89-be35b7bb62ba\":{\"roots\":{\"references\":[{\"attributes\":{\"below\":[{\"id\":\"1109\"}],\"center\":[{\"id\":\"1112\"},{\"id\":\"1116\"},{\"id\":\"1144\"}],\"left\":[{\"id\":\"1113\"}],\"renderers\":[{\"id\":\"1134\"},{\"id\":\"1149\"},{\"id\":\"1165\"}],\"title\":{\"id\":\"1099\"},\"toolbar\":{\"id\":\"1124\"},\"x_range\":{\"id\":\"1101\"},\"x_scale\":{\"id\":\"1105\"},\"y_range\":{\"id\":\"1103\"},\"y_scale\":{\"id\":\"1107\"}},\"id\":\"1098\",\"subtype\":\"Figure\",\"type\":\"Plot\"},{\"attributes\":{},\"id\":\"1140\",\"type\":\"BasicTickFormatter\"},{\"attributes\":{},\"id\":\"1122\",\"type\":\"HelpTool\"},{\"attributes\":{\"active_drag\":\"auto\",\"active_inspect\":\"auto\",\"active_multi\":null,\"active_scroll\":\"auto\",\"active_tap\":\"auto\",\"tools\":[{\"id\":\"1117\"},{\"id\":\"1118\"},{\"id\":\"1119\"},{\"id\":\"1120\"},{\"id\":\"1121\"},{\"id\":\"1122\"}]},\"id\":\"1124\",\"type\":\"Toolbar\"},{\"attributes\":{},\"id\":\"1118\",\"type\":\"WheelZoomTool\"},{\"attributes\":{\"overlay\":{\"id\":\"1123\"}},\"id\":\"1119\",\"type\":\"BoxZoomTool\"},{\"attributes\":{},\"id\":\"1120\",\"type\":\"SaveTool\"},{\"attributes\":{},\"id\":\"1121\",\"type\":\"ResetTool\"},{\"attributes\":{\"line_alpha\":0.1,\"line_color\":\"blue\",\"line_width\":2,\"x\":{\"field\":\"x\"},\"y\":{\"field\":\"y\"}},\"id\":\"1133\",\"type\":\"Line\"},{\"attributes\":{},\"id\":\"1141\",\"type\":\"UnionRenderers\"},{\"attributes\":{\"line_color\":\"blue\",\"line_width\":2,\"x\":{\"field\":\"x\"},\"y\":{\"field\":\"y\"}},\"id\":\"1132\",\"type\":\"Line\"},{\"attributes\":{\"source\":{\"id\":\"1131\"}},\"id\":\"1135\",\"type\":\"CDSView\"},{\"attributes\":{\"source\":{\"id\":\"1162\"}},\"id\":\"1166\",\"type\":\"CDSView\"},{\"attributes\":{\"line_alpha\":0.1,\"line_color\":\"green\",\"line_width\":2,\"x\":{\"field\":\"x\"},\"y\":{\"field\":\"y\"}},\"id\":\"1164\",\"type\":\"Line\"},{\"attributes\":{\"data_source\":{\"id\":\"1162\"},\"glyph\":{\"id\":\"1163\"},\"hover_glyph\":null,\"muted_glyph\":null,\"nonselection_glyph\":{\"id\":\"1164\"},\"selection_glyph\":null,\"view\":{\"id\":\"1166\"}},\"id\":\"1165\",\"type\":\"GlyphRenderer\"},{\"attributes\":{\"items\":[{\"id\":\"1145\"},{\"id\":\"1161\"},{\"id\":\"1179\"}]},\"id\":\"1144\",\"type\":\"Legend\"},{\"attributes\":{\"label\":{\"value\":\"Temp.\"},\"renderers\":[{\"id\":\"1134\"}]},\"id\":\"1145\",\"type\":\"LegendItem\"},{\"attributes\":{\"label\":{\"value\":\"Objects\"},\"renderers\":[{\"id\":\"1165\"}]},\"id\":\"1179\",\"type\":\"LegendItem\"},{\"attributes\":{\"line_color\":\"red\",\"line_width\":2,\"x\":{\"field\":\"x\"},\"y\":{\"field\":\"y\"}},\"id\":\"1147\",\"type\":\"Line\"},{\"attributes\":{},\"id\":\"1176\",\"type\":\"UnionRenderers\"},{\"attributes\":{},\"id\":\"1142\",\"type\":\"Selection\"},{\"attributes\":{},\"id\":\"1177\",\"type\":\"Selection\"},{\"attributes\":{\"data\":{\"x\":[1,2,3,4,5],\"y\":[4,5,5,7,2]},\"selected\":{\"id\":\"1177\"},\"selection_policy\":{\"id\":\"1176\"}},\"id\":\"1162\",\"type\":\"ColumnDataSource\"},{\"attributes\":{\"data_source\":{\"id\":\"1131\"},\"glyph\":{\"id\":\"1132\"},\"hover_glyph\":null,\"muted_glyph\":null,\"nonselection_glyph\":{\"id\":\"1133\"},\"selection_glyph\":null,\"view\":{\"id\":\"1135\"}},\"id\":\"1134\",\"type\":\"GlyphRenderer\"},{\"attributes\":{\"source\":{\"id\":\"1146\"}},\"id\":\"1150\",\"type\":\"CDSView\"},{\"attributes\":{},\"id\":\"1138\",\"type\":\"BasicTickFormatter\"},{\"attributes\":{\"line_alpha\":0.1,\"line_color\":\"red\",\"line_width\":2,\"x\":{\"field\":\"x\"},\"y\":{\"field\":\"y\"}},\"id\":\"1148\",\"type\":\"Line\"},{\"attributes\":{\"data_source\":{\"id\":\"1146\"},\"glyph\":{\"id\":\"1147\"},\"hover_glyph\":null,\"muted_glyph\":null,\"nonselection_glyph\":{\"id\":\"1148\"},\"selection_glyph\":null,\"view\":{\"id\":\"1150\"}},\"id\":\"1149\",\"type\":\"GlyphRenderer\"},{\"attributes\":{\"line_color\":\"green\",\"line_width\":2,\"x\":{\"field\":\"x\"},\"y\":{\"field\":\"y\"}},\"id\":\"1163\",\"type\":\"Line\"},{\"attributes\":{\"data\":{\"x\":[1,2,3,4,5],\"y\":[6,7,2,4,5]},\"selected\":{\"id\":\"1142\"},\"selection_policy\":{\"id\":\"1141\"}},\"id\":\"1131\",\"type\":\"ColumnDataSource\"},{\"attributes\":{\"bottom_units\":\"screen\",\"fill_alpha\":0.5,\"fill_color\":\"lightgrey\",\"left_units\":\"screen\",\"level\":\"overlay\",\"line_alpha\":1.0,\"line_color\":\"black\",\"line_dash\":[4,4],\"line_width\":2,\"right_units\":\"screen\",\"top_units\":\"screen\"},\"id\":\"1123\",\"type\":\"BoxAnnotation\"},{\"attributes\":{\"text\":\"Multiple line example\"},\"id\":\"1099\",\"type\":\"Title\"},{\"attributes\":{\"data\":{\"x\":[1,2,3,4,5],\"y\":[2,3,4,5,6]},\"selected\":{\"id\":\"1159\"},\"selection_policy\":{\"id\":\"1158\"}},\"id\":\"1146\",\"type\":\"ColumnDataSource\"},{\"attributes\":{\"label\":{\"value\":\"Rate\"},\"renderers\":[{\"id\":\"1149\"}]},\"id\":\"1161\",\"type\":\"LegendItem\"},{\"attributes\":{},\"id\":\"1101\",\"type\":\"DataRange1d\"},{\"attributes\":{},\"id\":\"1110\",\"type\":\"BasicTicker\"},{\"attributes\":{},\"id\":\"1117\",\"type\":\"PanTool\"},{\"attributes\":{},\"id\":\"1158\",\"type\":\"UnionRenderers\"},{\"attributes\":{},\"id\":\"1103\",\"type\":\"DataRange1d\"},{\"attributes\":{\"axis_label\":\"x\",\"formatter\":{\"id\":\"1140\"},\"ticker\":{\"id\":\"1110\"}},\"id\":\"1109\",\"type\":\"LinearAxis\"},{\"attributes\":{},\"id\":\"1159\",\"type\":\"Selection\"},{\"attributes\":{},\"id\":\"1107\",\"type\":\"LinearScale\"},{\"attributes\":{},\"id\":\"1105\",\"type\":\"LinearScale\"},{\"attributes\":{\"axis\":{\"id\":\"1109\"},\"ticker\":null},\"id\":\"1112\",\"type\":\"Grid\"},{\"attributes\":{\"axis_label\":\"y\",\"formatter\":{\"id\":\"1138\"},\"ticker\":{\"id\":\"1114\"}},\"id\":\"1113\",\"type\":\"LinearAxis\"},{\"attributes\":{\"axis\":{\"id\":\"1113\"},\"dimension\":1,\"ticker\":null},\"id\":\"1116\",\"type\":\"Grid\"},{\"attributes\":{},\"id\":\"1114\",\"type\":\"BasicTicker\"}],\"root_ids\":[\"1098\"]},\"title\":\"Bokeh Application\",\"version\":\"2.2.2\"}};\n",
       "  var render_items = [{\"docid\":\"d65a9cc6-f85b-4dfa-bb89-be35b7bb62ba\",\"root_ids\":[\"1098\"],\"roots\":{\"1098\":\"cc81dbcf-b1f4-4113-bd31-49ad50962b81\"}}];\n",
       "  root.Bokeh.embed.embed_items_notebook(docs_json, render_items);\n",
       "\n",
       "  }\n",
       "  if (root.Bokeh !== undefined) {\n",
       "    embed_document(root);\n",
       "  } else {\n",
       "    var attempts = 0;\n",
       "    var timer = setInterval(function(root) {\n",
       "      if (root.Bokeh !== undefined) {\n",
       "        clearInterval(timer);\n",
       "        embed_document(root);\n",
       "      } else {\n",
       "        attempts++;\n",
       "        if (attempts > 100) {\n",
       "          clearInterval(timer);\n",
       "          console.log(\"Bokeh: ERROR: Unable to run BokehJS code because BokehJS library is missing\");\n",
       "        }\n",
       "      }\n",
       "    }, 10, root)\n",
       "  }\n",
       "})(window);"
      ],
      "application/vnd.bokehjs_exec.v0+json": ""
     },
     "metadata": {
      "application/vnd.bokehjs_exec.v0+json": {
       "id": "1098"
      }
     },
     "output_type": "display_data"
    }
   ],
   "source": [
    "# prepare some data\n",
    "x = [1, 2, 3, 4, 5]\n",
    "y1 = [6, 7, 2, 4, 5]\n",
    "y2 = [2, 3, 4, 5, 6]\n",
    "y3 = [4, 5, 5, 7, 2]\n",
    "\n",
    "# create a new plot with a title and axis labels\n",
    "p = figure(title=\"Multiple line example\", x_axis_label=\"x\", y_axis_label=\"y\")\n",
    "\n",
    "# add multiple renderers\n",
    "p.line(x, y1, legend_label=\"Temp.\", line_color=\"blue\", line_width=2)\n",
    "p.line(x, y2, legend_label=\"Rate\", line_color=\"red\", line_width=2)\n",
    "p.line(x, y3, legend_label=\"Objects\", line_color=\"green\", line_width=2)\n",
    "\n",
    "# show the results\n",
    "show(p)\n"
   ]
  },
  {
   "cell_type": "markdown",
   "id": "46ccc179",
   "metadata": {},
   "source": [
    "## Recap: building visualizations\n",
    "You just completed all the basic steps that most basic visualizations with Bokeh’s bokeh.plotting interface require:\n",
    "\n",
    "#### Preparing the data\n",
    "You used a plain Python list, but other forms of serialized data work as well.\n",
    "\n",
    "#### Calling the figure() function\n",
    "This creates a plot with the most common default options. You can customize various properties of your plot, such as its title, tools, and axes labels.\n",
    "\n",
    "#### Adding renderers\n",
    "You used line() to create a line. Renderers have various options that allow you to specify visual attributes such as colors, legends, and widths.\n",
    "\n",
    "#### Asking Bokeh to show() or save() the results\n",
    "These functions either save your plot to an HTML file or display it in a browser.\n",
    "Use **output_notebook()** to display the file in jupyter"
   ]
  },
  {
   "cell_type": "markdown",
   "id": "94a4c758",
   "metadata": {},
   "source": [
    "# First steps 2: Adding and customizing renderers\n",
    "In the previous first steps guide, you used Bokeh’s figure() function to render line charts.\n",
    "\n",
    "In this section, you will use different renderer functions to create various other kinds of graphs. You will also customize what your glyphs look like.\n",
    "\n",
    "Rendering different glyphs\n",
    "Bokeh’s plotting interface supports many different glyphs, such as lines, bars, hex tiles, or other polygons.\n",
    "\n",
    "A full list of all supported glyph methods is available in Bokeh’s reference guide for the [figure()](https://docs.bokeh.org/en/latest/docs/reference/plotting/figure.html#bokeh.plotting.figure) function. For detailed information on Bokeh’s glyphs, see [Plotting with basic glyphs](https://docs.bokeh.org/en/latest/docs/user_guide/plotting.html#userguide-plotting) in Bokeh’s user guide.\n",
    "\n",
    "## Rendering circles"
   ]
  },
  {
   "cell_type": "code",
   "execution_count": 4,
   "id": "0cfd0104",
   "metadata": {},
   "outputs": [
    {
     "data": {
      "text/html": [
       "\n",
       "\n",
       "\n",
       "\n",
       "\n",
       "\n",
       "  <div class=\"bk-root\" id=\"069bb60c-bf1f-476c-b8f2-e4d3614ce822\" data-root-id=\"1260\"></div>\n"
      ]
     },
     "metadata": {},
     "output_type": "display_data"
    },
    {
     "data": {
      "application/javascript": [
       "(function(root) {\n",
       "  function embed_document(root) {\n",
       "    \n",
       "  var docs_json = {\"58256a69-9a16-48af-af13-1674e6951406\":{\"roots\":{\"references\":[{\"attributes\":{\"below\":[{\"id\":\"1271\"}],\"center\":[{\"id\":\"1274\"},{\"id\":\"1278\"},{\"id\":\"1306\"}],\"left\":[{\"id\":\"1275\"}],\"renderers\":[{\"id\":\"1296\"},{\"id\":\"1311\"},{\"id\":\"1327\"}],\"title\":{\"id\":\"1261\"},\"toolbar\":{\"id\":\"1286\"},\"x_range\":{\"id\":\"1263\"},\"x_scale\":{\"id\":\"1267\"},\"y_range\":{\"id\":\"1265\"},\"y_scale\":{\"id\":\"1269\"}},\"id\":\"1260\",\"subtype\":\"Figure\",\"type\":\"Plot\"},{\"attributes\":{\"label\":{\"value\":\"Rate\"},\"renderers\":[{\"id\":\"1311\"}]},\"id\":\"1323\",\"type\":\"LegendItem\"},{\"attributes\":{},\"id\":\"1338\",\"type\":\"UnionRenderers\"},{\"attributes\":{\"source\":{\"id\":\"1308\"}},\"id\":\"1312\",\"type\":\"CDSView\"},{\"attributes\":{\"fill_alpha\":{\"value\":0.1},\"fill_color\":{\"value\":\"red\"},\"line_alpha\":{\"value\":0.1},\"line_color\":{\"value\":\"red\"},\"top\":{\"field\":\"top\"},\"width\":{\"value\":0.5},\"x\":{\"field\":\"x\"}},\"id\":\"1310\",\"type\":\"VBar\"},{\"attributes\":{},\"id\":\"1339\",\"type\":\"Selection\"},{\"attributes\":{\"data\":{\"x\":[1,2,3,4,5],\"y\":[4,5,5,7,2]},\"selected\":{\"id\":\"1339\"},\"selection_policy\":{\"id\":\"1338\"}},\"id\":\"1324\",\"type\":\"ColumnDataSource\"},{\"attributes\":{},\"id\":\"1300\",\"type\":\"BasicTickFormatter\"},{\"attributes\":{\"fill_alpha\":{\"value\":0.1},\"fill_color\":{\"value\":\"#1f77b4\"},\"line_alpha\":{\"value\":0.1},\"line_color\":{\"value\":\"yellow\"},\"size\":{\"units\":\"screen\",\"value\":12},\"x\":{\"field\":\"x\"},\"y\":{\"field\":\"y\"}},\"id\":\"1326\",\"type\":\"Circle\"},{\"attributes\":{\"bottom_units\":\"screen\",\"fill_alpha\":0.5,\"fill_color\":\"lightgrey\",\"left_units\":\"screen\",\"level\":\"overlay\",\"line_alpha\":1.0,\"line_color\":\"black\",\"line_dash\":[4,4],\"line_width\":2,\"right_units\":\"screen\",\"top_units\":\"screen\"},\"id\":\"1285\",\"type\":\"BoxAnnotation\"},{\"attributes\":{\"data_source\":{\"id\":\"1293\"},\"glyph\":{\"id\":\"1294\"},\"hover_glyph\":null,\"muted_glyph\":null,\"nonselection_glyph\":{\"id\":\"1295\"},\"selection_glyph\":null,\"view\":{\"id\":\"1297\"}},\"id\":\"1296\",\"type\":\"GlyphRenderer\"},{\"attributes\":{\"fill_color\":{\"value\":\"red\"},\"line_color\":{\"value\":\"red\"},\"top\":{\"field\":\"top\"},\"width\":{\"value\":0.5},\"x\":{\"field\":\"x\"}},\"id\":\"1309\",\"type\":\"VBar\"},{\"attributes\":{\"data_source\":{\"id\":\"1308\"},\"glyph\":{\"id\":\"1309\"},\"hover_glyph\":null,\"muted_glyph\":null,\"nonselection_glyph\":{\"id\":\"1310\"},\"selection_glyph\":null,\"view\":{\"id\":\"1312\"}},\"id\":\"1311\",\"type\":\"GlyphRenderer\"},{\"attributes\":{\"data\":{\"x\":[1,2,3,4,5],\"y\":[6,7,2,4,5]},\"selected\":{\"id\":\"1304\"},\"selection_policy\":{\"id\":\"1303\"}},\"id\":\"1293\",\"type\":\"ColumnDataSource\"},{\"attributes\":{\"text\":\"Multiple glyphs example\"},\"id\":\"1261\",\"type\":\"Title\"},{\"attributes\":{\"data\":{\"top\":[2,3,4,5,6],\"x\":[1,2,3,4,5]},\"selected\":{\"id\":\"1321\"},\"selection_policy\":{\"id\":\"1320\"}},\"id\":\"1308\",\"type\":\"ColumnDataSource\"},{\"attributes\":{},\"id\":\"1263\",\"type\":\"DataRange1d\"},{\"attributes\":{},\"id\":\"1272\",\"type\":\"BasicTicker\"},{\"attributes\":{},\"id\":\"1320\",\"type\":\"UnionRenderers\"},{\"attributes\":{},\"id\":\"1265\",\"type\":\"DataRange1d\"},{\"attributes\":{\"axis_label\":\"x\",\"formatter\":{\"id\":\"1302\"},\"ticker\":{\"id\":\"1272\"}},\"id\":\"1271\",\"type\":\"LinearAxis\"},{\"attributes\":{},\"id\":\"1321\",\"type\":\"Selection\"},{\"attributes\":{},\"id\":\"1269\",\"type\":\"LinearScale\"},{\"attributes\":{},\"id\":\"1267\",\"type\":\"LinearScale\"},{\"attributes\":{},\"id\":\"1302\",\"type\":\"BasicTickFormatter\"},{\"attributes\":{\"axis\":{\"id\":\"1271\"},\"ticker\":null},\"id\":\"1274\",\"type\":\"Grid\"},{\"attributes\":{},\"id\":\"1280\",\"type\":\"WheelZoomTool\"},{\"attributes\":{\"axis_label\":\"y\",\"formatter\":{\"id\":\"1300\"},\"ticker\":{\"id\":\"1276\"}},\"id\":\"1275\",\"type\":\"LinearAxis\"},{\"attributes\":{\"axis\":{\"id\":\"1275\"},\"dimension\":1,\"ticker\":null},\"id\":\"1278\",\"type\":\"Grid\"},{\"attributes\":{\"active_drag\":\"auto\",\"active_inspect\":\"auto\",\"active_multi\":null,\"active_scroll\":\"auto\",\"active_tap\":\"auto\",\"tools\":[{\"id\":\"1279\"},{\"id\":\"1280\"},{\"id\":\"1281\"},{\"id\":\"1282\"},{\"id\":\"1283\"},{\"id\":\"1284\"}]},\"id\":\"1286\",\"type\":\"Toolbar\"},{\"attributes\":{},\"id\":\"1276\",\"type\":\"BasicTicker\"},{\"attributes\":{},\"id\":\"1284\",\"type\":\"HelpTool\"},{\"attributes\":{},\"id\":\"1279\",\"type\":\"PanTool\"},{\"attributes\":{\"line_alpha\":0.1,\"line_color\":\"blue\",\"line_width\":2,\"x\":{\"field\":\"x\"},\"y\":{\"field\":\"y\"}},\"id\":\"1295\",\"type\":\"Line\"},{\"attributes\":{\"overlay\":{\"id\":\"1285\"}},\"id\":\"1281\",\"type\":\"BoxZoomTool\"},{\"attributes\":{},\"id\":\"1282\",\"type\":\"SaveTool\"},{\"attributes\":{},\"id\":\"1303\",\"type\":\"UnionRenderers\"},{\"attributes\":{},\"id\":\"1283\",\"type\":\"ResetTool\"},{\"attributes\":{\"line_color\":\"blue\",\"line_width\":2,\"x\":{\"field\":\"x\"},\"y\":{\"field\":\"y\"}},\"id\":\"1294\",\"type\":\"Line\"},{\"attributes\":{},\"id\":\"1304\",\"type\":\"Selection\"},{\"attributes\":{\"source\":{\"id\":\"1293\"}},\"id\":\"1297\",\"type\":\"CDSView\"},{\"attributes\":{\"source\":{\"id\":\"1324\"}},\"id\":\"1328\",\"type\":\"CDSView\"},{\"attributes\":{\"items\":[{\"id\":\"1307\"},{\"id\":\"1323\"},{\"id\":\"1341\"}]},\"id\":\"1306\",\"type\":\"Legend\"},{\"attributes\":{\"data_source\":{\"id\":\"1324\"},\"glyph\":{\"id\":\"1325\"},\"hover_glyph\":null,\"muted_glyph\":null,\"nonselection_glyph\":{\"id\":\"1326\"},\"selection_glyph\":null,\"view\":{\"id\":\"1328\"}},\"id\":\"1327\",\"type\":\"GlyphRenderer\"},{\"attributes\":{\"label\":{\"value\":\"Objects\"},\"renderers\":[{\"id\":\"1327\"}]},\"id\":\"1341\",\"type\":\"LegendItem\"},{\"attributes\":{\"fill_color\":{\"value\":\"#1f77b4\"},\"line_color\":{\"value\":\"yellow\"},\"size\":{\"units\":\"screen\",\"value\":12},\"x\":{\"field\":\"x\"},\"y\":{\"field\":\"y\"}},\"id\":\"1325\",\"type\":\"Circle\"},{\"attributes\":{\"label\":{\"value\":\"Temp.\"},\"renderers\":[{\"id\":\"1296\"}]},\"id\":\"1307\",\"type\":\"LegendItem\"}],\"root_ids\":[\"1260\"]},\"title\":\"Bokeh Application\",\"version\":\"2.2.2\"}};\n",
       "  var render_items = [{\"docid\":\"58256a69-9a16-48af-af13-1674e6951406\",\"root_ids\":[\"1260\"],\"roots\":{\"1260\":\"069bb60c-bf1f-476c-b8f2-e4d3614ce822\"}}];\n",
       "  root.Bokeh.embed.embed_items_notebook(docs_json, render_items);\n",
       "\n",
       "  }\n",
       "  if (root.Bokeh !== undefined) {\n",
       "    embed_document(root);\n",
       "  } else {\n",
       "    var attempts = 0;\n",
       "    var timer = setInterval(function(root) {\n",
       "      if (root.Bokeh !== undefined) {\n",
       "        clearInterval(timer);\n",
       "        embed_document(root);\n",
       "      } else {\n",
       "        attempts++;\n",
       "        if (attempts > 100) {\n",
       "          clearInterval(timer);\n",
       "          console.log(\"Bokeh: ERROR: Unable to run BokehJS code because BokehJS library is missing\");\n",
       "        }\n",
       "      }\n",
       "    }, 10, root)\n",
       "  }\n",
       "})(window);"
      ],
      "application/vnd.bokehjs_exec.v0+json": ""
     },
     "metadata": {
      "application/vnd.bokehjs_exec.v0+json": {
       "id": "1260"
      }
     },
     "output_type": "display_data"
    }
   ],
   "source": [
    "# prepare some data\n",
    "x = [1, 2, 3, 4, 5]\n",
    "y1 = [6, 7, 2, 4, 5]\n",
    "y2 = [2, 3, 4, 5, 6]\n",
    "y3 = [4, 5, 5, 7, 2]\n",
    "\n",
    "# create a new plot with a title and axis labels\n",
    "p = figure(title=\"Multiple glyphs example\", x_axis_label=\"x\", y_axis_label=\"y\")\n",
    "\n",
    "# add multiple renderers\n",
    "p.line(x, y1, legend_label=\"Temp.\", line_color=\"blue\", line_width=2)\n",
    "p.vbar(x=x, top=y2, legend_label=\"Rate\", width=0.5, bottom=0, color=\"red\")\n",
    "p.circle(x, y3, legend_label=\"Objects\", line_color=\"yellow\", size=12)\n",
    "\n",
    "# show the results\n",
    "show(p)"
   ]
  },
  {
   "cell_type": "markdown",
   "id": "172d7cb1",
   "metadata": {},
   "source": [
    "To learn more about bar graphs and other ways Bokeh handles categorical data, see [Handling categorical data](https://docs.bokeh.org/en/latest/docs/user_guide/categorical.html#userguide-categorical) in the user guide.\n",
    "\n",
    "## Customizing glyphs\n",
    "The different renderer functions accept various arguments to control what your glyphs look like."
   ]
  },
  {
   "cell_type": "markdown",
   "id": "fe91bb6b",
   "metadata": {},
   "source": [
    "### Defining properties of new glyphs\n",
    "The circle() function, for example, lets you define aspects like the color or diameter of the circles:\n",
    "\n",
    "- **fill_color**: the fill color of the circles\n",
    "- **fill_alpha**: the transparency of the fill color (any value between 0 and 1)\n",
    "- **line_color**: the fill color of the circles’ outlines\n",
    "- **size**: the size of the circles (in screen units or data units)\n",
    "- **legend_label**: legend entry for the circles\n",
    "\n",
    "#### colors\n",
    "In Bokeh, you can specify colors in several ways. For example:\n",
    "- Use one of the named CSS colors (for example, \"firebrick\")\n",
    "- Use hexadecimal values, prefaced with a # (for example \"#00ff00\")\n",
    "- Use a 3-tuple for RGB colors (for example, (100, 100, 255)\n",
    "- Use a 4-tuple for RGBA colors (for example (100, 100, 255, 0.5))\n",
    "\n",
    "Create circles with the legend label “Objects” and make the circles appear slightly transparent with a red fill color and blue outlines:\n"
   ]
  },
  {
   "cell_type": "code",
   "execution_count": 5,
   "id": "2c952f6d",
   "metadata": {},
   "outputs": [
    {
     "data": {
      "text/html": [
       "\n",
       "\n",
       "\n",
       "\n",
       "\n",
       "\n",
       "  <div class=\"bk-root\" id=\"86b417ad-7d8d-421d-9cec-7ff406759b04\" data-root-id=\"1434\"></div>\n"
      ]
     },
     "metadata": {},
     "output_type": "display_data"
    },
    {
     "data": {
      "application/javascript": [
       "(function(root) {\n",
       "  function embed_document(root) {\n",
       "    \n",
       "  var docs_json = {\"ca2cb8e7-32fc-45c8-9cc3-76f6371803ed\":{\"roots\":{\"references\":[{\"attributes\":{\"below\":[{\"id\":\"1445\"}],\"center\":[{\"id\":\"1448\"},{\"id\":\"1452\"},{\"id\":\"1480\"}],\"left\":[{\"id\":\"1449\"}],\"renderers\":[{\"id\":\"1470\"}],\"title\":{\"id\":\"1435\"},\"toolbar\":{\"id\":\"1460\"},\"x_range\":{\"id\":\"1437\"},\"x_scale\":{\"id\":\"1441\"},\"y_range\":{\"id\":\"1439\"},\"y_scale\":{\"id\":\"1443\"}},\"id\":\"1434\",\"subtype\":\"Figure\",\"type\":\"Plot\"},{\"attributes\":{\"data\":{\"x\":[1,2,3,4,5],\"y\":[4,5,5,7,2]},\"selected\":{\"id\":\"1479\"},\"selection_policy\":{\"id\":\"1478\"}},\"id\":\"1467\",\"type\":\"ColumnDataSource\"},{\"attributes\":{},\"id\":\"1457\",\"type\":\"ResetTool\"},{\"attributes\":{\"source\":{\"id\":\"1467\"}},\"id\":\"1471\",\"type\":\"CDSView\"},{\"attributes\":{},\"id\":\"1474\",\"type\":\"BasicTickFormatter\"},{\"attributes\":{\"label\":{\"value\":\"Objects\"},\"renderers\":[{\"id\":\"1470\"}]},\"id\":\"1481\",\"type\":\"LegendItem\"},{\"attributes\":{},\"id\":\"1476\",\"type\":\"BasicTickFormatter\"},{\"attributes\":{},\"id\":\"1446\",\"type\":\"BasicTicker\"},{\"attributes\":{\"bottom_units\":\"screen\",\"fill_alpha\":0.5,\"fill_color\":\"lightgrey\",\"left_units\":\"screen\",\"level\":\"overlay\",\"line_alpha\":1.0,\"line_color\":\"black\",\"line_dash\":[4,4],\"line_width\":2,\"right_units\":\"screen\",\"top_units\":\"screen\"},\"id\":\"1459\",\"type\":\"BoxAnnotation\"},{\"attributes\":{},\"id\":\"1437\",\"type\":\"DataRange1d\"},{\"attributes\":{\"fill_alpha\":{\"value\":0.1},\"fill_color\":{\"value\":\"red\"},\"line_alpha\":{\"value\":0.1},\"line_color\":{\"value\":\"blue\"},\"size\":{\"units\":\"screen\",\"value\":80},\"x\":{\"field\":\"x\"},\"y\":{\"field\":\"y\"}},\"id\":\"1469\",\"type\":\"Circle\"},{\"attributes\":{\"items\":[{\"id\":\"1481\"}]},\"id\":\"1480\",\"type\":\"Legend\"},{\"attributes\":{},\"id\":\"1439\",\"type\":\"DataRange1d\"},{\"attributes\":{\"data_source\":{\"id\":\"1467\"},\"glyph\":{\"id\":\"1468\"},\"hover_glyph\":null,\"muted_glyph\":null,\"nonselection_glyph\":{\"id\":\"1469\"},\"selection_glyph\":null,\"view\":{\"id\":\"1471\"}},\"id\":\"1470\",\"type\":\"GlyphRenderer\"},{\"attributes\":{},\"id\":\"1443\",\"type\":\"LinearScale\"},{\"attributes\":{\"text\":\"Glyphs properties example\"},\"id\":\"1435\",\"type\":\"Title\"},{\"attributes\":{},\"id\":\"1454\",\"type\":\"WheelZoomTool\"},{\"attributes\":{},\"id\":\"1441\",\"type\":\"LinearScale\"},{\"attributes\":{\"active_drag\":\"auto\",\"active_inspect\":\"auto\",\"active_multi\":null,\"active_scroll\":\"auto\",\"active_tap\":\"auto\",\"tools\":[{\"id\":\"1453\"},{\"id\":\"1454\"},{\"id\":\"1455\"},{\"id\":\"1456\"},{\"id\":\"1457\"},{\"id\":\"1458\"}]},\"id\":\"1460\",\"type\":\"Toolbar\"},{\"attributes\":{\"fill_alpha\":{\"value\":0.5},\"fill_color\":{\"value\":\"red\"},\"line_color\":{\"value\":\"blue\"},\"size\":{\"units\":\"screen\",\"value\":80},\"x\":{\"field\":\"x\"},\"y\":{\"field\":\"y\"}},\"id\":\"1468\",\"type\":\"Circle\"},{\"attributes\":{\"axis\":{\"id\":\"1445\"},\"ticker\":null},\"id\":\"1448\",\"type\":\"Grid\"},{\"attributes\":{\"axis_label\":\"x\",\"formatter\":{\"id\":\"1474\"},\"ticker\":{\"id\":\"1446\"}},\"id\":\"1445\",\"type\":\"LinearAxis\"},{\"attributes\":{\"axis_label\":\"y\",\"formatter\":{\"id\":\"1476\"},\"ticker\":{\"id\":\"1450\"}},\"id\":\"1449\",\"type\":\"LinearAxis\"},{\"attributes\":{\"axis\":{\"id\":\"1449\"},\"dimension\":1,\"ticker\":null},\"id\":\"1452\",\"type\":\"Grid\"},{\"attributes\":{},\"id\":\"1453\",\"type\":\"PanTool\"},{\"attributes\":{},\"id\":\"1478\",\"type\":\"UnionRenderers\"},{\"attributes\":{},\"id\":\"1450\",\"type\":\"BasicTicker\"},{\"attributes\":{},\"id\":\"1458\",\"type\":\"HelpTool\"},{\"attributes\":{},\"id\":\"1456\",\"type\":\"SaveTool\"},{\"attributes\":{},\"id\":\"1479\",\"type\":\"Selection\"},{\"attributes\":{\"overlay\":{\"id\":\"1459\"}},\"id\":\"1455\",\"type\":\"BoxZoomTool\"}],\"root_ids\":[\"1434\"]},\"title\":\"Bokeh Application\",\"version\":\"2.2.2\"}};\n",
       "  var render_items = [{\"docid\":\"ca2cb8e7-32fc-45c8-9cc3-76f6371803ed\",\"root_ids\":[\"1434\"],\"roots\":{\"1434\":\"86b417ad-7d8d-421d-9cec-7ff406759b04\"}}];\n",
       "  root.Bokeh.embed.embed_items_notebook(docs_json, render_items);\n",
       "\n",
       "  }\n",
       "  if (root.Bokeh !== undefined) {\n",
       "    embed_document(root);\n",
       "  } else {\n",
       "    var attempts = 0;\n",
       "    var timer = setInterval(function(root) {\n",
       "      if (root.Bokeh !== undefined) {\n",
       "        clearInterval(timer);\n",
       "        embed_document(root);\n",
       "      } else {\n",
       "        attempts++;\n",
       "        if (attempts > 100) {\n",
       "          clearInterval(timer);\n",
       "          console.log(\"Bokeh: ERROR: Unable to run BokehJS code because BokehJS library is missing\");\n",
       "        }\n",
       "      }\n",
       "    }, 10, root)\n",
       "  }\n",
       "})(window);"
      ],
      "application/vnd.bokehjs_exec.v0+json": ""
     },
     "metadata": {
      "application/vnd.bokehjs_exec.v0+json": {
       "id": "1434"
      }
     },
     "output_type": "display_data"
    }
   ],
   "source": [
    "# prepare some data\n",
    "x = [1, 2, 3, 4, 5]\n",
    "y = [4, 5, 5, 7, 2]\n",
    "\n",
    "# create a new plot with a title and axis labels\n",
    "p = figure(title=\"Glyphs properties example\", x_axis_label=\"x\", y_axis_label=\"y\")\n",
    "\n",
    "# add circle renderer with additional arguments\n",
    "p.circle(\n",
    "    x,\n",
    "    y,\n",
    "    legend_label=\"Objects\",\n",
    "    fill_color=\"red\",\n",
    "    fill_alpha=0.5,\n",
    "    line_color=\"blue\",\n",
    "    size=80,\n",
    ")\n",
    "\n",
    "# show the results\n",
    "show(p)"
   ]
  },
  {
   "cell_type": "markdown",
   "id": "19bcbf4b",
   "metadata": {},
   "source": [
    "### Altering properties of existing glyphs\n",
    "If you want to change any property after creating an object, you can define and overwrite the object’s attributes directly.\n",
    "\n",
    "Take the circles from above, for example. You defined the circles to have a red color by passing the argument fill_color=\"red\".\n",
    "\n",
    "To change the color of your circles from red to blue, you first need to assign a variable name (such as circle) to the new object when you call the circle() function.\n",
    "\n",
    "    circle = p.circle(\n",
    "        x,\n",
    "        y,\n",
    "        legend_label=\"Objects\",\n",
    "        fill_color=\"red\",\n",
    "        fill_alpha=0.5,\n",
    "        line_color=\"blue\",\n",
    "        size=80,\n",
    "        )\n",
    "    \n",
    "Next, use that variable to access the object’s glyph attribute and change its properties:\n",
    "\n",
    "    glyph = circle.glyph\n",
    "    glyph.fill_color = \"blue\"\n",
    "    \n",
    "Generate red circles once more, but this time change their color to blue before outputting the plot:\n"
   ]
  },
  {
   "cell_type": "code",
   "execution_count": 6,
   "id": "a0a3c949",
   "metadata": {},
   "outputs": [
    {
     "data": {
      "text/html": [
       "\n",
       "\n",
       "\n",
       "\n",
       "\n",
       "\n",
       "  <div class=\"bk-root\" id=\"edcf6f25-e026-490c-bf8c-8b237ebde540\" data-root-id=\"1562\"></div>\n"
      ]
     },
     "metadata": {},
     "output_type": "display_data"
    },
    {
     "data": {
      "application/javascript": [
       "(function(root) {\n",
       "  function embed_document(root) {\n",
       "    \n",
       "  var docs_json = {\"b4a7f08b-0db6-464e-ab1d-25adaddf63d7\":{\"roots\":{\"references\":[{\"attributes\":{\"below\":[{\"id\":\"1573\"}],\"center\":[{\"id\":\"1576\"},{\"id\":\"1580\"},{\"id\":\"1608\"}],\"left\":[{\"id\":\"1577\"}],\"renderers\":[{\"id\":\"1598\"}],\"title\":{\"id\":\"1563\"},\"toolbar\":{\"id\":\"1588\"},\"x_range\":{\"id\":\"1565\"},\"x_scale\":{\"id\":\"1569\"},\"y_range\":{\"id\":\"1567\"},\"y_scale\":{\"id\":\"1571\"}},\"id\":\"1562\",\"subtype\":\"Figure\",\"type\":\"Plot\"},{\"attributes\":{},\"id\":\"1567\",\"type\":\"DataRange1d\"},{\"attributes\":{},\"id\":\"1581\",\"type\":\"PanTool\"},{\"attributes\":{},\"id\":\"1586\",\"type\":\"HelpTool\"},{\"attributes\":{},\"id\":\"1606\",\"type\":\"UnionRenderers\"},{\"attributes\":{\"active_drag\":\"auto\",\"active_inspect\":\"auto\",\"active_multi\":null,\"active_scroll\":\"auto\",\"active_tap\":\"auto\",\"tools\":[{\"id\":\"1581\"},{\"id\":\"1582\"},{\"id\":\"1583\"},{\"id\":\"1584\"},{\"id\":\"1585\"},{\"id\":\"1586\"}]},\"id\":\"1588\",\"type\":\"Toolbar\"},{\"attributes\":{\"axis_label\":\"y\",\"formatter\":{\"id\":\"1604\"},\"ticker\":{\"id\":\"1578\"}},\"id\":\"1577\",\"type\":\"LinearAxis\"},{\"attributes\":{},\"id\":\"1607\",\"type\":\"Selection\"},{\"attributes\":{},\"id\":\"1569\",\"type\":\"LinearScale\"},{\"attributes\":{\"source\":{\"id\":\"1595\"}},\"id\":\"1599\",\"type\":\"CDSView\"},{\"attributes\":{\"label\":{\"value\":\"Objects\"},\"renderers\":[{\"id\":\"1598\"}]},\"id\":\"1609\",\"type\":\"LegendItem\"},{\"attributes\":{\"fill_alpha\":{\"value\":0.1},\"fill_color\":{\"value\":\"red\"},\"line_alpha\":{\"value\":0.1},\"line_color\":{\"value\":\"blue\"},\"size\":{\"units\":\"screen\",\"value\":80},\"x\":{\"field\":\"x\"},\"y\":{\"field\":\"y\"}},\"id\":\"1597\",\"type\":\"Circle\"},{\"attributes\":{\"items\":[{\"id\":\"1609\"}]},\"id\":\"1608\",\"type\":\"Legend\"},{\"attributes\":{\"data_source\":{\"id\":\"1595\"},\"glyph\":{\"id\":\"1596\"},\"hover_glyph\":null,\"muted_glyph\":null,\"nonselection_glyph\":{\"id\":\"1597\"},\"selection_glyph\":null,\"view\":{\"id\":\"1599\"}},\"id\":\"1598\",\"type\":\"GlyphRenderer\"},{\"attributes\":{},\"id\":\"1565\",\"type\":\"DataRange1d\"},{\"attributes\":{\"axis_label\":\"x\",\"formatter\":{\"id\":\"1602\"},\"ticker\":{\"id\":\"1574\"}},\"id\":\"1573\",\"type\":\"LinearAxis\"},{\"attributes\":{},\"id\":\"1578\",\"type\":\"BasicTicker\"},{\"attributes\":{\"data\":{\"x\":[1,2,3,4,5],\"y\":[4,5,5,7,2]},\"selected\":{\"id\":\"1607\"},\"selection_policy\":{\"id\":\"1606\"}},\"id\":\"1595\",\"type\":\"ColumnDataSource\"},{\"attributes\":{\"bottom_units\":\"screen\",\"fill_alpha\":0.5,\"fill_color\":\"lightgrey\",\"left_units\":\"screen\",\"level\":\"overlay\",\"line_alpha\":1.0,\"line_color\":\"black\",\"line_dash\":[4,4],\"line_width\":2,\"right_units\":\"screen\",\"top_units\":\"screen\"},\"id\":\"1587\",\"type\":\"BoxAnnotation\"},{\"attributes\":{},\"id\":\"1585\",\"type\":\"ResetTool\"},{\"attributes\":{},\"id\":\"1582\",\"type\":\"WheelZoomTool\"},{\"attributes\":{\"axis\":{\"id\":\"1573\"},\"ticker\":null},\"id\":\"1576\",\"type\":\"Grid\"},{\"attributes\":{},\"id\":\"1584\",\"type\":\"SaveTool\"},{\"attributes\":{\"axis\":{\"id\":\"1577\"},\"dimension\":1,\"ticker\":null},\"id\":\"1580\",\"type\":\"Grid\"},{\"attributes\":{},\"id\":\"1602\",\"type\":\"BasicTickFormatter\"},{\"attributes\":{\"overlay\":{\"id\":\"1587\"}},\"id\":\"1583\",\"type\":\"BoxZoomTool\"},{\"attributes\":{\"fill_alpha\":{\"value\":0.5},\"fill_color\":{\"value\":\"blue\"},\"line_color\":{\"value\":\"blue\"},\"size\":{\"units\":\"screen\",\"value\":80},\"x\":{\"field\":\"x\"},\"y\":{\"field\":\"y\"}},\"id\":\"1596\",\"type\":\"Circle\"},{\"attributes\":{},\"id\":\"1574\",\"type\":\"BasicTicker\"},{\"attributes\":{\"text\":\"Glyphs properties example\"},\"id\":\"1563\",\"type\":\"Title\"},{\"attributes\":{},\"id\":\"1571\",\"type\":\"LinearScale\"},{\"attributes\":{},\"id\":\"1604\",\"type\":\"BasicTickFormatter\"}],\"root_ids\":[\"1562\"]},\"title\":\"Bokeh Application\",\"version\":\"2.2.2\"}};\n",
       "  var render_items = [{\"docid\":\"b4a7f08b-0db6-464e-ab1d-25adaddf63d7\",\"root_ids\":[\"1562\"],\"roots\":{\"1562\":\"edcf6f25-e026-490c-bf8c-8b237ebde540\"}}];\n",
       "  root.Bokeh.embed.embed_items_notebook(docs_json, render_items);\n",
       "\n",
       "  }\n",
       "  if (root.Bokeh !== undefined) {\n",
       "    embed_document(root);\n",
       "  } else {\n",
       "    var attempts = 0;\n",
       "    var timer = setInterval(function(root) {\n",
       "      if (root.Bokeh !== undefined) {\n",
       "        clearInterval(timer);\n",
       "        embed_document(root);\n",
       "      } else {\n",
       "        attempts++;\n",
       "        if (attempts > 100) {\n",
       "          clearInterval(timer);\n",
       "          console.log(\"Bokeh: ERROR: Unable to run BokehJS code because BokehJS library is missing\");\n",
       "        }\n",
       "      }\n",
       "    }, 10, root)\n",
       "  }\n",
       "})(window);"
      ],
      "application/vnd.bokehjs_exec.v0+json": ""
     },
     "metadata": {
      "application/vnd.bokehjs_exec.v0+json": {
       "id": "1562"
      }
     },
     "output_type": "display_data"
    }
   ],
   "source": [
    "# prepare some data\n",
    "x = [1, 2, 3, 4, 5]\n",
    "y = [4, 5, 5, 7, 2]\n",
    "\n",
    "# create a new plot with a title and axis labels\n",
    "p = figure(title=\"Glyphs properties example\", x_axis_label=\"x\", y_axis_label=\"y\")\n",
    "\n",
    "# add circle renderer with additional arguments\n",
    "circle = p.circle(\n",
    "    x,\n",
    "    y,\n",
    "    legend_label=\"Objects\",\n",
    "    fill_color=\"red\",\n",
    "    fill_alpha=0.5,\n",
    "    line_color=\"blue\",\n",
    "    size=80,\n",
    ")\n",
    "\n",
    "# change color of previously created object's glyph\n",
    "g = circle.glyph\n",
    "g.fill_color = \"blue\"\n",
    "\n",
    "# show the results\n",
    "show(p)"
   ]
  },
  {
   "cell_type": "markdown",
   "id": "3b574cf6",
   "metadata": {},
   "source": [
    "For more information about the various visual properties, see [Styling glyphs](https://docs.bokeh.org/en/latest/docs/user_guide/styling.html#userguide-styling-glyphs) and [Customizing visual properties](https://docs.bokeh.org/en/latest/docs/user_guide/styling.html#userguide-styling-visual-properties) in the user guide.\n",
    "\n",
    "Each type of glyph has different properties. Refer to [figure()](https://docs.bokeh.org/en/latest/docs/reference/plotting/figure.html#bokeh.plotting.figure) in the reference guide to see all available properties for each glyph method."
   ]
  },
  {
   "cell_type": "markdown",
   "id": "97969209",
   "metadata": {},
   "source": [
    "# First steps 3: Adding legends, text, and annotations\n",
    "In the previous first steps guide, you generated different glyphs and defined their appearance.\n",
    "\n",
    "In this section, you will add and style a legend and a headline. You will also add additional information to your plot by including annotations.\n",
    "\n",
    "## Adding and styling a legend\n",
    "Bokeh automatically adds a legend to your plot if you include the legend_label attribute when calling the renderer function. For example:\n",
    "\n",
    "    p.circle(x, y3, legend_label=\"Objects\")\n",
    "\n",
    "This adds a legend with the entry “Objects” to your plot.\n",
    "\n",
    "Use the properties of the Legend object to customize the legend. For example:"
   ]
  },
  {
   "cell_type": "code",
   "execution_count": 7,
   "id": "5151b716",
   "metadata": {},
   "outputs": [
    {
     "data": {
      "text/html": [
       "\n",
       "\n",
       "\n",
       "\n",
       "\n",
       "\n",
       "  <div class=\"bk-root\" id=\"73b8a1f4-bb9c-4f94-95cd-64ae929080a8\" data-root-id=\"1698\"></div>\n"
      ]
     },
     "metadata": {},
     "output_type": "display_data"
    },
    {
     "data": {
      "application/javascript": [
       "(function(root) {\n",
       "  function embed_document(root) {\n",
       "    \n",
       "  var docs_json = {\"b6a12838-d9d2-4e6e-8483-c2a1148be2b2\":{\"roots\":{\"references\":[{\"attributes\":{\"below\":[{\"id\":\"1709\"}],\"center\":[{\"id\":\"1712\"},{\"id\":\"1716\"},{\"id\":\"1744\"}],\"left\":[{\"id\":\"1713\"}],\"renderers\":[{\"id\":\"1734\"},{\"id\":\"1749\"}],\"title\":{\"id\":\"1699\"},\"toolbar\":{\"id\":\"1724\"},\"x_range\":{\"id\":\"1701\"},\"x_scale\":{\"id\":\"1705\"},\"y_range\":{\"id\":\"1703\"},\"y_scale\":{\"id\":\"1707\"}},\"id\":\"1698\",\"subtype\":\"Figure\",\"type\":\"Plot\"},{\"attributes\":{\"bottom_units\":\"screen\",\"fill_alpha\":0.5,\"fill_color\":\"lightgrey\",\"left_units\":\"screen\",\"level\":\"overlay\",\"line_alpha\":1.0,\"line_color\":\"black\",\"line_dash\":[4,4],\"line_width\":2,\"right_units\":\"screen\",\"top_units\":\"screen\"},\"id\":\"1723\",\"type\":\"BoxAnnotation\"},{\"attributes\":{\"text\":\"Legend example\"},\"id\":\"1699\",\"type\":\"Title\"},{\"attributes\":{\"data\":{\"x\":[1,2,3,4,5],\"y\":[2,3,4,5,6]},\"selected\":{\"id\":\"1760\"},\"selection_policy\":{\"id\":\"1759\"}},\"id\":\"1746\",\"type\":\"ColumnDataSource\"},{\"attributes\":{\"data\":{\"x\":[1,2,3,4,5],\"y\":[4,5,5,7,2]},\"selected\":{\"id\":\"1743\"},\"selection_policy\":{\"id\":\"1742\"}},\"id\":\"1731\",\"type\":\"ColumnDataSource\"},{\"attributes\":{\"fill_alpha\":{\"value\":0.1},\"fill_color\":{\"value\":\"red\"},\"line_alpha\":{\"value\":0.1},\"line_color\":{\"value\":\"blue\"},\"size\":{\"units\":\"screen\",\"value\":80},\"x\":{\"field\":\"x\"},\"y\":{\"field\":\"y\"}},\"id\":\"1748\",\"type\":\"Circle\"},{\"attributes\":{},\"id\":\"1701\",\"type\":\"DataRange1d\"},{\"attributes\":{},\"id\":\"1738\",\"type\":\"BasicTickFormatter\"},{\"attributes\":{},\"id\":\"1707\",\"type\":\"LinearScale\"},{\"attributes\":{\"label\":{\"value\":\"Objects\"},\"renderers\":[{\"id\":\"1749\"}]},\"id\":\"1761\",\"type\":\"LegendItem\"},{\"attributes\":{},\"id\":\"1703\",\"type\":\"DataRange1d\"},{\"attributes\":{\"formatter\":{\"id\":\"1738\"},\"ticker\":{\"id\":\"1710\"}},\"id\":\"1709\",\"type\":\"LinearAxis\"},{\"attributes\":{},\"id\":\"1740\",\"type\":\"BasicTickFormatter\"},{\"attributes\":{},\"id\":\"1759\",\"type\":\"UnionRenderers\"},{\"attributes\":{\"source\":{\"id\":\"1746\"}},\"id\":\"1750\",\"type\":\"CDSView\"},{\"attributes\":{\"data_source\":{\"id\":\"1746\"},\"glyph\":{\"id\":\"1747\"},\"hover_glyph\":null,\"muted_glyph\":null,\"nonselection_glyph\":{\"id\":\"1748\"},\"selection_glyph\":null,\"view\":{\"id\":\"1750\"}},\"id\":\"1749\",\"type\":\"GlyphRenderer\"},{\"attributes\":{},\"id\":\"1705\",\"type\":\"LinearScale\"},{\"attributes\":{},\"id\":\"1710\",\"type\":\"BasicTicker\"},{\"attributes\":{\"axis\":{\"id\":\"1709\"},\"ticker\":null},\"id\":\"1712\",\"type\":\"Grid\"},{\"attributes\":{},\"id\":\"1760\",\"type\":\"Selection\"},{\"attributes\":{\"axis\":{\"id\":\"1713\"},\"dimension\":1,\"ticker\":null},\"id\":\"1716\",\"type\":\"Grid\"},{\"attributes\":{\"line_color\":\"blue\",\"line_width\":2,\"x\":{\"field\":\"x\"},\"y\":{\"field\":\"y\"}},\"id\":\"1732\",\"type\":\"Line\"},{\"attributes\":{},\"id\":\"1722\",\"type\":\"HelpTool\"},{\"attributes\":{\"active_drag\":\"auto\",\"active_inspect\":\"auto\",\"active_multi\":null,\"active_scroll\":\"auto\",\"active_tap\":\"auto\",\"tools\":[{\"id\":\"1717\"},{\"id\":\"1718\"},{\"id\":\"1719\"},{\"id\":\"1720\"},{\"id\":\"1721\"},{\"id\":\"1722\"}]},\"id\":\"1724\",\"type\":\"Toolbar\"},{\"attributes\":{},\"id\":\"1718\",\"type\":\"WheelZoomTool\"},{\"attributes\":{},\"id\":\"1717\",\"type\":\"PanTool\"},{\"attributes\":{\"overlay\":{\"id\":\"1723\"}},\"id\":\"1719\",\"type\":\"BoxZoomTool\"},{\"attributes\":{},\"id\":\"1720\",\"type\":\"SaveTool\"},{\"attributes\":{},\"id\":\"1721\",\"type\":\"ResetTool\"},{\"attributes\":{\"formatter\":{\"id\":\"1740\"},\"ticker\":{\"id\":\"1714\"}},\"id\":\"1713\",\"type\":\"LinearAxis\"},{\"attributes\":{\"source\":{\"id\":\"1731\"}},\"id\":\"1735\",\"type\":\"CDSView\"},{\"attributes\":{\"line_alpha\":0.1,\"line_color\":\"blue\",\"line_width\":2,\"x\":{\"field\":\"x\"},\"y\":{\"field\":\"y\"}},\"id\":\"1733\",\"type\":\"Line\"},{\"attributes\":{\"background_fill_alpha\":0.2,\"background_fill_color\":\"navy\",\"border_line_alpha\":0.8,\"border_line_color\":\"navy\",\"border_line_width\":3,\"items\":[{\"id\":\"1745\"},{\"id\":\"1761\"}],\"label_text_color\":\"navy\",\"label_text_font\":\"times\",\"label_text_font_style\":\"italic\",\"location\":\"top_left\",\"title\":\"Obervations\"},\"id\":\"1744\",\"type\":\"Legend\"},{\"attributes\":{\"fill_alpha\":{\"value\":0.5},\"fill_color\":{\"value\":\"red\"},\"line_color\":{\"value\":\"blue\"},\"size\":{\"units\":\"screen\",\"value\":80},\"x\":{\"field\":\"x\"},\"y\":{\"field\":\"y\"}},\"id\":\"1747\",\"type\":\"Circle\"},{\"attributes\":{\"label\":{\"value\":\"Temp.\"},\"renderers\":[{\"id\":\"1734\"}]},\"id\":\"1745\",\"type\":\"LegendItem\"},{\"attributes\":{\"data_source\":{\"id\":\"1731\"},\"glyph\":{\"id\":\"1732\"},\"hover_glyph\":null,\"muted_glyph\":null,\"nonselection_glyph\":{\"id\":\"1733\"},\"selection_glyph\":null,\"view\":{\"id\":\"1735\"}},\"id\":\"1734\",\"type\":\"GlyphRenderer\"},{\"attributes\":{},\"id\":\"1714\",\"type\":\"BasicTicker\"},{\"attributes\":{},\"id\":\"1742\",\"type\":\"UnionRenderers\"},{\"attributes\":{},\"id\":\"1743\",\"type\":\"Selection\"}],\"root_ids\":[\"1698\"]},\"title\":\"Bokeh Application\",\"version\":\"2.2.2\"}};\n",
       "  var render_items = [{\"docid\":\"b6a12838-d9d2-4e6e-8483-c2a1148be2b2\",\"root_ids\":[\"1698\"],\"roots\":{\"1698\":\"73b8a1f4-bb9c-4f94-95cd-64ae929080a8\"}}];\n",
       "  root.Bokeh.embed.embed_items_notebook(docs_json, render_items);\n",
       "\n",
       "  }\n",
       "  if (root.Bokeh !== undefined) {\n",
       "    embed_document(root);\n",
       "  } else {\n",
       "    var attempts = 0;\n",
       "    var timer = setInterval(function(root) {\n",
       "      if (root.Bokeh !== undefined) {\n",
       "        clearInterval(timer);\n",
       "        embed_document(root);\n",
       "      } else {\n",
       "        attempts++;\n",
       "        if (attempts > 100) {\n",
       "          clearInterval(timer);\n",
       "          console.log(\"Bokeh: ERROR: Unable to run BokehJS code because BokehJS library is missing\");\n",
       "        }\n",
       "      }\n",
       "    }, 10, root)\n",
       "  }\n",
       "})(window);"
      ],
      "application/vnd.bokehjs_exec.v0+json": ""
     },
     "metadata": {
      "application/vnd.bokehjs_exec.v0+json": {
       "id": "1698"
      }
     },
     "output_type": "display_data"
    }
   ],
   "source": [
    "# prepare some data\n",
    "x = [1, 2, 3, 4, 5]\n",
    "y1 = [4, 5, 5, 7, 2]\n",
    "y2 = [2, 3, 4, 5, 6]\n",
    "\n",
    "# create a new plot\n",
    "p = figure(title=\"Legend example\")\n",
    "\n",
    "# add circle renderer with legend_label arguments\n",
    "line = p.line(x, y1, legend_label=\"Temp.\", line_color=\"blue\", line_width=2)\n",
    "circle = p.circle(\n",
    "    x,\n",
    "    y2,\n",
    "    legend_label=\"Objects\",\n",
    "    fill_color=\"red\",\n",
    "    fill_alpha=0.5,\n",
    "    line_color=\"blue\",\n",
    "    size=80,\n",
    ")\n",
    "\n",
    "# display legend in top left corner (default is top right corner)\n",
    "p.legend.location = \"top_left\"\n",
    "\n",
    "# add a title to your legend\n",
    "p.legend.title = \"Obervations\"\n",
    "\n",
    "# change appearance of legend text\n",
    "p.legend.label_text_font = \"times\"\n",
    "p.legend.label_text_font_style = \"italic\"\n",
    "p.legend.label_text_color = \"navy\"\n",
    "\n",
    "# change border and background of legend\n",
    "p.legend.border_line_width = 3\n",
    "p.legend.border_line_color = \"navy\"\n",
    "p.legend.border_line_alpha = 0.8\n",
    "p.legend.background_fill_color = \"navy\"\n",
    "p.legend.background_fill_alpha = 0.2\n",
    "\n",
    "# show the results\n",
    "show(p)"
   ]
  },
  {
   "cell_type": "markdown",
   "id": "7d3ba914",
   "metadata": {},
   "source": [
    "To learn more about legends, see [Legends](https://docs.bokeh.org/en/latest/docs/user_guide/annotations.html#userguide-annotations-legends) \n",
    "in the annotations section and [Styling legends](https://docs.bokeh.org/en/latest/docs/user_guide/styling.html#userguide-styling-legends) in the styling section of the user guide. The entry [Legend](https://docs.bokeh.org/en/latest/docs/reference/models/annotations.html#bokeh.models.Legend) in the reference guide contains a list of all available attributes for legends.\n",
    "\n",
    "See [interactive legends](https://docs.bokeh.org/en/latest/docs/user_guide/interaction/legends.html#userguide-interaction-legends) in the user guide to learn about using legends to hide or mute glyphs in a plot.                 "
   ]
  },
  {
   "cell_type": "markdown",
   "id": "845d2d56",
   "metadata": {},
   "source": [
    "### Customizing headlines\n",
    "Most of the examples so far have included a headline. You did this by passing the title argument to the figure() function:\n",
    "\n",
    "p = figure(title=\"Headline example\")\n",
    "There are various ways to style the text for your headline. For example:"
   ]
  },
  {
   "cell_type": "code",
   "execution_count": 8,
   "id": "8e6802c7",
   "metadata": {},
   "outputs": [
    {
     "data": {
      "text/html": [
       "\n",
       "\n",
       "\n",
       "\n",
       "\n",
       "\n",
       "  <div class=\"bk-root\" id=\"3648d923-0119-447f-95f5-ba4968c70319\" data-root-id=\"1870\"></div>\n"
      ]
     },
     "metadata": {},
     "output_type": "display_data"
    },
    {
     "data": {
      "application/javascript": [
       "(function(root) {\n",
       "  function embed_document(root) {\n",
       "    \n",
       "  var docs_json = {\"856e0afe-4c96-47a1-bad5-48dbafff79a4\":{\"roots\":{\"references\":[{\"attributes\":{\"below\":[{\"id\":\"1881\"}],\"center\":[{\"id\":\"1884\"},{\"id\":\"1888\"},{\"id\":\"1916\"}],\"left\":[{\"id\":\"1885\"}],\"renderers\":[{\"id\":\"1906\"}],\"title\":{\"id\":\"1871\"},\"title_location\":\"left\",\"toolbar\":{\"id\":\"1896\"},\"x_range\":{\"id\":\"1873\"},\"x_scale\":{\"id\":\"1877\"},\"y_range\":{\"id\":\"1875\"},\"y_scale\":{\"id\":\"1879\"}},\"id\":\"1870\",\"subtype\":\"Figure\",\"type\":\"Plot\"},{\"attributes\":{\"bottom_units\":\"screen\",\"fill_alpha\":0.5,\"fill_color\":\"lightgrey\",\"left_units\":\"screen\",\"level\":\"overlay\",\"line_alpha\":1.0,\"line_color\":\"black\",\"line_dash\":[4,4],\"line_width\":2,\"right_units\":\"screen\",\"top_units\":\"screen\"},\"id\":\"1895\",\"type\":\"BoxAnnotation\"},{\"attributes\":{},\"id\":\"1894\",\"type\":\"HelpTool\"},{\"attributes\":{},\"id\":\"1875\",\"type\":\"DataRange1d\"},{\"attributes\":{},\"id\":\"1910\",\"type\":\"BasicTickFormatter\"},{\"attributes\":{\"data\":{\"x\":[1,2,3,4,5],\"y\":[6,7,2,4,5]},\"selected\":{\"id\":\"1915\"},\"selection_policy\":{\"id\":\"1914\"}},\"id\":\"1903\",\"type\":\"ColumnDataSource\"},{\"attributes\":{},\"id\":\"1873\",\"type\":\"DataRange1d\"},{\"attributes\":{\"align\":\"right\",\"background_fill_color\":\"darkgrey\",\"text\":\"Changing headline text example\",\"text_color\":{\"value\":\"white\"},\"text_font_size\":{\"value\":\"25px\"}},\"id\":\"1871\",\"type\":\"Title\"},{\"attributes\":{\"data_source\":{\"id\":\"1903\"},\"glyph\":{\"id\":\"1904\"},\"hover_glyph\":null,\"muted_glyph\":null,\"nonselection_glyph\":{\"id\":\"1905\"},\"selection_glyph\":null,\"view\":{\"id\":\"1907\"}},\"id\":\"1906\",\"type\":\"GlyphRenderer\"},{\"attributes\":{},\"id\":\"1912\",\"type\":\"BasicTickFormatter\"},{\"attributes\":{},\"id\":\"1879\",\"type\":\"LinearScale\"},{\"attributes\":{},\"id\":\"1890\",\"type\":\"WheelZoomTool\"},{\"attributes\":{\"source\":{\"id\":\"1903\"}},\"id\":\"1907\",\"type\":\"CDSView\"},{\"attributes\":{\"label\":{\"value\":\"Temp.\"},\"renderers\":[{\"id\":\"1906\"}]},\"id\":\"1917\",\"type\":\"LegendItem\"},{\"attributes\":{\"items\":[{\"id\":\"1917\"}]},\"id\":\"1916\",\"type\":\"Legend\"},{\"attributes\":{\"line_color\":\"#1f77b4\",\"line_width\":2,\"x\":{\"field\":\"x\"},\"y\":{\"field\":\"y\"}},\"id\":\"1904\",\"type\":\"Line\"},{\"attributes\":{\"active_drag\":\"auto\",\"active_inspect\":\"auto\",\"active_multi\":null,\"active_scroll\":\"auto\",\"active_tap\":\"auto\",\"tools\":[{\"id\":\"1889\"},{\"id\":\"1890\"},{\"id\":\"1891\"},{\"id\":\"1892\"},{\"id\":\"1893\"},{\"id\":\"1894\"}]},\"id\":\"1896\",\"type\":\"Toolbar\"},{\"attributes\":{\"axis\":{\"id\":\"1885\"},\"dimension\":1,\"ticker\":null},\"id\":\"1888\",\"type\":\"Grid\"},{\"attributes\":{},\"id\":\"1886\",\"type\":\"BasicTicker\"},{\"attributes\":{\"formatter\":{\"id\":\"1910\"},\"ticker\":{\"id\":\"1882\"}},\"id\":\"1881\",\"type\":\"LinearAxis\"},{\"attributes\":{},\"id\":\"1882\",\"type\":\"BasicTicker\"},{\"attributes\":{},\"id\":\"1877\",\"type\":\"LinearScale\"},{\"attributes\":{\"axis\":{\"id\":\"1881\"},\"ticker\":null},\"id\":\"1884\",\"type\":\"Grid\"},{\"attributes\":{},\"id\":\"1889\",\"type\":\"PanTool\"},{\"attributes\":{\"line_alpha\":0.1,\"line_color\":\"#1f77b4\",\"line_width\":2,\"x\":{\"field\":\"x\"},\"y\":{\"field\":\"y\"}},\"id\":\"1905\",\"type\":\"Line\"},{\"attributes\":{\"overlay\":{\"id\":\"1895\"}},\"id\":\"1891\",\"type\":\"BoxZoomTool\"},{\"attributes\":{},\"id\":\"1892\",\"type\":\"SaveTool\"},{\"attributes\":{},\"id\":\"1893\",\"type\":\"ResetTool\"},{\"attributes\":{},\"id\":\"1914\",\"type\":\"UnionRenderers\"},{\"attributes\":{},\"id\":\"1915\",\"type\":\"Selection\"},{\"attributes\":{\"formatter\":{\"id\":\"1912\"},\"ticker\":{\"id\":\"1886\"}},\"id\":\"1885\",\"type\":\"LinearAxis\"}],\"root_ids\":[\"1870\"]},\"title\":\"Bokeh Application\",\"version\":\"2.2.2\"}};\n",
       "  var render_items = [{\"docid\":\"856e0afe-4c96-47a1-bad5-48dbafff79a4\",\"root_ids\":[\"1870\"],\"roots\":{\"1870\":\"3648d923-0119-447f-95f5-ba4968c70319\"}}];\n",
       "  root.Bokeh.embed.embed_items_notebook(docs_json, render_items);\n",
       "\n",
       "  }\n",
       "  if (root.Bokeh !== undefined) {\n",
       "    embed_document(root);\n",
       "  } else {\n",
       "    var attempts = 0;\n",
       "    var timer = setInterval(function(root) {\n",
       "      if (root.Bokeh !== undefined) {\n",
       "        clearInterval(timer);\n",
       "        embed_document(root);\n",
       "      } else {\n",
       "        attempts++;\n",
       "        if (attempts > 100) {\n",
       "          clearInterval(timer);\n",
       "          console.log(\"Bokeh: ERROR: Unable to run BokehJS code because BokehJS library is missing\");\n",
       "        }\n",
       "      }\n",
       "    }, 10, root)\n",
       "  }\n",
       "})(window);"
      ],
      "application/vnd.bokehjs_exec.v0+json": ""
     },
     "metadata": {
      "application/vnd.bokehjs_exec.v0+json": {
       "id": "1870"
      }
     },
     "output_type": "display_data"
    }
   ],
   "source": [
    "# prepare some data\n",
    "x = [1, 2, 3, 4, 5]\n",
    "y = [6, 7, 2, 4, 5]\n",
    "\n",
    "# create new plot\n",
    "p = figure(title=\"Headline example\")\n",
    "\n",
    "# add line renderer with a legend\n",
    "p.line(x, y, legend_label=\"Temp.\", line_width=2)\n",
    "\n",
    "# change headline location to the left\n",
    "p.title_location = \"left\"\n",
    "\n",
    "# change headline text\n",
    "p.title.text = \"Changing headline text example\"\n",
    "\n",
    "# style the headline\n",
    "p.title.text_font_size = \"25px\"\n",
    "p.title.align = \"right\"\n",
    "p.title.background_fill_color = \"darkgrey\"\n",
    "p.title.text_color = \"white\"\n",
    "\n",
    "# show the results\n",
    "show(p)"
   ]
  },
  {
   "cell_type": "markdown",
   "id": "37a1ddb7",
   "metadata": {},
   "source": [
    "For more information on working with title, see [Titles](https://docs.bokeh.org/en/latest/docs/user_guide/annotations.html#userguide-annotations-titles) in the user guide. In the reference guide, the entry for [Title](https://docs.bokeh.org/en/latest/docs/reference/models/annotations.html#bokeh.models.Title) contains a list of all available properties.\n",
    "\n",
    "### Using annotations\n",
    "Annotations are visual elements that you add to your plot to make it easier to read. For more information on the various kinds of annotations, see [Adding annotations](https://docs.bokeh.org/en/latest/docs/user_guide/annotations.html#userguide-annotations) in the user guide.\n",
    "\n",
    "One example are box annotations."
   ]
  },
  {
   "cell_type": "code",
   "execution_count": 9,
   "id": "c5639c1b",
   "metadata": {},
   "outputs": [
    {
     "data": {
      "text/html": [
       "\n",
       "\n",
       "\n",
       "\n",
       "\n",
       "\n",
       "  <div class=\"bk-root\" id=\"914dd590-f0bf-41e7-8201-83ffb7649a5e\" data-root-id=\"2024\"></div>\n"
      ]
     },
     "metadata": {},
     "output_type": "display_data"
    },
    {
     "data": {
      "application/javascript": [
       "(function(root) {\n",
       "  function embed_document(root) {\n",
       "    \n",
       "  var docs_json = {\"bd455b00-26d8-49de-8a79-d48157559a58\":{\"roots\":{\"references\":[{\"attributes\":{\"below\":[{\"id\":\"2035\"}],\"center\":[{\"id\":\"2038\"},{\"id\":\"2042\"},{\"id\":\"2062\"},{\"id\":\"2063\"},{\"id\":\"2064\"}],\"left\":[{\"id\":\"2039\"}],\"renderers\":[{\"id\":\"2060\"}],\"title\":{\"id\":\"2025\"},\"toolbar\":{\"id\":\"2050\"},\"x_range\":{\"id\":\"2027\"},\"x_scale\":{\"id\":\"2031\"},\"y_range\":{\"id\":\"2029\"},\"y_scale\":{\"id\":\"2033\"}},\"id\":\"2024\",\"subtype\":\"Figure\",\"type\":\"Plot\"},{\"attributes\":{\"formatter\":{\"id\":\"2133\"},\"ticker\":{\"id\":\"2036\"}},\"id\":\"2035\",\"type\":\"LinearAxis\"},{\"attributes\":{\"formatter\":{\"id\":\"2135\"},\"ticker\":{\"id\":\"2040\"}},\"id\":\"2039\",\"type\":\"LinearAxis\"},{\"attributes\":{},\"id\":\"2036\",\"type\":\"BasicTicker\"},{\"attributes\":{},\"id\":\"2048\",\"type\":\"HelpTool\"},{\"attributes\":{\"axis\":{\"id\":\"2035\"},\"ticker\":null},\"id\":\"2038\",\"type\":\"Grid\"},{\"attributes\":{\"axis\":{\"id\":\"2039\"},\"dimension\":1,\"ticker\":null},\"id\":\"2042\",\"type\":\"Grid\"},{\"attributes\":{},\"id\":\"2029\",\"type\":\"DataRange1d\"},{\"attributes\":{},\"id\":\"2040\",\"type\":\"BasicTicker\"},{\"attributes\":{},\"id\":\"2044\",\"type\":\"WheelZoomTool\"},{\"attributes\":{},\"id\":\"2043\",\"type\":\"PanTool\"},{\"attributes\":{},\"id\":\"2033\",\"type\":\"LinearScale\"},{\"attributes\":{\"overlay\":{\"id\":\"2049\"}},\"id\":\"2045\",\"type\":\"BoxZoomTool\"},{\"attributes\":{},\"id\":\"2046\",\"type\":\"SaveTool\"},{\"attributes\":{},\"id\":\"2047\",\"type\":\"ResetTool\"},{\"attributes\":{\"line_alpha\":0.1,\"line_color\":\"blue\",\"line_width\":2,\"x\":{\"field\":\"x\"},\"y\":{\"field\":\"y\"}},\"id\":\"2059\",\"type\":\"Line\"},{\"attributes\":{},\"id\":\"2031\",\"type\":\"LinearScale\"},{\"attributes\":{\"bottom\":20,\"fill_alpha\":0.1,\"fill_color\":\"green\",\"top\":80},\"id\":\"2063\",\"type\":\"BoxAnnotation\"},{\"attributes\":{\"line_color\":\"blue\",\"line_width\":2,\"x\":{\"field\":\"x\"},\"y\":{\"field\":\"y\"}},\"id\":\"2058\",\"type\":\"Line\"},{\"attributes\":{\"data\":{\"x\":[0,1,2,3,4,5,6,7,8,9,10,11,12,13,14,15,16,17,18,19,20,21,22,23,24,25,26,27,28,29,30,31,32,33,34,35,36,37,38,39,40,41,42,43,44,45,46,47,48,49,50],\"y\":[37,76,72,53,95,11,47,49,50,58,40,13,64,19,89,16,87,57,26,31,91,20,67,22,54,24,69,84,90,77,21,15,79,8,65,27,93,78,38,66,86,74,92,2,41,61,43,30,81,42,71]},\"selected\":{\"id\":\"2138\"},\"selection_policy\":{\"id\":\"2137\"}},\"id\":\"2057\",\"type\":\"ColumnDataSource\"},{\"attributes\":{\"source\":{\"id\":\"2057\"}},\"id\":\"2061\",\"type\":\"CDSView\"},{\"attributes\":{},\"id\":\"2137\",\"type\":\"UnionRenderers\"},{\"attributes\":{},\"id\":\"2138\",\"type\":\"Selection\"},{\"attributes\":{},\"id\":\"2135\",\"type\":\"BasicTickFormatter\"},{\"attributes\":{},\"id\":\"2027\",\"type\":\"DataRange1d\"},{\"attributes\":{\"text\":\"Box annotation example\"},\"id\":\"2025\",\"type\":\"Title\"},{\"attributes\":{},\"id\":\"2133\",\"type\":\"BasicTickFormatter\"},{\"attributes\":{\"bottom_units\":\"screen\",\"fill_alpha\":0.5,\"fill_color\":\"lightgrey\",\"left_units\":\"screen\",\"level\":\"overlay\",\"line_alpha\":1.0,\"line_color\":\"black\",\"line_dash\":[4,4],\"line_width\":2,\"right_units\":\"screen\",\"top_units\":\"screen\"},\"id\":\"2049\",\"type\":\"BoxAnnotation\"},{\"attributes\":{\"fill_alpha\":0.1,\"fill_color\":\"red\",\"top\":20},\"id\":\"2062\",\"type\":\"BoxAnnotation\"},{\"attributes\":{\"bottom\":80,\"fill_alpha\":0.1,\"fill_color\":\"red\"},\"id\":\"2064\",\"type\":\"BoxAnnotation\"},{\"attributes\":{\"active_drag\":\"auto\",\"active_inspect\":\"auto\",\"active_multi\":null,\"active_scroll\":\"auto\",\"active_tap\":\"auto\",\"tools\":[{\"id\":\"2043\"},{\"id\":\"2044\"},{\"id\":\"2045\"},{\"id\":\"2046\"},{\"id\":\"2047\"},{\"id\":\"2048\"}]},\"id\":\"2050\",\"type\":\"Toolbar\"},{\"attributes\":{\"data_source\":{\"id\":\"2057\"},\"glyph\":{\"id\":\"2058\"},\"hover_glyph\":null,\"muted_glyph\":null,\"nonselection_glyph\":{\"id\":\"2059\"},\"selection_glyph\":null,\"view\":{\"id\":\"2061\"}},\"id\":\"2060\",\"type\":\"GlyphRenderer\"}],\"root_ids\":[\"2024\"]},\"title\":\"Bokeh Application\",\"version\":\"2.2.2\"}};\n",
       "  var render_items = [{\"docid\":\"bd455b00-26d8-49de-8a79-d48157559a58\",\"root_ids\":[\"2024\"],\"roots\":{\"2024\":\"914dd590-f0bf-41e7-8201-83ffb7649a5e\"}}];\n",
       "  root.Bokeh.embed.embed_items_notebook(docs_json, render_items);\n",
       "\n",
       "  }\n",
       "  if (root.Bokeh !== undefined) {\n",
       "    embed_document(root);\n",
       "  } else {\n",
       "    var attempts = 0;\n",
       "    var timer = setInterval(function(root) {\n",
       "      if (root.Bokeh !== undefined) {\n",
       "        clearInterval(timer);\n",
       "        embed_document(root);\n",
       "      } else {\n",
       "        attempts++;\n",
       "        if (attempts > 100) {\n",
       "          clearInterval(timer);\n",
       "          console.log(\"Bokeh: ERROR: Unable to run BokehJS code because BokehJS library is missing\");\n",
       "        }\n",
       "      }\n",
       "    }, 10, root)\n",
       "  }\n",
       "})(window);"
      ],
      "application/vnd.bokehjs_exec.v0+json": ""
     },
     "metadata": {
      "application/vnd.bokehjs_exec.v0+json": {
       "id": "2024"
      }
     },
     "output_type": "display_data"
    }
   ],
   "source": [
    "import random\n",
    "from bokeh.models import BoxAnnotation\n",
    "\n",
    "# generate some data (1-50 for x, random values for y)\n",
    "x = list(range(0, 51))\n",
    "y = random.sample(range(0, 100), 51)\n",
    "\n",
    "# create new plot\n",
    "p = figure(title=\"Box annotation example\")\n",
    "\n",
    "# add line renderer\n",
    "line = p.line(x, y, line_color=\"blue\", line_width=2)\n",
    "\n",
    "# add box annotations\n",
    "low_box = BoxAnnotation(top=20, fill_alpha=0.1, fill_color=\"red\")\n",
    "mid_box = BoxAnnotation(bottom=20, top=80, fill_alpha=0.1, fill_color=\"green\")\n",
    "high_box = BoxAnnotation(bottom=80, fill_alpha=0.1, fill_color=\"red\")\n",
    "\n",
    "# add boxes to existing figure\n",
    "p.add_layout(low_box)\n",
    "p.add_layout(mid_box)\n",
    "p.add_layout(high_box)\n",
    "\n",
    "# show the results\n",
    "show(p)"
   ]
  },
  {
   "cell_type": "markdown",
   "id": "e21e153d",
   "metadata": {},
   "source": [
    "To find out more about the different kinds of annotations in Bokeh, see [Adding annotations](https://docs.bokeh.org/en/latest/docs/user_guide/annotations.html#userguide-annotations) in the user guide."
   ]
  },
  {
   "cell_type": "markdown",
   "id": "43a3c0c0",
   "metadata": {},
   "source": [
    "# First steps 4: Customizing your plot\n",
    "In the previous first steps guides, you generated different glyphs and added more information such as a title, legend, and annotations.\n",
    "\n",
    "In this section, you will customize the appearance of the plot as a whole. This includes resizing your plot, changing its lines and colors, and customizing the axes and tools.\n",
    "\n",
    "## Using Themes\n",
    "With Bokeh’s themes, you can quickly change the appearance of your plot. Themes are a set of pre-defined design parameters such as colors, fonts, or line styles.\n",
    "\n",
    "Bokeh comes with five built-in themes: caliber, dark_minimal, light_minimal, night_sky, and contrast. Additionally, you can define your own custom themes.\n",
    "\n",
    "To use one of the built-in themes, assign the name of the theme you want to use to the theme property of your document:\n"
   ]
  },
  {
   "cell_type": "code",
   "execution_count": 10,
   "id": "b6da7bb6",
   "metadata": {},
   "outputs": [
    {
     "data": {
      "text/html": [
       "\n",
       "\n",
       "\n",
       "\n",
       "\n",
       "\n",
       "  <div class=\"bk-root\" id=\"988e4fbf-e3a2-4b4d-9f59-7d5bbd364817\" data-root-id=\"2179\"></div>\n"
      ]
     },
     "metadata": {},
     "output_type": "display_data"
    },
    {
     "data": {
      "application/javascript": [
       "(function(root) {\n",
       "  function embed_document(root) {\n",
       "    \n",
       "  var docs_json = {\"e4beef41-7f3d-489e-a338-15112b26aa6a\":{\"roots\":{\"references\":[{\"attributes\":{\"background_fill_color\":\"#20262B\",\"below\":[{\"id\":\"2188\"}],\"border_fill_color\":\"#15191C\",\"center\":[{\"id\":\"2191\"},{\"id\":\"2195\"}],\"left\":[{\"id\":\"2192\"}],\"max_width\":500,\"outline_line_alpha\":0.25,\"outline_line_color\":\"#E0E0E0\",\"plot_height\":250,\"renderers\":[{\"id\":\"2213\"}],\"sizing_mode\":\"stretch_width\",\"title\":{\"id\":\"2290\"},\"toolbar\":{\"id\":\"2203\"},\"x_range\":{\"id\":\"2180\"},\"x_scale\":{\"id\":\"2184\"},\"y_range\":{\"id\":\"2182\"},\"y_scale\":{\"id\":\"2186\"}},\"id\":\"2179\",\"subtype\":\"Figure\",\"type\":\"Plot\"},{\"attributes\":{\"axis_label_standoff\":10,\"axis_label_text_color\":\"#E0E0E0\",\"axis_label_text_font\":\"Helvetica\",\"axis_label_text_font_size\":\"1.25em\",\"axis_label_text_font_style\":\"normal\",\"axis_line_alpha\":0,\"axis_line_color\":\"#E0E0E0\",\"formatter\":{\"id\":\"2292\"},\"major_label_text_color\":\"#E0E0E0\",\"major_label_text_font\":\"Helvetica\",\"major_label_text_font_size\":\"1.025em\",\"major_tick_line_alpha\":0,\"major_tick_line_color\":\"#E0E0E0\",\"minor_tick_line_alpha\":0,\"minor_tick_line_color\":\"#E0E0E0\",\"ticker\":{\"id\":\"2189\"}},\"id\":\"2188\",\"type\":\"LinearAxis\"},{\"attributes\":{},\"id\":\"2292\",\"type\":\"BasicTickFormatter\"},{\"attributes\":{},\"id\":\"2193\",\"type\":\"BasicTicker\"},{\"attributes\":{\"axis_label_standoff\":10,\"axis_label_text_color\":\"#E0E0E0\",\"axis_label_text_font\":\"Helvetica\",\"axis_label_text_font_size\":\"1.25em\",\"axis_label_text_font_style\":\"normal\",\"axis_line_alpha\":0,\"axis_line_color\":\"#E0E0E0\",\"formatter\":{\"id\":\"2294\"},\"major_label_text_color\":\"#E0E0E0\",\"major_label_text_font\":\"Helvetica\",\"major_label_text_font_size\":\"1.025em\",\"major_tick_line_alpha\":0,\"major_tick_line_color\":\"#E0E0E0\",\"minor_tick_line_alpha\":0,\"minor_tick_line_color\":\"#E0E0E0\",\"ticker\":{\"id\":\"2193\"}},\"id\":\"2192\",\"type\":\"LinearAxis\"},{\"attributes\":{},\"id\":\"2199\",\"type\":\"SaveTool\"},{\"attributes\":{\"line_alpha\":0.1,\"line_color\":\"#1f77b4\",\"x\":{\"field\":\"x\"},\"y\":{\"field\":\"y\"}},\"id\":\"2212\",\"type\":\"Line\"},{\"attributes\":{\"data_source\":{\"id\":\"2210\"},\"glyph\":{\"id\":\"2211\"},\"hover_glyph\":null,\"muted_glyph\":null,\"nonselection_glyph\":{\"id\":\"2212\"},\"selection_glyph\":null,\"view\":{\"id\":\"2214\"}},\"id\":\"2213\",\"type\":\"GlyphRenderer\"},{\"attributes\":{},\"id\":\"2189\",\"type\":\"BasicTicker\"},{\"attributes\":{\"axis\":{\"id\":\"2188\"},\"grid_line_alpha\":0.25,\"grid_line_color\":\"#E0E0E0\",\"ticker\":null},\"id\":\"2191\",\"type\":\"Grid\"},{\"attributes\":{\"axis\":{\"id\":\"2192\"},\"dimension\":1,\"grid_line_alpha\":0.25,\"grid_line_color\":\"#E0E0E0\",\"ticker\":null},\"id\":\"2195\",\"type\":\"Grid\"},{\"attributes\":{\"data\":{\"x\":[1,2,3,4,5],\"y\":[4,5,5,7,2]},\"selected\":{\"id\":\"2297\"},\"selection_policy\":{\"id\":\"2296\"}},\"id\":\"2210\",\"type\":\"ColumnDataSource\"},{\"attributes\":{\"overlay\":{\"id\":\"2202\"}},\"id\":\"2198\",\"type\":\"BoxZoomTool\"},{\"attributes\":{},\"id\":\"2296\",\"type\":\"UnionRenderers\"},{\"attributes\":{},\"id\":\"2297\",\"type\":\"Selection\"},{\"attributes\":{\"line_color\":\"#1f77b4\",\"x\":{\"field\":\"x\"},\"y\":{\"field\":\"y\"}},\"id\":\"2211\",\"type\":\"Line\"},{\"attributes\":{},\"id\":\"2294\",\"type\":\"BasicTickFormatter\"},{\"attributes\":{\"source\":{\"id\":\"2210\"}},\"id\":\"2214\",\"type\":\"CDSView\"},{\"attributes\":{\"bottom_units\":\"screen\",\"fill_alpha\":0.5,\"fill_color\":\"lightgrey\",\"left_units\":\"screen\",\"level\":\"overlay\",\"line_alpha\":1.0,\"line_color\":\"black\",\"line_dash\":[4,4],\"line_width\":2,\"right_units\":\"screen\",\"top_units\":\"screen\"},\"id\":\"2202\",\"type\":\"BoxAnnotation\"},{\"attributes\":{},\"id\":\"2196\",\"type\":\"PanTool\"},{\"attributes\":{},\"id\":\"2186\",\"type\":\"LinearScale\"},{\"attributes\":{\"text\":\"\",\"text_color\":{\"value\":\"#E0E0E0\"},\"text_font\":\"Helvetica\",\"text_font_size\":{\"value\":\"1.15em\"}},\"id\":\"2290\",\"type\":\"Title\"},{\"attributes\":{\"active_drag\":\"auto\",\"active_inspect\":\"auto\",\"active_multi\":null,\"active_scroll\":\"auto\",\"active_tap\":\"auto\",\"tools\":[{\"id\":\"2196\"},{\"id\":\"2197\"},{\"id\":\"2198\"},{\"id\":\"2199\"},{\"id\":\"2200\"},{\"id\":\"2201\"}]},\"id\":\"2203\",\"type\":\"Toolbar\"},{\"attributes\":{},\"id\":\"2182\",\"type\":\"DataRange1d\"},{\"attributes\":{},\"id\":\"2184\",\"type\":\"LinearScale\"},{\"attributes\":{},\"id\":\"2180\",\"type\":\"DataRange1d\"},{\"attributes\":{},\"id\":\"2197\",\"type\":\"WheelZoomTool\"},{\"attributes\":{},\"id\":\"2201\",\"type\":\"HelpTool\"},{\"attributes\":{},\"id\":\"2200\",\"type\":\"ResetTool\"}],\"root_ids\":[\"2179\"]},\"title\":\"Bokeh Application\",\"version\":\"2.2.2\"}};\n",
       "  var render_items = [{\"docid\":\"e4beef41-7f3d-489e-a338-15112b26aa6a\",\"root_ids\":[\"2179\"],\"roots\":{\"2179\":\"988e4fbf-e3a2-4b4d-9f59-7d5bbd364817\"}}];\n",
       "  root.Bokeh.embed.embed_items_notebook(docs_json, render_items);\n",
       "\n",
       "  }\n",
       "  if (root.Bokeh !== undefined) {\n",
       "    embed_document(root);\n",
       "  } else {\n",
       "    var attempts = 0;\n",
       "    var timer = setInterval(function(root) {\n",
       "      if (root.Bokeh !== undefined) {\n",
       "        clearInterval(timer);\n",
       "        embed_document(root);\n",
       "      } else {\n",
       "        attempts++;\n",
       "        if (attempts > 100) {\n",
       "          clearInterval(timer);\n",
       "          console.log(\"Bokeh: ERROR: Unable to run BokehJS code because BokehJS library is missing\");\n",
       "        }\n",
       "      }\n",
       "    }, 10, root)\n",
       "  }\n",
       "})(window);"
      ],
      "application/vnd.bokehjs_exec.v0+json": ""
     },
     "metadata": {
      "application/vnd.bokehjs_exec.v0+json": {
       "id": "2179"
      }
     },
     "output_type": "display_data"
    }
   ],
   "source": [
    "from bokeh.io import curdoc\n",
    "\n",
    "# prepare some data\n",
    "x = [1, 2, 3, 4, 5]\n",
    "y = [4, 5, 5, 7, 2]\n",
    "\n",
    "# apply theme to current document\n",
    "curdoc().theme = \"dark_minimal\"\n",
    "\n",
    "# create a plot\n",
    "p = figure(sizing_mode=\"stretch_width\", max_width=500, height=250)\n",
    "\n",
    "# add a renderer\n",
    "p.line(x, y)\n",
    "\n",
    "# show the results\n",
    "show(p)"
   ]
  },
  {
   "cell_type": "code",
   "execution_count": 11,
   "id": "31d65c31",
   "metadata": {},
   "outputs": [],
   "source": [
    "# rurn to the default theme\n",
    "curdoc().theme = \"light_minimal\""
   ]
  },
  {
   "cell_type": "markdown",
   "id": "2572f313",
   "metadata": {},
   "source": [
    "You can also create your own themes to use across multiple plots. Bokeh’s themes can be either in a YAML or JSON format. To learn more about creating and using customized themes, see [Creating custom themes](https://docs.bokeh.org/en/latest/docs/user_guide/styling.html#userguide-styling-using-themes-custom) in the user guide.\n",
    "\n",
    "For more information on using themes with Bokeh, see [Using themes](https://docs.bokeh.org/en/latest/docs/user_guide/styling.html#userguide-styling-using-themes) in the user guide and [bokeh.themes](https://docs.bokeh.org/en/latest/docs/reference/themes.html#module-bokeh.themes) in the reference guide.\n",
    "\n",
    "## Resizing your plot\n",
    "Bokeh’s Plot objects have various attributes that influence the way your plot looks.\n",
    "\n",
    "### Setting width and height\n",
    "To set the size of your plot, use the attributes width and height when calling the figure() function:\n"
   ]
  },
  {
   "cell_type": "code",
   "execution_count": 13,
   "id": "07276639",
   "metadata": {},
   "outputs": [
    {
     "data": {
      "text/html": [
       "\n",
       "\n",
       "\n",
       "\n",
       "\n",
       "\n",
       "  <div class=\"bk-root\" id=\"320faa89-89be-4747-af77-ecd8ec24b848\" data-root-id=\"2512\"></div>\n"
      ]
     },
     "metadata": {},
     "output_type": "display_data"
    },
    {
     "data": {
      "application/javascript": [
       "(function(root) {\n",
       "  function embed_document(root) {\n",
       "    \n",
       "  var docs_json = {\"432cb22b-243b-49fe-bb22-d43ccf45b711\":{\"roots\":{\"references\":[{\"attributes\":{\"below\":[{\"id\":\"2523\"}],\"center\":[{\"id\":\"2526\"},{\"id\":\"2530\"}],\"left\":[{\"id\":\"2527\"}],\"plot_height\":250,\"plot_width\":350,\"renderers\":[{\"id\":\"2548\"}],\"title\":{\"id\":\"2513\"},\"toolbar\":{\"id\":\"2538\"},\"x_range\":{\"id\":\"2515\"},\"x_scale\":{\"id\":\"2519\"},\"y_range\":{\"id\":\"2517\"},\"y_scale\":{\"id\":\"2521\"}},\"id\":\"2512\",\"subtype\":\"Figure\",\"type\":\"Plot\"},{\"attributes\":{\"active_drag\":\"auto\",\"active_inspect\":\"auto\",\"active_multi\":null,\"active_scroll\":\"auto\",\"active_tap\":\"auto\",\"tools\":[{\"id\":\"2531\"},{\"id\":\"2532\"},{\"id\":\"2533\"},{\"id\":\"2534\"},{\"id\":\"2535\"},{\"id\":\"2536\"}]},\"id\":\"2538\",\"type\":\"Toolbar\"},{\"attributes\":{\"data_source\":{\"id\":\"2545\"},\"glyph\":{\"id\":\"2546\"},\"hover_glyph\":null,\"muted_glyph\":null,\"nonselection_glyph\":{\"id\":\"2547\"},\"selection_glyph\":null,\"view\":{\"id\":\"2549\"}},\"id\":\"2548\",\"type\":\"GlyphRenderer\"},{\"attributes\":{},\"id\":\"2648\",\"type\":\"Selection\"},{\"attributes\":{\"overlay\":{\"id\":\"2537\"}},\"id\":\"2533\",\"type\":\"BoxZoomTool\"},{\"attributes\":{\"axis_label\":\"y\",\"axis_label_standoff\":10,\"axis_label_text_color\":\"#5B5B5B\",\"axis_label_text_font\":\"Calibri Light\",\"axis_label_text_font_size\":\"1.15em\",\"axis_label_text_font_style\":\"bold\",\"axis_line_alpha\":1,\"axis_line_color\":\"#5B5B5B\",\"formatter\":{\"id\":\"2645\"},\"major_label_text_color\":\"#5B5B5B\",\"major_label_text_font\":\"Calibri Light\",\"major_label_text_font_size\":\"0.95em\",\"major_label_text_font_style\":\"bold\",\"major_tick_in\":0,\"major_tick_line_alpha\":0.25,\"major_tick_line_color\":\"#5B5B5B\",\"major_tick_out\":3,\"minor_tick_line_alpha\":0.25,\"minor_tick_line_color\":\"#5B5B5B\",\"ticker\":{\"id\":\"2528\"}},\"id\":\"2527\",\"type\":\"LinearAxis\"},{\"attributes\":{},\"id\":\"2532\",\"type\":\"WheelZoomTool\"},{\"attributes\":{},\"id\":\"2535\",\"type\":\"ResetTool\"},{\"attributes\":{},\"id\":\"2647\",\"type\":\"UnionRenderers\"},{\"attributes\":{},\"id\":\"2528\",\"type\":\"BasicTicker\"},{\"attributes\":{\"axis\":{\"id\":\"2527\"},\"dimension\":1,\"ticker\":null},\"id\":\"2530\",\"type\":\"Grid\"},{\"attributes\":{},\"id\":\"2536\",\"type\":\"HelpTool\"},{\"attributes\":{},\"id\":\"2517\",\"type\":\"DataRange1d\"},{\"attributes\":{\"axis_label\":\"x\",\"axis_label_standoff\":10,\"axis_label_text_color\":\"#5B5B5B\",\"axis_label_text_font\":\"Calibri Light\",\"axis_label_text_font_size\":\"1.15em\",\"axis_label_text_font_style\":\"bold\",\"axis_line_alpha\":1,\"axis_line_color\":\"#5B5B5B\",\"formatter\":{\"id\":\"2643\"},\"major_label_text_color\":\"#5B5B5B\",\"major_label_text_font\":\"Calibri Light\",\"major_label_text_font_size\":\"0.95em\",\"major_label_text_font_style\":\"bold\",\"major_tick_in\":0,\"major_tick_line_alpha\":0.25,\"major_tick_line_color\":\"#5B5B5B\",\"major_tick_out\":3,\"minor_tick_line_alpha\":0.25,\"minor_tick_line_color\":\"#5B5B5B\",\"ticker\":{\"id\":\"2524\"}},\"id\":\"2523\",\"type\":\"LinearAxis\"},{\"attributes\":{\"bottom_units\":\"screen\",\"fill_alpha\":0.5,\"fill_color\":\"lightgrey\",\"left_units\":\"screen\",\"level\":\"overlay\",\"line_alpha\":1.0,\"line_color\":\"black\",\"line_dash\":[4,4],\"line_width\":2,\"right_units\":\"screen\",\"top_units\":\"screen\"},\"id\":\"2537\",\"type\":\"BoxAnnotation\"},{\"attributes\":{},\"id\":\"2524\",\"type\":\"BasicTicker\"},{\"attributes\":{},\"id\":\"2519\",\"type\":\"LinearScale\"},{\"attributes\":{},\"id\":\"2643\",\"type\":\"BasicTickFormatter\"},{\"attributes\":{},\"id\":\"2515\",\"type\":\"DataRange1d\"},{\"attributes\":{\"text\":\"Plot sizing example\",\"text_color\":{\"value\":\"#5B5B5B\"},\"text_font\":\"Calibri Light\",\"text_font_size\":{\"value\":\"1.25em\"},\"text_font_style\":\"bold\"},\"id\":\"2513\",\"type\":\"Title\"},{\"attributes\":{},\"id\":\"2645\",\"type\":\"BasicTickFormatter\"},{\"attributes\":{\"axis\":{\"id\":\"2523\"},\"ticker\":null},\"id\":\"2526\",\"type\":\"Grid\"},{\"attributes\":{},\"id\":\"2531\",\"type\":\"PanTool\"},{\"attributes\":{},\"id\":\"2534\",\"type\":\"SaveTool\"},{\"attributes\":{},\"id\":\"2521\",\"type\":\"LinearScale\"},{\"attributes\":{\"fill_alpha\":{\"value\":0.1},\"fill_color\":{\"value\":\"red\"},\"line_alpha\":{\"value\":0.1},\"line_color\":{\"value\":\"#1f77b4\"},\"size\":{\"units\":\"screen\",\"value\":15},\"x\":{\"field\":\"x\"},\"y\":{\"field\":\"y\"}},\"id\":\"2547\",\"type\":\"Circle\"},{\"attributes\":{\"fill_color\":{\"value\":\"red\"},\"line_color\":{\"value\":\"#1f77b4\"},\"size\":{\"units\":\"screen\",\"value\":15},\"x\":{\"field\":\"x\"},\"y\":{\"field\":\"y\"}},\"id\":\"2546\",\"type\":\"Circle\"},{\"attributes\":{\"data\":{\"x\":[1,2,3,4,5],\"y\":[4,5,5,7,2]},\"selected\":{\"id\":\"2648\"},\"selection_policy\":{\"id\":\"2647\"}},\"id\":\"2545\",\"type\":\"ColumnDataSource\"},{\"attributes\":{\"source\":{\"id\":\"2545\"}},\"id\":\"2549\",\"type\":\"CDSView\"}],\"root_ids\":[\"2512\"]},\"title\":\"Bokeh Application\",\"version\":\"2.2.2\"}};\n",
       "  var render_items = [{\"docid\":\"432cb22b-243b-49fe-bb22-d43ccf45b711\",\"root_ids\":[\"2512\"],\"roots\":{\"2512\":\"320faa89-89be-4747-af77-ecd8ec24b848\"}}];\n",
       "  root.Bokeh.embed.embed_items_notebook(docs_json, render_items);\n",
       "\n",
       "  }\n",
       "  if (root.Bokeh !== undefined) {\n",
       "    embed_document(root);\n",
       "  } else {\n",
       "    var attempts = 0;\n",
       "    var timer = setInterval(function(root) {\n",
       "      if (root.Bokeh !== undefined) {\n",
       "        clearInterval(timer);\n",
       "        embed_document(root);\n",
       "      } else {\n",
       "        attempts++;\n",
       "        if (attempts > 100) {\n",
       "          clearInterval(timer);\n",
       "          console.log(\"Bokeh: ERROR: Unable to run BokehJS code because BokehJS library is missing\");\n",
       "        }\n",
       "      }\n",
       "    }, 10, root)\n",
       "  }\n",
       "})(window);"
      ],
      "application/vnd.bokehjs_exec.v0+json": ""
     },
     "metadata": {
      "application/vnd.bokehjs_exec.v0+json": {
       "id": "2512"
      }
     },
     "output_type": "display_data"
    }
   ],
   "source": [
    "# prepare some data\n",
    "x = [1, 2, 3, 4, 5]\n",
    "y = [4, 5, 5, 7, 2]\n",
    "\n",
    "# create a new plot with a specific size\n",
    "p = figure(\n",
    "    title=\"Plot sizing example\",\n",
    "    width=350,\n",
    "    height=250,\n",
    "    x_axis_label=\"x\",\n",
    "    y_axis_label=\"y\",\n",
    ")\n",
    "\n",
    "# add circle renderer\n",
    "circle = p.circle(x, y, fill_color=\"red\", size=15)\n",
    "\n",
    "# show the results\n",
    "show(p)"
   ]
  },
  {
   "cell_type": "markdown",
   "id": "63e4199b",
   "metadata": {},
   "source": [
    "Similar to [changing the design of an existing glyph](https://docs.bokeh.org/en/latest/docs/first_steps/first_steps_2.html#first-steps-2-altering-existing), you can change a plot’s attributes at any time after its creation:\n"
   ]
  },
  {
   "cell_type": "code",
   "execution_count": 14,
   "id": "5e1e7c04",
   "metadata": {},
   "outputs": [
    {
     "data": {
      "text/html": [
       "\n",
       "\n",
       "\n",
       "\n",
       "\n",
       "\n",
       "  <div class=\"bk-root\" id=\"3c1eafcc-a425-40be-96b9-aac7bceb6298\" data-root-id=\"2689\"></div>\n"
      ]
     },
     "metadata": {},
     "output_type": "display_data"
    },
    {
     "data": {
      "application/javascript": [
       "(function(root) {\n",
       "  function embed_document(root) {\n",
       "    \n",
       "  var docs_json = {\"4b0507ad-315c-40c9-8edd-ada4b50d26fb\":{\"roots\":{\"references\":[{\"attributes\":{\"below\":[{\"id\":\"2700\"}],\"center\":[{\"id\":\"2703\"},{\"id\":\"2707\"}],\"height\":150,\"left\":[{\"id\":\"2704\"}],\"plot_height\":250,\"plot_width\":350,\"renderers\":[{\"id\":\"2725\"}],\"title\":{\"id\":\"2690\"},\"toolbar\":{\"id\":\"2715\"},\"width\":450,\"x_range\":{\"id\":\"2692\"},\"x_scale\":{\"id\":\"2696\"},\"y_range\":{\"id\":\"2694\"},\"y_scale\":{\"id\":\"2698\"}},\"id\":\"2689\",\"subtype\":\"Figure\",\"type\":\"Plot\"},{\"attributes\":{\"fill_alpha\":{\"value\":0.1},\"fill_color\":{\"value\":\"red\"},\"line_alpha\":{\"value\":0.1},\"line_color\":{\"value\":\"#1f77b4\"},\"size\":{\"units\":\"screen\",\"value\":15},\"x\":{\"field\":\"x\"},\"y\":{\"field\":\"y\"}},\"id\":\"2724\",\"type\":\"Circle\"},{\"attributes\":{\"source\":{\"id\":\"2722\"}},\"id\":\"2726\",\"type\":\"CDSView\"},{\"attributes\":{\"text\":\"Plot resizing example\",\"text_color\":{\"value\":\"#5B5B5B\"},\"text_font\":\"Calibri Light\",\"text_font_size\":{\"value\":\"1.25em\"},\"text_font_style\":\"bold\"},\"id\":\"2690\",\"type\":\"Title\"},{\"attributes\":{\"data_source\":{\"id\":\"2722\"},\"glyph\":{\"id\":\"2723\"},\"hover_glyph\":null,\"muted_glyph\":null,\"nonselection_glyph\":{\"id\":\"2724\"},\"selection_glyph\":null,\"view\":{\"id\":\"2726\"}},\"id\":\"2725\",\"type\":\"GlyphRenderer\"},{\"attributes\":{\"bottom_units\":\"screen\",\"fill_alpha\":0.5,\"fill_color\":\"lightgrey\",\"left_units\":\"screen\",\"level\":\"overlay\",\"line_alpha\":1.0,\"line_color\":\"black\",\"line_dash\":[4,4],\"line_width\":2,\"right_units\":\"screen\",\"top_units\":\"screen\"},\"id\":\"2714\",\"type\":\"BoxAnnotation\"},{\"attributes\":{},\"id\":\"2692\",\"type\":\"DataRange1d\"},{\"attributes\":{\"axis\":{\"id\":\"2700\"},\"ticker\":null},\"id\":\"2703\",\"type\":\"Grid\"},{\"attributes\":{},\"id\":\"2708\",\"type\":\"PanTool\"},{\"attributes\":{\"axis_label\":\"x\",\"axis_label_standoff\":10,\"axis_label_text_color\":\"#5B5B5B\",\"axis_label_text_font\":\"Calibri Light\",\"axis_label_text_font_size\":\"1.15em\",\"axis_label_text_font_style\":\"bold\",\"axis_line_alpha\":1,\"axis_line_color\":\"#5B5B5B\",\"formatter\":{\"id\":\"2828\"},\"major_label_text_color\":\"#5B5B5B\",\"major_label_text_font\":\"Calibri Light\",\"major_label_text_font_size\":\"0.95em\",\"major_label_text_font_style\":\"bold\",\"major_tick_in\":0,\"major_tick_line_alpha\":0.25,\"major_tick_line_color\":\"#5B5B5B\",\"major_tick_out\":3,\"minor_tick_line_alpha\":0.25,\"minor_tick_line_color\":\"#5B5B5B\",\"ticker\":{\"id\":\"2701\"}},\"id\":\"2700\",\"type\":\"LinearAxis\"},{\"attributes\":{},\"id\":\"2694\",\"type\":\"DataRange1d\"},{\"attributes\":{},\"id\":\"2696\",\"type\":\"LinearScale\"},{\"attributes\":{},\"id\":\"2828\",\"type\":\"BasicTickFormatter\"},{\"attributes\":{},\"id\":\"2701\",\"type\":\"BasicTicker\"},{\"attributes\":{\"active_drag\":\"auto\",\"active_inspect\":\"auto\",\"active_multi\":null,\"active_scroll\":\"auto\",\"active_tap\":\"auto\",\"tools\":[{\"id\":\"2708\"},{\"id\":\"2709\"},{\"id\":\"2710\"},{\"id\":\"2711\"},{\"id\":\"2712\"},{\"id\":\"2713\"}]},\"id\":\"2715\",\"type\":\"Toolbar\"},{\"attributes\":{},\"id\":\"2698\",\"type\":\"LinearScale\"},{\"attributes\":{},\"id\":\"2709\",\"type\":\"WheelZoomTool\"},{\"attributes\":{},\"id\":\"2830\",\"type\":\"BasicTickFormatter\"},{\"attributes\":{\"axis_label\":\"y\",\"axis_label_standoff\":10,\"axis_label_text_color\":\"#5B5B5B\",\"axis_label_text_font\":\"Calibri Light\",\"axis_label_text_font_size\":\"1.15em\",\"axis_label_text_font_style\":\"bold\",\"axis_line_alpha\":1,\"axis_line_color\":\"#5B5B5B\",\"formatter\":{\"id\":\"2830\"},\"major_label_text_color\":\"#5B5B5B\",\"major_label_text_font\":\"Calibri Light\",\"major_label_text_font_size\":\"0.95em\",\"major_label_text_font_style\":\"bold\",\"major_tick_in\":0,\"major_tick_line_alpha\":0.25,\"major_tick_line_color\":\"#5B5B5B\",\"major_tick_out\":3,\"minor_tick_line_alpha\":0.25,\"minor_tick_line_color\":\"#5B5B5B\",\"ticker\":{\"id\":\"2705\"}},\"id\":\"2704\",\"type\":\"LinearAxis\"},{\"attributes\":{\"axis\":{\"id\":\"2704\"},\"dimension\":1,\"ticker\":null},\"id\":\"2707\",\"type\":\"Grid\"},{\"attributes\":{},\"id\":\"2705\",\"type\":\"BasicTicker\"},{\"attributes\":{},\"id\":\"2713\",\"type\":\"HelpTool\"},{\"attributes\":{\"overlay\":{\"id\":\"2714\"}},\"id\":\"2710\",\"type\":\"BoxZoomTool\"},{\"attributes\":{},\"id\":\"2711\",\"type\":\"SaveTool\"},{\"attributes\":{},\"id\":\"2832\",\"type\":\"UnionRenderers\"},{\"attributes\":{},\"id\":\"2712\",\"type\":\"ResetTool\"},{\"attributes\":{},\"id\":\"2833\",\"type\":\"Selection\"},{\"attributes\":{\"fill_color\":{\"value\":\"red\"},\"line_color\":{\"value\":\"#1f77b4\"},\"size\":{\"units\":\"screen\",\"value\":15},\"x\":{\"field\":\"x\"},\"y\":{\"field\":\"y\"}},\"id\":\"2723\",\"type\":\"Circle\"},{\"attributes\":{\"data\":{\"x\":[1,2,3,4,5],\"y\":[4,5,5,7,2]},\"selected\":{\"id\":\"2833\"},\"selection_policy\":{\"id\":\"2832\"}},\"id\":\"2722\",\"type\":\"ColumnDataSource\"}],\"root_ids\":[\"2689\"]},\"title\":\"Bokeh Application\",\"version\":\"2.2.2\"}};\n",
       "  var render_items = [{\"docid\":\"4b0507ad-315c-40c9-8edd-ada4b50d26fb\",\"root_ids\":[\"2689\"],\"roots\":{\"2689\":\"3c1eafcc-a425-40be-96b9-aac7bceb6298\"}}];\n",
       "  root.Bokeh.embed.embed_items_notebook(docs_json, render_items);\n",
       "\n",
       "  }\n",
       "  if (root.Bokeh !== undefined) {\n",
       "    embed_document(root);\n",
       "  } else {\n",
       "    var attempts = 0;\n",
       "    var timer = setInterval(function(root) {\n",
       "      if (root.Bokeh !== undefined) {\n",
       "        clearInterval(timer);\n",
       "        embed_document(root);\n",
       "      } else {\n",
       "        attempts++;\n",
       "        if (attempts > 100) {\n",
       "          clearInterval(timer);\n",
       "          console.log(\"Bokeh: ERROR: Unable to run BokehJS code because BokehJS library is missing\");\n",
       "        }\n",
       "      }\n",
       "    }, 10, root)\n",
       "  }\n",
       "})(window);"
      ],
      "application/vnd.bokehjs_exec.v0+json": ""
     },
     "metadata": {
      "application/vnd.bokehjs_exec.v0+json": {
       "id": "2689"
      }
     },
     "output_type": "display_data"
    }
   ],
   "source": [
    "# prepare some data\n",
    "x = [1, 2, 3, 4, 5]\n",
    "y = [4, 5, 5, 7, 2]\n",
    "\n",
    "# create a new plot with a specific size\n",
    "p = figure(\n",
    "    title=\"Plot resizing example\",\n",
    "    width=350,\n",
    "    height=250,\n",
    "    x_axis_label=\"x\",\n",
    "    y_axis_label=\"y\",\n",
    ")\n",
    "\n",
    "# chage plot size\n",
    "p.width = 450\n",
    "p.height = 150\n",
    "\n",
    "# add circle renderer\n",
    "circle = p.circle(x, y, fill_color=\"red\", size=15)\n",
    "\n",
    "# show the results\n",
    "show(p)"
   ]
  },
  {
   "cell_type": "markdown",
   "id": "680a31fa",
   "metadata": {},
   "source": [
    "### Enabling responsive plot sizing\n",
    "To make your plot automatically adjust to your browser or screen size, use the attribute **sizing_mode**:"
   ]
  },
  {
   "cell_type": "code",
   "execution_count": 15,
   "id": "d9a19532",
   "metadata": {},
   "outputs": [
    {
     "data": {
      "text/html": [
       "\n",
       "\n",
       "\n",
       "\n",
       "\n",
       "\n",
       "  <div class=\"bk-root\" id=\"0b9861a8-acce-4a4e-a2fa-f7850e239584\" data-root-id=\"2874\"></div>\n"
      ]
     },
     "metadata": {},
     "output_type": "display_data"
    },
    {
     "data": {
      "application/javascript": [
       "(function(root) {\n",
       "  function embed_document(root) {\n",
       "    \n",
       "  var docs_json = {\"4c9bc295-4780-4840-87b5-eeb0d92b8987\":{\"roots\":{\"references\":[{\"attributes\":{\"below\":[{\"id\":\"2885\"}],\"center\":[{\"id\":\"2888\"},{\"id\":\"2892\"}],\"left\":[{\"id\":\"2889\"}],\"plot_height\":250,\"renderers\":[{\"id\":\"2910\"}],\"sizing_mode\":\"stretch_width\",\"title\":{\"id\":\"2875\"},\"toolbar\":{\"id\":\"2900\"},\"x_range\":{\"id\":\"2877\"},\"x_scale\":{\"id\":\"2881\"},\"y_range\":{\"id\":\"2879\"},\"y_scale\":{\"id\":\"2883\"}},\"id\":\"2874\",\"subtype\":\"Figure\",\"type\":\"Plot\"},{\"attributes\":{},\"id\":\"3021\",\"type\":\"BasicTickFormatter\"},{\"attributes\":{},\"id\":\"2879\",\"type\":\"DataRange1d\"},{\"attributes\":{},\"id\":\"2898\",\"type\":\"HelpTool\"},{\"attributes\":{},\"id\":\"3023\",\"type\":\"BasicTickFormatter\"},{\"attributes\":{\"data\":{\"x\":[1,2,3,4,5],\"y\":[4,5,5,7,2]},\"selected\":{\"id\":\"3026\"},\"selection_policy\":{\"id\":\"3025\"}},\"id\":\"2907\",\"type\":\"ColumnDataSource\"},{\"attributes\":{},\"id\":\"2877\",\"type\":\"DataRange1d\"},{\"attributes\":{\"active_drag\":\"auto\",\"active_inspect\":\"auto\",\"active_multi\":null,\"active_scroll\":\"auto\",\"active_tap\":\"auto\",\"tools\":[{\"id\":\"2893\"},{\"id\":\"2894\"},{\"id\":\"2895\"},{\"id\":\"2896\"},{\"id\":\"2897\"},{\"id\":\"2898\"}]},\"id\":\"2900\",\"type\":\"Toolbar\"},{\"attributes\":{},\"id\":\"2893\",\"type\":\"PanTool\"},{\"attributes\":{\"fill_alpha\":{\"value\":0.1},\"fill_color\":{\"value\":\"red\"},\"line_alpha\":{\"value\":0.1},\"line_color\":{\"value\":\"#1f77b4\"},\"size\":{\"units\":\"screen\",\"value\":15},\"x\":{\"field\":\"x\"},\"y\":{\"field\":\"y\"}},\"id\":\"2909\",\"type\":\"Circle\"},{\"attributes\":{\"axis\":{\"id\":\"2889\"},\"dimension\":1,\"ticker\":null},\"id\":\"2892\",\"type\":\"Grid\"},{\"attributes\":{},\"id\":\"2890\",\"type\":\"BasicTicker\"},{\"attributes\":{},\"id\":\"2894\",\"type\":\"WheelZoomTool\"},{\"attributes\":{},\"id\":\"2896\",\"type\":\"SaveTool\"},{\"attributes\":{},\"id\":\"2897\",\"type\":\"ResetTool\"},{\"attributes\":{\"source\":{\"id\":\"2907\"}},\"id\":\"2911\",\"type\":\"CDSView\"},{\"attributes\":{\"overlay\":{\"id\":\"2899\"}},\"id\":\"2895\",\"type\":\"BoxZoomTool\"},{\"attributes\":{\"data_source\":{\"id\":\"2907\"},\"glyph\":{\"id\":\"2908\"},\"hover_glyph\":null,\"muted_glyph\":null,\"nonselection_glyph\":{\"id\":\"2909\"},\"selection_glyph\":null,\"view\":{\"id\":\"2911\"}},\"id\":\"2910\",\"type\":\"GlyphRenderer\"},{\"attributes\":{\"text\":\"Plot responsive sizing example\",\"text_color\":{\"value\":\"#5B5B5B\"},\"text_font\":\"Calibri Light\",\"text_font_size\":{\"value\":\"1.25em\"},\"text_font_style\":\"bold\"},\"id\":\"2875\",\"type\":\"Title\"},{\"attributes\":{\"axis_label\":\"y\",\"axis_label_standoff\":10,\"axis_label_text_color\":\"#5B5B5B\",\"axis_label_text_font\":\"Calibri Light\",\"axis_label_text_font_size\":\"1.15em\",\"axis_label_text_font_style\":\"bold\",\"axis_line_alpha\":1,\"axis_line_color\":\"#5B5B5B\",\"formatter\":{\"id\":\"3023\"},\"major_label_text_color\":\"#5B5B5B\",\"major_label_text_font\":\"Calibri Light\",\"major_label_text_font_size\":\"0.95em\",\"major_label_text_font_style\":\"bold\",\"major_tick_in\":0,\"major_tick_line_alpha\":0.25,\"major_tick_line_color\":\"#5B5B5B\",\"major_tick_out\":3,\"minor_tick_line_alpha\":0.25,\"minor_tick_line_color\":\"#5B5B5B\",\"ticker\":{\"id\":\"2890\"}},\"id\":\"2889\",\"type\":\"LinearAxis\"},{\"attributes\":{},\"id\":\"2883\",\"type\":\"LinearScale\"},{\"attributes\":{\"fill_color\":{\"value\":\"red\"},\"line_color\":{\"value\":\"#1f77b4\"},\"size\":{\"units\":\"screen\",\"value\":15},\"x\":{\"field\":\"x\"},\"y\":{\"field\":\"y\"}},\"id\":\"2908\",\"type\":\"Circle\"},{\"attributes\":{\"axis_label\":\"x\",\"axis_label_standoff\":10,\"axis_label_text_color\":\"#5B5B5B\",\"axis_label_text_font\":\"Calibri Light\",\"axis_label_text_font_size\":\"1.15em\",\"axis_label_text_font_style\":\"bold\",\"axis_line_alpha\":1,\"axis_line_color\":\"#5B5B5B\",\"formatter\":{\"id\":\"3021\"},\"major_label_text_color\":\"#5B5B5B\",\"major_label_text_font\":\"Calibri Light\",\"major_label_text_font_size\":\"0.95em\",\"major_label_text_font_style\":\"bold\",\"major_tick_in\":0,\"major_tick_line_alpha\":0.25,\"major_tick_line_color\":\"#5B5B5B\",\"major_tick_out\":3,\"minor_tick_line_alpha\":0.25,\"minor_tick_line_color\":\"#5B5B5B\",\"ticker\":{\"id\":\"2886\"}},\"id\":\"2885\",\"type\":\"LinearAxis\"},{\"attributes\":{},\"id\":\"3025\",\"type\":\"UnionRenderers\"},{\"attributes\":{},\"id\":\"3026\",\"type\":\"Selection\"},{\"attributes\":{},\"id\":\"2886\",\"type\":\"BasicTicker\"},{\"attributes\":{\"axis\":{\"id\":\"2885\"},\"ticker\":null},\"id\":\"2888\",\"type\":\"Grid\"},{\"attributes\":{},\"id\":\"2881\",\"type\":\"LinearScale\"},{\"attributes\":{\"bottom_units\":\"screen\",\"fill_alpha\":0.5,\"fill_color\":\"lightgrey\",\"left_units\":\"screen\",\"level\":\"overlay\",\"line_alpha\":1.0,\"line_color\":\"black\",\"line_dash\":[4,4],\"line_width\":2,\"right_units\":\"screen\",\"top_units\":\"screen\"},\"id\":\"2899\",\"type\":\"BoxAnnotation\"}],\"root_ids\":[\"2874\"]},\"title\":\"Bokeh Application\",\"version\":\"2.2.2\"}};\n",
       "  var render_items = [{\"docid\":\"4c9bc295-4780-4840-87b5-eeb0d92b8987\",\"root_ids\":[\"2874\"],\"roots\":{\"2874\":\"0b9861a8-acce-4a4e-a2fa-f7850e239584\"}}];\n",
       "  root.Bokeh.embed.embed_items_notebook(docs_json, render_items);\n",
       "\n",
       "  }\n",
       "  if (root.Bokeh !== undefined) {\n",
       "    embed_document(root);\n",
       "  } else {\n",
       "    var attempts = 0;\n",
       "    var timer = setInterval(function(root) {\n",
       "      if (root.Bokeh !== undefined) {\n",
       "        clearInterval(timer);\n",
       "        embed_document(root);\n",
       "      } else {\n",
       "        attempts++;\n",
       "        if (attempts > 100) {\n",
       "          clearInterval(timer);\n",
       "          console.log(\"Bokeh: ERROR: Unable to run BokehJS code because BokehJS library is missing\");\n",
       "        }\n",
       "      }\n",
       "    }, 10, root)\n",
       "  }\n",
       "})(window);"
      ],
      "application/vnd.bokehjs_exec.v0+json": ""
     },
     "metadata": {
      "application/vnd.bokehjs_exec.v0+json": {
       "id": "2874"
      }
     },
     "output_type": "display_data"
    }
   ],
   "source": [
    "# prepare some data\n",
    "x = [1, 2, 3, 4, 5]\n",
    "y = [4, 5, 5, 7, 2]\n",
    "\n",
    "# create a new plot with responsive width\n",
    "p = figure(\n",
    "    title=\"Plot responsive sizing example\",\n",
    "    sizing_mode=\"stretch_width\",\n",
    "    height=250,\n",
    "    x_axis_label=\"x\",\n",
    "    y_axis_label=\"y\",\n",
    ")\n",
    "\n",
    "# add circle renderer\n",
    "circle = p.circle(x, y, fill_color=\"red\", size=15)\n",
    "\n",
    "# show the results\n",
    "show(p)"
   ]
  },
  {
   "cell_type": "markdown",
   "id": "29750cd2",
   "metadata": {},
   "source": [
    "To learn more about how to control the size of plots, see [Styling plots](https://docs.bokeh.org/en/latest/docs/user_guide/styling.html#userguide-styling-plots) in the user guide and the entry for [Plot](https://docs.bokeh.org/en/latest/docs/reference/models/plots.html#bokeh.models.Plot) in the reference guide.\n",
    "\n",
    "For more information on responsive sizing, see [Sizing modes](https://docs.bokeh.org/en/latest/docs/user_guide/layout.html#userguide-layout-sizing-mode) in the user guide and sizing_mode in the reference guide.\n",
    "\n",
    "## Customizing axes\n",
    "You can set various attributes to change the way the axes in your plot work and look.\n",
    "\n",
    "###Setting your axes’ appearance\n",
    "Options for customizing the appearance of your plot include:\n",
    "- setting labels for your axes\n",
    "- styling the numbers displayed with your axes\n",
    "- defining colors and other layout properties for the axes themselves\n",
    "\n",
    "For example:\n"
   ]
  },
  {
   "cell_type": "code",
   "execution_count": 19,
   "id": "f8da14c1",
   "metadata": {},
   "outputs": [
    {
     "data": {
      "text/html": [
       "\n",
       "\n",
       "\n",
       "\n",
       "\n",
       "\n",
       "  <div class=\"bk-root\" id=\"dce66f40-394d-42c2-884c-ac1d6cdc0f42\" data-root-id=\"3953\"></div>\n"
      ]
     },
     "metadata": {},
     "output_type": "display_data"
    },
    {
     "data": {
      "application/javascript": [
       "(function(root) {\n",
       "  function embed_document(root) {\n",
       "    \n",
       "  var docs_json = {\"1435a698-ba62-47cb-90fb-b5e24be5f5a9\":{\"roots\":{\"references\":[{\"attributes\":{\"below\":[{\"id\":\"3964\"}],\"center\":[{\"id\":\"3967\"},{\"id\":\"3971\"}],\"left\":[{\"id\":\"3968\"}],\"max_width\":500,\"plot_height\":350,\"renderers\":[{\"id\":\"3989\"}],\"sizing_mode\":\"stretch_width\",\"title\":{\"id\":\"3954\"},\"toolbar\":{\"id\":\"3979\"},\"x_range\":{\"id\":\"3956\"},\"x_scale\":{\"id\":\"3960\"},\"y_range\":{\"id\":\"3958\"},\"y_scale\":{\"id\":\"3962\"}},\"id\":\"3953\",\"subtype\":\"Figure\",\"type\":\"Plot\"},{\"attributes\":{},\"id\":\"3973\",\"type\":\"WheelZoomTool\"},{\"attributes\":{},\"id\":\"3976\",\"type\":\"ResetTool\"},{\"attributes\":{\"axis_label\":\"Pressure\",\"axis_label_standoff\":10,\"axis_label_text_color\":\"#5B5B5B\",\"axis_label_text_font\":\"Calibri Light\",\"axis_label_text_font_size\":\"1.15em\",\"axis_label_text_font_style\":\"bold\",\"axis_line_alpha\":1,\"axis_line_color\":\"#5B5B5B\",\"formatter\":{\"id\":\"4156\"},\"major_label_orientation\":\"vertical\",\"major_label_text_color\":\"orange\",\"major_label_text_font\":\"Calibri Light\",\"major_label_text_font_size\":\"0.95em\",\"major_label_text_font_style\":\"bold\",\"major_tick_in\":0,\"major_tick_line_alpha\":0.25,\"major_tick_line_color\":\"#5B5B5B\",\"major_tick_out\":3,\"minor_tick_in\":-3,\"minor_tick_line_alpha\":0.25,\"minor_tick_line_color\":\"#5B5B5B\",\"minor_tick_out\":6,\"ticker\":{\"id\":\"3969\"}},\"id\":\"3968\",\"type\":\"LinearAxis\"},{\"attributes\":{\"overlay\":{\"id\":\"3978\"}},\"id\":\"3974\",\"type\":\"BoxZoomTool\"},{\"attributes\":{},\"id\":\"3960\",\"type\":\"LinearScale\"},{\"attributes\":{},\"id\":\"3958\",\"type\":\"DataRange1d\"},{\"attributes\":{\"active_drag\":\"auto\",\"active_inspect\":\"auto\",\"active_multi\":null,\"active_scroll\":\"auto\",\"active_tap\":\"auto\",\"tools\":[{\"id\":\"3972\"},{\"id\":\"3973\"},{\"id\":\"3974\"},{\"id\":\"3975\"},{\"id\":\"3976\"},{\"id\":\"3977\"}]},\"id\":\"3979\",\"type\":\"Toolbar\"},{\"attributes\":{},\"id\":\"3962\",\"type\":\"LinearScale\"},{\"attributes\":{\"axis\":{\"id\":\"3968\"},\"dimension\":1,\"ticker\":null},\"id\":\"3971\",\"type\":\"Grid\"},{\"attributes\":{\"bottom_units\":\"screen\",\"fill_alpha\":0.5,\"fill_color\":\"lightgrey\",\"left_units\":\"screen\",\"level\":\"overlay\",\"line_alpha\":1.0,\"line_color\":\"black\",\"line_dash\":[4,4],\"line_width\":2,\"right_units\":\"screen\",\"top_units\":\"screen\"},\"id\":\"3978\",\"type\":\"BoxAnnotation\"},{\"attributes\":{\"data\":{\"x\":[1,2,3,4,5],\"y\":[4,5,5,7,2]},\"selected\":{\"id\":\"4159\"},\"selection_policy\":{\"id\":\"4158\"}},\"id\":\"3986\",\"type\":\"ColumnDataSource\"},{\"attributes\":{\"fill_color\":{\"value\":\"#1f77b4\"},\"line_color\":{\"value\":\"#1f77b4\"},\"size\":{\"units\":\"screen\",\"value\":10},\"x\":{\"field\":\"x\"},\"y\":{\"field\":\"y\"}},\"id\":\"3987\",\"type\":\"Circle\"},{\"attributes\":{\"text\":\"Customized axes example\",\"text_color\":{\"value\":\"#5B5B5B\"},\"text_font\":\"Calibri Light\",\"text_font_size\":{\"value\":\"1.25em\"},\"text_font_style\":\"bold\"},\"id\":\"3954\",\"type\":\"Title\"},{\"attributes\":{\"data_source\":{\"id\":\"3986\"},\"glyph\":{\"id\":\"3987\"},\"hover_glyph\":null,\"muted_glyph\":null,\"nonselection_glyph\":{\"id\":\"3988\"},\"selection_glyph\":null,\"view\":{\"id\":\"3990\"}},\"id\":\"3989\",\"type\":\"GlyphRenderer\"},{\"attributes\":{\"axis_label\":\"Temp $\\\\mu$\",\"axis_label_standoff\":10,\"axis_label_text_color\":\"#5B5B5B\",\"axis_label_text_font\":\"Calibri Light\",\"axis_label_text_font_size\":\"1.15em\",\"axis_label_text_font_style\":\"bold\",\"axis_line_alpha\":1,\"axis_line_color\":\"red\",\"axis_line_width\":3,\"formatter\":{\"id\":\"4154\"},\"major_label_text_color\":\"#5B5B5B\",\"major_label_text_font\":\"Calibri Light\",\"major_label_text_font_size\":\"0.95em\",\"major_label_text_font_style\":\"bold\",\"major_tick_in\":0,\"major_tick_line_alpha\":0.25,\"major_tick_line_color\":\"#5B5B5B\",\"major_tick_out\":3,\"minor_tick_in\":-3,\"minor_tick_line_alpha\":0.25,\"minor_tick_line_color\":\"#5B5B5B\",\"minor_tick_out\":6,\"ticker\":{\"id\":\"3965\"}},\"id\":\"3964\",\"type\":\"LinearAxis\"},{\"attributes\":{},\"id\":\"3956\",\"type\":\"DataRange1d\"},{\"attributes\":{},\"id\":\"4158\",\"type\":\"UnionRenderers\"},{\"attributes\":{},\"id\":\"3965\",\"type\":\"BasicTicker\"},{\"attributes\":{},\"id\":\"4159\",\"type\":\"Selection\"},{\"attributes\":{},\"id\":\"3972\",\"type\":\"PanTool\"},{\"attributes\":{},\"id\":\"3969\",\"type\":\"BasicTicker\"},{\"attributes\":{},\"id\":\"4154\",\"type\":\"BasicTickFormatter\"},{\"attributes\":{\"fill_alpha\":{\"value\":0.1},\"fill_color\":{\"value\":\"#1f77b4\"},\"line_alpha\":{\"value\":0.1},\"line_color\":{\"value\":\"#1f77b4\"},\"size\":{\"units\":\"screen\",\"value\":10},\"x\":{\"field\":\"x\"},\"y\":{\"field\":\"y\"}},\"id\":\"3988\",\"type\":\"Circle\"},{\"attributes\":{\"axis\":{\"id\":\"3964\"},\"ticker\":null},\"id\":\"3967\",\"type\":\"Grid\"},{\"attributes\":{},\"id\":\"4156\",\"type\":\"BasicTickFormatter\"},{\"attributes\":{},\"id\":\"3977\",\"type\":\"HelpTool\"},{\"attributes\":{\"source\":{\"id\":\"3986\"}},\"id\":\"3990\",\"type\":\"CDSView\"},{\"attributes\":{},\"id\":\"3975\",\"type\":\"SaveTool\"}],\"root_ids\":[\"3953\"]},\"title\":\"Bokeh Application\",\"version\":\"2.2.2\"}};\n",
       "  var render_items = [{\"docid\":\"1435a698-ba62-47cb-90fb-b5e24be5f5a9\",\"root_ids\":[\"3953\"],\"roots\":{\"3953\":\"dce66f40-394d-42c2-884c-ac1d6cdc0f42\"}}];\n",
       "  root.Bokeh.embed.embed_items_notebook(docs_json, render_items);\n",
       "\n",
       "  }\n",
       "  if (root.Bokeh !== undefined) {\n",
       "    embed_document(root);\n",
       "  } else {\n",
       "    var attempts = 0;\n",
       "    var timer = setInterval(function(root) {\n",
       "      if (root.Bokeh !== undefined) {\n",
       "        clearInterval(timer);\n",
       "        embed_document(root);\n",
       "      } else {\n",
       "        attempts++;\n",
       "        if (attempts > 100) {\n",
       "          clearInterval(timer);\n",
       "          console.log(\"Bokeh: ERROR: Unable to run BokehJS code because BokehJS library is missing\");\n",
       "        }\n",
       "      }\n",
       "    }, 10, root)\n",
       "  }\n",
       "})(window);"
      ],
      "application/vnd.bokehjs_exec.v0+json": ""
     },
     "metadata": {
      "application/vnd.bokehjs_exec.v0+json": {
       "id": "3953"
      }
     },
     "output_type": "display_data"
    }
   ],
   "source": [
    "# prepare some data\n",
    "x = [1, 2, 3, 4, 5]\n",
    "y = [4, 5, 5, 7, 2]\n",
    "\n",
    "# create a plot\n",
    "p = figure(\n",
    "    title=\"Customized axes example\",\n",
    "    sizing_mode=\"stretch_width\",\n",
    "    max_width=500,\n",
    "    height=350,\n",
    ")\n",
    "\n",
    "# add a renderer\n",
    "p.circle(x, y, size=10)\n",
    "\n",
    "# change some things about the x-axis\n",
    "p.xaxis.axis_label = \"Temp\"\n",
    "p.xaxis.axis_line_width = 3\n",
    "p.xaxis.axis_line_color = \"red\"\n",
    "\n",
    "# change some things about the y-axis\n",
    "p.yaxis.axis_label = \"Pressure\"\n",
    "p.yaxis.major_label_text_color = \"orange\"\n",
    "p.yaxis.major_label_orientation = \"vertical\"\n",
    "\n",
    "# change things on all axes\n",
    "p.axis.minor_tick_in = -3\n",
    "p.axis.minor_tick_out = 6\n",
    "\n",
    "# show the results\n",
    "show(p)"
   ]
  },
  {
   "cell_type": "markdown",
   "id": "5ddf2bca",
   "metadata": {},
   "source": [
    "### Defining axis ranges\n",
    "When drawing the axes for your plot, Bokeh automatically determines the range each axis needs to cover in order to display all your values. For example, if the values on your y-axis are between 2 and 17, Bokeh automatically creates a y-axis that ranges from a little below 2 to a little above 17.\n",
    "\n",
    "To define the range for your axes manually, use the y_range() function or the y_range() properties of your Plot object when you call the figure() function:\n"
   ]
  },
  {
   "cell_type": "code",
   "execution_count": 20,
   "id": "a0c62d0c",
   "metadata": {},
   "outputs": [
    {
     "data": {
      "text/html": [
       "\n",
       "\n",
       "\n",
       "\n",
       "\n",
       "\n",
       "  <div class=\"bk-root\" id=\"e8f85e20-66c4-4825-ae8b-7f52727a216c\" data-root-id=\"3538\"></div>\n"
      ]
     },
     "metadata": {},
     "output_type": "display_data"
    },
    {
     "data": {
      "application/javascript": [
       "(function(root) {\n",
       "  function embed_document(root) {\n",
       "    \n",
       "  var docs_json = {\"449bf779-c510-4934-acbd-b7b831261ea6\":{\"roots\":{\"references\":[{\"attributes\":{\"below\":[{\"id\":\"3549\"}],\"center\":[{\"id\":\"3552\"},{\"id\":\"3556\"}],\"left\":[{\"id\":\"3553\"}],\"max_width\":500,\"plot_height\":250,\"renderers\":[{\"id\":\"3574\"}],\"sizing_mode\":\"stretch_width\",\"title\":{\"id\":\"3539\"},\"toolbar\":{\"id\":\"3564\"},\"x_range\":{\"id\":\"3541\"},\"x_scale\":{\"id\":\"3545\"},\"y_range\":{\"id\":\"3543\"},\"y_scale\":{\"id\":\"3547\"}},\"id\":\"3538\",\"subtype\":\"Figure\",\"type\":\"Plot\"},{\"attributes\":{},\"id\":\"3713\",\"type\":\"UnionRenderers\"},{\"attributes\":{\"text\":\"Axis range example\",\"text_color\":{\"value\":\"#5B5B5B\"},\"text_font\":\"Calibri Light\",\"text_font_size\":{\"value\":\"1.25em\"},\"text_font_style\":\"bold\"},\"id\":\"3539\",\"type\":\"Title\"},{\"attributes\":{\"fill_color\":{\"value\":\"#1f77b4\"},\"line_color\":{\"value\":\"#1f77b4\"},\"size\":{\"units\":\"screen\",\"value\":8},\"x\":{\"field\":\"x\"},\"y\":{\"field\":\"y\"}},\"id\":\"3572\",\"type\":\"Circle\"},{\"attributes\":{\"data\":{\"x\":[1,2,3,4,5],\"y\":[4,5,5,7,2]},\"selected\":{\"id\":\"3714\"},\"selection_policy\":{\"id\":\"3713\"}},\"id\":\"3571\",\"type\":\"ColumnDataSource\"},{\"attributes\":{\"source\":{\"id\":\"3571\"}},\"id\":\"3575\",\"type\":\"CDSView\"},{\"attributes\":{},\"id\":\"3708\",\"type\":\"BasicTickFormatter\"},{\"attributes\":{\"data_source\":{\"id\":\"3571\"},\"glyph\":{\"id\":\"3572\"},\"hover_glyph\":null,\"muted_glyph\":null,\"nonselection_glyph\":{\"id\":\"3573\"},\"selection_glyph\":null,\"view\":{\"id\":\"3575\"}},\"id\":\"3574\",\"type\":\"GlyphRenderer\"},{\"attributes\":{},\"id\":\"3550\",\"type\":\"BasicTicker\"},{\"attributes\":{\"axis\":{\"id\":\"3549\"},\"ticker\":null},\"id\":\"3552\",\"type\":\"Grid\"},{\"attributes\":{\"end\":25},\"id\":\"3543\",\"type\":\"Range1d\"},{\"attributes\":{},\"id\":\"3547\",\"type\":\"LinearScale\"},{\"attributes\":{},\"id\":\"3561\",\"type\":\"ResetTool\"},{\"attributes\":{},\"id\":\"3560\",\"type\":\"SaveTool\"},{\"attributes\":{},\"id\":\"3710\",\"type\":\"BasicTickFormatter\"},{\"attributes\":{\"overlay\":{\"id\":\"3563\"}},\"id\":\"3559\",\"type\":\"BoxZoomTool\"},{\"attributes\":{},\"id\":\"3557\",\"type\":\"PanTool\"},{\"attributes\":{\"axis_label_standoff\":10,\"axis_label_text_color\":\"#5B5B5B\",\"axis_label_text_font\":\"Calibri Light\",\"axis_label_text_font_size\":\"1.15em\",\"axis_label_text_font_style\":\"bold\",\"axis_line_alpha\":1,\"axis_line_color\":\"#5B5B5B\",\"formatter\":{\"id\":\"3710\"},\"major_label_text_color\":\"#5B5B5B\",\"major_label_text_font\":\"Calibri Light\",\"major_label_text_font_size\":\"0.95em\",\"major_label_text_font_style\":\"bold\",\"major_tick_in\":0,\"major_tick_line_alpha\":0.25,\"major_tick_line_color\":\"#5B5B5B\",\"major_tick_out\":3,\"minor_tick_line_alpha\":0.25,\"minor_tick_line_color\":\"#5B5B5B\",\"ticker\":{\"id\":\"3550\"}},\"id\":\"3549\",\"type\":\"LinearAxis\"},{\"attributes\":{},\"id\":\"3541\",\"type\":\"DataRange1d\"},{\"attributes\":{},\"id\":\"3545\",\"type\":\"LinearScale\"},{\"attributes\":{},\"id\":\"3558\",\"type\":\"WheelZoomTool\"},{\"attributes\":{\"axis_label_standoff\":10,\"axis_label_text_color\":\"#5B5B5B\",\"axis_label_text_font\":\"Calibri Light\",\"axis_label_text_font_size\":\"1.15em\",\"axis_label_text_font_style\":\"bold\",\"axis_line_alpha\":1,\"axis_line_color\":\"#5B5B5B\",\"formatter\":{\"id\":\"3708\"},\"major_label_text_color\":\"#5B5B5B\",\"major_label_text_font\":\"Calibri Light\",\"major_label_text_font_size\":\"0.95em\",\"major_label_text_font_style\":\"bold\",\"major_tick_in\":0,\"major_tick_line_alpha\":0.25,\"major_tick_line_color\":\"#5B5B5B\",\"major_tick_out\":3,\"minor_tick_line_alpha\":0.25,\"minor_tick_line_color\":\"#5B5B5B\",\"ticker\":{\"id\":\"3554\"}},\"id\":\"3553\",\"type\":\"LinearAxis\"},{\"attributes\":{},\"id\":\"3562\",\"type\":\"HelpTool\"},{\"attributes\":{\"bottom_units\":\"screen\",\"fill_alpha\":0.5,\"fill_color\":\"lightgrey\",\"left_units\":\"screen\",\"level\":\"overlay\",\"line_alpha\":1.0,\"line_color\":\"black\",\"line_dash\":[4,4],\"line_width\":2,\"right_units\":\"screen\",\"top_units\":\"screen\"},\"id\":\"3563\",\"type\":\"BoxAnnotation\"},{\"attributes\":{},\"id\":\"3714\",\"type\":\"Selection\"},{\"attributes\":{\"axis\":{\"id\":\"3553\"},\"dimension\":1,\"ticker\":null},\"id\":\"3556\",\"type\":\"Grid\"},{\"attributes\":{},\"id\":\"3554\",\"type\":\"BasicTicker\"},{\"attributes\":{\"active_drag\":\"auto\",\"active_inspect\":\"auto\",\"active_multi\":null,\"active_scroll\":\"auto\",\"active_tap\":\"auto\",\"tools\":[{\"id\":\"3557\"},{\"id\":\"3558\"},{\"id\":\"3559\"},{\"id\":\"3560\"},{\"id\":\"3561\"},{\"id\":\"3562\"}]},\"id\":\"3564\",\"type\":\"Toolbar\"},{\"attributes\":{\"fill_alpha\":{\"value\":0.1},\"fill_color\":{\"value\":\"#1f77b4\"},\"line_alpha\":{\"value\":0.1},\"line_color\":{\"value\":\"#1f77b4\"},\"size\":{\"units\":\"screen\",\"value\":8},\"x\":{\"field\":\"x\"},\"y\":{\"field\":\"y\"}},\"id\":\"3573\",\"type\":\"Circle\"}],\"root_ids\":[\"3538\"]},\"title\":\"Bokeh Application\",\"version\":\"2.2.2\"}};\n",
       "  var render_items = [{\"docid\":\"449bf779-c510-4934-acbd-b7b831261ea6\",\"root_ids\":[\"3538\"],\"roots\":{\"3538\":\"e8f85e20-66c4-4825-ae8b-7f52727a216c\"}}];\n",
       "  root.Bokeh.embed.embed_items_notebook(docs_json, render_items);\n",
       "\n",
       "  }\n",
       "  if (root.Bokeh !== undefined) {\n",
       "    embed_document(root);\n",
       "  } else {\n",
       "    var attempts = 0;\n",
       "    var timer = setInterval(function(root) {\n",
       "      if (root.Bokeh !== undefined) {\n",
       "        clearInterval(timer);\n",
       "        embed_document(root);\n",
       "      } else {\n",
       "        attempts++;\n",
       "        if (attempts > 100) {\n",
       "          clearInterval(timer);\n",
       "          console.log(\"Bokeh: ERROR: Unable to run BokehJS code because BokehJS library is missing\");\n",
       "        }\n",
       "      }\n",
       "    }, 10, root)\n",
       "  }\n",
       "})(window);"
      ],
      "application/vnd.bokehjs_exec.v0+json": ""
     },
     "metadata": {
      "application/vnd.bokehjs_exec.v0+json": {
       "id": "3538"
      }
     },
     "output_type": "display_data"
    }
   ],
   "source": [
    "# prepare some data\n",
    "x = [1, 2, 3, 4, 5]\n",
    "y = [4, 5, 5, 7, 2]\n",
    "\n",
    "# create a new plot with responsive width\n",
    "p = figure(\n",
    "    y_range=(0, 25),\n",
    "    title=\"Axis range example\",\n",
    "    sizing_mode=\"stretch_width\",\n",
    "    max_width=500,\n",
    "    height=250,\n",
    ")\n",
    "\n",
    "# add circle renderer with additional arguments\n",
    "circle = p.circle(x, y, size=8)\n",
    "\n",
    "# show the results\n",
    "show(p)"
   ]
  },
  {
   "cell_type": "markdown",
   "id": "4ef1307c",
   "metadata": {},
   "source": [
    "## Formatting axis ticks\n",
    "You can format the text that appears alongside your axes with Bokeh’s TickFormatter objects. Use these formatters to display currency symbols on your y-axis, for example:\n",
    "\n",
    "To display dollar amounts instead of just numbers on your y-axis, use the NumeralTickFormatter.\n",
    "\n",
    "First, import the NumeralTickFormatter from bokeh.models:\n",
    "\n",
    "     from bokeh.models import NumeralTickFormatter\n",
    "\n",
    "Then, after creating your plot with the **figure()** function, assign the NumeralTickFormatter to the formatter property of your plot’s yaxis:\n",
    "\n",
    "    p.yaxis[0].formatter = NumeralTickFormatter(format=\"$0.00\")\n",
    "    \n",
    "The NumeralTickFormatter supports different formats, including \"$0.00\" to generate values such as \"$7,42\".\n",
    "\n",
    "This is what the completed code looks like:"
   ]
  },
  {
   "cell_type": "code",
   "execution_count": 21,
   "id": "5eb90ec1",
   "metadata": {},
   "outputs": [
    {
     "data": {
      "text/html": [
       "\n",
       "\n",
       "\n",
       "\n",
       "\n",
       "\n",
       "  <div class=\"bk-root\" id=\"74ad696e-8e2a-4419-85d7-a5ebc90d87e2\" data-root-id=\"3755\"></div>\n"
      ]
     },
     "metadata": {},
     "output_type": "display_data"
    },
    {
     "data": {
      "application/javascript": [
       "(function(root) {\n",
       "  function embed_document(root) {\n",
       "    \n",
       "  var docs_json = {\"77b878d5-bb42-4e7d-9f9b-4009c949cade\":{\"roots\":{\"references\":[{\"attributes\":{\"below\":[{\"id\":\"3766\"}],\"center\":[{\"id\":\"3769\"},{\"id\":\"3773\"}],\"left\":[{\"id\":\"3770\"}],\"max_width\":500,\"plot_height\":250,\"renderers\":[{\"id\":\"3793\"},{\"id\":\"3798\"}],\"sizing_mode\":\"stretch_width\",\"title\":{\"id\":\"3756\"},\"toolbar\":{\"id\":\"3781\"},\"x_range\":{\"id\":\"3758\"},\"x_scale\":{\"id\":\"3762\"},\"y_range\":{\"id\":\"3760\"},\"y_scale\":{\"id\":\"3764\"}},\"id\":\"3755\",\"subtype\":\"Figure\",\"type\":\"Plot\"},{\"attributes\":{},\"id\":\"3762\",\"type\":\"LinearScale\"},{\"attributes\":{},\"id\":\"3945\",\"type\":\"Selection\"},{\"attributes\":{},\"id\":\"3764\",\"type\":\"LinearScale\"},{\"attributes\":{\"text\":\"Tick formatter example\",\"text_color\":{\"value\":\"#5B5B5B\"},\"text_font\":\"Calibri Light\",\"text_font_size\":{\"value\":\"1.25em\"},\"text_font_style\":\"bold\"},\"id\":\"3756\",\"type\":\"Title\"},{\"attributes\":{},\"id\":\"3767\",\"type\":\"BasicTicker\"},{\"attributes\":{},\"id\":\"3779\",\"type\":\"HelpTool\"},{\"attributes\":{\"axis_label_standoff\":10,\"axis_label_text_color\":\"#5B5B5B\",\"axis_label_text_font\":\"Calibri Light\",\"axis_label_text_font_size\":\"1.15em\",\"axis_label_text_font_style\":\"bold\",\"axis_line_alpha\":1,\"axis_line_color\":\"#5B5B5B\",\"formatter\":{\"id\":\"3941\"},\"major_label_text_color\":\"#5B5B5B\",\"major_label_text_font\":\"Calibri Light\",\"major_label_text_font_size\":\"0.95em\",\"major_label_text_font_style\":\"bold\",\"major_tick_in\":0,\"major_tick_line_alpha\":0.25,\"major_tick_line_color\":\"#5B5B5B\",\"major_tick_out\":3,\"minor_tick_line_alpha\":0.25,\"minor_tick_line_color\":\"#5B5B5B\",\"ticker\":{\"id\":\"3767\"}},\"id\":\"3766\",\"type\":\"LinearAxis\"},{\"attributes\":{},\"id\":\"3944\",\"type\":\"UnionRenderers\"},{\"attributes\":{\"axis_label_standoff\":10,\"axis_label_text_color\":\"#5B5B5B\",\"axis_label_text_font\":\"Calibri Light\",\"axis_label_text_font_size\":\"1.15em\",\"axis_label_text_font_style\":\"bold\",\"axis_line_alpha\":1,\"axis_line_color\":\"#5B5B5B\",\"formatter\":{\"id\":\"3788\"},\"major_label_text_color\":\"#5B5B5B\",\"major_label_text_font\":\"Calibri Light\",\"major_label_text_font_size\":\"0.95em\",\"major_label_text_font_style\":\"bold\",\"major_tick_in\":0,\"major_tick_line_alpha\":0.25,\"major_tick_line_color\":\"#5B5B5B\",\"major_tick_out\":3,\"minor_tick_line_alpha\":0.25,\"minor_tick_line_color\":\"#5B5B5B\",\"ticker\":{\"id\":\"3771\"}},\"id\":\"3770\",\"type\":\"LinearAxis\"},{\"attributes\":{\"axis\":{\"id\":\"3766\"},\"ticker\":null},\"id\":\"3769\",\"type\":\"Grid\"},{\"attributes\":{\"axis\":{\"id\":\"3770\"},\"dimension\":1,\"ticker\":null},\"id\":\"3773\",\"type\":\"Grid\"},{\"attributes\":{\"format\":\"$0.00\"},\"id\":\"3788\",\"type\":\"NumeralTickFormatter\"},{\"attributes\":{},\"id\":\"3771\",\"type\":\"BasicTicker\"},{\"attributes\":{\"data\":{\"x\":[1,2,3,4,5],\"y\":[4,5,5,7,2]},\"selected\":{\"id\":\"3945\"},\"selection_policy\":{\"id\":\"3944\"}},\"id\":\"3790\",\"type\":\"ColumnDataSource\"},{\"attributes\":{},\"id\":\"3946\",\"type\":\"UnionRenderers\"},{\"attributes\":{},\"id\":\"3947\",\"type\":\"Selection\"},{\"attributes\":{},\"id\":\"3775\",\"type\":\"WheelZoomTool\"},{\"attributes\":{\"active_drag\":\"auto\",\"active_inspect\":\"auto\",\"active_multi\":null,\"active_scroll\":\"auto\",\"active_tap\":\"auto\",\"tools\":[{\"id\":\"3774\"},{\"id\":\"3775\"},{\"id\":\"3776\"},{\"id\":\"3777\"},{\"id\":\"3778\"},{\"id\":\"3779\"}]},\"id\":\"3781\",\"type\":\"Toolbar\"},{\"attributes\":{},\"id\":\"3774\",\"type\":\"PanTool\"},{\"attributes\":{\"overlay\":{\"id\":\"3780\"}},\"id\":\"3776\",\"type\":\"BoxZoomTool\"},{\"attributes\":{},\"id\":\"3777\",\"type\":\"SaveTool\"},{\"attributes\":{},\"id\":\"3778\",\"type\":\"ResetTool\"},{\"attributes\":{\"source\":{\"id\":\"3790\"}},\"id\":\"3794\",\"type\":\"CDSView\"},{\"attributes\":{},\"id\":\"3941\",\"type\":\"BasicTickFormatter\"},{\"attributes\":{\"data\":{\"x\":[1,2,3,4,5],\"y\":[4,5,5,7,2]},\"selected\":{\"id\":\"3947\"},\"selection_policy\":{\"id\":\"3946\"}},\"id\":\"3795\",\"type\":\"ColumnDataSource\"},{\"attributes\":{\"fill_alpha\":{\"value\":0.1},\"fill_color\":{\"value\":\"#1f77b4\"},\"line_alpha\":{\"value\":0.1},\"line_color\":{\"value\":\"#1f77b4\"},\"size\":{\"units\":\"screen\",\"value\":8},\"x\":{\"field\":\"x\"},\"y\":{\"field\":\"y\"}},\"id\":\"3792\",\"type\":\"Circle\"},{\"attributes\":{},\"id\":\"3758\",\"type\":\"DataRange1d\"},{\"attributes\":{\"data_source\":{\"id\":\"3790\"},\"glyph\":{\"id\":\"3791\"},\"hover_glyph\":null,\"muted_glyph\":null,\"nonselection_glyph\":{\"id\":\"3792\"},\"selection_glyph\":null,\"view\":{\"id\":\"3794\"}},\"id\":\"3793\",\"type\":\"GlyphRenderer\"},{\"attributes\":{\"line_color\":\"navy\",\"x\":{\"field\":\"x\"},\"y\":{\"field\":\"y\"}},\"id\":\"3796\",\"type\":\"Line\"},{\"attributes\":{\"source\":{\"id\":\"3795\"}},\"id\":\"3799\",\"type\":\"CDSView\"},{\"attributes\":{\"line_alpha\":0.1,\"line_color\":\"navy\",\"x\":{\"field\":\"x\"},\"y\":{\"field\":\"y\"}},\"id\":\"3797\",\"type\":\"Line\"},{\"attributes\":{\"data_source\":{\"id\":\"3795\"},\"glyph\":{\"id\":\"3796\"},\"hover_glyph\":null,\"muted_glyph\":null,\"nonselection_glyph\":{\"id\":\"3797\"},\"selection_glyph\":null,\"view\":{\"id\":\"3799\"}},\"id\":\"3798\",\"type\":\"GlyphRenderer\"},{\"attributes\":{\"bottom_units\":\"screen\",\"fill_alpha\":0.5,\"fill_color\":\"lightgrey\",\"left_units\":\"screen\",\"level\":\"overlay\",\"line_alpha\":1.0,\"line_color\":\"black\",\"line_dash\":[4,4],\"line_width\":2,\"right_units\":\"screen\",\"top_units\":\"screen\"},\"id\":\"3780\",\"type\":\"BoxAnnotation\"},{\"attributes\":{},\"id\":\"3760\",\"type\":\"DataRange1d\"},{\"attributes\":{\"fill_color\":{\"value\":\"#1f77b4\"},\"line_color\":{\"value\":\"#1f77b4\"},\"size\":{\"units\":\"screen\",\"value\":8},\"x\":{\"field\":\"x\"},\"y\":{\"field\":\"y\"}},\"id\":\"3791\",\"type\":\"Circle\"}],\"root_ids\":[\"3755\"]},\"title\":\"Bokeh Application\",\"version\":\"2.2.2\"}};\n",
       "  var render_items = [{\"docid\":\"77b878d5-bb42-4e7d-9f9b-4009c949cade\",\"root_ids\":[\"3755\"],\"roots\":{\"3755\":\"74ad696e-8e2a-4419-85d7-a5ebc90d87e2\"}}];\n",
       "  root.Bokeh.embed.embed_items_notebook(docs_json, render_items);\n",
       "\n",
       "  }\n",
       "  if (root.Bokeh !== undefined) {\n",
       "    embed_document(root);\n",
       "  } else {\n",
       "    var attempts = 0;\n",
       "    var timer = setInterval(function(root) {\n",
       "      if (root.Bokeh !== undefined) {\n",
       "        clearInterval(timer);\n",
       "        embed_document(root);\n",
       "      } else {\n",
       "        attempts++;\n",
       "        if (attempts > 100) {\n",
       "          clearInterval(timer);\n",
       "          console.log(\"Bokeh: ERROR: Unable to run BokehJS code because BokehJS library is missing\");\n",
       "        }\n",
       "      }\n",
       "    }, 10, root)\n",
       "  }\n",
       "})(window);"
      ],
      "application/vnd.bokehjs_exec.v0+json": ""
     },
     "metadata": {
      "application/vnd.bokehjs_exec.v0+json": {
       "id": "3755"
      }
     },
     "output_type": "display_data"
    }
   ],
   "source": [
    "from bokeh.models import NumeralTickFormatter\n",
    "\n",
    "# prepare some data\n",
    "x = [1, 2, 3, 4, 5]\n",
    "y = [4, 5, 5, 7, 2]\n",
    "\n",
    "# create new plot\n",
    "p = figure(\n",
    "    title=\"Tick formatter example\",\n",
    "    sizing_mode=\"stretch_width\",\n",
    "    max_width=500,\n",
    "    height=250,\n",
    ")\n",
    "\n",
    "# format axes ticks\n",
    "p.yaxis[0].formatter = NumeralTickFormatter(format=\"$0.00\")\n",
    "\n",
    "# add renderers\n",
    "p.circle(x, y, size=8)\n",
    "p.line(x, y, color=\"navy\", line_width=1)\n",
    "\n",
    "# show the results\n",
    "show(p)"
   ]
  },
  {
   "cell_type": "markdown",
   "id": "ad4f16b9",
   "metadata": {},
   "source": [
    "For more information about formatting ticks, see Tick label formats in the user guide. For a list of all available tick formatters, see formatters in the reference guide.\n",
    "\n",
    "### Enabling logarithmic axes\n",
    "You can also change the axis type altogether. Use y_axis_type=\"log\" to switch to logarithmic axes:"
   ]
  },
  {
   "cell_type": "code",
   "execution_count": 17,
   "id": "cef9f44c",
   "metadata": {},
   "outputs": [
    {
     "data": {
      "text/html": [
       "\n",
       "\n",
       "\n",
       "\n",
       "\n",
       "\n",
       "  <div class=\"bk-root\" id=\"39107977-5ab0-480d-8650-b10d30b2406d\" data-root-id=\"3268\"></div>\n"
      ]
     },
     "metadata": {},
     "output_type": "display_data"
    },
    {
     "data": {
      "application/javascript": [
       "(function(root) {\n",
       "  function embed_document(root) {\n",
       "    \n",
       "  var docs_json = {\"31279bf8-d35b-4f7c-8fb9-46845ef4d62e\":{\"roots\":{\"references\":[{\"attributes\":{\"below\":[{\"id\":\"3279\"}],\"center\":[{\"id\":\"3282\"},{\"id\":\"3286\"},{\"id\":\"3314\"}],\"left\":[{\"id\":\"3283\"}],\"max_width\":500,\"plot_height\":300,\"renderers\":[{\"id\":\"3304\"},{\"id\":\"3319\"},{\"id\":\"3334\"},{\"id\":\"3352\"},{\"id\":\"3372\"},{\"id\":\"3393\"}],\"sizing_mode\":\"stretch_width\",\"title\":{\"id\":\"3269\"},\"toolbar\":{\"id\":\"3294\"},\"x_range\":{\"id\":\"3271\"},\"x_scale\":{\"id\":\"3275\"},\"y_range\":{\"id\":\"3273\"},\"y_scale\":{\"id\":\"3277\"}},\"id\":\"3268\",\"subtype\":\"Figure\",\"type\":\"Plot\"},{\"attributes\":{\"background_fill_alpha\":0.25,\"border_line_alpha\":0,\"glyph_width\":15,\"items\":[{\"id\":\"3315\"},{\"id\":\"3348\"},{\"id\":\"3368\"},{\"id\":\"3413\"}],\"label_standoff\":8,\"label_text_color\":\"#5B5B5B\",\"label_text_font\":\"Calibri Light\",\"label_text_font_size\":\"0.95em\",\"label_text_font_style\":\"bold\",\"spacing\":8},\"id\":\"3314\",\"type\":\"Legend\"},{\"attributes\":{\"source\":{\"id\":\"3369\"}},\"id\":\"3373\",\"type\":\"CDSView\"},{\"attributes\":{\"line_alpha\":0.1,\"line_color\":\"#1f77b4\",\"x\":{\"field\":\"x\"},\"y\":{\"field\":\"y\"}},\"id\":\"3303\",\"type\":\"Line\"},{\"attributes\":{\"line_color\":\"orange\",\"line_dash\":[4,4],\"x\":{\"field\":\"x\"},\"y\":{\"field\":\"y\"}},\"id\":\"3391\",\"type\":\"Line\"},{\"attributes\":{\"data\":{\"x\":[0.1,0.5,1.0,1.5,2.0,2.5,3.0],\"y\":[1.023292992280754,1.7782794100389228,10.0,177.82794100389228,10000.0,1778279.410038923,1000000000.0]},\"selected\":{\"id\":\"3412\"},\"selection_policy\":{\"id\":\"3411\"}},\"id\":\"3390\",\"type\":\"ColumnDataSource\"},{\"attributes\":{\"data_source\":{\"id\":\"3369\"},\"glyph\":{\"id\":\"3370\"},\"hover_glyph\":null,\"muted_glyph\":null,\"nonselection_glyph\":{\"id\":\"3371\"},\"selection_glyph\":null,\"view\":{\"id\":\"3373\"}},\"id\":\"3372\",\"type\":\"GlyphRenderer\"},{\"attributes\":{\"data\":{\"x\":[0.1,0.5,1.0,1.5,2.0,2.5,3.0],\"y\":[0.010000000000000002,0.25,1.0,2.25,4.0,6.25,9.0]},\"selected\":{\"id\":\"3347\"},\"selection_policy\":{\"id\":\"3346\"}},\"id\":\"3331\",\"type\":\"ColumnDataSource\"},{\"attributes\":{\"label\":{\"value\":\"y=10^x\"},\"renderers\":[{\"id\":\"3352\"},{\"id\":\"3372\"}]},\"id\":\"3368\",\"type\":\"LegendItem\"},{\"attributes\":{},\"id\":\"3366\",\"type\":\"UnionRenderers\"},{\"attributes\":{},\"id\":\"3312\",\"type\":\"UnionRenderers\"},{\"attributes\":{\"data_source\":{\"id\":\"3301\"},\"glyph\":{\"id\":\"3302\"},\"hover_glyph\":null,\"muted_glyph\":null,\"nonselection_glyph\":{\"id\":\"3303\"},\"selection_glyph\":null,\"view\":{\"id\":\"3305\"}},\"id\":\"3304\",\"type\":\"GlyphRenderer\"},{\"attributes\":{\"num_minor_ticks\":10},\"id\":\"3284\",\"type\":\"LogTicker\"},{\"attributes\":{\"data_source\":{\"id\":\"3390\"},\"glyph\":{\"id\":\"3391\"},\"hover_glyph\":null,\"muted_glyph\":null,\"nonselection_glyph\":{\"id\":\"3392\"},\"selection_glyph\":null,\"view\":{\"id\":\"3394\"}},\"id\":\"3393\",\"type\":\"GlyphRenderer\"},{\"attributes\":{\"source\":{\"id\":\"3331\"}},\"id\":\"3335\",\"type\":\"CDSView\"},{\"attributes\":{},\"id\":\"3313\",\"type\":\"Selection\"},{\"attributes\":{\"line_alpha\":0.1,\"line_color\":\"#1f77b4\",\"line_width\":3,\"x\":{\"field\":\"x\"},\"y\":{\"field\":\"y\"}},\"id\":\"3333\",\"type\":\"Line\"},{\"attributes\":{\"fill_color\":{\"value\":\"red\"},\"line_color\":{\"value\":\"red\"},\"size\":{\"units\":\"screen\",\"value\":6},\"x\":{\"field\":\"x\"},\"y\":{\"field\":\"y\"}},\"id\":\"3370\",\"type\":\"Circle\"},{\"attributes\":{\"fill_alpha\":{\"value\":0.1},\"fill_color\":{\"value\":\"red\"},\"line_alpha\":{\"value\":0.1},\"line_color\":{\"value\":\"red\"},\"size\":{\"units\":\"screen\",\"value\":6},\"x\":{\"field\":\"x\"},\"y\":{\"field\":\"y\"}},\"id\":\"3371\",\"type\":\"Circle\"},{\"attributes\":{\"text\":\"Logarithmic axis example\",\"text_color\":{\"value\":\"#5B5B5B\"},\"text_font\":\"Calibri Light\",\"text_font_size\":{\"value\":\"1.25em\"},\"text_font_style\":\"bold\"},\"id\":\"3269\",\"type\":\"Title\"},{\"attributes\":{\"label\":{\"value\":\"y=x^2\"},\"renderers\":[{\"id\":\"3334\"}]},\"id\":\"3348\",\"type\":\"LegendItem\"},{\"attributes\":{\"data\":{\"x\":[0.1,0.5,1.0,1.5,2.0,2.5,3.0],\"y\":[0.1,0.5,1.0,1.5,2.0,2.5,3.0]},\"selected\":{\"id\":\"3330\"},\"selection_policy\":{\"id\":\"3329\"}},\"id\":\"3316\",\"type\":\"ColumnDataSource\"},{\"attributes\":{\"bottom_units\":\"screen\",\"fill_alpha\":0.5,\"fill_color\":\"lightgrey\",\"left_units\":\"screen\",\"level\":\"overlay\",\"line_alpha\":1.0,\"line_color\":\"black\",\"line_dash\":[4,4],\"line_width\":2,\"right_units\":\"screen\",\"top_units\":\"screen\"},\"id\":\"3293\",\"type\":\"BoxAnnotation\"},{\"attributes\":{},\"id\":\"3271\",\"type\":\"DataRange1d\"},{\"attributes\":{},\"id\":\"3280\",\"type\":\"BasicTicker\"},{\"attributes\":{\"axis_label\":\"sections\",\"axis_label_standoff\":10,\"axis_label_text_color\":\"#5B5B5B\",\"axis_label_text_font\":\"Calibri Light\",\"axis_label_text_font_size\":\"1.15em\",\"axis_label_text_font_style\":\"bold\",\"axis_line_alpha\":1,\"axis_line_color\":\"#5B5B5B\",\"formatter\":{\"id\":\"3308\"},\"major_label_text_color\":\"#5B5B5B\",\"major_label_text_font\":\"Calibri Light\",\"major_label_text_font_size\":\"0.95em\",\"major_label_text_font_style\":\"bold\",\"major_tick_in\":0,\"major_tick_line_alpha\":0.25,\"major_tick_line_color\":\"#5B5B5B\",\"major_tick_out\":3,\"minor_tick_line_alpha\":0.25,\"minor_tick_line_color\":\"#5B5B5B\",\"ticker\":{\"id\":\"3280\"}},\"id\":\"3279\",\"type\":\"LinearAxis\"},{\"attributes\":{\"data_source\":{\"id\":\"3331\"},\"glyph\":{\"id\":\"3332\"},\"hover_glyph\":null,\"muted_glyph\":null,\"nonselection_glyph\":{\"id\":\"3333\"},\"selection_glyph\":null,\"view\":{\"id\":\"3335\"}},\"id\":\"3334\",\"type\":\"GlyphRenderer\"},{\"attributes\":{\"end\":100000000000,\"start\":0.001},\"id\":\"3273\",\"type\":\"Range1d\"},{\"attributes\":{},\"id\":\"3388\",\"type\":\"UnionRenderers\"},{\"attributes\":{},\"id\":\"3389\",\"type\":\"Selection\"},{\"attributes\":{},\"id\":\"3277\",\"type\":\"LogScale\"},{\"attributes\":{},\"id\":\"3275\",\"type\":\"LinearScale\"},{\"attributes\":{},\"id\":\"3346\",\"type\":\"UnionRenderers\"},{\"attributes\":{},\"id\":\"3308\",\"type\":\"BasicTickFormatter\"},{\"attributes\":{},\"id\":\"3347\",\"type\":\"Selection\"},{\"attributes\":{\"fill_color\":{\"value\":\"white\"},\"line_color\":{\"value\":\"#1f77b4\"},\"size\":{\"units\":\"screen\",\"value\":8},\"x\":{\"field\":\"x\"},\"y\":{\"field\":\"y\"}},\"id\":\"3317\",\"type\":\"Circle\"},{\"attributes\":{\"axis\":{\"id\":\"3283\"},\"dimension\":1,\"ticker\":null},\"id\":\"3286\",\"type\":\"Grid\"},{\"attributes\":{\"active_drag\":\"auto\",\"active_inspect\":\"auto\",\"active_multi\":null,\"active_scroll\":\"auto\",\"active_tap\":\"auto\",\"tools\":[{\"id\":\"3287\"},{\"id\":\"3288\"},{\"id\":\"3289\"},{\"id\":\"3290\"},{\"id\":\"3291\"},{\"id\":\"3292\"}]},\"id\":\"3294\",\"type\":\"Toolbar\"},{\"attributes\":{\"fill_alpha\":{\"value\":0.1},\"fill_color\":{\"value\":\"white\"},\"line_alpha\":{\"value\":0.1},\"line_color\":{\"value\":\"#1f77b4\"},\"size\":{\"units\":\"screen\",\"value\":8},\"x\":{\"field\":\"x\"},\"y\":{\"field\":\"y\"}},\"id\":\"3318\",\"type\":\"Circle\"},{\"attributes\":{\"axis\":{\"id\":\"3279\"},\"ticker\":null},\"id\":\"3282\",\"type\":\"Grid\"},{\"attributes\":{\"data_source\":{\"id\":\"3316\"},\"glyph\":{\"id\":\"3317\"},\"hover_glyph\":null,\"muted_glyph\":null,\"nonselection_glyph\":{\"id\":\"3318\"},\"selection_glyph\":null,\"view\":{\"id\":\"3320\"}},\"id\":\"3319\",\"type\":\"GlyphRenderer\"},{\"attributes\":{\"data\":{\"x\":[0.1,0.5,1.0,1.5,2.0,2.5,3.0],\"y\":[0.1,0.5,1.0,1.5,2.0,2.5,3.0]},\"selected\":{\"id\":\"3313\"},\"selection_policy\":{\"id\":\"3312\"}},\"id\":\"3301\",\"type\":\"ColumnDataSource\"},{\"attributes\":{\"source\":{\"id\":\"3316\"}},\"id\":\"3320\",\"type\":\"CDSView\"},{\"attributes\":{\"ticker\":null},\"id\":\"3310\",\"type\":\"LogTickFormatter\"},{\"attributes\":{\"line_color\":\"#1f77b4\",\"line_width\":3,\"x\":{\"field\":\"x\"},\"y\":{\"field\":\"y\"}},\"id\":\"3332\",\"type\":\"Line\"},{\"attributes\":{\"axis_label\":\"particles\",\"axis_label_standoff\":10,\"axis_label_text_color\":\"#5B5B5B\",\"axis_label_text_font\":\"Calibri Light\",\"axis_label_text_font_size\":\"1.15em\",\"axis_label_text_font_style\":\"bold\",\"axis_line_alpha\":1,\"axis_line_color\":\"#5B5B5B\",\"formatter\":{\"id\":\"3310\"},\"major_label_text_color\":\"#5B5B5B\",\"major_label_text_font\":\"Calibri Light\",\"major_label_text_font_size\":\"0.95em\",\"major_label_text_font_style\":\"bold\",\"major_tick_in\":0,\"major_tick_line_alpha\":0.25,\"major_tick_line_color\":\"#5B5B5B\",\"major_tick_out\":3,\"minor_tick_line_alpha\":0.25,\"minor_tick_line_color\":\"#5B5B5B\",\"ticker\":{\"id\":\"3284\"}},\"id\":\"3283\",\"type\":\"LogAxis\"},{\"attributes\":{\"data\":{\"x\":[0.1,0.5,1.0,1.5,2.0,2.5,3.0],\"y\":[1.2589254117941673,3.1622776601683795,10.0,31.622776601683793,100.0,316.22776601683796,1000.0]},\"selected\":{\"id\":\"3389\"},\"selection_policy\":{\"id\":\"3388\"}},\"id\":\"3369\",\"type\":\"ColumnDataSource\"},{\"attributes\":{},\"id\":\"3292\",\"type\":\"HelpTool\"},{\"attributes\":{},\"id\":\"3412\",\"type\":\"Selection\"},{\"attributes\":{\"label\":{\"value\":\"y=10^x^2\"},\"renderers\":[{\"id\":\"3393\"}]},\"id\":\"3413\",\"type\":\"LegendItem\"},{\"attributes\":{\"source\":{\"id\":\"3390\"}},\"id\":\"3394\",\"type\":\"CDSView\"},{\"attributes\":{},\"id\":\"3288\",\"type\":\"WheelZoomTool\"},{\"attributes\":{\"line_alpha\":0.1,\"line_color\":\"orange\",\"line_dash\":[4,4],\"x\":{\"field\":\"x\"},\"y\":{\"field\":\"y\"}},\"id\":\"3392\",\"type\":\"Line\"},{\"attributes\":{},\"id\":\"3287\",\"type\":\"PanTool\"},{\"attributes\":{\"data\":{\"x\":[0.1,0.5,1.0,1.5,2.0,2.5,3.0],\"y\":[1.2589254117941673,3.1622776601683795,10.0,31.622776601683793,100.0,316.22776601683796,1000.0]},\"selected\":{\"id\":\"3367\"},\"selection_policy\":{\"id\":\"3366\"}},\"id\":\"3349\",\"type\":\"ColumnDataSource\"},{\"attributes\":{\"overlay\":{\"id\":\"3293\"}},\"id\":\"3289\",\"type\":\"BoxZoomTool\"},{\"attributes\":{},\"id\":\"3290\",\"type\":\"SaveTool\"},{\"attributes\":{},\"id\":\"3367\",\"type\":\"Selection\"},{\"attributes\":{},\"id\":\"3291\",\"type\":\"ResetTool\"},{\"attributes\":{\"line_alpha\":0.1,\"line_color\":\"red\",\"x\":{\"field\":\"x\"},\"y\":{\"field\":\"y\"}},\"id\":\"3351\",\"type\":\"Line\"},{\"attributes\":{},\"id\":\"3329\",\"type\":\"UnionRenderers\"},{\"attributes\":{},\"id\":\"3330\",\"type\":\"Selection\"},{\"attributes\":{\"source\":{\"id\":\"3301\"}},\"id\":\"3305\",\"type\":\"CDSView\"},{\"attributes\":{\"line_color\":\"red\",\"x\":{\"field\":\"x\"},\"y\":{\"field\":\"y\"}},\"id\":\"3350\",\"type\":\"Line\"},{\"attributes\":{\"line_color\":\"#1f77b4\",\"x\":{\"field\":\"x\"},\"y\":{\"field\":\"y\"}},\"id\":\"3302\",\"type\":\"Line\"},{\"attributes\":{\"data_source\":{\"id\":\"3349\"},\"glyph\":{\"id\":\"3350\"},\"hover_glyph\":null,\"muted_glyph\":null,\"nonselection_glyph\":{\"id\":\"3351\"},\"selection_glyph\":null,\"view\":{\"id\":\"3353\"}},\"id\":\"3352\",\"type\":\"GlyphRenderer\"},{\"attributes\":{},\"id\":\"3411\",\"type\":\"UnionRenderers\"},{\"attributes\":{\"source\":{\"id\":\"3349\"}},\"id\":\"3353\",\"type\":\"CDSView\"},{\"attributes\":{\"label\":{\"value\":\"y=x\"},\"renderers\":[{\"id\":\"3304\"},{\"id\":\"3319\"}]},\"id\":\"3315\",\"type\":\"LegendItem\"}],\"root_ids\":[\"3268\"]},\"title\":\"Bokeh Application\",\"version\":\"2.2.2\"}};\n",
       "  var render_items = [{\"docid\":\"31279bf8-d35b-4f7c-8fb9-46845ef4d62e\",\"root_ids\":[\"3268\"],\"roots\":{\"3268\":\"39107977-5ab0-480d-8650-b10d30b2406d\"}}];\n",
       "  root.Bokeh.embed.embed_items_notebook(docs_json, render_items);\n",
       "\n",
       "  }\n",
       "  if (root.Bokeh !== undefined) {\n",
       "    embed_document(root);\n",
       "  } else {\n",
       "    var attempts = 0;\n",
       "    var timer = setInterval(function(root) {\n",
       "      if (root.Bokeh !== undefined) {\n",
       "        clearInterval(timer);\n",
       "        embed_document(root);\n",
       "      } else {\n",
       "        attempts++;\n",
       "        if (attempts > 100) {\n",
       "          clearInterval(timer);\n",
       "          console.log(\"Bokeh: ERROR: Unable to run BokehJS code because BokehJS library is missing\");\n",
       "        }\n",
       "      }\n",
       "    }, 10, root)\n",
       "  }\n",
       "})(window);"
      ],
      "application/vnd.bokehjs_exec.v0+json": ""
     },
     "metadata": {
      "application/vnd.bokehjs_exec.v0+json": {
       "id": "3268"
      }
     },
     "output_type": "display_data"
    }
   ],
   "source": [
    "# prepare some data\n",
    "x = [0.1, 0.5, 1.0, 1.5, 2.0, 2.5, 3.0]\n",
    "y0 = [i**2 for i in x]\n",
    "y1 = [10**i for i in x]\n",
    "y2 = [10**(i**2) for i in x]\n",
    "\n",
    "# create a new plot with a logarithmic axis type\n",
    "p = figure(\n",
    "    title=\"Logarithmic axis example\",\n",
    "    sizing_mode=\"stretch_width\",\n",
    "    height=300,\n",
    "    max_width=500,\n",
    "    y_axis_type=\"log\",\n",
    "    y_range=[0.001, 10 ** 11],\n",
    "    x_axis_label=\"sections\",\n",
    "    y_axis_label=\"particles\",\n",
    ")\n",
    "\n",
    "# add some renderers\n",
    "p.line(x, x, legend_label=\"y=x\")\n",
    "p.circle(x, x, legend_label=\"y=x\", fill_color=\"white\", size=8)\n",
    "p.line(x, y0, legend_label=\"y=x^2\", line_width=3)\n",
    "p.line(x, y1, legend_label=\"y=10^x\", line_color=\"red\")\n",
    "p.circle(x, y1, legend_label=\"y=10^x\", fill_color=\"red\", line_color=\"red\", size=6)\n",
    "p.line(x, y2, legend_label=\"y=10^x^2\", line_color=\"orange\", line_dash=\"4 4\")\n",
    "\n",
    "# show the results\n",
    "show(p)"
   ]
  },
  {
   "cell_type": "markdown",
   "id": "67ceff03",
   "metadata": {},
   "source": [
    "### Enabling datetime axes\n",
    "Set the x_axis_type or y_axis_type to datetime to display date or time information on an axis. Bokeh then creates a DatetimeAxis.\n",
    "\n",
    "To format the ticks of a DatetimeAxis, use the DatetimeTickFormatter."
   ]
  },
  {
   "cell_type": "code",
   "execution_count": 18,
   "id": "91d1d927",
   "metadata": {},
   "outputs": [
    {
     "data": {
      "text/html": [
       "\n",
       "\n",
       "\n",
       "\n",
       "\n",
       "\n",
       "  <div class=\"bk-root\" id=\"062738ae-bc73-4d0e-b87f-113ea1d27af1\" data-root-id=\"3645\"></div>\n"
      ]
     },
     "metadata": {},
     "output_type": "display_data"
    },
    {
     "data": {
      "application/javascript": [
       "(function(root) {\n",
       "  function embed_document(root) {\n",
       "    \n",
       "  var docs_json = {\"e13711d6-4ea2-423a-b8c7-c5d1d7082bef\":{\"roots\":{\"references\":[{\"attributes\":{\"below\":[{\"id\":\"3656\"}],\"center\":[{\"id\":\"3659\"},{\"id\":\"3663\"}],\"left\":[{\"id\":\"3660\"}],\"max_width\":500,\"plot_height\":250,\"renderers\":[{\"id\":\"3681\"},{\"id\":\"3686\"}],\"sizing_mode\":\"stretch_width\",\"title\":{\"id\":\"3646\"},\"toolbar\":{\"id\":\"3671\"},\"x_range\":{\"id\":\"3648\"},\"x_scale\":{\"id\":\"3652\"},\"y_range\":{\"id\":\"3650\"},\"y_scale\":{\"id\":\"3654\"}},\"id\":\"3645\",\"subtype\":\"Figure\",\"type\":\"Plot\"},{\"attributes\":{\"fill_color\":{\"value\":\"#1f77b4\"},\"line_color\":{\"value\":\"#1f77b4\"},\"size\":{\"units\":\"screen\",\"value\":8},\"x\":{\"field\":\"x\"},\"y\":{\"field\":\"y\"}},\"id\":\"3679\",\"type\":\"Circle\"},{\"attributes\":{\"format\":\"$0.00\"},\"id\":\"3688\",\"type\":\"NumeralTickFormatter\"},{\"attributes\":{},\"id\":\"3851\",\"type\":\"UnionRenderers\"},{\"attributes\":{\"bottom_units\":\"screen\",\"fill_alpha\":0.5,\"fill_color\":\"lightgrey\",\"left_units\":\"screen\",\"level\":\"overlay\",\"line_alpha\":1.0,\"line_color\":\"black\",\"line_dash\":[4,4],\"line_width\":2,\"right_units\":\"screen\",\"top_units\":\"screen\"},\"id\":\"3670\",\"type\":\"BoxAnnotation\"},{\"attributes\":{},\"id\":\"3852\",\"type\":\"Selection\"},{\"attributes\":{\"axis\":{\"id\":\"3656\"},\"ticker\":null},\"id\":\"3659\",\"type\":\"Grid\"},{\"attributes\":{\"mantissas\":[1,2,5],\"max_interval\":500.0,\"num_minor_ticks\":0},\"id\":\"3837\",\"type\":\"AdaptiveTicker\"},{\"attributes\":{\"days\":[1,2,3,4,5,6,7,8,9,10,11,12,13,14,15,16,17,18,19,20,21,22,23,24,25,26,27,28,29,30,31]},\"id\":\"3840\",\"type\":\"DaysTicker\"},{\"attributes\":{\"data\":{\"x\":[1636928161695.953,1637532961695.961,1638137761695.963,1638742561695.964,1639347361695.965,1639952161695.967,1640556961695.968,1641161761695.969,1641766561695.97,1642371361695.971,1642976161695.972,1643580961695.973,1644185761695.974,1644790561695.976,1645395361695.977,1646000161695.978,1646604961695.98,1647209761695.981,1647814561695.982,1648419361695.983,1649024161695.984,1649628961695.985,1650233761695.986,1650838561695.987,1651443361695.988,1652048161695.99],\"y\":[1,88,81,13,87,58,69,8,77,14,17,61,47,80,28,15,99,11,45,51,33,94,35,12,43,52]},\"selected\":{\"id\":\"3850\"},\"selection_policy\":{\"id\":\"3849\"}},\"id\":\"3678\",\"type\":\"ColumnDataSource\"},{\"attributes\":{\"months\":[0,1,2,3,4,5,6,7,8,9,10,11]},\"id\":\"3844\",\"type\":\"MonthsTicker\"},{\"attributes\":{\"base\":24,\"mantissas\":[1,2,4,6,8,12],\"max_interval\":43200000.0,\"min_interval\":3600000.0,\"num_minor_ticks\":0},\"id\":\"3839\",\"type\":\"AdaptiveTicker\"},{\"attributes\":{\"base\":60,\"mantissas\":[1,2,5,10,15,20,30],\"max_interval\":1800000.0,\"min_interval\":1000.0,\"num_minor_ticks\":0},\"id\":\"3838\",\"type\":\"AdaptiveTicker\"},{\"attributes\":{\"months\":[0,2,4,6,8,10]},\"id\":\"3845\",\"type\":\"MonthsTicker\"},{\"attributes\":{\"num_minor_ticks\":5,\"tickers\":[{\"id\":\"3837\"},{\"id\":\"3838\"},{\"id\":\"3839\"},{\"id\":\"3840\"},{\"id\":\"3841\"},{\"id\":\"3842\"},{\"id\":\"3843\"},{\"id\":\"3844\"},{\"id\":\"3845\"},{\"id\":\"3846\"},{\"id\":\"3847\"},{\"id\":\"3848\"}]},\"id\":\"3657\",\"type\":\"DatetimeTicker\"},{\"attributes\":{\"days\":[1,4,7,10,13,16,19,22,25,28]},\"id\":\"3841\",\"type\":\"DaysTicker\"},{\"attributes\":{},\"id\":\"3650\",\"type\":\"DataRange1d\"},{\"attributes\":{\"days\":[1,15]},\"id\":\"3843\",\"type\":\"DaysTicker\"},{\"attributes\":{},\"id\":\"3661\",\"type\":\"BasicTicker\"},{\"attributes\":{\"months\":[0,6]},\"id\":\"3847\",\"type\":\"MonthsTicker\"},{\"attributes\":{\"active_drag\":\"auto\",\"active_inspect\":\"auto\",\"active_multi\":null,\"active_scroll\":\"auto\",\"active_tap\":\"auto\",\"tools\":[{\"id\":\"3664\"},{\"id\":\"3665\"},{\"id\":\"3666\"},{\"id\":\"3667\"},{\"id\":\"3668\"},{\"id\":\"3669\"}]},\"id\":\"3671\",\"type\":\"Toolbar\"},{\"attributes\":{\"days\":[1,8,15,22]},\"id\":\"3842\",\"type\":\"DaysTicker\"},{\"attributes\":{\"axis\":{\"id\":\"3660\"},\"dimension\":1,\"ticker\":null},\"id\":\"3663\",\"type\":\"Grid\"},{\"attributes\":{},\"id\":\"3848\",\"type\":\"YearsTicker\"},{\"attributes\":{\"months\":[0,4,8]},\"id\":\"3846\",\"type\":\"MonthsTicker\"},{\"attributes\":{},\"id\":\"3669\",\"type\":\"HelpTool\"},{\"attributes\":{\"fill_alpha\":{\"value\":0.1},\"fill_color\":{\"value\":\"#1f77b4\"},\"line_alpha\":{\"value\":0.1},\"line_color\":{\"value\":\"#1f77b4\"},\"size\":{\"units\":\"screen\",\"value\":8},\"x\":{\"field\":\"x\"},\"y\":{\"field\":\"y\"}},\"id\":\"3680\",\"type\":\"Circle\"},{\"attributes\":{},\"id\":\"3652\",\"type\":\"LinearScale\"},{\"attributes\":{},\"id\":\"3667\",\"type\":\"SaveTool\"},{\"attributes\":{},\"id\":\"3664\",\"type\":\"PanTool\"},{\"attributes\":{\"overlay\":{\"id\":\"3670\"}},\"id\":\"3666\",\"type\":\"BoxZoomTool\"},{\"attributes\":{\"axis_label_standoff\":10,\"axis_label_text_color\":\"#5B5B5B\",\"axis_label_text_font\":\"Calibri Light\",\"axis_label_text_font_size\":\"1.15em\",\"axis_label_text_font_style\":\"bold\",\"axis_line_alpha\":1,\"axis_line_color\":\"#5B5B5B\",\"formatter\":{\"id\":\"3688\"},\"major_label_text_color\":\"#5B5B5B\",\"major_label_text_font\":\"Calibri Light\",\"major_label_text_font_size\":\"0.95em\",\"major_label_text_font_style\":\"bold\",\"major_tick_in\":0,\"major_tick_line_alpha\":0.25,\"major_tick_line_color\":\"#5B5B5B\",\"major_tick_out\":3,\"minor_tick_line_alpha\":0.25,\"minor_tick_line_color\":\"#5B5B5B\",\"ticker\":{\"id\":\"3661\"}},\"id\":\"3660\",\"type\":\"LinearAxis\"},{\"attributes\":{\"source\":{\"id\":\"3678\"}},\"id\":\"3682\",\"type\":\"CDSView\"},{\"attributes\":{},\"id\":\"3665\",\"type\":\"WheelZoomTool\"},{\"attributes\":{},\"id\":\"3668\",\"type\":\"ResetTool\"},{\"attributes\":{\"months\":[\"%b %Y\"]},\"id\":\"3690\",\"type\":\"DatetimeTickFormatter\"},{\"attributes\":{\"data\":{\"x\":[1636928161695.953,1637532961695.961,1638137761695.963,1638742561695.964,1639347361695.965,1639952161695.967,1640556961695.968,1641161761695.969,1641766561695.97,1642371361695.971,1642976161695.972,1643580961695.973,1644185761695.974,1644790561695.976,1645395361695.977,1646000161695.978,1646604961695.98,1647209761695.981,1647814561695.982,1648419361695.983,1649024161695.984,1649628961695.985,1650233761695.986,1650838561695.987,1651443361695.988,1652048161695.99],\"y\":[1,88,81,13,87,58,69,8,77,14,17,61,47,80,28,15,99,11,45,51,33,94,35,12,43,52]},\"selected\":{\"id\":\"3852\"},\"selection_policy\":{\"id\":\"3851\"}},\"id\":\"3683\",\"type\":\"ColumnDataSource\"},{\"attributes\":{},\"id\":\"3648\",\"type\":\"DataRange1d\"},{\"attributes\":{\"text\":\"datetime axis example\",\"text_color\":{\"value\":\"#5B5B5B\"},\"text_font\":\"Calibri Light\",\"text_font_size\":{\"value\":\"1.25em\"},\"text_font_style\":\"bold\"},\"id\":\"3646\",\"type\":\"Title\"},{\"attributes\":{\"data_source\":{\"id\":\"3678\"},\"glyph\":{\"id\":\"3679\"},\"hover_glyph\":null,\"muted_glyph\":null,\"nonselection_glyph\":{\"id\":\"3680\"},\"selection_glyph\":null,\"view\":{\"id\":\"3682\"}},\"id\":\"3681\",\"type\":\"GlyphRenderer\"},{\"attributes\":{},\"id\":\"3849\",\"type\":\"UnionRenderers\"},{\"attributes\":{\"line_color\":\"navy\",\"x\":{\"field\":\"x\"},\"y\":{\"field\":\"y\"}},\"id\":\"3684\",\"type\":\"Line\"},{\"attributes\":{},\"id\":\"3850\",\"type\":\"Selection\"},{\"attributes\":{\"axis_label_standoff\":10,\"axis_label_text_color\":\"#5B5B5B\",\"axis_label_text_font\":\"Calibri Light\",\"axis_label_text_font_size\":\"1.15em\",\"axis_label_text_font_style\":\"bold\",\"axis_line_alpha\":1,\"axis_line_color\":\"#5B5B5B\",\"formatter\":{\"id\":\"3690\"},\"major_label_text_color\":\"#5B5B5B\",\"major_label_text_font\":\"Calibri Light\",\"major_label_text_font_size\":\"0.95em\",\"major_label_text_font_style\":\"bold\",\"major_tick_in\":0,\"major_tick_line_alpha\":0.25,\"major_tick_line_color\":\"#5B5B5B\",\"major_tick_out\":3,\"minor_tick_line_alpha\":0.25,\"minor_tick_line_color\":\"#5B5B5B\",\"ticker\":{\"id\":\"3657\"}},\"id\":\"3656\",\"type\":\"DatetimeAxis\"},{\"attributes\":{\"source\":{\"id\":\"3683\"}},\"id\":\"3687\",\"type\":\"CDSView\"},{\"attributes\":{\"line_alpha\":0.1,\"line_color\":\"navy\",\"x\":{\"field\":\"x\"},\"y\":{\"field\":\"y\"}},\"id\":\"3685\",\"type\":\"Line\"},{\"attributes\":{\"data_source\":{\"id\":\"3683\"},\"glyph\":{\"id\":\"3684\"},\"hover_glyph\":null,\"muted_glyph\":null,\"nonselection_glyph\":{\"id\":\"3685\"},\"selection_glyph\":null,\"view\":{\"id\":\"3687\"}},\"id\":\"3686\",\"type\":\"GlyphRenderer\"},{\"attributes\":{},\"id\":\"3654\",\"type\":\"LinearScale\"}],\"root_ids\":[\"3645\"]},\"title\":\"Bokeh Application\",\"version\":\"2.2.2\"}};\n",
       "  var render_items = [{\"docid\":\"e13711d6-4ea2-423a-b8c7-c5d1d7082bef\",\"root_ids\":[\"3645\"],\"roots\":{\"3645\":\"062738ae-bc73-4d0e-b87f-113ea1d27af1\"}}];\n",
       "  root.Bokeh.embed.embed_items_notebook(docs_json, render_items);\n",
       "\n",
       "  }\n",
       "  if (root.Bokeh !== undefined) {\n",
       "    embed_document(root);\n",
       "  } else {\n",
       "    var attempts = 0;\n",
       "    var timer = setInterval(function(root) {\n",
       "      if (root.Bokeh !== undefined) {\n",
       "        clearInterval(timer);\n",
       "        embed_document(root);\n",
       "      } else {\n",
       "        attempts++;\n",
       "        if (attempts > 100) {\n",
       "          clearInterval(timer);\n",
       "          console.log(\"Bokeh: ERROR: Unable to run BokehJS code because BokehJS library is missing\");\n",
       "        }\n",
       "      }\n",
       "    }, 10, root)\n",
       "  }\n",
       "})(window);"
      ],
      "application/vnd.bokehjs_exec.v0+json": ""
     },
     "metadata": {
      "application/vnd.bokehjs_exec.v0+json": {
       "id": "3645"
      }
     },
     "output_type": "display_data"
    }
   ],
   "source": [
    "import random\n",
    "from datetime import datetime, timedelta\n",
    "\n",
    "from bokeh.models import DatetimeTickFormatter, NumeralTickFormatter\n",
    "\n",
    "# generate list of dates (today's date in subsequent weeks)\n",
    "dates = [(datetime.now() + timedelta(day * 7)) for day in range(0, 26)]\n",
    "\n",
    "# generate 25 random data points\n",
    "y = random.sample(range(0, 100), 26)\n",
    "\n",
    "# create new plot\n",
    "p = figure(\n",
    "    title=\"datetime axis example\",\n",
    "    x_axis_type=\"datetime\",\n",
    "    sizing_mode=\"stretch_width\",\n",
    "    max_width=500,\n",
    "    height=250,\n",
    ")\n",
    "\n",
    "# add renderers\n",
    "p.circle(dates, y, size=8)\n",
    "p.line(dates, y, color=\"navy\", line_width=1)\n",
    "\n",
    "# format axes ticks\n",
    "p.yaxis[0].formatter = NumeralTickFormatter(format=\"$0.00\")\n",
    "p.xaxis[0].formatter = DatetimeTickFormatter(months=\"%b %Y\")\n",
    "\n",
    "# show the results\n",
    "show(p)"
   ]
  },
  {
   "cell_type": "markdown",
   "id": "9b88f8c8",
   "metadata": {},
   "source": [
    "See Styling axes in the user guide for more information on customizing axes. The entry for Axis in the reference guide contains a list of all available attributes you can use to customize the axes of your plot.\n",
    "\n",
    "## Customizing the grid\n",
    "To change the appearance of the grid, set the various properties of the xgrid(), ygrid(), and grid() methods of your Plot object.\n",
    "\n",
    "### Styling lines\n",
    "Change what the horizontal and vertical lines of your grid look like by setting the various grid_line properties:"
   ]
  },
  {
   "cell_type": "code",
   "execution_count": 24,
   "id": "41b47148",
   "metadata": {},
   "outputs": [
    {
     "data": {
      "text/html": [
       "\n",
       "\n",
       "\n",
       "\n",
       "\n",
       "\n",
       "  <div class=\"bk-root\" id=\"129281b4-6dcb-48e3-a8db-4aa07be50ae2\" data-root-id=\"5027\"></div>\n"
      ]
     },
     "metadata": {},
     "output_type": "display_data"
    },
    {
     "data": {
      "application/javascript": [
       "(function(root) {\n",
       "  function embed_document(root) {\n",
       "    \n",
       "  var docs_json = {\"d011e73f-6fd4-468f-a7b6-72e508b4b857\":{\"roots\":{\"references\":[{\"attributes\":{\"below\":[{\"id\":\"5038\"}],\"center\":[{\"id\":\"5041\"},{\"id\":\"5045\"}],\"left\":[{\"id\":\"5042\"}],\"max_width\":500,\"plot_height\":250,\"renderers\":[{\"id\":\"5063\"}],\"sizing_mode\":\"stretch_width\",\"title\":{\"id\":\"5028\"},\"toolbar\":{\"id\":\"5053\"},\"x_range\":{\"id\":\"5030\"},\"x_scale\":{\"id\":\"5034\"},\"y_range\":{\"id\":\"5032\"},\"y_scale\":{\"id\":\"5036\"}},\"id\":\"5027\",\"subtype\":\"Figure\",\"type\":\"Plot\"},{\"attributes\":{},\"id\":\"5034\",\"type\":\"LinearScale\"},{\"attributes\":{},\"id\":\"5036\",\"type\":\"LinearScale\"},{\"attributes\":{},\"id\":\"5032\",\"type\":\"DataRange1d\"},{\"attributes\":{},\"id\":\"5043\",\"type\":\"BasicTicker\"},{\"attributes\":{\"axis\":{\"id\":\"5038\"},\"grid_line_color\":\"red\",\"ticker\":null},\"id\":\"5041\",\"type\":\"Grid\"},{\"attributes\":{},\"id\":\"5260\",\"type\":\"BasicTickFormatter\"},{\"attributes\":{\"overlay\":{\"id\":\"5052\"}},\"id\":\"5048\",\"type\":\"BoxZoomTool\"},{\"attributes\":{\"bottom_units\":\"screen\",\"fill_alpha\":0.5,\"fill_color\":\"lightgrey\",\"left_units\":\"screen\",\"level\":\"overlay\",\"line_alpha\":1.0,\"line_color\":\"black\",\"line_dash\":[4,4],\"line_width\":2,\"right_units\":\"screen\",\"top_units\":\"screen\"},\"id\":\"5052\",\"type\":\"BoxAnnotation\"},{\"attributes\":{\"text\":\"Customized grid lines example\",\"text_color\":{\"value\":\"#5B5B5B\"},\"text_font\":\"Calibri Light\",\"text_font_size\":{\"value\":\"1.25em\"},\"text_font_style\":\"bold\"},\"id\":\"5028\",\"type\":\"Title\"},{\"attributes\":{},\"id\":\"5046\",\"type\":\"PanTool\"},{\"attributes\":{},\"id\":\"5262\",\"type\":\"BasicTickFormatter\"},{\"attributes\":{},\"id\":\"5047\",\"type\":\"WheelZoomTool\"},{\"attributes\":{\"data\":{\"x\":[1,2,3,4,5],\"y\":[4,5,5,7,2]},\"selected\":{\"id\":\"5265\"},\"selection_policy\":{\"id\":\"5264\"}},\"id\":\"5060\",\"type\":\"ColumnDataSource\"},{\"attributes\":{},\"id\":\"5039\",\"type\":\"BasicTicker\"},{\"attributes\":{},\"id\":\"5030\",\"type\":\"DataRange1d\"},{\"attributes\":{\"active_drag\":\"auto\",\"active_inspect\":\"auto\",\"active_multi\":null,\"active_scroll\":\"auto\",\"active_tap\":\"auto\",\"tools\":[{\"id\":\"5046\"},{\"id\":\"5047\"},{\"id\":\"5048\"},{\"id\":\"5049\"},{\"id\":\"5050\"},{\"id\":\"5051\"}]},\"id\":\"5053\",\"type\":\"Toolbar\"},{\"attributes\":{\"axis_label_standoff\":10,\"axis_label_text_color\":\"#5B5B5B\",\"axis_label_text_font\":\"Calibri Light\",\"axis_label_text_font_size\":\"1.15em\",\"axis_label_text_font_style\":\"bold\",\"axis_line_alpha\":1,\"axis_line_color\":\"#5B5B5B\",\"formatter\":{\"id\":\"5260\"},\"major_label_text_color\":\"#5B5B5B\",\"major_label_text_font\":\"Calibri Light\",\"major_label_text_font_size\":\"0.95em\",\"major_label_text_font_style\":\"bold\",\"major_tick_in\":0,\"major_tick_line_alpha\":0.25,\"major_tick_line_color\":\"#5B5B5B\",\"major_tick_out\":3,\"minor_tick_line_alpha\":0.25,\"minor_tick_line_color\":\"#5B5B5B\",\"ticker\":{\"id\":\"5039\"}},\"id\":\"5038\",\"type\":\"LinearAxis\"},{\"attributes\":{},\"id\":\"5051\",\"type\":\"HelpTool\"},{\"attributes\":{},\"id\":\"5049\",\"type\":\"SaveTool\"},{\"attributes\":{\"data_source\":{\"id\":\"5060\"},\"glyph\":{\"id\":\"5061\"},\"hover_glyph\":null,\"muted_glyph\":null,\"nonselection_glyph\":{\"id\":\"5062\"},\"selection_glyph\":null,\"view\":{\"id\":\"5064\"}},\"id\":\"5063\",\"type\":\"GlyphRenderer\"},{\"attributes\":{},\"id\":\"5050\",\"type\":\"ResetTool\"},{\"attributes\":{\"axis_label_standoff\":10,\"axis_label_text_color\":\"#5B5B5B\",\"axis_label_text_font\":\"Calibri Light\",\"axis_label_text_font_size\":\"1.15em\",\"axis_label_text_font_style\":\"bold\",\"axis_line_alpha\":1,\"axis_line_color\":\"#5B5B5B\",\"formatter\":{\"id\":\"5262\"},\"major_label_text_color\":\"#5B5B5B\",\"major_label_text_font\":\"Calibri Light\",\"major_label_text_font_size\":\"0.95em\",\"major_label_text_font_style\":\"bold\",\"major_tick_in\":0,\"major_tick_line_alpha\":0.25,\"major_tick_line_color\":\"#5B5B5B\",\"major_tick_out\":3,\"minor_tick_line_alpha\":0.25,\"minor_tick_line_color\":\"#5B5B5B\",\"ticker\":{\"id\":\"5043\"}},\"id\":\"5042\",\"type\":\"LinearAxis\"},{\"attributes\":{},\"id\":\"5265\",\"type\":\"Selection\"},{\"attributes\":{\"source\":{\"id\":\"5060\"}},\"id\":\"5064\",\"type\":\"CDSView\"},{\"attributes\":{\"line_alpha\":0.1,\"line_color\":\"green\",\"line_width\":2,\"x\":{\"field\":\"x\"},\"y\":{\"field\":\"y\"}},\"id\":\"5062\",\"type\":\"Line\"},{\"attributes\":{\"axis\":{\"id\":\"5042\"},\"dimension\":1,\"grid_line_alpha\":0.8,\"grid_line_dash\":[6,4],\"ticker\":null},\"id\":\"5045\",\"type\":\"Grid\"},{\"attributes\":{},\"id\":\"5264\",\"type\":\"UnionRenderers\"},{\"attributes\":{\"line_color\":\"green\",\"line_width\":2,\"x\":{\"field\":\"x\"},\"y\":{\"field\":\"y\"}},\"id\":\"5061\",\"type\":\"Line\"}],\"root_ids\":[\"5027\"]},\"title\":\"Bokeh Application\",\"version\":\"2.2.2\"}};\n",
       "  var render_items = [{\"docid\":\"d011e73f-6fd4-468f-a7b6-72e508b4b857\",\"root_ids\":[\"5027\"],\"roots\":{\"5027\":\"129281b4-6dcb-48e3-a8db-4aa07be50ae2\"}}];\n",
       "  root.Bokeh.embed.embed_items_notebook(docs_json, render_items);\n",
       "\n",
       "  }\n",
       "  if (root.Bokeh !== undefined) {\n",
       "    embed_document(root);\n",
       "  } else {\n",
       "    var attempts = 0;\n",
       "    var timer = setInterval(function(root) {\n",
       "      if (root.Bokeh !== undefined) {\n",
       "        clearInterval(timer);\n",
       "        embed_document(root);\n",
       "      } else {\n",
       "        attempts++;\n",
       "        if (attempts > 100) {\n",
       "          clearInterval(timer);\n",
       "          console.log(\"Bokeh: ERROR: Unable to run BokehJS code because BokehJS library is missing\");\n",
       "        }\n",
       "      }\n",
       "    }, 10, root)\n",
       "  }\n",
       "})(window);"
      ],
      "application/vnd.bokehjs_exec.v0+json": ""
     },
     "metadata": {
      "application/vnd.bokehjs_exec.v0+json": {
       "id": "5027"
      }
     },
     "output_type": "display_data"
    }
   ],
   "source": [
    "# prepare some data\n",
    "x = [1, 2, 3, 4, 5]\n",
    "y = [4, 5, 5, 7, 2]\n",
    "\n",
    "# create a plot\n",
    "p = figure(\n",
    "    title=\"Customized grid lines example\",\n",
    "    sizing_mode=\"stretch_width\",\n",
    "    max_width=500,\n",
    "    height=250,\n",
    ")\n",
    "\n",
    "# add a renderer\n",
    "p.line(x, y, line_color=\"green\", line_width=2)\n",
    "\n",
    "# change just some things about the x-grid\n",
    "p.xgrid.grid_line_color = \"red\" # write None to remove the grid\n",
    "\n",
    "# change just some things about the y-grid\n",
    "p.ygrid.grid_line_alpha = 0.8\n",
    "p.ygrid.grid_line_dash = [6, 4]\n",
    "\n",
    "# show the results\n",
    "show(p)"
   ]
  },
  {
   "cell_type": "markdown",
   "id": "e7eea660",
   "metadata": {},
   "source": [
    "For more information on lines and minor lines, see Lines in the user guide.\n",
    "\n",
    "### Using bands and bounds\n",
    "Another way to make reading your plot easier is to use bands and bounds.\n",
    "\n",
    "Bands and bounds are more examples of the annotations you learned about in Using annotations."
   ]
  },
  {
   "cell_type": "code",
   "execution_count": 27,
   "id": "fec691a4",
   "metadata": {},
   "outputs": [
    {
     "data": {
      "text/html": [
       "\n",
       "\n",
       "\n",
       "\n",
       "\n",
       "\n",
       "  <div class=\"bk-root\" id=\"46a8156c-24e1-422e-aad1-9a18f8b51778\" data-root-id=\"5888\"></div>\n"
      ]
     },
     "metadata": {},
     "output_type": "display_data"
    },
    {
     "data": {
      "application/javascript": [
       "(function(root) {\n",
       "  function embed_document(root) {\n",
       "    \n",
       "  var docs_json = {\"778cda13-4264-4980-8e53-534639df633e\":{\"roots\":{\"references\":[{\"attributes\":{\"below\":[{\"id\":\"5899\"}],\"center\":[{\"id\":\"5902\"},{\"id\":\"5906\"}],\"left\":[{\"id\":\"5903\"}],\"max_width\":500,\"plot_height\":250,\"renderers\":[{\"id\":\"5924\"}],\"sizing_mode\":\"stretch_width\",\"title\":{\"id\":\"5889\"},\"toolbar\":{\"id\":\"5914\"},\"x_range\":{\"id\":\"5891\"},\"x_scale\":{\"id\":\"5895\"},\"y_range\":{\"id\":\"5893\"},\"y_scale\":{\"id\":\"5897\"}},\"id\":\"5888\",\"subtype\":\"Figure\",\"type\":\"Plot\"},{\"attributes\":{\"line_color\":\"green\",\"line_width\":2,\"x\":{\"field\":\"x\"},\"y\":{\"field\":\"y\"}},\"id\":\"5922\",\"type\":\"Line\"},{\"attributes\":{},\"id\":\"5912\",\"type\":\"HelpTool\"},{\"attributes\":{},\"id\":\"5904\",\"type\":\"BasicTicker\"},{\"attributes\":{\"overlay\":{\"id\":\"5913\"}},\"id\":\"5909\",\"type\":\"BoxZoomTool\"},{\"attributes\":{\"source\":{\"id\":\"5921\"}},\"id\":\"5925\",\"type\":\"CDSView\"},{\"attributes\":{\"data\":{\"x\":[1,2,3,4,5],\"y\":[4,5,5,7,2]},\"selected\":{\"id\":\"6150\"},\"selection_policy\":{\"id\":\"6149\"}},\"id\":\"5921\",\"type\":\"ColumnDataSource\"},{\"attributes\":{\"line_alpha\":0.1,\"line_color\":\"green\",\"line_width\":2,\"x\":{\"field\":\"x\"},\"y\":{\"field\":\"y\"}},\"id\":\"5923\",\"type\":\"Line\"},{\"attributes\":{},\"id\":\"5910\",\"type\":\"SaveTool\"},{\"attributes\":{\"bottom_units\":\"screen\",\"fill_alpha\":0.5,\"fill_color\":\"lightgrey\",\"left_units\":\"screen\",\"level\":\"overlay\",\"line_alpha\":1.0,\"line_color\":\"black\",\"line_dash\":[4,4],\"line_width\":2,\"right_units\":\"screen\",\"top_units\":\"screen\"},\"id\":\"5913\",\"type\":\"BoxAnnotation\"},{\"attributes\":{\"data_source\":{\"id\":\"5921\"},\"glyph\":{\"id\":\"5922\"},\"hover_glyph\":null,\"muted_glyph\":null,\"nonselection_glyph\":{\"id\":\"5923\"},\"selection_glyph\":null,\"view\":{\"id\":\"5925\"}},\"id\":\"5924\",\"type\":\"GlyphRenderer\"},{\"attributes\":{},\"id\":\"5911\",\"type\":\"ResetTool\"},{\"attributes\":{},\"id\":\"6149\",\"type\":\"UnionRenderers\"},{\"attributes\":{},\"id\":\"6150\",\"type\":\"Selection\"},{\"attributes\":{\"axis_label_standoff\":10,\"axis_label_text_color\":\"#5B5B5B\",\"axis_label_text_font\":\"Calibri Light\",\"axis_label_text_font_size\":\"1.15em\",\"axis_label_text_font_style\":\"bold\",\"axis_line_alpha\":1,\"axis_line_color\":\"#5B5B5B\",\"formatter\":{\"id\":\"6145\"},\"major_label_text_color\":\"#5B5B5B\",\"major_label_text_font\":\"Calibri Light\",\"major_label_text_font_size\":\"0.95em\",\"major_label_text_font_style\":\"bold\",\"major_tick_in\":0,\"major_tick_line_alpha\":0.25,\"major_tick_line_color\":\"#5B5B5B\",\"major_tick_out\":3,\"minor_tick_line_alpha\":0.25,\"minor_tick_line_color\":\"#5B5B5B\",\"ticker\":{\"id\":\"5900\"}},\"id\":\"5899\",\"type\":\"LinearAxis\"},{\"attributes\":{\"text\":\"Bands and bonds example\",\"text_color\":{\"value\":\"#5B5B5B\"},\"text_font\":\"Calibri Light\",\"text_font_size\":{\"value\":\"1.25em\"},\"text_font_style\":\"bold\"},\"id\":\"5889\",\"type\":\"Title\"},{\"attributes\":{},\"id\":\"5908\",\"type\":\"WheelZoomTool\"},{\"attributes\":{},\"id\":\"5897\",\"type\":\"LinearScale\"},{\"attributes\":{},\"id\":\"6145\",\"type\":\"BasicTickFormatter\"},{\"attributes\":{},\"id\":\"5895\",\"type\":\"LinearScale\"},{\"attributes\":{\"axis_label_standoff\":10,\"axis_label_text_color\":\"#5B5B5B\",\"axis_label_text_font\":\"Calibri Light\",\"axis_label_text_font_size\":\"1.15em\",\"axis_label_text_font_style\":\"bold\",\"axis_line_alpha\":1,\"axis_line_color\":\"#5B5B5B\",\"formatter\":{\"id\":\"6147\"},\"major_label_text_color\":\"#5B5B5B\",\"major_label_text_font\":\"Calibri Light\",\"major_label_text_font_size\":\"0.95em\",\"major_label_text_font_style\":\"bold\",\"major_tick_in\":0,\"major_tick_line_alpha\":0.25,\"major_tick_line_color\":\"#5B5B5B\",\"major_tick_out\":3,\"minor_tick_line_alpha\":0.25,\"minor_tick_line_color\":\"#5B5B5B\",\"ticker\":{\"id\":\"5904\"}},\"id\":\"5903\",\"type\":\"LinearAxis\"},{\"attributes\":{},\"id\":\"5907\",\"type\":\"PanTool\"},{\"attributes\":{},\"id\":\"5891\",\"type\":\"DataRange1d\"},{\"attributes\":{},\"id\":\"6147\",\"type\":\"BasicTickFormatter\"},{\"attributes\":{},\"id\":\"5900\",\"type\":\"BasicTicker\"},{\"attributes\":{},\"id\":\"5893\",\"type\":\"DataRange1d\"},{\"attributes\":{\"axis\":{\"id\":\"5903\"},\"band_fill_alpha\":0.1,\"band_fill_color\":\"olive\",\"dimension\":1,\"ticker\":null},\"id\":\"5906\",\"type\":\"Grid\"},{\"attributes\":{\"active_drag\":\"auto\",\"active_inspect\":\"auto\",\"active_multi\":null,\"active_scroll\":\"auto\",\"active_tap\":\"auto\",\"tools\":[{\"id\":\"5907\"},{\"id\":\"5908\"},{\"id\":\"5909\"},{\"id\":\"5910\"},{\"id\":\"5911\"},{\"id\":\"5912\"}]},\"id\":\"5914\",\"type\":\"Toolbar\"},{\"attributes\":{\"axis\":{\"id\":\"5899\"},\"bounds\":[2,4],\"ticker\":null},\"id\":\"5902\",\"type\":\"Grid\"}],\"root_ids\":[\"5888\"]},\"title\":\"Bokeh Application\",\"version\":\"2.2.2\"}};\n",
       "  var render_items = [{\"docid\":\"778cda13-4264-4980-8e53-534639df633e\",\"root_ids\":[\"5888\"],\"roots\":{\"5888\":\"46a8156c-24e1-422e-aad1-9a18f8b51778\"}}];\n",
       "  root.Bokeh.embed.embed_items_notebook(docs_json, render_items);\n",
       "\n",
       "  }\n",
       "  if (root.Bokeh !== undefined) {\n",
       "    embed_document(root);\n",
       "  } else {\n",
       "    var attempts = 0;\n",
       "    var timer = setInterval(function(root) {\n",
       "      if (root.Bokeh !== undefined) {\n",
       "        clearInterval(timer);\n",
       "        embed_document(root);\n",
       "      } else {\n",
       "        attempts++;\n",
       "        if (attempts > 100) {\n",
       "          clearInterval(timer);\n",
       "          console.log(\"Bokeh: ERROR: Unable to run BokehJS code because BokehJS library is missing\");\n",
       "        }\n",
       "      }\n",
       "    }, 10, root)\n",
       "  }\n",
       "})(window);"
      ],
      "application/vnd.bokehjs_exec.v0+json": ""
     },
     "metadata": {
      "application/vnd.bokehjs_exec.v0+json": {
       "id": "5888"
      }
     },
     "output_type": "display_data"
    }
   ],
   "source": [
    "# prepare some data\n",
    "x = [1, 2, 3, 4, 5]\n",
    "y = [4, 5, 5, 7, 2]\n",
    "\n",
    "# create a plot\n",
    "p = figure(\n",
    "    title=\"Bands and bonds example\",\n",
    "    sizing_mode=\"stretch_width\",\n",
    "    max_width=500,\n",
    "    height=250,\n",
    ")\n",
    "\n",
    "# add a renderer\n",
    "p.line(x, y, line_color=\"green\", line_width=2)\n",
    "\n",
    "# add bands to the y-grid\n",
    "p.ygrid.band_fill_color = \"olive\"\n",
    "p.ygrid.band_fill_alpha = 0.1\n",
    "\n",
    "# define vertical bonds\n",
    "p.xgrid.bounds = (2, 4)\n",
    "\n",
    "# show the results\n",
    "show(p)"
   ]
  },
  {
   "cell_type": "markdown",
   "id": "912a8089",
   "metadata": {},
   "source": [
    "For more information on styling bands and bounds, see Bands and Bounds in the user guide.\n",
    "\n",
    "Setting background colors\n",
    "You have several options to define colors in Bokeh. For example:\n",
    "- Use one of the named CSS colors (for example, \"firebrick\")\n",
    "- Use hexadecimal values, prefaced with a # (for example \"#00ff00\")\n",
    "- Use a 3-tuple for RGB colors (for example, (100, 100, 255)\n",
    "- Use a 4-tuple for RGBA colors (for example (100, 100, 255, 0.5))\n",
    "\n",
    "To change the appearance of the plane that Bokeh draws your plot elements on, use the various fill_color attributes of your Plot object:\n"
   ]
  },
  {
   "cell_type": "code",
   "execution_count": 28,
   "id": "8986b228",
   "metadata": {},
   "outputs": [
    {
     "data": {
      "text/html": [
       "\n",
       "\n",
       "\n",
       "\n",
       "\n",
       "\n",
       "  <div class=\"bk-root\" id=\"41a0beef-3a1e-4e23-8684-b3fa17b0050a\" data-root-id=\"6191\"></div>\n"
      ]
     },
     "metadata": {},
     "output_type": "display_data"
    },
    {
     "data": {
      "application/javascript": [
       "(function(root) {\n",
       "  function embed_document(root) {\n",
       "    \n",
       "  var docs_json = {\"37b8ad84-8e95-4c2d-8068-d5c387532b41\":{\"roots\":{\"references\":[{\"attributes\":{\"background_fill_color\":\"rgb(204, 255, 255)\",\"below\":[{\"id\":\"6202\"}],\"border_fill_color\":\"rgb(102, 204, 255)\",\"center\":[{\"id\":\"6205\"},{\"id\":\"6209\"}],\"left\":[{\"id\":\"6206\"}],\"max_width\":500,\"outline_line_color\":\"rgb(0, 0, 255)\",\"plot_height\":250,\"renderers\":[{\"id\":\"6227\"}],\"sizing_mode\":\"stretch_width\",\"title\":{\"id\":\"6192\"},\"toolbar\":{\"id\":\"6217\"},\"x_range\":{\"id\":\"6194\"},\"x_scale\":{\"id\":\"6198\"},\"y_range\":{\"id\":\"6196\"},\"y_scale\":{\"id\":\"6200\"}},\"id\":\"6191\",\"subtype\":\"Figure\",\"type\":\"Plot\"},{\"attributes\":{},\"id\":\"6460\",\"type\":\"UnionRenderers\"},{\"attributes\":{},\"id\":\"6215\",\"type\":\"HelpTool\"},{\"attributes\":{\"text\":\"Background colors example\",\"text_color\":{\"value\":\"#5B5B5B\"},\"text_font\":\"Calibri Light\",\"text_font_size\":{\"value\":\"1.25em\"},\"text_font_style\":\"bold\"},\"id\":\"6192\",\"type\":\"Title\"},{\"attributes\":{\"axis\":{\"id\":\"6206\"},\"dimension\":1,\"ticker\":null},\"id\":\"6209\",\"type\":\"Grid\"},{\"attributes\":{},\"id\":\"6207\",\"type\":\"BasicTicker\"},{\"attributes\":{\"line_color\":\"green\",\"line_width\":2,\"x\":{\"field\":\"x\"},\"y\":{\"field\":\"y\"}},\"id\":\"6225\",\"type\":\"Line\"},{\"attributes\":{},\"id\":\"6200\",\"type\":\"LinearScale\"},{\"attributes\":{},\"id\":\"6211\",\"type\":\"WheelZoomTool\"},{\"attributes\":{},\"id\":\"6210\",\"type\":\"PanTool\"},{\"attributes\":{},\"id\":\"6194\",\"type\":\"DataRange1d\"},{\"attributes\":{\"overlay\":{\"id\":\"6216\"}},\"id\":\"6212\",\"type\":\"BoxZoomTool\"},{\"attributes\":{},\"id\":\"6456\",\"type\":\"BasicTickFormatter\"},{\"attributes\":{\"data\":{\"x\":[1,2,3,4,5],\"y\":[4,5,5,7,2]},\"selected\":{\"id\":\"6461\"},\"selection_policy\":{\"id\":\"6460\"}},\"id\":\"6224\",\"type\":\"ColumnDataSource\"},{\"attributes\":{},\"id\":\"6213\",\"type\":\"SaveTool\"},{\"attributes\":{},\"id\":\"6214\",\"type\":\"ResetTool\"},{\"attributes\":{\"active_drag\":\"auto\",\"active_inspect\":\"auto\",\"active_multi\":null,\"active_scroll\":\"auto\",\"active_tap\":\"auto\",\"tools\":[{\"id\":\"6210\"},{\"id\":\"6211\"},{\"id\":\"6212\"},{\"id\":\"6213\"},{\"id\":\"6214\"},{\"id\":\"6215\"}]},\"id\":\"6217\",\"type\":\"Toolbar\"},{\"attributes\":{},\"id\":\"6196\",\"type\":\"DataRange1d\"},{\"attributes\":{\"source\":{\"id\":\"6224\"}},\"id\":\"6228\",\"type\":\"CDSView\"},{\"attributes\":{\"line_alpha\":0.1,\"line_color\":\"green\",\"line_width\":2,\"x\":{\"field\":\"x\"},\"y\":{\"field\":\"y\"}},\"id\":\"6226\",\"type\":\"Line\"},{\"attributes\":{},\"id\":\"6198\",\"type\":\"LinearScale\"},{\"attributes\":{\"axis_label_standoff\":10,\"axis_label_text_color\":\"#5B5B5B\",\"axis_label_text_font\":\"Calibri Light\",\"axis_label_text_font_size\":\"1.15em\",\"axis_label_text_font_style\":\"bold\",\"axis_line_alpha\":1,\"axis_line_color\":\"#5B5B5B\",\"formatter\":{\"id\":\"6456\"},\"major_label_text_color\":\"#5B5B5B\",\"major_label_text_font\":\"Calibri Light\",\"major_label_text_font_size\":\"0.95em\",\"major_label_text_font_style\":\"bold\",\"major_tick_in\":0,\"major_tick_line_alpha\":0.25,\"major_tick_line_color\":\"#5B5B5B\",\"major_tick_out\":3,\"minor_tick_line_alpha\":0.25,\"minor_tick_line_color\":\"#5B5B5B\",\"ticker\":{\"id\":\"6203\"}},\"id\":\"6202\",\"type\":\"LinearAxis\"},{\"attributes\":{\"data_source\":{\"id\":\"6224\"},\"glyph\":{\"id\":\"6225\"},\"hover_glyph\":null,\"muted_glyph\":null,\"nonselection_glyph\":{\"id\":\"6226\"},\"selection_glyph\":null,\"view\":{\"id\":\"6228\"}},\"id\":\"6227\",\"type\":\"GlyphRenderer\"},{\"attributes\":{},\"id\":\"6458\",\"type\":\"BasicTickFormatter\"},{\"attributes\":{},\"id\":\"6203\",\"type\":\"BasicTicker\"},{\"attributes\":{\"bottom_units\":\"screen\",\"fill_alpha\":0.5,\"fill_color\":\"lightgrey\",\"left_units\":\"screen\",\"level\":\"overlay\",\"line_alpha\":1.0,\"line_color\":\"black\",\"line_dash\":[4,4],\"line_width\":2,\"right_units\":\"screen\",\"top_units\":\"screen\"},\"id\":\"6216\",\"type\":\"BoxAnnotation\"},{\"attributes\":{},\"id\":\"6461\",\"type\":\"Selection\"},{\"attributes\":{\"axis\":{\"id\":\"6202\"},\"ticker\":null},\"id\":\"6205\",\"type\":\"Grid\"},{\"attributes\":{\"axis_label_standoff\":10,\"axis_label_text_color\":\"#5B5B5B\",\"axis_label_text_font\":\"Calibri Light\",\"axis_label_text_font_size\":\"1.15em\",\"axis_label_text_font_style\":\"bold\",\"axis_line_alpha\":1,\"axis_line_color\":\"#5B5B5B\",\"formatter\":{\"id\":\"6458\"},\"major_label_text_color\":\"#5B5B5B\",\"major_label_text_font\":\"Calibri Light\",\"major_label_text_font_size\":\"0.95em\",\"major_label_text_font_style\":\"bold\",\"major_tick_in\":0,\"major_tick_line_alpha\":0.25,\"major_tick_line_color\":\"#5B5B5B\",\"major_tick_out\":3,\"minor_tick_line_alpha\":0.25,\"minor_tick_line_color\":\"#5B5B5B\",\"ticker\":{\"id\":\"6207\"}},\"id\":\"6206\",\"type\":\"LinearAxis\"}],\"root_ids\":[\"6191\"]},\"title\":\"Bokeh Application\",\"version\":\"2.2.2\"}};\n",
       "  var render_items = [{\"docid\":\"37b8ad84-8e95-4c2d-8068-d5c387532b41\",\"root_ids\":[\"6191\"],\"roots\":{\"6191\":\"41a0beef-3a1e-4e23-8684-b3fa17b0050a\"}}];\n",
       "  root.Bokeh.embed.embed_items_notebook(docs_json, render_items);\n",
       "\n",
       "  }\n",
       "  if (root.Bokeh !== undefined) {\n",
       "    embed_document(root);\n",
       "  } else {\n",
       "    var attempts = 0;\n",
       "    var timer = setInterval(function(root) {\n",
       "      if (root.Bokeh !== undefined) {\n",
       "        clearInterval(timer);\n",
       "        embed_document(root);\n",
       "      } else {\n",
       "        attempts++;\n",
       "        if (attempts > 100) {\n",
       "          clearInterval(timer);\n",
       "          console.log(\"Bokeh: ERROR: Unable to run BokehJS code because BokehJS library is missing\");\n",
       "        }\n",
       "      }\n",
       "    }, 10, root)\n",
       "  }\n",
       "})(window);"
      ],
      "application/vnd.bokehjs_exec.v0+json": ""
     },
     "metadata": {
      "application/vnd.bokehjs_exec.v0+json": {
       "id": "6191"
      }
     },
     "output_type": "display_data"
    }
   ],
   "source": [
    "# prepare some data\n",
    "x = [1, 2, 3, 4, 5]\n",
    "y = [4, 5, 5, 7, 2]\n",
    "\n",
    "\n",
    "# create a plot\n",
    "p = figure(\n",
    "    title=\"Background colors example\",\n",
    "    sizing_mode=\"stretch_width\",\n",
    "    max_width=500,\n",
    "    height=250,\n",
    ")\n",
    "\n",
    "# add a renderer\n",
    "p.line(x, y, line_color=\"green\", line_width=2)\n",
    "\n",
    "# change the fill colors\n",
    "p.background_fill_color = (204, 255, 255)\n",
    "p.border_fill_color = (102, 204, 255)\n",
    "p.outline_line_color = (0, 0, 255)\n",
    "\n",
    "# show the results\n",
    "show(p)"
   ]
  },
  {
   "cell_type": "markdown",
   "id": "a6f52993",
   "metadata": {},
   "source": [
    "For more information on colors in Bokeh, see the entry for Color in the reference guide.\n",
    "\n",
    "## Customizing the toolbar\n",
    "Bokeh comes with a powerful toolbar to explore plots. You saw those tools in your very fist visualization, as part of first step guide 1.\n",
    "\n",
    "### Positioning the toolbar\n",
    "To define the position of the toolbar, use the toolbar_location attribute with one of these values: above, below, left, right\n",
    "\n",
    "Pass a value to toolbar_location when creating your figure:\n",
    "\n",
    "    p = figure(title=\"Toolbar positioning example\", toolbar_location=\"below\")\n",
    "Another option is to change the attribute toolbar_location at any time after creating your figure:\n",
    "\n",
    "    p.toolbar_location = \"below\"\n",
    "### Deactivating and hiding the toolbar\n",
    "To deactivate the toolbar completely, set toolbar_location to None.\n",
    "\n",
    "    p.toolbar_location = None\n",
    "To make your toolbar hide automatically, set autohide to True:\n"
   ]
  },
  {
   "cell_type": "code",
   "execution_count": 29,
   "id": "b2c48c6f",
   "metadata": {},
   "outputs": [
    {
     "data": {
      "text/html": [
       "\n",
       "\n",
       "\n",
       "\n",
       "\n",
       "\n",
       "  <div class=\"bk-root\" id=\"e7af787e-f51f-4fd9-bc98-7ae736db2f88\" data-root-id=\"6502\"></div>\n"
      ]
     },
     "metadata": {},
     "output_type": "display_data"
    },
    {
     "data": {
      "application/javascript": [
       "(function(root) {\n",
       "  function embed_document(root) {\n",
       "    \n",
       "  var docs_json = {\"3a081b5f-d8ea-4c48-b94d-6d4a125975cf\":{\"roots\":{\"references\":[{\"attributes\":{\"below\":[{\"id\":\"6513\"}],\"center\":[{\"id\":\"6516\"},{\"id\":\"6520\"}],\"left\":[{\"id\":\"6517\"}],\"max_width\":500,\"plot_height\":250,\"renderers\":[{\"id\":\"6539\"}],\"sizing_mode\":\"stretch_width\",\"title\":{\"id\":\"6503\"},\"toolbar\":{\"id\":\"6528\"},\"x_range\":{\"id\":\"6505\"},\"x_scale\":{\"id\":\"6509\"},\"y_range\":{\"id\":\"6507\"},\"y_scale\":{\"id\":\"6511\"}},\"id\":\"6502\",\"subtype\":\"Figure\",\"type\":\"Plot\"},{\"attributes\":{},\"id\":\"6778\",\"type\":\"BasicTickFormatter\"},{\"attributes\":{\"bottom_units\":\"screen\",\"fill_alpha\":0.5,\"fill_color\":\"lightgrey\",\"left_units\":\"screen\",\"level\":\"overlay\",\"line_alpha\":1.0,\"line_color\":\"black\",\"line_dash\":[4,4],\"line_width\":2,\"right_units\":\"screen\",\"top_units\":\"screen\"},\"id\":\"6527\",\"type\":\"BoxAnnotation\"},{\"attributes\":{},\"id\":\"6525\",\"type\":\"ResetTool\"},{\"attributes\":{\"axis\":{\"id\":\"6513\"},\"ticker\":null},\"id\":\"6516\",\"type\":\"Grid\"},{\"attributes\":{\"axis\":{\"id\":\"6517\"},\"dimension\":1,\"ticker\":null},\"id\":\"6520\",\"type\":\"Grid\"},{\"attributes\":{},\"id\":\"6507\",\"type\":\"DataRange1d\"},{\"attributes\":{},\"id\":\"6526\",\"type\":\"HelpTool\"},{\"attributes\":{\"axis_label_standoff\":10,\"axis_label_text_color\":\"#5B5B5B\",\"axis_label_text_font\":\"Calibri Light\",\"axis_label_text_font_size\":\"1.15em\",\"axis_label_text_font_style\":\"bold\",\"axis_line_alpha\":1,\"axis_line_color\":\"#5B5B5B\",\"formatter\":{\"id\":\"6778\"},\"major_label_text_color\":\"#5B5B5B\",\"major_label_text_font\":\"Calibri Light\",\"major_label_text_font_size\":\"0.95em\",\"major_label_text_font_style\":\"bold\",\"major_tick_in\":0,\"major_tick_line_alpha\":0.25,\"major_tick_line_color\":\"#5B5B5B\",\"major_tick_out\":3,\"minor_tick_line_alpha\":0.25,\"minor_tick_line_color\":\"#5B5B5B\",\"ticker\":{\"id\":\"6518\"}},\"id\":\"6517\",\"type\":\"LinearAxis\"},{\"attributes\":{\"text\":\"Toolbar autohide example\",\"text_color\":{\"value\":\"#5B5B5B\"},\"text_font\":\"Calibri Light\",\"text_font_size\":{\"value\":\"1.25em\"},\"text_font_style\":\"bold\"},\"id\":\"6503\",\"type\":\"Title\"},{\"attributes\":{},\"id\":\"6518\",\"type\":\"BasicTicker\"},{\"attributes\":{\"axis_label_standoff\":10,\"axis_label_text_color\":\"#5B5B5B\",\"axis_label_text_font\":\"Calibri Light\",\"axis_label_text_font_size\":\"1.15em\",\"axis_label_text_font_style\":\"bold\",\"axis_line_alpha\":1,\"axis_line_color\":\"#5B5B5B\",\"formatter\":{\"id\":\"6776\"},\"major_label_text_color\":\"#5B5B5B\",\"major_label_text_font\":\"Calibri Light\",\"major_label_text_font_size\":\"0.95em\",\"major_label_text_font_style\":\"bold\",\"major_tick_in\":0,\"major_tick_line_alpha\":0.25,\"major_tick_line_color\":\"#5B5B5B\",\"major_tick_out\":3,\"minor_tick_line_alpha\":0.25,\"minor_tick_line_color\":\"#5B5B5B\",\"ticker\":{\"id\":\"6514\"}},\"id\":\"6513\",\"type\":\"LinearAxis\"},{\"attributes\":{\"active_drag\":\"auto\",\"active_inspect\":\"auto\",\"active_multi\":null,\"active_scroll\":\"auto\",\"active_tap\":\"auto\",\"autohide\":true,\"tools\":[{\"id\":\"6521\"},{\"id\":\"6522\"},{\"id\":\"6523\"},{\"id\":\"6524\"},{\"id\":\"6525\"},{\"id\":\"6526\"}]},\"id\":\"6528\",\"type\":\"Toolbar\"},{\"attributes\":{},\"id\":\"6522\",\"type\":\"WheelZoomTool\"},{\"attributes\":{},\"id\":\"6521\",\"type\":\"PanTool\"},{\"attributes\":{},\"id\":\"6780\",\"type\":\"UnionRenderers\"},{\"attributes\":{\"overlay\":{\"id\":\"6527\"}},\"id\":\"6523\",\"type\":\"BoxZoomTool\"},{\"attributes\":{\"line_color\":\"#1f77b4\",\"x\":{\"field\":\"x\"},\"y\":{\"field\":\"y\"}},\"id\":\"6537\",\"type\":\"Line\"},{\"attributes\":{},\"id\":\"6781\",\"type\":\"Selection\"},{\"attributes\":{},\"id\":\"6524\",\"type\":\"SaveTool\"},{\"attributes\":{\"data_source\":{\"id\":\"6536\"},\"glyph\":{\"id\":\"6537\"},\"hover_glyph\":null,\"muted_glyph\":null,\"nonselection_glyph\":{\"id\":\"6538\"},\"selection_glyph\":null,\"view\":{\"id\":\"6540\"}},\"id\":\"6539\",\"type\":\"GlyphRenderer\"},{\"attributes\":{\"line_alpha\":0.1,\"line_color\":\"#1f77b4\",\"x\":{\"field\":\"x\"},\"y\":{\"field\":\"y\"}},\"id\":\"6538\",\"type\":\"Line\"},{\"attributes\":{\"source\":{\"id\":\"6536\"}},\"id\":\"6540\",\"type\":\"CDSView\"},{\"attributes\":{\"data\":{\"x\":[1,2,3,4,5],\"y\":[4,5,5,7,2]},\"selected\":{\"id\":\"6781\"},\"selection_policy\":{\"id\":\"6780\"}},\"id\":\"6536\",\"type\":\"ColumnDataSource\"},{\"attributes\":{},\"id\":\"6505\",\"type\":\"DataRange1d\"},{\"attributes\":{},\"id\":\"6776\",\"type\":\"BasicTickFormatter\"},{\"attributes\":{},\"id\":\"6509\",\"type\":\"LinearScale\"},{\"attributes\":{},\"id\":\"6514\",\"type\":\"BasicTicker\"},{\"attributes\":{},\"id\":\"6511\",\"type\":\"LinearScale\"}],\"root_ids\":[\"6502\"]},\"title\":\"Bokeh Application\",\"version\":\"2.2.2\"}};\n",
       "  var render_items = [{\"docid\":\"3a081b5f-d8ea-4c48-b94d-6d4a125975cf\",\"root_ids\":[\"6502\"],\"roots\":{\"6502\":\"e7af787e-f51f-4fd9-bc98-7ae736db2f88\"}}];\n",
       "  root.Bokeh.embed.embed_items_notebook(docs_json, render_items);\n",
       "\n",
       "  }\n",
       "  if (root.Bokeh !== undefined) {\n",
       "    embed_document(root);\n",
       "  } else {\n",
       "    var attempts = 0;\n",
       "    var timer = setInterval(function(root) {\n",
       "      if (root.Bokeh !== undefined) {\n",
       "        clearInterval(timer);\n",
       "        embed_document(root);\n",
       "      } else {\n",
       "        attempts++;\n",
       "        if (attempts > 100) {\n",
       "          clearInterval(timer);\n",
       "          console.log(\"Bokeh: ERROR: Unable to run BokehJS code because BokehJS library is missing\");\n",
       "        }\n",
       "      }\n",
       "    }, 10, root)\n",
       "  }\n",
       "})(window);"
      ],
      "application/vnd.bokehjs_exec.v0+json": ""
     },
     "metadata": {
      "application/vnd.bokehjs_exec.v0+json": {
       "id": "6502"
      }
     },
     "output_type": "display_data"
    }
   ],
   "source": [
    "# prepare some data\n",
    "x = [1, 2, 3, 4, 5]\n",
    "y = [4, 5, 5, 7, 2]\n",
    "\n",
    "# create a plot\n",
    "p = figure(\n",
    "    title=\"Toolbar autohide example\",\n",
    "    sizing_mode=\"stretch_width\",\n",
    "    max_width=500,\n",
    "    height=250,\n",
    ")\n",
    "\n",
    "# activate toolbar autohide\n",
    "p.toolbar.autohide = True\n",
    "\n",
    "# add a renderer\n",
    "p.line(x, y)\n",
    "\n",
    "# show the results\n",
    "show(p)"
   ]
  },
  {
   "cell_type": "markdown",
   "id": "e605bd01",
   "metadata": {},
   "source": [
    "With autohide set to True, Bokeh will hide the toolbar unless the mouse is inside the plot area or you tap inside the plot area.\n",
    "\n",
    "Similarly, use the logo property of the Toolbar to deactivate the Bokeh logo:\n",
    "\n",
    "    p.toolbar.logo = None\n",
    "Customizing available tools\n",
    "You can customize which tools Bokeh displays in the toolbar. For a detailed list of all available tools, see Configuring plot tools in the user guide.\n",
    "\n",
    "To customize which tools to use, you first need to import the relevant tools. For example:\n",
    "\n",
    "    from bokeh.models.tools import BoxZoomTool, ResetTool\n",
    "Next, define which tools to use when creating a new figure by passing the tools attribute to the figure() function.\n",
    "\n",
    "The tools attribute accepts a list of tools. This example enables only the BoxZoomTool and ResetTool:\n",
    "\n",
    "    p = figure(tools = [BoxZoomTool(), ResetTool()])\n",
    "This way, only the box zoom tool and the reset tool will be available in the toolbar:\n",
    "\n",
    "To change the available tools at any time after creating your figure, you need to use the add_tools() function.\n",
    "\n",
    "All tools also offer various properties to define how they can be used. With the PanTool, for example, you can limit the movement to only horizontal or vertical panning. The default behavior is to allow panning in both directions.\n"
   ]
  },
  {
   "cell_type": "code",
   "execution_count": 30,
   "id": "0e9c1c51",
   "metadata": {},
   "outputs": [
    {
     "data": {
      "text/html": [
       "\n",
       "\n",
       "\n",
       "\n",
       "\n",
       "\n",
       "  <div class=\"bk-root\" id=\"9615974f-a7b2-4ae3-9628-79cfa87bd830\" data-root-id=\"6824\"></div>\n"
      ]
     },
     "metadata": {},
     "output_type": "display_data"
    },
    {
     "data": {
      "application/javascript": [
       "(function(root) {\n",
       "  function embed_document(root) {\n",
       "    \n",
       "  var docs_json = {\"fb1c6850-75a6-41d3-b4b0-2d0e915907e2\":{\"roots\":{\"references\":[{\"attributes\":{\"below\":[{\"id\":\"6835\"}],\"center\":[{\"id\":\"6838\"},{\"id\":\"6842\"}],\"left\":[{\"id\":\"6839\"}],\"max_width\":500,\"plot_height\":250,\"renderers\":[{\"id\":\"6852\"}],\"sizing_mode\":\"stretch_width\",\"title\":{\"id\":\"6825\"},\"toolbar\":{\"id\":\"6844\"},\"x_range\":{\"id\":\"6827\"},\"x_scale\":{\"id\":\"6831\"},\"y_range\":{\"id\":\"6829\"},\"y_scale\":{\"id\":\"6833\"}},\"id\":\"6824\",\"subtype\":\"Figure\",\"type\":\"Plot\"},{\"attributes\":{},\"id\":\"7099\",\"type\":\"BasicTickFormatter\"},{\"attributes\":{},\"id\":\"7102\",\"type\":\"Selection\"},{\"attributes\":{},\"id\":\"6823\",\"type\":\"ResetTool\"},{\"attributes\":{\"text\":\"Modifying tools example\",\"text_color\":{\"value\":\"#5B5B5B\"},\"text_font\":\"Calibri Light\",\"text_font_size\":{\"value\":\"1.25em\"},\"text_font_style\":\"bold\"},\"id\":\"6825\",\"type\":\"Title\"},{\"attributes\":{},\"id\":\"7101\",\"type\":\"UnionRenderers\"},{\"attributes\":{\"overlay\":{\"id\":\"6843\"}},\"id\":\"6822\",\"type\":\"BoxZoomTool\"},{\"attributes\":{\"data_source\":{\"id\":\"6849\"},\"glyph\":{\"id\":\"6850\"},\"hover_glyph\":null,\"muted_glyph\":null,\"nonselection_glyph\":{\"id\":\"6851\"},\"selection_glyph\":null,\"view\":{\"id\":\"6853\"}},\"id\":\"6852\",\"type\":\"GlyphRenderer\"},{\"attributes\":{\"active_drag\":\"auto\",\"active_inspect\":\"auto\",\"active_multi\":null,\"active_scroll\":\"auto\",\"active_tap\":\"auto\",\"tools\":[{\"id\":\"6822\"},{\"id\":\"6823\"},{\"id\":\"6847\"}]},\"id\":\"6844\",\"type\":\"Toolbar\"},{\"attributes\":{\"axis_label_standoff\":10,\"axis_label_text_color\":\"#5B5B5B\",\"axis_label_text_font\":\"Calibri Light\",\"axis_label_text_font_size\":\"1.15em\",\"axis_label_text_font_style\":\"bold\",\"axis_line_alpha\":1,\"axis_line_color\":\"#5B5B5B\",\"formatter\":{\"id\":\"7099\"},\"major_label_text_color\":\"#5B5B5B\",\"major_label_text_font\":\"Calibri Light\",\"major_label_text_font_size\":\"0.95em\",\"major_label_text_font_style\":\"bold\",\"major_tick_in\":0,\"major_tick_line_alpha\":0.25,\"major_tick_line_color\":\"#5B5B5B\",\"major_tick_out\":3,\"minor_tick_line_alpha\":0.25,\"minor_tick_line_color\":\"#5B5B5B\",\"ticker\":{\"id\":\"6840\"}},\"id\":\"6839\",\"type\":\"LinearAxis\"},{\"attributes\":{\"bottom_units\":\"screen\",\"fill_alpha\":0.5,\"fill_color\":\"lightgrey\",\"left_units\":\"screen\",\"level\":\"overlay\",\"line_alpha\":1.0,\"line_color\":\"black\",\"line_dash\":[4,4],\"line_width\":2,\"right_units\":\"screen\",\"top_units\":\"screen\"},\"id\":\"6843\",\"type\":\"BoxAnnotation\"},{\"attributes\":{\"axis_label_standoff\":10,\"axis_label_text_color\":\"#5B5B5B\",\"axis_label_text_font\":\"Calibri Light\",\"axis_label_text_font_size\":\"1.15em\",\"axis_label_text_font_style\":\"bold\",\"axis_line_alpha\":1,\"axis_line_color\":\"#5B5B5B\",\"formatter\":{\"id\":\"7097\"},\"major_label_text_color\":\"#5B5B5B\",\"major_label_text_font\":\"Calibri Light\",\"major_label_text_font_size\":\"0.95em\",\"major_label_text_font_style\":\"bold\",\"major_tick_in\":0,\"major_tick_line_alpha\":0.25,\"major_tick_line_color\":\"#5B5B5B\",\"major_tick_out\":3,\"minor_tick_line_alpha\":0.25,\"minor_tick_line_color\":\"#5B5B5B\",\"ticker\":{\"id\":\"6836\"}},\"id\":\"6835\",\"type\":\"LinearAxis\"},{\"attributes\":{\"data\":{\"x\":[1,2,3,4,5],\"y\":[4,5,5,7,2]},\"selected\":{\"id\":\"7102\"},\"selection_policy\":{\"id\":\"7101\"}},\"id\":\"6849\",\"type\":\"ColumnDataSource\"},{\"attributes\":{},\"id\":\"6833\",\"type\":\"LinearScale\"},{\"attributes\":{},\"id\":\"6836\",\"type\":\"BasicTicker\"},{\"attributes\":{},\"id\":\"6829\",\"type\":\"DataRange1d\"},{\"attributes\":{},\"id\":\"6827\",\"type\":\"DataRange1d\"},{\"attributes\":{\"axis\":{\"id\":\"6835\"},\"ticker\":null},\"id\":\"6838\",\"type\":\"Grid\"},{\"attributes\":{\"source\":{\"id\":\"6849\"}},\"id\":\"6853\",\"type\":\"CDSView\"},{\"attributes\":{\"fill_color\":{\"value\":\"#1f77b4\"},\"line_color\":{\"value\":\"#1f77b4\"},\"size\":{\"units\":\"screen\",\"value\":10},\"x\":{\"field\":\"x\"},\"y\":{\"field\":\"y\"}},\"id\":\"6850\",\"type\":\"Circle\"},{\"attributes\":{},\"id\":\"6840\",\"type\":\"BasicTicker\"},{\"attributes\":{},\"id\":\"6831\",\"type\":\"LinearScale\"},{\"attributes\":{\"axis\":{\"id\":\"6839\"},\"dimension\":1,\"ticker\":null},\"id\":\"6842\",\"type\":\"Grid\"},{\"attributes\":{},\"id\":\"7097\",\"type\":\"BasicTickFormatter\"},{\"attributes\":{\"fill_alpha\":{\"value\":0.1},\"fill_color\":{\"value\":\"#1f77b4\"},\"line_alpha\":{\"value\":0.1},\"line_color\":{\"value\":\"#1f77b4\"},\"size\":{\"units\":\"screen\",\"value\":10},\"x\":{\"field\":\"x\"},\"y\":{\"field\":\"y\"}},\"id\":\"6851\",\"type\":\"Circle\"},{\"attributes\":{\"dimensions\":\"width\"},\"id\":\"6847\",\"type\":\"PanTool\"}],\"root_ids\":[\"6824\"]},\"title\":\"Bokeh Application\",\"version\":\"2.2.2\"}};\n",
       "  var render_items = [{\"docid\":\"fb1c6850-75a6-41d3-b4b0-2d0e915907e2\",\"root_ids\":[\"6824\"],\"roots\":{\"6824\":\"9615974f-a7b2-4ae3-9628-79cfa87bd830\"}}];\n",
       "  root.Bokeh.embed.embed_items_notebook(docs_json, render_items);\n",
       "\n",
       "  }\n",
       "  if (root.Bokeh !== undefined) {\n",
       "    embed_document(root);\n",
       "  } else {\n",
       "    var attempts = 0;\n",
       "    var timer = setInterval(function(root) {\n",
       "      if (root.Bokeh !== undefined) {\n",
       "        clearInterval(timer);\n",
       "        embed_document(root);\n",
       "      } else {\n",
       "        attempts++;\n",
       "        if (attempts > 100) {\n",
       "          clearInterval(timer);\n",
       "          console.log(\"Bokeh: ERROR: Unable to run BokehJS code because BokehJS library is missing\");\n",
       "        }\n",
       "      }\n",
       "    }, 10, root)\n",
       "  }\n",
       "})(window);"
      ],
      "application/vnd.bokehjs_exec.v0+json": ""
     },
     "metadata": {
      "application/vnd.bokehjs_exec.v0+json": {
       "id": "6824"
      }
     },
     "output_type": "display_data"
    }
   ],
   "source": [
    "from bokeh.models import BoxZoomTool, PanTool, ResetTool\n",
    "\n",
    "# prepare some data\n",
    "x = [1, 2, 3, 4, 5]\n",
    "y = [4, 5, 5, 7, 2]\n",
    "\n",
    "# create a plot\n",
    "p = figure(\n",
    "    title=\"Modifying tools example\",\n",
    "    tools=[BoxZoomTool(), ResetTool()],\n",
    "    sizing_mode=\"stretch_width\",\n",
    "    max_width=500,\n",
    "    height=250,\n",
    ")\n",
    "\n",
    "# add an additional pan tool\n",
    "# only vertical panning is allowed\n",
    "p.add_tools(PanTool(dimensions=\"width\"))\n",
    "\n",
    "# add a renderer\n",
    "p.circle(x, y, size=10)\n",
    "\n",
    "# show the results\n",
    "show(p)"
   ]
  },
  {
   "cell_type": "markdown",
   "id": "3a9fbadd",
   "metadata": {},
   "source": [
    "In this example, you first include the box zoom tool and the reset tool when creating your function. Next, you add a pan zoom tool. This results in all three tools being available:\n",
    "\n",
    "To learn more about tools and toolbars, see Configuring plot tools. For detailed information about all tools and their respective properties, see tools and Toolbar in the reference guide.\n",
    "\n",
    "### Adding tooltips\n",
    "Tooltips are little windows that appear when you hover your mouse over a data point or when you tap on a data point:\n",
    "\n",
    "Tooltips are based on the HoverTool. The hover tool is part of Bokeh’s toolbar.\n",
    "\n",
    "There are several ways to enable tooltips in Bokeh. This is the quickest:\n",
    "1. Import the HoverTool class from bokeh.models.tools.\n",
    "2. Include HoverTool() in the list passed to the tools argument when calling the figure() function.\n",
    "3. Include the tooltips argument when calling the figure() function.\n",
    "\n",
    "The tooltips argument accepts a string with a special syntax. Use the “@” symbol to include the name of the source for the data you want Bokeh to display. This example includes @x and @y. When the browser displays a tooltip, Bokeh replaces both those fields with the actual data from the lists x and y .\n",
    "\n",
    "This is what the code looks like:"
   ]
  },
  {
   "cell_type": "code",
   "execution_count": 31,
   "id": "d39f0ba2",
   "metadata": {},
   "outputs": [
    {
     "data": {
      "text/html": [
       "\n",
       "\n",
       "\n",
       "\n",
       "\n",
       "\n",
       "  <div class=\"bk-root\" id=\"e18d2bbb-139c-4fe1-83a6-06bab0da3f62\" data-root-id=\"7144\"></div>\n"
      ]
     },
     "metadata": {},
     "output_type": "display_data"
    },
    {
     "data": {
      "application/javascript": [
       "(function(root) {\n",
       "  function embed_document(root) {\n",
       "    \n",
       "  var docs_json = {\"95624c5f-dcd3-4c66-998b-4127830d012f\":{\"roots\":{\"references\":[{\"attributes\":{\"below\":[{\"id\":\"7153\"}],\"center\":[{\"id\":\"7156\"},{\"id\":\"7160\"}],\"left\":[{\"id\":\"7157\"}],\"max_width\":500,\"plot_height\":250,\"renderers\":[{\"id\":\"7166\"},{\"id\":\"7171\"}],\"sizing_mode\":\"stretch_width\",\"title\":{\"id\":\"7423\"},\"toolbar\":{\"id\":\"7161\"},\"toolbar_location\":null,\"x_range\":{\"id\":\"7145\"},\"x_scale\":{\"id\":\"7149\"},\"y_range\":{\"id\":\"7147\"},\"y_scale\":{\"id\":\"7151\"}},\"id\":\"7144\",\"subtype\":\"Figure\",\"type\":\"Plot\"},{\"attributes\":{\"axis_label_standoff\":10,\"axis_label_text_color\":\"#5B5B5B\",\"axis_label_text_font\":\"Calibri Light\",\"axis_label_text_font_size\":\"1.15em\",\"axis_label_text_font_style\":\"bold\",\"axis_line_alpha\":1,\"axis_line_color\":\"#5B5B5B\",\"formatter\":{\"id\":\"7427\"},\"major_label_text_color\":\"#5B5B5B\",\"major_label_text_font\":\"Calibri Light\",\"major_label_text_font_size\":\"0.95em\",\"major_label_text_font_style\":\"bold\",\"major_tick_in\":0,\"major_tick_line_alpha\":0.25,\"major_tick_line_color\":\"#5B5B5B\",\"major_tick_out\":3,\"minor_tick_line_alpha\":0.25,\"minor_tick_line_color\":\"#5B5B5B\",\"ticker\":{\"id\":\"7158\"}},\"id\":\"7157\",\"type\":\"LinearAxis\"},{\"attributes\":{\"line_alpha\":0.1,\"line_color\":\"#1f77b4\",\"line_width\":2,\"x\":{\"field\":\"x\"},\"y\":{\"field\":\"y\"}},\"id\":\"7170\",\"type\":\"Line\"},{\"attributes\":{},\"id\":\"7429\",\"type\":\"Selection\"},{\"attributes\":{\"axis\":{\"id\":\"7157\"},\"dimension\":1,\"ticker\":null},\"id\":\"7160\",\"type\":\"Grid\"},{\"attributes\":{\"fill_color\":{\"value\":\"#1f77b4\"},\"line_color\":{\"value\":\"#1f77b4\"},\"size\":{\"units\":\"screen\",\"value\":10},\"x\":{\"field\":\"x\"},\"y\":{\"field\":\"y\"}},\"id\":\"7164\",\"type\":\"Circle\"},{\"attributes\":{},\"id\":\"7154\",\"type\":\"BasicTicker\"},{\"attributes\":{},\"id\":\"7158\",\"type\":\"BasicTicker\"},{\"attributes\":{\"data\":{\"x\":[1,2,3,4,5],\"y\":[4,5,5,7,2]},\"selected\":{\"id\":\"7429\"},\"selection_policy\":{\"id\":\"7428\"}},\"id\":\"7163\",\"type\":\"ColumnDataSource\"},{\"attributes\":{\"axis_label_standoff\":10,\"axis_label_text_color\":\"#5B5B5B\",\"axis_label_text_font\":\"Calibri Light\",\"axis_label_text_font_size\":\"1.15em\",\"axis_label_text_font_style\":\"bold\",\"axis_line_alpha\":1,\"axis_line_color\":\"#5B5B5B\",\"formatter\":{\"id\":\"7425\"},\"major_label_text_color\":\"#5B5B5B\",\"major_label_text_font\":\"Calibri Light\",\"major_label_text_font_size\":\"0.95em\",\"major_label_text_font_style\":\"bold\",\"major_tick_in\":0,\"major_tick_line_alpha\":0.25,\"major_tick_line_color\":\"#5B5B5B\",\"major_tick_out\":3,\"minor_tick_line_alpha\":0.25,\"minor_tick_line_color\":\"#5B5B5B\",\"ticker\":{\"id\":\"7154\"}},\"id\":\"7153\",\"type\":\"LinearAxis\"},{\"attributes\":{\"active_drag\":\"auto\",\"active_inspect\":\"auto\",\"active_multi\":null,\"active_scroll\":\"auto\",\"active_tap\":\"auto\",\"tools\":[{\"id\":\"7143\"}]},\"id\":\"7161\",\"type\":\"Toolbar\"},{\"attributes\":{\"data_source\":{\"id\":\"7168\"},\"glyph\":{\"id\":\"7169\"},\"hover_glyph\":null,\"muted_glyph\":null,\"nonselection_glyph\":{\"id\":\"7170\"},\"selection_glyph\":null,\"view\":{\"id\":\"7172\"}},\"id\":\"7171\",\"type\":\"GlyphRenderer\"},{\"attributes\":{},\"id\":\"7425\",\"type\":\"BasicTickFormatter\"},{\"attributes\":{\"axis\":{\"id\":\"7153\"},\"ticker\":null},\"id\":\"7156\",\"type\":\"Grid\"},{\"attributes\":{},\"id\":\"7149\",\"type\":\"LinearScale\"},{\"attributes\":{\"end\":10},\"id\":\"7147\",\"type\":\"Range1d\"},{\"attributes\":{},\"id\":\"7427\",\"type\":\"BasicTickFormatter\"},{\"attributes\":{\"callback\":null,\"tooltips\":\"Data point @x has the value @y\"},\"id\":\"7143\",\"type\":\"HoverTool\"},{\"attributes\":{},\"id\":\"7430\",\"type\":\"UnionRenderers\"},{\"attributes\":{},\"id\":\"7431\",\"type\":\"Selection\"},{\"attributes\":{},\"id\":\"7428\",\"type\":\"UnionRenderers\"},{\"attributes\":{\"text\":\"\",\"text_color\":{\"value\":\"#5B5B5B\"},\"text_font\":\"Calibri Light\",\"text_font_size\":{\"value\":\"1.25em\"},\"text_font_style\":\"bold\"},\"id\":\"7423\",\"type\":\"Title\"},{\"attributes\":{},\"id\":\"7145\",\"type\":\"DataRange1d\"},{\"attributes\":{\"data\":{\"x\":[1,2,3,4,5],\"y\":[4,5,5,7,2]},\"selected\":{\"id\":\"7431\"},\"selection_policy\":{\"id\":\"7430\"}},\"id\":\"7168\",\"type\":\"ColumnDataSource\"},{\"attributes\":{\"fill_alpha\":{\"value\":0.1},\"fill_color\":{\"value\":\"#1f77b4\"},\"line_alpha\":{\"value\":0.1},\"line_color\":{\"value\":\"#1f77b4\"},\"size\":{\"units\":\"screen\",\"value\":10},\"x\":{\"field\":\"x\"},\"y\":{\"field\":\"y\"}},\"id\":\"7165\",\"type\":\"Circle\"},{\"attributes\":{\"data_source\":{\"id\":\"7163\"},\"glyph\":{\"id\":\"7164\"},\"hover_glyph\":null,\"muted_glyph\":null,\"nonselection_glyph\":{\"id\":\"7165\"},\"selection_glyph\":null,\"view\":{\"id\":\"7167\"}},\"id\":\"7166\",\"type\":\"GlyphRenderer\"},{\"attributes\":{\"source\":{\"id\":\"7163\"}},\"id\":\"7167\",\"type\":\"CDSView\"},{\"attributes\":{\"line_color\":\"#1f77b4\",\"line_width\":2,\"x\":{\"field\":\"x\"},\"y\":{\"field\":\"y\"}},\"id\":\"7169\",\"type\":\"Line\"},{\"attributes\":{},\"id\":\"7151\",\"type\":\"LinearScale\"},{\"attributes\":{\"source\":{\"id\":\"7168\"}},\"id\":\"7172\",\"type\":\"CDSView\"}],\"root_ids\":[\"7144\"]},\"title\":\"Bokeh Application\",\"version\":\"2.2.2\"}};\n",
       "  var render_items = [{\"docid\":\"95624c5f-dcd3-4c66-998b-4127830d012f\",\"root_ids\":[\"7144\"],\"roots\":{\"7144\":\"e18d2bbb-139c-4fe1-83a6-06bab0da3f62\"}}];\n",
       "  root.Bokeh.embed.embed_items_notebook(docs_json, render_items);\n",
       "\n",
       "  }\n",
       "  if (root.Bokeh !== undefined) {\n",
       "    embed_document(root);\n",
       "  } else {\n",
       "    var attempts = 0;\n",
       "    var timer = setInterval(function(root) {\n",
       "      if (root.Bokeh !== undefined) {\n",
       "        clearInterval(timer);\n",
       "        embed_document(root);\n",
       "      } else {\n",
       "        attempts++;\n",
       "        if (attempts > 100) {\n",
       "          clearInterval(timer);\n",
       "          console.log(\"Bokeh: ERROR: Unable to run BokehJS code because BokehJS library is missing\");\n",
       "        }\n",
       "      }\n",
       "    }, 10, root)\n",
       "  }\n",
       "})(window);"
      ],
      "application/vnd.bokehjs_exec.v0+json": ""
     },
     "metadata": {
      "application/vnd.bokehjs_exec.v0+json": {
       "id": "7144"
      }
     },
     "output_type": "display_data"
    }
   ],
   "source": [
    "from bokeh.models import HoverTool\n",
    "\n",
    "# prepare some data\n",
    "x = [1, 2, 3, 4, 5]\n",
    "y = [4, 5, 5, 7, 2]\n",
    "\n",
    "p = figure(\n",
    "    y_range=(0, 10),\n",
    "    toolbar_location=None,\n",
    "    tools=[HoverTool()],\n",
    "    tooltips=\"Data point @x has the value @y\",\n",
    "    sizing_mode=\"stretch_width\",\n",
    "    max_width=500,\n",
    "    height=250,\n",
    ")\n",
    "\n",
    "# add renderers\n",
    "p.circle(x, y, size=10)\n",
    "p.line(x, y, line_width=2)\n",
    "\n",
    "# show the results\n",
    "show(p)"
   ]
  },
  {
   "cell_type": "markdown",
   "id": "a82f1647",
   "metadata": {},
   "source": [
    "The user guide contains much more information on using the hover tool to create tooltips. See Basic Tooltips for more details. More information is also available at the entry for HoverTool in the reference guide."
   ]
  },
  {
   "cell_type": "markdown",
   "id": "724c965a",
   "metadata": {},
   "source": [
    "# First steps 5: Vectorizing glyph properties\n",
    "In the previous first steps guide, you customized various aspects of your plot by adding and changing attributes.\n",
    "\n",
    "In this section, you will use vectors of data to influence aspects of your plot and its elements.\n",
    "\n",
    "## Vectorizing colors\n",
    "So far, you have assigned specific colors to a glyph by using properties such as fill_color.\n",
    "\n",
    "To change colors depending on values in a variable, pass a variable containing color information to the fill_color attribute:\n"
   ]
  },
  {
   "cell_type": "code",
   "execution_count": 32,
   "id": "a354d979",
   "metadata": {},
   "outputs": [
    {
     "data": {
      "text/html": [
       "\n",
       "    <div class=\"bk-root\">\n",
       "        <a href=\"https://bokeh.org\" target=\"_blank\" class=\"bk-logo bk-logo-small bk-logo-notebook\"></a>\n",
       "        <span id=\"7525\">Loading BokehJS ...</span>\n",
       "    </div>"
      ]
     },
     "metadata": {},
     "output_type": "display_data"
    },
    {
     "data": {
      "application/javascript": [
       "\n",
       "(function(root) {\n",
       "  function now() {\n",
       "    return new Date();\n",
       "  }\n",
       "\n",
       "  var force = true;\n",
       "\n",
       "  if (typeof root._bokeh_onload_callbacks === \"undefined\" || force === true) {\n",
       "    root._bokeh_onload_callbacks = [];\n",
       "    root._bokeh_is_loading = undefined;\n",
       "  }\n",
       "\n",
       "  var JS_MIME_TYPE = 'application/javascript';\n",
       "  var HTML_MIME_TYPE = 'text/html';\n",
       "  var EXEC_MIME_TYPE = 'application/vnd.bokehjs_exec.v0+json';\n",
       "  var CLASS_NAME = 'output_bokeh rendered_html';\n",
       "\n",
       "  /**\n",
       "   * Render data to the DOM node\n",
       "   */\n",
       "  function render(props, node) {\n",
       "    var script = document.createElement(\"script\");\n",
       "    node.appendChild(script);\n",
       "  }\n",
       "\n",
       "  /**\n",
       "   * Handle when an output is cleared or removed\n",
       "   */\n",
       "  function handleClearOutput(event, handle) {\n",
       "    var cell = handle.cell;\n",
       "\n",
       "    var id = cell.output_area._bokeh_element_id;\n",
       "    var server_id = cell.output_area._bokeh_server_id;\n",
       "    // Clean up Bokeh references\n",
       "    if (id != null && id in Bokeh.index) {\n",
       "      Bokeh.index[id].model.document.clear();\n",
       "      delete Bokeh.index[id];\n",
       "    }\n",
       "\n",
       "    if (server_id !== undefined) {\n",
       "      // Clean up Bokeh references\n",
       "      var cmd = \"from bokeh.io.state import curstate; print(curstate().uuid_to_server['\" + server_id + \"'].get_sessions()[0].document.roots[0]._id)\";\n",
       "      cell.notebook.kernel.execute(cmd, {\n",
       "        iopub: {\n",
       "          output: function(msg) {\n",
       "            var id = msg.content.text.trim();\n",
       "            if (id in Bokeh.index) {\n",
       "              Bokeh.index[id].model.document.clear();\n",
       "              delete Bokeh.index[id];\n",
       "            }\n",
       "          }\n",
       "        }\n",
       "      });\n",
       "      // Destroy server and session\n",
       "      var cmd = \"import bokeh.io.notebook as ion; ion.destroy_server('\" + server_id + \"')\";\n",
       "      cell.notebook.kernel.execute(cmd);\n",
       "    }\n",
       "  }\n",
       "\n",
       "  /**\n",
       "   * Handle when a new output is added\n",
       "   */\n",
       "  function handleAddOutput(event, handle) {\n",
       "    var output_area = handle.output_area;\n",
       "    var output = handle.output;\n",
       "\n",
       "    // limit handleAddOutput to display_data with EXEC_MIME_TYPE content only\n",
       "    if ((output.output_type != \"display_data\") || (!output.data.hasOwnProperty(EXEC_MIME_TYPE))) {\n",
       "      return\n",
       "    }\n",
       "\n",
       "    var toinsert = output_area.element.find(\".\" + CLASS_NAME.split(' ')[0]);\n",
       "\n",
       "    if (output.metadata[EXEC_MIME_TYPE][\"id\"] !== undefined) {\n",
       "      toinsert[toinsert.length - 1].firstChild.textContent = output.data[JS_MIME_TYPE];\n",
       "      // store reference to embed id on output_area\n",
       "      output_area._bokeh_element_id = output.metadata[EXEC_MIME_TYPE][\"id\"];\n",
       "    }\n",
       "    if (output.metadata[EXEC_MIME_TYPE][\"server_id\"] !== undefined) {\n",
       "      var bk_div = document.createElement(\"div\");\n",
       "      bk_div.innerHTML = output.data[HTML_MIME_TYPE];\n",
       "      var script_attrs = bk_div.children[0].attributes;\n",
       "      for (var i = 0; i < script_attrs.length; i++) {\n",
       "        toinsert[toinsert.length - 1].firstChild.setAttribute(script_attrs[i].name, script_attrs[i].value);\n",
       "        toinsert[toinsert.length - 1].firstChild.textContent = bk_div.children[0].textContent\n",
       "      }\n",
       "      // store reference to server id on output_area\n",
       "      output_area._bokeh_server_id = output.metadata[EXEC_MIME_TYPE][\"server_id\"];\n",
       "    }\n",
       "  }\n",
       "\n",
       "  function register_renderer(events, OutputArea) {\n",
       "\n",
       "    function append_mime(data, metadata, element) {\n",
       "      // create a DOM node to render to\n",
       "      var toinsert = this.create_output_subarea(\n",
       "        metadata,\n",
       "        CLASS_NAME,\n",
       "        EXEC_MIME_TYPE\n",
       "      );\n",
       "      this.keyboard_manager.register_events(toinsert);\n",
       "      // Render to node\n",
       "      var props = {data: data, metadata: metadata[EXEC_MIME_TYPE]};\n",
       "      render(props, toinsert[toinsert.length - 1]);\n",
       "      element.append(toinsert);\n",
       "      return toinsert\n",
       "    }\n",
       "\n",
       "    /* Handle when an output is cleared or removed */\n",
       "    events.on('clear_output.CodeCell', handleClearOutput);\n",
       "    events.on('delete.Cell', handleClearOutput);\n",
       "\n",
       "    /* Handle when a new output is added */\n",
       "    events.on('output_added.OutputArea', handleAddOutput);\n",
       "\n",
       "    /**\n",
       "     * Register the mime type and append_mime function with output_area\n",
       "     */\n",
       "    OutputArea.prototype.register_mime_type(EXEC_MIME_TYPE, append_mime, {\n",
       "      /* Is output safe? */\n",
       "      safe: true,\n",
       "      /* Index of renderer in `output_area.display_order` */\n",
       "      index: 0\n",
       "    });\n",
       "  }\n",
       "\n",
       "  // register the mime type if in Jupyter Notebook environment and previously unregistered\n",
       "  if (root.Jupyter !== undefined) {\n",
       "    var events = require('base/js/events');\n",
       "    var OutputArea = require('notebook/js/outputarea').OutputArea;\n",
       "\n",
       "    if (OutputArea.prototype.mime_types().indexOf(EXEC_MIME_TYPE) == -1) {\n",
       "      register_renderer(events, OutputArea);\n",
       "    }\n",
       "  }\n",
       "\n",
       "  \n",
       "  if (typeof (root._bokeh_timeout) === \"undefined\" || force === true) {\n",
       "    root._bokeh_timeout = Date.now() + 5000;\n",
       "    root._bokeh_failed_load = false;\n",
       "  }\n",
       "\n",
       "  var NB_LOAD_WARNING = {'data': {'text/html':\n",
       "     \"<div style='background-color: #fdd'>\\n\"+\n",
       "     \"<p>\\n\"+\n",
       "     \"BokehJS does not appear to have successfully loaded. If loading BokehJS from CDN, this \\n\"+\n",
       "     \"may be due to a slow or bad network connection. Possible fixes:\\n\"+\n",
       "     \"</p>\\n\"+\n",
       "     \"<ul>\\n\"+\n",
       "     \"<li>re-rerun `output_notebook()` to attempt to load from CDN again, or</li>\\n\"+\n",
       "     \"<li>use INLINE resources instead, as so:</li>\\n\"+\n",
       "     \"</ul>\\n\"+\n",
       "     \"<code>\\n\"+\n",
       "     \"from bokeh.resources import INLINE\\n\"+\n",
       "     \"output_notebook(resources=INLINE)\\n\"+\n",
       "     \"</code>\\n\"+\n",
       "     \"</div>\"}};\n",
       "\n",
       "  function display_loaded() {\n",
       "    var el = document.getElementById(\"7525\");\n",
       "    if (el != null) {\n",
       "      el.textContent = \"BokehJS is loading...\";\n",
       "    }\n",
       "    if (root.Bokeh !== undefined) {\n",
       "      if (el != null) {\n",
       "        el.textContent = \"BokehJS \" + root.Bokeh.version + \" successfully loaded.\";\n",
       "      }\n",
       "    } else if (Date.now() < root._bokeh_timeout) {\n",
       "      setTimeout(display_loaded, 100)\n",
       "    }\n",
       "  }\n",
       "\n",
       "\n",
       "  function run_callbacks() {\n",
       "    try {\n",
       "      root._bokeh_onload_callbacks.forEach(function(callback) {\n",
       "        if (callback != null)\n",
       "          callback();\n",
       "      });\n",
       "    } finally {\n",
       "      delete root._bokeh_onload_callbacks\n",
       "    }\n",
       "    console.debug(\"Bokeh: all callbacks have finished\");\n",
       "  }\n",
       "\n",
       "  function load_libs(css_urls, js_urls, callback) {\n",
       "    if (css_urls == null) css_urls = [];\n",
       "    if (js_urls == null) js_urls = [];\n",
       "\n",
       "    root._bokeh_onload_callbacks.push(callback);\n",
       "    if (root._bokeh_is_loading > 0) {\n",
       "      console.debug(\"Bokeh: BokehJS is being loaded, scheduling callback at\", now());\n",
       "      return null;\n",
       "    }\n",
       "    if (js_urls == null || js_urls.length === 0) {\n",
       "      run_callbacks();\n",
       "      return null;\n",
       "    }\n",
       "    console.debug(\"Bokeh: BokehJS not loaded, scheduling load and callback at\", now());\n",
       "    root._bokeh_is_loading = css_urls.length + js_urls.length;\n",
       "\n",
       "    function on_load() {\n",
       "      root._bokeh_is_loading--;\n",
       "      if (root._bokeh_is_loading === 0) {\n",
       "        console.debug(\"Bokeh: all BokehJS libraries/stylesheets loaded\");\n",
       "        run_callbacks()\n",
       "      }\n",
       "    }\n",
       "\n",
       "    function on_error() {\n",
       "      console.error(\"failed to load \" + url);\n",
       "    }\n",
       "\n",
       "    for (var i = 0; i < css_urls.length; i++) {\n",
       "      var url = css_urls[i];\n",
       "      const element = document.createElement(\"link\");\n",
       "      element.onload = on_load;\n",
       "      element.onerror = on_error;\n",
       "      element.rel = \"stylesheet\";\n",
       "      element.type = \"text/css\";\n",
       "      element.href = url;\n",
       "      console.debug(\"Bokeh: injecting link tag for BokehJS stylesheet: \", url);\n",
       "      document.body.appendChild(element);\n",
       "    }\n",
       "\n",
       "    const hashes = {\"https://cdn.bokeh.org/bokeh/release/bokeh-2.2.2.min.js\": \"JayppSWSRBsibIZqI8S4vAb1oFgLL0uhNvSn8cmArlOvYOwfFjYeyY5UWwJ+K0SU\", \"https://cdn.bokeh.org/bokeh/release/bokeh-widgets-2.2.2.min.js\": \"G0/Tv/Yy/zEPNsnW0Qif/FOsGesd+KIrKg/QLmvQmReuUW9qmSP7mAmr0VpiUNr3\", \"https://cdn.bokeh.org/bokeh/release/bokeh-tables-2.2.2.min.js\": \"VLYHEbLQDk5G1+/4ALU0myoJPMEUsngWry2fzYorFOUmarjGRPLLURaeK/on6JqX\"};\n",
       "\n",
       "    for (var i = 0; i < js_urls.length; i++) {\n",
       "      var url = js_urls[i];\n",
       "      var element = document.createElement('script');\n",
       "      element.onload = on_load;\n",
       "      element.onerror = on_error;\n",
       "      element.async = false;\n",
       "      element.src = url;\n",
       "      if (url in hashes) {\n",
       "        element.crossOrigin = \"anonymous\";\n",
       "        element.integrity = \"sha384-\" + hashes[url];\n",
       "      }\n",
       "      console.debug(\"Bokeh: injecting script tag for BokehJS library: \", url);\n",
       "      document.head.appendChild(element);\n",
       "    }\n",
       "  };\n",
       "\n",
       "  function inject_raw_css(css) {\n",
       "    const element = document.createElement(\"style\");\n",
       "    element.appendChild(document.createTextNode(css));\n",
       "    document.body.appendChild(element);\n",
       "  }\n",
       "\n",
       "  \n",
       "  var js_urls = [\"https://cdn.bokeh.org/bokeh/release/bokeh-2.2.2.min.js\", \"https://cdn.bokeh.org/bokeh/release/bokeh-widgets-2.2.2.min.js\", \"https://cdn.bokeh.org/bokeh/release/bokeh-tables-2.2.2.min.js\"];\n",
       "  var css_urls = [];\n",
       "  \n",
       "\n",
       "  var inline_js = [\n",
       "    function(Bokeh) {\n",
       "      Bokeh.set_log_level(\"info\");\n",
       "    },\n",
       "    function(Bokeh) {\n",
       "    \n",
       "    \n",
       "    }\n",
       "  ];\n",
       "\n",
       "  function run_inline_js() {\n",
       "    \n",
       "    if (root.Bokeh !== undefined || force === true) {\n",
       "      \n",
       "    for (var i = 0; i < inline_js.length; i++) {\n",
       "      inline_js[i].call(root, root.Bokeh);\n",
       "    }\n",
       "    if (force === true) {\n",
       "        display_loaded();\n",
       "      }} else if (Date.now() < root._bokeh_timeout) {\n",
       "      setTimeout(run_inline_js, 100);\n",
       "    } else if (!root._bokeh_failed_load) {\n",
       "      console.log(\"Bokeh: BokehJS failed to load within specified timeout.\");\n",
       "      root._bokeh_failed_load = true;\n",
       "    } else if (force !== true) {\n",
       "      var cell = $(document.getElementById(\"7525\")).parents('.cell').data().cell;\n",
       "      cell.output_area.append_execute_result(NB_LOAD_WARNING)\n",
       "    }\n",
       "\n",
       "  }\n",
       "\n",
       "  if (root._bokeh_is_loading === 0) {\n",
       "    console.debug(\"Bokeh: BokehJS loaded, going straight to plotting\");\n",
       "    run_inline_js();\n",
       "  } else {\n",
       "    load_libs(css_urls, js_urls, function() {\n",
       "      console.debug(\"Bokeh: BokehJS plotting callback run at\", now());\n",
       "      run_inline_js();\n",
       "    });\n",
       "  }\n",
       "}(window));"
      ],
      "application/vnd.bokehjs_load.v0+json": "\n(function(root) {\n  function now() {\n    return new Date();\n  }\n\n  var force = true;\n\n  if (typeof root._bokeh_onload_callbacks === \"undefined\" || force === true) {\n    root._bokeh_onload_callbacks = [];\n    root._bokeh_is_loading = undefined;\n  }\n\n  \n\n  \n  if (typeof (root._bokeh_timeout) === \"undefined\" || force === true) {\n    root._bokeh_timeout = Date.now() + 5000;\n    root._bokeh_failed_load = false;\n  }\n\n  var NB_LOAD_WARNING = {'data': {'text/html':\n     \"<div style='background-color: #fdd'>\\n\"+\n     \"<p>\\n\"+\n     \"BokehJS does not appear to have successfully loaded. If loading BokehJS from CDN, this \\n\"+\n     \"may be due to a slow or bad network connection. Possible fixes:\\n\"+\n     \"</p>\\n\"+\n     \"<ul>\\n\"+\n     \"<li>re-rerun `output_notebook()` to attempt to load from CDN again, or</li>\\n\"+\n     \"<li>use INLINE resources instead, as so:</li>\\n\"+\n     \"</ul>\\n\"+\n     \"<code>\\n\"+\n     \"from bokeh.resources import INLINE\\n\"+\n     \"output_notebook(resources=INLINE)\\n\"+\n     \"</code>\\n\"+\n     \"</div>\"}};\n\n  function display_loaded() {\n    var el = document.getElementById(\"7525\");\n    if (el != null) {\n      el.textContent = \"BokehJS is loading...\";\n    }\n    if (root.Bokeh !== undefined) {\n      if (el != null) {\n        el.textContent = \"BokehJS \" + root.Bokeh.version + \" successfully loaded.\";\n      }\n    } else if (Date.now() < root._bokeh_timeout) {\n      setTimeout(display_loaded, 100)\n    }\n  }\n\n\n  function run_callbacks() {\n    try {\n      root._bokeh_onload_callbacks.forEach(function(callback) {\n        if (callback != null)\n          callback();\n      });\n    } finally {\n      delete root._bokeh_onload_callbacks\n    }\n    console.debug(\"Bokeh: all callbacks have finished\");\n  }\n\n  function load_libs(css_urls, js_urls, callback) {\n    if (css_urls == null) css_urls = [];\n    if (js_urls == null) js_urls = [];\n\n    root._bokeh_onload_callbacks.push(callback);\n    if (root._bokeh_is_loading > 0) {\n      console.debug(\"Bokeh: BokehJS is being loaded, scheduling callback at\", now());\n      return null;\n    }\n    if (js_urls == null || js_urls.length === 0) {\n      run_callbacks();\n      return null;\n    }\n    console.debug(\"Bokeh: BokehJS not loaded, scheduling load and callback at\", now());\n    root._bokeh_is_loading = css_urls.length + js_urls.length;\n\n    function on_load() {\n      root._bokeh_is_loading--;\n      if (root._bokeh_is_loading === 0) {\n        console.debug(\"Bokeh: all BokehJS libraries/stylesheets loaded\");\n        run_callbacks()\n      }\n    }\n\n    function on_error() {\n      console.error(\"failed to load \" + url);\n    }\n\n    for (var i = 0; i < css_urls.length; i++) {\n      var url = css_urls[i];\n      const element = document.createElement(\"link\");\n      element.onload = on_load;\n      element.onerror = on_error;\n      element.rel = \"stylesheet\";\n      element.type = \"text/css\";\n      element.href = url;\n      console.debug(\"Bokeh: injecting link tag for BokehJS stylesheet: \", url);\n      document.body.appendChild(element);\n    }\n\n    const hashes = {\"https://cdn.bokeh.org/bokeh/release/bokeh-2.2.2.min.js\": \"JayppSWSRBsibIZqI8S4vAb1oFgLL0uhNvSn8cmArlOvYOwfFjYeyY5UWwJ+K0SU\", \"https://cdn.bokeh.org/bokeh/release/bokeh-widgets-2.2.2.min.js\": \"G0/Tv/Yy/zEPNsnW0Qif/FOsGesd+KIrKg/QLmvQmReuUW9qmSP7mAmr0VpiUNr3\", \"https://cdn.bokeh.org/bokeh/release/bokeh-tables-2.2.2.min.js\": \"VLYHEbLQDk5G1+/4ALU0myoJPMEUsngWry2fzYorFOUmarjGRPLLURaeK/on6JqX\"};\n\n    for (var i = 0; i < js_urls.length; i++) {\n      var url = js_urls[i];\n      var element = document.createElement('script');\n      element.onload = on_load;\n      element.onerror = on_error;\n      element.async = false;\n      element.src = url;\n      if (url in hashes) {\n        element.crossOrigin = \"anonymous\";\n        element.integrity = \"sha384-\" + hashes[url];\n      }\n      console.debug(\"Bokeh: injecting script tag for BokehJS library: \", url);\n      document.head.appendChild(element);\n    }\n  };\n\n  function inject_raw_css(css) {\n    const element = document.createElement(\"style\");\n    element.appendChild(document.createTextNode(css));\n    document.body.appendChild(element);\n  }\n\n  \n  var js_urls = [\"https://cdn.bokeh.org/bokeh/release/bokeh-2.2.2.min.js\", \"https://cdn.bokeh.org/bokeh/release/bokeh-widgets-2.2.2.min.js\", \"https://cdn.bokeh.org/bokeh/release/bokeh-tables-2.2.2.min.js\"];\n  var css_urls = [];\n  \n\n  var inline_js = [\n    function(Bokeh) {\n      Bokeh.set_log_level(\"info\");\n    },\n    function(Bokeh) {\n    \n    \n    }\n  ];\n\n  function run_inline_js() {\n    \n    if (root.Bokeh !== undefined || force === true) {\n      \n    for (var i = 0; i < inline_js.length; i++) {\n      inline_js[i].call(root, root.Bokeh);\n    }\n    if (force === true) {\n        display_loaded();\n      }} else if (Date.now() < root._bokeh_timeout) {\n      setTimeout(run_inline_js, 100);\n    } else if (!root._bokeh_failed_load) {\n      console.log(\"Bokeh: BokehJS failed to load within specified timeout.\");\n      root._bokeh_failed_load = true;\n    } else if (force !== true) {\n      var cell = $(document.getElementById(\"7525\")).parents('.cell').data().cell;\n      cell.output_area.append_execute_result(NB_LOAD_WARNING)\n    }\n\n  }\n\n  if (root._bokeh_is_loading === 0) {\n    console.debug(\"Bokeh: BokehJS loaded, going straight to plotting\");\n    run_inline_js();\n  } else {\n    load_libs(css_urls, js_urls, function() {\n      console.debug(\"Bokeh: BokehJS plotting callback run at\", now());\n      run_inline_js();\n    });\n  }\n}(window));"
     },
     "metadata": {},
     "output_type": "display_data"
    },
    {
     "data": {
      "text/html": [
       "\n",
       "\n",
       "\n",
       "\n",
       "\n",
       "\n",
       "  <div class=\"bk-root\" id=\"5d5729e4-960a-4e01-8399-b51cd4a21abb\" data-root-id=\"7482\"></div>\n"
      ]
     },
     "metadata": {},
     "output_type": "display_data"
    },
    {
     "data": {
      "application/javascript": [
       "(function(root) {\n",
       "  function embed_document(root) {\n",
       "    \n",
       "  var docs_json = {\"d6696a91-7c03-4cdd-b019-a0ecd9d92126\":{\"roots\":{\"references\":[{\"attributes\":{\"below\":[{\"id\":\"7493\"}],\"center\":[{\"id\":\"7496\"},{\"id\":\"7500\"}],\"left\":[{\"id\":\"7497\"}],\"max_width\":500,\"plot_height\":250,\"renderers\":[{\"id\":\"7518\"},{\"id\":\"7523\"}],\"sizing_mode\":\"stretch_width\",\"title\":{\"id\":\"7483\"},\"toolbar\":{\"id\":\"7508\"},\"x_range\":{\"id\":\"7485\"},\"x_scale\":{\"id\":\"7489\"},\"y_range\":{\"id\":\"7487\"},\"y_scale\":{\"id\":\"7491\"}},\"id\":\"7482\",\"subtype\":\"Figure\",\"type\":\"Plot\"},{\"attributes\":{},\"id\":\"7485\",\"type\":\"DataRange1d\"},{\"attributes\":{},\"id\":\"7494\",\"type\":\"BasicTicker\"},{\"attributes\":{\"line_alpha\":0.1,\"line_color\":\"blue\",\"x\":{\"field\":\"x\"},\"y\":{\"field\":\"y\"}},\"id\":\"7517\",\"type\":\"Line\"},{\"attributes\":{},\"id\":\"7487\",\"type\":\"DataRange1d\"},{\"attributes\":{\"axis_label_standoff\":10,\"axis_label_text_color\":\"#5B5B5B\",\"axis_label_text_font\":\"Calibri Light\",\"axis_label_text_font_size\":\"1.15em\",\"axis_label_text_font_style\":\"bold\",\"axis_line_alpha\":1,\"axis_line_color\":\"#5B5B5B\",\"formatter\":{\"id\":\"7787\"},\"major_label_text_color\":\"#5B5B5B\",\"major_label_text_font\":\"Calibri Light\",\"major_label_text_font_size\":\"0.95em\",\"major_label_text_font_style\":\"bold\",\"major_tick_in\":0,\"major_tick_line_alpha\":0.25,\"major_tick_line_color\":\"#5B5B5B\",\"major_tick_out\":3,\"minor_tick_line_alpha\":0.25,\"minor_tick_line_color\":\"#5B5B5B\",\"ticker\":{\"id\":\"7494\"}},\"id\":\"7493\",\"type\":\"LinearAxis\"},{\"attributes\":{},\"id\":\"7489\",\"type\":\"LinearScale\"},{\"attributes\":{},\"id\":\"7491\",\"type\":\"LinearScale\"},{\"attributes\":{\"axis\":{\"id\":\"7493\"},\"ticker\":null},\"id\":\"7496\",\"type\":\"Grid\"},{\"attributes\":{\"axis\":{\"id\":\"7497\"},\"dimension\":1,\"ticker\":null},\"id\":\"7500\",\"type\":\"Grid\"},{\"attributes\":{\"axis_label_standoff\":10,\"axis_label_text_color\":\"#5B5B5B\",\"axis_label_text_font\":\"Calibri Light\",\"axis_label_text_font_size\":\"1.15em\",\"axis_label_text_font_style\":\"bold\",\"axis_line_alpha\":1,\"axis_line_color\":\"#5B5B5B\",\"formatter\":{\"id\":\"7789\"},\"major_label_text_color\":\"#5B5B5B\",\"major_label_text_font\":\"Calibri Light\",\"major_label_text_font_size\":\"0.95em\",\"major_label_text_font_style\":\"bold\",\"major_tick_in\":0,\"major_tick_line_alpha\":0.25,\"major_tick_line_color\":\"#5B5B5B\",\"major_tick_out\":3,\"minor_tick_line_alpha\":0.25,\"minor_tick_line_color\":\"#5B5B5B\",\"ticker\":{\"id\":\"7498\"}},\"id\":\"7497\",\"type\":\"LinearAxis\"},{\"attributes\":{},\"id\":\"7506\",\"type\":\"HelpTool\"},{\"attributes\":{},\"id\":\"7791\",\"type\":\"UnionRenderers\"},{\"attributes\":{},\"id\":\"7789\",\"type\":\"BasicTickFormatter\"},{\"attributes\":{},\"id\":\"7792\",\"type\":\"Selection\"},{\"attributes\":{},\"id\":\"7498\",\"type\":\"BasicTicker\"},{\"attributes\":{\"line_color\":\"blue\",\"x\":{\"field\":\"x\"},\"y\":{\"field\":\"y\"}},\"id\":\"7516\",\"type\":\"Line\"},{\"attributes\":{\"active_drag\":\"auto\",\"active_inspect\":\"auto\",\"active_multi\":null,\"active_scroll\":\"auto\",\"active_tap\":\"auto\",\"tools\":[{\"id\":\"7501\"},{\"id\":\"7502\"},{\"id\":\"7503\"},{\"id\":\"7504\"},{\"id\":\"7505\"},{\"id\":\"7506\"}]},\"id\":\"7508\",\"type\":\"Toolbar\"},{\"attributes\":{},\"id\":\"7502\",\"type\":\"WheelZoomTool\"},{\"attributes\":{\"bottom_units\":\"screen\",\"fill_alpha\":0.5,\"fill_color\":\"lightgrey\",\"left_units\":\"screen\",\"level\":\"overlay\",\"line_alpha\":1.0,\"line_color\":\"black\",\"line_dash\":[4,4],\"line_width\":2,\"right_units\":\"screen\",\"top_units\":\"screen\"},\"id\":\"7507\",\"type\":\"BoxAnnotation\"},{\"attributes\":{\"fill_alpha\":{\"value\":0.1},\"fill_color\":{\"field\":\"fill_color\"},\"line_alpha\":{\"value\":0.1},\"line_color\":{\"value\":\"blue\"},\"size\":{\"units\":\"screen\",\"value\":15},\"x\":{\"field\":\"x\"},\"y\":{\"field\":\"y\"}},\"id\":\"7522\",\"type\":\"Circle\"},{\"attributes\":{},\"id\":\"7501\",\"type\":\"PanTool\"},{\"attributes\":{\"overlay\":{\"id\":\"7507\"}},\"id\":\"7503\",\"type\":\"BoxZoomTool\"},{\"attributes\":{\"source\":{\"id\":\"7515\"}},\"id\":\"7519\",\"type\":\"CDSView\"},{\"attributes\":{},\"id\":\"7504\",\"type\":\"SaveTool\"},{\"attributes\":{},\"id\":\"7787\",\"type\":\"BasicTickFormatter\"},{\"attributes\":{},\"id\":\"7505\",\"type\":\"ResetTool\"},{\"attributes\":{},\"id\":\"7793\",\"type\":\"UnionRenderers\"},{\"attributes\":{},\"id\":\"7794\",\"type\":\"Selection\"},{\"attributes\":{\"source\":{\"id\":\"7520\"}},\"id\":\"7524\",\"type\":\"CDSView\"},{\"attributes\":{\"data\":{\"fill_color\":[\"#ffc4ff\",\"#fffaff\",\"#ff57ff\",\"#ff82ff\",\"#ff99ff\",\"#ff52ff\",\"#ffa1ff\",\"#ff08ff\",\"#ffa6ff\",\"#ffccff\",\"#ff66ff\",\"#ff2eff\",\"#ff6bff\",\"#ffb0ff\",\"#ff40ff\",\"#ff87ff\",\"#ff33ff\",\"#ff8aff\",\"#ff17ff\",\"#ff1cff\",\"#ff1aff\",\"#ff12ff\",\"#ffbaff\",\"#ffc7ff\",\"#ff03ff\",\"#ffe6ff\"],\"x\":[0,1,2,3,4,5,6,7,8,9,10,11,12,13,14,15,16,17,18,19,20,21,22,23,24,25],\"y\":[77,98,34,51,60,32,63,3,65,80,40,18,42,69,25,53,20,54,9,11,10,7,73,78,1,90]},\"selected\":{\"id\":\"7794\"},\"selection_policy\":{\"id\":\"7793\"}},\"id\":\"7520\",\"type\":\"ColumnDataSource\"},{\"attributes\":{\"fill_color\":{\"field\":\"fill_color\"},\"line_color\":{\"value\":\"blue\"},\"size\":{\"units\":\"screen\",\"value\":15},\"x\":{\"field\":\"x\"},\"y\":{\"field\":\"y\"}},\"id\":\"7521\",\"type\":\"Circle\"},{\"attributes\":{\"text\":\"Vectorized colors example\",\"text_color\":{\"value\":\"#5B5B5B\"},\"text_font\":\"Calibri Light\",\"text_font_size\":{\"value\":\"1.25em\"},\"text_font_style\":\"bold\"},\"id\":\"7483\",\"type\":\"Title\"},{\"attributes\":{\"data_source\":{\"id\":\"7520\"},\"glyph\":{\"id\":\"7521\"},\"hover_glyph\":null,\"muted_glyph\":null,\"nonselection_glyph\":{\"id\":\"7522\"},\"selection_glyph\":null,\"view\":{\"id\":\"7524\"}},\"id\":\"7523\",\"type\":\"GlyphRenderer\"},{\"attributes\":{\"data_source\":{\"id\":\"7515\"},\"glyph\":{\"id\":\"7516\"},\"hover_glyph\":null,\"muted_glyph\":null,\"nonselection_glyph\":{\"id\":\"7517\"},\"selection_glyph\":null,\"view\":{\"id\":\"7519\"}},\"id\":\"7518\",\"type\":\"GlyphRenderer\"},{\"attributes\":{\"data\":{\"x\":[0,1,2,3,4,5,6,7,8,9,10,11,12,13,14,15,16,17,18,19,20,21,22,23,24,25],\"y\":[77,98,34,51,60,32,63,3,65,80,40,18,42,69,25,53,20,54,9,11,10,7,73,78,1,90]},\"selected\":{\"id\":\"7792\"},\"selection_policy\":{\"id\":\"7791\"}},\"id\":\"7515\",\"type\":\"ColumnDataSource\"}],\"root_ids\":[\"7482\"]},\"title\":\"Bokeh Application\",\"version\":\"2.2.2\"}};\n",
       "  var render_items = [{\"docid\":\"d6696a91-7c03-4cdd-b019-a0ecd9d92126\",\"root_ids\":[\"7482\"],\"roots\":{\"7482\":\"5d5729e4-960a-4e01-8399-b51cd4a21abb\"}}];\n",
       "  root.Bokeh.embed.embed_items_notebook(docs_json, render_items);\n",
       "\n",
       "  }\n",
       "  if (root.Bokeh !== undefined) {\n",
       "    embed_document(root);\n",
       "  } else {\n",
       "    var attempts = 0;\n",
       "    var timer = setInterval(function(root) {\n",
       "      if (root.Bokeh !== undefined) {\n",
       "        clearInterval(timer);\n",
       "        embed_document(root);\n",
       "      } else {\n",
       "        attempts++;\n",
       "        if (attempts > 100) {\n",
       "          clearInterval(timer);\n",
       "          console.log(\"Bokeh: ERROR: Unable to run BokehJS code because BokehJS library is missing\");\n",
       "        }\n",
       "      }\n",
       "    }, 10, root)\n",
       "  }\n",
       "})(window);"
      ],
      "application/vnd.bokehjs_exec.v0+json": ""
     },
     "metadata": {
      "application/vnd.bokehjs_exec.v0+json": {
       "id": "7482"
      }
     },
     "output_type": "display_data"
    }
   ],
   "source": [
    "import random\n",
    "\n",
    "# generate some data (1-10 for x, random values for y)\n",
    "x = list(range(0, 26))\n",
    "y = random.sample(range(0, 100), 26)\n",
    "\n",
    "# generate list of rgb hex colors in relation to y\n",
    "colors = [\"#%02x%02x%02x\" % (255, int(round(value * 255 / 100)), 255) for value in y]\n",
    "\n",
    "# create new plot\n",
    "p = figure(\n",
    "    title=\"Vectorized colors example\",\n",
    "    sizing_mode=\"stretch_width\",\n",
    "    max_width=500,\n",
    "    height=250,\n",
    ")\n",
    "\n",
    "# add circle and line renderers\n",
    "line = p.line(x, y, line_color=\"blue\", line_width=1)\n",
    "circle = p.circle(x, y, fill_color=colors, line_color=\"blue\", size=15)\n",
    "\n",
    "# show the results\n",
    "output_notebook()\n",
    "show(p)"
   ]
  },
  {
   "cell_type": "markdown",
   "id": "9fd976c7",
   "metadata": {},
   "source": [
    "In this example, the color of every circle corresponds to the y value of that circle.\n",
    "\n",
    "For more information on how to map data points to colors and color palettes, see Using mappers in the user guide.\n",
    "\n",
    "## Vectorizing colors and sizes\n",
    "To create a plot with colors and sizes in relation to your data, apply the same principle to the radius argument of your renderer:\n"
   ]
  },
  {
   "cell_type": "code",
   "execution_count": 33,
   "id": "29b5f46e",
   "metadata": {},
   "outputs": [
    {
     "data": {
      "text/html": [
       "\n",
       "\n",
       "\n",
       "\n",
       "\n",
       "\n",
       "  <div class=\"bk-root\" id=\"ad31e521-43a5-4fc6-8668-b0cf68af3e67\" data-root-id=\"7845\"></div>\n"
      ]
     },
     "metadata": {},
     "output_type": "display_data"
    },
    {
     "data": {
      "application/javascript": [
       "(function(root) {\n",
       "  function embed_document(root) {\n",
       "    \n",
       "  var docs_json = {\"29d178cd-61d4-4787-8600-15b8d21c9f48\":{\"roots\":{\"references\":[{\"attributes\":{\"below\":[{\"id\":\"7856\"}],\"center\":[{\"id\":\"7859\"},{\"id\":\"7863\"}],\"left\":[{\"id\":\"7860\"}],\"max_width\":500,\"plot_height\":250,\"renderers\":[{\"id\":\"7881\"}],\"sizing_mode\":\"stretch_width\",\"title\":{\"id\":\"7846\"},\"toolbar\":{\"id\":\"7871\"},\"x_range\":{\"id\":\"7848\"},\"x_scale\":{\"id\":\"7852\"},\"y_range\":{\"id\":\"7850\"},\"y_scale\":{\"id\":\"7854\"}},\"id\":\"7845\",\"subtype\":\"Figure\",\"type\":\"Plot\"},{\"attributes\":{},\"id\":\"7854\",\"type\":\"LinearScale\"},{\"attributes\":{\"source\":{\"id\":\"7878\"}},\"id\":\"7882\",\"type\":\"CDSView\"},{\"attributes\":{},\"id\":\"7857\",\"type\":\"BasicTicker\"},{\"attributes\":{},\"id\":\"7850\",\"type\":\"DataRange1d\"},{\"attributes\":{\"bottom_units\":\"screen\",\"fill_alpha\":0.5,\"fill_color\":\"lightgrey\",\"left_units\":\"screen\",\"level\":\"overlay\",\"line_alpha\":1.0,\"line_color\":\"black\",\"line_dash\":[4,4],\"line_width\":2,\"right_units\":\"screen\",\"top_units\":\"screen\"},\"id\":\"7870\",\"type\":\"BoxAnnotation\"},{\"attributes\":{},\"id\":\"7867\",\"type\":\"SaveTool\"},{\"attributes\":{},\"id\":\"7869\",\"type\":\"HelpTool\"},{\"attributes\":{\"axis_label_standoff\":10,\"axis_label_text_color\":\"#5B5B5B\",\"axis_label_text_font\":\"Calibri Light\",\"axis_label_text_font_size\":\"1.15em\",\"axis_label_text_font_style\":\"bold\",\"axis_line_alpha\":1,\"axis_line_color\":\"#5B5B5B\",\"formatter\":{\"id\":\"8156\"},\"major_label_text_color\":\"#5B5B5B\",\"major_label_text_font\":\"Calibri Light\",\"major_label_text_font_size\":\"0.95em\",\"major_label_text_font_style\":\"bold\",\"major_tick_in\":0,\"major_tick_line_alpha\":0.25,\"major_tick_line_color\":\"#5B5B5B\",\"major_tick_out\":3,\"minor_tick_line_alpha\":0.25,\"minor_tick_line_color\":\"#5B5B5B\",\"ticker\":{\"id\":\"7861\"}},\"id\":\"7860\",\"type\":\"LinearAxis\"},{\"attributes\":{\"axis\":{\"id\":\"7856\"},\"ticker\":null},\"id\":\"7859\",\"type\":\"Grid\"},{\"attributes\":{},\"id\":\"7852\",\"type\":\"LinearScale\"},{\"attributes\":{\"text\":\"Vectorized colors and radii example\",\"text_color\":{\"value\":\"#5B5B5B\"},\"text_font\":\"Calibri Light\",\"text_font_size\":{\"value\":\"1.25em\"},\"text_font_style\":\"bold\"},\"id\":\"7846\",\"type\":\"Title\"},{\"attributes\":{\"axis_label_standoff\":10,\"axis_label_text_color\":\"#5B5B5B\",\"axis_label_text_font\":\"Calibri Light\",\"axis_label_text_font_size\":\"1.15em\",\"axis_label_text_font_style\":\"bold\",\"axis_line_alpha\":1,\"axis_line_color\":\"#5B5B5B\",\"formatter\":{\"id\":\"8154\"},\"major_label_text_color\":\"#5B5B5B\",\"major_label_text_font\":\"Calibri Light\",\"major_label_text_font_size\":\"0.95em\",\"major_label_text_font_style\":\"bold\",\"major_tick_in\":0,\"major_tick_line_alpha\":0.25,\"major_tick_line_color\":\"#5B5B5B\",\"major_tick_out\":3,\"minor_tick_line_alpha\":0.25,\"minor_tick_line_color\":\"#5B5B5B\",\"ticker\":{\"id\":\"7857\"}},\"id\":\"7856\",\"type\":\"LinearAxis\"},{\"attributes\":{\"fill_alpha\":{\"value\":0.1},\"fill_color\":{\"field\":\"fill_color\"},\"line_alpha\":{\"value\":0.1},\"line_color\":{\"value\":\"lightgrey\"},\"radius\":{\"field\":\"radius\",\"units\":\"data\"},\"x\":{\"field\":\"x\"},\"y\":{\"field\":\"y\"}},\"id\":\"7880\",\"type\":\"Circle\"},{\"attributes\":{},\"id\":\"8158\",\"type\":\"UnionRenderers\"},{\"attributes\":{},\"id\":\"7848\",\"type\":\"DataRange1d\"},{\"attributes\":{\"axis\":{\"id\":\"7860\"},\"dimension\":1,\"ticker\":null},\"id\":\"7863\",\"type\":\"Grid\"},{\"attributes\":{\"fill_alpha\":{\"value\":0.6},\"fill_color\":{\"field\":\"fill_color\"},\"line_color\":{\"value\":\"lightgrey\"},\"radius\":{\"field\":\"radius\",\"units\":\"data\"},\"x\":{\"field\":\"x\"},\"y\":{\"field\":\"y\"}},\"id\":\"7879\",\"type\":\"Circle\"},{\"attributes\":{},\"id\":\"8159\",\"type\":\"Selection\"},{\"attributes\":{},\"id\":\"7861\",\"type\":\"BasicTicker\"},{\"attributes\":{},\"id\":\"7865\",\"type\":\"WheelZoomTool\"},{\"attributes\":{},\"id\":\"7864\",\"type\":\"PanTool\"},{\"attributes\":{\"overlay\":{\"id\":\"7870\"}},\"id\":\"7866\",\"type\":\"BoxZoomTool\"},{\"attributes\":{\"data\":{\"fill_color\":[\"#ff38ff\",\"#ff33ff\",\"#ff6dff\",\"#ff56ff\",\"#ff35ff\",\"#ff61ff\",\"#ff6eff\",\"#ff12ff\",\"#fffcff\",\"#ffdcff\",\"#ffbbff\",\"#ff48ff\",\"#ff6cff\",\"#ffcaff\",\"#ff16ff\",\"#ff9bff\",\"#ff2aff\",\"#ff60ff\",\"#ffedff\",\"#ff6cff\",\"#ff50ff\",\"#ffecff\",\"#ff3cff\",\"#ffabff\",\"#ff07ff\",\"#ff57ff\",\"#ff72ff\",\"#ff36ff\",\"#ffbbff\",\"#ffedff\",\"#ff65ff\",\"#ffb3ff\",\"#ff13ff\",\"#ffefff\",\"#ff8cff\",\"#fffbff\",\"#ff5fff\",\"#ff38ff\",\"#ff7cff\",\"#ff33ff\",\"#ff02ff\",\"#ff18ff\",\"#ff4fff\",\"#ffb9ff\",\"#ff21ff\",\"#ff7dff\",\"#ff34ff\",\"#ff8dff\",\"#ffb5ff\",\"#ff21ff\",\"#ffc7ff\",\"#ff57ff\",\"#ffc1ff\",\"#ff7bff\",\"#ffb1ff\",\"#ffc2ff\",\"#ff0fff\",\"#ffa8ff\",\"#ff66ff\",\"#ff3aff\",\"#ff72ff\",\"#ff2eff\",\"#ff11ff\",\"#ff1cff\",\"#ff16ff\",\"#ff46ff\",\"#ff5eff\",\"#ff54ff\",\"#ff04ff\",\"#ffaaff\",\"#ff66ff\",\"#ff49ff\",\"#ff63ff\",\"#ffa8ff\",\"#ffc9ff\",\"#ffffff\",\"#ff75ff\",\"#ff19ff\",\"#ffe1ff\",\"#ff40ff\",\"#ffb4ff\",\"#ff0cff\",\"#ff35ff\",\"#ff50ff\",\"#fffcff\",\"#ff72ff\",\"#ffaeff\",\"#ffdcff\",\"#ff50ff\",\"#ffb8ff\",\"#ffedff\",\"#ff14ff\",\"#ff50ff\",\"#ff18ff\",\"#ffcfff\",\"#ffc2ff\",\"#ff24ff\",\"#ff4aff\",\"#ff3bff\",\"#ff33ff\",\"#ff78ff\",\"#ffbcff\",\"#ff94ff\",\"#ffa7ff\",\"#ff4fff\",\"#ff3fff\",\"#ffb0ff\",\"#ff5cff\",\"#ff9cff\",\"#fff6ff\",\"#ff84ff\",\"#ffc7ff\",\"#ff8dff\",\"#ff8eff\",\"#ff27ff\",\"#ffdaff\",\"#ff0dff\",\"#ff47ff\",\"#ff9cff\",\"#ff54ff\",\"#fff2ff\",\"#ff88ff\",\"#ff06ff\",\"#ffa2ff\",\"#ff15ff\",\"#ff5fff\",\"#fffcff\",\"#ff8eff\",\"#ff41ff\",\"#ff2aff\",\"#ffe4ff\",\"#ff13ff\",\"#ff6aff\",\"#fffeff\",\"#ffdcff\",\"#ff06ff\",\"#ff75ff\",\"#ffd6ff\",\"#ffeaff\",\"#ffaeff\",\"#ff54ff\",\"#ffb7ff\",\"#ff08ff\",\"#ff0cff\",\"#ffccff\",\"#ffbaff\",\"#ff46ff\",\"#fff9ff\",\"#ff09ff\",\"#ff05ff\",\"#ffc4ff\",\"#ffafff\",\"#ffe5ff\",\"#ff06ff\",\"#ff8aff\",\"#ff3eff\",\"#ff93ff\",\"#ff3dff\",\"#ffd6ff\",\"#ffc3ff\",\"#ffc5ff\",\"#ff78ff\",\"#ff11ff\",\"#ffeeff\",\"#ff99ff\",\"#ffa9ff\",\"#ffa8ff\",\"#ff6cff\",\"#ff63ff\",\"#ff70ff\",\"#ffdbff\",\"#ff4bff\",\"#ffe6ff\",\"#ff00ff\",\"#ff1bff\",\"#ff1cff\",\"#ff1cff\",\"#ff45ff\",\"#ffb0ff\",\"#ff3fff\",\"#fff1ff\",\"#ffbcff\",\"#ff88ff\",\"#ff53ff\",\"#ffe7ff\",\"#ffeaff\",\"#fff8ff\",\"#ff57ff\",\"#fff9ff\",\"#ffd6ff\",\"#ff88ff\",\"#ff47ff\",\"#ffaeff\",\"#ffd5ff\",\"#ff09ff\",\"#ff48ff\",\"#ff14ff\",\"#ff32ff\",\"#ffafff\",\"#ff7bff\",\"#ff4fff\",\"#ff58ff\",\"#ff21ff\",\"#ffbcff\",\"#fffaff\",\"#ffbfff\",\"#ff87ff\",\"#ffaeff\",\"#fffbff\",\"#ffbdff\",\"#ff03ff\",\"#ff2bff\",\"#ffa7ff\",\"#ff2aff\",\"#ff1dff\",\"#ffe8ff\",\"#ff43ff\",\"#ff68ff\",\"#ff82ff\",\"#ffd4ff\",\"#ff9bff\",\"#ff51ff\",\"#ffcaff\",\"#ffc8ff\",\"#ff05ff\",\"#ff63ff\",\"#ffcbff\",\"#ff87ff\",\"#ff4eff\",\"#ffd9ff\",\"#ff7fff\",\"#ff9dff\",\"#ff0eff\",\"#ff35ff\",\"#ffaeff\",\"#ff72ff\",\"#ff15ff\",\"#ffc3ff\",\"#ff32ff\",\"#ffc7ff\",\"#ff27ff\",\"#ff27ff\",\"#ff2aff\",\"#ffe1ff\",\"#ff60ff\",\"#ff5eff\",\"#ffa2ff\",\"#ff4aff\",\"#ff68ff\",\"#ff38ff\",\"#ffe8ff\",\"#ff1dff\",\"#ff4cff\",\"#fffaff\",\"#ff86ff\",\"#ff57ff\",\"#ff9cff\",\"#ffbbff\",\"#ff11ff\",\"#ffcbff\",\"#ffdbff\",\"#ff22ff\",\"#ffc9ff\",\"#ffcfff\",\"#ff71ff\",\"#ff54ff\",\"#ff1bff\",\"#ffcdff\",\"#ff94ff\",\"#ffc4ff\",\"#ff72ff\",\"#ff8fff\",\"#ffe6ff\",\"#ff70ff\",\"#ff5bff\",\"#ff8dff\",\"#ffe7ff\",\"#ffceff\",\"#ffb7ff\",\"#ff37ff\",\"#ff49ff\",\"#ff59ff\",\"#ffadff\",\"#ff12ff\",\"#ff8aff\",\"#ff4aff\",\"#ff31ff\",\"#ff8eff\",\"#ffceff\",\"#ffa8ff\",\"#ff3aff\",\"#ff69ff\",\"#ffedff\",\"#ff49ff\",\"#ff7eff\",\"#fff6ff\",\"#ff8aff\",\"#ff03ff\",\"#ffd0ff\",\"#ffa1ff\",\"#ff56ff\",\"#ffa7ff\",\"#ff9fff\",\"#ff66ff\",\"#ff03ff\",\"#ff7cff\",\"#ff16ff\",\"#ffacff\",\"#ffdcff\",\"#ffe6ff\",\"#ffa4ff\",\"#ffa6ff\",\"#ffeeff\",\"#ff32ff\",\"#ff96ff\",\"#ffeaff\",\"#ffc0ff\",\"#ff3cff\",\"#ff21ff\",\"#ffa0ff\",\"#ff01ff\",\"#ff1aff\",\"#ff50ff\",\"#ff3eff\",\"#ff99ff\",\"#ffa9ff\",\"#ff87ff\",\"#ffb0ff\",\"#ff2aff\",\"#ff2aff\",\"#ffceff\",\"#ffcfff\",\"#ff25ff\",\"#ff8fff\",\"#ffafff\",\"#ff8bff\",\"#fff1ff\",\"#ff7eff\",\"#fff9ff\",\"#ff4bff\",\"#ffbcff\",\"#ff7aff\",\"#ff09ff\",\"#ff05ff\",\"#ffabff\",\"#ffc5ff\",\"#ffffff\",\"#ff19ff\",\"#ff91ff\",\"#ff89ff\",\"#ff32ff\",\"#ff79ff\",\"#ff31ff\",\"#ffb8ff\",\"#ff53ff\",\"#ff0dff\",\"#ff4cff\",\"#ff86ff\",\"#fff3ff\",\"#ff60ff\",\"#ff69ff\",\"#ff0fff\",\"#ff48ff\",\"#ff40ff\",\"#ff34ff\",\"#ff96ff\",\"#ff73ff\",\"#fff1ff\",\"#ff88ff\",\"#ffdeff\",\"#ff18ff\",\"#ffbdff\",\"#ff90ff\",\"#ff87ff\",\"#fff3ff\",\"#ff3eff\",\"#ff1eff\",\"#ff33ff\",\"#ff5aff\",\"#ff0aff\",\"#ff18ff\",\"#ff7fff\",\"#ffbeff\",\"#ff06ff\",\"#ff3aff\",\"#ffa2ff\",\"#ff59ff\",\"#ff79ff\",\"#ff94ff\",\"#ffd8ff\",\"#ff81ff\",\"#ffe5ff\",\"#ff6bff\",\"#ff2fff\",\"#ffa7ff\",\"#ffcfff\",\"#fff2ff\",\"#ff5cff\",\"#ff82ff\",\"#ffe0ff\",\"#ffd7ff\",\"#ff12ff\",\"#ff45ff\",\"#ff50ff\",\"#ffe5ff\",\"#ff51ff\",\"#ff93ff\",\"#ff49ff\",\"#ff99ff\",\"#ffc1ff\",\"#ffd4ff\",\"#ff46ff\",\"#ff4bff\",\"#ff40ff\",\"#ffb8ff\",\"#ffd5ff\",\"#ff51ff\",\"#ff3fff\",\"#ff63ff\",\"#ffe1ff\",\"#ff20ff\",\"#ff66ff\",\"#ff8fff\",\"#ffd4ff\",\"#ff96ff\",\"#ffdfff\",\"#ffc6ff\",\"#ff79ff\",\"#ffbcff\",\"#fffdff\",\"#ff31ff\",\"#ff26ff\",\"#ff91ff\",\"#ff4dff\",\"#ffe2ff\",\"#ff8dff\",\"#ff2aff\",\"#fffeff\",\"#ffc6ff\",\"#ffe7ff\",\"#ff3dff\",\"#ffd7ff\",\"#ff9eff\",\"#ffcbff\",\"#ff9bff\",\"#ff4bff\",\"#ff9dff\",\"#ff62ff\",\"#ffb6ff\",\"#ff46ff\",\"#ffb5ff\",\"#ffe9ff\",\"#ff05ff\",\"#ff70ff\",\"#ff85ff\",\"#ff25ff\",\"#ff73ff\",\"#ff69ff\",\"#ffbfff\",\"#ffa1ff\",\"#ff09ff\",\"#ff40ff\",\"#ff84ff\",\"#ff16ff\",\"#ffd8ff\",\"#ff6aff\",\"#ff23ff\",\"#ff4dff\",\"#ff74ff\",\"#ff87ff\",\"#ff34ff\",\"#fff6ff\",\"#ffb8ff\",\"#ff24ff\",\"#ffc5ff\",\"#ffc1ff\",\"#ff2fff\",\"#ff4aff\",\"#ff23ff\",\"#ff2eff\",\"#ff8eff\",\"#fffdff\",\"#ff78ff\",\"#ffd3ff\",\"#ffd4ff\",\"#ffd4ff\",\"#ffabff\",\"#fffdff\",\"#ff8cff\",\"#ffc5ff\",\"#ff98ff\",\"#ff19ff\",\"#ff4cff\",\"#ff7eff\",\"#ff45ff\",\"#ffb3ff\",\"#ff07ff\",\"#ff93ff\",\"#ff9dff\",\"#ff06ff\",\"#ffb9ff\",\"#ff4bff\",\"#ff4bff\",\"#ffb9ff\",\"#ff36ff\",\"#ff9aff\",\"#ffd5ff\",\"#ff34ff\",\"#ff7bff\",\"#ffecff\",\"#ff30ff\",\"#ffa3ff\",\"#ff79ff\",\"#ffd3ff\",\"#ffd7ff\",\"#ff87ff\",\"#ff85ff\",\"#ff98ff\",\"#ff75ff\",\"#ff0eff\",\"#ff59ff\",\"#ff8aff\",\"#ff3eff\",\"#ff94ff\",\"#ff59ff\",\"#ff68ff\",\"#ff27ff\",\"#ff5bff\",\"#ff46ff\",\"#ffa5ff\",\"#ff76ff\",\"#ffc6ff\",\"#ff4bff\",\"#ff86ff\",\"#ff9fff\",\"#ffa8ff\",\"#ffdcff\",\"#ff12ff\",\"#ff44ff\",\"#ffcbff\",\"#ff6aff\",\"#ffe2ff\",\"#ff11ff\",\"#ff74ff\",\"#ffc2ff\",\"#ff88ff\",\"#ff0dff\",\"#ff82ff\",\"#ff3eff\",\"#ff3dff\",\"#ff21ff\",\"#ffb3ff\",\"#ffafff\",\"#ffb6ff\",\"#ff4fff\",\"#ff78ff\",\"#ff0dff\",\"#ffcdff\",\"#ffbdff\",\"#ff90ff\",\"#ff6eff\",\"#ff4cff\",\"#fff8ff\",\"#ffebff\",\"#ffffff\",\"#ff48ff\",\"#ff2fff\",\"#ff76ff\",\"#ff8eff\",\"#ff02ff\",\"#ff66ff\",\"#fff3ff\",\"#ffd4ff\",\"#ff90ff\",\"#ff68ff\",\"#fff6ff\",\"#ff2cff\",\"#ffb3ff\",\"#ffc4ff\",\"#ffd9ff\",\"#ff82ff\",\"#ffcfff\",\"#ffc9ff\",\"#ffb9ff\",\"#ffa4ff\",\"#ffcfff\",\"#ffa0ff\",\"#ff2fff\",\"#ff91ff\",\"#ff24ff\",\"#fff5ff\",\"#ff9fff\",\"#fff2ff\",\"#ff03ff\",\"#ffd0ff\",\"#ff5cff\",\"#ff73ff\",\"#ffa3ff\",\"#ff04ff\",\"#ffb5ff\",\"#ff03ff\",\"#ff4fff\",\"#ff17ff\",\"#ffabff\",\"#ffdbff\",\"#ffe5ff\",\"#ff50ff\",\"#ff88ff\",\"#ff84ff\",\"#ff3fff\",\"#ff01ff\",\"#ff7eff\",\"#ff0aff\",\"#ffd2ff\",\"#ff12ff\",\"#ff19ff\",\"#fffdff\",\"#ff6dff\",\"#ff69ff\",\"#ffb2ff\",\"#ffa3ff\",\"#ff8dff\",\"#fffbff\",\"#ff44ff\",\"#ff1bff\",\"#ff27ff\",\"#ff59ff\",\"#ffe6ff\",\"#ffe5ff\",\"#ff30ff\",\"#ff3aff\",\"#ffd8ff\",\"#ffccff\",\"#ff74ff\",\"#ff4bff\",\"#ffb8ff\",\"#ff90ff\",\"#ff57ff\",\"#ff7dff\",\"#fff5ff\",\"#ff1eff\",\"#ff8dff\",\"#ffaaff\",\"#ffbbff\",\"#ff07ff\",\"#ffe0ff\",\"#ff32ff\",\"#ffadff\",\"#ff1cff\",\"#ff0fff\",\"#ffaaff\",\"#ffbdff\",\"#ff1cff\",\"#ffe8ff\",\"#ff1cff\",\"#ff54ff\",\"#ffb7ff\",\"#ff1bff\",\"#ffa9ff\",\"#ffaaff\",\"#ff41ff\",\"#ff54ff\",\"#ffe8ff\",\"#ffc4ff\",\"#ff43ff\",\"#ffc4ff\",\"#ff49ff\",\"#fffbff\",\"#ff5bff\",\"#ff33ff\",\"#ff8dff\",\"#ffe0ff\",\"#fff7ff\",\"#ffe9ff\",\"#ffdbff\",\"#ff94ff\",\"#ff7eff\",\"#ff5dff\",\"#ffaeff\",\"#ff82ff\",\"#ff38ff\",\"#ff35ff\",\"#ffc2ff\",\"#ff83ff\",\"#ffd7ff\",\"#ffbfff\",\"#ffd9ff\",\"#ff9fff\",\"#ff1eff\",\"#ffa4ff\",\"#ffc4ff\",\"#ffa1ff\",\"#ff6eff\",\"#fffeff\",\"#fffaff\",\"#ff6cff\",\"#ffe3ff\",\"#ffbcff\",\"#ffc8ff\",\"#ff26ff\",\"#ff0dff\",\"#ff23ff\",\"#ff30ff\",\"#ff49ff\",\"#ff6dff\",\"#fffbff\",\"#ff46ff\",\"#ffc1ff\",\"#ff44ff\",\"#ff9fff\",\"#ffbbff\",\"#ffb2ff\",\"#ff6cff\",\"#ffadff\",\"#ff8bff\",\"#ffe0ff\",\"#ff82ff\",\"#ffdcff\",\"#ff8bff\",\"#ff4eff\",\"#ff51ff\",\"#ff61ff\",\"#ff80ff\",\"#ff2bff\",\"#ffbaff\",\"#ff47ff\",\"#ff40ff\",\"#ff21ff\",\"#ff28ff\",\"#ff55ff\",\"#ff43ff\",\"#ff28ff\",\"#ffadff\",\"#ffeeff\",\"#ff22ff\",\"#fffeff\",\"#ffd8ff\",\"#ffd0ff\",\"#ffe5ff\",\"#ff45ff\",\"#ff35ff\",\"#ff6fff\",\"#ff4fff\",\"#ff5cff\",\"#ffefff\",\"#ff4cff\",\"#ff95ff\",\"#ff5dff\",\"#ffe5ff\",\"#ffbaff\",\"#ff2cff\",\"#ff27ff\",\"#ffb8ff\",\"#ff1eff\",\"#ffc1ff\",\"#ff84ff\",\"#ffe7ff\",\"#ffd6ff\",\"#ff73ff\",\"#ff30ff\",\"#ff28ff\",\"#ff3cff\",\"#ff1aff\",\"#ff0fff\",\"#ff66ff\",\"#ffd5ff\",\"#ff72ff\",\"#ff10ff\",\"#ffcfff\",\"#fffdff\",\"#ff73ff\",\"#ff0fff\",\"#ffadff\",\"#ff5cff\",\"#ffc7ff\",\"#ff3cff\",\"#ff84ff\",\"#ff64ff\",\"#ff59ff\",\"#ffe9ff\",\"#ffa5ff\",\"#fffdff\",\"#ff32ff\",\"#ffd2ff\",\"#ffbaff\",\"#ff15ff\",\"#ff60ff\",\"#ff1fff\",\"#ff44ff\",\"#ff43ff\",\"#ffb7ff\",\"#ff00ff\",\"#ffbcff\",\"#fffdff\",\"#ffbdff\",\"#ff31ff\",\"#ff0dff\",\"#ff26ff\",\"#ff2dff\",\"#ff71ff\",\"#ffedff\",\"#ff1bff\",\"#ffd2ff\",\"#ff86ff\",\"#ffb5ff\",\"#fffbff\",\"#ff13ff\",\"#ffdfff\",\"#ff50ff\",\"#ff23ff\",\"#ff29ff\",\"#ff05ff\",\"#ff43ff\",\"#fffbff\",\"#ffa6ff\",\"#ff7aff\",\"#fff7ff\",\"#fffbff\",\"#ff91ff\",\"#fff1ff\",\"#ff5dff\",\"#ffacff\",\"#ff3cff\",\"#ff35ff\",\"#ffb1ff\",\"#ffbdff\",\"#ff7fff\",\"#ff5bff\",\"#ffc4ff\",\"#ff42ff\",\"#ff8aff\",\"#ffaaff\",\"#ff4aff\",\"#ffccff\",\"#ff8cff\",\"#ff6bff\",\"#ffc4ff\",\"#ffb3ff\",\"#ffe9ff\",\"#ff9bff\",\"#ff81ff\",\"#ff12ff\",\"#ff0eff\",\"#ff6dff\",\"#ff24ff\",\"#fffcff\",\"#ff9dff\",\"#ffe7ff\",\"#ffbaff\",\"#ff50ff\",\"#ff54ff\",\"#ffd2ff\",\"#ff0aff\",\"#ffeaff\",\"#ff09ff\",\"#ff38ff\",\"#ff61ff\",\"#ffaaff\",\"#ffdcff\",\"#ff35ff\",\"#ffa3ff\",\"#ff64ff\",\"#ff9eff\",\"#ffd1ff\",\"#ff9dff\",\"#ffaaff\",\"#ff14ff\",\"#ff4dff\",\"#ff50ff\",\"#ff32ff\",\"#ff81ff\",\"#ff77ff\",\"#ff39ff\",\"#ff1cff\",\"#fff6ff\",\"#ff12ff\",\"#ff2fff\",\"#ffc5ff\",\"#ff3cff\",\"#ff70ff\",\"#ff04ff\",\"#ff43ff\",\"#ff53ff\",\"#ffd2ff\",\"#ff55ff\",\"#ffe1ff\",\"#ff09ff\",\"#ff5dff\",\"#ff7dff\",\"#ffa2ff\",\"#ff93ff\",\"#ff0eff\",\"#ffabff\",\"#ffbaff\",\"#fff1ff\",\"#ff71ff\",\"#ff21ff\",\"#ffc0ff\",\"#ff79ff\",\"#ff67ff\",\"#ff99ff\",\"#ffcdff\",\"#ff44ff\",\"#ff40ff\",\"#ff80ff\",\"#ff88ff\",\"#ff02ff\",\"#ff9aff\",\"#ff3bff\",\"#ff20ff\",\"#ff9eff\",\"#ffbeff\",\"#ffc6ff\",\"#ff70ff\",\"#ff3cff\",\"#ff2aff\",\"#ff82ff\",\"#ff67ff\",\"#ff49ff\",\"#ffb7ff\",\"#ff3eff\",\"#ffc6ff\",\"#ff5aff\",\"#ff93ff\",\"#ff0fff\",\"#ffa3ff\",\"#ff65ff\",\"#ff3bff\",\"#ff9cff\",\"#ffedff\",\"#ff30ff\",\"#ff74ff\",\"#ff19ff\",\"#ffabff\",\"#ffd0ff\",\"#ffe9ff\",\"#ff76ff\",\"#ff94ff\",\"#fff1ff\",\"#ff75ff\",\"#ff2fff\",\"#ff6cff\",\"#ff54ff\",\"#ffadff\",\"#ff91ff\",\"#ffdcff\",\"#ff33ff\",\"#ff03ff\",\"#ff32ff\",\"#ff37ff\",\"#ff0fff\",\"#ffc5ff\",\"#ff52ff\",\"#ff33ff\",\"#ff1aff\",\"#ff8eff\",\"#ffd2ff\",\"#ff86ff\",\"#ff3fff\",\"#ff57ff\",\"#ff52ff\",\"#ffa1ff\",\"#ff13ff\",\"#ff1dff\",\"#ffccff\",\"#ff7dff\",\"#ff79ff\",\"#ff67ff\",\"#ffe6ff\",\"#ff86ff\",\"#ff29ff\",\"#ff23ff\",\"#ff11ff\",\"#ff24ff\",\"#ff1dff\",\"#ff23ff\",\"#ff28ff\",\"#ffc1ff\",\"#ff36ff\",\"#ff3eff\",\"#ff33ff\",\"#ffe2ff\",\"#ffc8ff\",\"#ff98ff\",\"#ffd3ff\",\"#ffc6ff\",\"#ffbdff\",\"#ffbbff\",\"#ffc0ff\",\"#ffa6ff\",\"#ff20ff\",\"#ffb1ff\",\"#ff02ff\",\"#ffc0ff\",\"#ffc3ff\",\"#ffccff\",\"#ff0eff\",\"#ffdcff\",\"#ffe9ff\",\"#ffebff\"],\"radius\":{\"__ndarray__\":\"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\",\"dtype\":\"float64\",\"order\":\"little\",\"shape\":[1000]},\"x\":{\"__ndarray__\":\"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\",\"dtype\":\"float64\",\"order\":\"little\",\"shape\":[1000]},\"y\":{\"__ndarray__\":\"+7+B7pDlNUAD1ZJdpR80QGX7nv/xVUVAK7ddvDXTQECYAswh4qo0QKRLfSNf9UJA8LfgkLWIRUDUUx+ymWscQHgScs9at1hAT4tVsF2JVUDjXwPYP1VSQJejcgOvRjxATrZFgj5ERUDFl4fHwNdTQMDO4ls2OCFAml4OJP1LTkD472X4NoAwQG/OL08A00JAA4dvNFw/V0Dc7BWKW0VFQLOIEu4aVj9A7TGqiBcZV0BLQSQS64A3QJMD7ftCulBAjpJNtRkzB0Bc6MpZOANBQOczt07HckZA0LYs9ZktNUCXDi8JRF9SQCHmJi5KMVdAG5EKw6TGQ0CMS4rEQIZRQBClNb3xhh5AllxD02JlV0Ar7r+adIVLQEedgLs8oVhAEnhTRROeQkBSEocGRyI2QIQBJnUuSkhAjnVEjCzWM0BsUHo4cdTjP7NOuroa9iJA9ZfA+4wUP0CnxGnvLR9SQCFYCUuxFypACZyrwFyDSEBXlr0S/pQ0QPhKWJKeq0tAgFtgNsS9UUCwhqDEnQkqQKhdYkrzgFNAPIaVXdkIQUB+dvRXiORSQNbOjT5RLkhAXB7ubeFaUUD+dfCLKwZTQPpNfmQFYRdAP05k5Y+CUEBlEiCUJwJEQJRs9BHqkjZAuRKoVFtfRkASyOkxqDEyQHRGYy9hUBpAOBZ+JQ69JUCTaUV/5nchQA+F7Sb/gjtAznm65+BqQkA6kwqy+YdAQH7Y3Mrbnvg/2a/xCdW1UECfS7GO2vlDQFJfdqmtxjxAuWFw6qdvQ0CuZ3vHNYFQQJ/n8MbQuVNAXMkkzOj1WEBaAUOP4/JGQN2BenOW5CNASTRnZ7EKVkDme4WDcBg5QNqM0MIOo1FAOEFHm08IE0AJsxwPWaE0QGFC5I9pMz9A0DrAY4+vWEDSYWxDtFtGQFfzP4RRGVFAVcoQCiOIVUAZeQoYI04/QEUrivhCAlJAcKwgHyI2V0DcvxwdLgYgQEtj0khlPj9AILZILysbI0CchxXyL0ZUQOlWKlZ2/lJA6t4GBLdRLECAUXPvejA9QBju2CGgOzdABWkjweMbNED51E3T+o9HQD1OBJcKbVJAPpa0NYz2TEAMOma751xQQFIa5AXf+D5Ad8oEBNHROEA4lsuSjzdRQMM1c/U8IkJA0Ex03TudTkBgdQopUSpYQD0qZpJS+UlAwf7PcvN+U0AIowDEF5xLQLSUOPrd0ktA3EU2Tic+LkCbAskX/GlVQISwmFFYWBRAr4MYmTXsO0Dp08dZBKNOQKa1ucZ1jkBA9KrOB6a2V0BgiyyMhbhKQEUnn5a1UwNAMccPqd3FT0Ck5yIk7sggQPI+17sQmEJALhkExm6oWEBNhofk+NBLQNTo/0MDojlADVuLC318MEBubIh/GGRWQO782N3WkR1ApAlTs1q3REAJ1UNAY+VYQC325l/jmVVA8KCtw0ZKAkBzEa3NavBGQIY4MTzj8VRAbU8n5CbpVkCLd0DKnBZRQDrDjjcbZUBA8g/+gqDtUUBRzudzinsKQBzdYGZPPBNAUsw/RnX6U0AIIqylqzxSQGPQnkWNTztAwhvW6Zd1WECfwpJAQB0NQLpQvB3XDf0/970yMXQ4U0C0NV1JHSFRQCaVzvOualZAcNrU6EXrAUBBT+ea/gFLQDskG+TkXzhADsYj6cC7TEC77v1NP+Q3QI2vxqX39VRAdJpYpa4kU0CSBSyaXEdTQJhZAGN9lkdAdJ3kblvCGkAfiyWVRExXQL9e8eQlCE5ApUajfd2VUEC73YfjKG1QQKXxi6IaI0VAGqDmDvppQ0Dn7hJb6g1GQALGMCDCblVAZ/Y24pxfPUBCj9+ql5VWQGB+RqKf3rk/A2rTeffxJEC21l6pNJ8lQLnBglKpQSZARhYyz2BAO0CJMve+zUJRQEqVSxVvrjhATqHJW7+eV0DVKGsyXm9SQI2EuGbSp0pAXfJOD3lRQEBjiTsh/6xWQK1KFZ/y9lZAv3q0sDpcWEByJEvKQQlBQLw55GI7YFhAAnrOHWj8VEDXr9OyFa5KQFrXMurg2DtAzAmmMxwNUUA4fyhdU+JUQNghcIRGhwtAqHvGHyVePEBId1cFzT0fQBdZxW3SoTNAUUnB6O4wUUCg4ais/hVIQAYWkz4M/z5Alem5g1lXQUAYGcc6uowpQMVFuxNbdFJA1Hu+6mqFWEA8YfqyNbBSQES6ydxBdEpAERD6hpcWUUBLpwMF9aZYQEDq0SlgiVJA2j0jJOI69T/lC+XK1Q0xQLdSw39WW1BAfs8AntGDMEA6LbLQJg0nQIAkOTSNtVZA+IXYCCQ5OkCIm9eyI3xEQGu84CFxbElAkvO46LbNVEBMk8SThmBOQFsM3hjG8j9Aw8d1ZO7WU0Cd4KwHyJFTQOKTfqq3yPw/tOgbb0FfQ0DfeaXVy9xTQCFHdAUngkpAsyeNTjNnPkB7dcJWKEdVQDMa18mw9EhASyi3G6i8TkA2drrYpGgVQGdT6DFM3jRAHjWWcRgYUUB5O2aLbk9GQB0FRe9dIiBAfpaM+jcgU0Cz9FIK2MwzQK6KgyLMeVNAbsn/lDs2LkCc/EfaTYAuQLlw17tGcjBAzp+bBWUZVkCY5U3MGtlCQIL02mYEYUJA0XYcVarXT0BsFJ5kBCY9QGes9tOsYERAR5AA1X4NNkDVJH34OMFWQMhPv7w02iZAQXPodKrtPUCoQdlVR4VYQMBOeVxVMUpAmGrcBU0JQUAjkHoi5oROQI/urcMyU1JAwtZI2aNVG0DJz74FReNTQAgXJlzLblVAptSGijbkKkBcv8QgH7VTQD8JMcgkRlRA7632nv0uRkBLqU12/GhAQG81NcPt9iRAEXgcCLMZVEDEkDtJAQxNQCP9rhFTO1NA19X05n1IRkAqfvMV/BtMQJc9dHvVj1ZAh/914+LrRUCEeniOxdJBQHfvAgAGoktAFhvpKm2uVkDAOikorDxUQFF2BS75/FFAUIt4ojmHNUB1oxRZq388QC14s0ciXkFAo208a5DzUECnKLzGCcgcQLPP0uBGGktAVa3yLYHaPEBjdpREtTUzQD0Jvc/rwktA55tWIdozVEBrCknVDmxQQGa8H1LjmDZAZupVO0SXREC3FhpAaz9XQC4MCccHjzxArZVf0Mm1SEDTP+07/RpYQAfmyt0DDUtAsDJwCy0z9D+kZE4VKWZUQGKGJdi4nU9Af+wD1PHRQEBEIWA9XFVQQNqVe4qWK09A5idwxdUVREAuQdNRphbzP5oMtzY2QEhASvXgrXQwIUB2Wn1nRtpQQGS8RdWYjFVA+G7UISqIVkDB5TDA2wtQQNippDNbPFBAf+PnYeVRV0C92QZebsEzQPk+NkDzUU1A3K6+A6DvVkD06rAjst5SQHfH7zrZdDdAFrbyaMQgKkAiFwVZDmBPQChfUb3asdQ/dl8vIdK1JEDZsel8Jj4/QMtu6DGUQThALJFLgi4CTkCK1R3hvZFQQO75YZ/dekpAZ3AnP4ZFUUCN0e6lOnwwQLx7cdgVfTBADHSSrM8vVECGOE9LqEpUQFnSSLBN6SxAc24PZCENTECBkptP1SNRQM5g1a+UQktAboWN6NWgV0BJA2IsBqVIQNF1J88Xb1hA9HgtGpRgPUB534m263FSQMkV547C9kdAI0tx2RWgDUAAo3ZSRO4AQICbZVw8zVBAQC6mublIU0B0uLYPWP5YQG/4xgEY0CNA+76aXPB/TEDfjzkCgspKQASE/enFezNAXcsW54e3R0BpCAlWCDEzQG8J6n4/EFJAZ/0JZL4xQECq6SynzyIUQNRzgvlRuz1AVUmF1fs5SkDKsQUxodBXQEs3rjmevEJAj17nSY+pREC8pRHiki4YQC4Pcc/dVDxA5g47VbUgOUA0RYEm5ng0QDbPGA8fWE1Ak6lMAm13RkCxqNvsT6JXQIjwIUfrrUpAZqX7dbq8VUALjEwCXtoiQBszHSVwjVJAr7AM2qJSTECz0brir35KQF7aBM/d1ldA+I7zHRZJOEDAc43M5L4nQKOxBwalMDRAEcqzVnGnQUAt85kOuyoQQBZqjkjA7iJA/Ch7cHDfSEAL4b0rEZhSQMZpJ5LTrgFAG585nqeWNkDKSvT/ZbpPQKEI9MvybEFAD9e3G/uxR0DeB1EVaQJNQPq8itw6KlVAJWNR5Ds5SUDHvI6MtnNWQF/1NF5kCkVAqoMwywxHMkCnBJq4TVhQQL5qWfkkRVRAVUHIlm+3V0ARYEAnshNCQCiJLfI2bklAQCn/6dzuVUCUq0XD4htVQDIhB8oz0htAzPSHWzcxO0ADTE13KzM/QDgs8goYflZAjxiCylLzP0Crj/QtyN1MQI4BbZAFyTxA2o4kNM3+TUDj+IR8/vFSQOwV+9iDxVRAkGL5wWZ9O0C2SHjGWFw9QFZSfH01STlAdITfT00NUkAry7tXCelUQILxVLQaxT9AoUhODICcOEAPKkapOGNDQDCWNIfdFFZATyfQovbYKEDm1BRICRlEQFZQjHyA/ktAsaGBMxa/VECfAejnQHpNQOOAQqgV1VVA5Q2shXZyU0C804cUTbxHQGb2sseJdVJAueYQ1oPHWEA+aLalswwzQLTSIM93gS1AlIaReoJWTEAMG4a5qmI+QApAKPDAMlZAvcNtI6G9S0BRfuwu5YcwQA/Gt+4r6FhA5AZ8UlJhU0DhyZgZbp1WQAbLYwj97DdANLw3iLMYVUBVOjSsGwdPQMLUXNnD7FNAWTfcvbV6TkDw4BmE5XA9QNRAHoQoy05ALXNi1v8jQ0C4alSfSNdRQHTmTm+GhztAgHxP0E6+UUBeqBtUp81WQOygiMofX/4/u1VfhoXsRUB/Rx+1KwFKQNaGPnGIUS1AiI4QAFqWRkCkUq0nZKdEQFF2sm2/xVJAuQtLOZSET0AtI3FetJANQNcE+GdEIzlAg+psF8jnSUD5wP84jJwhQARRzOB+MlVAd0/tKCzQRED9W7l78MQrQKkzN1DLMj5A9ZdWzuGpRkDXm3aJ3otKQK70vJ7+ZzRAAYP1pBgkWECYwnYdYQ5SQL4spVZVJyxAaZP9d5VaU0AGxN+GVuxSQJJCxLoAjDJAAcH29xExPUCChytaftArQNoG1xcv+TFACgPGcJnuS0AJTaohWcRYQPZQkw4odEdAH5YRpfasVEDzyyW9Lb1UQLTt9HQq0lRAkiElc9DKUEDxXl7s1MRYQLNR/2tJgEtAiyySZidLU0BQyw6SHrVNQFWsnXk/mCNA6/9TCa3zPUCekOym+apIQM8nkjuD/DpAbjs7heCJUUCt9vo1CT8FQLlBkZwM2ExATa+o/nPETkDuV8ns/MsCQLbzHATHKFJA3lofd7duPUDjEpLWLGc9QFO1Zd3kLlJA/B3clD5TNUCOyzgQti9OQCivu3Nd2lRAsOOVvVdTNEBkvFgMtylIQMvPNPWDHVdAx0dDsnehMkCAjBj36+xPQB4AXkdQwkdAdbF9j3OrVEBIoEibwxFVQFCEimnqYUpAeZagROkBSkDXpzJhgbtNQNtDnrea3EZAZI2E3ZQnFkBT3xM7Ul1BQKCEkkF8HktAMlZTZuUkOEAoCV5yYP1MQM9CAXcAikFA6KFZHk9kREDgkBwOIE4uQDmq2SFfzkFA1DEwTOF3O0BslB3w5DhQQCTZs4fHJ0dAIiLZL1hmU0CNgMSBrFg9QLTYTEdpN0pA3KzPpgs+T0Bra0Wpvm9QQHxh8Da9j1VAUi2F11aFHEDaOwJy7aU6QMmRNx7f6VNAtR5CDVPfREDwF7mXLiRWQK/LeuJ2pRpAUIxSHEmwRkDJCVCF/v5SQOs06OEbnkpAEmr1teo7FECSNGrWoXZJQA+5AGKkbjhAAw/MVTAEOEB8N4WdS8opQCY6yJjnkVFAR8n3BG4cUUCBzIOEOdpRQFFBwsSN0T5ABm82o4uHR0Bg0skT+NwTQGC/uek3FlRAMqXXfkOJUkDVJWpOXD5MQFYJKDJeqEVAAcz78mDgPUBRbgQMH0hYQEWgfiETAFdAimAB0f/0WED9S6niwgs8QBjr5lbofDJAXXt7UiU7R0B+jRuqteVLQLRPv4bEze4/5m8OCjYUREAr6UMAC8pXQMVobl7Hy1RAx3gBMicqTEAUkgkURmFEQEL3qb+MGFhAJY5oYwNwMUCtebcT+ZhRQBrRAaX3NVNAXEIvhe1OVUArqkcvmGpJQGjUjbEIP1RAEcVz3Zy6U0CvqrlZxS5SQIMAIy47F1BA678nqblMVECSHEKX319PQGSp4y37ZzJAOWL0VQd/TEAUXT1VgIcsQDnEOJyRAlhA/nNqcYgxT0DI21294LxXQMgriAFYMfI/+usXBBRkVEBjiRsi8BVCQBwMDR6+fUZAKxGAU58GUEAGAokoyVP6PwGP8fChxVFAiKDNbiz19D+llMfvGcw+QLdqbv5zCSJAAybWZI/OUED4Y9nkO3VVQA8EGM8pf1ZABgPs9RV8P0CyIM4pLcNKQAVL5ybG6UlAAOtqLfukOEDwa0ebJ7zJP2Akf+RtsEhAmw7KezogEEDcOYLAHpVUQHprFDm0+RtACw09sNlnI0BHT0izKtBYQCi/guAUZkVA5jdiLnGgREDreItTOnlRQAx03EXS409A2v+6S/6MS0A/oedb26FYQFbFxvbk0DpAbx8tiG17JUBBJecnvrIuQBEqm1VNgkFAC0uk2emMVkByhBdvUW9WQAlmocj/9TJAq/wHwrLINkCzzlRAZSNVQMyhPVg++1NA+9Lq69fKRkDqqszdJ5Q9QMmQUxnmB1JAZenRR4dPTECxvUkBt/tAQCVTUCNneUhAFgkfDAH+V0C8Toxw1ZcnQOXO+5gEkktANrSlUGyyUEAhrk5yCE1SQA8yZyRYfwVAENnWeHbuVUAM4nkp/HszQNZAbOGfAVFAl0LxIyUhJkBMIW5tUnwXQM3ypWqYn1BAfIzWYh+GUkCJqU6noh0mQE5Mm16IslZANjjfD/lRJkAOAgF3h3pAQPcwlt0x9FFAoREqrTx5JUDEbrGX8JRQQBS2VBBLs1BAopPW8kaXOUCrY7mIWH9AQPvzdzG1ulZAS7KuI4w+U0AtOystimU6QBVP0rLDP1NA5nW74eG0PEAAlVZB+5VYQLtIMPhyy0FAkrGzS2UQNEBS+oZEhaRLQPIYHOJV/FVAKMHBh54tWEAjr9IZp91WQHFriETcbVVAcLMtptELTUBkpS9A/bhIQLjQaRCXM0JAhgDIOh4VUUAsJaC2fnZJQDIq8mEWCTZA8tOLPQenNEDQtaZiVg1TQMQjVYvQm0lAFoW714IZVUCaC50CJ75SQAwOsiX1TVVApRjuT/w2T0CCmFyJw6UnQA463+sdCFBAjAzHVrcuU0BoEvxuPaFPQB87blKPokVA2HHl5k/uWEAp45nDrHZYQCI+b7CxRUVATAXZbDBNVkC9qBiHr2xSQLpHgaUrnVNAajJOgXadLUCkykV9/q4UQL5EJP7asStAaxWuDdv0MkCjOd/qjZY8QD6NhD9VSUVAHDwlNrWVWEBIuVL/1207QJhKmdBO5lJAxlZ+yBWyOkArxv5NnTNPQAjrAk4pWlJA3ugTn9VpUUDfLMCVzCJFQPY/g83X61BAXGbw1AhaS0DJzMHpm+tVQHNzOcl4aUlAfmuEbh6LVUBnB/XNTz1LQAJkKfqkmj5A92jJFAXrP0CWAne7cvlCQKPytpG7G0lAeLQrh1vbMEAmUNVxXURSQExnODJ7zztAUta90/MgOUBIKgsc7PspQBBrD+kXpy9A4QwAxh6oQEBoIUaeqW86QPD0Fcj7QC9A/z/iFtz5UEBNYwAMplZXQAoJ0htUfCpAIIdNBePsWEDT4VqgSypVQPuOWmE5aFRAIhEOOJRvVkDkBmp66Dg7QLC+kRTS8jRA4pMqUSu0RUDQ1gnTyNE+QAvsRlFg+kFA9mfNPqN5V0DXZmAlg8U9QEa1FSaQTE1AWRJ8YkRFQkB8pGpZTnFWQA/+2fVjSFJA4u/xayQWMUBUwDBPIaEuQJdLDnVhA1JAkNvdo+LbJ0CsGMuZW+hSQBFft/YI9ElAPGrrbFCwVkCRGxs2/+9UQJqK9tF4dkZA8JDCelaiMkCkXRbboTQvQI3wVMyMmTdAfF5I3AdfJEAVZNOdud8XQP7y3lIM9kNAf60S4CrZVECVwMkaCFtGQGDiZ2Y9XxhAbbay0XdFVECq9gwxRcpYQOErsQsJmkZAqfX8sjQ3GEDhBYupBf5QQNixuGAw8UFA+q0ZWg6OU0CNlAKfnXs3QC8Ski8w9UlABIPvnAmiQ0AnEr1vAHxBQBtxUkux3FZATFmzKxUpUECAyl6jVdVYQMjNmL1hiDNACCySQtKOVEBodw/HzTxSQEE664iU2CBAD2pg1vrAQkB/q41gw3MoQMaM0VGfmTpAMIsvJM8jOkAVybxuqOtRQOBgUKgwH7w/jp+PA3NlUkAjHwVcSsRYQNCiVbK3jlJA11zNZ1o8M0ASDvpXn8UUQGUuG6zamS1AVL1SJHujMUA2laARnyRGQN0vfJuxL1dA+ozg4GB+JUBuEBk+x5tUQKNU6992TUpAVmgIOR2+UUBnAnUiAZpYQIOE1XT87R1AtEBofxHXVUCzhfoyZ2w/QOz8Z6BnQStARh4X94kDMEB4Xl0Am1P+P3Vw5OW+RzpA3N7JMQCkWEBO6LzfOUNQQL0Mh7S93EdAKexMqS5DWEAXH50y/Z9YQM2I2fd1ZUxAx9DS5AelV0CL3VT6eTBCQFiYhS5V31BANH82kBB1N0A3ZQVQkcY0QKm2dbCQXlFA7kUfZZqKUkCQuzYw9d5IQNzZQJFe3kFAw7bgHcBCU0D0FplJMrY5QOzPViMm/UpAnY1hm3inUECB9/5agjA9QPtNnhj4+VNA1fQLZCpjS0A9U+PGCQBFQEstMQiFP1NA+UPYmCKRUUCRzQY/49lWQFm3DdvEVk5ApMz4WbpbSUDqPgNiR/wbQJDE9aXZjxZAN6zR5n5gRUDyz7Vu+pksQCm8bgIOwVhAZGfBr7rITkD+xgT7qZ9WQNYSOAFDM1JAfP3Kdd5eP0DkJXMRkWRAQJysJn3ZkVRAgTdwPnKiD0BtMizX6fhWQIuqX08I3QxArMqzx9AKNkCG7RegrfBCQKt+EZ8VtFBAIm3LRnibVUCad9qJfus0QEz8aedt8k9A67L+gpyZQ0ANdIjgLelOQJNtuagpelRAJVY4xYXMTkB4THXd7aJQQBaHjGfUzR9A9Z6JzCAMPkDAoRH1UHo/QMnxKoiAqTNAqCT5w5xdSUAKuBshl09HQNQyce6hNDZAwmjyBP3NJUCfZvOLXhpYQBA6SlrdVhxAO78IN919MkDsyCXMX1xTQMoOilJDsTdAWQ49RLX3RUBEo7oETVP4P4fNL3YmRjpAgCE7CeZYQEABsqypA5RUQAguVCnGl0BAPRjkT+gHVkBK/SuZrIQMQIl9ijFuSkJAxZzwNqCESEBWlS+QecpPQNMIfV+KykxAgDoBYUlNFUDJSgtaIcdQQIsioqhFR1JA5D8wCu+mV0CMMuVsPBdGQKoLo55H6SlANDazKCLIUkBHKwf52MVHQEa+Z6eaRERAv4lEXm8QTkAmkw7J3hBUQLhLB6zf0jpAsmEmtHQPOUB7YudxWyJJQLTrjG7roUpADHhatYJ56j9msTp7iyhOQPXqgMr/SjdAypRX4PHKKECRNiOM5gdPQHPQbuMTpFJAoKg/9nRsU0ASDxVbwd9FQIbKjgehlTdAVL6fNCSYMEBeNhU5EXFJQHrETZceIkRAbViGZCOkPEBEdnCLXPNRQDLZTemCdjhAQ3P0hAloU0BmBUoTR7lBQFeca2PR30xANDzT1p4lF0Dw4wPpy/dPQGoHaevu5ENAo9dIp8JHN0BA8b+HGpBOQJReG1vDOVdAQkWyl2XpMkC5JHNAHalGQN0n5Ly9RyNAqG7YCGnEUECQGx8QUFtUQEQISFOY3FZAiRnTCSEZR0BJeVwLQgBNQOHSamqVoldAkDcyMdX6RkASkpQC/4gyQOwgHayqFkVAZF9GzzSBQEAL6W2PU/JQQGOY59PffkxAnhNa7rSOVUBOa20tkSg0QAxC0IiqJvQ/8KVPCBZqM0BIxjzu4WY1QL3/hgeVmRdAlF7OaO1MU0A5wIlSDgdAQIDAh8fuMTRAUJ7ZbgKwJEAe5ujU1O1LQNdTcl3DjFRA0K+2v1FdSkC7LQkkS8c4QJ9X0kazFkFAR6cYr5QHQEAoQVE7b5VPQIqjhT0tvB1A8Hf9XuD+JkBc5FGavv5TQPS2u4CuhUhAnb6c6drJR0DWLd2O4TREQBsLQsuCklZA8GWW5xI5SkAiGgVSFMcvQF80XHuDXitAdCs+23fFGkBR5ivFGmQsQOpHAy4q1SZAfvHh9yFTK0Be7nDi1jgvQPyTr7xR41JALYWQQQ9TNUAidtuVQ2k4QEcYR8Q00TNArXz/IuAeVkAR582LHKRTQPGJiXrqxE1A22SxJVi7VEC6OBdkRmxTQEnGMIL2jVJAMp2EqLVRUkAjeI9wTctSQLlsJztWPlBAjFTQPmA8KUD88KGo01dRQKBwdladTug/mw03thTOUkAZu3JzaxlTQK/tEL2SAVRAWJsuEbJBFUBqRzP2aZ1VQNPOwr/u4FZAh+hLCqkDV0A=\",\"dtype\":\"float64\",\"order\":\"little\",\"shape\":[1000]}},\"selected\":{\"id\":\"8159\"},\"selection_policy\":{\"id\":\"8158\"}},\"id\":\"7878\",\"type\":\"ColumnDataSource\"},{\"attributes\":{},\"id\":\"7868\",\"type\":\"ResetTool\"},{\"attributes\":{\"active_drag\":\"auto\",\"active_inspect\":\"auto\",\"active_multi\":null,\"active_scroll\":\"auto\",\"active_tap\":\"auto\",\"tools\":[{\"id\":\"7864\"},{\"id\":\"7865\"},{\"id\":\"7866\"},{\"id\":\"7867\"},{\"id\":\"7868\"},{\"id\":\"7869\"}]},\"id\":\"7871\",\"type\":\"Toolbar\"},{\"attributes\":{},\"id\":\"8156\",\"type\":\"BasicTickFormatter\"},{\"attributes\":{},\"id\":\"8154\",\"type\":\"BasicTickFormatter\"},{\"attributes\":{\"data_source\":{\"id\":\"7878\"},\"glyph\":{\"id\":\"7879\"},\"hover_glyph\":null,\"muted_glyph\":null,\"nonselection_glyph\":{\"id\":\"7880\"},\"selection_glyph\":null,\"view\":{\"id\":\"7882\"}},\"id\":\"7881\",\"type\":\"GlyphRenderer\"}],\"root_ids\":[\"7845\"]},\"title\":\"Bokeh Application\",\"version\":\"2.2.2\"}};\n",
       "  var render_items = [{\"docid\":\"29d178cd-61d4-4787-8600-15b8d21c9f48\",\"root_ids\":[\"7845\"],\"roots\":{\"7845\":\"ad31e521-43a5-4fc6-8668-b0cf68af3e67\"}}];\n",
       "  root.Bokeh.embed.embed_items_notebook(docs_json, render_items);\n",
       "\n",
       "  }\n",
       "  if (root.Bokeh !== undefined) {\n",
       "    embed_document(root);\n",
       "  } else {\n",
       "    var attempts = 0;\n",
       "    var timer = setInterval(function(root) {\n",
       "      if (root.Bokeh !== undefined) {\n",
       "        clearInterval(timer);\n",
       "        embed_document(root);\n",
       "      } else {\n",
       "        attempts++;\n",
       "        if (attempts > 100) {\n",
       "          clearInterval(timer);\n",
       "          console.log(\"Bokeh: ERROR: Unable to run BokehJS code because BokehJS library is missing\");\n",
       "        }\n",
       "      }\n",
       "    }, 10, root)\n",
       "  }\n",
       "})(window);"
      ],
      "application/vnd.bokehjs_exec.v0+json": ""
     },
     "metadata": {
      "application/vnd.bokehjs_exec.v0+json": {
       "id": "7845"
      }
     },
     "output_type": "display_data"
    }
   ],
   "source": [
    "import numpy as np\n",
    "\n",
    "# generate some data\n",
    "N = 1000\n",
    "x = np.random.random(size=N) * 100\n",
    "y = np.random.random(size=N) * 100\n",
    "\n",
    "# generate radii and colors based on data\n",
    "radii = y / 100 * 2\n",
    "colors = [\"#%02x%02x%02x\" % (255, int(round(value * 255 / 100)), 255) for value in y]\n",
    "\n",
    "# create a new plot with a specific size\n",
    "p = figure(\n",
    "    title=\"Vectorized colors and radii example\",\n",
    "    sizing_mode=\"stretch_width\",\n",
    "    max_width=500,\n",
    "    height=250,\n",
    ")\n",
    "\n",
    "# add circle renderer\n",
    "p.circle(\n",
    "    x,\n",
    "    y,\n",
    "    radius=radii,\n",
    "    fill_color=colors,\n",
    "    fill_alpha=0.6,\n",
    "    line_color=\"lightgrey\",\n",
    ")\n",
    "\n",
    "# show the results\n",
    "show(p)"
   ]
  },
  {
   "cell_type": "markdown",
   "id": "3d56f211",
   "metadata": {},
   "source": [
    "\n",
    "In this example, the color and diameter of every circle correspond to the y value of that circle.\n",
    "\n",
    "Color mapping with palettes\n",
    "Bokeh comes with dozens of pre-defined color palettes that you can use to map colors to your data. This includes palettes from Brewer, D3, or Matplotlib. See palettes for a list of all available palettes.\n",
    "\n",
    "First, use the linear_cmap() function to create a color map for your data. The required attributes for this function are:\n",
    "- field_name: the data sequence to map colors to\n",
    "- palette: the palette to use\n",
    "- low: the lowest value to map a color to\n",
    "- high: the highest value to map a color to\n",
    "\n",
    "Then assign your color mapper to the color parameter of your renderer:"
   ]
  },
  {
   "cell_type": "code",
   "execution_count": 34,
   "id": "4e87a83f",
   "metadata": {},
   "outputs": [
    {
     "data": {
      "text/html": [
       "\n",
       "\n",
       "\n",
       "\n",
       "\n",
       "\n",
       "  <div class=\"bk-root\" id=\"787ae7ff-52eb-446b-9697-d94f7695f369\" data-root-id=\"8201\"></div>\n"
      ]
     },
     "metadata": {},
     "output_type": "display_data"
    },
    {
     "data": {
      "application/javascript": [
       "(function(root) {\n",
       "  function embed_document(root) {\n",
       "    \n",
       "  var docs_json = {\"26d92c41-1e7c-4f13-bccb-c26adfdf2785\":{\"roots\":{\"references\":[{\"attributes\":{\"below\":[{\"id\":\"8210\"}],\"center\":[{\"id\":\"8213\"},{\"id\":\"8217\"}],\"left\":[{\"id\":\"8214\"}],\"plot_height\":250,\"plot_width\":500,\"renderers\":[{\"id\":\"8235\"}],\"title\":{\"id\":\"8515\"},\"toolbar\":{\"id\":\"8225\"},\"x_range\":{\"id\":\"8202\"},\"x_scale\":{\"id\":\"8206\"},\"y_range\":{\"id\":\"8204\"},\"y_scale\":{\"id\":\"8208\"}},\"id\":\"8201\",\"subtype\":\"Figure\",\"type\":\"Plot\"},{\"attributes\":{\"axis\":{\"id\":\"8210\"},\"ticker\":null},\"id\":\"8213\",\"type\":\"Grid\"},{\"attributes\":{},\"id\":\"8215\",\"type\":\"BasicTicker\"},{\"attributes\":{\"data\":{\"x\":[-32,-31,-30,-29,-28,-27,-26,-25,-24,-23,-22,-21,-20,-19,-18,-17,-16,-15,-14,-13,-12,-11,-10,-9,-8,-7,-6,-5,-4,-3,-2,-1,0,1,2,3,4,5,6,7,8,9,10,11,12,13,14,15,16,17,18,19,20,21,22,23,24,25,26,27,28,29,30,31,32],\"y\":[1024,961,900,841,784,729,676,625,576,529,484,441,400,361,324,289,256,225,196,169,144,121,100,81,64,49,36,25,16,9,4,1,0,1,4,9,16,25,36,49,64,81,100,121,144,169,196,225,256,289,324,361,400,441,484,529,576,625,676,729,784,841,900,961,1024]},\"selected\":{\"id\":\"8522\"},\"selection_policy\":{\"id\":\"8521\"}},\"id\":\"8232\",\"type\":\"ColumnDataSource\"},{\"attributes\":{\"active_drag\":\"auto\",\"active_inspect\":\"auto\",\"active_multi\":null,\"active_scroll\":\"auto\",\"active_tap\":\"auto\",\"tools\":[{\"id\":\"8218\"},{\"id\":\"8219\"},{\"id\":\"8220\"},{\"id\":\"8221\"},{\"id\":\"8222\"},{\"id\":\"8223\"}]},\"id\":\"8225\",\"type\":\"Toolbar\"},{\"attributes\":{},\"id\":\"8219\",\"type\":\"WheelZoomTool\"},{\"attributes\":{\"fill_color\":{\"field\":\"y\",\"transform\":{\"id\":\"8200\"}},\"line_color\":{\"field\":\"y\",\"transform\":{\"id\":\"8200\"}},\"size\":{\"units\":\"screen\",\"value\":10},\"x\":{\"field\":\"x\"},\"y\":{\"field\":\"y\"}},\"id\":\"8233\",\"type\":\"Circle\"},{\"attributes\":{\"overlay\":{\"id\":\"8224\"}},\"id\":\"8220\",\"type\":\"BoxZoomTool\"},{\"attributes\":{\"fill_alpha\":{\"value\":0.1},\"fill_color\":{\"field\":\"y\",\"transform\":{\"id\":\"8200\"}},\"line_alpha\":{\"value\":0.1},\"line_color\":{\"field\":\"y\",\"transform\":{\"id\":\"8200\"}},\"size\":{\"units\":\"screen\",\"value\":10},\"x\":{\"field\":\"x\"},\"y\":{\"field\":\"y\"}},\"id\":\"8234\",\"type\":\"Circle\"},{\"attributes\":{},\"id\":\"8221\",\"type\":\"SaveTool\"},{\"attributes\":{},\"id\":\"8222\",\"type\":\"ResetTool\"},{\"attributes\":{\"data_source\":{\"id\":\"8232\"},\"glyph\":{\"id\":\"8233\"},\"hover_glyph\":null,\"muted_glyph\":null,\"nonselection_glyph\":{\"id\":\"8234\"},\"selection_glyph\":null,\"view\":{\"id\":\"8236\"}},\"id\":\"8235\",\"type\":\"GlyphRenderer\"},{\"attributes\":{\"source\":{\"id\":\"8232\"}},\"id\":\"8236\",\"type\":\"CDSView\"},{\"attributes\":{},\"id\":\"8517\",\"type\":\"BasicTickFormatter\"},{\"attributes\":{},\"id\":\"8202\",\"type\":\"DataRange1d\"},{\"attributes\":{\"text\":\"\",\"text_color\":{\"value\":\"#5B5B5B\"},\"text_font\":\"Calibri Light\",\"text_font_size\":{\"value\":\"1.25em\"},\"text_font_style\":\"bold\"},\"id\":\"8515\",\"type\":\"Title\"},{\"attributes\":{},\"id\":\"8519\",\"type\":\"BasicTickFormatter\"},{\"attributes\":{\"bottom_units\":\"screen\",\"fill_alpha\":0.5,\"fill_color\":\"lightgrey\",\"left_units\":\"screen\",\"level\":\"overlay\",\"line_alpha\":1.0,\"line_color\":\"black\",\"line_dash\":[4,4],\"line_width\":2,\"right_units\":\"screen\",\"top_units\":\"screen\"},\"id\":\"8224\",\"type\":\"BoxAnnotation\"},{\"attributes\":{\"axis_label_standoff\":10,\"axis_label_text_color\":\"#5B5B5B\",\"axis_label_text_font\":\"Calibri Light\",\"axis_label_text_font_size\":\"1.15em\",\"axis_label_text_font_style\":\"bold\",\"axis_line_alpha\":1,\"axis_line_color\":\"#5B5B5B\",\"formatter\":{\"id\":\"8517\"},\"major_label_text_color\":\"#5B5B5B\",\"major_label_text_font\":\"Calibri Light\",\"major_label_text_font_size\":\"0.95em\",\"major_label_text_font_style\":\"bold\",\"major_tick_in\":0,\"major_tick_line_alpha\":0.25,\"major_tick_line_color\":\"#5B5B5B\",\"major_tick_out\":3,\"minor_tick_line_alpha\":0.25,\"minor_tick_line_color\":\"#5B5B5B\",\"ticker\":{\"id\":\"8211\"}},\"id\":\"8210\",\"type\":\"LinearAxis\"},{\"attributes\":{},\"id\":\"8208\",\"type\":\"LinearScale\"},{\"attributes\":{\"axis_label_standoff\":10,\"axis_label_text_color\":\"#5B5B5B\",\"axis_label_text_font\":\"Calibri Light\",\"axis_label_text_font_size\":\"1.15em\",\"axis_label_text_font_style\":\"bold\",\"axis_line_alpha\":1,\"axis_line_color\":\"#5B5B5B\",\"formatter\":{\"id\":\"8519\"},\"major_label_text_color\":\"#5B5B5B\",\"major_label_text_font\":\"Calibri Light\",\"major_label_text_font_size\":\"0.95em\",\"major_label_text_font_style\":\"bold\",\"major_tick_in\":0,\"major_tick_line_alpha\":0.25,\"major_tick_line_color\":\"#5B5B5B\",\"major_tick_out\":3,\"minor_tick_line_alpha\":0.25,\"minor_tick_line_color\":\"#5B5B5B\",\"ticker\":{\"id\":\"8215\"}},\"id\":\"8214\",\"type\":\"LinearAxis\"},{\"attributes\":{},\"id\":\"8521\",\"type\":\"UnionRenderers\"},{\"attributes\":{},\"id\":\"8522\",\"type\":\"Selection\"},{\"attributes\":{},\"id\":\"8206\",\"type\":\"LinearScale\"},{\"attributes\":{},\"id\":\"8223\",\"type\":\"HelpTool\"},{\"attributes\":{},\"id\":\"8204\",\"type\":\"DataRange1d\"},{\"attributes\":{},\"id\":\"8218\",\"type\":\"PanTool\"},{\"attributes\":{},\"id\":\"8211\",\"type\":\"BasicTicker\"},{\"attributes\":{\"high\":1024,\"low\":0,\"palette\":[\"#30123b\",\"#311542\",\"#32184a\",\"#341b51\",\"#351e58\",\"#36215f\",\"#372365\",\"#38266c\",\"#392972\",\"#3a2c79\",\"#3b2f7f\",\"#3c3285\",\"#3c358b\",\"#3d3791\",\"#3e3a96\",\"#3f3d9c\",\"#4040a1\",\"#4043a6\",\"#4145ab\",\"#4148b0\",\"#424bb5\",\"#434eba\",\"#4350be\",\"#4353c2\",\"#4456c7\",\"#4458cb\",\"#455bce\",\"#455ed2\",\"#4560d6\",\"#4563d9\",\"#4666dd\",\"#4668e0\",\"#466be3\",\"#466de6\",\"#4670e8\",\"#4673eb\",\"#4675ed\",\"#4678f0\",\"#467af2\",\"#467df4\",\"#467ff6\",\"#4682f8\",\"#4584f9\",\"#4587fb\",\"#4589fc\",\"#448cfd\",\"#438efd\",\"#4291fe\",\"#4193fe\",\"#4096fe\",\"#3f98fe\",\"#3e9bfe\",\"#3c9dfd\",\"#3ba0fc\",\"#39a2fc\",\"#38a5fb\",\"#36a8f9\",\"#34aaf8\",\"#33acf6\",\"#31aff5\",\"#2fb1f3\",\"#2db4f1\",\"#2bb6ef\",\"#2ab9ed\",\"#28bbeb\",\"#26bde9\",\"#25c0e6\",\"#23c2e4\",\"#21c4e1\",\"#20c6df\",\"#1ec9dc\",\"#1dcbda\",\"#1ccdd7\",\"#1bcfd4\",\"#1ad1d2\",\"#19d3cf\",\"#18d5cc\",\"#18d7ca\",\"#17d9c7\",\"#17dac4\",\"#17dcc2\",\"#17debf\",\"#18e0bd\",\"#18e1ba\",\"#19e3b8\",\"#1ae4b6\",\"#1be5b4\",\"#1de7b1\",\"#1ee8af\",\"#20e9ac\",\"#22eba9\",\"#24eca6\",\"#27eda3\",\"#29eea0\",\"#2cef9d\",\"#2ff09a\",\"#32f197\",\"#35f394\",\"#38f491\",\"#3bf48d\",\"#3ff58a\",\"#42f687\",\"#46f783\",\"#4af880\",\"#4df97c\",\"#51f979\",\"#55fa76\",\"#59fb72\",\"#5dfb6f\",\"#61fc6c\",\"#65fc68\",\"#69fd65\",\"#6dfd62\",\"#71fd5f\",\"#74fe5c\",\"#78fe59\",\"#7cfe56\",\"#80fe53\",\"#84fe50\",\"#87fe4d\",\"#8bfe4b\",\"#8efe48\",\"#92fe46\",\"#95fe44\",\"#98fe42\",\"#9bfd40\",\"#9efd3e\",\"#a1fc3d\",\"#a4fc3b\",\"#a6fb3a\",\"#a9fb39\",\"#acfa37\",\"#aef937\",\"#b1f836\",\"#b3f835\",\"#b6f735\",\"#b9f534\",\"#bbf434\",\"#bef334\",\"#c0f233\",\"#c3f133\",\"#c5ef33\",\"#c8ee33\",\"#caed33\",\"#cdeb34\",\"#cfea34\",\"#d1e834\",\"#d4e735\",\"#d6e535\",\"#d8e335\",\"#dae236\",\"#dde036\",\"#dfde36\",\"#e1dc37\",\"#e3da37\",\"#e5d838\",\"#e7d738\",\"#e8d538\",\"#ead339\",\"#ecd139\",\"#edcf39\",\"#efcd39\",\"#f0cb3a\",\"#f2c83a\",\"#f3c63a\",\"#f4c43a\",\"#f6c23a\",\"#f7c039\",\"#f8be39\",\"#f9bc39\",\"#f9ba38\",\"#fab737\",\"#fbb537\",\"#fbb336\",\"#fcb035\",\"#fcae34\",\"#fdab33\",\"#fda932\",\"#fda631\",\"#fda330\",\"#fea12f\",\"#fe9e2e\",\"#fe9b2d\",\"#fe982c\",\"#fd952b\",\"#fd9229\",\"#fd8f28\",\"#fd8c27\",\"#fc8926\",\"#fc8624\",\"#fb8323\",\"#fb8022\",\"#fa7d20\",\"#fa7a1f\",\"#f9771e\",\"#f8741c\",\"#f7711b\",\"#f76e1a\",\"#f66b18\",\"#f56817\",\"#f46516\",\"#f36315\",\"#f26014\",\"#f15d13\",\"#ef5a11\",\"#ee5810\",\"#ed550f\",\"#ec520e\",\"#ea500d\",\"#e94d0d\",\"#e84b0c\",\"#e6490b\",\"#e5460a\",\"#e3440a\",\"#e24209\",\"#e04008\",\"#de3e08\",\"#dd3c07\",\"#db3a07\",\"#d93806\",\"#d73606\",\"#d63405\",\"#d43205\",\"#d23005\",\"#d02f04\",\"#ce2d04\",\"#cb2b03\",\"#c92903\",\"#c72803\",\"#c52602\",\"#c32402\",\"#c02302\",\"#be2102\",\"#bb1f01\",\"#b91e01\",\"#b61c01\",\"#b41b01\",\"#b11901\",\"#ae1801\",\"#ac1601\",\"#a91501\",\"#a61401\",\"#a31201\",\"#a01101\",\"#9d1001\",\"#9a0e01\",\"#970d01\",\"#940c01\",\"#910b01\",\"#8e0a01\",\"#8b0901\",\"#870801\",\"#840701\",\"#810602\",\"#7d0502\",\"#7a0402\"]},\"id\":\"8200\",\"type\":\"LinearColorMapper\"},{\"attributes\":{\"axis\":{\"id\":\"8214\"},\"dimension\":1,\"ticker\":null},\"id\":\"8217\",\"type\":\"Grid\"}],\"root_ids\":[\"8201\"]},\"title\":\"Bokeh Application\",\"version\":\"2.2.2\"}};\n",
       "  var render_items = [{\"docid\":\"26d92c41-1e7c-4f13-bccb-c26adfdf2785\",\"root_ids\":[\"8201\"],\"roots\":{\"8201\":\"787ae7ff-52eb-446b-9697-d94f7695f369\"}}];\n",
       "  root.Bokeh.embed.embed_items_notebook(docs_json, render_items);\n",
       "\n",
       "  }\n",
       "  if (root.Bokeh !== undefined) {\n",
       "    embed_document(root);\n",
       "  } else {\n",
       "    var attempts = 0;\n",
       "    var timer = setInterval(function(root) {\n",
       "      if (root.Bokeh !== undefined) {\n",
       "        clearInterval(timer);\n",
       "        embed_document(root);\n",
       "      } else {\n",
       "        attempts++;\n",
       "        if (attempts > 100) {\n",
       "          clearInterval(timer);\n",
       "          console.log(\"Bokeh: ERROR: Unable to run BokehJS code because BokehJS library is missing\");\n",
       "        }\n",
       "      }\n",
       "    }, 10, root)\n",
       "  }\n",
       "})(window);"
      ],
      "application/vnd.bokehjs_exec.v0+json": ""
     },
     "metadata": {
      "application/vnd.bokehjs_exec.v0+json": {
       "id": "8201"
      }
     },
     "output_type": "display_data"
    }
   ],
   "source": [
    "from bokeh.io import show\n",
    "from bokeh.palettes import Turbo256\n",
    "from bokeh.plotting import figure\n",
    "from bokeh.transform import linear_cmap\n",
    "\n",
    "# generate data\n",
    "x = list(range(-32, 33))\n",
    "y = [i**2 for i in x]\n",
    "\n",
    "# create linear color mapper\n",
    "mapper = linear_cmap(field_name=\"y\", palette=Turbo256, low=min(y), high=max(y))\n",
    "\n",
    "# create plot\n",
    "p = figure(width=500, height=250)\n",
    "\n",
    "# create circle renderer with color mapper\n",
    "p.circle(x, y, color=mapper, size=10)\n",
    "\n",
    "show(p)"
   ]
  },
  {
   "cell_type": "markdown",
   "id": "1ba2961c",
   "metadata": {},
   "source": [
    "For more information about color mapping and other similar operations, see Using mappers and Transforming data in the user guide. In addition to linear_cmap, this includes log_cmap and factor_cmap, for example.\n",
    "\n",
    "To learn more about Bokeh’s color palettes, see palettes in the reference guide. This document contains an overview of all available palettes and the various ways you can make those palettes available to your plots."
   ]
  },
  {
   "cell_type": "markdown",
   "id": "e3ddf91c",
   "metadata": {},
   "source": [
    "# First steps 6: Combining plots\n",
    "In the previous first steps guides, you created individual plots.\n",
    "\n",
    "In this section, you will combine several plots into different kinds of layouts.\n",
    "\n",
    "## Creating rows, columns, and grids\n",
    "The easiest way to combine individual plots is to assign them to rows or columns.\n",
    "\n",
    "To combine several plots into a horizontal row layout, you first need to import row. Then use the row() function when calling show():\n"
   ]
  },
  {
   "cell_type": "code",
   "execution_count": 35,
   "id": "56f7302c",
   "metadata": {},
   "outputs": [
    {
     "data": {
      "text/html": [
       "\n",
       "\n",
       "\n",
       "\n",
       "\n",
       "\n",
       "  <div class=\"bk-root\" id=\"8d2ec15a-9ef7-4d46-9cda-3297433b38c3\" data-root-id=\"8676\"></div>\n"
      ]
     },
     "metadata": {},
     "output_type": "display_data"
    },
    {
     "data": {
      "application/javascript": [
       "(function(root) {\n",
       "  function embed_document(root) {\n",
       "    \n",
       "  var docs_json = {\"c73757fb-953c-4a70-a6ba-5bb98b931c7b\":{\"roots\":{\"references\":[{\"attributes\":{\"children\":[{\"id\":\"8568\"},{\"id\":\"8604\"},{\"id\":\"8640\"}]},\"id\":\"8676\",\"type\":\"Row\"},{\"attributes\":{\"axis_label_standoff\":10,\"axis_label_text_color\":\"#5B5B5B\",\"axis_label_text_font\":\"Calibri Light\",\"axis_label_text_font_size\":\"1.15em\",\"axis_label_text_font_style\":\"bold\",\"axis_line_alpha\":1,\"axis_line_color\":\"#5B5B5B\",\"formatter\":{\"id\":\"8980\"},\"major_label_text_color\":\"#5B5B5B\",\"major_label_text_font\":\"Calibri Light\",\"major_label_text_font_size\":\"0.95em\",\"major_label_text_font_style\":\"bold\",\"major_tick_in\":0,\"major_tick_line_alpha\":0.25,\"major_tick_line_color\":\"#5B5B5B\",\"major_tick_out\":3,\"minor_tick_line_alpha\":0.25,\"minor_tick_line_color\":\"#5B5B5B\",\"ticker\":{\"id\":\"8654\"}},\"id\":\"8653\",\"type\":\"LinearAxis\"},{\"attributes\":{},\"id\":\"8662\",\"type\":\"HelpTool\"},{\"attributes\":{},\"id\":\"8650\",\"type\":\"BasicTicker\"},{\"attributes\":{\"axis\":{\"id\":\"8649\"},\"ticker\":null},\"id\":\"8652\",\"type\":\"Grid\"},{\"attributes\":{},\"id\":\"8985\",\"type\":\"UnionRenderers\"},{\"attributes\":{},\"id\":\"8614\",\"type\":\"BasicTicker\"},{\"attributes\":{},\"id\":\"8986\",\"type\":\"Selection\"},{\"attributes\":{\"source\":{\"id\":\"8599\"}},\"id\":\"8603\",\"type\":\"CDSView\"},{\"attributes\":{\"data_source\":{\"id\":\"8599\"},\"glyph\":{\"id\":\"8600\"},\"hover_glyph\":null,\"muted_glyph\":null,\"nonselection_glyph\":{\"id\":\"8601\"},\"selection_glyph\":null,\"view\":{\"id\":\"8603\"}},\"id\":\"8602\",\"type\":\"GlyphRenderer\"},{\"attributes\":{\"axis\":{\"id\":\"8653\"},\"dimension\":1,\"ticker\":null},\"id\":\"8656\",\"type\":\"Grid\"},{\"attributes\":{},\"id\":\"8654\",\"type\":\"BasicTicker\"},{\"attributes\":{\"fill_alpha\":{\"value\":0.1},\"fill_color\":{\"value\":\"#53777a\"},\"line_alpha\":{\"value\":0.1},\"line_color\":{\"value\":\"#53777a\"},\"size\":{\"units\":\"screen\",\"value\":12},\"x\":{\"field\":\"x\"},\"y\":{\"field\":\"y\"}},\"id\":\"8601\",\"type\":\"Circle\"},{\"attributes\":{},\"id\":\"8974\",\"type\":\"BasicTickFormatter\"},{\"attributes\":{\"fill_alpha\":{\"value\":0.8},\"fill_color\":{\"value\":\"#c02942\"},\"line_alpha\":{\"value\":0.8},\"line_color\":{\"value\":\"#c02942\"},\"size\":{\"units\":\"screen\",\"value\":12},\"x\":{\"field\":\"x\"},\"y\":{\"field\":\"y\"}},\"id\":\"8636\",\"type\":\"Triangle\"},{\"attributes\":{\"data\":{\"x\":[0,1,2,3,4,5,6,7,8,9,10],\"y\":[10,9,8,7,6,5,4,3,2,1,0]},\"selected\":{\"id\":\"8986\"},\"selection_policy\":{\"id\":\"8985\"}},\"id\":\"8635\",\"type\":\"ColumnDataSource\"},{\"attributes\":{},\"id\":\"8658\",\"type\":\"WheelZoomTool\"},{\"attributes\":{},\"id\":\"8605\",\"type\":\"DataRange1d\"},{\"attributes\":{},\"id\":\"8657\",\"type\":\"PanTool\"},{\"attributes\":{},\"id\":\"8607\",\"type\":\"DataRange1d\"},{\"attributes\":{\"overlay\":{\"id\":\"8663\"}},\"id\":\"8659\",\"type\":\"BoxZoomTool\"},{\"attributes\":{},\"id\":\"8660\",\"type\":\"SaveTool\"},{\"attributes\":{},\"id\":\"8611\",\"type\":\"LinearScale\"},{\"attributes\":{},\"id\":\"8976\",\"type\":\"BasicTickFormatter\"},{\"attributes\":{},\"id\":\"8661\",\"type\":\"ResetTool\"},{\"attributes\":{\"axis_label_standoff\":10,\"axis_label_text_color\":\"#5B5B5B\",\"axis_label_text_font\":\"Calibri Light\",\"axis_label_text_font_size\":\"1.15em\",\"axis_label_text_font_style\":\"bold\",\"axis_line_alpha\":1,\"axis_line_color\":\"#5B5B5B\",\"formatter\":{\"id\":\"8974\"},\"major_label_text_color\":\"#5B5B5B\",\"major_label_text_font\":\"Calibri Light\",\"major_label_text_font_size\":\"0.95em\",\"major_label_text_font_style\":\"bold\",\"major_tick_in\":0,\"major_tick_line_alpha\":0.25,\"major_tick_line_color\":\"#5B5B5B\",\"major_tick_out\":3,\"minor_tick_line_alpha\":0.25,\"minor_tick_line_color\":\"#5B5B5B\",\"ticker\":{\"id\":\"8614\"}},\"id\":\"8613\",\"type\":\"LinearAxis\"},{\"attributes\":{\"text\":\"\",\"text_color\":{\"value\":\"#5B5B5B\"},\"text_font\":\"Calibri Light\",\"text_font_size\":{\"value\":\"1.25em\"},\"text_font_style\":\"bold\"},\"id\":\"8964\",\"type\":\"Title\"},{\"attributes\":{\"axis_label_standoff\":10,\"axis_label_text_color\":\"#5B5B5B\",\"axis_label_text_font\":\"Calibri Light\",\"axis_label_text_font_size\":\"1.15em\",\"axis_label_text_font_style\":\"bold\",\"axis_line_alpha\":1,\"axis_line_color\":\"#5B5B5B\",\"formatter\":{\"id\":\"8976\"},\"major_label_text_color\":\"#5B5B5B\",\"major_label_text_font\":\"Calibri Light\",\"major_label_text_font_size\":\"0.95em\",\"major_label_text_font_style\":\"bold\",\"major_tick_in\":0,\"major_tick_line_alpha\":0.25,\"major_tick_line_color\":\"#5B5B5B\",\"major_tick_out\":3,\"minor_tick_line_alpha\":0.25,\"minor_tick_line_color\":\"#5B5B5B\",\"ticker\":{\"id\":\"8618\"}},\"id\":\"8617\",\"type\":\"LinearAxis\"},{\"attributes\":{},\"id\":\"8609\",\"type\":\"LinearScale\"},{\"attributes\":{},\"id\":\"8970\",\"type\":\"BasicTickFormatter\"},{\"attributes\":{},\"id\":\"8626\",\"type\":\"HelpTool\"},{\"attributes\":{\"axis\":{\"id\":\"8613\"},\"ticker\":null},\"id\":\"8616\",\"type\":\"Grid\"},{\"attributes\":{},\"id\":\"8988\",\"type\":\"UnionRenderers\"},{\"attributes\":{\"axis\":{\"id\":\"8617\"},\"dimension\":1,\"ticker\":null},\"id\":\"8620\",\"type\":\"Grid\"},{\"attributes\":{},\"id\":\"8989\",\"type\":\"Selection\"},{\"attributes\":{},\"id\":\"8618\",\"type\":\"BasicTicker\"},{\"attributes\":{},\"id\":\"8622\",\"type\":\"WheelZoomTool\"},{\"attributes\":{},\"id\":\"8621\",\"type\":\"PanTool\"},{\"attributes\":{\"overlay\":{\"id\":\"8627\"}},\"id\":\"8623\",\"type\":\"BoxZoomTool\"},{\"attributes\":{},\"id\":\"8624\",\"type\":\"SaveTool\"},{\"attributes\":{},\"id\":\"8625\",\"type\":\"ResetTool\"},{\"attributes\":{},\"id\":\"8647\",\"type\":\"LinearScale\"},{\"attributes\":{},\"id\":\"8978\",\"type\":\"BasicTickFormatter\"},{\"attributes\":{\"bottom_units\":\"screen\",\"fill_alpha\":0.5,\"fill_color\":\"lightgrey\",\"left_units\":\"screen\",\"level\":\"overlay\",\"line_alpha\":1.0,\"line_color\":\"black\",\"line_dash\":[4,4],\"line_width\":2,\"right_units\":\"screen\",\"top_units\":\"screen\"},\"id\":\"8663\",\"type\":\"BoxAnnotation\"},{\"attributes\":{\"text\":\"\",\"text_color\":{\"value\":\"#5B5B5B\"},\"text_font\":\"Calibri Light\",\"text_font_size\":{\"value\":\"1.25em\"},\"text_font_style\":\"bold\"},\"id\":\"8968\",\"type\":\"Title\"},{\"attributes\":{},\"id\":\"8980\",\"type\":\"BasicTickFormatter\"},{\"attributes\":{\"text\":\"\",\"text_color\":{\"value\":\"#5B5B5B\"},\"text_font\":\"Calibri Light\",\"text_font_size\":{\"value\":\"1.25em\"},\"text_font_style\":\"bold\"},\"id\":\"8966\",\"type\":\"Title\"},{\"attributes\":{\"source\":{\"id\":\"8671\"}},\"id\":\"8675\",\"type\":\"CDSView\"},{\"attributes\":{},\"id\":\"8645\",\"type\":\"LinearScale\"},{\"attributes\":{\"bottom_units\":\"screen\",\"fill_alpha\":0.5,\"fill_color\":\"lightgrey\",\"left_units\":\"screen\",\"level\":\"overlay\",\"line_alpha\":1.0,\"line_color\":\"black\",\"line_dash\":[4,4],\"line_width\":2,\"right_units\":\"screen\",\"top_units\":\"screen\"},\"id\":\"8627\",\"type\":\"BoxAnnotation\"},{\"attributes\":{\"active_drag\":\"auto\",\"active_inspect\":\"auto\",\"active_multi\":null,\"active_scroll\":\"auto\",\"active_tap\":\"auto\",\"tools\":[{\"id\":\"8657\"},{\"id\":\"8658\"},{\"id\":\"8659\"},{\"id\":\"8660\"},{\"id\":\"8661\"},{\"id\":\"8662\"}]},\"id\":\"8664\",\"type\":\"Toolbar\"},{\"attributes\":{\"data_source\":{\"id\":\"8671\"},\"glyph\":{\"id\":\"8672\"},\"hover_glyph\":null,\"muted_glyph\":null,\"nonselection_glyph\":{\"id\":\"8673\"},\"selection_glyph\":null,\"view\":{\"id\":\"8675\"}},\"id\":\"8674\",\"type\":\"GlyphRenderer\"},{\"attributes\":{\"fill_alpha\":{\"value\":0.1},\"fill_color\":{\"value\":\"#d95b43\"},\"line_alpha\":{\"value\":0.1},\"line_color\":{\"value\":\"#d95b43\"},\"size\":{\"units\":\"screen\",\"value\":12},\"x\":{\"field\":\"x\"},\"y\":{\"field\":\"y\"}},\"id\":\"8673\",\"type\":\"Square\"},{\"attributes\":{},\"id\":\"8982\",\"type\":\"UnionRenderers\"},{\"attributes\":{},\"id\":\"8643\",\"type\":\"DataRange1d\"},{\"attributes\":{},\"id\":\"8983\",\"type\":\"Selection\"},{\"attributes\":{\"active_drag\":\"auto\",\"active_inspect\":\"auto\",\"active_multi\":null,\"active_scroll\":\"auto\",\"active_tap\":\"auto\",\"tools\":[{\"id\":\"8621\"},{\"id\":\"8622\"},{\"id\":\"8623\"},{\"id\":\"8624\"},{\"id\":\"8625\"},{\"id\":\"8626\"}]},\"id\":\"8628\",\"type\":\"Toolbar\"},{\"attributes\":{},\"id\":\"8972\",\"type\":\"BasicTickFormatter\"},{\"attributes\":{\"source\":{\"id\":\"8635\"}},\"id\":\"8639\",\"type\":\"CDSView\"},{\"attributes\":{\"data_source\":{\"id\":\"8635\"},\"glyph\":{\"id\":\"8636\"},\"hover_glyph\":null,\"muted_glyph\":null,\"nonselection_glyph\":{\"id\":\"8637\"},\"selection_glyph\":null,\"view\":{\"id\":\"8639\"}},\"id\":\"8638\",\"type\":\"GlyphRenderer\"},{\"attributes\":{\"fill_alpha\":{\"value\":0.1},\"fill_color\":{\"value\":\"#c02942\"},\"line_alpha\":{\"value\":0.1},\"line_color\":{\"value\":\"#c02942\"},\"size\":{\"units\":\"screen\",\"value\":12},\"x\":{\"field\":\"x\"},\"y\":{\"field\":\"y\"}},\"id\":\"8637\",\"type\":\"Triangle\"},{\"attributes\":{\"fill_alpha\":{\"value\":0.8},\"fill_color\":{\"value\":\"#d95b43\"},\"line_alpha\":{\"value\":0.8},\"line_color\":{\"value\":\"#d95b43\"},\"size\":{\"units\":\"screen\",\"value\":12},\"x\":{\"field\":\"x\"},\"y\":{\"field\":\"y\"}},\"id\":\"8672\",\"type\":\"Square\"},{\"attributes\":{\"data\":{\"x\":[0,1,2,3,4,5,6,7,8,9,10],\"y\":[5,4,3,2,1,0,1,2,3,4,5]},\"selected\":{\"id\":\"8989\"},\"selection_policy\":{\"id\":\"8988\"}},\"id\":\"8671\",\"type\":\"ColumnDataSource\"},{\"attributes\":{},\"id\":\"8641\",\"type\":\"DataRange1d\"},{\"attributes\":{\"axis_label_standoff\":10,\"axis_label_text_color\":\"#5B5B5B\",\"axis_label_text_font\":\"Calibri Light\",\"axis_label_text_font_size\":\"1.15em\",\"axis_label_text_font_style\":\"bold\",\"axis_line_alpha\":1,\"axis_line_color\":\"#5B5B5B\",\"formatter\":{\"id\":\"8978\"},\"major_label_text_color\":\"#5B5B5B\",\"major_label_text_font\":\"Calibri Light\",\"major_label_text_font_size\":\"0.95em\",\"major_label_text_font_style\":\"bold\",\"major_tick_in\":0,\"major_tick_line_alpha\":0.25,\"major_tick_line_color\":\"#5B5B5B\",\"major_tick_out\":3,\"minor_tick_line_alpha\":0.25,\"minor_tick_line_color\":\"#5B5B5B\",\"ticker\":{\"id\":\"8650\"}},\"id\":\"8649\",\"type\":\"LinearAxis\"},{\"attributes\":{\"background_fill_color\":\"#fafafa\",\"below\":[{\"id\":\"8577\"}],\"center\":[{\"id\":\"8580\"},{\"id\":\"8584\"}],\"left\":[{\"id\":\"8581\"}],\"plot_height\":250,\"plot_width\":250,\"renderers\":[{\"id\":\"8602\"}],\"title\":{\"id\":\"8964\"},\"toolbar\":{\"id\":\"8592\"},\"x_range\":{\"id\":\"8569\"},\"x_scale\":{\"id\":\"8573\"},\"y_range\":{\"id\":\"8571\"},\"y_scale\":{\"id\":\"8575\"}},\"id\":\"8568\",\"subtype\":\"Figure\",\"type\":\"Plot\"},{\"attributes\":{},\"id\":\"8571\",\"type\":\"DataRange1d\"},{\"attributes\":{\"fill_alpha\":{\"value\":0.8},\"fill_color\":{\"value\":\"#53777a\"},\"line_alpha\":{\"value\":0.8},\"line_color\":{\"value\":\"#53777a\"},\"size\":{\"units\":\"screen\",\"value\":12},\"x\":{\"field\":\"x\"},\"y\":{\"field\":\"y\"}},\"id\":\"8600\",\"type\":\"Circle\"},{\"attributes\":{\"background_fill_color\":\"#fafafa\",\"below\":[{\"id\":\"8649\"}],\"center\":[{\"id\":\"8652\"},{\"id\":\"8656\"}],\"left\":[{\"id\":\"8653\"}],\"plot_height\":250,\"plot_width\":250,\"renderers\":[{\"id\":\"8674\"}],\"title\":{\"id\":\"8968\"},\"toolbar\":{\"id\":\"8664\"},\"x_range\":{\"id\":\"8641\"},\"x_scale\":{\"id\":\"8645\"},\"y_range\":{\"id\":\"8643\"},\"y_scale\":{\"id\":\"8647\"}},\"id\":\"8640\",\"subtype\":\"Figure\",\"type\":\"Plot\"},{\"attributes\":{},\"id\":\"8575\",\"type\":\"LinearScale\"},{\"attributes\":{\"axis_label_standoff\":10,\"axis_label_text_color\":\"#5B5B5B\",\"axis_label_text_font\":\"Calibri Light\",\"axis_label_text_font_size\":\"1.15em\",\"axis_label_text_font_style\":\"bold\",\"axis_line_alpha\":1,\"axis_line_color\":\"#5B5B5B\",\"formatter\":{\"id\":\"8970\"},\"major_label_text_color\":\"#5B5B5B\",\"major_label_text_font\":\"Calibri Light\",\"major_label_text_font_size\":\"0.95em\",\"major_label_text_font_style\":\"bold\",\"major_tick_in\":0,\"major_tick_line_alpha\":0.25,\"major_tick_line_color\":\"#5B5B5B\",\"major_tick_out\":3,\"minor_tick_line_alpha\":0.25,\"minor_tick_line_color\":\"#5B5B5B\",\"ticker\":{\"id\":\"8578\"}},\"id\":\"8577\",\"type\":\"LinearAxis\"},{\"attributes\":{},\"id\":\"8569\",\"type\":\"DataRange1d\"},{\"attributes\":{\"axis_label_standoff\":10,\"axis_label_text_color\":\"#5B5B5B\",\"axis_label_text_font\":\"Calibri Light\",\"axis_label_text_font_size\":\"1.15em\",\"axis_label_text_font_style\":\"bold\",\"axis_line_alpha\":1,\"axis_line_color\":\"#5B5B5B\",\"formatter\":{\"id\":\"8972\"},\"major_label_text_color\":\"#5B5B5B\",\"major_label_text_font\":\"Calibri Light\",\"major_label_text_font_size\":\"0.95em\",\"major_label_text_font_style\":\"bold\",\"major_tick_in\":0,\"major_tick_line_alpha\":0.25,\"major_tick_line_color\":\"#5B5B5B\",\"major_tick_out\":3,\"minor_tick_line_alpha\":0.25,\"minor_tick_line_color\":\"#5B5B5B\",\"ticker\":{\"id\":\"8582\"}},\"id\":\"8581\",\"type\":\"LinearAxis\"},{\"attributes\":{},\"id\":\"8573\",\"type\":\"LinearScale\"},{\"attributes\":{},\"id\":\"8590\",\"type\":\"HelpTool\"},{\"attributes\":{},\"id\":\"8578\",\"type\":\"BasicTicker\"},{\"attributes\":{\"axis\":{\"id\":\"8577\"},\"ticker\":null},\"id\":\"8580\",\"type\":\"Grid\"},{\"attributes\":{\"background_fill_color\":\"#fafafa\",\"below\":[{\"id\":\"8613\"}],\"center\":[{\"id\":\"8616\"},{\"id\":\"8620\"}],\"left\":[{\"id\":\"8617\"}],\"plot_height\":250,\"plot_width\":250,\"renderers\":[{\"id\":\"8638\"}],\"title\":{\"id\":\"8966\"},\"toolbar\":{\"id\":\"8628\"},\"x_range\":{\"id\":\"8605\"},\"x_scale\":{\"id\":\"8609\"},\"y_range\":{\"id\":\"8607\"},\"y_scale\":{\"id\":\"8611\"}},\"id\":\"8604\",\"subtype\":\"Figure\",\"type\":\"Plot\"},{\"attributes\":{\"data\":{\"x\":[0,1,2,3,4,5,6,7,8,9,10],\"y\":[0,1,2,3,4,5,6,7,8,9,10]},\"selected\":{\"id\":\"8983\"},\"selection_policy\":{\"id\":\"8982\"}},\"id\":\"8599\",\"type\":\"ColumnDataSource\"},{\"attributes\":{\"axis\":{\"id\":\"8581\"},\"dimension\":1,\"ticker\":null},\"id\":\"8584\",\"type\":\"Grid\"},{\"attributes\":{},\"id\":\"8582\",\"type\":\"BasicTicker\"},{\"attributes\":{},\"id\":\"8586\",\"type\":\"WheelZoomTool\"},{\"attributes\":{},\"id\":\"8585\",\"type\":\"PanTool\"},{\"attributes\":{\"overlay\":{\"id\":\"8591\"}},\"id\":\"8587\",\"type\":\"BoxZoomTool\"},{\"attributes\":{},\"id\":\"8588\",\"type\":\"SaveTool\"},{\"attributes\":{},\"id\":\"8589\",\"type\":\"ResetTool\"},{\"attributes\":{\"active_drag\":\"auto\",\"active_inspect\":\"auto\",\"active_multi\":null,\"active_scroll\":\"auto\",\"active_tap\":\"auto\",\"tools\":[{\"id\":\"8585\"},{\"id\":\"8586\"},{\"id\":\"8587\"},{\"id\":\"8588\"},{\"id\":\"8589\"},{\"id\":\"8590\"}]},\"id\":\"8592\",\"type\":\"Toolbar\"},{\"attributes\":{\"bottom_units\":\"screen\",\"fill_alpha\":0.5,\"fill_color\":\"lightgrey\",\"left_units\":\"screen\",\"level\":\"overlay\",\"line_alpha\":1.0,\"line_color\":\"black\",\"line_dash\":[4,4],\"line_width\":2,\"right_units\":\"screen\",\"top_units\":\"screen\"},\"id\":\"8591\",\"type\":\"BoxAnnotation\"}],\"root_ids\":[\"8676\"]},\"title\":\"Bokeh Application\",\"version\":\"2.2.2\"}};\n",
       "  var render_items = [{\"docid\":\"c73757fb-953c-4a70-a6ba-5bb98b931c7b\",\"root_ids\":[\"8676\"],\"roots\":{\"8676\":\"8d2ec15a-9ef7-4d46-9cda-3297433b38c3\"}}];\n",
       "  root.Bokeh.embed.embed_items_notebook(docs_json, render_items);\n",
       "\n",
       "  }\n",
       "  if (root.Bokeh !== undefined) {\n",
       "    embed_document(root);\n",
       "  } else {\n",
       "    var attempts = 0;\n",
       "    var timer = setInterval(function(root) {\n",
       "      if (root.Bokeh !== undefined) {\n",
       "        clearInterval(timer);\n",
       "        embed_document(root);\n",
       "      } else {\n",
       "        attempts++;\n",
       "        if (attempts > 100) {\n",
       "          clearInterval(timer);\n",
       "          console.log(\"Bokeh: ERROR: Unable to run BokehJS code because BokehJS library is missing\");\n",
       "        }\n",
       "      }\n",
       "    }, 10, root)\n",
       "  }\n",
       "})(window);"
      ],
      "application/vnd.bokehjs_exec.v0+json": ""
     },
     "metadata": {
      "application/vnd.bokehjs_exec.v0+json": {
       "id": "8676"
      }
     },
     "output_type": "display_data"
    }
   ],
   "source": [
    "from bokeh.layouts import row\n",
    "\n",
    "# prepare some data\n",
    "x = list(range(11))\n",
    "y0 = x\n",
    "y1 = [10 - i for i in x]\n",
    "y2 = [abs(i - 5) for i in x]\n",
    "\n",
    "# create three plots with one renderer each\n",
    "s1 = figure(width=250, height=250, background_fill_color=\"#fafafa\")\n",
    "s1.circle(x, y0, size=12, color=\"#53777a\", alpha=0.8)\n",
    "\n",
    "s2 = figure(width=250, height=250, background_fill_color=\"#fafafa\")\n",
    "s2.triangle(x, y1, size=12, color=\"#c02942\", alpha=0.8)\n",
    "\n",
    "s3 = figure(width=250, height=250, background_fill_color=\"#fafafa\")\n",
    "s3.square(x, y2, size=12, color=\"#d95b43\", alpha=0.8)\n",
    "\n",
    "# put the results in a row and show\n",
    "show(row(s1, s2, s3))"
   ]
  },
  {
   "cell_type": "markdown",
   "id": "c13ebad9",
   "metadata": {},
   "source": [
    "To display several plots in a vertical column layout, use the column() function instead.\n",
    "\n",
    "A more flexible way to arrange elements in Bokeh is to use the gridplot() function.\n",
    "\n",
    "For more information on row(), column(), and gridplot(), see Creating layouts in the user guide.\n",
    "\n",
    "## Defining sizing behavior\n",
    "You can use the functions row(), column(), and gridplot() with additional arguments to define how Bokeh scales the individual plots. See sizing_mode for a list of all sizing modes that Bokeh supports.\n",
    "\n",
    "For example: To make all plots in a row responsively fill the available width of the browser window, assign scale_width to sizing_mode:\n"
   ]
  },
  {
   "cell_type": "code",
   "execution_count": 36,
   "id": "1293cf59",
   "metadata": {},
   "outputs": [
    {
     "data": {
      "text/html": [
       "\n",
       "\n",
       "\n",
       "\n",
       "\n",
       "\n",
       "  <div class=\"bk-root\" id=\"4ae17f2e-43f4-4222-a53e-a749ec0aa87d\" data-root-id=\"9233\"></div>\n"
      ]
     },
     "metadata": {},
     "output_type": "display_data"
    },
    {
     "data": {
      "application/javascript": [
       "(function(root) {\n",
       "  function embed_document(root) {\n",
       "    \n",
       "  var docs_json = {\"8334d974-b1ca-4716-be5e-d3bd6766643a\":{\"roots\":{\"references\":[{\"attributes\":{\"children\":[{\"id\":\"9125\"},{\"id\":\"9161\"},{\"id\":\"9197\"}],\"sizing_mode\":\"scale_width\"},\"id\":\"9233\",\"type\":\"Row\"},{\"attributes\":{\"bottom_units\":\"screen\",\"fill_alpha\":0.5,\"fill_color\":\"lightgrey\",\"left_units\":\"screen\",\"level\":\"overlay\",\"line_alpha\":1.0,\"line_color\":\"black\",\"line_dash\":[4,4],\"line_width\":2,\"right_units\":\"screen\",\"top_units\":\"screen\"},\"id\":\"9184\",\"type\":\"BoxAnnotation\"},{\"attributes\":{\"axis_label_standoff\":10,\"axis_label_text_color\":\"#5B5B5B\",\"axis_label_text_font\":\"Calibri Light\",\"axis_label_text_font_size\":\"1.15em\",\"axis_label_text_font_style\":\"bold\",\"axis_line_alpha\":1,\"axis_line_color\":\"#5B5B5B\",\"formatter\":{\"id\":\"9564\"},\"major_label_text_color\":\"#5B5B5B\",\"major_label_text_font\":\"Calibri Light\",\"major_label_text_font_size\":\"0.95em\",\"major_label_text_font_style\":\"bold\",\"major_tick_in\":0,\"major_tick_line_alpha\":0.25,\"major_tick_line_color\":\"#5B5B5B\",\"major_tick_out\":3,\"minor_tick_line_alpha\":0.25,\"minor_tick_line_color\":\"#5B5B5B\",\"ticker\":{\"id\":\"9211\"}},\"id\":\"9210\",\"type\":\"LinearAxis\"},{\"attributes\":{},\"id\":\"9566\",\"type\":\"UnionRenderers\"},{\"attributes\":{},\"id\":\"9567\",\"type\":\"Selection\"},{\"attributes\":{\"source\":{\"id\":\"9192\"}},\"id\":\"9196\",\"type\":\"CDSView\"},{\"attributes\":{\"text\":\"\",\"text_color\":{\"value\":\"#5B5B5B\"},\"text_font\":\"Calibri Light\",\"text_font_size\":{\"value\":\"1.25em\"},\"text_font_style\":\"bold\"},\"id\":\"9548\",\"type\":\"Title\"},{\"attributes\":{\"data_source\":{\"id\":\"9192\"},\"glyph\":{\"id\":\"9193\"},\"hover_glyph\":null,\"muted_glyph\":null,\"nonselection_glyph\":{\"id\":\"9194\"},\"selection_glyph\":null,\"view\":{\"id\":\"9196\"}},\"id\":\"9195\",\"type\":\"GlyphRenderer\"},{\"attributes\":{},\"id\":\"9130\",\"type\":\"LinearScale\"},{\"attributes\":{\"fill_alpha\":{\"value\":0.1},\"fill_color\":{\"value\":\"#c02942\"},\"line_alpha\":{\"value\":0.1},\"line_color\":{\"value\":\"#c02942\"},\"size\":{\"units\":\"screen\",\"value\":12},\"x\":{\"field\":\"x\"},\"y\":{\"field\":\"y\"}},\"id\":\"9194\",\"type\":\"Triangle\"},{\"attributes\":{\"fill_alpha\":{\"value\":0.8},\"fill_color\":{\"value\":\"#d95b43\"},\"line_alpha\":{\"value\":0.8},\"line_color\":{\"value\":\"#d95b43\"},\"size\":{\"units\":\"screen\",\"value\":12},\"x\":{\"field\":\"x\"},\"y\":{\"field\":\"y\"}},\"id\":\"9229\",\"type\":\"Square\"},{\"attributes\":{\"data\":{\"x\":[0,1,2,3,4,5,6,7,8,9,10],\"y\":[5,4,3,2,1,0,1,2,3,4,5]},\"selected\":{\"id\":\"9573\"},\"selection_policy\":{\"id\":\"9572\"}},\"id\":\"9228\",\"type\":\"ColumnDataSource\"},{\"attributes\":{},\"id\":\"9198\",\"type\":\"DataRange1d\"},{\"attributes\":{},\"id\":\"9132\",\"type\":\"LinearScale\"},{\"attributes\":{},\"id\":\"9200\",\"type\":\"DataRange1d\"},{\"attributes\":{},\"id\":\"9204\",\"type\":\"LinearScale\"},{\"attributes\":{\"axis_label_standoff\":10,\"axis_label_text_color\":\"#5B5B5B\",\"axis_label_text_font\":\"Calibri Light\",\"axis_label_text_font_size\":\"1.15em\",\"axis_label_text_font_style\":\"bold\",\"axis_line_alpha\":1,\"axis_line_color\":\"#5B5B5B\",\"formatter\":{\"id\":\"9562\"},\"major_label_text_color\":\"#5B5B5B\",\"major_label_text_font\":\"Calibri Light\",\"major_label_text_font_size\":\"0.95em\",\"major_label_text_font_style\":\"bold\",\"major_tick_in\":0,\"major_tick_line_alpha\":0.25,\"major_tick_line_color\":\"#5B5B5B\",\"major_tick_out\":3,\"minor_tick_line_alpha\":0.25,\"minor_tick_line_color\":\"#5B5B5B\",\"ticker\":{\"id\":\"9207\"}},\"id\":\"9206\",\"type\":\"LinearAxis\"},{\"attributes\":{},\"id\":\"9202\",\"type\":\"LinearScale\"},{\"attributes\":{},\"id\":\"9147\",\"type\":\"HelpTool\"},{\"attributes\":{},\"id\":\"9219\",\"type\":\"HelpTool\"},{\"attributes\":{},\"id\":\"9207\",\"type\":\"BasicTicker\"},{\"attributes\":{\"axis\":{\"id\":\"9206\"},\"ticker\":null},\"id\":\"9209\",\"type\":\"Grid\"},{\"attributes\":{},\"id\":\"9146\",\"type\":\"ResetTool\"},{\"attributes\":{\"background_fill_color\":\"#fafafa\",\"below\":[{\"id\":\"9134\"}],\"center\":[{\"id\":\"9137\"},{\"id\":\"9141\"}],\"left\":[{\"id\":\"9138\"}],\"plot_height\":250,\"plot_width\":250,\"renderers\":[{\"id\":\"9159\"}],\"sizing_mode\":\"scale_width\",\"title\":{\"id\":\"9548\"},\"toolbar\":{\"id\":\"9149\"},\"x_range\":{\"id\":\"9126\"},\"x_scale\":{\"id\":\"9130\"},\"y_range\":{\"id\":\"9128\"},\"y_scale\":{\"id\":\"9132\"}},\"id\":\"9125\",\"subtype\":\"Figure\",\"type\":\"Plot\"},{\"attributes\":{},\"id\":\"9569\",\"type\":\"UnionRenderers\"},{\"attributes\":{},\"id\":\"9570\",\"type\":\"Selection\"},{\"attributes\":{\"axis\":{\"id\":\"9210\"},\"dimension\":1,\"ticker\":null},\"id\":\"9213\",\"type\":\"Grid\"},{\"attributes\":{},\"id\":\"9211\",\"type\":\"BasicTicker\"},{\"attributes\":{\"active_drag\":\"auto\",\"active_inspect\":\"auto\",\"active_multi\":null,\"active_scroll\":\"auto\",\"active_tap\":\"auto\",\"tools\":[{\"id\":\"9214\"},{\"id\":\"9215\"},{\"id\":\"9216\"},{\"id\":\"9217\"},{\"id\":\"9218\"},{\"id\":\"9219\"}]},\"id\":\"9221\",\"type\":\"Toolbar\"},{\"attributes\":{\"axis\":{\"id\":\"9138\"},\"dimension\":1,\"ticker\":null},\"id\":\"9141\",\"type\":\"Grid\"},{\"attributes\":{},\"id\":\"9215\",\"type\":\"WheelZoomTool\"},{\"attributes\":{},\"id\":\"9214\",\"type\":\"PanTool\"},{\"attributes\":{\"fill_alpha\":{\"value\":0.8},\"fill_color\":{\"value\":\"#53777a\"},\"line_alpha\":{\"value\":0.8},\"line_color\":{\"value\":\"#53777a\"},\"size\":{\"units\":\"screen\",\"value\":12},\"x\":{\"field\":\"x\"},\"y\":{\"field\":\"y\"}},\"id\":\"9157\",\"type\":\"Circle\"},{\"attributes\":{\"overlay\":{\"id\":\"9220\"}},\"id\":\"9216\",\"type\":\"BoxZoomTool\"},{\"attributes\":{\"axis\":{\"id\":\"9134\"},\"ticker\":null},\"id\":\"9137\",\"type\":\"Grid\"},{\"attributes\":{},\"id\":\"9217\",\"type\":\"SaveTool\"},{\"attributes\":{},\"id\":\"9145\",\"type\":\"SaveTool\"},{\"attributes\":{},\"id\":\"9218\",\"type\":\"ResetTool\"},{\"attributes\":{\"axis_label_standoff\":10,\"axis_label_text_color\":\"#5B5B5B\",\"axis_label_text_font\":\"Calibri Light\",\"axis_label_text_font_size\":\"1.15em\",\"axis_label_text_font_style\":\"bold\",\"axis_line_alpha\":1,\"axis_line_color\":\"#5B5B5B\",\"formatter\":{\"id\":\"9554\"},\"major_label_text_color\":\"#5B5B5B\",\"major_label_text_font\":\"Calibri Light\",\"major_label_text_font_size\":\"0.95em\",\"major_label_text_font_style\":\"bold\",\"major_tick_in\":0,\"major_tick_line_alpha\":0.25,\"major_tick_line_color\":\"#5B5B5B\",\"major_tick_out\":3,\"minor_tick_line_alpha\":0.25,\"minor_tick_line_color\":\"#5B5B5B\",\"ticker\":{\"id\":\"9135\"}},\"id\":\"9134\",\"type\":\"LinearAxis\"},{\"attributes\":{},\"id\":\"9142\",\"type\":\"PanTool\"},{\"attributes\":{},\"id\":\"9143\",\"type\":\"WheelZoomTool\"},{\"attributes\":{},\"id\":\"9572\",\"type\":\"UnionRenderers\"},{\"attributes\":{\"overlay\":{\"id\":\"9148\"}},\"id\":\"9144\",\"type\":\"BoxZoomTool\"},{\"attributes\":{},\"id\":\"9573\",\"type\":\"Selection\"},{\"attributes\":{},\"id\":\"9126\",\"type\":\"DataRange1d\"},{\"attributes\":{\"data\":{\"x\":[0,1,2,3,4,5,6,7,8,9,10],\"y\":[0,1,2,3,4,5,6,7,8,9,10]},\"selected\":{\"id\":\"9567\"},\"selection_policy\":{\"id\":\"9566\"}},\"id\":\"9156\",\"type\":\"ColumnDataSource\"},{\"attributes\":{},\"id\":\"9139\",\"type\":\"BasicTicker\"},{\"attributes\":{\"axis_label_standoff\":10,\"axis_label_text_color\":\"#5B5B5B\",\"axis_label_text_font\":\"Calibri Light\",\"axis_label_text_font_size\":\"1.15em\",\"axis_label_text_font_style\":\"bold\",\"axis_line_alpha\":1,\"axis_line_color\":\"#5B5B5B\",\"formatter\":{\"id\":\"9556\"},\"major_label_text_color\":\"#5B5B5B\",\"major_label_text_font\":\"Calibri Light\",\"major_label_text_font_size\":\"0.95em\",\"major_label_text_font_style\":\"bold\",\"major_tick_in\":0,\"major_tick_line_alpha\":0.25,\"major_tick_line_color\":\"#5B5B5B\",\"major_tick_out\":3,\"minor_tick_line_alpha\":0.25,\"minor_tick_line_color\":\"#5B5B5B\",\"ticker\":{\"id\":\"9139\"}},\"id\":\"9138\",\"type\":\"LinearAxis\"},{\"attributes\":{\"active_drag\":\"auto\",\"active_inspect\":\"auto\",\"active_multi\":null,\"active_scroll\":\"auto\",\"active_tap\":\"auto\",\"tools\":[{\"id\":\"9142\"},{\"id\":\"9143\"},{\"id\":\"9144\"},{\"id\":\"9145\"},{\"id\":\"9146\"},{\"id\":\"9147\"}]},\"id\":\"9149\",\"type\":\"Toolbar\"},{\"attributes\":{\"bottom_units\":\"screen\",\"fill_alpha\":0.5,\"fill_color\":\"lightgrey\",\"left_units\":\"screen\",\"level\":\"overlay\",\"line_alpha\":1.0,\"line_color\":\"black\",\"line_dash\":[4,4],\"line_width\":2,\"right_units\":\"screen\",\"top_units\":\"screen\"},\"id\":\"9220\",\"type\":\"BoxAnnotation\"},{\"attributes\":{\"background_fill_color\":\"#fafafa\",\"below\":[{\"id\":\"9170\"}],\"center\":[{\"id\":\"9173\"},{\"id\":\"9177\"}],\"left\":[{\"id\":\"9174\"}],\"plot_height\":250,\"plot_width\":250,\"renderers\":[{\"id\":\"9195\"}],\"sizing_mode\":\"scale_width\",\"title\":{\"id\":\"9550\"},\"toolbar\":{\"id\":\"9185\"},\"x_range\":{\"id\":\"9162\"},\"x_scale\":{\"id\":\"9166\"},\"y_range\":{\"id\":\"9164\"},\"y_scale\":{\"id\":\"9168\"}},\"id\":\"9161\",\"subtype\":\"Figure\",\"type\":\"Plot\"},{\"attributes\":{},\"id\":\"9135\",\"type\":\"BasicTicker\"},{\"attributes\":{\"background_fill_color\":\"#fafafa\",\"below\":[{\"id\":\"9206\"}],\"center\":[{\"id\":\"9209\"},{\"id\":\"9213\"}],\"left\":[{\"id\":\"9210\"}],\"plot_height\":250,\"plot_width\":250,\"renderers\":[{\"id\":\"9231\"}],\"sizing_mode\":\"scale_width\",\"title\":{\"id\":\"9552\"},\"toolbar\":{\"id\":\"9221\"},\"x_range\":{\"id\":\"9198\"},\"x_scale\":{\"id\":\"9202\"},\"y_range\":{\"id\":\"9200\"},\"y_scale\":{\"id\":\"9204\"}},\"id\":\"9197\",\"subtype\":\"Figure\",\"type\":\"Plot\"},{\"attributes\":{},\"id\":\"9128\",\"type\":\"DataRange1d\"},{\"attributes\":{\"text\":\"\",\"text_color\":{\"value\":\"#5B5B5B\"},\"text_font\":\"Calibri Light\",\"text_font_size\":{\"value\":\"1.25em\"},\"text_font_style\":\"bold\"},\"id\":\"9552\",\"type\":\"Title\"},{\"attributes\":{\"text\":\"\",\"text_color\":{\"value\":\"#5B5B5B\"},\"text_font\":\"Calibri Light\",\"text_font_size\":{\"value\":\"1.25em\"},\"text_font_style\":\"bold\"},\"id\":\"9550\",\"type\":\"Title\"},{\"attributes\":{\"bottom_units\":\"screen\",\"fill_alpha\":0.5,\"fill_color\":\"lightgrey\",\"left_units\":\"screen\",\"level\":\"overlay\",\"line_alpha\":1.0,\"line_color\":\"black\",\"line_dash\":[4,4],\"line_width\":2,\"right_units\":\"screen\",\"top_units\":\"screen\"},\"id\":\"9148\",\"type\":\"BoxAnnotation\"},{\"attributes\":{},\"id\":\"9554\",\"type\":\"BasicTickFormatter\"},{\"attributes\":{},\"id\":\"9556\",\"type\":\"BasicTickFormatter\"},{\"attributes\":{\"fill_alpha\":{\"value\":0.1},\"fill_color\":{\"value\":\"#d95b43\"},\"line_alpha\":{\"value\":0.1},\"line_color\":{\"value\":\"#d95b43\"},\"size\":{\"units\":\"screen\",\"value\":12},\"x\":{\"field\":\"x\"},\"y\":{\"field\":\"y\"}},\"id\":\"9230\",\"type\":\"Square\"},{\"attributes\":{},\"id\":\"9164\",\"type\":\"DataRange1d\"},{\"attributes\":{\"axis_label_standoff\":10,\"axis_label_text_color\":\"#5B5B5B\",\"axis_label_text_font\":\"Calibri Light\",\"axis_label_text_font_size\":\"1.15em\",\"axis_label_text_font_style\":\"bold\",\"axis_line_alpha\":1,\"axis_line_color\":\"#5B5B5B\",\"formatter\":{\"id\":\"9558\"},\"major_label_text_color\":\"#5B5B5B\",\"major_label_text_font\":\"Calibri Light\",\"major_label_text_font_size\":\"0.95em\",\"major_label_text_font_style\":\"bold\",\"major_tick_in\":0,\"major_tick_line_alpha\":0.25,\"major_tick_line_color\":\"#5B5B5B\",\"major_tick_out\":3,\"minor_tick_line_alpha\":0.25,\"minor_tick_line_color\":\"#5B5B5B\",\"ticker\":{\"id\":\"9171\"}},\"id\":\"9170\",\"type\":\"LinearAxis\"},{\"attributes\":{\"source\":{\"id\":\"9156\"}},\"id\":\"9160\",\"type\":\"CDSView\"},{\"attributes\":{\"data_source\":{\"id\":\"9156\"},\"glyph\":{\"id\":\"9157\"},\"hover_glyph\":null,\"muted_glyph\":null,\"nonselection_glyph\":{\"id\":\"9158\"},\"selection_glyph\":null,\"view\":{\"id\":\"9160\"}},\"id\":\"9159\",\"type\":\"GlyphRenderer\"},{\"attributes\":{\"fill_alpha\":{\"value\":0.1},\"fill_color\":{\"value\":\"#53777a\"},\"line_alpha\":{\"value\":0.1},\"line_color\":{\"value\":\"#53777a\"},\"size\":{\"units\":\"screen\",\"value\":12},\"x\":{\"field\":\"x\"},\"y\":{\"field\":\"y\"}},\"id\":\"9158\",\"type\":\"Circle\"},{\"attributes\":{\"fill_alpha\":{\"value\":0.8},\"fill_color\":{\"value\":\"#c02942\"},\"line_alpha\":{\"value\":0.8},\"line_color\":{\"value\":\"#c02942\"},\"size\":{\"units\":\"screen\",\"value\":12},\"x\":{\"field\":\"x\"},\"y\":{\"field\":\"y\"}},\"id\":\"9193\",\"type\":\"Triangle\"},{\"attributes\":{\"data\":{\"x\":[0,1,2,3,4,5,6,7,8,9,10],\"y\":[10,9,8,7,6,5,4,3,2,1,0]},\"selected\":{\"id\":\"9570\"},\"selection_policy\":{\"id\":\"9569\"}},\"id\":\"9192\",\"type\":\"ColumnDataSource\"},{\"attributes\":{},\"id\":\"9162\",\"type\":\"DataRange1d\"},{\"attributes\":{},\"id\":\"9558\",\"type\":\"BasicTickFormatter\"},{\"attributes\":{},\"id\":\"9168\",\"type\":\"LinearScale\"},{\"attributes\":{},\"id\":\"9183\",\"type\":\"HelpTool\"},{\"attributes\":{},\"id\":\"9166\",\"type\":\"LinearScale\"},{\"attributes\":{},\"id\":\"9560\",\"type\":\"BasicTickFormatter\"},{\"attributes\":{},\"id\":\"9171\",\"type\":\"BasicTicker\"},{\"attributes\":{\"axis_label_standoff\":10,\"axis_label_text_color\":\"#5B5B5B\",\"axis_label_text_font\":\"Calibri Light\",\"axis_label_text_font_size\":\"1.15em\",\"axis_label_text_font_style\":\"bold\",\"axis_line_alpha\":1,\"axis_line_color\":\"#5B5B5B\",\"formatter\":{\"id\":\"9560\"},\"major_label_text_color\":\"#5B5B5B\",\"major_label_text_font\":\"Calibri Light\",\"major_label_text_font_size\":\"0.95em\",\"major_label_text_font_style\":\"bold\",\"major_tick_in\":0,\"major_tick_line_alpha\":0.25,\"major_tick_line_color\":\"#5B5B5B\",\"major_tick_out\":3,\"minor_tick_line_alpha\":0.25,\"minor_tick_line_color\":\"#5B5B5B\",\"ticker\":{\"id\":\"9175\"}},\"id\":\"9174\",\"type\":\"LinearAxis\"},{\"attributes\":{\"axis\":{\"id\":\"9170\"},\"ticker\":null},\"id\":\"9173\",\"type\":\"Grid\"},{\"attributes\":{\"axis\":{\"id\":\"9174\"},\"dimension\":1,\"ticker\":null},\"id\":\"9177\",\"type\":\"Grid\"},{\"attributes\":{},\"id\":\"9175\",\"type\":\"BasicTicker\"},{\"attributes\":{\"active_drag\":\"auto\",\"active_inspect\":\"auto\",\"active_multi\":null,\"active_scroll\":\"auto\",\"active_tap\":\"auto\",\"tools\":[{\"id\":\"9178\"},{\"id\":\"9179\"},{\"id\":\"9180\"},{\"id\":\"9181\"},{\"id\":\"9182\"},{\"id\":\"9183\"}]},\"id\":\"9185\",\"type\":\"Toolbar\"},{\"attributes\":{},\"id\":\"9179\",\"type\":\"WheelZoomTool\"},{\"attributes\":{},\"id\":\"9178\",\"type\":\"PanTool\"},{\"attributes\":{\"overlay\":{\"id\":\"9184\"}},\"id\":\"9180\",\"type\":\"BoxZoomTool\"},{\"attributes\":{},\"id\":\"9181\",\"type\":\"SaveTool\"},{\"attributes\":{},\"id\":\"9182\",\"type\":\"ResetTool\"},{\"attributes\":{\"source\":{\"id\":\"9228\"}},\"id\":\"9232\",\"type\":\"CDSView\"},{\"attributes\":{},\"id\":\"9562\",\"type\":\"BasicTickFormatter\"},{\"attributes\":{\"data_source\":{\"id\":\"9228\"},\"glyph\":{\"id\":\"9229\"},\"hover_glyph\":null,\"muted_glyph\":null,\"nonselection_glyph\":{\"id\":\"9230\"},\"selection_glyph\":null,\"view\":{\"id\":\"9232\"}},\"id\":\"9231\",\"type\":\"GlyphRenderer\"},{\"attributes\":{},\"id\":\"9564\",\"type\":\"BasicTickFormatter\"}],\"root_ids\":[\"9233\"]},\"title\":\"Bokeh Application\",\"version\":\"2.2.2\"}};\n",
       "  var render_items = [{\"docid\":\"8334d974-b1ca-4716-be5e-d3bd6766643a\",\"root_ids\":[\"9233\"],\"roots\":{\"9233\":\"4ae17f2e-43f4-4222-a53e-a749ec0aa87d\"}}];\n",
       "  root.Bokeh.embed.embed_items_notebook(docs_json, render_items);\n",
       "\n",
       "  }\n",
       "  if (root.Bokeh !== undefined) {\n",
       "    embed_document(root);\n",
       "  } else {\n",
       "    var attempts = 0;\n",
       "    var timer = setInterval(function(root) {\n",
       "      if (root.Bokeh !== undefined) {\n",
       "        clearInterval(timer);\n",
       "        embed_document(root);\n",
       "      } else {\n",
       "        attempts++;\n",
       "        if (attempts > 100) {\n",
       "          clearInterval(timer);\n",
       "          console.log(\"Bokeh: ERROR: Unable to run BokehJS code because BokehJS library is missing\");\n",
       "        }\n",
       "      }\n",
       "    }, 10, root)\n",
       "  }\n",
       "})(window);"
      ],
      "application/vnd.bokehjs_exec.v0+json": ""
     },
     "metadata": {
      "application/vnd.bokehjs_exec.v0+json": {
       "id": "9233"
      }
     },
     "output_type": "display_data"
    }
   ],
   "source": [
    "from bokeh.layouts import row\n",
    "\n",
    "# prepare some data\n",
    "x = list(range(11))\n",
    "y0 = x\n",
    "y1 = [10 - i for i in x]\n",
    "y2 = [abs(i - 5) for i in x]\n",
    "\n",
    "# create three plots with one renderer each\n",
    "s1 = figure(width=250, height=250, background_fill_color=\"#fafafa\")\n",
    "s1.circle(x, y0, size=12, color=\"#53777a\", alpha=0.8)\n",
    "\n",
    "s2 = figure(width=250, height=250, background_fill_color=\"#fafafa\")\n",
    "s2.triangle(x, y1, size=12, color=\"#c02942\", alpha=0.8)\n",
    "\n",
    "s3 = figure(width=250, height=250, background_fill_color=\"#fafafa\")\n",
    "s3.square(x, y2, size=12, color=\"#d95b43\", alpha=0.8)\n",
    "\n",
    "# put the results in a row that automatically adjusts\n",
    "# to the browser window's width\n",
    "show(row(children=[s1, s2, s3], sizing_mode=\"scale_width\"))"
   ]
  },
  {
   "cell_type": "markdown",
   "id": "7bb3118f",
   "metadata": {},
   "source": [
    "For more information on sizing modes, see Sizing modes in the user guide.\n",
    "\n",
    "# First steps 7: Displaying and exporting\n",
    "In the previous first steps guides, you created, customized, and combined visualizations.\n",
    "\n",
    "In this section, you will use various methods to display and export your visualizations.\n",
    "\n",
    "## Creating a standalone HTML file\n",
    "All examples so far have used the **show()** function to save your visualization to an HTML file. This HTML file contains all the necessary information to display your plot.\n",
    "\n",
    "To customize the file Bokeh creates for your visualization, import and call the **output_file()** function. **output_file()** accepts various file-related arguments. For example:\n",
    "- filename: the filename for the HTML file. If you don’t supply a file name, Bokeh will use the file name of your python file as a filename for the HTML file it creates.\n",
    "- title: the title for you document (to be used in the HTML’s <title> tag)\n",
    "\n",
    "Bokeh creates the HTML file when you call the **show()** function. This function also automatically opens a web browser to display the HTML file.\n",
    "\n",
    "If you want Bokeh to only generate the file but not open it in a web browser, use the **save()** function instead.\n",
    "\n",
    "You need to import the **save()** and **output_file()** functions before using, just like you did for **show()**.\n",
    "\n",
    "    "
   ]
  },
  {
   "cell_type": "code",
   "execution_count": 37,
   "id": "a1224c15",
   "metadata": {},
   "outputs": [
    {
     "data": {
      "text/plain": [
       "'/home/franzi/CoActeu/try_sth/Master_Visualizations_2021/Topic_3_DataScience_and_Interactive_Visualizations/interactive_plots/custom_filename.html'"
      ]
     },
     "execution_count": 37,
     "metadata": {},
     "output_type": "execute_result"
    }
   ],
   "source": [
    "from bokeh.plotting import figure, output_file, save\n",
    "# prepare some data\n",
    "x = [1, 2, 3, 4, 5]\n",
    "y = [4, 5, 5, 7, 2]\n",
    "\n",
    "# set output to static HTML file\n",
    "output_file(filename=\"custom_filename.html\", title=\"Static HTML file\")\n",
    "\n",
    "# create a new plot with a specific size\n",
    "p = figure(sizing_mode=\"stretch_width\", max_width=500, height=250)\n",
    "\n",
    "# add a circle renderer\n",
    "circle = p.circle(x, y, fill_color=\"red\", size=15)\n",
    "\n",
    "# save the results to a file\n",
    "save(p)"
   ]
  },
  {
   "cell_type": "markdown",
   "id": "18f9fea0",
   "metadata": {},
   "source": [
    "For more information on embedding Bokeh visualizations online, see Embedding Bokeh content in the user guide.\n",
    "\n",
    "Note: By default, Bokeh-generated HTML files include a standard version of BokehJS that is automatically downloaded from Bokeh’s servers. Use the argument mode with the function output_file() to change this behavior. For more information, see output_file() and Resources in the reference guide.\n",
    "\n",
    "## Displaying in a Jupyter notebook\n",
    "If you use Jupyter notebooks, call Bokeh’s **output_notebook()** function in your code. Then, use the show() function to display your visualization right inside your notebook:\n",
    "\n",
    "For more information on using Jupyter notebooks, see Using with Jupyter in the user guide.\n",
    "\n",
    "Interact directly with live tutorial notebooks hosted online by MyBinder.\n",
    "\n",
    "## Exporting PNG files\n",
    "To export PNG or SVG files, you might need to install additional dependencies.\n",
    "\n",
    "In order to create PNG and SVG files, Bokeh uses Selenium. Selenium allows Bokeh to run in a browser without a graphical user interface. Bokeh uses this browser to render the PNG or SVG files. In order for this to work, Selenium needs to be able to access either a Firefox browser (through the geckodriver package) or a Chrome/Chromium browser (through the chromedriver package).\n",
    "\n",
    "Use this command to install Selenium with geckodriver and Firefox in a conda environment:\n",
    "\n",
    "    conda install selenium geckodriver firefox -c conda-forge\n",
    "See Additional dependencies for more options to install the required packages.\n",
    "\n",
    "Once the requirements are installed, you can use the export_png() function to export your plot into a PNG file:\n",
    "\n"
   ]
  },
  {
   "cell_type": "code",
   "execution_count": 38,
   "id": "904a8146",
   "metadata": {},
   "outputs": [
    {
     "ename": "RuntimeError",
     "evalue": "Neither firefox and geckodriver nor a variant of chromium browser and chromedriver are available on system PATH. You can install the former with 'conda install -c conda-forge firefox geckodriver'.",
     "output_type": "error",
     "traceback": [
      "\u001b[0;31m---------------------------------------------------------------------------\u001b[0m",
      "\u001b[0;31mRuntimeError\u001b[0m                              Traceback (most recent call last)",
      "\u001b[0;32m<ipython-input-38-1277de2bcaa5>\u001b[0m in \u001b[0;36m<module>\u001b[0;34m\u001b[0m\n\u001b[1;32m     13\u001b[0m \u001b[0;34m\u001b[0m\u001b[0m\n\u001b[1;32m     14\u001b[0m \u001b[0;31m# save the results to a file\u001b[0m\u001b[0;34m\u001b[0m\u001b[0;34m\u001b[0m\u001b[0;34m\u001b[0m\u001b[0m\n\u001b[0;32m---> 15\u001b[0;31m \u001b[0mexport_png\u001b[0m\u001b[0;34m(\u001b[0m\u001b[0mp\u001b[0m\u001b[0;34m,\u001b[0m \u001b[0mfilename\u001b[0m\u001b[0;34m=\u001b[0m\u001b[0;34m\"plot.png\"\u001b[0m\u001b[0;34m)\u001b[0m\u001b[0;34m\u001b[0m\u001b[0;34m\u001b[0m\u001b[0m\n\u001b[0m",
      "\u001b[0;32m/usr/local/lib/python3.8/site-packages/bokeh/io/export.py\u001b[0m in \u001b[0;36mexport_png\u001b[0;34m(obj, filename, width, height, webdriver, timeout)\u001b[0m\n\u001b[1;32m     96\u001b[0m     '''\n\u001b[1;32m     97\u001b[0m \u001b[0;34m\u001b[0m\u001b[0m\n\u001b[0;32m---> 98\u001b[0;31m     \u001b[0mimage\u001b[0m \u001b[0;34m=\u001b[0m \u001b[0mget_screenshot_as_png\u001b[0m\u001b[0;34m(\u001b[0m\u001b[0mobj\u001b[0m\u001b[0;34m,\u001b[0m \u001b[0mwidth\u001b[0m\u001b[0;34m=\u001b[0m\u001b[0mwidth\u001b[0m\u001b[0;34m,\u001b[0m \u001b[0mheight\u001b[0m\u001b[0;34m=\u001b[0m\u001b[0mheight\u001b[0m\u001b[0;34m,\u001b[0m \u001b[0mdriver\u001b[0m\u001b[0;34m=\u001b[0m\u001b[0mwebdriver\u001b[0m\u001b[0;34m,\u001b[0m \u001b[0mtimeout\u001b[0m\u001b[0;34m=\u001b[0m\u001b[0mtimeout\u001b[0m\u001b[0;34m)\u001b[0m\u001b[0;34m\u001b[0m\u001b[0;34m\u001b[0m\u001b[0m\n\u001b[0m\u001b[1;32m     99\u001b[0m \u001b[0;34m\u001b[0m\u001b[0m\n\u001b[1;32m    100\u001b[0m     \u001b[0;32mif\u001b[0m \u001b[0mfilename\u001b[0m \u001b[0;32mis\u001b[0m \u001b[0;32mNone\u001b[0m\u001b[0;34m:\u001b[0m\u001b[0;34m\u001b[0m\u001b[0;34m\u001b[0m\u001b[0m\n",
      "\u001b[0;32m/usr/local/lib/python3.8/site-packages/bokeh/io/export.py\u001b[0m in \u001b[0;36mget_screenshot_as_png\u001b[0;34m(obj, driver, timeout, resources, width, height)\u001b[0m\n\u001b[1;32m    220\u001b[0m             \u001b[0mfile\u001b[0m\u001b[0;34m.\u001b[0m\u001b[0mwrite\u001b[0m\u001b[0;34m(\u001b[0m\u001b[0mhtml\u001b[0m\u001b[0;34m)\u001b[0m\u001b[0;34m\u001b[0m\u001b[0;34m\u001b[0m\u001b[0m\n\u001b[1;32m    221\u001b[0m \u001b[0;34m\u001b[0m\u001b[0m\n\u001b[0;32m--> 222\u001b[0;31m         \u001b[0mweb_driver\u001b[0m \u001b[0;34m=\u001b[0m \u001b[0mdriver\u001b[0m \u001b[0;32mif\u001b[0m \u001b[0mdriver\u001b[0m \u001b[0;32mis\u001b[0m \u001b[0;32mnot\u001b[0m \u001b[0;32mNone\u001b[0m \u001b[0;32melse\u001b[0m \u001b[0mwebdriver_control\u001b[0m\u001b[0;34m.\u001b[0m\u001b[0mget\u001b[0m\u001b[0;34m(\u001b[0m\u001b[0;34m)\u001b[0m\u001b[0;34m\u001b[0m\u001b[0;34m\u001b[0m\u001b[0m\n\u001b[0m\u001b[1;32m    223\u001b[0m         \u001b[0mweb_driver\u001b[0m\u001b[0;34m.\u001b[0m\u001b[0mmaximize_window\u001b[0m\u001b[0;34m(\u001b[0m\u001b[0;34m)\u001b[0m\u001b[0;34m\u001b[0m\u001b[0;34m\u001b[0m\u001b[0m\n\u001b[1;32m    224\u001b[0m         \u001b[0mweb_driver\u001b[0m\u001b[0;34m.\u001b[0m\u001b[0mget\u001b[0m\u001b[0;34m(\u001b[0m\u001b[0;34m\"file:///\"\u001b[0m \u001b[0;34m+\u001b[0m \u001b[0mtmp\u001b[0m\u001b[0;34m.\u001b[0m\u001b[0mpath\u001b[0m\u001b[0;34m)\u001b[0m\u001b[0;34m\u001b[0m\u001b[0;34m\u001b[0m\u001b[0m\n",
      "\u001b[0;32m/usr/local/lib/python3.8/site-packages/bokeh/io/webdriver.py\u001b[0m in \u001b[0;36mget\u001b[0;34m(self)\u001b[0m\n\u001b[1;32m    144\u001b[0m         \u001b[0;32mif\u001b[0m \u001b[0;32mnot\u001b[0m \u001b[0mself\u001b[0m\u001b[0;34m.\u001b[0m\u001b[0mreuse\u001b[0m \u001b[0;32mor\u001b[0m \u001b[0mself\u001b[0m\u001b[0;34m.\u001b[0m\u001b[0mcurrent\u001b[0m \u001b[0;32mis\u001b[0m \u001b[0;32mNone\u001b[0m\u001b[0;34m:\u001b[0m\u001b[0;34m\u001b[0m\u001b[0;34m\u001b[0m\u001b[0m\n\u001b[1;32m    145\u001b[0m             \u001b[0mself\u001b[0m\u001b[0;34m.\u001b[0m\u001b[0mreset\u001b[0m\u001b[0;34m(\u001b[0m\u001b[0;34m)\u001b[0m\u001b[0;34m\u001b[0m\u001b[0;34m\u001b[0m\u001b[0m\n\u001b[0;32m--> 146\u001b[0;31m             \u001b[0mself\u001b[0m\u001b[0;34m.\u001b[0m\u001b[0mcurrent\u001b[0m \u001b[0;34m=\u001b[0m \u001b[0mself\u001b[0m\u001b[0;34m.\u001b[0m\u001b[0mcreate\u001b[0m\u001b[0;34m(\u001b[0m\u001b[0;34m)\u001b[0m\u001b[0;34m\u001b[0m\u001b[0;34m\u001b[0m\u001b[0m\n\u001b[0m\u001b[1;32m    147\u001b[0m         \u001b[0;32mreturn\u001b[0m \u001b[0mself\u001b[0m\u001b[0;34m.\u001b[0m\u001b[0mcurrent\u001b[0m\u001b[0;34m\u001b[0m\u001b[0;34m\u001b[0m\u001b[0m\n\u001b[1;32m    148\u001b[0m \u001b[0;34m\u001b[0m\u001b[0m\n",
      "\u001b[0;32m/usr/local/lib/python3.8/site-packages/bokeh/io/webdriver.py\u001b[0m in \u001b[0;36mcreate\u001b[0;34m(self, kind)\u001b[0m\n\u001b[1;32m    148\u001b[0m \u001b[0;34m\u001b[0m\u001b[0m\n\u001b[1;32m    149\u001b[0m     \u001b[0;32mdef\u001b[0m \u001b[0mcreate\u001b[0m\u001b[0;34m(\u001b[0m\u001b[0mself\u001b[0m\u001b[0;34m,\u001b[0m \u001b[0mkind\u001b[0m\u001b[0;34m:\u001b[0m \u001b[0mOptional\u001b[0m\u001b[0;34m[\u001b[0m\u001b[0mDriverKind\u001b[0m\u001b[0;34m]\u001b[0m \u001b[0;34m=\u001b[0m \u001b[0;32mNone\u001b[0m\u001b[0;34m)\u001b[0m \u001b[0;34m->\u001b[0m \u001b[0mWebDriver\u001b[0m\u001b[0;34m:\u001b[0m\u001b[0;34m\u001b[0m\u001b[0;34m\u001b[0m\u001b[0m\n\u001b[0;32m--> 150\u001b[0;31m         \u001b[0mdriver\u001b[0m \u001b[0;34m=\u001b[0m \u001b[0mself\u001b[0m\u001b[0;34m.\u001b[0m\u001b[0m_create\u001b[0m\u001b[0;34m(\u001b[0m\u001b[0mkind\u001b[0m\u001b[0;34m)\u001b[0m\u001b[0;34m\u001b[0m\u001b[0;34m\u001b[0m\u001b[0m\n\u001b[0m\u001b[1;32m    151\u001b[0m         \u001b[0mself\u001b[0m\u001b[0;34m.\u001b[0m\u001b[0m_drivers\u001b[0m\u001b[0;34m.\u001b[0m\u001b[0madd\u001b[0m\u001b[0;34m(\u001b[0m\u001b[0mdriver\u001b[0m\u001b[0;34m)\u001b[0m\u001b[0;34m\u001b[0m\u001b[0;34m\u001b[0m\u001b[0m\n\u001b[1;32m    152\u001b[0m         \u001b[0;32mreturn\u001b[0m \u001b[0mdriver\u001b[0m\u001b[0;34m\u001b[0m\u001b[0;34m\u001b[0m\u001b[0m\n",
      "\u001b[0;32m/usr/local/lib/python3.8/site-packages/bokeh/io/webdriver.py\u001b[0m in \u001b[0;36m_create\u001b[0;34m(self, kind)\u001b[0m\n\u001b[1;32m    166\u001b[0m                 \u001b[0;32mreturn\u001b[0m \u001b[0mdriver\u001b[0m\u001b[0;34m\u001b[0m\u001b[0;34m\u001b[0m\u001b[0m\n\u001b[1;32m    167\u001b[0m \u001b[0;34m\u001b[0m\u001b[0m\n\u001b[0;32m--> 168\u001b[0;31m             raise RuntimeError(\"Neither firefox and geckodriver nor a variant of chromium browser and \" \\\n\u001b[0m\u001b[1;32m    169\u001b[0m                                \u001b[0;34m\"chromedriver are available on system PATH. You can install the former \"\u001b[0m\u001b[0;31m \u001b[0m\u001b[0;31m\\\u001b[0m\u001b[0;34m\u001b[0m\u001b[0;34m\u001b[0m\u001b[0m\n\u001b[1;32m    170\u001b[0m                                \"with 'conda install -c conda-forge firefox geckodriver'.\")\n",
      "\u001b[0;31mRuntimeError\u001b[0m: Neither firefox and geckodriver nor a variant of chromium browser and chromedriver are available on system PATH. You can install the former with 'conda install -c conda-forge firefox geckodriver'."
     ]
    }
   ],
   "source": [
    "from bokeh.io import export_png\n",
    "from bokeh.plotting import figure\n",
    "\n",
    "# prepare some data\n",
    "x = [1, 2, 3, 4, 5]\n",
    "y = [4, 5, 5, 7, 2]\n",
    "\n",
    "# create a new plot with fixed dimensions\n",
    "p = figure(width=350, height=250)\n",
    "\n",
    "# add a circle renderer\n",
    "circle = p.circle(x, y, fill_color=\"red\", size=15)\n",
    "\n",
    "# save the results to a file\n",
    "export_png(p, filename=\"plot.png\")"
   ]
  },
  {
   "cell_type": "code",
   "execution_count": null,
   "id": "4fabb310",
   "metadata": {},
   "outputs": [],
   "source": [
    "output_notebook()"
   ]
  },
  {
   "cell_type": "markdown",
   "id": "237e29e1",
   "metadata": {},
   "source": [
    "For information on how to export PNG and SVG files, see Exporting plots in the user guide.\n",
    "\n",
    "# First steps 8: Providing and filtering data\n",
    "In the previous first steps guides, you used different methods to display and export your visualizations.\n",
    "\n",
    "In this section, you will use various sources and structures to import and filter data.\n",
    "\n",
    "## Using ColumnDataSource\n",
    "The ColumnDataSource is Bokeh’s own data structure. For details about the ColumnDataSource, see ColumnDataSource in the user guide.\n",
    "\n",
    "So far, you have used data sequences like Python lists and NumPy arrays to pass data to Bokeh. Bokeh has automatically converted these lists into ColumnDataSource objects for you.\n",
    "\n",
    "Follow these steps to create a ColumnDataSource directly:\n",
    "- First, import ColumnDataSource.\n",
    "- Next, create a dict with your data: The dict’s keys are the column names (strings). The dict’s values are lists or arrays of data.\n",
    "- Then, pass your dict as the data argument to ColumnDataSource:\n",
    "- You can then use your ColumnDataSource as source for your renderer.\n",
    "\n"
   ]
  },
  {
   "cell_type": "code",
   "execution_count": 39,
   "id": "ece8d1ab",
   "metadata": {},
   "outputs": [
    {
     "data": {
      "text/html": [
       "<div style=\"display: table;\"><div style=\"display: table-row;\"><div style=\"display: table-cell;\"><b title=\"bokeh.models.renderers.GlyphRenderer\">GlyphRenderer</b>(</div><div style=\"display: table-cell;\">id&nbsp;=&nbsp;'10007', <span id=\"10010\" style=\"cursor: pointer;\">&hellip;)</span></div></div><div class=\"10009\" style=\"display: none;\"><div style=\"display: table-cell;\"></div><div style=\"display: table-cell;\">data_source&nbsp;=&nbsp;ColumnDataSource(id='9972', ...),</div></div><div class=\"10009\" style=\"display: none;\"><div style=\"display: table-cell;\"></div><div style=\"display: table-cell;\">glyph&nbsp;=&nbsp;Circle(id='10005', ...),</div></div><div class=\"10009\" style=\"display: none;\"><div style=\"display: table-cell;\"></div><div style=\"display: table-cell;\">hover_glyph&nbsp;=&nbsp;None,</div></div><div class=\"10009\" style=\"display: none;\"><div style=\"display: table-cell;\"></div><div style=\"display: table-cell;\">js_event_callbacks&nbsp;=&nbsp;{},</div></div><div class=\"10009\" style=\"display: none;\"><div style=\"display: table-cell;\"></div><div style=\"display: table-cell;\">js_property_callbacks&nbsp;=&nbsp;{},</div></div><div class=\"10009\" style=\"display: none;\"><div style=\"display: table-cell;\"></div><div style=\"display: table-cell;\">level&nbsp;=&nbsp;'glyph',</div></div><div class=\"10009\" style=\"display: none;\"><div style=\"display: table-cell;\"></div><div style=\"display: table-cell;\">muted&nbsp;=&nbsp;False,</div></div><div class=\"10009\" style=\"display: none;\"><div style=\"display: table-cell;\"></div><div style=\"display: table-cell;\">muted_glyph&nbsp;=&nbsp;None,</div></div><div class=\"10009\" style=\"display: none;\"><div style=\"display: table-cell;\"></div><div style=\"display: table-cell;\">name&nbsp;=&nbsp;None,</div></div><div class=\"10009\" style=\"display: none;\"><div style=\"display: table-cell;\"></div><div style=\"display: table-cell;\">nonselection_glyph&nbsp;=&nbsp;Circle(id='10006', ...),</div></div><div class=\"10009\" style=\"display: none;\"><div style=\"display: table-cell;\"></div><div style=\"display: table-cell;\">selection_glyph&nbsp;=&nbsp;None,</div></div><div class=\"10009\" style=\"display: none;\"><div style=\"display: table-cell;\"></div><div style=\"display: table-cell;\">subscribed_events&nbsp;=&nbsp;[],</div></div><div class=\"10009\" style=\"display: none;\"><div style=\"display: table-cell;\"></div><div style=\"display: table-cell;\">tags&nbsp;=&nbsp;[],</div></div><div class=\"10009\" style=\"display: none;\"><div style=\"display: table-cell;\"></div><div style=\"display: table-cell;\">view&nbsp;=&nbsp;CDSView(id='10008', ...),</div></div><div class=\"10009\" style=\"display: none;\"><div style=\"display: table-cell;\"></div><div style=\"display: table-cell;\">visible&nbsp;=&nbsp;True,</div></div><div class=\"10009\" style=\"display: none;\"><div style=\"display: table-cell;\"></div><div style=\"display: table-cell;\">x_range_name&nbsp;=&nbsp;'default',</div></div><div class=\"10009\" style=\"display: none;\"><div style=\"display: table-cell;\"></div><div style=\"display: table-cell;\">y_range_name&nbsp;=&nbsp;'default')</div></div></div>\n",
       "<script>\n",
       "(function() {\n",
       "  var expanded = false;\n",
       "  var ellipsis = document.getElementById(\"10010\");\n",
       "  ellipsis.addEventListener(\"click\", function() {\n",
       "    var rows = document.getElementsByClassName(\"10009\");\n",
       "    for (var i = 0; i < rows.length; i++) {\n",
       "      var el = rows[i];\n",
       "      el.style.display = expanded ? \"none\" : \"table-row\";\n",
       "    }\n",
       "    ellipsis.innerHTML = expanded ? \"&hellip;)\" : \"&lsaquo;&lsaquo;&lsaquo;\";\n",
       "    expanded = !expanded;\n",
       "  });\n",
       "})();\n",
       "</script>\n"
      ],
      "text/plain": [
       "GlyphRenderer(id='10007', ...)"
      ]
     },
     "execution_count": 39,
     "metadata": {},
     "output_type": "execute_result"
    }
   ],
   "source": [
    "from bokeh.plotting import figure\n",
    "from bokeh.models import ColumnDataSource\n",
    "\n",
    "# create dict as basis for ColumnDataSource\n",
    "data = {'x_values': [1, 2, 3, 4, 5],\n",
    "        'y_values': [6, 7, 2, 3, 6]}\n",
    "\n",
    "# create ColumnDataSource based on dict\n",
    "source = ColumnDataSource(data=data)\n",
    "\n",
    "# create a plot and renderer with ColumnDataSource data\n",
    "p = figure()\n",
    "p.circle(x='x_values', y='y_values', source=source)"
   ]
  },
  {
   "cell_type": "markdown",
   "id": "29ea626a",
   "metadata": {},
   "source": [
    "For more information on Bokeh’s ColumnDataSource, see ColumnDataSource in the user guide and ColumnDataSource in the reference guide.\n",
    "\n",
    "For information about adding data to a ColumnDataSource, see Appending data to a ColumnDataSource. Information about replacing data of a ColumnDataSource is available at Replacing data in a ColumnDataSource in the user guide.\n",
    "\n",
    "For more information on using Python lists, see Providing data with Python lists. For more information on using NumPy data with Bokeh, see Providing NumPy data.\n",
    "\n",
    "## Converting pandas data\n",
    "To use data from a pandas DataFrame, pass your pandas data to a ColumnDataSource:\n",
    "\n",
    "    source = ColumnDataSource(df)\n",
    "\n",
    "For more information on using pandas data in Bokeh, see Using a pandas DataFrame in the user guide. This includes information on using pandas DataFrame, MultiIndex, and GroupBy data.\n",
    "### Filtering data\n",
    "Bokeh comes with various filtering methods. Use these filters if you want to create a specific subset of the data contained in your ColumnDataSource.\n",
    "\n",
    "In Bokeh, these filtered subsets are called “views”. Views are represented by Bokeh’s CDSView class.\n",
    "\n",
    "To plot with a filtered subset of data, pass a CDSView object to the view argument of your renderer.\n",
    "\n",
    "A CDSView object has two properties:\n",
    "- source: the ColumnDataSource that you want to apply the filters to\n",
    "- filters: a list of Filter objects\n",
    "\n",
    "The simplest filter is the IndexFilter. An IndexFilter uses a list of index positions and creates a view that contains nothing but the data points located at those index positions.\n",
    "\n",
    "For example, if your ColumnDataSource contains a list of five values and you apply an IndexFilter with [0,2,4], the resulting view contains only the first, the third, and the fifth value of your original list:\n"
   ]
  },
  {
   "cell_type": "code",
   "execution_count": null,
   "id": "9d68d350",
   "metadata": {},
   "outputs": [],
   "source": [
    "from bokeh.layouts import gridplot\n",
    "from bokeh.models import CDSView, ColumnDataSource, IndexFilter\n",
    "from bokeh.plotting import figure, show\n",
    "\n",
    "# create ColumnDataSource from a dict\n",
    "source = ColumnDataSource(data=dict(x=[1, 2, 3, 4, 5], y=[1, 2, 3, 4, 5]))\n",
    "\n",
    "# create a view using an IndexFilter with the index positions [0, 2, 4]\n",
    "view = CDSView(source=source, filters=[IndexFilter([0, 2, 4])])\n",
    "\n",
    "# setup tools\n",
    "tools = [\"box_select\", \"hover\", \"reset\"]\n",
    "\n",
    "# create a first plot with all data in the ColumnDataSource\n",
    "p = figure(height=300, width=300, tools=tools)\n",
    "p.circle(x=\"x\", y=\"y\", size=10, hover_color=\"red\", source=source)\n",
    "\n",
    "# create a second plot with a subset of ColumnDataSource, based on view\n",
    "p_filtered = figure(height=300, width=300, tools=tools)\n",
    "p_filtered.circle(x=\"x\", y=\"y\", size=10, hover_color=\"red\", source=source, view=view)\n",
    "\n",
    "# show both plots next to each other in a gridplot layout\n",
    "show(gridplot([[p, p_filtered]]))"
   ]
  },
  {
   "cell_type": "markdown",
   "id": "2752120f",
   "metadata": {},
   "source": [
    "For more information on the various filters in Bokeh, see Filtering data in the user guide. More information is also available in the entries for CDSView and Filter in the reference guide.\n",
    "\n",
    "# First steps 9: Using widgets\n",
    "In the previous first steps guides, you used different sources and structures to import and filter data.\n",
    "\n",
    "In this section, you will add interactive widgets to your plots.\n",
    "\n",
    "## Adding widgets\n",
    "Widgets are additional visual elements that you can include in your visualization. Use widgets to display additional information or to interactively control elements of your Bokeh document, for example:\n",
    "\n",
    "The following Bokeh document combines a plot with three widgets:\n",
    "- A Div widget to display HTML text\n",
    "- A Spinner widget to select a numeric value\n",
    "- A RangeSlider widget to adjust a range\n",
    "\n",
    "See Examples in the user guide for a complete list of Bokeh’s widgets.\n",
    "\n",
    "Follow these steps to recreate the example from above:\n",
    "- Import the Div, \n",
    "- RangeSlider, \n",
    "- and Spinner widgets from bokeh.models:\n",
    "\n",
    "    from bokeh.models import Div, RangeSlider, Spinner\n",
    "Set up your data, your figure, and your renderer:\n",
    "\n",
    "    x = [1, 2, 3, 4, 5, 6, 7, 8, 9, 10]\n",
    "    y = [4, 5, 5, 7, 2, 6, 4, 9, 1, 3]\n",
    "\n",
    "    p = figure(x_range=(1,9), width=500, height=250)\n",
    "    points = p.circle(x=x, y=y, size=30, fill_color=\"#21a7df\")\n",
    "Create a Div object and pass it some HTML code as a string:\n",
    "\n",
    "    div = Div(\n",
    "        text=\"\"\"\n",
    "            <p>Select the circle's size using this control element:</p>\n",
    "            \"\"\",\n",
    "        width=200,\n",
    "        height=30,\n",
    "    )\n",
    "Create a Spinner object:\n",
    "\n",
    "    spinner = Spinner(\n",
    "        title=\"Circle size\",  # a string to display above the widget\n",
    "        low=0,  # the lowest possible number to pick\n",
    "        high=60,  # the highest possible number to pick\n",
    "        step=5,  # the increments by which the number can be adjusted\n",
    "        value=points.glyph.size,  # the initial value to display in the widget\n",
    "        width=200,  #  the width of the widget in pixels\n",
    "        )\n",
    "        \n",
    "To link the value generated by the spinner to the size property of your glyph, use the js_link() function. This function uses JavaScript to interactively link two Bokeh models. The first argument you pass to this function is the attribute of your spinner (\"value\") that you want to link to your circle glyphs. The second attribute is the glyph you want to link to your spinner (points.glyph). The third argument is the property of your glyph that you want to link to your spinner’s value:\n",
    "\n",
    "    spinner.js_link(\"value\", points.glyph, \"size\")\n",
    "### Create a RangeSlider object:\n",
    "\n",
    "    range_slider = RangeSlider(\n",
    "        title=\"Adjust x-axis range\", # a title to display above the slider\n",
    "        start=0,  # set the minimum value for the slider\n",
    "        end=10,  # set the maximum value for the slider\n",
    "        step=1,  # increments for the slider\n",
    "        value=(p.x_range.start, p.x_range.end),  # initial values for slider\n",
    "        )\n",
    "To link the values generated by the RangeSlider to the existing plot, use the js_link() function again. This time, however, you need to assign two values at once: the beginning of the plot’s x-axis and the end of its x-axis. The RangeSlider returns a tuple of those two values. Therefore, you need to use the attr_selector of the js_link() function to tell Bokeh which part of the Tuple to assign to either the start or the end of the plot’s x-axis:\n",
    "\n",
    "    range_slider.js_link(\"value\", p.x_range, \"start\", attr_selector=0)\n",
    "    range_slider.js_link(\"value\", p.x_range, \"end\", attr_selector=1)\n",
    "Create a layout with all the elements of your dashboard and display it in a browser:\n",
    "\n",
    "    layout = layout([\n",
    "        [div, spinner],\n",
    "        [range_slider],\n",
    "        [p],\n",
    "    ])\n",
    "\n",
    "    show(layout)\n",
    "This is what the completed example looks like:"
   ]
  },
  {
   "cell_type": "code",
   "execution_count": null,
   "id": "3a10a3c3",
   "metadata": {},
   "outputs": [],
   "source": [
    "from bokeh.layouts import layout\n",
    "from bokeh.models import Div, RangeSlider, Spinner\n",
    "\n",
    "# prepare some data\n",
    "x = [1, 2, 3, 4, 5, 6, 7, 8, 9, 10]\n",
    "y = [4, 5, 5, 7, 2, 6, 4, 9, 1, 3]\n",
    "\n",
    "# create plot with circle glyphs\n",
    "p = figure(x_range=(1, 9), width=500, height=250)\n",
    "points = p.circle(x=x, y=y, size=30, fill_color=\"#21a7df\")\n",
    "\n",
    "# set up textarea (div)\n",
    "div = Div(\n",
    "    text=\"\"\"\n",
    "          <p>Select the circle's size using this control element:</p>\n",
    "          \"\"\",\n",
    "    width=200,\n",
    "    height=30,\n",
    ")\n",
    "\n",
    "# set up spinner\n",
    "spinner = Spinner(\n",
    "    title=\"Circle size\",\n",
    "    low=0,\n",
    "    high=60,\n",
    "    step=5,\n",
    "    value=points.glyph.size,\n",
    "    width=200,\n",
    ")\n",
    "spinner.js_link(\"value\", points.glyph, \"size\")\n",
    "\n",
    "# set up RangeSlider\n",
    "range_slider = RangeSlider(\n",
    "    title=\"Adjust x-axis range\",\n",
    "    start=0,\n",
    "    end=10,\n",
    "    step=1,\n",
    "    value=(p.x_range.start, p.x_range.end),\n",
    ")\n",
    "range_slider.js_link(\"value\", p.x_range, \"start\", attr_selector=0)\n",
    "range_slider.js_link(\"value\", p.x_range, \"end\", attr_selector=1)\n",
    "\n",
    "# create layout\n",
    "layout = layout(\n",
    "    [\n",
    "        [div, spinner],\n",
    "        [range_slider],\n",
    "        [p],\n",
    "    ]\n",
    ")\n",
    "\n",
    "# show result\n",
    "output_notebook() # uncomment this line if you want to open a browser window with the plot\n",
    "show(layout)"
   ]
  },
  {
   "cell_type": "markdown",
   "id": "5c6e629e",
   "metadata": {},
   "source": [
    "To learn more about Bokeh’s widgets and building interactive dashboards, see Adding widgets in the user guide.\n",
    "\n",
    "To learn about creating interactive legends, see interactive legends in the user guide.\n",
    "\n",
    "See JavaScript callbacks in the user guide to learn more about adding custom JavaScript code that you can use in combination with widgets, among other things.\n",
    "\n",
    "To learn more about combining widgets and plots into layouts, see Creating layouts in the user guide.\n",
    "\n",
    "### Using widgets with a Bokeh server\n",
    "Another way to use widgets is with a Bokeh server application. Bokeh includes a standalone server component. Use the Bokeh server if you want to connect your JavaScript-based visualization running in a browser to Python code running on a server.\n",
    "\n",
    "Use this command on a command line to start Bokeh in server mode:\n",
    "\n",
    "    bokeh serve\n",
    "You can use Bokeh Server to build complex dashboards and interactive applications. Some of the capabilities of the Bokeh server include:\n",
    "- UI widgets and plot selections that drive computations and plot updates\n",
    "- Streaming live data to automatically updating plots\n",
    "- Intelligent server-side downsampling of large datasets\n",
    "- Sophisticated glyph re-writing and transformations for “Big Data”\n",
    "- Plot and dashboard publishing for wider audiences\n",
    "\n",
    "For information on using the server and writing Bokeh server plots and apps, see Running a Bokeh server in the user guide.\n",
    "\n",
    "For more examples of Bokeh server applications, see the Server App Examples section of the Gallery.\n",
    "\n",
    "An easy way to create more complex dashboards is to use Panel (https://panel.holoviz.org). Panel is a separate Python library that uses Bokeh and Bokeh server in the background.\n",
    "\n",
    "# Next steps\n",
    "Congratulations, you have completed all of Bokeh’s first steps guides!\n",
    "\n",
    "More information about Bokeh is available in the user guide. For more in-depth information about all aspects of Bokeh, see the reference guide.\n",
    "\n",
    "For more examples of what you can do with Bokeh, check the Gallery and the examples directory in Bokeh’s GitHub repository.\n",
    "\n",
    "Finally, on the Bokeh community page, you can find links and information about asking for help and contributing to Bokeh and the Bokeh community."
   ]
  }
 ],
 "metadata": {
  "kernelspec": {
   "display_name": "Python 3.8 (ipykernel)",
   "language": "python",
   "name": "python3.8"
  },
  "language_info": {
   "codemirror_mode": {
    "name": "ipython",
    "version": 3
   },
   "file_extension": ".py",
   "mimetype": "text/x-python",
   "name": "python",
   "nbconvert_exporter": "python",
   "pygments_lexer": "ipython3",
   "version": "3.8.12"
  }
 },
 "nbformat": 4,
 "nbformat_minor": 5
}
