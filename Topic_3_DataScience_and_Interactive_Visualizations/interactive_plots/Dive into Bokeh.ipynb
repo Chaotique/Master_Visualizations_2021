{
 "cells": [
  {
   "cell_type": "markdown",
   "id": "7e90d7dd",
   "metadata": {},
   "source": [
    "# Bokeh Turorial\n",
    "\n",
    "## Installation\n",
    "For smooth integrability in streamlit, please install bokeh version 2.2.2.\n",
    "To this end, use either\n",
    "   \n",
    "    pip install bokeh==\"2.2.2\"\n",
    "\n",
    "or\n",
    "   \n",
    "    conda install bokeh=2.2.2\n",
    "    \n",
    "If you already installed bokeh, check the version compiling:"
   ]
  },
  {
   "cell_type": "code",
   "execution_count": 1,
   "id": "36b64879",
   "metadata": {},
   "outputs": [
    {
     "name": "stdout",
     "output_type": "stream",
     "text": [
      "2.3.3\n"
     ]
    }
   ],
   "source": [
    "import bokeh\n",
    "print(bokeh.__version__)"
   ]
  },
  {
   "cell_type": "markdown",
   "id": "e0d1b3aa",
   "metadata": {},
   "source": [
    "If your version is **higher** than 2.2.2, you need to downgrade (if its **lower**, just use the above installation command).\n",
    "\n",
    "    pip uninstall bokeh\n",
    "    pip install bokeh==\"2.2.2\"\n",
    "    \n",
    "For conda, consider creating a new environment or do \n",
    "\n",
    "    conda install -c conda-forge bokeh=2.2.2 "
   ]
  },
  {
   "cell_type": "markdown",
   "id": "9daea06f",
   "metadata": {},
   "source": [
    "## Turtorials and cheat sheets\n",
    "\n",
    "Bokeh provides clear documentation on https://docs.bokeh.org/.\n",
    "We here follow the first steps that they provide on their website.\n",
    "\n",
    "Outline: \n",
    "- First steps 1: Creating a line chart\n",
    "- First steps 2: Adding and customizing renderers\n",
    "- First steps 3: Adding legends, text, and annotations\n",
    "- First steps 4: Customizing your plot\n",
    "- First steps 5: Vectorizing glyph properties\n",
    "- First steps 6: Combining plots\n",
    "- First steps 7: Displaying and exporting\n",
    "- First steps 8: Providing and filtering data\n",
    "- First steps 9: Using widgets"
   ]
  },
  {
   "cell_type": "markdown",
   "id": "1ddda445",
   "metadata": {},
   "source": [
    "# First steps 1: Creating a line chart\n",
    "With just a few lines of Python code, Bokeh enables you to create interactive, JavaScript-powered visualizations displayable in a web browser.\n",
    "\n",
    "The basic idea of Bokeh is a two-step process: First, you select from Bokeh’s building blocks to create your visualization. Second, you customize these building blocks to fit your needs.\n",
    "\n",
    "To do that, Bokeh combines two elements:\n",
    "\n",
    "- A Python library for defining the content and interactive functionalities of your visualization.\n",
    "\n",
    "- A JavaScript library called BokehJS that is working in the background to display your interactive visualizations in a web browser.\n",
    "\n",
    "Based on your Python code, Bokeh automatically generates all the necessary JavaScript and HTML code for you. In its default setting, Bokeh automatically loads any additional JavaScript code from Bokeh’s CDN (content delivery network).\n",
    "\n",
    "Bokeh’s documentation consists of several elements, including the user guide with detailed explanations and examples and the reference guide that systematically describes every element of Bokeh. In this guide, you will find links to both those resources."
   ]
  },
  {
   "cell_type": "markdown",
   "id": "c180fe26",
   "metadata": {},
   "source": [
    "## Creating a simple line chart\n",
    "Your first visualization will be a plot with a single line that looks like this:\n",
    "\n",
    "Even a simple graph like this has interactive features. Use the tools on the right of the plot to explore:"
   ]
  },
  {
   "cell_type": "code",
   "execution_count": 2,
   "id": "3a8f05bf",
   "metadata": {},
   "outputs": [
    {
     "data": {
      "text/html": [
       "\n",
       "    <div class=\"bk-root\">\n",
       "        <a href=\"https://bokeh.org\" target=\"_blank\" class=\"bk-logo bk-logo-small bk-logo-notebook\"></a>\n",
       "        <span id=\"1052\">Loading BokehJS ...</span>\n",
       "    </div>"
      ]
     },
     "metadata": {},
     "output_type": "display_data"
    },
    {
     "data": {
      "application/javascript": [
       "\n",
       "(function(root) {\n",
       "  function now() {\n",
       "    return new Date();\n",
       "  }\n",
       "\n",
       "  var force = true;\n",
       "\n",
       "  if (typeof root._bokeh_onload_callbacks === \"undefined\" || force === true) {\n",
       "    root._bokeh_onload_callbacks = [];\n",
       "    root._bokeh_is_loading = undefined;\n",
       "  }\n",
       "\n",
       "  var JS_MIME_TYPE = 'application/javascript';\n",
       "  var HTML_MIME_TYPE = 'text/html';\n",
       "  var EXEC_MIME_TYPE = 'application/vnd.bokehjs_exec.v0+json';\n",
       "  var CLASS_NAME = 'output_bokeh rendered_html';\n",
       "\n",
       "  /**\n",
       "   * Render data to the DOM node\n",
       "   */\n",
       "  function render(props, node) {\n",
       "    var script = document.createElement(\"script\");\n",
       "    node.appendChild(script);\n",
       "  }\n",
       "\n",
       "  /**\n",
       "   * Handle when an output is cleared or removed\n",
       "   */\n",
       "  function handleClearOutput(event, handle) {\n",
       "    var cell = handle.cell;\n",
       "\n",
       "    var id = cell.output_area._bokeh_element_id;\n",
       "    var server_id = cell.output_area._bokeh_server_id;\n",
       "    // Clean up Bokeh references\n",
       "    if (id != null && id in Bokeh.index) {\n",
       "      Bokeh.index[id].model.document.clear();\n",
       "      delete Bokeh.index[id];\n",
       "    }\n",
       "\n",
       "    if (server_id !== undefined) {\n",
       "      // Clean up Bokeh references\n",
       "      var cmd = \"from bokeh.io.state import curstate; print(curstate().uuid_to_server['\" + server_id + \"'].get_sessions()[0].document.roots[0]._id)\";\n",
       "      cell.notebook.kernel.execute(cmd, {\n",
       "        iopub: {\n",
       "          output: function(msg) {\n",
       "            var id = msg.content.text.trim();\n",
       "            if (id in Bokeh.index) {\n",
       "              Bokeh.index[id].model.document.clear();\n",
       "              delete Bokeh.index[id];\n",
       "            }\n",
       "          }\n",
       "        }\n",
       "      });\n",
       "      // Destroy server and session\n",
       "      var cmd = \"import bokeh.io.notebook as ion; ion.destroy_server('\" + server_id + \"')\";\n",
       "      cell.notebook.kernel.execute(cmd);\n",
       "    }\n",
       "  }\n",
       "\n",
       "  /**\n",
       "   * Handle when a new output is added\n",
       "   */\n",
       "  function handleAddOutput(event, handle) {\n",
       "    var output_area = handle.output_area;\n",
       "    var output = handle.output;\n",
       "\n",
       "    // limit handleAddOutput to display_data with EXEC_MIME_TYPE content only\n",
       "    if ((output.output_type != \"display_data\") || (!Object.prototype.hasOwnProperty.call(output.data, EXEC_MIME_TYPE))) {\n",
       "      return\n",
       "    }\n",
       "\n",
       "    var toinsert = output_area.element.find(\".\" + CLASS_NAME.split(' ')[0]);\n",
       "\n",
       "    if (output.metadata[EXEC_MIME_TYPE][\"id\"] !== undefined) {\n",
       "      toinsert[toinsert.length - 1].firstChild.textContent = output.data[JS_MIME_TYPE];\n",
       "      // store reference to embed id on output_area\n",
       "      output_area._bokeh_element_id = output.metadata[EXEC_MIME_TYPE][\"id\"];\n",
       "    }\n",
       "    if (output.metadata[EXEC_MIME_TYPE][\"server_id\"] !== undefined) {\n",
       "      var bk_div = document.createElement(\"div\");\n",
       "      bk_div.innerHTML = output.data[HTML_MIME_TYPE];\n",
       "      var script_attrs = bk_div.children[0].attributes;\n",
       "      for (var i = 0; i < script_attrs.length; i++) {\n",
       "        toinsert[toinsert.length - 1].firstChild.setAttribute(script_attrs[i].name, script_attrs[i].value);\n",
       "        toinsert[toinsert.length - 1].firstChild.textContent = bk_div.children[0].textContent\n",
       "      }\n",
       "      // store reference to server id on output_area\n",
       "      output_area._bokeh_server_id = output.metadata[EXEC_MIME_TYPE][\"server_id\"];\n",
       "    }\n",
       "  }\n",
       "\n",
       "  function register_renderer(events, OutputArea) {\n",
       "\n",
       "    function append_mime(data, metadata, element) {\n",
       "      // create a DOM node to render to\n",
       "      var toinsert = this.create_output_subarea(\n",
       "        metadata,\n",
       "        CLASS_NAME,\n",
       "        EXEC_MIME_TYPE\n",
       "      );\n",
       "      this.keyboard_manager.register_events(toinsert);\n",
       "      // Render to node\n",
       "      var props = {data: data, metadata: metadata[EXEC_MIME_TYPE]};\n",
       "      render(props, toinsert[toinsert.length - 1]);\n",
       "      element.append(toinsert);\n",
       "      return toinsert\n",
       "    }\n",
       "\n",
       "    /* Handle when an output is cleared or removed */\n",
       "    events.on('clear_output.CodeCell', handleClearOutput);\n",
       "    events.on('delete.Cell', handleClearOutput);\n",
       "\n",
       "    /* Handle when a new output is added */\n",
       "    events.on('output_added.OutputArea', handleAddOutput);\n",
       "\n",
       "    /**\n",
       "     * Register the mime type and append_mime function with output_area\n",
       "     */\n",
       "    OutputArea.prototype.register_mime_type(EXEC_MIME_TYPE, append_mime, {\n",
       "      /* Is output safe? */\n",
       "      safe: true,\n",
       "      /* Index of renderer in `output_area.display_order` */\n",
       "      index: 0\n",
       "    });\n",
       "  }\n",
       "\n",
       "  // register the mime type if in Jupyter Notebook environment and previously unregistered\n",
       "  if (root.Jupyter !== undefined) {\n",
       "    var events = require('base/js/events');\n",
       "    var OutputArea = require('notebook/js/outputarea').OutputArea;\n",
       "\n",
       "    if (OutputArea.prototype.mime_types().indexOf(EXEC_MIME_TYPE) == -1) {\n",
       "      register_renderer(events, OutputArea);\n",
       "    }\n",
       "  }\n",
       "\n",
       "  \n",
       "  if (typeof (root._bokeh_timeout) === \"undefined\" || force === true) {\n",
       "    root._bokeh_timeout = Date.now() + 5000;\n",
       "    root._bokeh_failed_load = false;\n",
       "  }\n",
       "\n",
       "  var NB_LOAD_WARNING = {'data': {'text/html':\n",
       "     \"<div style='background-color: #fdd'>\\n\"+\n",
       "     \"<p>\\n\"+\n",
       "     \"BokehJS does not appear to have successfully loaded. If loading BokehJS from CDN, this \\n\"+\n",
       "     \"may be due to a slow or bad network connection. Possible fixes:\\n\"+\n",
       "     \"</p>\\n\"+\n",
       "     \"<ul>\\n\"+\n",
       "     \"<li>re-rerun `output_notebook()` to attempt to load from CDN again, or</li>\\n\"+\n",
       "     \"<li>use INLINE resources instead, as so:</li>\\n\"+\n",
       "     \"</ul>\\n\"+\n",
       "     \"<code>\\n\"+\n",
       "     \"from bokeh.resources import INLINE\\n\"+\n",
       "     \"output_notebook(resources=INLINE)\\n\"+\n",
       "     \"</code>\\n\"+\n",
       "     \"</div>\"}};\n",
       "\n",
       "  function display_loaded() {\n",
       "    var el = document.getElementById(\"1052\");\n",
       "    if (el != null) {\n",
       "      el.textContent = \"BokehJS is loading...\";\n",
       "    }\n",
       "    if (root.Bokeh !== undefined) {\n",
       "      if (el != null) {\n",
       "        el.textContent = \"BokehJS \" + root.Bokeh.version + \" successfully loaded.\";\n",
       "      }\n",
       "    } else if (Date.now() < root._bokeh_timeout) {\n",
       "      setTimeout(display_loaded, 100)\n",
       "    }\n",
       "  }\n",
       "\n",
       "\n",
       "  function run_callbacks() {\n",
       "    try {\n",
       "      root._bokeh_onload_callbacks.forEach(function(callback) {\n",
       "        if (callback != null)\n",
       "          callback();\n",
       "      });\n",
       "    } finally {\n",
       "      delete root._bokeh_onload_callbacks\n",
       "    }\n",
       "    console.debug(\"Bokeh: all callbacks have finished\");\n",
       "  }\n",
       "\n",
       "  function load_libs(css_urls, js_urls, callback) {\n",
       "    if (css_urls == null) css_urls = [];\n",
       "    if (js_urls == null) js_urls = [];\n",
       "\n",
       "    root._bokeh_onload_callbacks.push(callback);\n",
       "    if (root._bokeh_is_loading > 0) {\n",
       "      console.debug(\"Bokeh: BokehJS is being loaded, scheduling callback at\", now());\n",
       "      return null;\n",
       "    }\n",
       "    if (js_urls == null || js_urls.length === 0) {\n",
       "      run_callbacks();\n",
       "      return null;\n",
       "    }\n",
       "    console.debug(\"Bokeh: BokehJS not loaded, scheduling load and callback at\", now());\n",
       "    root._bokeh_is_loading = css_urls.length + js_urls.length;\n",
       "\n",
       "    function on_load() {\n",
       "      root._bokeh_is_loading--;\n",
       "      if (root._bokeh_is_loading === 0) {\n",
       "        console.debug(\"Bokeh: all BokehJS libraries/stylesheets loaded\");\n",
       "        run_callbacks()\n",
       "      }\n",
       "    }\n",
       "\n",
       "    function on_error(url) {\n",
       "      console.error(\"failed to load \" + url);\n",
       "    }\n",
       "\n",
       "    for (let i = 0; i < css_urls.length; i++) {\n",
       "      const url = css_urls[i];\n",
       "      const element = document.createElement(\"link\");\n",
       "      element.onload = on_load;\n",
       "      element.onerror = on_error.bind(null, url);\n",
       "      element.rel = \"stylesheet\";\n",
       "      element.type = \"text/css\";\n",
       "      element.href = url;\n",
       "      console.debug(\"Bokeh: injecting link tag for BokehJS stylesheet: \", url);\n",
       "      document.body.appendChild(element);\n",
       "    }\n",
       "\n",
       "    const hashes = {\"https://cdn.bokeh.org/bokeh/release/bokeh-2.3.3.min.js\": \"dM3QQsP+wXdHg42wTqW85BjZQdLNNIXqlPw/BgKoExPmTG7ZLML4EGqLMfqHT6ON\", \"https://cdn.bokeh.org/bokeh/release/bokeh-tables-2.3.3.min.js\": \"8x57I4YuIfu8XyZfFo0XVr2WAT8EK4rh/uDe3wF7YuW2FNUSNEpJbsPaB1nJ2fz2\", \"https://cdn.bokeh.org/bokeh/release/bokeh-widgets-2.3.3.min.js\": \"3QTqdz9LyAm2i0sG5XTePsHec3UHWwVsrOL68SYRoAXsafvfAyqtQ+h440+qIBhS\"};\n",
       "\n",
       "    for (let i = 0; i < js_urls.length; i++) {\n",
       "      const url = js_urls[i];\n",
       "      const element = document.createElement('script');\n",
       "      element.onload = on_load;\n",
       "      element.onerror = on_error.bind(null, url);\n",
       "      element.async = false;\n",
       "      element.src = url;\n",
       "      if (url in hashes) {\n",
       "        element.crossOrigin = \"anonymous\";\n",
       "        element.integrity = \"sha384-\" + hashes[url];\n",
       "      }\n",
       "      console.debug(\"Bokeh: injecting script tag for BokehJS library: \", url);\n",
       "      document.head.appendChild(element);\n",
       "    }\n",
       "  };\n",
       "\n",
       "  function inject_raw_css(css) {\n",
       "    const element = document.createElement(\"style\");\n",
       "    element.appendChild(document.createTextNode(css));\n",
       "    document.body.appendChild(element);\n",
       "  }\n",
       "\n",
       "  \n",
       "  var js_urls = [\"https://cdn.bokeh.org/bokeh/release/bokeh-2.3.3.min.js\", \"https://cdn.bokeh.org/bokeh/release/bokeh-widgets-2.3.3.min.js\", \"https://cdn.bokeh.org/bokeh/release/bokeh-tables-2.3.3.min.js\"];\n",
       "  var css_urls = [];\n",
       "  \n",
       "\n",
       "  var inline_js = [\n",
       "    function(Bokeh) {\n",
       "      Bokeh.set_log_level(\"info\");\n",
       "    },\n",
       "    function(Bokeh) {\n",
       "    \n",
       "    \n",
       "    }\n",
       "  ];\n",
       "\n",
       "  function run_inline_js() {\n",
       "    \n",
       "    if (root.Bokeh !== undefined || force === true) {\n",
       "      \n",
       "    for (var i = 0; i < inline_js.length; i++) {\n",
       "      inline_js[i].call(root, root.Bokeh);\n",
       "    }\n",
       "    if (force === true) {\n",
       "        display_loaded();\n",
       "      }} else if (Date.now() < root._bokeh_timeout) {\n",
       "      setTimeout(run_inline_js, 100);\n",
       "    } else if (!root._bokeh_failed_load) {\n",
       "      console.log(\"Bokeh: BokehJS failed to load within specified timeout.\");\n",
       "      root._bokeh_failed_load = true;\n",
       "    } else if (force !== true) {\n",
       "      var cell = $(document.getElementById(\"1052\")).parents('.cell').data().cell;\n",
       "      cell.output_area.append_execute_result(NB_LOAD_WARNING)\n",
       "    }\n",
       "\n",
       "  }\n",
       "\n",
       "  if (root._bokeh_is_loading === 0) {\n",
       "    console.debug(\"Bokeh: BokehJS loaded, going straight to plotting\");\n",
       "    run_inline_js();\n",
       "  } else {\n",
       "    load_libs(css_urls, js_urls, function() {\n",
       "      console.debug(\"Bokeh: BokehJS plotting callback run at\", now());\n",
       "      run_inline_js();\n",
       "    });\n",
       "  }\n",
       "}(window));"
      ],
      "application/vnd.bokehjs_load.v0+json": "\n(function(root) {\n  function now() {\n    return new Date();\n  }\n\n  var force = true;\n\n  if (typeof root._bokeh_onload_callbacks === \"undefined\" || force === true) {\n    root._bokeh_onload_callbacks = [];\n    root._bokeh_is_loading = undefined;\n  }\n\n  \n\n  \n  if (typeof (root._bokeh_timeout) === \"undefined\" || force === true) {\n    root._bokeh_timeout = Date.now() + 5000;\n    root._bokeh_failed_load = false;\n  }\n\n  var NB_LOAD_WARNING = {'data': {'text/html':\n     \"<div style='background-color: #fdd'>\\n\"+\n     \"<p>\\n\"+\n     \"BokehJS does not appear to have successfully loaded. If loading BokehJS from CDN, this \\n\"+\n     \"may be due to a slow or bad network connection. Possible fixes:\\n\"+\n     \"</p>\\n\"+\n     \"<ul>\\n\"+\n     \"<li>re-rerun `output_notebook()` to attempt to load from CDN again, or</li>\\n\"+\n     \"<li>use INLINE resources instead, as so:</li>\\n\"+\n     \"</ul>\\n\"+\n     \"<code>\\n\"+\n     \"from bokeh.resources import INLINE\\n\"+\n     \"output_notebook(resources=INLINE)\\n\"+\n     \"</code>\\n\"+\n     \"</div>\"}};\n\n  function display_loaded() {\n    var el = document.getElementById(\"1052\");\n    if (el != null) {\n      el.textContent = \"BokehJS is loading...\";\n    }\n    if (root.Bokeh !== undefined) {\n      if (el != null) {\n        el.textContent = \"BokehJS \" + root.Bokeh.version + \" successfully loaded.\";\n      }\n    } else if (Date.now() < root._bokeh_timeout) {\n      setTimeout(display_loaded, 100)\n    }\n  }\n\n\n  function run_callbacks() {\n    try {\n      root._bokeh_onload_callbacks.forEach(function(callback) {\n        if (callback != null)\n          callback();\n      });\n    } finally {\n      delete root._bokeh_onload_callbacks\n    }\n    console.debug(\"Bokeh: all callbacks have finished\");\n  }\n\n  function load_libs(css_urls, js_urls, callback) {\n    if (css_urls == null) css_urls = [];\n    if (js_urls == null) js_urls = [];\n\n    root._bokeh_onload_callbacks.push(callback);\n    if (root._bokeh_is_loading > 0) {\n      console.debug(\"Bokeh: BokehJS is being loaded, scheduling callback at\", now());\n      return null;\n    }\n    if (js_urls == null || js_urls.length === 0) {\n      run_callbacks();\n      return null;\n    }\n    console.debug(\"Bokeh: BokehJS not loaded, scheduling load and callback at\", now());\n    root._bokeh_is_loading = css_urls.length + js_urls.length;\n\n    function on_load() {\n      root._bokeh_is_loading--;\n      if (root._bokeh_is_loading === 0) {\n        console.debug(\"Bokeh: all BokehJS libraries/stylesheets loaded\");\n        run_callbacks()\n      }\n    }\n\n    function on_error(url) {\n      console.error(\"failed to load \" + url);\n    }\n\n    for (let i = 0; i < css_urls.length; i++) {\n      const url = css_urls[i];\n      const element = document.createElement(\"link\");\n      element.onload = on_load;\n      element.onerror = on_error.bind(null, url);\n      element.rel = \"stylesheet\";\n      element.type = \"text/css\";\n      element.href = url;\n      console.debug(\"Bokeh: injecting link tag for BokehJS stylesheet: \", url);\n      document.body.appendChild(element);\n    }\n\n    const hashes = {\"https://cdn.bokeh.org/bokeh/release/bokeh-2.3.3.min.js\": \"dM3QQsP+wXdHg42wTqW85BjZQdLNNIXqlPw/BgKoExPmTG7ZLML4EGqLMfqHT6ON\", \"https://cdn.bokeh.org/bokeh/release/bokeh-tables-2.3.3.min.js\": \"8x57I4YuIfu8XyZfFo0XVr2WAT8EK4rh/uDe3wF7YuW2FNUSNEpJbsPaB1nJ2fz2\", \"https://cdn.bokeh.org/bokeh/release/bokeh-widgets-2.3.3.min.js\": \"3QTqdz9LyAm2i0sG5XTePsHec3UHWwVsrOL68SYRoAXsafvfAyqtQ+h440+qIBhS\"};\n\n    for (let i = 0; i < js_urls.length; i++) {\n      const url = js_urls[i];\n      const element = document.createElement('script');\n      element.onload = on_load;\n      element.onerror = on_error.bind(null, url);\n      element.async = false;\n      element.src = url;\n      if (url in hashes) {\n        element.crossOrigin = \"anonymous\";\n        element.integrity = \"sha384-\" + hashes[url];\n      }\n      console.debug(\"Bokeh: injecting script tag for BokehJS library: \", url);\n      document.head.appendChild(element);\n    }\n  };\n\n  function inject_raw_css(css) {\n    const element = document.createElement(\"style\");\n    element.appendChild(document.createTextNode(css));\n    document.body.appendChild(element);\n  }\n\n  \n  var js_urls = [\"https://cdn.bokeh.org/bokeh/release/bokeh-2.3.3.min.js\", \"https://cdn.bokeh.org/bokeh/release/bokeh-widgets-2.3.3.min.js\", \"https://cdn.bokeh.org/bokeh/release/bokeh-tables-2.3.3.min.js\"];\n  var css_urls = [];\n  \n\n  var inline_js = [\n    function(Bokeh) {\n      Bokeh.set_log_level(\"info\");\n    },\n    function(Bokeh) {\n    \n    \n    }\n  ];\n\n  function run_inline_js() {\n    \n    if (root.Bokeh !== undefined || force === true) {\n      \n    for (var i = 0; i < inline_js.length; i++) {\n      inline_js[i].call(root, root.Bokeh);\n    }\n    if (force === true) {\n        display_loaded();\n      }} else if (Date.now() < root._bokeh_timeout) {\n      setTimeout(run_inline_js, 100);\n    } else if (!root._bokeh_failed_load) {\n      console.log(\"Bokeh: BokehJS failed to load within specified timeout.\");\n      root._bokeh_failed_load = true;\n    } else if (force !== true) {\n      var cell = $(document.getElementById(\"1052\")).parents('.cell').data().cell;\n      cell.output_area.append_execute_result(NB_LOAD_WARNING)\n    }\n\n  }\n\n  if (root._bokeh_is_loading === 0) {\n    console.debug(\"Bokeh: BokehJS loaded, going straight to plotting\");\n    run_inline_js();\n  } else {\n    load_libs(css_urls, js_urls, function() {\n      console.debug(\"Bokeh: BokehJS plotting callback run at\", now());\n      run_inline_js();\n    });\n  }\n}(window));"
     },
     "metadata": {},
     "output_type": "display_data"
    },
    {
     "data": {
      "text/html": [
       "\n",
       "\n",
       "\n",
       "\n",
       "\n",
       "\n",
       "  <div class=\"bk-root\" id=\"bb9db9b3-41af-4124-8c4e-feddfa019a79\" data-root-id=\"1002\"></div>\n"
      ]
     },
     "metadata": {},
     "output_type": "display_data"
    },
    {
     "data": {
      "application/javascript": [
       "(function(root) {\n",
       "  function embed_document(root) {\n",
       "    \n",
       "  var docs_json = {\"cc699ebc-7030-42ba-89d1-57e0a78f7711\":{\"defs\":[],\"roots\":{\"references\":[{\"attributes\":{\"below\":[{\"id\":\"1013\"}],\"center\":[{\"id\":\"1016\"},{\"id\":\"1020\"},{\"id\":\"1050\"}],\"left\":[{\"id\":\"1017\"}],\"renderers\":[{\"id\":\"1038\"}],\"title\":{\"id\":\"1003\"},\"toolbar\":{\"id\":\"1028\"},\"x_range\":{\"id\":\"1005\"},\"x_scale\":{\"id\":\"1009\"},\"y_range\":{\"id\":\"1007\"},\"y_scale\":{\"id\":\"1011\"}},\"id\":\"1002\",\"subtype\":\"Figure\",\"type\":\"Plot\"},{\"attributes\":{\"data\":{\"x\":[1,2,3,4,5],\"y\":[6,7,2,4,5]},\"selected\":{\"id\":\"1047\"},\"selection_policy\":{\"id\":\"1048\"}},\"id\":\"1035\",\"type\":\"ColumnDataSource\"},{\"attributes\":{},\"id\":\"1014\",\"type\":\"BasicTicker\"},{\"attributes\":{\"axis\":{\"id\":\"1013\"},\"ticker\":null},\"id\":\"1016\",\"type\":\"Grid\"},{\"attributes\":{},\"id\":\"1044\",\"type\":\"AllLabels\"},{\"attributes\":{},\"id\":\"1022\",\"type\":\"WheelZoomTool\"},{\"attributes\":{\"axis_label\":\"y\",\"formatter\":{\"id\":\"1046\"},\"major_label_policy\":{\"id\":\"1044\"},\"ticker\":{\"id\":\"1018\"}},\"id\":\"1017\",\"type\":\"LinearAxis\"},{\"attributes\":{},\"id\":\"1046\",\"type\":\"BasicTickFormatter\"},{\"attributes\":{\"axis\":{\"id\":\"1017\"},\"dimension\":1,\"ticker\":null},\"id\":\"1020\",\"type\":\"Grid\"},{\"attributes\":{},\"id\":\"1018\",\"type\":\"BasicTicker\"},{\"attributes\":{},\"id\":\"1026\",\"type\":\"HelpTool\"},{\"attributes\":{\"active_multi\":null,\"tools\":[{\"id\":\"1021\"},{\"id\":\"1022\"},{\"id\":\"1023\"},{\"id\":\"1024\"},{\"id\":\"1025\"},{\"id\":\"1026\"}]},\"id\":\"1028\",\"type\":\"Toolbar\"},{\"attributes\":{},\"id\":\"1021\",\"type\":\"PanTool\"},{\"attributes\":{\"overlay\":{\"id\":\"1027\"}},\"id\":\"1023\",\"type\":\"BoxZoomTool\"},{\"attributes\":{},\"id\":\"1007\",\"type\":\"DataRange1d\"},{\"attributes\":{},\"id\":\"1024\",\"type\":\"SaveTool\"},{\"attributes\":{\"data_source\":{\"id\":\"1035\"},\"glyph\":{\"id\":\"1036\"},\"hover_glyph\":null,\"muted_glyph\":null,\"nonselection_glyph\":{\"id\":\"1037\"},\"view\":{\"id\":\"1039\"}},\"id\":\"1038\",\"type\":\"GlyphRenderer\"},{\"attributes\":{\"source\":{\"id\":\"1035\"}},\"id\":\"1039\",\"type\":\"CDSView\"},{\"attributes\":{},\"id\":\"1025\",\"type\":\"ResetTool\"},{\"attributes\":{\"items\":[{\"id\":\"1051\"}]},\"id\":\"1050\",\"type\":\"Legend\"},{\"attributes\":{},\"id\":\"1041\",\"type\":\"AllLabels\"},{\"attributes\":{\"line_color\":\"#1f77b4\",\"line_width\":2,\"x\":{\"field\":\"x\"},\"y\":{\"field\":\"y\"}},\"id\":\"1036\",\"type\":\"Line\"},{\"attributes\":{},\"id\":\"1043\",\"type\":\"BasicTickFormatter\"},{\"attributes\":{\"label\":{\"value\":\"Temp.\"},\"renderers\":[{\"id\":\"1038\"}]},\"id\":\"1051\",\"type\":\"LegendItem\"},{\"attributes\":{},\"id\":\"1047\",\"type\":\"Selection\"},{\"attributes\":{\"text\":\"Simple line example\"},\"id\":\"1003\",\"type\":\"Title\"},{\"attributes\":{\"line_alpha\":0.1,\"line_color\":\"#1f77b4\",\"line_width\":2,\"x\":{\"field\":\"x\"},\"y\":{\"field\":\"y\"}},\"id\":\"1037\",\"type\":\"Line\"},{\"attributes\":{},\"id\":\"1048\",\"type\":\"UnionRenderers\"},{\"attributes\":{\"axis_label\":\"x\",\"formatter\":{\"id\":\"1043\"},\"major_label_policy\":{\"id\":\"1041\"},\"ticker\":{\"id\":\"1014\"}},\"id\":\"1013\",\"type\":\"LinearAxis\"},{\"attributes\":{},\"id\":\"1011\",\"type\":\"LinearScale\"},{\"attributes\":{},\"id\":\"1009\",\"type\":\"LinearScale\"},{\"attributes\":{\"bottom_units\":\"screen\",\"fill_alpha\":0.5,\"fill_color\":\"lightgrey\",\"left_units\":\"screen\",\"level\":\"overlay\",\"line_alpha\":1.0,\"line_color\":\"black\",\"line_dash\":[4,4],\"line_width\":2,\"right_units\":\"screen\",\"syncable\":false,\"top_units\":\"screen\"},\"id\":\"1027\",\"type\":\"BoxAnnotation\"},{\"attributes\":{},\"id\":\"1005\",\"type\":\"DataRange1d\"}],\"root_ids\":[\"1002\"]},\"title\":\"Bokeh Application\",\"version\":\"2.3.3\"}};\n",
       "  var render_items = [{\"docid\":\"cc699ebc-7030-42ba-89d1-57e0a78f7711\",\"root_ids\":[\"1002\"],\"roots\":{\"1002\":\"bb9db9b3-41af-4124-8c4e-feddfa019a79\"}}];\n",
       "  root.Bokeh.embed.embed_items_notebook(docs_json, render_items);\n",
       "\n",
       "  }\n",
       "  if (root.Bokeh !== undefined) {\n",
       "    embed_document(root);\n",
       "  } else {\n",
       "    var attempts = 0;\n",
       "    var timer = setInterval(function(root) {\n",
       "      if (root.Bokeh !== undefined) {\n",
       "        clearInterval(timer);\n",
       "        embed_document(root);\n",
       "      } else {\n",
       "        attempts++;\n",
       "        if (attempts > 100) {\n",
       "          clearInterval(timer);\n",
       "          console.log(\"Bokeh: ERROR: Unable to run BokehJS code because BokehJS library is missing\");\n",
       "        }\n",
       "      }\n",
       "    }, 10, root)\n",
       "  }\n",
       "})(window);"
      ],
      "application/vnd.bokehjs_exec.v0+json": ""
     },
     "metadata": {
      "application/vnd.bokehjs_exec.v0+json": {
       "id": "1002"
      }
     },
     "output_type": "display_data"
    }
   ],
   "source": [
    "from bokeh.plotting import figure, output_notebook, show, save\n",
    "#Define two lists containing the data for your line chart:\n",
    "\n",
    "# prepare some data\n",
    "x = [1, 2, 3, 4, 5]\n",
    "y = [6, 7, 2, 4, 5]\n",
    "\n",
    "# create a new plot with a title and axis labels\n",
    "p = figure(title=\"Simple line example\", x_axis_label='x', y_axis_label='y')\n",
    "\n",
    "# add a line renderer with legend and line thickness to the plot\n",
    "p.line(x, y, legend_label=\"Temp.\", line_width=2)\n",
    "\n",
    "# show the results\n",
    "output_notebook() # uncomment this line if you want to open a browser window with the plot\n",
    "show(p)"
   ]
  },
  {
   "cell_type": "markdown",
   "id": "ea5b3632",
   "metadata": {},
   "source": [
    "## Combining multiple graphs"
   ]
  },
  {
   "cell_type": "code",
   "execution_count": 3,
   "id": "68ad878f",
   "metadata": {},
   "outputs": [
    {
     "data": {
      "text/html": [
       "\n",
       "\n",
       "\n",
       "\n",
       "\n",
       "\n",
       "  <div class=\"bk-root\" id=\"0a6b24f8-3e9b-4184-92e3-a8f11eaa1f59\" data-root-id=\"1113\"></div>\n"
      ]
     },
     "metadata": {},
     "output_type": "display_data"
    },
    {
     "data": {
      "application/javascript": [
       "(function(root) {\n",
       "  function embed_document(root) {\n",
       "    \n",
       "  var docs_json = {\"5b26b827-d307-4c83-b419-5e6cf431b914\":{\"defs\":[],\"roots\":{\"references\":[{\"attributes\":{\"below\":[{\"id\":\"1124\"}],\"center\":[{\"id\":\"1127\"},{\"id\":\"1131\"},{\"id\":\"1161\"}],\"left\":[{\"id\":\"1128\"}],\"renderers\":[{\"id\":\"1149\"},{\"id\":\"1166\"},{\"id\":\"1184\"}],\"title\":{\"id\":\"1114\"},\"toolbar\":{\"id\":\"1139\"},\"x_range\":{\"id\":\"1116\"},\"x_scale\":{\"id\":\"1120\"},\"y_range\":{\"id\":\"1118\"},\"y_scale\":{\"id\":\"1122\"}},\"id\":\"1113\",\"subtype\":\"Figure\",\"type\":\"Plot\"},{\"attributes\":{\"active_multi\":null,\"tools\":[{\"id\":\"1132\"},{\"id\":\"1133\"},{\"id\":\"1134\"},{\"id\":\"1135\"},{\"id\":\"1136\"},{\"id\":\"1137\"}]},\"id\":\"1139\",\"type\":\"Toolbar\"},{\"attributes\":{},\"id\":\"1122\",\"type\":\"LinearScale\"},{\"attributes\":{\"label\":{\"value\":\"Objects\"},\"renderers\":[{\"id\":\"1184\"}]},\"id\":\"1200\",\"type\":\"LegendItem\"},{\"attributes\":{\"source\":{\"id\":\"1163\"}},\"id\":\"1167\",\"type\":\"CDSView\"},{\"attributes\":{\"data\":{\"x\":[1,2,3,4,5],\"y\":[4,5,5,7,2]},\"selected\":{\"id\":\"1197\"},\"selection_policy\":{\"id\":\"1198\"}},\"id\":\"1181\",\"type\":\"ColumnDataSource\"},{\"attributes\":{},\"id\":\"1137\",\"type\":\"HelpTool\"},{\"attributes\":{\"line_color\":\"red\",\"line_width\":2,\"x\":{\"field\":\"x\"},\"y\":{\"field\":\"y\"}},\"id\":\"1164\",\"type\":\"Line\"},{\"attributes\":{\"label\":{\"value\":\"Temp.\"},\"renderers\":[{\"id\":\"1149\"}]},\"id\":\"1162\",\"type\":\"LegendItem\"},{\"attributes\":{},\"id\":\"1120\",\"type\":\"LinearScale\"},{\"attributes\":{},\"id\":\"1158\",\"type\":\"Selection\"},{\"attributes\":{},\"id\":\"1118\",\"type\":\"DataRange1d\"},{\"attributes\":{\"line_alpha\":0.1,\"line_color\":\"red\",\"line_width\":2,\"x\":{\"field\":\"x\"},\"y\":{\"field\":\"y\"}},\"id\":\"1165\",\"type\":\"Line\"},{\"attributes\":{},\"id\":\"1152\",\"type\":\"AllLabels\"},{\"attributes\":{},\"id\":\"1136\",\"type\":\"ResetTool\"},{\"attributes\":{},\"id\":\"1159\",\"type\":\"UnionRenderers\"},{\"attributes\":{},\"id\":\"1125\",\"type\":\"BasicTicker\"},{\"attributes\":{},\"id\":\"1116\",\"type\":\"DataRange1d\"},{\"attributes\":{\"items\":[{\"id\":\"1162\"},{\"id\":\"1180\"},{\"id\":\"1200\"}]},\"id\":\"1161\",\"type\":\"Legend\"},{\"attributes\":{\"source\":{\"id\":\"1181\"}},\"id\":\"1185\",\"type\":\"CDSView\"},{\"attributes\":{\"data_source\":{\"id\":\"1163\"},\"glyph\":{\"id\":\"1164\"},\"hover_glyph\":null,\"muted_glyph\":null,\"nonselection_glyph\":{\"id\":\"1165\"},\"view\":{\"id\":\"1167\"}},\"id\":\"1166\",\"type\":\"GlyphRenderer\"},{\"attributes\":{},\"id\":\"1133\",\"type\":\"WheelZoomTool\"},{\"attributes\":{\"data_source\":{\"id\":\"1146\"},\"glyph\":{\"id\":\"1147\"},\"hover_glyph\":null,\"muted_glyph\":null,\"nonselection_glyph\":{\"id\":\"1148\"},\"view\":{\"id\":\"1150\"}},\"id\":\"1149\",\"type\":\"GlyphRenderer\"},{\"attributes\":{},\"id\":\"1154\",\"type\":\"BasicTickFormatter\"},{\"attributes\":{\"data\":{\"x\":[1,2,3,4,5],\"y\":[6,7,2,4,5]},\"selected\":{\"id\":\"1158\"},\"selection_policy\":{\"id\":\"1159\"}},\"id\":\"1146\",\"type\":\"ColumnDataSource\"},{\"attributes\":{},\"id\":\"1197\",\"type\":\"Selection\"},{\"attributes\":{\"text\":\"Multiple line example\"},\"id\":\"1114\",\"type\":\"Title\"},{\"attributes\":{\"data\":{\"x\":[1,2,3,4,5],\"y\":[2,3,4,5,6]},\"selected\":{\"id\":\"1177\"},\"selection_policy\":{\"id\":\"1178\"}},\"id\":\"1163\",\"type\":\"ColumnDataSource\"},{\"attributes\":{},\"id\":\"1198\",\"type\":\"UnionRenderers\"},{\"attributes\":{\"source\":{\"id\":\"1146\"}},\"id\":\"1150\",\"type\":\"CDSView\"},{\"attributes\":{\"axis\":{\"id\":\"1128\"},\"dimension\":1,\"ticker\":null},\"id\":\"1131\",\"type\":\"Grid\"},{\"attributes\":{\"bottom_units\":\"screen\",\"fill_alpha\":0.5,\"fill_color\":\"lightgrey\",\"left_units\":\"screen\",\"level\":\"overlay\",\"line_alpha\":1.0,\"line_color\":\"black\",\"line_dash\":[4,4],\"line_width\":2,\"right_units\":\"screen\",\"syncable\":false,\"top_units\":\"screen\"},\"id\":\"1138\",\"type\":\"BoxAnnotation\"},{\"attributes\":{\"axis_label\":\"y\",\"formatter\":{\"id\":\"1157\"},\"major_label_policy\":{\"id\":\"1155\"},\"ticker\":{\"id\":\"1129\"}},\"id\":\"1128\",\"type\":\"LinearAxis\"},{\"attributes\":{},\"id\":\"1177\",\"type\":\"Selection\"},{\"attributes\":{\"line_alpha\":0.1,\"line_color\":\"blue\",\"line_width\":2,\"x\":{\"field\":\"x\"},\"y\":{\"field\":\"y\"}},\"id\":\"1148\",\"type\":\"Line\"},{\"attributes\":{},\"id\":\"1178\",\"type\":\"UnionRenderers\"},{\"attributes\":{\"overlay\":{\"id\":\"1138\"}},\"id\":\"1134\",\"type\":\"BoxZoomTool\"},{\"attributes\":{},\"id\":\"1135\",\"type\":\"SaveTool\"},{\"attributes\":{},\"id\":\"1155\",\"type\":\"AllLabels\"},{\"attributes\":{},\"id\":\"1157\",\"type\":\"BasicTickFormatter\"},{\"attributes\":{\"line_color\":\"blue\",\"line_width\":2,\"x\":{\"field\":\"x\"},\"y\":{\"field\":\"y\"}},\"id\":\"1147\",\"type\":\"Line\"},{\"attributes\":{\"data_source\":{\"id\":\"1181\"},\"glyph\":{\"id\":\"1182\"},\"hover_glyph\":null,\"muted_glyph\":null,\"nonselection_glyph\":{\"id\":\"1183\"},\"view\":{\"id\":\"1185\"}},\"id\":\"1184\",\"type\":\"GlyphRenderer\"},{\"attributes\":{\"axis\":{\"id\":\"1124\"},\"ticker\":null},\"id\":\"1127\",\"type\":\"Grid\"},{\"attributes\":{},\"id\":\"1129\",\"type\":\"BasicTicker\"},{\"attributes\":{\"axis_label\":\"x\",\"formatter\":{\"id\":\"1154\"},\"major_label_policy\":{\"id\":\"1152\"},\"ticker\":{\"id\":\"1125\"}},\"id\":\"1124\",\"type\":\"LinearAxis\"},{\"attributes\":{\"line_alpha\":0.1,\"line_color\":\"green\",\"line_width\":2,\"x\":{\"field\":\"x\"},\"y\":{\"field\":\"y\"}},\"id\":\"1183\",\"type\":\"Line\"},{\"attributes\":{\"label\":{\"value\":\"Rate\"},\"renderers\":[{\"id\":\"1166\"}]},\"id\":\"1180\",\"type\":\"LegendItem\"},{\"attributes\":{\"line_color\":\"green\",\"line_width\":2,\"x\":{\"field\":\"x\"},\"y\":{\"field\":\"y\"}},\"id\":\"1182\",\"type\":\"Line\"},{\"attributes\":{},\"id\":\"1132\",\"type\":\"PanTool\"}],\"root_ids\":[\"1113\"]},\"title\":\"Bokeh Application\",\"version\":\"2.3.3\"}};\n",
       "  var render_items = [{\"docid\":\"5b26b827-d307-4c83-b419-5e6cf431b914\",\"root_ids\":[\"1113\"],\"roots\":{\"1113\":\"0a6b24f8-3e9b-4184-92e3-a8f11eaa1f59\"}}];\n",
       "  root.Bokeh.embed.embed_items_notebook(docs_json, render_items);\n",
       "\n",
       "  }\n",
       "  if (root.Bokeh !== undefined) {\n",
       "    embed_document(root);\n",
       "  } else {\n",
       "    var attempts = 0;\n",
       "    var timer = setInterval(function(root) {\n",
       "      if (root.Bokeh !== undefined) {\n",
       "        clearInterval(timer);\n",
       "        embed_document(root);\n",
       "      } else {\n",
       "        attempts++;\n",
       "        if (attempts > 100) {\n",
       "          clearInterval(timer);\n",
       "          console.log(\"Bokeh: ERROR: Unable to run BokehJS code because BokehJS library is missing\");\n",
       "        }\n",
       "      }\n",
       "    }, 10, root)\n",
       "  }\n",
       "})(window);"
      ],
      "application/vnd.bokehjs_exec.v0+json": ""
     },
     "metadata": {
      "application/vnd.bokehjs_exec.v0+json": {
       "id": "1113"
      }
     },
     "output_type": "display_data"
    }
   ],
   "source": [
    "# prepare some data\n",
    "x = [1, 2, 3, 4, 5]\n",
    "y1 = [6, 7, 2, 4, 5]\n",
    "y2 = [2, 3, 4, 5, 6]\n",
    "y3 = [4, 5, 5, 7, 2]\n",
    "\n",
    "# create a new plot with a title and axis labels\n",
    "p = figure(title=\"Multiple line example\", x_axis_label=\"x\", y_axis_label=\"y\")\n",
    "\n",
    "# add multiple renderers\n",
    "p.line(x, y1, legend_label=\"Temp.\", line_color=\"blue\", line_width=2)\n",
    "p.line(x, y2, legend_label=\"Rate\", line_color=\"red\", line_width=2)\n",
    "p.line(x, y3, legend_label=\"Objects\", line_color=\"green\", line_width=2)\n",
    "\n",
    "# show the results\n",
    "show(p)\n"
   ]
  },
  {
   "cell_type": "markdown",
   "id": "46ccc179",
   "metadata": {},
   "source": [
    "## Recap: building visualizations\n",
    "You just completed all the basic steps that most basic visualizations with Bokeh’s bokeh.plotting interface require:\n",
    "\n",
    "#### Preparing the data\n",
    "You used a plain Python list, but other forms of serialized data work as well.\n",
    "\n",
    "#### Calling the figure() function\n",
    "This creates a plot with the most common default options. You can customize various properties of your plot, such as its title, tools, and axes labels.\n",
    "\n",
    "#### Adding renderers\n",
    "You used line() to create a line. Renderers have various options that allow you to specify visual attributes such as colors, legends, and widths.\n",
    "\n",
    "#### Asking Bokeh to show() or save() the results\n",
    "These functions either save your plot to an HTML file or display it in a browser.\n",
    "Use **output_notebook()** to display the file in jupyter"
   ]
  },
  {
   "cell_type": "markdown",
   "id": "94a4c758",
   "metadata": {},
   "source": [
    "# First steps 2: Adding and customizing renderers\n",
    "In the previous first steps guide, you used Bokeh’s figure() function to render line charts.\n",
    "\n",
    "In this section, you will use different renderer functions to create various other kinds of graphs. You will also customize what your glyphs look like.\n",
    "\n",
    "Rendering different glyphs\n",
    "Bokeh’s plotting interface supports many different glyphs, such as lines, bars, hex tiles, or other polygons.\n",
    "\n",
    "A full list of all supported glyph methods is available in Bokeh’s reference guide for the [figure()](https://docs.bokeh.org/en/latest/docs/reference/plotting/figure.html#bokeh.plotting.figure) function. For detailed information on Bokeh’s glyphs, see [Plotting with basic glyphs](https://docs.bokeh.org/en/latest/docs/user_guide/plotting.html#userguide-plotting) in Bokeh’s user guide.\n",
    "\n",
    "## Rendering circles"
   ]
  },
  {
   "cell_type": "code",
   "execution_count": 4,
   "id": "0cfd0104",
   "metadata": {},
   "outputs": [
    {
     "data": {
      "text/html": [
       "\n",
       "\n",
       "\n",
       "\n",
       "\n",
       "\n",
       "  <div class=\"bk-root\" id=\"f943ef3b-56d6-46ca-9109-69a970a196ad\" data-root-id=\"1295\"></div>\n"
      ]
     },
     "metadata": {},
     "output_type": "display_data"
    },
    {
     "data": {
      "application/javascript": [
       "(function(root) {\n",
       "  function embed_document(root) {\n",
       "    \n",
       "  var docs_json = {\"e283dd14-2fd4-45be-86bb-05545e19e42c\":{\"defs\":[],\"roots\":{\"references\":[{\"attributes\":{\"below\":[{\"id\":\"1306\"}],\"center\":[{\"id\":\"1309\"},{\"id\":\"1313\"},{\"id\":\"1343\"}],\"left\":[{\"id\":\"1310\"}],\"renderers\":[{\"id\":\"1331\"},{\"id\":\"1348\"},{\"id\":\"1366\"}],\"title\":{\"id\":\"1296\"},\"toolbar\":{\"id\":\"1321\"},\"x_range\":{\"id\":\"1298\"},\"x_scale\":{\"id\":\"1302\"},\"y_range\":{\"id\":\"1300\"},\"y_scale\":{\"id\":\"1304\"}},\"id\":\"1295\",\"subtype\":\"Figure\",\"type\":\"Plot\"},{\"attributes\":{\"bottom_units\":\"screen\",\"fill_alpha\":0.5,\"fill_color\":\"lightgrey\",\"left_units\":\"screen\",\"level\":\"overlay\",\"line_alpha\":1.0,\"line_color\":\"black\",\"line_dash\":[4,4],\"line_width\":2,\"right_units\":\"screen\",\"syncable\":false,\"top_units\":\"screen\"},\"id\":\"1320\",\"type\":\"BoxAnnotation\"},{\"attributes\":{},\"id\":\"1380\",\"type\":\"UnionRenderers\"},{\"attributes\":{},\"id\":\"1379\",\"type\":\"Selection\"},{\"attributes\":{\"source\":{\"id\":\"1328\"}},\"id\":\"1332\",\"type\":\"CDSView\"},{\"attributes\":{},\"id\":\"1360\",\"type\":\"UnionRenderers\"},{\"attributes\":{\"line_alpha\":0.1,\"line_color\":\"blue\",\"line_width\":2,\"x\":{\"field\":\"x\"},\"y\":{\"field\":\"y\"}},\"id\":\"1330\",\"type\":\"Line\"},{\"attributes\":{},\"id\":\"1359\",\"type\":\"Selection\"},{\"attributes\":{\"text\":\"Multiple glyphs example\"},\"id\":\"1296\",\"type\":\"Title\"},{\"attributes\":{\"items\":[{\"id\":\"1344\"},{\"id\":\"1362\"},{\"id\":\"1382\"}]},\"id\":\"1343\",\"type\":\"Legend\"},{\"attributes\":{},\"id\":\"1337\",\"type\":\"AllLabels\"},{\"attributes\":{\"overlay\":{\"id\":\"1320\"}},\"id\":\"1316\",\"type\":\"BoxZoomTool\"},{\"attributes\":{},\"id\":\"1298\",\"type\":\"DataRange1d\"},{\"attributes\":{},\"id\":\"1304\",\"type\":\"LinearScale\"},{\"attributes\":{},\"id\":\"1339\",\"type\":\"BasicTickFormatter\"},{\"attributes\":{\"axis_label\":\"x\",\"formatter\":{\"id\":\"1336\"},\"major_label_policy\":{\"id\":\"1334\"},\"ticker\":{\"id\":\"1307\"}},\"id\":\"1306\",\"type\":\"LinearAxis\"},{\"attributes\":{\"data\":{\"x\":[1,2,3,4,5],\"y\":[6,7,2,4,5]},\"selected\":{\"id\":\"1340\"},\"selection_policy\":{\"id\":\"1341\"}},\"id\":\"1328\",\"type\":\"ColumnDataSource\"},{\"attributes\":{\"active_multi\":null,\"tools\":[{\"id\":\"1314\"},{\"id\":\"1315\"},{\"id\":\"1316\"},{\"id\":\"1317\"},{\"id\":\"1318\"},{\"id\":\"1319\"}]},\"id\":\"1321\",\"type\":\"Toolbar\"},{\"attributes\":{\"fill_color\":{\"value\":\"#1f77b4\"},\"line_color\":{\"value\":\"yellow\"},\"size\":{\"value\":12},\"x\":{\"field\":\"x\"},\"y\":{\"field\":\"y\"}},\"id\":\"1364\",\"type\":\"Circle\"},{\"attributes\":{\"data\":{\"top\":[2,3,4,5,6],\"x\":[1,2,3,4,5]},\"selected\":{\"id\":\"1359\"},\"selection_policy\":{\"id\":\"1360\"}},\"id\":\"1345\",\"type\":\"ColumnDataSource\"},{\"attributes\":{},\"id\":\"1302\",\"type\":\"LinearScale\"},{\"attributes\":{\"axis\":{\"id\":\"1310\"},\"dimension\":1,\"ticker\":null},\"id\":\"1313\",\"type\":\"Grid\"},{\"attributes\":{\"axis_label\":\"y\",\"formatter\":{\"id\":\"1339\"},\"major_label_policy\":{\"id\":\"1337\"},\"ticker\":{\"id\":\"1311\"}},\"id\":\"1310\",\"type\":\"LinearAxis\"},{\"attributes\":{\"source\":{\"id\":\"1363\"}},\"id\":\"1367\",\"type\":\"CDSView\"},{\"attributes\":{},\"id\":\"1317\",\"type\":\"SaveTool\"},{\"attributes\":{},\"id\":\"1314\",\"type\":\"PanTool\"},{\"attributes\":{\"data_source\":{\"id\":\"1345\"},\"glyph\":{\"id\":\"1346\"},\"hover_glyph\":null,\"muted_glyph\":null,\"nonselection_glyph\":{\"id\":\"1347\"},\"view\":{\"id\":\"1349\"}},\"id\":\"1348\",\"type\":\"GlyphRenderer\"},{\"attributes\":{},\"id\":\"1300\",\"type\":\"DataRange1d\"},{\"attributes\":{\"fill_alpha\":{\"value\":0.1},\"fill_color\":{\"value\":\"#1f77b4\"},\"line_alpha\":{\"value\":0.1},\"line_color\":{\"value\":\"yellow\"},\"size\":{\"value\":12},\"x\":{\"field\":\"x\"},\"y\":{\"field\":\"y\"}},\"id\":\"1365\",\"type\":\"Circle\"},{\"attributes\":{},\"id\":\"1334\",\"type\":\"AllLabels\"},{\"attributes\":{\"data_source\":{\"id\":\"1363\"},\"glyph\":{\"id\":\"1364\"},\"hover_glyph\":null,\"muted_glyph\":null,\"nonselection_glyph\":{\"id\":\"1365\"},\"view\":{\"id\":\"1367\"}},\"id\":\"1366\",\"type\":\"GlyphRenderer\"},{\"attributes\":{\"data_source\":{\"id\":\"1328\"},\"glyph\":{\"id\":\"1329\"},\"hover_glyph\":null,\"muted_glyph\":null,\"nonselection_glyph\":{\"id\":\"1330\"},\"view\":{\"id\":\"1332\"}},\"id\":\"1331\",\"type\":\"GlyphRenderer\"},{\"attributes\":{\"data\":{\"x\":[1,2,3,4,5],\"y\":[4,5,5,7,2]},\"selected\":{\"id\":\"1379\"},\"selection_policy\":{\"id\":\"1380\"}},\"id\":\"1363\",\"type\":\"ColumnDataSource\"},{\"attributes\":{\"line_color\":\"blue\",\"line_width\":2,\"x\":{\"field\":\"x\"},\"y\":{\"field\":\"y\"}},\"id\":\"1329\",\"type\":\"Line\"},{\"attributes\":{\"fill_alpha\":{\"value\":0.1},\"fill_color\":{\"value\":\"red\"},\"line_alpha\":{\"value\":0.1},\"line_color\":{\"value\":\"red\"},\"top\":{\"field\":\"top\"},\"width\":{\"value\":0.5},\"x\":{\"field\":\"x\"}},\"id\":\"1347\",\"type\":\"VBar\"},{\"attributes\":{},\"id\":\"1307\",\"type\":\"BasicTicker\"},{\"attributes\":{},\"id\":\"1315\",\"type\":\"WheelZoomTool\"},{\"attributes\":{},\"id\":\"1340\",\"type\":\"Selection\"},{\"attributes\":{\"source\":{\"id\":\"1345\"}},\"id\":\"1349\",\"type\":\"CDSView\"},{\"attributes\":{},\"id\":\"1341\",\"type\":\"UnionRenderers\"},{\"attributes\":{\"label\":{\"value\":\"Objects\"},\"renderers\":[{\"id\":\"1366\"}]},\"id\":\"1382\",\"type\":\"LegendItem\"},{\"attributes\":{},\"id\":\"1318\",\"type\":\"ResetTool\"},{\"attributes\":{},\"id\":\"1311\",\"type\":\"BasicTicker\"},{\"attributes\":{},\"id\":\"1336\",\"type\":\"BasicTickFormatter\"},{\"attributes\":{\"label\":{\"value\":\"Rate\"},\"renderers\":[{\"id\":\"1348\"}]},\"id\":\"1362\",\"type\":\"LegendItem\"},{\"attributes\":{\"axis\":{\"id\":\"1306\"},\"ticker\":null},\"id\":\"1309\",\"type\":\"Grid\"},{\"attributes\":{\"label\":{\"value\":\"Temp.\"},\"renderers\":[{\"id\":\"1331\"}]},\"id\":\"1344\",\"type\":\"LegendItem\"},{\"attributes\":{\"fill_color\":{\"value\":\"red\"},\"line_color\":{\"value\":\"red\"},\"top\":{\"field\":\"top\"},\"width\":{\"value\":0.5},\"x\":{\"field\":\"x\"}},\"id\":\"1346\",\"type\":\"VBar\"},{\"attributes\":{},\"id\":\"1319\",\"type\":\"HelpTool\"}],\"root_ids\":[\"1295\"]},\"title\":\"Bokeh Application\",\"version\":\"2.3.3\"}};\n",
       "  var render_items = [{\"docid\":\"e283dd14-2fd4-45be-86bb-05545e19e42c\",\"root_ids\":[\"1295\"],\"roots\":{\"1295\":\"f943ef3b-56d6-46ca-9109-69a970a196ad\"}}];\n",
       "  root.Bokeh.embed.embed_items_notebook(docs_json, render_items);\n",
       "\n",
       "  }\n",
       "  if (root.Bokeh !== undefined) {\n",
       "    embed_document(root);\n",
       "  } else {\n",
       "    var attempts = 0;\n",
       "    var timer = setInterval(function(root) {\n",
       "      if (root.Bokeh !== undefined) {\n",
       "        clearInterval(timer);\n",
       "        embed_document(root);\n",
       "      } else {\n",
       "        attempts++;\n",
       "        if (attempts > 100) {\n",
       "          clearInterval(timer);\n",
       "          console.log(\"Bokeh: ERROR: Unable to run BokehJS code because BokehJS library is missing\");\n",
       "        }\n",
       "      }\n",
       "    }, 10, root)\n",
       "  }\n",
       "})(window);"
      ],
      "application/vnd.bokehjs_exec.v0+json": ""
     },
     "metadata": {
      "application/vnd.bokehjs_exec.v0+json": {
       "id": "1295"
      }
     },
     "output_type": "display_data"
    }
   ],
   "source": [
    "# prepare some data\n",
    "x = [1, 2, 3, 4, 5]\n",
    "y1 = [6, 7, 2, 4, 5]\n",
    "y2 = [2, 3, 4, 5, 6]\n",
    "y3 = [4, 5, 5, 7, 2]\n",
    "\n",
    "# create a new plot with a title and axis labels\n",
    "p = figure(title=\"Multiple glyphs example\", x_axis_label=\"x\", y_axis_label=\"y\")\n",
    "\n",
    "# add multiple renderers\n",
    "p.line(x, y1, legend_label=\"Temp.\", line_color=\"blue\", line_width=2)\n",
    "p.vbar(x=x, top=y2, legend_label=\"Rate\", width=0.5, bottom=0, color=\"red\")\n",
    "p.circle(x, y3, legend_label=\"Objects\", line_color=\"yellow\", size=12)\n",
    "\n",
    "# show the results\n",
    "show(p)"
   ]
  },
  {
   "cell_type": "markdown",
   "id": "172d7cb1",
   "metadata": {},
   "source": [
    "To learn more about bar graphs and other ways Bokeh handles categorical data, see [Handling categorical data](https://docs.bokeh.org/en/latest/docs/user_guide/categorical.html#userguide-categorical) in the user guide.\n",
    "\n",
    "## Customizing glyphs\n",
    "The different renderer functions accept various arguments to control what your glyphs look like."
   ]
  },
  {
   "cell_type": "markdown",
   "id": "fe91bb6b",
   "metadata": {},
   "source": [
    "### Defining properties of new glyphs\n",
    "The circle() function, for example, lets you define aspects like the color or diameter of the circles:\n",
    "\n",
    "**fill_color**: the fill color of the circles\n",
    "**fill_alpha**: the transparency of the fill color (any value between 0 and 1)\n",
    "**line_color**: the fill color of the circles’ outlines\n",
    "**size**: the size of the circles (in screen units or data units)\n",
    "**legend_label**: legend entry for the circles\n",
    "\n",
    "#### colors\n",
    "In Bokeh, you can specify colors in several ways. For example:\n",
    "- Use one of the named CSS colors (for example, \"firebrick\")\n",
    "- Use hexadecimal values, prefaced with a # (for example \"#00ff00\")\n",
    "- Use a 3-tuple for RGB colors (for example, (100, 100, 255)\n",
    "- Use a 4-tuple for RGBA colors (for example (100, 100, 255, 0.5))\n",
    "\n",
    "Create circles with the legend label “Objects” and make the circles appear slightly transparent with a red fill color and blue outlines:\n"
   ]
  },
  {
   "cell_type": "code",
   "execution_count": 5,
   "id": "2c952f6d",
   "metadata": {},
   "outputs": [
    {
     "data": {
      "text/html": [
       "\n",
       "\n",
       "\n",
       "\n",
       "\n",
       "\n",
       "  <div class=\"bk-root\" id=\"72b8d656-867e-49ab-a652-3c097ea6b839\" data-root-id=\"1491\"></div>\n"
      ]
     },
     "metadata": {},
     "output_type": "display_data"
    },
    {
     "data": {
      "application/javascript": [
       "(function(root) {\n",
       "  function embed_document(root) {\n",
       "    \n",
       "  var docs_json = {\"88dd2dac-6c6e-4213-9a1b-cd64fe7bb3f4\":{\"defs\":[],\"roots\":{\"references\":[{\"attributes\":{\"below\":[{\"id\":\"1502\"}],\"center\":[{\"id\":\"1505\"},{\"id\":\"1509\"},{\"id\":\"1539\"}],\"left\":[{\"id\":\"1506\"}],\"renderers\":[{\"id\":\"1527\"}],\"title\":{\"id\":\"1492\"},\"toolbar\":{\"id\":\"1517\"},\"x_range\":{\"id\":\"1494\"},\"x_scale\":{\"id\":\"1498\"},\"y_range\":{\"id\":\"1496\"},\"y_scale\":{\"id\":\"1500\"}},\"id\":\"1491\",\"subtype\":\"Figure\",\"type\":\"Plot\"},{\"attributes\":{\"items\":[{\"id\":\"1540\"}]},\"id\":\"1539\",\"type\":\"Legend\"},{\"attributes\":{\"data\":{\"x\":[1,2,3,4,5],\"y\":[4,5,5,7,2]},\"selected\":{\"id\":\"1536\"},\"selection_policy\":{\"id\":\"1537\"}},\"id\":\"1524\",\"type\":\"ColumnDataSource\"},{\"attributes\":{\"text\":\"Glyphs properties example\"},\"id\":\"1492\",\"type\":\"Title\"},{\"attributes\":{\"fill_alpha\":{\"value\":0.5},\"fill_color\":{\"value\":\"red\"},\"line_color\":{\"value\":\"blue\"},\"size\":{\"value\":80},\"x\":{\"field\":\"x\"},\"y\":{\"field\":\"y\"}},\"id\":\"1525\",\"type\":\"Circle\"},{\"attributes\":{},\"id\":\"1496\",\"type\":\"DataRange1d\"},{\"attributes\":{},\"id\":\"1494\",\"type\":\"DataRange1d\"},{\"attributes\":{\"data_source\":{\"id\":\"1524\"},\"glyph\":{\"id\":\"1525\"},\"hover_glyph\":null,\"muted_glyph\":null,\"nonselection_glyph\":{\"id\":\"1526\"},\"view\":{\"id\":\"1528\"}},\"id\":\"1527\",\"type\":\"GlyphRenderer\"},{\"attributes\":{},\"id\":\"1498\",\"type\":\"LinearScale\"},{\"attributes\":{},\"id\":\"1533\",\"type\":\"AllLabels\"},{\"attributes\":{},\"id\":\"1536\",\"type\":\"Selection\"},{\"attributes\":{\"label\":{\"value\":\"Objects\"},\"renderers\":[{\"id\":\"1527\"}]},\"id\":\"1540\",\"type\":\"LegendItem\"},{\"attributes\":{},\"id\":\"1510\",\"type\":\"PanTool\"},{\"attributes\":{},\"id\":\"1535\",\"type\":\"BasicTickFormatter\"},{\"attributes\":{},\"id\":\"1530\",\"type\":\"AllLabels\"},{\"attributes\":{\"axis\":{\"id\":\"1506\"},\"dimension\":1,\"ticker\":null},\"id\":\"1509\",\"type\":\"Grid\"},{\"attributes\":{},\"id\":\"1513\",\"type\":\"SaveTool\"},{\"attributes\":{},\"id\":\"1500\",\"type\":\"LinearScale\"},{\"attributes\":{\"axis_label\":\"x\",\"formatter\":{\"id\":\"1532\"},\"major_label_policy\":{\"id\":\"1530\"},\"ticker\":{\"id\":\"1503\"}},\"id\":\"1502\",\"type\":\"LinearAxis\"},{\"attributes\":{},\"id\":\"1503\",\"type\":\"BasicTicker\"},{\"attributes\":{\"axis\":{\"id\":\"1502\"},\"ticker\":null},\"id\":\"1505\",\"type\":\"Grid\"},{\"attributes\":{\"source\":{\"id\":\"1524\"}},\"id\":\"1528\",\"type\":\"CDSView\"},{\"attributes\":{},\"id\":\"1511\",\"type\":\"WheelZoomTool\"},{\"attributes\":{\"bottom_units\":\"screen\",\"fill_alpha\":0.5,\"fill_color\":\"lightgrey\",\"left_units\":\"screen\",\"level\":\"overlay\",\"line_alpha\":1.0,\"line_color\":\"black\",\"line_dash\":[4,4],\"line_width\":2,\"right_units\":\"screen\",\"syncable\":false,\"top_units\":\"screen\"},\"id\":\"1516\",\"type\":\"BoxAnnotation\"},{\"attributes\":{\"axis_label\":\"y\",\"formatter\":{\"id\":\"1535\"},\"major_label_policy\":{\"id\":\"1533\"},\"ticker\":{\"id\":\"1507\"}},\"id\":\"1506\",\"type\":\"LinearAxis\"},{\"attributes\":{},\"id\":\"1507\",\"type\":\"BasicTicker\"},{\"attributes\":{},\"id\":\"1537\",\"type\":\"UnionRenderers\"},{\"attributes\":{},\"id\":\"1532\",\"type\":\"BasicTickFormatter\"},{\"attributes\":{\"fill_alpha\":{\"value\":0.1},\"fill_color\":{\"value\":\"red\"},\"line_alpha\":{\"value\":0.1},\"line_color\":{\"value\":\"blue\"},\"size\":{\"value\":80},\"x\":{\"field\":\"x\"},\"y\":{\"field\":\"y\"}},\"id\":\"1526\",\"type\":\"Circle\"},{\"attributes\":{\"active_multi\":null,\"tools\":[{\"id\":\"1510\"},{\"id\":\"1511\"},{\"id\":\"1512\"},{\"id\":\"1513\"},{\"id\":\"1514\"},{\"id\":\"1515\"}]},\"id\":\"1517\",\"type\":\"Toolbar\"},{\"attributes\":{},\"id\":\"1515\",\"type\":\"HelpTool\"},{\"attributes\":{\"overlay\":{\"id\":\"1516\"}},\"id\":\"1512\",\"type\":\"BoxZoomTool\"},{\"attributes\":{},\"id\":\"1514\",\"type\":\"ResetTool\"}],\"root_ids\":[\"1491\"]},\"title\":\"Bokeh Application\",\"version\":\"2.3.3\"}};\n",
       "  var render_items = [{\"docid\":\"88dd2dac-6c6e-4213-9a1b-cd64fe7bb3f4\",\"root_ids\":[\"1491\"],\"roots\":{\"1491\":\"72b8d656-867e-49ab-a652-3c097ea6b839\"}}];\n",
       "  root.Bokeh.embed.embed_items_notebook(docs_json, render_items);\n",
       "\n",
       "  }\n",
       "  if (root.Bokeh !== undefined) {\n",
       "    embed_document(root);\n",
       "  } else {\n",
       "    var attempts = 0;\n",
       "    var timer = setInterval(function(root) {\n",
       "      if (root.Bokeh !== undefined) {\n",
       "        clearInterval(timer);\n",
       "        embed_document(root);\n",
       "      } else {\n",
       "        attempts++;\n",
       "        if (attempts > 100) {\n",
       "          clearInterval(timer);\n",
       "          console.log(\"Bokeh: ERROR: Unable to run BokehJS code because BokehJS library is missing\");\n",
       "        }\n",
       "      }\n",
       "    }, 10, root)\n",
       "  }\n",
       "})(window);"
      ],
      "application/vnd.bokehjs_exec.v0+json": ""
     },
     "metadata": {
      "application/vnd.bokehjs_exec.v0+json": {
       "id": "1491"
      }
     },
     "output_type": "display_data"
    }
   ],
   "source": [
    "# prepare some data\n",
    "x = [1, 2, 3, 4, 5]\n",
    "y = [4, 5, 5, 7, 2]\n",
    "\n",
    "# create a new plot with a title and axis labels\n",
    "p = figure(title=\"Glyphs properties example\", x_axis_label=\"x\", y_axis_label=\"y\")\n",
    "\n",
    "# add circle renderer with additional arguments\n",
    "p.circle(\n",
    "    x,\n",
    "    y,\n",
    "    legend_label=\"Objects\",\n",
    "    fill_color=\"red\",\n",
    "    fill_alpha=0.5,\n",
    "    line_color=\"blue\",\n",
    "    size=80,\n",
    ")\n",
    "\n",
    "# show the results\n",
    "show(p)"
   ]
  },
  {
   "cell_type": "markdown",
   "id": "19bcbf4b",
   "metadata": {},
   "source": [
    "### Altering properties of existing glyphs\n",
    "If you want to change any property after creating an object, you can define and overwrite the object’s attributes directly.\n",
    "\n",
    "Take the circles from above, for example. You defined the circles to have a red color by passing the argument fill_color=\"red\".\n",
    "\n",
    "To change the color of your circles from red to blue, you first need to assign a variable name (such as circle) to the new object when you call the circle() function.\n",
    "\n",
    "    circle = p.circle(\n",
    "        x,\n",
    "        y,\n",
    "        legend_label=\"Objects\",\n",
    "        fill_color=\"red\",\n",
    "        fill_alpha=0.5,\n",
    "        line_color=\"blue\",\n",
    "        size=80,\n",
    "        )\n",
    "    \n",
    "Next, use that variable to access the object’s glyph attribute and change its properties:\n",
    "\n",
    "    glyph = circle.glyph\n",
    "    glyph.fill_color = \"blue\"\n",
    "    \n",
    "Generate red circles once more, but this time change their color to blue before outputting the plot:\n"
   ]
  },
  {
   "cell_type": "code",
   "execution_count": 6,
   "id": "a0a3c949",
   "metadata": {},
   "outputs": [
    {
     "data": {
      "text/html": [
       "\n",
       "\n",
       "\n",
       "\n",
       "\n",
       "\n",
       "  <div class=\"bk-root\" id=\"8db3b8db-2fbc-4802-9409-a473a4362f3d\" data-root-id=\"1639\"></div>\n"
      ]
     },
     "metadata": {},
     "output_type": "display_data"
    },
    {
     "data": {
      "application/javascript": [
       "(function(root) {\n",
       "  function embed_document(root) {\n",
       "    \n",
       "  var docs_json = {\"aec1f7d9-61f7-4f5c-9e44-ca8aa5aefc41\":{\"defs\":[],\"roots\":{\"references\":[{\"attributes\":{\"below\":[{\"id\":\"1650\"}],\"center\":[{\"id\":\"1653\"},{\"id\":\"1657\"},{\"id\":\"1687\"}],\"left\":[{\"id\":\"1654\"}],\"renderers\":[{\"id\":\"1675\"}],\"title\":{\"id\":\"1640\"},\"toolbar\":{\"id\":\"1665\"},\"x_range\":{\"id\":\"1642\"},\"x_scale\":{\"id\":\"1646\"},\"y_range\":{\"id\":\"1644\"},\"y_scale\":{\"id\":\"1648\"}},\"id\":\"1639\",\"subtype\":\"Figure\",\"type\":\"Plot\"},{\"attributes\":{},\"id\":\"1680\",\"type\":\"BasicTickFormatter\"},{\"attributes\":{\"fill_alpha\":{\"value\":0.5},\"fill_color\":{\"value\":\"blue\"},\"line_color\":{\"value\":\"blue\"},\"size\":{\"value\":80},\"x\":{\"field\":\"x\"},\"y\":{\"field\":\"y\"}},\"id\":\"1673\",\"type\":\"Circle\"},{\"attributes\":{\"bottom_units\":\"screen\",\"fill_alpha\":0.5,\"fill_color\":\"lightgrey\",\"left_units\":\"screen\",\"level\":\"overlay\",\"line_alpha\":1.0,\"line_color\":\"black\",\"line_dash\":[4,4],\"line_width\":2,\"right_units\":\"screen\",\"syncable\":false,\"top_units\":\"screen\"},\"id\":\"1664\",\"type\":\"BoxAnnotation\"},{\"attributes\":{},\"id\":\"1678\",\"type\":\"AllLabels\"},{\"attributes\":{\"data\":{\"x\":[1,2,3,4,5],\"y\":[4,5,5,7,2]},\"selected\":{\"id\":\"1684\"},\"selection_policy\":{\"id\":\"1685\"}},\"id\":\"1672\",\"type\":\"ColumnDataSource\"},{\"attributes\":{\"text\":\"Glyphs properties example\"},\"id\":\"1640\",\"type\":\"Title\"},{\"attributes\":{},\"id\":\"1642\",\"type\":\"DataRange1d\"},{\"attributes\":{},\"id\":\"1646\",\"type\":\"LinearScale\"},{\"attributes\":{\"items\":[{\"id\":\"1688\"}]},\"id\":\"1687\",\"type\":\"Legend\"},{\"attributes\":{\"active_multi\":null,\"tools\":[{\"id\":\"1658\"},{\"id\":\"1659\"},{\"id\":\"1660\"},{\"id\":\"1661\"},{\"id\":\"1662\"},{\"id\":\"1663\"}]},\"id\":\"1665\",\"type\":\"Toolbar\"},{\"attributes\":{},\"id\":\"1644\",\"type\":\"DataRange1d\"},{\"attributes\":{},\"id\":\"1648\",\"type\":\"LinearScale\"},{\"attributes\":{\"axis_label\":\"x\",\"formatter\":{\"id\":\"1680\"},\"major_label_policy\":{\"id\":\"1678\"},\"ticker\":{\"id\":\"1651\"}},\"id\":\"1650\",\"type\":\"LinearAxis\"},{\"attributes\":{},\"id\":\"1681\",\"type\":\"AllLabels\"},{\"attributes\":{},\"id\":\"1651\",\"type\":\"BasicTicker\"},{\"attributes\":{\"axis\":{\"id\":\"1650\"},\"ticker\":null},\"id\":\"1653\",\"type\":\"Grid\"},{\"attributes\":{},\"id\":\"1659\",\"type\":\"WheelZoomTool\"},{\"attributes\":{\"data_source\":{\"id\":\"1672\"},\"glyph\":{\"id\":\"1673\"},\"hover_glyph\":null,\"muted_glyph\":null,\"nonselection_glyph\":{\"id\":\"1674\"},\"view\":{\"id\":\"1676\"}},\"id\":\"1675\",\"type\":\"GlyphRenderer\"},{\"attributes\":{},\"id\":\"1683\",\"type\":\"BasicTickFormatter\"},{\"attributes\":{\"axis_label\":\"y\",\"formatter\":{\"id\":\"1683\"},\"major_label_policy\":{\"id\":\"1681\"},\"ticker\":{\"id\":\"1655\"}},\"id\":\"1654\",\"type\":\"LinearAxis\"},{\"attributes\":{\"fill_alpha\":{\"value\":0.1},\"fill_color\":{\"value\":\"red\"},\"line_alpha\":{\"value\":0.1},\"line_color\":{\"value\":\"blue\"},\"size\":{\"value\":80},\"x\":{\"field\":\"x\"},\"y\":{\"field\":\"y\"}},\"id\":\"1674\",\"type\":\"Circle\"},{\"attributes\":{\"axis\":{\"id\":\"1654\"},\"dimension\":1,\"ticker\":null},\"id\":\"1657\",\"type\":\"Grid\"},{\"attributes\":{},\"id\":\"1655\",\"type\":\"BasicTicker\"},{\"attributes\":{},\"id\":\"1663\",\"type\":\"HelpTool\"},{\"attributes\":{\"label\":{\"value\":\"Objects\"},\"renderers\":[{\"id\":\"1675\"}]},\"id\":\"1688\",\"type\":\"LegendItem\"},{\"attributes\":{},\"id\":\"1658\",\"type\":\"PanTool\"},{\"attributes\":{\"overlay\":{\"id\":\"1664\"}},\"id\":\"1660\",\"type\":\"BoxZoomTool\"},{\"attributes\":{},\"id\":\"1661\",\"type\":\"SaveTool\"},{\"attributes\":{},\"id\":\"1662\",\"type\":\"ResetTool\"},{\"attributes\":{\"source\":{\"id\":\"1672\"}},\"id\":\"1676\",\"type\":\"CDSView\"},{\"attributes\":{},\"id\":\"1685\",\"type\":\"UnionRenderers\"},{\"attributes\":{},\"id\":\"1684\",\"type\":\"Selection\"}],\"root_ids\":[\"1639\"]},\"title\":\"Bokeh Application\",\"version\":\"2.3.3\"}};\n",
       "  var render_items = [{\"docid\":\"aec1f7d9-61f7-4f5c-9e44-ca8aa5aefc41\",\"root_ids\":[\"1639\"],\"roots\":{\"1639\":\"8db3b8db-2fbc-4802-9409-a473a4362f3d\"}}];\n",
       "  root.Bokeh.embed.embed_items_notebook(docs_json, render_items);\n",
       "\n",
       "  }\n",
       "  if (root.Bokeh !== undefined) {\n",
       "    embed_document(root);\n",
       "  } else {\n",
       "    var attempts = 0;\n",
       "    var timer = setInterval(function(root) {\n",
       "      if (root.Bokeh !== undefined) {\n",
       "        clearInterval(timer);\n",
       "        embed_document(root);\n",
       "      } else {\n",
       "        attempts++;\n",
       "        if (attempts > 100) {\n",
       "          clearInterval(timer);\n",
       "          console.log(\"Bokeh: ERROR: Unable to run BokehJS code because BokehJS library is missing\");\n",
       "        }\n",
       "      }\n",
       "    }, 10, root)\n",
       "  }\n",
       "})(window);"
      ],
      "application/vnd.bokehjs_exec.v0+json": ""
     },
     "metadata": {
      "application/vnd.bokehjs_exec.v0+json": {
       "id": "1639"
      }
     },
     "output_type": "display_data"
    }
   ],
   "source": [
    "# prepare some data\n",
    "x = [1, 2, 3, 4, 5]\n",
    "y = [4, 5, 5, 7, 2]\n",
    "\n",
    "# create a new plot with a title and axis labels\n",
    "p = figure(title=\"Glyphs properties example\", x_axis_label=\"x\", y_axis_label=\"y\")\n",
    "\n",
    "# add circle renderer with additional arguments\n",
    "circle = p.circle(\n",
    "    x,\n",
    "    y,\n",
    "    legend_label=\"Objects\",\n",
    "    fill_color=\"red\",\n",
    "    fill_alpha=0.5,\n",
    "    line_color=\"blue\",\n",
    "    size=80,\n",
    ")\n",
    "\n",
    "# change color of previously created object's glyph\n",
    "glyph = circle.glyph\n",
    "glyph.fill_color = \"blue\"\n",
    "\n",
    "# show the results\n",
    "show(p)"
   ]
  },
  {
   "cell_type": "markdown",
   "id": "3b574cf6",
   "metadata": {},
   "source": [
    "For more information about the various visual properties, see [Styling glyphs](https://docs.bokeh.org/en/latest/docs/user_guide/styling.html#userguide-styling-glyphs) and [Customizing visual properties](https://docs.bokeh.org/en/latest/docs/user_guide/styling.html#userguide-styling-visual-properties) in the user guide.\n",
    "\n",
    "Each type of glyph has different properties. Refer to [figure()](https://docs.bokeh.org/en/latest/docs/reference/plotting/figure.html#bokeh.plotting.figure) in the reference guide to see all available properties for each glyph method."
   ]
  },
  {
   "cell_type": "markdown",
   "id": "97969209",
   "metadata": {},
   "source": [
    "# First steps 3: Adding legends, text, and annotations\n",
    "In the previous first steps guide, you generated different glyphs and defined their appearance.\n",
    "\n",
    "In this section, you will add and style a legend and a headline. You will also add additional information to your plot by including annotations.\n",
    "\n",
    "## Adding and styling a legend\n",
    "Bokeh automatically adds a legend to your plot if you include the legend_label attribute when calling the renderer function. For example:\n",
    "\n",
    "    p.circle(x, y3, legend_label=\"Objects\")\n",
    "\n",
    "This adds a legend with the entry “Objects” to your plot.\n",
    "\n",
    "Use the properties of the Legend object to customize the legend. For example:"
   ]
  },
  {
   "cell_type": "code",
   "execution_count": 7,
   "id": "5151b716",
   "metadata": {},
   "outputs": [
    {
     "data": {
      "text/html": [
       "\n",
       "\n",
       "\n",
       "\n",
       "\n",
       "\n",
       "  <div class=\"bk-root\" id=\"2b93cb41-b256-43ca-bc32-0f00ef621bef\" data-root-id=\"1797\"></div>\n"
      ]
     },
     "metadata": {},
     "output_type": "display_data"
    },
    {
     "data": {
      "application/javascript": [
       "(function(root) {\n",
       "  function embed_document(root) {\n",
       "    \n",
       "  var docs_json = {\"05002af5-277a-492d-ac8f-eaaa64768b0d\":{\"defs\":[],\"roots\":{\"references\":[{\"attributes\":{\"below\":[{\"id\":\"1808\"}],\"center\":[{\"id\":\"1811\"},{\"id\":\"1815\"},{\"id\":\"1845\"}],\"left\":[{\"id\":\"1812\"}],\"renderers\":[{\"id\":\"1833\"},{\"id\":\"1850\"}],\"title\":{\"id\":\"1798\"},\"toolbar\":{\"id\":\"1823\"},\"x_range\":{\"id\":\"1800\"},\"x_scale\":{\"id\":\"1804\"},\"y_range\":{\"id\":\"1802\"},\"y_scale\":{\"id\":\"1806\"}},\"id\":\"1797\",\"subtype\":\"Figure\",\"type\":\"Plot\"},{\"attributes\":{\"formatter\":{\"id\":\"1838\"},\"major_label_policy\":{\"id\":\"1836\"},\"ticker\":{\"id\":\"1809\"}},\"id\":\"1808\",\"type\":\"LinearAxis\"},{\"attributes\":{},\"id\":\"1862\",\"type\":\"UnionRenderers\"},{\"attributes\":{},\"id\":\"1809\",\"type\":\"BasicTicker\"},{\"attributes\":{},\"id\":\"1861\",\"type\":\"Selection\"},{\"attributes\":{},\"id\":\"1821\",\"type\":\"HelpTool\"},{\"attributes\":{\"axis\":{\"id\":\"1808\"},\"ticker\":null},\"id\":\"1811\",\"type\":\"Grid\"},{\"attributes\":{\"formatter\":{\"id\":\"1841\"},\"major_label_policy\":{\"id\":\"1839\"},\"ticker\":{\"id\":\"1813\"}},\"id\":\"1812\",\"type\":\"LinearAxis\"},{\"attributes\":{\"axis\":{\"id\":\"1812\"},\"dimension\":1,\"ticker\":null},\"id\":\"1815\",\"type\":\"Grid\"},{\"attributes\":{},\"id\":\"1813\",\"type\":\"BasicTicker\"},{\"attributes\":{\"line_color\":\"blue\",\"line_width\":2,\"x\":{\"field\":\"x\"},\"y\":{\"field\":\"y\"}},\"id\":\"1831\",\"type\":\"Line\"},{\"attributes\":{},\"id\":\"1817\",\"type\":\"WheelZoomTool\"},{\"attributes\":{\"active_multi\":null,\"tools\":[{\"id\":\"1816\"},{\"id\":\"1817\"},{\"id\":\"1818\"},{\"id\":\"1819\"},{\"id\":\"1820\"},{\"id\":\"1821\"}]},\"id\":\"1823\",\"type\":\"Toolbar\"},{\"attributes\":{},\"id\":\"1838\",\"type\":\"BasicTickFormatter\"},{\"attributes\":{},\"id\":\"1816\",\"type\":\"PanTool\"},{\"attributes\":{\"overlay\":{\"id\":\"1822\"}},\"id\":\"1818\",\"type\":\"BoxZoomTool\"},{\"attributes\":{},\"id\":\"1819\",\"type\":\"SaveTool\"},{\"attributes\":{},\"id\":\"1820\",\"type\":\"ResetTool\"},{\"attributes\":{},\"id\":\"1839\",\"type\":\"AllLabels\"},{\"attributes\":{\"source\":{\"id\":\"1830\"}},\"id\":\"1834\",\"type\":\"CDSView\"},{\"attributes\":{},\"id\":\"1841\",\"type\":\"BasicTickFormatter\"},{\"attributes\":{\"line_alpha\":0.1,\"line_color\":\"blue\",\"line_width\":2,\"x\":{\"field\":\"x\"},\"y\":{\"field\":\"y\"}},\"id\":\"1832\",\"type\":\"Line\"},{\"attributes\":{\"fill_alpha\":{\"value\":0.1},\"fill_color\":{\"value\":\"red\"},\"line_alpha\":{\"value\":0.1},\"line_color\":{\"value\":\"blue\"},\"size\":{\"value\":80},\"x\":{\"field\":\"x\"},\"y\":{\"field\":\"y\"}},\"id\":\"1849\",\"type\":\"Circle\"},{\"attributes\":{\"label\":{\"value\":\"Temp.\"},\"renderers\":[{\"id\":\"1833\"}]},\"id\":\"1846\",\"type\":\"LegendItem\"},{\"attributes\":{},\"id\":\"1842\",\"type\":\"Selection\"},{\"attributes\":{\"data_source\":{\"id\":\"1847\"},\"glyph\":{\"id\":\"1848\"},\"hover_glyph\":null,\"muted_glyph\":null,\"nonselection_glyph\":{\"id\":\"1849\"},\"view\":{\"id\":\"1851\"}},\"id\":\"1850\",\"type\":\"GlyphRenderer\"},{\"attributes\":{},\"id\":\"1843\",\"type\":\"UnionRenderers\"},{\"attributes\":{\"source\":{\"id\":\"1847\"}},\"id\":\"1851\",\"type\":\"CDSView\"},{\"attributes\":{\"background_fill_alpha\":0.2,\"background_fill_color\":\"navy\",\"border_line_alpha\":0.8,\"border_line_color\":\"navy\",\"border_line_width\":3,\"items\":[{\"id\":\"1846\"},{\"id\":\"1864\"}],\"label_text_color\":\"navy\",\"label_text_font\":\"times\",\"label_text_font_style\":\"italic\",\"location\":\"top_left\",\"title\":\"Obervations\"},\"id\":\"1845\",\"type\":\"Legend\"},{\"attributes\":{\"label\":{\"value\":\"Objects\"},\"renderers\":[{\"id\":\"1850\"}]},\"id\":\"1864\",\"type\":\"LegendItem\"},{\"attributes\":{\"bottom_units\":\"screen\",\"fill_alpha\":0.5,\"fill_color\":\"lightgrey\",\"left_units\":\"screen\",\"level\":\"overlay\",\"line_alpha\":1.0,\"line_color\":\"black\",\"line_dash\":[4,4],\"line_width\":2,\"right_units\":\"screen\",\"syncable\":false,\"top_units\":\"screen\"},\"id\":\"1822\",\"type\":\"BoxAnnotation\"},{\"attributes\":{\"data_source\":{\"id\":\"1830\"},\"glyph\":{\"id\":\"1831\"},\"hover_glyph\":null,\"muted_glyph\":null,\"nonselection_glyph\":{\"id\":\"1832\"},\"view\":{\"id\":\"1834\"}},\"id\":\"1833\",\"type\":\"GlyphRenderer\"},{\"attributes\":{\"fill_alpha\":{\"value\":0.5},\"fill_color\":{\"value\":\"red\"},\"line_color\":{\"value\":\"blue\"},\"size\":{\"value\":80},\"x\":{\"field\":\"x\"},\"y\":{\"field\":\"y\"}},\"id\":\"1848\",\"type\":\"Circle\"},{\"attributes\":{\"text\":\"Legend example\"},\"id\":\"1798\",\"type\":\"Title\"},{\"attributes\":{\"data\":{\"x\":[1,2,3,4,5],\"y\":[2,3,4,5,6]},\"selected\":{\"id\":\"1861\"},\"selection_policy\":{\"id\":\"1862\"}},\"id\":\"1847\",\"type\":\"ColumnDataSource\"},{\"attributes\":{\"data\":{\"x\":[1,2,3,4,5],\"y\":[4,5,5,7,2]},\"selected\":{\"id\":\"1842\"},\"selection_policy\":{\"id\":\"1843\"}},\"id\":\"1830\",\"type\":\"ColumnDataSource\"},{\"attributes\":{},\"id\":\"1800\",\"type\":\"DataRange1d\"},{\"attributes\":{},\"id\":\"1836\",\"type\":\"AllLabels\"},{\"attributes\":{},\"id\":\"1806\",\"type\":\"LinearScale\"},{\"attributes\":{},\"id\":\"1804\",\"type\":\"LinearScale\"},{\"attributes\":{},\"id\":\"1802\",\"type\":\"DataRange1d\"}],\"root_ids\":[\"1797\"]},\"title\":\"Bokeh Application\",\"version\":\"2.3.3\"}};\n",
       "  var render_items = [{\"docid\":\"05002af5-277a-492d-ac8f-eaaa64768b0d\",\"root_ids\":[\"1797\"],\"roots\":{\"1797\":\"2b93cb41-b256-43ca-bc32-0f00ef621bef\"}}];\n",
       "  root.Bokeh.embed.embed_items_notebook(docs_json, render_items);\n",
       "\n",
       "  }\n",
       "  if (root.Bokeh !== undefined) {\n",
       "    embed_document(root);\n",
       "  } else {\n",
       "    var attempts = 0;\n",
       "    var timer = setInterval(function(root) {\n",
       "      if (root.Bokeh !== undefined) {\n",
       "        clearInterval(timer);\n",
       "        embed_document(root);\n",
       "      } else {\n",
       "        attempts++;\n",
       "        if (attempts > 100) {\n",
       "          clearInterval(timer);\n",
       "          console.log(\"Bokeh: ERROR: Unable to run BokehJS code because BokehJS library is missing\");\n",
       "        }\n",
       "      }\n",
       "    }, 10, root)\n",
       "  }\n",
       "})(window);"
      ],
      "application/vnd.bokehjs_exec.v0+json": ""
     },
     "metadata": {
      "application/vnd.bokehjs_exec.v0+json": {
       "id": "1797"
      }
     },
     "output_type": "display_data"
    }
   ],
   "source": [
    "# prepare some data\n",
    "x = [1, 2, 3, 4, 5]\n",
    "y1 = [4, 5, 5, 7, 2]\n",
    "y2 = [2, 3, 4, 5, 6]\n",
    "\n",
    "# create a new plot\n",
    "p = figure(title=\"Legend example\")\n",
    "\n",
    "# add circle renderer with legend_label arguments\n",
    "line = p.line(x, y1, legend_label=\"Temp.\", line_color=\"blue\", line_width=2)\n",
    "circle = p.circle(\n",
    "    x,\n",
    "    y2,\n",
    "    legend_label=\"Objects\",\n",
    "    fill_color=\"red\",\n",
    "    fill_alpha=0.5,\n",
    "    line_color=\"blue\",\n",
    "    size=80,\n",
    ")\n",
    "\n",
    "# display legend in top left corner (default is top right corner)\n",
    "p.legend.location = \"top_left\"\n",
    "\n",
    "# add a title to your legend\n",
    "p.legend.title = \"Obervations\"\n",
    "\n",
    "# change appearance of legend text\n",
    "p.legend.label_text_font = \"times\"\n",
    "p.legend.label_text_font_style = \"italic\"\n",
    "p.legend.label_text_color = \"navy\"\n",
    "\n",
    "# change border and background of legend\n",
    "p.legend.border_line_width = 3\n",
    "p.legend.border_line_color = \"navy\"\n",
    "p.legend.border_line_alpha = 0.8\n",
    "p.legend.background_fill_color = \"navy\"\n",
    "p.legend.background_fill_alpha = 0.2\n",
    "\n",
    "# show the results\n",
    "show(p)"
   ]
  },
  {
   "cell_type": "markdown",
   "id": "7d3ba914",
   "metadata": {},
   "source": [
    "To learn more about legends, see [Legends](https://docs.bokeh.org/en/latest/docs/user_guide/annotations.html#userguide-annotations-legends) \n",
    "in the annotations section and [Styling legends](https://docs.bokeh.org/en/latest/docs/user_guide/styling.html#userguide-styling-legends) in the styling section of the user guide. The entry [Legend](https://docs.bokeh.org/en/latest/docs/reference/models/annotations.html#bokeh.models.Legend) in the reference guide contains a list of all available attributes for legends.\n",
    "\n",
    "See [interactive legends](https://docs.bokeh.org/en/latest/docs/user_guide/interaction/legends.html#userguide-interaction-legends) in the user guide to learn about using legends to hide or mute glyphs in a plot.                 "
   ]
  },
  {
   "cell_type": "markdown",
   "id": "845d2d56",
   "metadata": {},
   "source": [
    "### Customizing headlines\n",
    "Most of the examples so far have included a headline. You did this by passing the title argument to the figure() function:\n",
    "\n",
    "p = figure(title=\"Headline example\")\n",
    "There are various ways to style the text for your headline. For example:"
   ]
  },
  {
   "cell_type": "code",
   "execution_count": 8,
   "id": "8e6802c7",
   "metadata": {},
   "outputs": [
    {
     "data": {
      "text/html": [
       "\n",
       "\n",
       "\n",
       "\n",
       "\n",
       "\n",
       "  <div class=\"bk-root\" id=\"030b6629-d5b8-4626-a2ff-406f2b7aeaad\" data-root-id=\"1995\"></div>\n"
      ]
     },
     "metadata": {},
     "output_type": "display_data"
    },
    {
     "data": {
      "application/javascript": [
       "(function(root) {\n",
       "  function embed_document(root) {\n",
       "    \n",
       "  var docs_json = {\"8120da4d-01f8-408d-b2c9-b851db17fbfc\":{\"defs\":[],\"roots\":{\"references\":[{\"attributes\":{\"below\":[{\"id\":\"2006\"}],\"center\":[{\"id\":\"2009\"},{\"id\":\"2013\"},{\"id\":\"2043\"}],\"left\":[{\"id\":\"2010\"}],\"renderers\":[{\"id\":\"2031\"}],\"title\":{\"id\":\"1996\"},\"title_location\":\"left\",\"toolbar\":{\"id\":\"2021\"},\"x_range\":{\"id\":\"1998\"},\"x_scale\":{\"id\":\"2002\"},\"y_range\":{\"id\":\"2000\"},\"y_scale\":{\"id\":\"2004\"}},\"id\":\"1995\",\"subtype\":\"Figure\",\"type\":\"Plot\"},{\"attributes\":{\"axis\":{\"id\":\"2010\"},\"dimension\":1,\"ticker\":null},\"id\":\"2013\",\"type\":\"Grid\"},{\"attributes\":{},\"id\":\"2036\",\"type\":\"BasicTickFormatter\"},{\"attributes\":{},\"id\":\"2011\",\"type\":\"BasicTicker\"},{\"attributes\":{},\"id\":\"2019\",\"type\":\"HelpTool\"},{\"attributes\":{},\"id\":\"2014\",\"type\":\"PanTool\"},{\"attributes\":{\"overlay\":{\"id\":\"2020\"}},\"id\":\"2016\",\"type\":\"BoxZoomTool\"},{\"attributes\":{},\"id\":\"2017\",\"type\":\"SaveTool\"},{\"attributes\":{},\"id\":\"2015\",\"type\":\"WheelZoomTool\"},{\"attributes\":{\"label\":{\"value\":\"Temp.\"},\"renderers\":[{\"id\":\"2031\"}]},\"id\":\"2044\",\"type\":\"LegendItem\"},{\"attributes\":{\"align\":\"right\",\"background_fill_color\":\"darkgrey\",\"text\":\"Changing headline text example\",\"text_color\":\"white\",\"text_font_size\":\"25px\"},\"id\":\"1996\",\"type\":\"Title\"},{\"attributes\":{\"active_multi\":null,\"tools\":[{\"id\":\"2014\"},{\"id\":\"2015\"},{\"id\":\"2016\"},{\"id\":\"2017\"},{\"id\":\"2018\"},{\"id\":\"2019\"}]},\"id\":\"2021\",\"type\":\"Toolbar\"},{\"attributes\":{\"items\":[{\"id\":\"2044\"}]},\"id\":\"2043\",\"type\":\"Legend\"},{\"attributes\":{},\"id\":\"2037\",\"type\":\"AllLabels\"},{\"attributes\":{},\"id\":\"2039\",\"type\":\"BasicTickFormatter\"},{\"attributes\":{\"data_source\":{\"id\":\"2028\"},\"glyph\":{\"id\":\"2029\"},\"hover_glyph\":null,\"muted_glyph\":null,\"nonselection_glyph\":{\"id\":\"2030\"},\"view\":{\"id\":\"2032\"}},\"id\":\"2031\",\"type\":\"GlyphRenderer\"},{\"attributes\":{\"line_alpha\":0.1,\"line_color\":\"#1f77b4\",\"line_width\":2,\"x\":{\"field\":\"x\"},\"y\":{\"field\":\"y\"}},\"id\":\"2030\",\"type\":\"Line\"},{\"attributes\":{\"data\":{\"x\":[1,2,3,4,5],\"y\":[6,7,2,4,5]},\"selected\":{\"id\":\"2040\"},\"selection_policy\":{\"id\":\"2041\"}},\"id\":\"2028\",\"type\":\"ColumnDataSource\"},{\"attributes\":{},\"id\":\"1998\",\"type\":\"DataRange1d\"},{\"attributes\":{},\"id\":\"2018\",\"type\":\"ResetTool\"},{\"attributes\":{},\"id\":\"2000\",\"type\":\"DataRange1d\"},{\"attributes\":{},\"id\":\"2034\",\"type\":\"AllLabels\"},{\"attributes\":{\"formatter\":{\"id\":\"2039\"},\"major_label_policy\":{\"id\":\"2037\"},\"ticker\":{\"id\":\"2011\"}},\"id\":\"2010\",\"type\":\"LinearAxis\"},{\"attributes\":{\"source\":{\"id\":\"2028\"}},\"id\":\"2032\",\"type\":\"CDSView\"},{\"attributes\":{},\"id\":\"2040\",\"type\":\"Selection\"},{\"attributes\":{},\"id\":\"2002\",\"type\":\"LinearScale\"},{\"attributes\":{\"line_color\":\"#1f77b4\",\"line_width\":2,\"x\":{\"field\":\"x\"},\"y\":{\"field\":\"y\"}},\"id\":\"2029\",\"type\":\"Line\"},{\"attributes\":{},\"id\":\"2004\",\"type\":\"LinearScale\"},{\"attributes\":{},\"id\":\"2007\",\"type\":\"BasicTicker\"},{\"attributes\":{},\"id\":\"2041\",\"type\":\"UnionRenderers\"},{\"attributes\":{\"axis\":{\"id\":\"2006\"},\"ticker\":null},\"id\":\"2009\",\"type\":\"Grid\"},{\"attributes\":{\"bottom_units\":\"screen\",\"fill_alpha\":0.5,\"fill_color\":\"lightgrey\",\"left_units\":\"screen\",\"level\":\"overlay\",\"line_alpha\":1.0,\"line_color\":\"black\",\"line_dash\":[4,4],\"line_width\":2,\"right_units\":\"screen\",\"syncable\":false,\"top_units\":\"screen\"},\"id\":\"2020\",\"type\":\"BoxAnnotation\"},{\"attributes\":{\"formatter\":{\"id\":\"2036\"},\"major_label_policy\":{\"id\":\"2034\"},\"ticker\":{\"id\":\"2007\"}},\"id\":\"2006\",\"type\":\"LinearAxis\"}],\"root_ids\":[\"1995\"]},\"title\":\"Bokeh Application\",\"version\":\"2.3.3\"}};\n",
       "  var render_items = [{\"docid\":\"8120da4d-01f8-408d-b2c9-b851db17fbfc\",\"root_ids\":[\"1995\"],\"roots\":{\"1995\":\"030b6629-d5b8-4626-a2ff-406f2b7aeaad\"}}];\n",
       "  root.Bokeh.embed.embed_items_notebook(docs_json, render_items);\n",
       "\n",
       "  }\n",
       "  if (root.Bokeh !== undefined) {\n",
       "    embed_document(root);\n",
       "  } else {\n",
       "    var attempts = 0;\n",
       "    var timer = setInterval(function(root) {\n",
       "      if (root.Bokeh !== undefined) {\n",
       "        clearInterval(timer);\n",
       "        embed_document(root);\n",
       "      } else {\n",
       "        attempts++;\n",
       "        if (attempts > 100) {\n",
       "          clearInterval(timer);\n",
       "          console.log(\"Bokeh: ERROR: Unable to run BokehJS code because BokehJS library is missing\");\n",
       "        }\n",
       "      }\n",
       "    }, 10, root)\n",
       "  }\n",
       "})(window);"
      ],
      "application/vnd.bokehjs_exec.v0+json": ""
     },
     "metadata": {
      "application/vnd.bokehjs_exec.v0+json": {
       "id": "1995"
      }
     },
     "output_type": "display_data"
    }
   ],
   "source": [
    "# prepare some data\n",
    "x = [1, 2, 3, 4, 5]\n",
    "y = [6, 7, 2, 4, 5]\n",
    "\n",
    "# create new plot\n",
    "p = figure(title=\"Headline example\")\n",
    "\n",
    "# add line renderer with a legend\n",
    "p.line(x, y, legend_label=\"Temp.\", line_width=2)\n",
    "\n",
    "# change headline location to the left\n",
    "p.title_location = \"left\"\n",
    "\n",
    "# change headline text\n",
    "p.title.text = \"Changing headline text example\"\n",
    "\n",
    "# style the headline\n",
    "p.title.text_font_size = \"25px\"\n",
    "p.title.align = \"right\"\n",
    "p.title.background_fill_color = \"darkgrey\"\n",
    "p.title.text_color = \"white\"\n",
    "\n",
    "# show the results\n",
    "show(p)"
   ]
  },
  {
   "cell_type": "markdown",
   "id": "37a1ddb7",
   "metadata": {},
   "source": [
    "For more information on working with title, see [Titles](https://docs.bokeh.org/en/latest/docs/user_guide/annotations.html#userguide-annotations-titles) in the user guide. In the reference guide, the entry for [Title](https://docs.bokeh.org/en/latest/docs/reference/models/annotations.html#bokeh.models.Title) contains a list of all available properties.\n",
    "\n",
    "### Using annotations\n",
    "Annotations are visual elements that you add to your plot to make it easier to read. For more information on the various kinds of annotations, see [Adding annotations](https://docs.bokeh.org/en/latest/docs/user_guide/annotations.html#userguide-annotations) in the user guide.\n",
    "\n",
    "One example are box annotations."
   ]
  },
  {
   "cell_type": "code",
   "execution_count": 9,
   "id": "c5639c1b",
   "metadata": {},
   "outputs": [
    {
     "data": {
      "text/html": [
       "\n",
       "\n",
       "\n",
       "\n",
       "\n",
       "\n",
       "  <div class=\"bk-root\" id=\"ee45296b-ab11-4206-9a9d-63914903cfa1\" data-root-id=\"2175\"></div>\n"
      ]
     },
     "metadata": {},
     "output_type": "display_data"
    },
    {
     "data": {
      "application/javascript": [
       "(function(root) {\n",
       "  function embed_document(root) {\n",
       "    \n",
       "  var docs_json = {\"d044ff2a-5321-476b-88c3-ca41fa5ded11\":{\"defs\":[],\"roots\":{\"references\":[{\"attributes\":{\"below\":[{\"id\":\"2186\"}],\"center\":[{\"id\":\"2189\"},{\"id\":\"2193\"},{\"id\":\"2213\"},{\"id\":\"2214\"},{\"id\":\"2215\"}],\"left\":[{\"id\":\"2190\"}],\"renderers\":[{\"id\":\"2211\"}],\"title\":{\"id\":\"2176\"},\"toolbar\":{\"id\":\"2201\"},\"x_range\":{\"id\":\"2178\"},\"x_scale\":{\"id\":\"2182\"},\"y_range\":{\"id\":\"2180\"},\"y_scale\":{\"id\":\"2184\"}},\"id\":\"2175\",\"subtype\":\"Figure\",\"type\":\"Plot\"},{\"attributes\":{},\"id\":\"2303\",\"type\":\"Selection\"},{\"attributes\":{\"formatter\":{\"id\":\"2302\"},\"major_label_policy\":{\"id\":\"2300\"},\"ticker\":{\"id\":\"2191\"}},\"id\":\"2190\",\"type\":\"LinearAxis\"},{\"attributes\":{},\"id\":\"2199\",\"type\":\"HelpTool\"},{\"attributes\":{},\"id\":\"2304\",\"type\":\"UnionRenderers\"},{\"attributes\":{\"axis\":{\"id\":\"2190\"},\"dimension\":1,\"ticker\":null},\"id\":\"2193\",\"type\":\"Grid\"},{\"attributes\":{},\"id\":\"2191\",\"type\":\"BasicTicker\"},{\"attributes\":{\"active_multi\":null,\"tools\":[{\"id\":\"2194\"},{\"id\":\"2195\"},{\"id\":\"2196\"},{\"id\":\"2197\"},{\"id\":\"2198\"},{\"id\":\"2199\"}]},\"id\":\"2201\",\"type\":\"Toolbar\"},{\"attributes\":{\"line_color\":\"blue\",\"line_width\":2,\"x\":{\"field\":\"x\"},\"y\":{\"field\":\"y\"}},\"id\":\"2209\",\"type\":\"Line\"},{\"attributes\":{\"axis\":{\"id\":\"2186\"},\"ticker\":null},\"id\":\"2189\",\"type\":\"Grid\"},{\"attributes\":{},\"id\":\"2195\",\"type\":\"WheelZoomTool\"},{\"attributes\":{},\"id\":\"2194\",\"type\":\"PanTool\"},{\"attributes\":{\"line_alpha\":0.1,\"line_color\":\"blue\",\"line_width\":2,\"x\":{\"field\":\"x\"},\"y\":{\"field\":\"y\"}},\"id\":\"2210\",\"type\":\"Line\"},{\"attributes\":{\"overlay\":{\"id\":\"2200\"}},\"id\":\"2196\",\"type\":\"BoxZoomTool\"},{\"attributes\":{},\"id\":\"2197\",\"type\":\"SaveTool\"},{\"attributes\":{},\"id\":\"2184\",\"type\":\"LinearScale\"},{\"attributes\":{\"source\":{\"id\":\"2208\"}},\"id\":\"2212\",\"type\":\"CDSView\"},{\"attributes\":{},\"id\":\"2198\",\"type\":\"ResetTool\"},{\"attributes\":{\"bottom\":20,\"fill_alpha\":0.1,\"fill_color\":\"green\",\"top\":80},\"id\":\"2214\",\"type\":\"BoxAnnotation\"},{\"attributes\":{\"bottom_units\":\"screen\",\"fill_alpha\":0.5,\"fill_color\":\"lightgrey\",\"left_units\":\"screen\",\"level\":\"overlay\",\"line_alpha\":1.0,\"line_color\":\"black\",\"line_dash\":[4,4],\"line_width\":2,\"right_units\":\"screen\",\"syncable\":false,\"top_units\":\"screen\"},\"id\":\"2200\",\"type\":\"BoxAnnotation\"},{\"attributes\":{},\"id\":\"2300\",\"type\":\"AllLabels\"},{\"attributes\":{},\"id\":\"2302\",\"type\":\"BasicTickFormatter\"},{\"attributes\":{\"data\":{\"x\":[0,1,2,3,4,5,6,7,8,9,10,11,12,13,14,15,16,17,18,19,20,21,22,23,24,25,26,27,28,29,30,31,32,33,34,35,36,37,38,39,40,41,42,43,44,45,46,47,48,49,50],\"y\":[59,19,14,57,83,91,34,92,30,78,27,55,98,96,54,94,87,21,36,75,99,12,44,85,20,61,18,0,70,33,35,17,3,73,8,52,40,95,89,4,5,23,45,69,53,93,84,60,71,15,38]},\"selected\":{\"id\":\"2303\"},\"selection_policy\":{\"id\":\"2304\"}},\"id\":\"2208\",\"type\":\"ColumnDataSource\"},{\"attributes\":{\"fill_alpha\":0.1,\"fill_color\":\"red\",\"top\":20},\"id\":\"2213\",\"type\":\"BoxAnnotation\"},{\"attributes\":{\"bottom\":80,\"fill_alpha\":0.1,\"fill_color\":\"red\"},\"id\":\"2215\",\"type\":\"BoxAnnotation\"},{\"attributes\":{},\"id\":\"2297\",\"type\":\"AllLabels\"},{\"attributes\":{\"data_source\":{\"id\":\"2208\"},\"glyph\":{\"id\":\"2209\"},\"hover_glyph\":null,\"muted_glyph\":null,\"nonselection_glyph\":{\"id\":\"2210\"},\"view\":{\"id\":\"2212\"}},\"id\":\"2211\",\"type\":\"GlyphRenderer\"},{\"attributes\":{\"text\":\"Box annotation example\"},\"id\":\"2176\",\"type\":\"Title\"},{\"attributes\":{},\"id\":\"2178\",\"type\":\"DataRange1d\"},{\"attributes\":{},\"id\":\"2182\",\"type\":\"LinearScale\"},{\"attributes\":{},\"id\":\"2299\",\"type\":\"BasicTickFormatter\"},{\"attributes\":{\"formatter\":{\"id\":\"2299\"},\"major_label_policy\":{\"id\":\"2297\"},\"ticker\":{\"id\":\"2187\"}},\"id\":\"2186\",\"type\":\"LinearAxis\"},{\"attributes\":{},\"id\":\"2187\",\"type\":\"BasicTicker\"},{\"attributes\":{},\"id\":\"2180\",\"type\":\"DataRange1d\"}],\"root_ids\":[\"2175\"]},\"title\":\"Bokeh Application\",\"version\":\"2.3.3\"}};\n",
       "  var render_items = [{\"docid\":\"d044ff2a-5321-476b-88c3-ca41fa5ded11\",\"root_ids\":[\"2175\"],\"roots\":{\"2175\":\"ee45296b-ab11-4206-9a9d-63914903cfa1\"}}];\n",
       "  root.Bokeh.embed.embed_items_notebook(docs_json, render_items);\n",
       "\n",
       "  }\n",
       "  if (root.Bokeh !== undefined) {\n",
       "    embed_document(root);\n",
       "  } else {\n",
       "    var attempts = 0;\n",
       "    var timer = setInterval(function(root) {\n",
       "      if (root.Bokeh !== undefined) {\n",
       "        clearInterval(timer);\n",
       "        embed_document(root);\n",
       "      } else {\n",
       "        attempts++;\n",
       "        if (attempts > 100) {\n",
       "          clearInterval(timer);\n",
       "          console.log(\"Bokeh: ERROR: Unable to run BokehJS code because BokehJS library is missing\");\n",
       "        }\n",
       "      }\n",
       "    }, 10, root)\n",
       "  }\n",
       "})(window);"
      ],
      "application/vnd.bokehjs_exec.v0+json": ""
     },
     "metadata": {
      "application/vnd.bokehjs_exec.v0+json": {
       "id": "2175"
      }
     },
     "output_type": "display_data"
    }
   ],
   "source": [
    "import random\n",
    "from bokeh.models import BoxAnnotation\n",
    "\n",
    "# generate some data (1-50 for x, random values for y)\n",
    "x = list(range(0, 51))\n",
    "y = random.sample(range(0, 100), 51)\n",
    "\n",
    "# create new plot\n",
    "p = figure(title=\"Box annotation example\")\n",
    "\n",
    "# add line renderer\n",
    "line = p.line(x, y, line_color=\"blue\", line_width=2)\n",
    "\n",
    "# add box annotations\n",
    "low_box = BoxAnnotation(top=20, fill_alpha=0.1, fill_color=\"red\")\n",
    "mid_box = BoxAnnotation(bottom=20, top=80, fill_alpha=0.1, fill_color=\"green\")\n",
    "high_box = BoxAnnotation(bottom=80, fill_alpha=0.1, fill_color=\"red\")\n",
    "\n",
    "# add boxes to existing figure\n",
    "p.add_layout(low_box)\n",
    "p.add_layout(mid_box)\n",
    "p.add_layout(high_box)\n",
    "\n",
    "# show the results\n",
    "show(p)"
   ]
  },
  {
   "cell_type": "markdown",
   "id": "e21e153d",
   "metadata": {},
   "source": [
    "To find out more about the different kinds of annotations in Bokeh, see [Adding annotations](https://docs.bokeh.org/en/latest/docs/user_guide/annotations.html#userguide-annotations) in the user guide."
   ]
  },
  {
   "cell_type": "markdown",
   "id": "43a3c0c0",
   "metadata": {},
   "source": [
    "# First steps 4: Customizing your plot\n",
    "In the previous first steps guides, you generated different glyphs and added more information such as a title, legend, and annotations.\n",
    "\n",
    "In this section, you will customize the appearance of the plot as a whole. This includes resizing your plot, changing its lines and colors, and customizing the axes and tools.\n",
    "\n",
    "## Using Themes\n",
    "With Bokeh’s themes, you can quickly change the appearance of your plot. Themes are a set of pre-defined design parameters such as colors, fonts, or line styles.\n",
    "\n",
    "Bokeh comes with five built-in themes: caliber, dark_minimal, light_minimal, night_sky, and contrast. Additionally, you can define your own custom themes.\n",
    "\n",
    "To use one of the built-in themes, assign the name of the theme you want to use to the theme property of your document:\n"
   ]
  },
  {
   "cell_type": "code",
   "execution_count": 10,
   "id": "b6da7bb6",
   "metadata": {},
   "outputs": [
    {
     "data": {
      "text/html": [
       "\n",
       "\n",
       "\n",
       "\n",
       "\n",
       "\n",
       "  <div class=\"bk-root\" id=\"0ece078a-f9b4-43c6-9a16-3cbf7781a064\" data-root-id=\"2356\"></div>\n"
      ]
     },
     "metadata": {},
     "output_type": "display_data"
    },
    {
     "data": {
      "application/javascript": [
       "(function(root) {\n",
       "  function embed_document(root) {\n",
       "    \n",
       "  var docs_json = {\"dc801439-aa89-48b1-b793-1baac6fe8207\":{\"defs\":[],\"roots\":{\"references\":[{\"attributes\":{\"background_fill_color\":\"#20262B\",\"below\":[{\"id\":\"2365\"}],\"border_fill_color\":\"#15191C\",\"center\":[{\"id\":\"2368\"},{\"id\":\"2372\"}],\"height\":250,\"left\":[{\"id\":\"2369\"}],\"max_width\":500,\"outline_line_alpha\":0.25,\"outline_line_color\":\"#E0E0E0\",\"renderers\":[{\"id\":\"2390\"}],\"sizing_mode\":\"stretch_width\",\"title\":{\"id\":\"2482\"},\"toolbar\":{\"id\":\"2380\"},\"x_range\":{\"id\":\"2357\"},\"x_scale\":{\"id\":\"2361\"},\"y_range\":{\"id\":\"2359\"},\"y_scale\":{\"id\":\"2363\"}},\"id\":\"2356\",\"subtype\":\"Figure\",\"type\":\"Plot\"},{\"attributes\":{\"data_source\":{\"id\":\"2387\"},\"glyph\":{\"id\":\"2388\"},\"hover_glyph\":null,\"muted_glyph\":null,\"nonselection_glyph\":{\"id\":\"2389\"},\"view\":{\"id\":\"2391\"}},\"id\":\"2390\",\"type\":\"GlyphRenderer\"},{\"attributes\":{\"text_color\":\"#E0E0E0\",\"text_font\":\"Helvetica\",\"text_font_size\":\"1.15em\"},\"id\":\"2482\",\"type\":\"Title\"},{\"attributes\":{\"axis\":{\"id\":\"2369\"},\"dimension\":1,\"grid_line_alpha\":0.25,\"grid_line_color\":\"#E0E0E0\",\"ticker\":null},\"id\":\"2372\",\"type\":\"Grid\"},{\"attributes\":{},\"id\":\"2366\",\"type\":\"BasicTicker\"},{\"attributes\":{},\"id\":\"2363\",\"type\":\"LinearScale\"},{\"attributes\":{},\"id\":\"2373\",\"type\":\"PanTool\"},{\"attributes\":{},\"id\":\"2490\",\"type\":\"Selection\"},{\"attributes\":{},\"id\":\"2370\",\"type\":\"BasicTicker\"},{\"attributes\":{},\"id\":\"2377\",\"type\":\"ResetTool\"},{\"attributes\":{},\"id\":\"2359\",\"type\":\"DataRange1d\"},{\"attributes\":{},\"id\":\"2491\",\"type\":\"UnionRenderers\"},{\"attributes\":{},\"id\":\"2484\",\"type\":\"AllLabels\"},{\"attributes\":{},\"id\":\"2374\",\"type\":\"WheelZoomTool\"},{\"attributes\":{},\"id\":\"2361\",\"type\":\"LinearScale\"},{\"attributes\":{},\"id\":\"2486\",\"type\":\"BasicTickFormatter\"},{\"attributes\":{\"axis_label_standoff\":10,\"axis_label_text_color\":\"#E0E0E0\",\"axis_label_text_font\":\"Helvetica\",\"axis_label_text_font_size\":\"1.25em\",\"axis_label_text_font_style\":\"normal\",\"axis_line_alpha\":0,\"axis_line_color\":\"#E0E0E0\",\"formatter\":{\"id\":\"2486\"},\"major_label_policy\":{\"id\":\"2484\"},\"major_label_text_color\":\"#E0E0E0\",\"major_label_text_font\":\"Helvetica\",\"major_label_text_font_size\":\"1.025em\",\"major_tick_line_alpha\":0,\"major_tick_line_color\":\"#E0E0E0\",\"minor_tick_line_alpha\":0,\"minor_tick_line_color\":\"#E0E0E0\",\"ticker\":{\"id\":\"2366\"}},\"id\":\"2365\",\"type\":\"LinearAxis\"},{\"attributes\":{\"axis\":{\"id\":\"2365\"},\"grid_line_alpha\":0.25,\"grid_line_color\":\"#E0E0E0\",\"ticker\":null},\"id\":\"2368\",\"type\":\"Grid\"},{\"attributes\":{},\"id\":\"2376\",\"type\":\"SaveTool\"},{\"attributes\":{\"bottom_units\":\"screen\",\"fill_alpha\":0.5,\"fill_color\":\"lightgrey\",\"left_units\":\"screen\",\"level\":\"overlay\",\"line_alpha\":1.0,\"line_color\":\"black\",\"line_dash\":[4,4],\"line_width\":2,\"right_units\":\"screen\",\"syncable\":false,\"top_units\":\"screen\"},\"id\":\"2379\",\"type\":\"BoxAnnotation\"},{\"attributes\":{},\"id\":\"2489\",\"type\":\"BasicTickFormatter\"},{\"attributes\":{\"active_multi\":null,\"tools\":[{\"id\":\"2373\"},{\"id\":\"2374\"},{\"id\":\"2375\"},{\"id\":\"2376\"},{\"id\":\"2377\"},{\"id\":\"2378\"}]},\"id\":\"2380\",\"type\":\"Toolbar\"},{\"attributes\":{\"axis_label_standoff\":10,\"axis_label_text_color\":\"#E0E0E0\",\"axis_label_text_font\":\"Helvetica\",\"axis_label_text_font_size\":\"1.25em\",\"axis_label_text_font_style\":\"normal\",\"axis_line_alpha\":0,\"axis_line_color\":\"#E0E0E0\",\"formatter\":{\"id\":\"2489\"},\"major_label_policy\":{\"id\":\"2487\"},\"major_label_text_color\":\"#E0E0E0\",\"major_label_text_font\":\"Helvetica\",\"major_label_text_font_size\":\"1.025em\",\"major_tick_line_alpha\":0,\"major_tick_line_color\":\"#E0E0E0\",\"minor_tick_line_alpha\":0,\"minor_tick_line_color\":\"#E0E0E0\",\"ticker\":{\"id\":\"2370\"}},\"id\":\"2369\",\"type\":\"LinearAxis\"},{\"attributes\":{\"line_color\":\"#1f77b4\",\"x\":{\"field\":\"x\"},\"y\":{\"field\":\"y\"}},\"id\":\"2388\",\"type\":\"Line\"},{\"attributes\":{},\"id\":\"2378\",\"type\":\"HelpTool\"},{\"attributes\":{\"line_alpha\":0.1,\"line_color\":\"#1f77b4\",\"x\":{\"field\":\"x\"},\"y\":{\"field\":\"y\"}},\"id\":\"2389\",\"type\":\"Line\"},{\"attributes\":{\"data\":{\"x\":[1,2,3,4,5],\"y\":[4,5,5,7,2]},\"selected\":{\"id\":\"2490\"},\"selection_policy\":{\"id\":\"2491\"}},\"id\":\"2387\",\"type\":\"ColumnDataSource\"},{\"attributes\":{},\"id\":\"2487\",\"type\":\"AllLabels\"},{\"attributes\":{},\"id\":\"2357\",\"type\":\"DataRange1d\"},{\"attributes\":{\"source\":{\"id\":\"2387\"}},\"id\":\"2391\",\"type\":\"CDSView\"},{\"attributes\":{\"overlay\":{\"id\":\"2379\"}},\"id\":\"2375\",\"type\":\"BoxZoomTool\"}],\"root_ids\":[\"2356\"]},\"title\":\"Bokeh Application\",\"version\":\"2.3.3\"}};\n",
       "  var render_items = [{\"docid\":\"dc801439-aa89-48b1-b793-1baac6fe8207\",\"root_ids\":[\"2356\"],\"roots\":{\"2356\":\"0ece078a-f9b4-43c6-9a16-3cbf7781a064\"}}];\n",
       "  root.Bokeh.embed.embed_items_notebook(docs_json, render_items);\n",
       "\n",
       "  }\n",
       "  if (root.Bokeh !== undefined) {\n",
       "    embed_document(root);\n",
       "  } else {\n",
       "    var attempts = 0;\n",
       "    var timer = setInterval(function(root) {\n",
       "      if (root.Bokeh !== undefined) {\n",
       "        clearInterval(timer);\n",
       "        embed_document(root);\n",
       "      } else {\n",
       "        attempts++;\n",
       "        if (attempts > 100) {\n",
       "          clearInterval(timer);\n",
       "          console.log(\"Bokeh: ERROR: Unable to run BokehJS code because BokehJS library is missing\");\n",
       "        }\n",
       "      }\n",
       "    }, 10, root)\n",
       "  }\n",
       "})(window);"
      ],
      "application/vnd.bokehjs_exec.v0+json": ""
     },
     "metadata": {
      "application/vnd.bokehjs_exec.v0+json": {
       "id": "2356"
      }
     },
     "output_type": "display_data"
    }
   ],
   "source": [
    "from bokeh.io import curdoc\n",
    "\n",
    "# prepare some data\n",
    "x = [1, 2, 3, 4, 5]\n",
    "y = [4, 5, 5, 7, 2]\n",
    "\n",
    "# apply theme to current document\n",
    "curdoc().theme = \"dark_minimal\"\n",
    "\n",
    "# create a plot\n",
    "p = figure(sizing_mode=\"stretch_width\", max_width=500, height=250)\n",
    "\n",
    "# add a renderer\n",
    "p.line(x, y)\n",
    "\n",
    "# show the results\n",
    "show(p)"
   ]
  },
  {
   "cell_type": "code",
   "execution_count": 11,
   "id": "31d65c31",
   "metadata": {},
   "outputs": [],
   "source": [
    "# rurn to the default theme\n",
    "curdoc().theme = \"light_minimal\""
   ]
  },
  {
   "cell_type": "markdown",
   "id": "2572f313",
   "metadata": {},
   "source": [
    "You can also create your own themes to use across multiple plots. Bokeh’s themes can be either in a YAML or JSON format. To learn more about creating and using customized themes, see [Creating custom themes](https://docs.bokeh.org/en/latest/docs/user_guide/styling.html#userguide-styling-using-themes-custom) in the user guide.\n",
    "\n",
    "For more information on using themes with Bokeh, see [Using themes](https://docs.bokeh.org/en/latest/docs/user_guide/styling.html#userguide-styling-using-themes) in the user guide and [bokeh.themes](https://docs.bokeh.org/en/latest/docs/reference/themes.html#module-bokeh.themes) in the reference guide.\n",
    "\n",
    "## Resizing your plot\n",
    "Bokeh’s Plot objects have various attributes that influence the way your plot looks.\n",
    "\n",
    "### Setting width and height\n",
    "To set the size of your plot, use the attributes width and height when calling the figure() function:\n"
   ]
  },
  {
   "cell_type": "code",
   "execution_count": 12,
   "id": "07276639",
   "metadata": {},
   "outputs": [
    {
     "data": {
      "text/html": [
       "\n",
       "\n",
       "\n",
       "\n",
       "\n",
       "\n",
       "  <div class=\"bk-root\" id=\"cceb623c-dd3c-461d-84ea-398a5dbfb9b2\" data-root-id=\"2548\"></div>\n"
      ]
     },
     "metadata": {},
     "output_type": "display_data"
    },
    {
     "data": {
      "application/javascript": [
       "(function(root) {\n",
       "  function embed_document(root) {\n",
       "    \n",
       "  var docs_json = {\"45e86364-123d-4ed7-bdb4-f8cbad0a417b\":{\"defs\":[],\"roots\":{\"references\":[{\"attributes\":{\"below\":[{\"id\":\"2559\"}],\"center\":[{\"id\":\"2562\"},{\"id\":\"2566\"}],\"height\":250,\"left\":[{\"id\":\"2563\"}],\"renderers\":[{\"id\":\"2584\"}],\"title\":{\"id\":\"2549\"},\"toolbar\":{\"id\":\"2574\"},\"width\":350,\"x_range\":{\"id\":\"2551\"},\"x_scale\":{\"id\":\"2555\"},\"y_range\":{\"id\":\"2553\"},\"y_scale\":{\"id\":\"2557\"}},\"id\":\"2548\",\"subtype\":\"Figure\",\"type\":\"Plot\"},{\"attributes\":{\"axis\":{\"id\":\"2559\"},\"ticker\":null},\"id\":\"2562\",\"type\":\"Grid\"},{\"attributes\":{\"bottom_units\":\"screen\",\"fill_alpha\":0.5,\"fill_color\":\"lightgrey\",\"left_units\":\"screen\",\"level\":\"overlay\",\"line_alpha\":1.0,\"line_color\":\"black\",\"line_dash\":[4,4],\"line_width\":2,\"right_units\":\"screen\",\"syncable\":false,\"top_units\":\"screen\"},\"id\":\"2573\",\"type\":\"BoxAnnotation\"},{\"attributes\":{},\"id\":\"2553\",\"type\":\"DataRange1d\"},{\"attributes\":{},\"id\":\"2568\",\"type\":\"WheelZoomTool\"},{\"attributes\":{},\"id\":\"2688\",\"type\":\"AllLabels\"},{\"attributes\":{},\"id\":\"2695\",\"type\":\"UnionRenderers\"},{\"attributes\":{},\"id\":\"2694\",\"type\":\"Selection\"},{\"attributes\":{},\"id\":\"2690\",\"type\":\"BasicTickFormatter\"},{\"attributes\":{},\"id\":\"2560\",\"type\":\"BasicTicker\"},{\"attributes\":{},\"id\":\"2557\",\"type\":\"LinearScale\"},{\"attributes\":{\"axis_label\":\"x\",\"axis_label_standoff\":10,\"axis_label_text_color\":\"#5B5B5B\",\"axis_label_text_font\":\"Calibri Light\",\"axis_label_text_font_size\":\"1.15em\",\"axis_label_text_font_style\":\"bold\",\"axis_line_alpha\":1,\"axis_line_color\":\"#5B5B5B\",\"formatter\":{\"id\":\"2690\"},\"major_label_policy\":{\"id\":\"2688\"},\"major_label_text_color\":\"#5B5B5B\",\"major_label_text_font\":\"Calibri Light\",\"major_label_text_font_size\":\"0.95em\",\"major_label_text_font_style\":\"bold\",\"major_tick_in\":0,\"major_tick_line_alpha\":0.25,\"major_tick_line_color\":\"#5B5B5B\",\"major_tick_out\":3,\"minor_tick_line_alpha\":0.25,\"minor_tick_line_color\":\"#5B5B5B\",\"ticker\":{\"id\":\"2560\"}},\"id\":\"2559\",\"type\":\"LinearAxis\"},{\"attributes\":{},\"id\":\"2564\",\"type\":\"BasicTicker\"},{\"attributes\":{\"overlay\":{\"id\":\"2573\"}},\"id\":\"2569\",\"type\":\"BoxZoomTool\"},{\"attributes\":{},\"id\":\"2567\",\"type\":\"PanTool\"},{\"attributes\":{},\"id\":\"2570\",\"type\":\"SaveTool\"},{\"attributes\":{\"axis_label\":\"y\",\"axis_label_standoff\":10,\"axis_label_text_color\":\"#5B5B5B\",\"axis_label_text_font\":\"Calibri Light\",\"axis_label_text_font_size\":\"1.15em\",\"axis_label_text_font_style\":\"bold\",\"axis_line_alpha\":1,\"axis_line_color\":\"#5B5B5B\",\"formatter\":{\"id\":\"2693\"},\"major_label_policy\":{\"id\":\"2691\"},\"major_label_text_color\":\"#5B5B5B\",\"major_label_text_font\":\"Calibri Light\",\"major_label_text_font_size\":\"0.95em\",\"major_label_text_font_style\":\"bold\",\"major_tick_in\":0,\"major_tick_line_alpha\":0.25,\"major_tick_line_color\":\"#5B5B5B\",\"major_tick_out\":3,\"minor_tick_line_alpha\":0.25,\"minor_tick_line_color\":\"#5B5B5B\",\"ticker\":{\"id\":\"2564\"}},\"id\":\"2563\",\"type\":\"LinearAxis\"},{\"attributes\":{},\"id\":\"2571\",\"type\":\"ResetTool\"},{\"attributes\":{\"axis\":{\"id\":\"2563\"},\"dimension\":1,\"ticker\":null},\"id\":\"2566\",\"type\":\"Grid\"},{\"attributes\":{},\"id\":\"2691\",\"type\":\"AllLabels\"},{\"attributes\":{\"data_source\":{\"id\":\"2581\"},\"glyph\":{\"id\":\"2582\"},\"hover_glyph\":null,\"muted_glyph\":null,\"nonselection_glyph\":{\"id\":\"2583\"},\"view\":{\"id\":\"2585\"}},\"id\":\"2584\",\"type\":\"GlyphRenderer\"},{\"attributes\":{},\"id\":\"2693\",\"type\":\"BasicTickFormatter\"},{\"attributes\":{\"source\":{\"id\":\"2581\"}},\"id\":\"2585\",\"type\":\"CDSView\"},{\"attributes\":{\"data\":{\"x\":[1,2,3,4,5],\"y\":[4,5,5,7,2]},\"selected\":{\"id\":\"2694\"},\"selection_policy\":{\"id\":\"2695\"}},\"id\":\"2581\",\"type\":\"ColumnDataSource\"},{\"attributes\":{\"fill_color\":{\"value\":\"red\"},\"line_color\":{\"value\":\"#1f77b4\"},\"size\":{\"value\":15},\"x\":{\"field\":\"x\"},\"y\":{\"field\":\"y\"}},\"id\":\"2582\",\"type\":\"Circle\"},{\"attributes\":{},\"id\":\"2572\",\"type\":\"HelpTool\"},{\"attributes\":{\"text\":\"Plot sizing example\",\"text_color\":\"#5B5B5B\",\"text_font\":\"Calibri Light\",\"text_font_size\":\"1.25em\",\"text_font_style\":\"bold\"},\"id\":\"2549\",\"type\":\"Title\"},{\"attributes\":{\"fill_alpha\":{\"value\":0.1},\"fill_color\":{\"value\":\"red\"},\"line_alpha\":{\"value\":0.1},\"line_color\":{\"value\":\"#1f77b4\"},\"size\":{\"value\":15},\"x\":{\"field\":\"x\"},\"y\":{\"field\":\"y\"}},\"id\":\"2583\",\"type\":\"Circle\"},{\"attributes\":{},\"id\":\"2551\",\"type\":\"DataRange1d\"},{\"attributes\":{},\"id\":\"2555\",\"type\":\"LinearScale\"},{\"attributes\":{\"active_multi\":null,\"tools\":[{\"id\":\"2567\"},{\"id\":\"2568\"},{\"id\":\"2569\"},{\"id\":\"2570\"},{\"id\":\"2571\"},{\"id\":\"2572\"}]},\"id\":\"2574\",\"type\":\"Toolbar\"}],\"root_ids\":[\"2548\"]},\"title\":\"Bokeh Application\",\"version\":\"2.3.3\"}};\n",
       "  var render_items = [{\"docid\":\"45e86364-123d-4ed7-bdb4-f8cbad0a417b\",\"root_ids\":[\"2548\"],\"roots\":{\"2548\":\"cceb623c-dd3c-461d-84ea-398a5dbfb9b2\"}}];\n",
       "  root.Bokeh.embed.embed_items_notebook(docs_json, render_items);\n",
       "\n",
       "  }\n",
       "  if (root.Bokeh !== undefined) {\n",
       "    embed_document(root);\n",
       "  } else {\n",
       "    var attempts = 0;\n",
       "    var timer = setInterval(function(root) {\n",
       "      if (root.Bokeh !== undefined) {\n",
       "        clearInterval(timer);\n",
       "        embed_document(root);\n",
       "      } else {\n",
       "        attempts++;\n",
       "        if (attempts > 100) {\n",
       "          clearInterval(timer);\n",
       "          console.log(\"Bokeh: ERROR: Unable to run BokehJS code because BokehJS library is missing\");\n",
       "        }\n",
       "      }\n",
       "    }, 10, root)\n",
       "  }\n",
       "})(window);"
      ],
      "application/vnd.bokehjs_exec.v0+json": ""
     },
     "metadata": {
      "application/vnd.bokehjs_exec.v0+json": {
       "id": "2548"
      }
     },
     "output_type": "display_data"
    }
   ],
   "source": [
    "# prepare some data\n",
    "x = [1, 2, 3, 4, 5]\n",
    "y = [4, 5, 5, 7, 2]\n",
    "\n",
    "# create a new plot with a specific size\n",
    "p = figure(\n",
    "    title=\"Plot sizing example\",\n",
    "    width=350,\n",
    "    height=250,\n",
    "    x_axis_label=\"x\",\n",
    "    y_axis_label=\"y\",\n",
    ")\n",
    "\n",
    "# add circle renderer\n",
    "circle = p.circle(x, y, fill_color=\"red\", size=15)\n",
    "\n",
    "# show the results\n",
    "show(p)"
   ]
  },
  {
   "cell_type": "markdown",
   "id": "63e4199b",
   "metadata": {},
   "source": [
    "Similar to [changing the design of an existing glyph](https://docs.bokeh.org/en/latest/docs/first_steps/first_steps_2.html#first-steps-2-altering-existing), you can change a plot’s attributes at any time after its creation:\n"
   ]
  },
  {
   "cell_type": "code",
   "execution_count": 13,
   "id": "5e1e7c04",
   "metadata": {},
   "outputs": [
    {
     "data": {
      "text/html": [
       "\n",
       "\n",
       "\n",
       "\n",
       "\n",
       "\n",
       "  <div class=\"bk-root\" id=\"924c2255-c921-4c44-be95-ee79da4ec948\" data-root-id=\"2747\"></div>\n"
      ]
     },
     "metadata": {},
     "output_type": "display_data"
    },
    {
     "data": {
      "application/javascript": [
       "(function(root) {\n",
       "  function embed_document(root) {\n",
       "    \n",
       "  var docs_json = {\"10575eae-fa7e-44b0-bee4-0a3b928786a1\":{\"defs\":[],\"roots\":{\"references\":[{\"attributes\":{\"below\":[{\"id\":\"2758\"}],\"center\":[{\"id\":\"2761\"},{\"id\":\"2765\"}],\"height\":150,\"left\":[{\"id\":\"2762\"}],\"renderers\":[{\"id\":\"2783\"}],\"title\":{\"id\":\"2748\"},\"toolbar\":{\"id\":\"2773\"},\"width\":450,\"x_range\":{\"id\":\"2750\"},\"x_scale\":{\"id\":\"2754\"},\"y_range\":{\"id\":\"2752\"},\"y_scale\":{\"id\":\"2756\"}},\"id\":\"2747\",\"subtype\":\"Figure\",\"type\":\"Plot\"},{\"attributes\":{\"data_source\":{\"id\":\"2780\"},\"glyph\":{\"id\":\"2781\"},\"hover_glyph\":null,\"muted_glyph\":null,\"nonselection_glyph\":{\"id\":\"2782\"},\"view\":{\"id\":\"2784\"}},\"id\":\"2783\",\"type\":\"GlyphRenderer\"},{\"attributes\":{\"overlay\":{\"id\":\"2772\"}},\"id\":\"2768\",\"type\":\"BoxZoomTool\"},{\"attributes\":{\"axis_label\":\"x\",\"axis_label_standoff\":10,\"axis_label_text_color\":\"#5B5B5B\",\"axis_label_text_font\":\"Calibri Light\",\"axis_label_text_font_size\":\"1.15em\",\"axis_label_text_font_style\":\"bold\",\"axis_line_alpha\":1,\"axis_line_color\":\"#5B5B5B\",\"formatter\":{\"id\":\"2899\"},\"major_label_policy\":{\"id\":\"2897\"},\"major_label_text_color\":\"#5B5B5B\",\"major_label_text_font\":\"Calibri Light\",\"major_label_text_font_size\":\"0.95em\",\"major_label_text_font_style\":\"bold\",\"major_tick_in\":0,\"major_tick_line_alpha\":0.25,\"major_tick_line_color\":\"#5B5B5B\",\"major_tick_out\":3,\"minor_tick_line_alpha\":0.25,\"minor_tick_line_color\":\"#5B5B5B\",\"ticker\":{\"id\":\"2759\"}},\"id\":\"2758\",\"type\":\"LinearAxis\"},{\"attributes\":{},\"id\":\"2763\",\"type\":\"BasicTicker\"},{\"attributes\":{},\"id\":\"2756\",\"type\":\"LinearScale\"},{\"attributes\":{\"axis_label\":\"y\",\"axis_label_standoff\":10,\"axis_label_text_color\":\"#5B5B5B\",\"axis_label_text_font\":\"Calibri Light\",\"axis_label_text_font_size\":\"1.15em\",\"axis_label_text_font_style\":\"bold\",\"axis_line_alpha\":1,\"axis_line_color\":\"#5B5B5B\",\"formatter\":{\"id\":\"2902\"},\"major_label_policy\":{\"id\":\"2900\"},\"major_label_text_color\":\"#5B5B5B\",\"major_label_text_font\":\"Calibri Light\",\"major_label_text_font_size\":\"0.95em\",\"major_label_text_font_style\":\"bold\",\"major_tick_in\":0,\"major_tick_line_alpha\":0.25,\"major_tick_line_color\":\"#5B5B5B\",\"major_tick_out\":3,\"minor_tick_line_alpha\":0.25,\"minor_tick_line_color\":\"#5B5B5B\",\"ticker\":{\"id\":\"2763\"}},\"id\":\"2762\",\"type\":\"LinearAxis\"},{\"attributes\":{\"active_multi\":null,\"tools\":[{\"id\":\"2766\"},{\"id\":\"2767\"},{\"id\":\"2768\"},{\"id\":\"2769\"},{\"id\":\"2770\"},{\"id\":\"2771\"}]},\"id\":\"2773\",\"type\":\"Toolbar\"},{\"attributes\":{},\"id\":\"2767\",\"type\":\"WheelZoomTool\"},{\"attributes\":{},\"id\":\"2759\",\"type\":\"BasicTicker\"},{\"attributes\":{\"bottom_units\":\"screen\",\"fill_alpha\":0.5,\"fill_color\":\"lightgrey\",\"left_units\":\"screen\",\"level\":\"overlay\",\"line_alpha\":1.0,\"line_color\":\"black\",\"line_dash\":[4,4],\"line_width\":2,\"right_units\":\"screen\",\"syncable\":false,\"top_units\":\"screen\"},\"id\":\"2772\",\"type\":\"BoxAnnotation\"},{\"attributes\":{},\"id\":\"2897\",\"type\":\"AllLabels\"},{\"attributes\":{},\"id\":\"2769\",\"type\":\"SaveTool\"},{\"attributes\":{},\"id\":\"2904\",\"type\":\"UnionRenderers\"},{\"attributes\":{\"axis\":{\"id\":\"2758\"},\"ticker\":null},\"id\":\"2761\",\"type\":\"Grid\"},{\"attributes\":{},\"id\":\"2903\",\"type\":\"Selection\"},{\"attributes\":{},\"id\":\"2899\",\"type\":\"BasicTickFormatter\"},{\"attributes\":{\"axis\":{\"id\":\"2762\"},\"dimension\":1,\"ticker\":null},\"id\":\"2765\",\"type\":\"Grid\"},{\"attributes\":{},\"id\":\"2766\",\"type\":\"PanTool\"},{\"attributes\":{},\"id\":\"2754\",\"type\":\"LinearScale\"},{\"attributes\":{},\"id\":\"2902\",\"type\":\"BasicTickFormatter\"},{\"attributes\":{},\"id\":\"2771\",\"type\":\"HelpTool\"},{\"attributes\":{},\"id\":\"2752\",\"type\":\"DataRange1d\"},{\"attributes\":{\"data\":{\"x\":[1,2,3,4,5],\"y\":[4,5,5,7,2]},\"selected\":{\"id\":\"2903\"},\"selection_policy\":{\"id\":\"2904\"}},\"id\":\"2780\",\"type\":\"ColumnDataSource\"},{\"attributes\":{\"fill_color\":{\"value\":\"red\"},\"line_color\":{\"value\":\"#1f77b4\"},\"size\":{\"value\":15},\"x\":{\"field\":\"x\"},\"y\":{\"field\":\"y\"}},\"id\":\"2781\",\"type\":\"Circle\"},{\"attributes\":{\"fill_alpha\":{\"value\":0.1},\"fill_color\":{\"value\":\"red\"},\"line_alpha\":{\"value\":0.1},\"line_color\":{\"value\":\"#1f77b4\"},\"size\":{\"value\":15},\"x\":{\"field\":\"x\"},\"y\":{\"field\":\"y\"}},\"id\":\"2782\",\"type\":\"Circle\"},{\"attributes\":{\"text\":\"Plot resizing example\",\"text_color\":\"#5B5B5B\",\"text_font\":\"Calibri Light\",\"text_font_size\":\"1.25em\",\"text_font_style\":\"bold\"},\"id\":\"2748\",\"type\":\"Title\"},{\"attributes\":{},\"id\":\"2750\",\"type\":\"DataRange1d\"},{\"attributes\":{\"source\":{\"id\":\"2780\"}},\"id\":\"2784\",\"type\":\"CDSView\"},{\"attributes\":{},\"id\":\"2900\",\"type\":\"AllLabels\"},{\"attributes\":{},\"id\":\"2770\",\"type\":\"ResetTool\"}],\"root_ids\":[\"2747\"]},\"title\":\"Bokeh Application\",\"version\":\"2.3.3\"}};\n",
       "  var render_items = [{\"docid\":\"10575eae-fa7e-44b0-bee4-0a3b928786a1\",\"root_ids\":[\"2747\"],\"roots\":{\"2747\":\"924c2255-c921-4c44-be95-ee79da4ec948\"}}];\n",
       "  root.Bokeh.embed.embed_items_notebook(docs_json, render_items);\n",
       "\n",
       "  }\n",
       "  if (root.Bokeh !== undefined) {\n",
       "    embed_document(root);\n",
       "  } else {\n",
       "    var attempts = 0;\n",
       "    var timer = setInterval(function(root) {\n",
       "      if (root.Bokeh !== undefined) {\n",
       "        clearInterval(timer);\n",
       "        embed_document(root);\n",
       "      } else {\n",
       "        attempts++;\n",
       "        if (attempts > 100) {\n",
       "          clearInterval(timer);\n",
       "          console.log(\"Bokeh: ERROR: Unable to run BokehJS code because BokehJS library is missing\");\n",
       "        }\n",
       "      }\n",
       "    }, 10, root)\n",
       "  }\n",
       "})(window);"
      ],
      "application/vnd.bokehjs_exec.v0+json": ""
     },
     "metadata": {
      "application/vnd.bokehjs_exec.v0+json": {
       "id": "2747"
      }
     },
     "output_type": "display_data"
    }
   ],
   "source": [
    "# prepare some data\n",
    "x = [1, 2, 3, 4, 5]\n",
    "y = [4, 5, 5, 7, 2]\n",
    "\n",
    "# create a new plot with a specific size\n",
    "p = figure(\n",
    "    title=\"Plot resizing example\",\n",
    "    width=350,\n",
    "    height=250,\n",
    "    x_axis_label=\"x\",\n",
    "    y_axis_label=\"y\",\n",
    ")\n",
    "\n",
    "# chage plot size\n",
    "p.width = 450\n",
    "p.height = 150\n",
    "\n",
    "# add circle renderer\n",
    "circle = p.circle(x, y, fill_color=\"red\", size=15)\n",
    "\n",
    "# show the results\n",
    "show(p)"
   ]
  },
  {
   "cell_type": "markdown",
   "id": "680a31fa",
   "metadata": {},
   "source": [
    "### Enabling responsive plot sizing\n",
    "To make your plot automatically adjust to your browser or screen size, use the attribute **sizing_mode**:"
   ]
  },
  {
   "cell_type": "code",
   "execution_count": 14,
   "id": "d9a19532",
   "metadata": {},
   "outputs": [
    {
     "data": {
      "text/html": [
       "\n",
       "\n",
       "\n",
       "\n",
       "\n",
       "\n",
       "  <div class=\"bk-root\" id=\"477bf691-7269-4465-9805-f3e18d03d719\" data-root-id=\"2956\"></div>\n"
      ]
     },
     "metadata": {},
     "output_type": "display_data"
    },
    {
     "data": {
      "application/javascript": [
       "(function(root) {\n",
       "  function embed_document(root) {\n",
       "    \n",
       "  var docs_json = {\"a4cf8d46-e456-4cc7-90de-f647dbe97152\":{\"defs\":[],\"roots\":{\"references\":[{\"attributes\":{\"below\":[{\"id\":\"2967\"}],\"center\":[{\"id\":\"2970\"},{\"id\":\"2974\"}],\"height\":250,\"left\":[{\"id\":\"2971\"}],\"renderers\":[{\"id\":\"2992\"}],\"sizing_mode\":\"stretch_width\",\"title\":{\"id\":\"2957\"},\"toolbar\":{\"id\":\"2982\"},\"x_range\":{\"id\":\"2959\"},\"x_scale\":{\"id\":\"2963\"},\"y_range\":{\"id\":\"2961\"},\"y_scale\":{\"id\":\"2965\"}},\"id\":\"2956\",\"subtype\":\"Figure\",\"type\":\"Plot\"},{\"attributes\":{\"fill_alpha\":{\"value\":0.1},\"fill_color\":{\"value\":\"red\"},\"line_alpha\":{\"value\":0.1},\"line_color\":{\"value\":\"#1f77b4\"},\"size\":{\"value\":15},\"x\":{\"field\":\"x\"},\"y\":{\"field\":\"y\"}},\"id\":\"2991\",\"type\":\"Circle\"},{\"attributes\":{},\"id\":\"3116\",\"type\":\"AllLabels\"},{\"attributes\":{},\"id\":\"3122\",\"type\":\"Selection\"},{\"attributes\":{},\"id\":\"3118\",\"type\":\"BasicTickFormatter\"},{\"attributes\":{\"data\":{\"x\":[1,2,3,4,5],\"y\":[4,5,5,7,2]},\"selected\":{\"id\":\"3122\"},\"selection_policy\":{\"id\":\"3123\"}},\"id\":\"2989\",\"type\":\"ColumnDataSource\"},{\"attributes\":{\"fill_color\":{\"value\":\"red\"},\"line_color\":{\"value\":\"#1f77b4\"},\"size\":{\"value\":15},\"x\":{\"field\":\"x\"},\"y\":{\"field\":\"y\"}},\"id\":\"2990\",\"type\":\"Circle\"},{\"attributes\":{},\"id\":\"2975\",\"type\":\"PanTool\"},{\"attributes\":{\"bottom_units\":\"screen\",\"fill_alpha\":0.5,\"fill_color\":\"lightgrey\",\"left_units\":\"screen\",\"level\":\"overlay\",\"line_alpha\":1.0,\"line_color\":\"black\",\"line_dash\":[4,4],\"line_width\":2,\"right_units\":\"screen\",\"syncable\":false,\"top_units\":\"screen\"},\"id\":\"2981\",\"type\":\"BoxAnnotation\"},{\"attributes\":{\"axis\":{\"id\":\"2971\"},\"dimension\":1,\"ticker\":null},\"id\":\"2974\",\"type\":\"Grid\"},{\"attributes\":{\"overlay\":{\"id\":\"2981\"}},\"id\":\"2977\",\"type\":\"BoxZoomTool\"},{\"attributes\":{\"axis_label\":\"y\",\"axis_label_standoff\":10,\"axis_label_text_color\":\"#5B5B5B\",\"axis_label_text_font\":\"Calibri Light\",\"axis_label_text_font_size\":\"1.15em\",\"axis_label_text_font_style\":\"bold\",\"axis_line_alpha\":1,\"axis_line_color\":\"#5B5B5B\",\"formatter\":{\"id\":\"3121\"},\"major_label_policy\":{\"id\":\"3119\"},\"major_label_text_color\":\"#5B5B5B\",\"major_label_text_font\":\"Calibri Light\",\"major_label_text_font_size\":\"0.95em\",\"major_label_text_font_style\":\"bold\",\"major_tick_in\":0,\"major_tick_line_alpha\":0.25,\"major_tick_line_color\":\"#5B5B5B\",\"major_tick_out\":3,\"minor_tick_line_alpha\":0.25,\"minor_tick_line_color\":\"#5B5B5B\",\"ticker\":{\"id\":\"2972\"}},\"id\":\"2971\",\"type\":\"LinearAxis\"},{\"attributes\":{},\"id\":\"2961\",\"type\":\"DataRange1d\"},{\"attributes\":{},\"id\":\"2965\",\"type\":\"LinearScale\"},{\"attributes\":{},\"id\":\"2968\",\"type\":\"BasicTicker\"},{\"attributes\":{\"axis\":{\"id\":\"2967\"},\"ticker\":null},\"id\":\"2970\",\"type\":\"Grid\"},{\"attributes\":{},\"id\":\"2972\",\"type\":\"BasicTicker\"},{\"attributes\":{\"data_source\":{\"id\":\"2989\"},\"glyph\":{\"id\":\"2990\"},\"hover_glyph\":null,\"muted_glyph\":null,\"nonselection_glyph\":{\"id\":\"2991\"},\"view\":{\"id\":\"2993\"}},\"id\":\"2992\",\"type\":\"GlyphRenderer\"},{\"attributes\":{},\"id\":\"2976\",\"type\":\"WheelZoomTool\"},{\"attributes\":{\"active_multi\":null,\"tools\":[{\"id\":\"2975\"},{\"id\":\"2976\"},{\"id\":\"2977\"},{\"id\":\"2978\"},{\"id\":\"2979\"},{\"id\":\"2980\"}]},\"id\":\"2982\",\"type\":\"Toolbar\"},{\"attributes\":{},\"id\":\"3119\",\"type\":\"AllLabels\"},{\"attributes\":{\"source\":{\"id\":\"2989\"}},\"id\":\"2993\",\"type\":\"CDSView\"},{\"attributes\":{},\"id\":\"2980\",\"type\":\"HelpTool\"},{\"attributes\":{\"text\":\"Plot responsive sizing example\",\"text_color\":\"#5B5B5B\",\"text_font\":\"Calibri Light\",\"text_font_size\":\"1.25em\",\"text_font_style\":\"bold\"},\"id\":\"2957\",\"type\":\"Title\"},{\"attributes\":{},\"id\":\"3121\",\"type\":\"BasicTickFormatter\"},{\"attributes\":{},\"id\":\"2959\",\"type\":\"DataRange1d\"},{\"attributes\":{},\"id\":\"2979\",\"type\":\"ResetTool\"},{\"attributes\":{},\"id\":\"3123\",\"type\":\"UnionRenderers\"},{\"attributes\":{},\"id\":\"2978\",\"type\":\"SaveTool\"},{\"attributes\":{},\"id\":\"2963\",\"type\":\"LinearScale\"},{\"attributes\":{\"axis_label\":\"x\",\"axis_label_standoff\":10,\"axis_label_text_color\":\"#5B5B5B\",\"axis_label_text_font\":\"Calibri Light\",\"axis_label_text_font_size\":\"1.15em\",\"axis_label_text_font_style\":\"bold\",\"axis_line_alpha\":1,\"axis_line_color\":\"#5B5B5B\",\"formatter\":{\"id\":\"3118\"},\"major_label_policy\":{\"id\":\"3116\"},\"major_label_text_color\":\"#5B5B5B\",\"major_label_text_font\":\"Calibri Light\",\"major_label_text_font_size\":\"0.95em\",\"major_label_text_font_style\":\"bold\",\"major_tick_in\":0,\"major_tick_line_alpha\":0.25,\"major_tick_line_color\":\"#5B5B5B\",\"major_tick_out\":3,\"minor_tick_line_alpha\":0.25,\"minor_tick_line_color\":\"#5B5B5B\",\"ticker\":{\"id\":\"2968\"}},\"id\":\"2967\",\"type\":\"LinearAxis\"}],\"root_ids\":[\"2956\"]},\"title\":\"Bokeh Application\",\"version\":\"2.3.3\"}};\n",
       "  var render_items = [{\"docid\":\"a4cf8d46-e456-4cc7-90de-f647dbe97152\",\"root_ids\":[\"2956\"],\"roots\":{\"2956\":\"477bf691-7269-4465-9805-f3e18d03d719\"}}];\n",
       "  root.Bokeh.embed.embed_items_notebook(docs_json, render_items);\n",
       "\n",
       "  }\n",
       "  if (root.Bokeh !== undefined) {\n",
       "    embed_document(root);\n",
       "  } else {\n",
       "    var attempts = 0;\n",
       "    var timer = setInterval(function(root) {\n",
       "      if (root.Bokeh !== undefined) {\n",
       "        clearInterval(timer);\n",
       "        embed_document(root);\n",
       "      } else {\n",
       "        attempts++;\n",
       "        if (attempts > 100) {\n",
       "          clearInterval(timer);\n",
       "          console.log(\"Bokeh: ERROR: Unable to run BokehJS code because BokehJS library is missing\");\n",
       "        }\n",
       "      }\n",
       "    }, 10, root)\n",
       "  }\n",
       "})(window);"
      ],
      "application/vnd.bokehjs_exec.v0+json": ""
     },
     "metadata": {
      "application/vnd.bokehjs_exec.v0+json": {
       "id": "2956"
      }
     },
     "output_type": "display_data"
    }
   ],
   "source": [
    "# prepare some data\n",
    "x = [1, 2, 3, 4, 5]\n",
    "y = [4, 5, 5, 7, 2]\n",
    "\n",
    "# create a new plot with responsive width\n",
    "p = figure(\n",
    "    title=\"Plot responsive sizing example\",\n",
    "    sizing_mode=\"stretch_width\",\n",
    "    height=250,\n",
    "    x_axis_label=\"x\",\n",
    "    y_axis_label=\"y\",\n",
    ")\n",
    "\n",
    "# add circle renderer\n",
    "circle = p.circle(x, y, fill_color=\"red\", size=15)\n",
    "\n",
    "# show the results\n",
    "show(p)"
   ]
  },
  {
   "cell_type": "markdown",
   "id": "29750cd2",
   "metadata": {},
   "source": [
    "To learn more about how to control the size of plots, see [Styling plots](https://docs.bokeh.org/en/latest/docs/user_guide/styling.html#userguide-styling-plots) in the user guide and the entry for [Plot](https://docs.bokeh.org/en/latest/docs/reference/models/plots.html#bokeh.models.Plot) in the reference guide.\n",
    "\n",
    "For more information on responsive sizing, see [Sizing modes](https://docs.bokeh.org/en/latest/docs/user_guide/layout.html#userguide-layout-sizing-mode) in the user guide and sizing_mode in the reference guide.\n",
    "\n",
    "## Customizing axes\n",
    "You can set various attributes to change the way the axes in your plot work and look.\n",
    "\n",
    "###Setting your axes’ appearance\n",
    "Options for customizing the appearance of your plot include:\n",
    "- setting labels for your axes\n",
    "- styling the numbers displayed with your axes\n",
    "- defining colors and other layout properties for the axes themselves\n",
    "\n",
    "For example:\n"
   ]
  },
  {
   "cell_type": "code",
   "execution_count": 15,
   "id": "f8da14c1",
   "metadata": {},
   "outputs": [
    {
     "data": {
      "text/html": [
       "\n",
       "\n",
       "\n",
       "\n",
       "\n",
       "\n",
       "  <div class=\"bk-root\" id=\"0ee5ba95-eb6c-49a6-bb36-f7c88cec99b0\" data-root-id=\"3175\"></div>\n"
      ]
     },
     "metadata": {},
     "output_type": "display_data"
    },
    {
     "data": {
      "application/javascript": [
       "(function(root) {\n",
       "  function embed_document(root) {\n",
       "    \n",
       "  var docs_json = {\"6af6e713-4a51-409d-85c5-22229c0d0717\":{\"defs\":[],\"roots\":{\"references\":[{\"attributes\":{\"below\":[{\"id\":\"3186\"}],\"center\":[{\"id\":\"3189\"},{\"id\":\"3193\"}],\"height\":350,\"left\":[{\"id\":\"3190\"}],\"max_width\":500,\"renderers\":[{\"id\":\"3211\"}],\"sizing_mode\":\"stretch_width\",\"title\":{\"id\":\"3176\"},\"toolbar\":{\"id\":\"3201\"},\"x_range\":{\"id\":\"3178\"},\"x_scale\":{\"id\":\"3182\"},\"y_range\":{\"id\":\"3180\"},\"y_scale\":{\"id\":\"3184\"}},\"id\":\"3175\",\"subtype\":\"Figure\",\"type\":\"Plot\"},{\"attributes\":{},\"id\":\"3187\",\"type\":\"BasicTicker\"},{\"attributes\":{\"axis\":{\"id\":\"3186\"},\"ticker\":null},\"id\":\"3189\",\"type\":\"Grid\"},{\"attributes\":{\"axis\":{\"id\":\"3190\"},\"dimension\":1,\"ticker\":null},\"id\":\"3193\",\"type\":\"Grid\"},{\"attributes\":{\"data\":{\"x\":[1,2,3,4,5],\"y\":[4,5,5,7,2]},\"selected\":{\"id\":\"3351\"},\"selection_policy\":{\"id\":\"3352\"}},\"id\":\"3208\",\"type\":\"ColumnDataSource\"},{\"attributes\":{\"bottom_units\":\"screen\",\"fill_alpha\":0.5,\"fill_color\":\"lightgrey\",\"left_units\":\"screen\",\"level\":\"overlay\",\"line_alpha\":1.0,\"line_color\":\"black\",\"line_dash\":[4,4],\"line_width\":2,\"right_units\":\"screen\",\"syncable\":false,\"top_units\":\"screen\"},\"id\":\"3200\",\"type\":\"BoxAnnotation\"},{\"attributes\":{},\"id\":\"3345\",\"type\":\"AllLabels\"},{\"attributes\":{},\"id\":\"3199\",\"type\":\"HelpTool\"},{\"attributes\":{},\"id\":\"3352\",\"type\":\"UnionRenderers\"},{\"attributes\":{},\"id\":\"3351\",\"type\":\"Selection\"},{\"attributes\":{},\"id\":\"3347\",\"type\":\"BasicTickFormatter\"},{\"attributes\":{},\"id\":\"3195\",\"type\":\"WheelZoomTool\"},{\"attributes\":{\"text\":\"Customized axes example\",\"text_color\":\"#5B5B5B\",\"text_font\":\"Calibri Light\",\"text_font_size\":\"1.25em\",\"text_font_style\":\"bold\"},\"id\":\"3176\",\"type\":\"Title\"},{\"attributes\":{},\"id\":\"3191\",\"type\":\"BasicTicker\"},{\"attributes\":{},\"id\":\"3184\",\"type\":\"LinearScale\"},{\"attributes\":{\"fill_alpha\":{\"value\":0.1},\"fill_color\":{\"value\":\"#1f77b4\"},\"line_alpha\":{\"value\":0.1},\"line_color\":{\"value\":\"#1f77b4\"},\"size\":{\"value\":10},\"x\":{\"field\":\"x\"},\"y\":{\"field\":\"y\"}},\"id\":\"3210\",\"type\":\"Circle\"},{\"attributes\":{\"overlay\":{\"id\":\"3200\"}},\"id\":\"3196\",\"type\":\"BoxZoomTool\"},{\"attributes\":{},\"id\":\"3197\",\"type\":\"SaveTool\"},{\"attributes\":{},\"id\":\"3194\",\"type\":\"PanTool\"},{\"attributes\":{},\"id\":\"3178\",\"type\":\"DataRange1d\"},{\"attributes\":{},\"id\":\"3198\",\"type\":\"ResetTool\"},{\"attributes\":{},\"id\":\"3182\",\"type\":\"LinearScale\"},{\"attributes\":{\"active_multi\":null,\"tools\":[{\"id\":\"3194\"},{\"id\":\"3195\"},{\"id\":\"3196\"},{\"id\":\"3197\"},{\"id\":\"3198\"},{\"id\":\"3199\"}]},\"id\":\"3201\",\"type\":\"Toolbar\"},{\"attributes\":{},\"id\":\"3348\",\"type\":\"AllLabels\"},{\"attributes\":{\"axis_label\":\"Temp\",\"axis_label_standoff\":10,\"axis_label_text_color\":\"#5B5B5B\",\"axis_label_text_font\":\"Calibri Light\",\"axis_label_text_font_size\":\"1.15em\",\"axis_label_text_font_style\":\"bold\",\"axis_line_alpha\":1,\"axis_line_color\":\"red\",\"axis_line_width\":3,\"formatter\":{\"id\":\"3347\"},\"major_label_policy\":{\"id\":\"3345\"},\"major_label_text_color\":\"#5B5B5B\",\"major_label_text_font\":\"Calibri Light\",\"major_label_text_font_size\":\"0.95em\",\"major_label_text_font_style\":\"bold\",\"major_tick_in\":0,\"major_tick_line_alpha\":0.25,\"major_tick_line_color\":\"#5B5B5B\",\"major_tick_out\":3,\"minor_tick_in\":-3,\"minor_tick_line_alpha\":0.25,\"minor_tick_line_color\":\"#5B5B5B\",\"minor_tick_out\":6,\"ticker\":{\"id\":\"3187\"}},\"id\":\"3186\",\"type\":\"LinearAxis\"},{\"attributes\":{\"data_source\":{\"id\":\"3208\"},\"glyph\":{\"id\":\"3209\"},\"hover_glyph\":null,\"muted_glyph\":null,\"nonselection_glyph\":{\"id\":\"3210\"},\"view\":{\"id\":\"3212\"}},\"id\":\"3211\",\"type\":\"GlyphRenderer\"},{\"attributes\":{},\"id\":\"3350\",\"type\":\"BasicTickFormatter\"},{\"attributes\":{\"source\":{\"id\":\"3208\"}},\"id\":\"3212\",\"type\":\"CDSView\"},{\"attributes\":{},\"id\":\"3180\",\"type\":\"DataRange1d\"},{\"attributes\":{\"fill_color\":{\"value\":\"#1f77b4\"},\"line_color\":{\"value\":\"#1f77b4\"},\"size\":{\"value\":10},\"x\":{\"field\":\"x\"},\"y\":{\"field\":\"y\"}},\"id\":\"3209\",\"type\":\"Circle\"},{\"attributes\":{\"axis_label\":\"Pressure\",\"axis_label_standoff\":10,\"axis_label_text_color\":\"#5B5B5B\",\"axis_label_text_font\":\"Calibri Light\",\"axis_label_text_font_size\":\"1.15em\",\"axis_label_text_font_style\":\"bold\",\"axis_line_alpha\":1,\"axis_line_color\":\"#5B5B5B\",\"formatter\":{\"id\":\"3350\"},\"major_label_orientation\":\"vertical\",\"major_label_policy\":{\"id\":\"3348\"},\"major_label_text_color\":\"orange\",\"major_label_text_font\":\"Calibri Light\",\"major_label_text_font_size\":\"0.95em\",\"major_label_text_font_style\":\"bold\",\"major_tick_in\":0,\"major_tick_line_alpha\":0.25,\"major_tick_line_color\":\"#5B5B5B\",\"major_tick_out\":3,\"minor_tick_in\":-3,\"minor_tick_line_alpha\":0.25,\"minor_tick_line_color\":\"#5B5B5B\",\"minor_tick_out\":6,\"ticker\":{\"id\":\"3191\"}},\"id\":\"3190\",\"type\":\"LinearAxis\"}],\"root_ids\":[\"3175\"]},\"title\":\"Bokeh Application\",\"version\":\"2.3.3\"}};\n",
       "  var render_items = [{\"docid\":\"6af6e713-4a51-409d-85c5-22229c0d0717\",\"root_ids\":[\"3175\"],\"roots\":{\"3175\":\"0ee5ba95-eb6c-49a6-bb36-f7c88cec99b0\"}}];\n",
       "  root.Bokeh.embed.embed_items_notebook(docs_json, render_items);\n",
       "\n",
       "  }\n",
       "  if (root.Bokeh !== undefined) {\n",
       "    embed_document(root);\n",
       "  } else {\n",
       "    var attempts = 0;\n",
       "    var timer = setInterval(function(root) {\n",
       "      if (root.Bokeh !== undefined) {\n",
       "        clearInterval(timer);\n",
       "        embed_document(root);\n",
       "      } else {\n",
       "        attempts++;\n",
       "        if (attempts > 100) {\n",
       "          clearInterval(timer);\n",
       "          console.log(\"Bokeh: ERROR: Unable to run BokehJS code because BokehJS library is missing\");\n",
       "        }\n",
       "      }\n",
       "    }, 10, root)\n",
       "  }\n",
       "})(window);"
      ],
      "application/vnd.bokehjs_exec.v0+json": ""
     },
     "metadata": {
      "application/vnd.bokehjs_exec.v0+json": {
       "id": "3175"
      }
     },
     "output_type": "display_data"
    }
   ],
   "source": [
    "# prepare some data\n",
    "x = [1, 2, 3, 4, 5]\n",
    "y = [4, 5, 5, 7, 2]\n",
    "\n",
    "# create a plot\n",
    "p = figure(\n",
    "    title=\"Customized axes example\",\n",
    "    sizing_mode=\"stretch_width\",\n",
    "    max_width=500,\n",
    "    height=350,\n",
    ")\n",
    "\n",
    "# add a renderer\n",
    "p.circle(x, y, size=10)\n",
    "\n",
    "# change some things about the x-axis\n",
    "p.xaxis.axis_label = \"Temp\"\n",
    "p.xaxis.axis_line_width = 3\n",
    "p.xaxis.axis_line_color = \"red\"\n",
    "\n",
    "# change some things about the y-axis\n",
    "p.yaxis.axis_label = \"Pressure\"\n",
    "p.yaxis.major_label_text_color = \"orange\"\n",
    "p.yaxis.major_label_orientation = \"vertical\"\n",
    "\n",
    "# change things on all axes\n",
    "p.axis.minor_tick_in = -3\n",
    "p.axis.minor_tick_out = 6\n",
    "\n",
    "# show the results\n",
    "show(p)"
   ]
  },
  {
   "cell_type": "markdown",
   "id": "5ddf2bca",
   "metadata": {},
   "source": [
    "### Defining axis ranges\n",
    "When drawing the axes for your plot, Bokeh automatically determines the range each axis needs to cover in order to display all your values. For example, if the values on your y-axis are between 2 and 17, Bokeh automatically creates a y-axis that ranges from a little below 2 to a little above 17.\n",
    "\n",
    "To define the range for your axes manually, use the y_range() function or the y_range() properties of your Plot object when you call the figure() function:\n"
   ]
  },
  {
   "cell_type": "code",
   "execution_count": 16,
   "id": "a0c62d0c",
   "metadata": {},
   "outputs": [
    {
     "data": {
      "text/html": [
       "\n",
       "\n",
       "\n",
       "\n",
       "\n",
       "\n",
       "  <div class=\"bk-root\" id=\"b21ac347-d34d-45e2-97da-c42899134793\" data-root-id=\"3404\"></div>\n"
      ]
     },
     "metadata": {},
     "output_type": "display_data"
    },
    {
     "data": {
      "application/javascript": [
       "(function(root) {\n",
       "  function embed_document(root) {\n",
       "    \n",
       "  var docs_json = {\"97224be7-c501-422b-828a-94ecb655eddf\":{\"defs\":[],\"roots\":{\"references\":[{\"attributes\":{\"below\":[{\"id\":\"3415\"}],\"center\":[{\"id\":\"3418\"},{\"id\":\"3422\"}],\"height\":250,\"left\":[{\"id\":\"3419\"}],\"max_width\":500,\"renderers\":[{\"id\":\"3440\"}],\"sizing_mode\":\"stretch_width\",\"title\":{\"id\":\"3405\"},\"toolbar\":{\"id\":\"3430\"},\"x_range\":{\"id\":\"3407\"},\"x_scale\":{\"id\":\"3411\"},\"y_range\":{\"id\":\"3409\"},\"y_scale\":{\"id\":\"3413\"}},\"id\":\"3404\",\"subtype\":\"Figure\",\"type\":\"Plot\"},{\"attributes\":{},\"id\":\"3589\",\"type\":\"BasicTickFormatter\"},{\"attributes\":{\"axis\":{\"id\":\"3415\"},\"ticker\":null},\"id\":\"3418\",\"type\":\"Grid\"},{\"attributes\":{},\"id\":\"3420\",\"type\":\"BasicTicker\"},{\"attributes\":{},\"id\":\"3428\",\"type\":\"HelpTool\"},{\"attributes\":{\"active_multi\":null,\"tools\":[{\"id\":\"3423\"},{\"id\":\"3424\"},{\"id\":\"3425\"},{\"id\":\"3426\"},{\"id\":\"3427\"},{\"id\":\"3428\"}]},\"id\":\"3430\",\"type\":\"Toolbar\"},{\"attributes\":{\"data_source\":{\"id\":\"3437\"},\"glyph\":{\"id\":\"3438\"},\"hover_glyph\":null,\"muted_glyph\":null,\"nonselection_glyph\":{\"id\":\"3439\"},\"view\":{\"id\":\"3441\"}},\"id\":\"3440\",\"type\":\"GlyphRenderer\"},{\"attributes\":{\"end\":25},\"id\":\"3409\",\"type\":\"Range1d\"},{\"attributes\":{\"axis\":{\"id\":\"3419\"},\"dimension\":1,\"ticker\":null},\"id\":\"3422\",\"type\":\"Grid\"},{\"attributes\":{\"overlay\":{\"id\":\"3429\"}},\"id\":\"3425\",\"type\":\"BoxZoomTool\"},{\"attributes\":{\"axis_label_standoff\":10,\"axis_label_text_color\":\"#5B5B5B\",\"axis_label_text_font\":\"Calibri Light\",\"axis_label_text_font_size\":\"1.15em\",\"axis_label_text_font_style\":\"bold\",\"axis_line_alpha\":1,\"axis_line_color\":\"#5B5B5B\",\"formatter\":{\"id\":\"3589\"},\"major_label_policy\":{\"id\":\"3587\"},\"major_label_text_color\":\"#5B5B5B\",\"major_label_text_font\":\"Calibri Light\",\"major_label_text_font_size\":\"0.95em\",\"major_label_text_font_style\":\"bold\",\"major_tick_in\":0,\"major_tick_line_alpha\":0.25,\"major_tick_line_color\":\"#5B5B5B\",\"major_tick_out\":3,\"minor_tick_line_alpha\":0.25,\"minor_tick_line_color\":\"#5B5B5B\",\"ticker\":{\"id\":\"3420\"}},\"id\":\"3419\",\"type\":\"LinearAxis\"},{\"attributes\":{},\"id\":\"3427\",\"type\":\"ResetTool\"},{\"attributes\":{},\"id\":\"3411\",\"type\":\"LinearScale\"},{\"attributes\":{},\"id\":\"3584\",\"type\":\"AllLabels\"},{\"attributes\":{},\"id\":\"3407\",\"type\":\"DataRange1d\"},{\"attributes\":{\"fill_alpha\":{\"value\":0.1},\"fill_color\":{\"value\":\"#1f77b4\"},\"line_alpha\":{\"value\":0.1},\"line_color\":{\"value\":\"#1f77b4\"},\"size\":{\"value\":8},\"x\":{\"field\":\"x\"},\"y\":{\"field\":\"y\"}},\"id\":\"3439\",\"type\":\"Circle\"},{\"attributes\":{\"text\":\"Axis range example\",\"text_color\":\"#5B5B5B\",\"text_font\":\"Calibri Light\",\"text_font_size\":\"1.25em\",\"text_font_style\":\"bold\"},\"id\":\"3405\",\"type\":\"Title\"},{\"attributes\":{},\"id\":\"3424\",\"type\":\"WheelZoomTool\"},{\"attributes\":{},\"id\":\"3591\",\"type\":\"UnionRenderers\"},{\"attributes\":{},\"id\":\"3426\",\"type\":\"SaveTool\"},{\"attributes\":{},\"id\":\"3590\",\"type\":\"Selection\"},{\"attributes\":{},\"id\":\"3586\",\"type\":\"BasicTickFormatter\"},{\"attributes\":{},\"id\":\"3423\",\"type\":\"PanTool\"},{\"attributes\":{},\"id\":\"3587\",\"type\":\"AllLabels\"},{\"attributes\":{\"fill_color\":{\"value\":\"#1f77b4\"},\"line_color\":{\"value\":\"#1f77b4\"},\"size\":{\"value\":8},\"x\":{\"field\":\"x\"},\"y\":{\"field\":\"y\"}},\"id\":\"3438\",\"type\":\"Circle\"},{\"attributes\":{\"source\":{\"id\":\"3437\"}},\"id\":\"3441\",\"type\":\"CDSView\"},{\"attributes\":{\"bottom_units\":\"screen\",\"fill_alpha\":0.5,\"fill_color\":\"lightgrey\",\"left_units\":\"screen\",\"level\":\"overlay\",\"line_alpha\":1.0,\"line_color\":\"black\",\"line_dash\":[4,4],\"line_width\":2,\"right_units\":\"screen\",\"syncable\":false,\"top_units\":\"screen\"},\"id\":\"3429\",\"type\":\"BoxAnnotation\"},{\"attributes\":{\"axis_label_standoff\":10,\"axis_label_text_color\":\"#5B5B5B\",\"axis_label_text_font\":\"Calibri Light\",\"axis_label_text_font_size\":\"1.15em\",\"axis_label_text_font_style\":\"bold\",\"axis_line_alpha\":1,\"axis_line_color\":\"#5B5B5B\",\"formatter\":{\"id\":\"3586\"},\"major_label_policy\":{\"id\":\"3584\"},\"major_label_text_color\":\"#5B5B5B\",\"major_label_text_font\":\"Calibri Light\",\"major_label_text_font_size\":\"0.95em\",\"major_label_text_font_style\":\"bold\",\"major_tick_in\":0,\"major_tick_line_alpha\":0.25,\"major_tick_line_color\":\"#5B5B5B\",\"major_tick_out\":3,\"minor_tick_line_alpha\":0.25,\"minor_tick_line_color\":\"#5B5B5B\",\"ticker\":{\"id\":\"3416\"}},\"id\":\"3415\",\"type\":\"LinearAxis\"},{\"attributes\":{\"data\":{\"x\":[1,2,3,4,5],\"y\":[4,5,5,7,2]},\"selected\":{\"id\":\"3590\"},\"selection_policy\":{\"id\":\"3591\"}},\"id\":\"3437\",\"type\":\"ColumnDataSource\"},{\"attributes\":{},\"id\":\"3416\",\"type\":\"BasicTicker\"},{\"attributes\":{},\"id\":\"3413\",\"type\":\"LinearScale\"}],\"root_ids\":[\"3404\"]},\"title\":\"Bokeh Application\",\"version\":\"2.3.3\"}};\n",
       "  var render_items = [{\"docid\":\"97224be7-c501-422b-828a-94ecb655eddf\",\"root_ids\":[\"3404\"],\"roots\":{\"3404\":\"b21ac347-d34d-45e2-97da-c42899134793\"}}];\n",
       "  root.Bokeh.embed.embed_items_notebook(docs_json, render_items);\n",
       "\n",
       "  }\n",
       "  if (root.Bokeh !== undefined) {\n",
       "    embed_document(root);\n",
       "  } else {\n",
       "    var attempts = 0;\n",
       "    var timer = setInterval(function(root) {\n",
       "      if (root.Bokeh !== undefined) {\n",
       "        clearInterval(timer);\n",
       "        embed_document(root);\n",
       "      } else {\n",
       "        attempts++;\n",
       "        if (attempts > 100) {\n",
       "          clearInterval(timer);\n",
       "          console.log(\"Bokeh: ERROR: Unable to run BokehJS code because BokehJS library is missing\");\n",
       "        }\n",
       "      }\n",
       "    }, 10, root)\n",
       "  }\n",
       "})(window);"
      ],
      "application/vnd.bokehjs_exec.v0+json": ""
     },
     "metadata": {
      "application/vnd.bokehjs_exec.v0+json": {
       "id": "3404"
      }
     },
     "output_type": "display_data"
    }
   ],
   "source": [
    "# prepare some data\n",
    "x = [1, 2, 3, 4, 5]\n",
    "y = [4, 5, 5, 7, 2]\n",
    "\n",
    "# create a new plot with responsive width\n",
    "p = figure(\n",
    "    y_range=(0, 25),\n",
    "    title=\"Axis range example\",\n",
    "    sizing_mode=\"stretch_width\",\n",
    "    max_width=500,\n",
    "    height=250,\n",
    ")\n",
    "\n",
    "# add circle renderer with additional arguments\n",
    "circle = p.circle(x, y, size=8)\n",
    "\n",
    "# show the results\n",
    "show(p)"
   ]
  },
  {
   "cell_type": "markdown",
   "id": "4ef1307c",
   "metadata": {},
   "source": [
    "## Formatting axis ticks\n",
    "You can format the text that appears alongside your axes with Bokeh’s TickFormatter objects. Use these formatters to display currency symbols on your y-axis, for example:\n",
    "\n",
    "To display dollar amounts instead of just numbers on your y-axis, use the NumeralTickFormatter.\n",
    "\n",
    "First, import the NumeralTickFormatter from bokeh.models:\n",
    "\n",
    "     from bokeh.models import NumeralTickFormatter\n",
    "\n",
    "Then, after creating your plot with the **figure()** function, assign the NumeralTickFormatter to the formatter property of your plot’s yaxis:\n",
    "\n",
    "    p.yaxis[0].formatter = NumeralTickFormatter(format=\"$0.00\")\n",
    "    \n",
    "The NumeralTickFormatter supports different formats, including \"$0.00\" to generate values such as \"$7,42\".\n",
    "\n",
    "This is what the completed code looks like:"
   ]
  },
  {
   "cell_type": "code",
   "execution_count": 17,
   "id": "5eb90ec1",
   "metadata": {},
   "outputs": [
    {
     "data": {
      "text/html": [
       "\n",
       "\n",
       "\n",
       "\n",
       "\n",
       "\n",
       "  <div class=\"bk-root\" id=\"fbc1cb7a-8dbc-47ab-9cdd-0ae32d496cd3\" data-root-id=\"3643\"></div>\n"
      ]
     },
     "metadata": {},
     "output_type": "display_data"
    },
    {
     "data": {
      "application/javascript": [
       "(function(root) {\n",
       "  function embed_document(root) {\n",
       "    \n",
       "  var docs_json = {\"dedd0fc9-ac02-4e13-9bd3-0dbea9036189\":{\"defs\":[],\"roots\":{\"references\":[{\"attributes\":{\"below\":[{\"id\":\"3654\"}],\"center\":[{\"id\":\"3657\"},{\"id\":\"3661\"}],\"height\":250,\"left\":[{\"id\":\"3658\"}],\"max_width\":500,\"renderers\":[{\"id\":\"3681\"},{\"id\":\"3686\"}],\"sizing_mode\":\"stretch_width\",\"title\":{\"id\":\"3644\"},\"toolbar\":{\"id\":\"3669\"},\"x_range\":{\"id\":\"3646\"},\"x_scale\":{\"id\":\"3650\"},\"y_range\":{\"id\":\"3648\"},\"y_scale\":{\"id\":\"3652\"}},\"id\":\"3643\",\"subtype\":\"Figure\",\"type\":\"Plot\"},{\"attributes\":{\"fill_alpha\":{\"value\":0.1},\"fill_color\":{\"value\":\"#1f77b4\"},\"line_alpha\":{\"value\":0.1},\"line_color\":{\"value\":\"#1f77b4\"},\"size\":{\"value\":8},\"x\":{\"field\":\"x\"},\"y\":{\"field\":\"y\"}},\"id\":\"3680\",\"type\":\"Circle\"},{\"attributes\":{\"data_source\":{\"id\":\"3678\"},\"glyph\":{\"id\":\"3679\"},\"hover_glyph\":null,\"muted_glyph\":null,\"nonselection_glyph\":{\"id\":\"3680\"},\"view\":{\"id\":\"3682\"}},\"id\":\"3681\",\"type\":\"GlyphRenderer\"},{\"attributes\":{},\"id\":\"3843\",\"type\":\"AllLabels\"},{\"attributes\":{\"data\":{\"x\":[1,2,3,4,5],\"y\":[4,5,5,7,2]},\"selected\":{\"id\":\"3847\"},\"selection_policy\":{\"id\":\"3848\"}},\"id\":\"3683\",\"type\":\"ColumnDataSource\"},{\"attributes\":{\"bottom_units\":\"screen\",\"fill_alpha\":0.5,\"fill_color\":\"lightgrey\",\"left_units\":\"screen\",\"level\":\"overlay\",\"line_alpha\":1.0,\"line_color\":\"black\",\"line_dash\":[4,4],\"line_width\":2,\"right_units\":\"screen\",\"syncable\":false,\"top_units\":\"screen\"},\"id\":\"3668\",\"type\":\"BoxAnnotation\"},{\"attributes\":{\"line_alpha\":0.1,\"line_color\":\"navy\",\"x\":{\"field\":\"x\"},\"y\":{\"field\":\"y\"}},\"id\":\"3685\",\"type\":\"Line\"},{\"attributes\":{\"format\":\"$0.00\"},\"id\":\"3676\",\"type\":\"NumeralTickFormatter\"},{\"attributes\":{},\"id\":\"3667\",\"type\":\"HelpTool\"},{\"attributes\":{\"data_source\":{\"id\":\"3683\"},\"glyph\":{\"id\":\"3684\"},\"hover_glyph\":null,\"muted_glyph\":null,\"nonselection_glyph\":{\"id\":\"3685\"},\"view\":{\"id\":\"3687\"}},\"id\":\"3686\",\"type\":\"GlyphRenderer\"},{\"attributes\":{\"axis\":{\"id\":\"3658\"},\"dimension\":1,\"ticker\":null},\"id\":\"3661\",\"type\":\"Grid\"},{\"attributes\":{\"fill_color\":{\"value\":\"#1f77b4\"},\"line_color\":{\"value\":\"#1f77b4\"},\"size\":{\"value\":8},\"x\":{\"field\":\"x\"},\"y\":{\"field\":\"y\"}},\"id\":\"3679\",\"type\":\"Circle\"},{\"attributes\":{\"text\":\"Tick formatter example\",\"text_color\":\"#5B5B5B\",\"text_font\":\"Calibri Light\",\"text_font_size\":\"1.25em\",\"text_font_style\":\"bold\"},\"id\":\"3644\",\"type\":\"Title\"},{\"attributes\":{\"data\":{\"x\":[1,2,3,4,5],\"y\":[4,5,5,7,2]},\"selected\":{\"id\":\"3845\"},\"selection_policy\":{\"id\":\"3846\"}},\"id\":\"3678\",\"type\":\"ColumnDataSource\"},{\"attributes\":{},\"id\":\"3646\",\"type\":\"DataRange1d\"},{\"attributes\":{},\"id\":\"3652\",\"type\":\"LinearScale\"},{\"attributes\":{},\"id\":\"3666\",\"type\":\"ResetTool\"},{\"attributes\":{},\"id\":\"3648\",\"type\":\"DataRange1d\"},{\"attributes\":{},\"id\":\"3846\",\"type\":\"UnionRenderers\"},{\"attributes\":{\"axis_label_standoff\":10,\"axis_label_text_color\":\"#5B5B5B\",\"axis_label_text_font\":\"Calibri Light\",\"axis_label_text_font_size\":\"1.15em\",\"axis_label_text_font_style\":\"bold\",\"axis_line_alpha\":1,\"axis_line_color\":\"#5B5B5B\",\"formatter\":{\"id\":\"3676\"},\"major_label_policy\":{\"id\":\"3843\"},\"major_label_text_color\":\"#5B5B5B\",\"major_label_text_font\":\"Calibri Light\",\"major_label_text_font_size\":\"0.95em\",\"major_label_text_font_style\":\"bold\",\"major_tick_in\":0,\"major_tick_line_alpha\":0.25,\"major_tick_line_color\":\"#5B5B5B\",\"major_tick_out\":3,\"minor_tick_line_alpha\":0.25,\"minor_tick_line_color\":\"#5B5B5B\",\"ticker\":{\"id\":\"3659\"}},\"id\":\"3658\",\"type\":\"LinearAxis\"},{\"attributes\":{},\"id\":\"3845\",\"type\":\"Selection\"},{\"attributes\":{},\"id\":\"3650\",\"type\":\"LinearScale\"},{\"attributes\":{\"axis_label_standoff\":10,\"axis_label_text_color\":\"#5B5B5B\",\"axis_label_text_font\":\"Calibri Light\",\"axis_label_text_font_size\":\"1.15em\",\"axis_label_text_font_style\":\"bold\",\"axis_line_alpha\":1,\"axis_line_color\":\"#5B5B5B\",\"formatter\":{\"id\":\"3842\"},\"major_label_policy\":{\"id\":\"3840\"},\"major_label_text_color\":\"#5B5B5B\",\"major_label_text_font\":\"Calibri Light\",\"major_label_text_font_size\":\"0.95em\",\"major_label_text_font_style\":\"bold\",\"major_tick_in\":0,\"major_tick_line_alpha\":0.25,\"major_tick_line_color\":\"#5B5B5B\",\"major_tick_out\":3,\"minor_tick_line_alpha\":0.25,\"minor_tick_line_color\":\"#5B5B5B\",\"ticker\":{\"id\":\"3655\"}},\"id\":\"3654\",\"type\":\"LinearAxis\"},{\"attributes\":{},\"id\":\"3655\",\"type\":\"BasicTicker\"},{\"attributes\":{\"axis\":{\"id\":\"3654\"},\"ticker\":null},\"id\":\"3657\",\"type\":\"Grid\"},{\"attributes\":{},\"id\":\"3840\",\"type\":\"AllLabels\"},{\"attributes\":{},\"id\":\"3663\",\"type\":\"WheelZoomTool\"},{\"attributes\":{},\"id\":\"3659\",\"type\":\"BasicTicker\"},{\"attributes\":{},\"id\":\"3842\",\"type\":\"BasicTickFormatter\"},{\"attributes\":{\"line_color\":\"navy\",\"x\":{\"field\":\"x\"},\"y\":{\"field\":\"y\"}},\"id\":\"3684\",\"type\":\"Line\"},{\"attributes\":{},\"id\":\"3665\",\"type\":\"SaveTool\"},{\"attributes\":{\"active_multi\":null,\"tools\":[{\"id\":\"3662\"},{\"id\":\"3663\"},{\"id\":\"3664\"},{\"id\":\"3665\"},{\"id\":\"3666\"},{\"id\":\"3667\"}]},\"id\":\"3669\",\"type\":\"Toolbar\"},{\"attributes\":{\"source\":{\"id\":\"3683\"}},\"id\":\"3687\",\"type\":\"CDSView\"},{\"attributes\":{},\"id\":\"3662\",\"type\":\"PanTool\"},{\"attributes\":{},\"id\":\"3847\",\"type\":\"Selection\"},{\"attributes\":{\"overlay\":{\"id\":\"3668\"}},\"id\":\"3664\",\"type\":\"BoxZoomTool\"},{\"attributes\":{},\"id\":\"3848\",\"type\":\"UnionRenderers\"},{\"attributes\":{\"source\":{\"id\":\"3678\"}},\"id\":\"3682\",\"type\":\"CDSView\"}],\"root_ids\":[\"3643\"]},\"title\":\"Bokeh Application\",\"version\":\"2.3.3\"}};\n",
       "  var render_items = [{\"docid\":\"dedd0fc9-ac02-4e13-9bd3-0dbea9036189\",\"root_ids\":[\"3643\"],\"roots\":{\"3643\":\"fbc1cb7a-8dbc-47ab-9cdd-0ae32d496cd3\"}}];\n",
       "  root.Bokeh.embed.embed_items_notebook(docs_json, render_items);\n",
       "\n",
       "  }\n",
       "  if (root.Bokeh !== undefined) {\n",
       "    embed_document(root);\n",
       "  } else {\n",
       "    var attempts = 0;\n",
       "    var timer = setInterval(function(root) {\n",
       "      if (root.Bokeh !== undefined) {\n",
       "        clearInterval(timer);\n",
       "        embed_document(root);\n",
       "      } else {\n",
       "        attempts++;\n",
       "        if (attempts > 100) {\n",
       "          clearInterval(timer);\n",
       "          console.log(\"Bokeh: ERROR: Unable to run BokehJS code because BokehJS library is missing\");\n",
       "        }\n",
       "      }\n",
       "    }, 10, root)\n",
       "  }\n",
       "})(window);"
      ],
      "application/vnd.bokehjs_exec.v0+json": ""
     },
     "metadata": {
      "application/vnd.bokehjs_exec.v0+json": {
       "id": "3643"
      }
     },
     "output_type": "display_data"
    }
   ],
   "source": [
    "from bokeh.models import NumeralTickFormatter\n",
    "\n",
    "# prepare some data\n",
    "x = [1, 2, 3, 4, 5]\n",
    "y = [4, 5, 5, 7, 2]\n",
    "\n",
    "# create new plot\n",
    "p = figure(\n",
    "    title=\"Tick formatter example\",\n",
    "    sizing_mode=\"stretch_width\",\n",
    "    max_width=500,\n",
    "    height=250,\n",
    ")\n",
    "\n",
    "# format axes ticks\n",
    "p.yaxis[0].formatter = NumeralTickFormatter(format=\"$0.00\")\n",
    "\n",
    "# add renderers\n",
    "p.circle(x, y, size=8)\n",
    "p.line(x, y, color=\"navy\", line_width=1)\n",
    "\n",
    "# show the results\n",
    "show(p)"
   ]
  },
  {
   "cell_type": "markdown",
   "id": "ad4f16b9",
   "metadata": {},
   "source": [
    "For more information about formatting ticks, see Tick label formats in the user guide. For a list of all available tick formatters, see formatters in the reference guide.\n",
    "\n",
    "### Enabling logarithmic axes\n",
    "You can also change the axis type altogether. Use y_axis_type=\"log\" to switch to logarithmic axes:"
   ]
  },
  {
   "cell_type": "code",
   "execution_count": 18,
   "id": "cef9f44c",
   "metadata": {},
   "outputs": [
    {
     "data": {
      "text/html": [
       "\n",
       "\n",
       "\n",
       "\n",
       "\n",
       "\n",
       "  <div class=\"bk-root\" id=\"b42a23a6-b23b-41b8-9ffb-c5736f7ae7ec\" data-root-id=\"3905\"></div>\n"
      ]
     },
     "metadata": {},
     "output_type": "display_data"
    },
    {
     "data": {
      "application/javascript": [
       "(function(root) {\n",
       "  function embed_document(root) {\n",
       "    \n",
       "  var docs_json = {\"8bfc5303-6f26-451f-8d26-11c392edfed6\":{\"defs\":[],\"roots\":{\"references\":[{\"attributes\":{\"below\":[{\"id\":\"3916\"}],\"center\":[{\"id\":\"3919\"},{\"id\":\"3923\"},{\"id\":\"3953\"}],\"height\":300,\"left\":[{\"id\":\"3920\"}],\"max_width\":500,\"renderers\":[{\"id\":\"3941\"},{\"id\":\"3958\"},{\"id\":\"3975\"},{\"id\":\"3995\"},{\"id\":\"4017\"},{\"id\":\"4040\"}],\"sizing_mode\":\"stretch_width\",\"title\":{\"id\":\"3906\"},\"toolbar\":{\"id\":\"3931\"},\"x_range\":{\"id\":\"3908\"},\"x_scale\":{\"id\":\"3912\"},\"y_range\":{\"id\":\"3910\"},\"y_scale\":{\"id\":\"3914\"}},\"id\":\"3905\",\"subtype\":\"Figure\",\"type\":\"Plot\"},{\"attributes\":{\"data_source\":{\"id\":\"3972\"},\"glyph\":{\"id\":\"3973\"},\"hover_glyph\":null,\"muted_glyph\":null,\"nonselection_glyph\":{\"id\":\"3974\"},\"view\":{\"id\":\"3976\"}},\"id\":\"3975\",\"type\":\"GlyphRenderer\"},{\"attributes\":{\"line_color\":\"orange\",\"line_dash\":[4,4],\"x\":{\"field\":\"x\"},\"y\":{\"field\":\"y\"}},\"id\":\"4038\",\"type\":\"Line\"},{\"attributes\":{\"data_source\":{\"id\":\"3955\"},\"glyph\":{\"id\":\"3956\"},\"hover_glyph\":null,\"muted_glyph\":null,\"nonselection_glyph\":{\"id\":\"3957\"},\"view\":{\"id\":\"3959\"}},\"id\":\"3958\",\"type\":\"GlyphRenderer\"},{\"attributes\":{},\"id\":\"3988\",\"type\":\"Selection\"},{\"attributes\":{\"bottom_units\":\"screen\",\"fill_alpha\":0.5,\"fill_color\":\"lightgrey\",\"left_units\":\"screen\",\"level\":\"overlay\",\"line_alpha\":1.0,\"line_color\":\"black\",\"line_dash\":[4,4],\"line_width\":2,\"right_units\":\"screen\",\"syncable\":false,\"top_units\":\"screen\"},\"id\":\"3930\",\"type\":\"BoxAnnotation\"},{\"attributes\":{\"source\":{\"id\":\"3955\"}},\"id\":\"3959\",\"type\":\"CDSView\"},{\"attributes\":{\"fill_color\":{\"value\":\"red\"},\"line_color\":{\"value\":\"red\"},\"size\":{\"value\":6},\"x\":{\"field\":\"x\"},\"y\":{\"field\":\"y\"}},\"id\":\"4015\",\"type\":\"Circle\"},{\"attributes\":{\"text\":\"Logarithmic axis example\",\"text_color\":\"#5B5B5B\",\"text_font\":\"Calibri Light\",\"text_font_size\":\"1.25em\",\"text_font_style\":\"bold\"},\"id\":\"3906\",\"type\":\"Title\"},{\"attributes\":{},\"id\":\"3989\",\"type\":\"UnionRenderers\"},{\"attributes\":{\"data\":{\"x\":[0.1,0.5,1.0,1.5,2.0,2.5,3.0],\"y\":[0.1,0.5,1.0,1.5,2.0,2.5,3.0]},\"selected\":{\"id\":\"3969\"},\"selection_policy\":{\"id\":\"3970\"}},\"id\":\"3955\",\"type\":\"ColumnDataSource\"},{\"attributes\":{\"label\":{\"value\":\"y=10^x^2\"},\"renderers\":[{\"id\":\"4040\"}]},\"id\":\"4062\",\"type\":\"LegendItem\"},{\"attributes\":{},\"id\":\"3908\",\"type\":\"DataRange1d\"},{\"attributes\":{\"fill_alpha\":{\"value\":0.1},\"fill_color\":{\"value\":\"white\"},\"line_alpha\":{\"value\":0.1},\"line_color\":{\"value\":\"#1f77b4\"},\"size\":{\"value\":8},\"x\":{\"field\":\"x\"},\"y\":{\"field\":\"y\"}},\"id\":\"3957\",\"type\":\"Circle\"},{\"attributes\":{},\"id\":\"3950\",\"type\":\"Selection\"},{\"attributes\":{\"line_alpha\":0.1,\"line_color\":\"orange\",\"line_dash\":[4,4],\"x\":{\"field\":\"x\"},\"y\":{\"field\":\"y\"}},\"id\":\"4039\",\"type\":\"Line\"},{\"attributes\":{\"axis_label\":\"sections\",\"axis_label_standoff\":10,\"axis_label_text_color\":\"#5B5B5B\",\"axis_label_text_font\":\"Calibri Light\",\"axis_label_text_font_size\":\"1.15em\",\"axis_label_text_font_style\":\"bold\",\"axis_line_alpha\":1,\"axis_line_color\":\"#5B5B5B\",\"formatter\":{\"id\":\"3946\"},\"major_label_policy\":{\"id\":\"3944\"},\"major_label_text_color\":\"#5B5B5B\",\"major_label_text_font\":\"Calibri Light\",\"major_label_text_font_size\":\"0.95em\",\"major_label_text_font_style\":\"bold\",\"major_tick_in\":0,\"major_tick_line_alpha\":0.25,\"major_tick_line_color\":\"#5B5B5B\",\"major_tick_out\":3,\"minor_tick_line_alpha\":0.25,\"minor_tick_line_color\":\"#5B5B5B\",\"ticker\":{\"id\":\"3917\"}},\"id\":\"3916\",\"type\":\"LinearAxis\"},{\"attributes\":{\"data_source\":{\"id\":\"4014\"},\"glyph\":{\"id\":\"4015\"},\"hover_glyph\":null,\"muted_glyph\":null,\"nonselection_glyph\":{\"id\":\"4016\"},\"view\":{\"id\":\"4018\"}},\"id\":\"4017\",\"type\":\"GlyphRenderer\"},{\"attributes\":{\"end\":100000000000,\"start\":0.001},\"id\":\"3910\",\"type\":\"Range1d\"},{\"attributes\":{\"line_color\":\"#1f77b4\",\"line_width\":3,\"x\":{\"field\":\"x\"},\"y\":{\"field\":\"y\"}},\"id\":\"3973\",\"type\":\"Line\"},{\"attributes\":{},\"id\":\"3944\",\"type\":\"AllLabels\"},{\"attributes\":{},\"id\":\"3951\",\"type\":\"UnionRenderers\"},{\"attributes\":{},\"id\":\"3912\",\"type\":\"LinearScale\"},{\"attributes\":{\"source\":{\"id\":\"4014\"}},\"id\":\"4018\",\"type\":\"CDSView\"},{\"attributes\":{},\"id\":\"3914\",\"type\":\"LogScale\"},{\"attributes\":{\"fill_alpha\":{\"value\":0.1},\"fill_color\":{\"value\":\"red\"},\"line_alpha\":{\"value\":0.1},\"line_color\":{\"value\":\"red\"},\"size\":{\"value\":6},\"x\":{\"field\":\"x\"},\"y\":{\"field\":\"y\"}},\"id\":\"4016\",\"type\":\"Circle\"},{\"attributes\":{\"fill_color\":{\"value\":\"white\"},\"line_color\":{\"value\":\"#1f77b4\"},\"size\":{\"value\":8},\"x\":{\"field\":\"x\"},\"y\":{\"field\":\"y\"}},\"id\":\"3956\",\"type\":\"Circle\"},{\"attributes\":{},\"id\":\"3946\",\"type\":\"BasicTickFormatter\"},{\"attributes\":{},\"id\":\"3970\",\"type\":\"UnionRenderers\"},{\"attributes\":{},\"id\":\"3969\",\"type\":\"Selection\"},{\"attributes\":{\"data_source\":{\"id\":\"3938\"},\"glyph\":{\"id\":\"3939\"},\"hover_glyph\":null,\"muted_glyph\":null,\"nonselection_glyph\":{\"id\":\"3940\"},\"view\":{\"id\":\"3942\"}},\"id\":\"3941\",\"type\":\"GlyphRenderer\"},{\"attributes\":{\"data\":{\"x\":[0.1,0.5,1.0,1.5,2.0,2.5,3.0],\"y\":[1.2589254117941673,3.1622776601683795,10.0,31.622776601683793,100.0,316.22776601683796,1000.0]},\"selected\":{\"id\":\"4034\"},\"selection_policy\":{\"id\":\"4035\"}},\"id\":\"4014\",\"type\":\"ColumnDataSource\"},{\"attributes\":{},\"id\":\"3917\",\"type\":\"BasicTicker\"},{\"attributes\":{\"axis\":{\"id\":\"3916\"},\"ticker\":null},\"id\":\"3919\",\"type\":\"Grid\"},{\"attributes\":{\"source\":{\"id\":\"3992\"}},\"id\":\"3996\",\"type\":\"CDSView\"},{\"attributes\":{\"source\":{\"id\":\"4037\"}},\"id\":\"4041\",\"type\":\"CDSView\"},{\"attributes\":{},\"id\":\"3929\",\"type\":\"HelpTool\"},{\"attributes\":{\"data\":{\"x\":[0.1,0.5,1.0,1.5,2.0,2.5,3.0],\"y\":[1.2589254117941673,3.1622776601683795,10.0,31.622776601683793,100.0,316.22776601683796,1000.0]},\"selected\":{\"id\":\"4010\"},\"selection_policy\":{\"id\":\"4011\"}},\"id\":\"3992\",\"type\":\"ColumnDataSource\"},{\"attributes\":{\"line_color\":\"red\",\"x\":{\"field\":\"x\"},\"y\":{\"field\":\"y\"}},\"id\":\"3993\",\"type\":\"Line\"},{\"attributes\":{},\"id\":\"4059\",\"type\":\"Selection\"},{\"attributes\":{\"axis_label\":\"particles\",\"axis_label_standoff\":10,\"axis_label_text_color\":\"#5B5B5B\",\"axis_label_text_font\":\"Calibri Light\",\"axis_label_text_font_size\":\"1.15em\",\"axis_label_text_font_style\":\"bold\",\"axis_line_alpha\":1,\"axis_line_color\":\"#5B5B5B\",\"formatter\":{\"id\":\"3949\"},\"major_label_policy\":{\"id\":\"3947\"},\"major_label_text_color\":\"#5B5B5B\",\"major_label_text_font\":\"Calibri Light\",\"major_label_text_font_size\":\"0.95em\",\"major_label_text_font_style\":\"bold\",\"major_tick_in\":0,\"major_tick_line_alpha\":0.25,\"major_tick_line_color\":\"#5B5B5B\",\"major_tick_out\":3,\"minor_tick_line_alpha\":0.25,\"minor_tick_line_color\":\"#5B5B5B\",\"ticker\":{\"id\":\"3921\"}},\"id\":\"3920\",\"type\":\"LogAxis\"},{\"attributes\":{\"axis\":{\"id\":\"3920\"},\"dimension\":1,\"ticker\":null},\"id\":\"3923\",\"type\":\"Grid\"},{\"attributes\":{\"line_alpha\":0.1,\"line_color\":\"red\",\"x\":{\"field\":\"x\"},\"y\":{\"field\":\"y\"}},\"id\":\"3994\",\"type\":\"Line\"},{\"attributes\":{\"num_minor_ticks\":10},\"id\":\"3921\",\"type\":\"LogTicker\"},{\"attributes\":{\"data\":{\"x\":[0.1,0.5,1.0,1.5,2.0,2.5,3.0],\"y\":[1.023292992280754,1.7782794100389228,10.0,177.82794100389228,10000.0,1778279.410038923,1000000000.0]},\"selected\":{\"id\":\"4059\"},\"selection_policy\":{\"id\":\"4060\"}},\"id\":\"4037\",\"type\":\"ColumnDataSource\"},{\"attributes\":{},\"id\":\"4060\",\"type\":\"UnionRenderers\"},{\"attributes\":{\"label\":{\"value\":\"y=x\"},\"renderers\":[{\"id\":\"3941\"},{\"id\":\"3958\"}]},\"id\":\"3954\",\"type\":\"LegendItem\"},{\"attributes\":{\"data\":{\"x\":[0.1,0.5,1.0,1.5,2.0,2.5,3.0],\"y\":[0.1,0.5,1.0,1.5,2.0,2.5,3.0]},\"selected\":{\"id\":\"3950\"},\"selection_policy\":{\"id\":\"3951\"}},\"id\":\"3938\",\"type\":\"ColumnDataSource\"},{\"attributes\":{},\"id\":\"3925\",\"type\":\"WheelZoomTool\"},{\"attributes\":{\"label\":{\"value\":\"y=10^x\"},\"renderers\":[{\"id\":\"3995\"},{\"id\":\"4017\"}]},\"id\":\"4013\",\"type\":\"LegendItem\"},{\"attributes\":{\"data\":{\"x\":[0.1,0.5,1.0,1.5,2.0,2.5,3.0],\"y\":[0.010000000000000002,0.25,1.0,2.25,4.0,6.25,9.0]},\"selected\":{\"id\":\"3988\"},\"selection_policy\":{\"id\":\"3989\"}},\"id\":\"3972\",\"type\":\"ColumnDataSource\"},{\"attributes\":{\"active_multi\":null,\"tools\":[{\"id\":\"3924\"},{\"id\":\"3925\"},{\"id\":\"3926\"},{\"id\":\"3927\"},{\"id\":\"3928\"},{\"id\":\"3929\"}]},\"id\":\"3931\",\"type\":\"Toolbar\"},{\"attributes\":{},\"id\":\"3924\",\"type\":\"PanTool\"},{\"attributes\":{\"overlay\":{\"id\":\"3930\"}},\"id\":\"3926\",\"type\":\"BoxZoomTool\"},{\"attributes\":{\"data_source\":{\"id\":\"4037\"},\"glyph\":{\"id\":\"4038\"},\"hover_glyph\":null,\"muted_glyph\":null,\"nonselection_glyph\":{\"id\":\"4039\"},\"view\":{\"id\":\"4041\"}},\"id\":\"4040\",\"type\":\"GlyphRenderer\"},{\"attributes\":{},\"id\":\"3927\",\"type\":\"SaveTool\"},{\"attributes\":{\"data_source\":{\"id\":\"3992\"},\"glyph\":{\"id\":\"3993\"},\"hover_glyph\":null,\"muted_glyph\":null,\"nonselection_glyph\":{\"id\":\"3994\"},\"view\":{\"id\":\"3996\"}},\"id\":\"3995\",\"type\":\"GlyphRenderer\"},{\"attributes\":{},\"id\":\"3928\",\"type\":\"ResetTool\"},{\"attributes\":{\"source\":{\"id\":\"3972\"}},\"id\":\"3976\",\"type\":\"CDSView\"},{\"attributes\":{\"line_alpha\":0.1,\"line_color\":\"#1f77b4\",\"x\":{\"field\":\"x\"},\"y\":{\"field\":\"y\"}},\"id\":\"3940\",\"type\":\"Line\"},{\"attributes\":{},\"id\":\"4035\",\"type\":\"UnionRenderers\"},{\"attributes\":{},\"id\":\"4034\",\"type\":\"Selection\"},{\"attributes\":{\"label\":{\"value\":\"y=x^2\"},\"renderers\":[{\"id\":\"3975\"}]},\"id\":\"3991\",\"type\":\"LegendItem\"},{\"attributes\":{},\"id\":\"3947\",\"type\":\"AllLabels\"},{\"attributes\":{},\"id\":\"4010\",\"type\":\"Selection\"},{\"attributes\":{\"line_alpha\":0.1,\"line_color\":\"#1f77b4\",\"line_width\":3,\"x\":{\"field\":\"x\"},\"y\":{\"field\":\"y\"}},\"id\":\"3974\",\"type\":\"Line\"},{\"attributes\":{\"source\":{\"id\":\"3938\"}},\"id\":\"3942\",\"type\":\"CDSView\"},{\"attributes\":{\"ticker\":null},\"id\":\"3949\",\"type\":\"LogTickFormatter\"},{\"attributes\":{},\"id\":\"4011\",\"type\":\"UnionRenderers\"},{\"attributes\":{\"line_color\":\"#1f77b4\",\"x\":{\"field\":\"x\"},\"y\":{\"field\":\"y\"}},\"id\":\"3939\",\"type\":\"Line\"},{\"attributes\":{\"background_fill_alpha\":0.25,\"border_line_alpha\":0,\"glyph_width\":15,\"items\":[{\"id\":\"3954\"},{\"id\":\"3991\"},{\"id\":\"4013\"},{\"id\":\"4062\"}],\"label_standoff\":8,\"label_text_color\":\"#5B5B5B\",\"label_text_font\":\"Calibri Light\",\"label_text_font_size\":\"0.95em\",\"label_text_font_style\":\"bold\",\"spacing\":8},\"id\":\"3953\",\"type\":\"Legend\"}],\"root_ids\":[\"3905\"]},\"title\":\"Bokeh Application\",\"version\":\"2.3.3\"}};\n",
       "  var render_items = [{\"docid\":\"8bfc5303-6f26-451f-8d26-11c392edfed6\",\"root_ids\":[\"3905\"],\"roots\":{\"3905\":\"b42a23a6-b23b-41b8-9ffb-c5736f7ae7ec\"}}];\n",
       "  root.Bokeh.embed.embed_items_notebook(docs_json, render_items);\n",
       "\n",
       "  }\n",
       "  if (root.Bokeh !== undefined) {\n",
       "    embed_document(root);\n",
       "  } else {\n",
       "    var attempts = 0;\n",
       "    var timer = setInterval(function(root) {\n",
       "      if (root.Bokeh !== undefined) {\n",
       "        clearInterval(timer);\n",
       "        embed_document(root);\n",
       "      } else {\n",
       "        attempts++;\n",
       "        if (attempts > 100) {\n",
       "          clearInterval(timer);\n",
       "          console.log(\"Bokeh: ERROR: Unable to run BokehJS code because BokehJS library is missing\");\n",
       "        }\n",
       "      }\n",
       "    }, 10, root)\n",
       "  }\n",
       "})(window);"
      ],
      "application/vnd.bokehjs_exec.v0+json": ""
     },
     "metadata": {
      "application/vnd.bokehjs_exec.v0+json": {
       "id": "3905"
      }
     },
     "output_type": "display_data"
    }
   ],
   "source": [
    "# prepare some data\n",
    "x = [0.1, 0.5, 1.0, 1.5, 2.0, 2.5, 3.0]\n",
    "y0 = [i**2 for i in x]\n",
    "y1 = [10**i for i in x]\n",
    "y2 = [10**(i**2) for i in x]\n",
    "\n",
    "# create a new plot with a logarithmic axis type\n",
    "p = figure(\n",
    "    title=\"Logarithmic axis example\",\n",
    "    sizing_mode=\"stretch_width\",\n",
    "    height=300,\n",
    "    max_width=500,\n",
    "    y_axis_type=\"log\",\n",
    "    y_range=[0.001, 10 ** 11],\n",
    "    x_axis_label=\"sections\",\n",
    "    y_axis_label=\"particles\",\n",
    ")\n",
    "\n",
    "# add some renderers\n",
    "p.line(x, x, legend_label=\"y=x\")\n",
    "p.circle(x, x, legend_label=\"y=x\", fill_color=\"white\", size=8)\n",
    "p.line(x, y0, legend_label=\"y=x^2\", line_width=3)\n",
    "p.line(x, y1, legend_label=\"y=10^x\", line_color=\"red\")\n",
    "p.circle(x, y1, legend_label=\"y=10^x\", fill_color=\"red\", line_color=\"red\", size=6)\n",
    "p.line(x, y2, legend_label=\"y=10^x^2\", line_color=\"orange\", line_dash=\"4 4\")\n",
    "\n",
    "# show the results\n",
    "show(p)"
   ]
  },
  {
   "cell_type": "markdown",
   "id": "67ceff03",
   "metadata": {},
   "source": [
    "### Enabling datetime axes\n",
    "Set the x_axis_type or y_axis_type to datetime to display date or time information on an axis. Bokeh then creates a DatetimeAxis.\n",
    "\n",
    "To format the ticks of a DatetimeAxis, use the DatetimeTickFormatter."
   ]
  },
  {
   "cell_type": "code",
   "execution_count": 19,
   "id": "91d1d927",
   "metadata": {},
   "outputs": [
    {
     "data": {
      "text/html": [
       "\n",
       "\n",
       "\n",
       "\n",
       "\n",
       "\n",
       "  <div class=\"bk-root\" id=\"9dd08248-dee4-433a-8242-6dbcba80950f\" data-root-id=\"4345\"></div>\n"
      ]
     },
     "metadata": {},
     "output_type": "display_data"
    },
    {
     "data": {
      "application/javascript": [
       "(function(root) {\n",
       "  function embed_document(root) {\n",
       "    \n",
       "  var docs_json = {\"052a7626-5409-4865-b520-21c1395b4799\":{\"defs\":[],\"roots\":{\"references\":[{\"attributes\":{\"below\":[{\"id\":\"4356\"}],\"center\":[{\"id\":\"4359\"},{\"id\":\"4363\"}],\"height\":250,\"left\":[{\"id\":\"4360\"}],\"max_width\":500,\"renderers\":[{\"id\":\"4381\"},{\"id\":\"4386\"}],\"sizing_mode\":\"stretch_width\",\"title\":{\"id\":\"4346\"},\"toolbar\":{\"id\":\"4371\"},\"x_range\":{\"id\":\"4348\"},\"x_scale\":{\"id\":\"4352\"},\"y_range\":{\"id\":\"4350\"},\"y_scale\":{\"id\":\"4354\"}},\"id\":\"4345\",\"subtype\":\"Figure\",\"type\":\"Plot\"},{\"attributes\":{\"axis_label_standoff\":10,\"axis_label_text_color\":\"#5B5B5B\",\"axis_label_text_font\":\"Calibri Light\",\"axis_label_text_font_size\":\"1.15em\",\"axis_label_text_font_style\":\"bold\",\"axis_line_alpha\":1,\"axis_line_color\":\"#5B5B5B\",\"formatter\":{\"id\":\"4390\"},\"major_label_policy\":{\"id\":\"4575\"},\"major_label_text_color\":\"#5B5B5B\",\"major_label_text_font\":\"Calibri Light\",\"major_label_text_font_size\":\"0.95em\",\"major_label_text_font_style\":\"bold\",\"major_tick_in\":0,\"major_tick_line_alpha\":0.25,\"major_tick_line_color\":\"#5B5B5B\",\"major_tick_out\":3,\"minor_tick_line_alpha\":0.25,\"minor_tick_line_color\":\"#5B5B5B\",\"ticker\":{\"id\":\"4357\"}},\"id\":\"4356\",\"type\":\"DatetimeAxis\"},{\"attributes\":{},\"id\":\"4354\",\"type\":\"LinearScale\"},{\"attributes\":{},\"id\":\"4352\",\"type\":\"LinearScale\"},{\"attributes\":{\"days\":[1,2,3,4,5,6,7,8,9,10,11,12,13,14,15,16,17,18,19,20,21,22,23,24,25,26,27,28,29,30,31]},\"id\":\"4586\",\"type\":\"DaysTicker\"},{\"attributes\":{\"num_minor_ticks\":5,\"tickers\":[{\"id\":\"4583\"},{\"id\":\"4584\"},{\"id\":\"4585\"},{\"id\":\"4586\"},{\"id\":\"4587\"},{\"id\":\"4588\"},{\"id\":\"4589\"},{\"id\":\"4590\"},{\"id\":\"4591\"},{\"id\":\"4592\"},{\"id\":\"4593\"},{\"id\":\"4594\"}]},\"id\":\"4357\",\"type\":\"DatetimeTicker\"},{\"attributes\":{\"axis\":{\"id\":\"4356\"},\"ticker\":null},\"id\":\"4359\",\"type\":\"Grid\"},{\"attributes\":{\"base\":60,\"mantissas\":[1,2,5,10,15,20,30],\"max_interval\":1800000.0,\"min_interval\":1000.0,\"num_minor_ticks\":0},\"id\":\"4584\",\"type\":\"AdaptiveTicker\"},{\"attributes\":{\"months\":[\"%b %Y\"]},\"id\":\"4390\",\"type\":\"DatetimeTickFormatter\"},{\"attributes\":{},\"id\":\"4369\",\"type\":\"HelpTool\"},{\"attributes\":{\"axis_label_standoff\":10,\"axis_label_text_color\":\"#5B5B5B\",\"axis_label_text_font\":\"Calibri Light\",\"axis_label_text_font_size\":\"1.15em\",\"axis_label_text_font_style\":\"bold\",\"axis_line_alpha\":1,\"axis_line_color\":\"#5B5B5B\",\"formatter\":{\"id\":\"4388\"},\"major_label_policy\":{\"id\":\"4577\"},\"major_label_text_color\":\"#5B5B5B\",\"major_label_text_font\":\"Calibri Light\",\"major_label_text_font_size\":\"0.95em\",\"major_label_text_font_style\":\"bold\",\"major_tick_in\":0,\"major_tick_line_alpha\":0.25,\"major_tick_line_color\":\"#5B5B5B\",\"major_tick_out\":3,\"minor_tick_line_alpha\":0.25,\"minor_tick_line_color\":\"#5B5B5B\",\"ticker\":{\"id\":\"4361\"}},\"id\":\"4360\",\"type\":\"LinearAxis\"},{\"attributes\":{\"data\":{\"x\":[1636744190008.251,1637348990008.259,1637953790008.261,1638558590008.262,1639163390008.2632,1639768190008.2651,1640372990008.2659,1640977790008.2668,1641582590008.268,1642187390008.27,1642792190008.271,1643396990008.272,1644001790008.273,1644606590008.2751,1645211390008.276,1645816190008.2769,1646420990008.2778,1647025790008.28,1647630590008.281,1648235390008.282,1648840190008.283,1649444990008.2852,1650049790008.286,1650654590008.2869,1651259390008.2878,1651864190008.29],\"y\":[44,25,51,72,46,16,14,79,33,15,42,55,49,50,78,90,74,22,28,98,70,93,19,57,82,60]},\"selected\":{\"id\":\"4579\"},\"selection_policy\":{\"id\":\"4580\"}},\"id\":\"4378\",\"type\":\"ColumnDataSource\"},{\"attributes\":{\"axis\":{\"id\":\"4360\"},\"dimension\":1,\"ticker\":null},\"id\":\"4363\",\"type\":\"Grid\"},{\"attributes\":{},\"id\":\"4581\",\"type\":\"Selection\"},{\"attributes\":{\"days\":[1,15]},\"id\":\"4589\",\"type\":\"DaysTicker\"},{\"attributes\":{},\"id\":\"4361\",\"type\":\"BasicTicker\"},{\"attributes\":{\"fill_alpha\":{\"value\":0.1},\"fill_color\":{\"value\":\"#1f77b4\"},\"line_alpha\":{\"value\":0.1},\"line_color\":{\"value\":\"#1f77b4\"},\"size\":{\"value\":8},\"x\":{\"field\":\"x\"},\"y\":{\"field\":\"y\"}},\"id\":\"4380\",\"type\":\"Circle\"},{\"attributes\":{},\"id\":\"4582\",\"type\":\"UnionRenderers\"},{\"attributes\":{},\"id\":\"4365\",\"type\":\"WheelZoomTool\"},{\"attributes\":{\"active_multi\":null,\"tools\":[{\"id\":\"4364\"},{\"id\":\"4365\"},{\"id\":\"4366\"},{\"id\":\"4367\"},{\"id\":\"4368\"},{\"id\":\"4369\"}]},\"id\":\"4371\",\"type\":\"Toolbar\"},{\"attributes\":{},\"id\":\"4364\",\"type\":\"PanTool\"},{\"attributes\":{\"overlay\":{\"id\":\"4370\"}},\"id\":\"4366\",\"type\":\"BoxZoomTool\"},{\"attributes\":{},\"id\":\"4577\",\"type\":\"AllLabels\"},{\"attributes\":{},\"id\":\"4367\",\"type\":\"SaveTool\"},{\"attributes\":{},\"id\":\"4368\",\"type\":\"ResetTool\"},{\"attributes\":{\"data_source\":{\"id\":\"4378\"},\"glyph\":{\"id\":\"4379\"},\"hover_glyph\":null,\"muted_glyph\":null,\"nonselection_glyph\":{\"id\":\"4380\"},\"view\":{\"id\":\"4382\"}},\"id\":\"4381\",\"type\":\"GlyphRenderer\"},{\"attributes\":{},\"id\":\"4348\",\"type\":\"DataRange1d\"},{\"attributes\":{},\"id\":\"4350\",\"type\":\"DataRange1d\"},{\"attributes\":{\"mantissas\":[1,2,5],\"max_interval\":500.0,\"num_minor_ticks\":0},\"id\":\"4583\",\"type\":\"AdaptiveTicker\"},{\"attributes\":{\"line_alpha\":0.1,\"line_color\":\"navy\",\"x\":{\"field\":\"x\"},\"y\":{\"field\":\"y\"}},\"id\":\"4385\",\"type\":\"Line\"},{\"attributes\":{\"data\":{\"x\":[1636744190008.251,1637348990008.259,1637953790008.261,1638558590008.262,1639163390008.2632,1639768190008.2651,1640372990008.2659,1640977790008.2668,1641582590008.268,1642187390008.27,1642792190008.271,1643396990008.272,1644001790008.273,1644606590008.2751,1645211390008.276,1645816190008.2769,1646420990008.2778,1647025790008.28,1647630590008.281,1648235390008.282,1648840190008.283,1649444990008.2852,1650049790008.286,1650654590008.2869,1651259390008.2878,1651864190008.29],\"y\":[44,25,51,72,46,16,14,79,33,15,42,55,49,50,78,90,74,22,28,98,70,93,19,57,82,60]},\"selected\":{\"id\":\"4581\"},\"selection_policy\":{\"id\":\"4582\"}},\"id\":\"4383\",\"type\":\"ColumnDataSource\"},{\"attributes\":{\"source\":{\"id\":\"4378\"}},\"id\":\"4382\",\"type\":\"CDSView\"},{\"attributes\":{\"base\":24,\"mantissas\":[1,2,4,6,8,12],\"max_interval\":43200000.0,\"min_interval\":3600000.0,\"num_minor_ticks\":0},\"id\":\"4585\",\"type\":\"AdaptiveTicker\"},{\"attributes\":{\"months\":[0,1,2,3,4,5,6,7,8,9,10,11]},\"id\":\"4590\",\"type\":\"MonthsTicker\"},{\"attributes\":{\"months\":[0,2,4,6,8,10]},\"id\":\"4591\",\"type\":\"MonthsTicker\"},{\"attributes\":{\"text\":\"datetime axis example\",\"text_color\":\"#5B5B5B\",\"text_font\":\"Calibri Light\",\"text_font_size\":\"1.25em\",\"text_font_style\":\"bold\"},\"id\":\"4346\",\"type\":\"Title\"},{\"attributes\":{\"days\":[1,4,7,10,13,16,19,22,25,28]},\"id\":\"4587\",\"type\":\"DaysTicker\"},{\"attributes\":{\"months\":[0,6]},\"id\":\"4593\",\"type\":\"MonthsTicker\"},{\"attributes\":{\"days\":[1,8,15,22]},\"id\":\"4588\",\"type\":\"DaysTicker\"},{\"attributes\":{},\"id\":\"4594\",\"type\":\"YearsTicker\"},{\"attributes\":{\"source\":{\"id\":\"4383\"}},\"id\":\"4387\",\"type\":\"CDSView\"},{\"attributes\":{\"months\":[0,4,8]},\"id\":\"4592\",\"type\":\"MonthsTicker\"},{\"attributes\":{\"line_color\":\"navy\",\"x\":{\"field\":\"x\"},\"y\":{\"field\":\"y\"}},\"id\":\"4384\",\"type\":\"Line\"},{\"attributes\":{\"bottom_units\":\"screen\",\"fill_alpha\":0.5,\"fill_color\":\"lightgrey\",\"left_units\":\"screen\",\"level\":\"overlay\",\"line_alpha\":1.0,\"line_color\":\"black\",\"line_dash\":[4,4],\"line_width\":2,\"right_units\":\"screen\",\"syncable\":false,\"top_units\":\"screen\"},\"id\":\"4370\",\"type\":\"BoxAnnotation\"},{\"attributes\":{},\"id\":\"4575\",\"type\":\"AllLabels\"},{\"attributes\":{\"format\":\"$0.00\"},\"id\":\"4388\",\"type\":\"NumeralTickFormatter\"},{\"attributes\":{},\"id\":\"4580\",\"type\":\"UnionRenderers\"},{\"attributes\":{},\"id\":\"4579\",\"type\":\"Selection\"},{\"attributes\":{\"data_source\":{\"id\":\"4383\"},\"glyph\":{\"id\":\"4384\"},\"hover_glyph\":null,\"muted_glyph\":null,\"nonselection_glyph\":{\"id\":\"4385\"},\"view\":{\"id\":\"4387\"}},\"id\":\"4386\",\"type\":\"GlyphRenderer\"},{\"attributes\":{\"fill_color\":{\"value\":\"#1f77b4\"},\"line_color\":{\"value\":\"#1f77b4\"},\"size\":{\"value\":8},\"x\":{\"field\":\"x\"},\"y\":{\"field\":\"y\"}},\"id\":\"4379\",\"type\":\"Circle\"}],\"root_ids\":[\"4345\"]},\"title\":\"Bokeh Application\",\"version\":\"2.3.3\"}};\n",
       "  var render_items = [{\"docid\":\"052a7626-5409-4865-b520-21c1395b4799\",\"root_ids\":[\"4345\"],\"roots\":{\"4345\":\"9dd08248-dee4-433a-8242-6dbcba80950f\"}}];\n",
       "  root.Bokeh.embed.embed_items_notebook(docs_json, render_items);\n",
       "\n",
       "  }\n",
       "  if (root.Bokeh !== undefined) {\n",
       "    embed_document(root);\n",
       "  } else {\n",
       "    var attempts = 0;\n",
       "    var timer = setInterval(function(root) {\n",
       "      if (root.Bokeh !== undefined) {\n",
       "        clearInterval(timer);\n",
       "        embed_document(root);\n",
       "      } else {\n",
       "        attempts++;\n",
       "        if (attempts > 100) {\n",
       "          clearInterval(timer);\n",
       "          console.log(\"Bokeh: ERROR: Unable to run BokehJS code because BokehJS library is missing\");\n",
       "        }\n",
       "      }\n",
       "    }, 10, root)\n",
       "  }\n",
       "})(window);"
      ],
      "application/vnd.bokehjs_exec.v0+json": ""
     },
     "metadata": {
      "application/vnd.bokehjs_exec.v0+json": {
       "id": "4345"
      }
     },
     "output_type": "display_data"
    }
   ],
   "source": [
    "import random\n",
    "from datetime import datetime, timedelta\n",
    "\n",
    "from bokeh.models import DatetimeTickFormatter, NumeralTickFormatter\n",
    "\n",
    "# generate list of dates (today's date in subsequent weeks)\n",
    "dates = [(datetime.now() + timedelta(day * 7)) for day in range(0, 26)]\n",
    "\n",
    "# generate 25 random data points\n",
    "y = random.sample(range(0, 100), 26)\n",
    "\n",
    "# create new plot\n",
    "p = figure(\n",
    "    title=\"datetime axis example\",\n",
    "    x_axis_type=\"datetime\",\n",
    "    sizing_mode=\"stretch_width\",\n",
    "    max_width=500,\n",
    "    height=250,\n",
    ")\n",
    "\n",
    "# add renderers\n",
    "p.circle(dates, y, size=8)\n",
    "p.line(dates, y, color=\"navy\", line_width=1)\n",
    "\n",
    "# format axes ticks\n",
    "p.yaxis[0].formatter = NumeralTickFormatter(format=\"$0.00\")\n",
    "p.xaxis[0].formatter = DatetimeTickFormatter(months=\"%b %Y\")\n",
    "\n",
    "# show the results\n",
    "show(p)"
   ]
  },
  {
   "cell_type": "markdown",
   "id": "9b88f8c8",
   "metadata": {},
   "source": [
    "See Styling axes in the user guide for more information on customizing axes. The entry for Axis in the reference guide contains a list of all available attributes you can use to customize the axes of your plot.\n",
    "\n",
    "## Customizing the grid\n",
    "To change the appearance of the grid, set the various properties of the xgrid(), ygrid(), and grid() methods of your Plot object.\n",
    "\n",
    "### Styling lines\n",
    "Change what the horizontal and vertical lines of your grid look like by setting the various grid_line properties:"
   ]
  },
  {
   "cell_type": "code",
   "execution_count": 20,
   "id": "41b47148",
   "metadata": {},
   "outputs": [
    {
     "data": {
      "text/html": [
       "\n",
       "\n",
       "\n",
       "\n",
       "\n",
       "\n",
       "  <div class=\"bk-root\" id=\"d19141e4-e631-4143-9e29-98a6cd141eaf\" data-root-id=\"4706\"></div>\n"
      ]
     },
     "metadata": {},
     "output_type": "display_data"
    },
    {
     "data": {
      "application/javascript": [
       "(function(root) {\n",
       "  function embed_document(root) {\n",
       "    \n",
       "  var docs_json = {\"628a5d4e-0c25-4aef-bc0f-b9ab84f3b0c1\":{\"defs\":[],\"roots\":{\"references\":[{\"attributes\":{\"below\":[{\"id\":\"4717\"}],\"center\":[{\"id\":\"4720\"},{\"id\":\"4724\"}],\"height\":250,\"left\":[{\"id\":\"4721\"}],\"max_width\":500,\"renderers\":[{\"id\":\"4742\"}],\"sizing_mode\":\"stretch_width\",\"title\":{\"id\":\"4707\"},\"toolbar\":{\"id\":\"4732\"},\"x_range\":{\"id\":\"4709\"},\"x_scale\":{\"id\":\"4713\"},\"y_range\":{\"id\":\"4711\"},\"y_scale\":{\"id\":\"4715\"}},\"id\":\"4706\",\"subtype\":\"Figure\",\"type\":\"Plot\"},{\"attributes\":{\"bottom_units\":\"screen\",\"fill_alpha\":0.5,\"fill_color\":\"lightgrey\",\"left_units\":\"screen\",\"level\":\"overlay\",\"line_alpha\":1.0,\"line_color\":\"black\",\"line_dash\":[4,4],\"line_width\":2,\"right_units\":\"screen\",\"syncable\":false,\"top_units\":\"screen\"},\"id\":\"4731\",\"type\":\"BoxAnnotation\"},{\"attributes\":{},\"id\":\"4952\",\"type\":\"AllLabels\"},{\"attributes\":{\"source\":{\"id\":\"4739\"}},\"id\":\"4743\",\"type\":\"CDSView\"},{\"attributes\":{\"line_alpha\":0.1,\"line_color\":\"green\",\"line_width\":2,\"x\":{\"field\":\"x\"},\"y\":{\"field\":\"y\"}},\"id\":\"4741\",\"type\":\"Line\"},{\"attributes\":{},\"id\":\"4954\",\"type\":\"BasicTickFormatter\"},{\"attributes\":{},\"id\":\"4730\",\"type\":\"HelpTool\"},{\"attributes\":{},\"id\":\"4955\",\"type\":\"Selection\"},{\"attributes\":{},\"id\":\"4956\",\"type\":\"UnionRenderers\"},{\"attributes\":{\"active_multi\":null,\"tools\":[{\"id\":\"4725\"},{\"id\":\"4726\"},{\"id\":\"4727\"},{\"id\":\"4728\"},{\"id\":\"4729\"},{\"id\":\"4730\"}]},\"id\":\"4732\",\"type\":\"Toolbar\"},{\"attributes\":{},\"id\":\"4715\",\"type\":\"LinearScale\"},{\"attributes\":{\"axis\":{\"id\":\"4721\"},\"dimension\":1,\"grid_line_alpha\":0.8,\"grid_line_dash\":[6,4],\"ticker\":null},\"id\":\"4724\",\"type\":\"Grid\"},{\"attributes\":{},\"id\":\"4725\",\"type\":\"PanTool\"},{\"attributes\":{},\"id\":\"4728\",\"type\":\"SaveTool\"},{\"attributes\":{\"overlay\":{\"id\":\"4731\"}},\"id\":\"4727\",\"type\":\"BoxZoomTool\"},{\"attributes\":{\"data\":{\"x\":[1,2,3,4,5],\"y\":[4,5,5,7,2]},\"selected\":{\"id\":\"4955\"},\"selection_policy\":{\"id\":\"4956\"}},\"id\":\"4739\",\"type\":\"ColumnDataSource\"},{\"attributes\":{},\"id\":\"4729\",\"type\":\"ResetTool\"},{\"attributes\":{},\"id\":\"4951\",\"type\":\"BasicTickFormatter\"},{\"attributes\":{\"line_color\":\"green\",\"line_width\":2,\"x\":{\"field\":\"x\"},\"y\":{\"field\":\"y\"}},\"id\":\"4740\",\"type\":\"Line\"},{\"attributes\":{},\"id\":\"4726\",\"type\":\"WheelZoomTool\"},{\"attributes\":{},\"id\":\"4709\",\"type\":\"DataRange1d\"},{\"attributes\":{\"data_source\":{\"id\":\"4739\"},\"glyph\":{\"id\":\"4740\"},\"hover_glyph\":null,\"muted_glyph\":null,\"nonselection_glyph\":{\"id\":\"4741\"},\"view\":{\"id\":\"4743\"}},\"id\":\"4742\",\"type\":\"GlyphRenderer\"},{\"attributes\":{\"text\":\"Customized grid lines example\",\"text_color\":\"#5B5B5B\",\"text_font\":\"Calibri Light\",\"text_font_size\":\"1.25em\",\"text_font_style\":\"bold\"},\"id\":\"4707\",\"type\":\"Title\"},{\"attributes\":{},\"id\":\"4949\",\"type\":\"AllLabels\"},{\"attributes\":{},\"id\":\"4722\",\"type\":\"BasicTicker\"},{\"attributes\":{\"axis\":{\"id\":\"4717\"},\"grid_line_color\":\"red\",\"ticker\":null},\"id\":\"4720\",\"type\":\"Grid\"},{\"attributes\":{},\"id\":\"4718\",\"type\":\"BasicTicker\"},{\"attributes\":{},\"id\":\"4713\",\"type\":\"LinearScale\"},{\"attributes\":{\"axis_label_standoff\":10,\"axis_label_text_color\":\"#5B5B5B\",\"axis_label_text_font\":\"Calibri Light\",\"axis_label_text_font_size\":\"1.15em\",\"axis_label_text_font_style\":\"bold\",\"axis_line_alpha\":1,\"axis_line_color\":\"#5B5B5B\",\"formatter\":{\"id\":\"4951\"},\"major_label_policy\":{\"id\":\"4949\"},\"major_label_text_color\":\"#5B5B5B\",\"major_label_text_font\":\"Calibri Light\",\"major_label_text_font_size\":\"0.95em\",\"major_label_text_font_style\":\"bold\",\"major_tick_in\":0,\"major_tick_line_alpha\":0.25,\"major_tick_line_color\":\"#5B5B5B\",\"major_tick_out\":3,\"minor_tick_line_alpha\":0.25,\"minor_tick_line_color\":\"#5B5B5B\",\"ticker\":{\"id\":\"4718\"}},\"id\":\"4717\",\"type\":\"LinearAxis\"},{\"attributes\":{\"axis_label_standoff\":10,\"axis_label_text_color\":\"#5B5B5B\",\"axis_label_text_font\":\"Calibri Light\",\"axis_label_text_font_size\":\"1.15em\",\"axis_label_text_font_style\":\"bold\",\"axis_line_alpha\":1,\"axis_line_color\":\"#5B5B5B\",\"formatter\":{\"id\":\"4954\"},\"major_label_policy\":{\"id\":\"4952\"},\"major_label_text_color\":\"#5B5B5B\",\"major_label_text_font\":\"Calibri Light\",\"major_label_text_font_size\":\"0.95em\",\"major_label_text_font_style\":\"bold\",\"major_tick_in\":0,\"major_tick_line_alpha\":0.25,\"major_tick_line_color\":\"#5B5B5B\",\"major_tick_out\":3,\"minor_tick_line_alpha\":0.25,\"minor_tick_line_color\":\"#5B5B5B\",\"ticker\":{\"id\":\"4722\"}},\"id\":\"4721\",\"type\":\"LinearAxis\"},{\"attributes\":{},\"id\":\"4711\",\"type\":\"DataRange1d\"}],\"root_ids\":[\"4706\"]},\"title\":\"Bokeh Application\",\"version\":\"2.3.3\"}};\n",
       "  var render_items = [{\"docid\":\"628a5d4e-0c25-4aef-bc0f-b9ab84f3b0c1\",\"root_ids\":[\"4706\"],\"roots\":{\"4706\":\"d19141e4-e631-4143-9e29-98a6cd141eaf\"}}];\n",
       "  root.Bokeh.embed.embed_items_notebook(docs_json, render_items);\n",
       "\n",
       "  }\n",
       "  if (root.Bokeh !== undefined) {\n",
       "    embed_document(root);\n",
       "  } else {\n",
       "    var attempts = 0;\n",
       "    var timer = setInterval(function(root) {\n",
       "      if (root.Bokeh !== undefined) {\n",
       "        clearInterval(timer);\n",
       "        embed_document(root);\n",
       "      } else {\n",
       "        attempts++;\n",
       "        if (attempts > 100) {\n",
       "          clearInterval(timer);\n",
       "          console.log(\"Bokeh: ERROR: Unable to run BokehJS code because BokehJS library is missing\");\n",
       "        }\n",
       "      }\n",
       "    }, 10, root)\n",
       "  }\n",
       "})(window);"
      ],
      "application/vnd.bokehjs_exec.v0+json": ""
     },
     "metadata": {
      "application/vnd.bokehjs_exec.v0+json": {
       "id": "4706"
      }
     },
     "output_type": "display_data"
    }
   ],
   "source": [
    "# prepare some data\n",
    "x = [1, 2, 3, 4, 5]\n",
    "y = [4, 5, 5, 7, 2]\n",
    "\n",
    "# create a plot\n",
    "p = figure(\n",
    "    title=\"Customized grid lines example\",\n",
    "    sizing_mode=\"stretch_width\",\n",
    "    max_width=500,\n",
    "    height=250,\n",
    ")\n",
    "\n",
    "# add a renderer\n",
    "p.line(x, y, line_color=\"green\", line_width=2)\n",
    "\n",
    "# change just some things about the x-grid\n",
    "p.xgrid.grid_line_color = \"red\"\n",
    "\n",
    "# change just some things about the y-grid\n",
    "p.ygrid.grid_line_alpha = 0.8\n",
    "p.ygrid.grid_line_dash = [6, 4]\n",
    "\n",
    "# show the results\n",
    "show(p)"
   ]
  },
  {
   "cell_type": "markdown",
   "id": "e7eea660",
   "metadata": {},
   "source": [
    "For more information on lines and minor lines, see Lines in the user guide.\n",
    "\n",
    "### Using bands and bounds\n",
    "Another way to make reading your plot easier is to use bands and bounds.\n",
    "\n",
    "Bands and bounds are more examples of the annotations you learned about in Using annotations."
   ]
  },
  {
   "cell_type": "code",
   "execution_count": 21,
   "id": "fec691a4",
   "metadata": {},
   "outputs": [
    {
     "data": {
      "text/html": [
       "\n",
       "\n",
       "\n",
       "\n",
       "\n",
       "\n",
       "  <div class=\"bk-root\" id=\"08b71542-735d-4e3f-a800-6493bf4defe1\" data-root-id=\"5008\"></div>\n"
      ]
     },
     "metadata": {},
     "output_type": "display_data"
    },
    {
     "data": {
      "application/javascript": [
       "(function(root) {\n",
       "  function embed_document(root) {\n",
       "    \n",
       "  var docs_json = {\"6d5c9a67-bbc0-46ff-8d69-0e9c69dff0c3\":{\"defs\":[],\"roots\":{\"references\":[{\"attributes\":{\"below\":[{\"id\":\"5019\"}],\"center\":[{\"id\":\"5022\"},{\"id\":\"5026\"}],\"height\":250,\"left\":[{\"id\":\"5023\"}],\"max_width\":500,\"renderers\":[{\"id\":\"5044\"}],\"sizing_mode\":\"stretch_width\",\"title\":{\"id\":\"5009\"},\"toolbar\":{\"id\":\"5034\"},\"x_range\":{\"id\":\"5011\"},\"x_scale\":{\"id\":\"5015\"},\"y_range\":{\"id\":\"5013\"},\"y_scale\":{\"id\":\"5017\"}},\"id\":\"5008\",\"subtype\":\"Figure\",\"type\":\"Plot\"},{\"attributes\":{},\"id\":\"5017\",\"type\":\"LinearScale\"},{\"attributes\":{},\"id\":\"5013\",\"type\":\"DataRange1d\"},{\"attributes\":{\"axis_label_standoff\":10,\"axis_label_text_color\":\"#5B5B5B\",\"axis_label_text_font\":\"Calibri Light\",\"axis_label_text_font_size\":\"1.15em\",\"axis_label_text_font_style\":\"bold\",\"axis_line_alpha\":1,\"axis_line_color\":\"#5B5B5B\",\"formatter\":{\"id\":\"5266\"},\"major_label_policy\":{\"id\":\"5264\"},\"major_label_text_color\":\"#5B5B5B\",\"major_label_text_font\":\"Calibri Light\",\"major_label_text_font_size\":\"0.95em\",\"major_label_text_font_style\":\"bold\",\"major_tick_in\":0,\"major_tick_line_alpha\":0.25,\"major_tick_line_color\":\"#5B5B5B\",\"major_tick_out\":3,\"minor_tick_line_alpha\":0.25,\"minor_tick_line_color\":\"#5B5B5B\",\"ticker\":{\"id\":\"5024\"}},\"id\":\"5023\",\"type\":\"LinearAxis\"},{\"attributes\":{},\"id\":\"5015\",\"type\":\"LinearScale\"},{\"attributes\":{\"axis_label_standoff\":10,\"axis_label_text_color\":\"#5B5B5B\",\"axis_label_text_font\":\"Calibri Light\",\"axis_label_text_font_size\":\"1.15em\",\"axis_label_text_font_style\":\"bold\",\"axis_line_alpha\":1,\"axis_line_color\":\"#5B5B5B\",\"formatter\":{\"id\":\"5263\"},\"major_label_policy\":{\"id\":\"5261\"},\"major_label_text_color\":\"#5B5B5B\",\"major_label_text_font\":\"Calibri Light\",\"major_label_text_font_size\":\"0.95em\",\"major_label_text_font_style\":\"bold\",\"major_tick_in\":0,\"major_tick_line_alpha\":0.25,\"major_tick_line_color\":\"#5B5B5B\",\"major_tick_out\":3,\"minor_tick_line_alpha\":0.25,\"minor_tick_line_color\":\"#5B5B5B\",\"ticker\":{\"id\":\"5020\"}},\"id\":\"5019\",\"type\":\"LinearAxis\"},{\"attributes\":{},\"id\":\"5020\",\"type\":\"BasicTicker\"},{\"attributes\":{\"axis\":{\"id\":\"5019\"},\"bounds\":[2,4],\"ticker\":null},\"id\":\"5022\",\"type\":\"Grid\"},{\"attributes\":{},\"id\":\"5267\",\"type\":\"Selection\"},{\"attributes\":{},\"id\":\"5268\",\"type\":\"UnionRenderers\"},{\"attributes\":{\"source\":{\"id\":\"5041\"}},\"id\":\"5045\",\"type\":\"CDSView\"},{\"attributes\":{\"axis\":{\"id\":\"5023\"},\"band_fill_alpha\":0.1,\"band_fill_color\":\"olive\",\"dimension\":1,\"ticker\":null},\"id\":\"5026\",\"type\":\"Grid\"},{\"attributes\":{\"line_alpha\":0.1,\"line_color\":\"green\",\"line_width\":2,\"x\":{\"field\":\"x\"},\"y\":{\"field\":\"y\"}},\"id\":\"5043\",\"type\":\"Line\"},{\"attributes\":{},\"id\":\"5024\",\"type\":\"BasicTicker\"},{\"attributes\":{},\"id\":\"5263\",\"type\":\"BasicTickFormatter\"},{\"attributes\":{},\"id\":\"5032\",\"type\":\"HelpTool\"},{\"attributes\":{},\"id\":\"5261\",\"type\":\"AllLabels\"},{\"attributes\":{},\"id\":\"5027\",\"type\":\"PanTool\"},{\"attributes\":{\"overlay\":{\"id\":\"5033\"}},\"id\":\"5029\",\"type\":\"BoxZoomTool\"},{\"attributes\":{},\"id\":\"5030\",\"type\":\"SaveTool\"},{\"attributes\":{},\"id\":\"5031\",\"type\":\"ResetTool\"},{\"attributes\":{\"active_multi\":null,\"tools\":[{\"id\":\"5027\"},{\"id\":\"5028\"},{\"id\":\"5029\"},{\"id\":\"5030\"},{\"id\":\"5031\"},{\"id\":\"5032\"}]},\"id\":\"5034\",\"type\":\"Toolbar\"},{\"attributes\":{\"bottom_units\":\"screen\",\"fill_alpha\":0.5,\"fill_color\":\"lightgrey\",\"left_units\":\"screen\",\"level\":\"overlay\",\"line_alpha\":1.0,\"line_color\":\"black\",\"line_dash\":[4,4],\"line_width\":2,\"right_units\":\"screen\",\"syncable\":false,\"top_units\":\"screen\"},\"id\":\"5033\",\"type\":\"BoxAnnotation\"},{\"attributes\":{},\"id\":\"5264\",\"type\":\"AllLabels\"},{\"attributes\":{\"data\":{\"x\":[1,2,3,4,5],\"y\":[4,5,5,7,2]},\"selected\":{\"id\":\"5267\"},\"selection_policy\":{\"id\":\"5268\"}},\"id\":\"5041\",\"type\":\"ColumnDataSource\"},{\"attributes\":{},\"id\":\"5266\",\"type\":\"BasicTickFormatter\"},{\"attributes\":{\"data_source\":{\"id\":\"5041\"},\"glyph\":{\"id\":\"5042\"},\"hover_glyph\":null,\"muted_glyph\":null,\"nonselection_glyph\":{\"id\":\"5043\"},\"view\":{\"id\":\"5045\"}},\"id\":\"5044\",\"type\":\"GlyphRenderer\"},{\"attributes\":{\"text\":\"Bands and bonds example\",\"text_color\":\"#5B5B5B\",\"text_font\":\"Calibri Light\",\"text_font_size\":\"1.25em\",\"text_font_style\":\"bold\"},\"id\":\"5009\",\"type\":\"Title\"},{\"attributes\":{\"line_color\":\"green\",\"line_width\":2,\"x\":{\"field\":\"x\"},\"y\":{\"field\":\"y\"}},\"id\":\"5042\",\"type\":\"Line\"},{\"attributes\":{},\"id\":\"5011\",\"type\":\"DataRange1d\"},{\"attributes\":{},\"id\":\"5028\",\"type\":\"WheelZoomTool\"}],\"root_ids\":[\"5008\"]},\"title\":\"Bokeh Application\",\"version\":\"2.3.3\"}};\n",
       "  var render_items = [{\"docid\":\"6d5c9a67-bbc0-46ff-8d69-0e9c69dff0c3\",\"root_ids\":[\"5008\"],\"roots\":{\"5008\":\"08b71542-735d-4e3f-a800-6493bf4defe1\"}}];\n",
       "  root.Bokeh.embed.embed_items_notebook(docs_json, render_items);\n",
       "\n",
       "  }\n",
       "  if (root.Bokeh !== undefined) {\n",
       "    embed_document(root);\n",
       "  } else {\n",
       "    var attempts = 0;\n",
       "    var timer = setInterval(function(root) {\n",
       "      if (root.Bokeh !== undefined) {\n",
       "        clearInterval(timer);\n",
       "        embed_document(root);\n",
       "      } else {\n",
       "        attempts++;\n",
       "        if (attempts > 100) {\n",
       "          clearInterval(timer);\n",
       "          console.log(\"Bokeh: ERROR: Unable to run BokehJS code because BokehJS library is missing\");\n",
       "        }\n",
       "      }\n",
       "    }, 10, root)\n",
       "  }\n",
       "})(window);"
      ],
      "application/vnd.bokehjs_exec.v0+json": ""
     },
     "metadata": {
      "application/vnd.bokehjs_exec.v0+json": {
       "id": "5008"
      }
     },
     "output_type": "display_data"
    }
   ],
   "source": [
    "# prepare some data\n",
    "x = [1, 2, 3, 4, 5]\n",
    "y = [4, 5, 5, 7, 2]\n",
    "\n",
    "# create a plot\n",
    "p = figure(\n",
    "    title=\"Bands and bonds example\",\n",
    "    sizing_mode=\"stretch_width\",\n",
    "    max_width=500,\n",
    "    height=250,\n",
    ")\n",
    "\n",
    "# add a renderer\n",
    "p.line(x, y, line_color=\"green\", line_width=2)\n",
    "\n",
    "# add bands to the y-grid\n",
    "p.ygrid.band_fill_color = \"olive\"\n",
    "p.ygrid.band_fill_alpha = 0.1\n",
    "\n",
    "# define vertical bonds\n",
    "p.xgrid.bounds = (2, 4)\n",
    "\n",
    "# show the results\n",
    "show(p)"
   ]
  },
  {
   "cell_type": "markdown",
   "id": "912a8089",
   "metadata": {},
   "source": [
    "For more information on styling bands and bounds, see Bands and Bounds in the user guide.\n",
    "\n",
    "Setting background colors\n",
    "You have several options to define colors in Bokeh. For example:\n",
    "- Use one of the named CSS colors (for example, \"firebrick\")\n",
    "- Use hexadecimal values, prefaced with a # (for example \"#00ff00\")\n",
    "- Use a 3-tuple for RGB colors (for example, (100, 100, 255)\n",
    "- Use a 4-tuple for RGBA colors (for example (100, 100, 255, 0.5))\n",
    "\n",
    "To change the appearance of the plane that Bokeh draws your plot elements on, use the various fill_color attributes of your Plot object:\n"
   ]
  },
  {
   "cell_type": "code",
   "execution_count": 22,
   "id": "8986b228",
   "metadata": {},
   "outputs": [
    {
     "data": {
      "text/html": [
       "\n",
       "\n",
       "\n",
       "\n",
       "\n",
       "\n",
       "  <div class=\"bk-root\" id=\"3be5b776-13ca-4d5e-8bf7-eeaf1eff5c6d\" data-root-id=\"5320\"></div>\n"
      ]
     },
     "metadata": {},
     "output_type": "display_data"
    },
    {
     "data": {
      "application/javascript": [
       "(function(root) {\n",
       "  function embed_document(root) {\n",
       "    \n",
       "  var docs_json = {\"8a2e58a2-6d0a-4ac8-8f36-f059e4b2030d\":{\"defs\":[],\"roots\":{\"references\":[{\"attributes\":{\"background_fill_color\":\"rgb(204, 255, 255)\",\"below\":[{\"id\":\"5331\"}],\"border_fill_color\":\"rgb(102, 204, 255)\",\"center\":[{\"id\":\"5334\"},{\"id\":\"5338\"}],\"height\":250,\"left\":[{\"id\":\"5335\"}],\"max_width\":500,\"outline_line_color\":\"rgb(0, 0, 255)\",\"renderers\":[{\"id\":\"5356\"}],\"sizing_mode\":\"stretch_width\",\"title\":{\"id\":\"5321\"},\"toolbar\":{\"id\":\"5346\"},\"x_range\":{\"id\":\"5323\"},\"x_scale\":{\"id\":\"5327\"},\"y_range\":{\"id\":\"5325\"},\"y_scale\":{\"id\":\"5329\"}},\"id\":\"5320\",\"subtype\":\"Figure\",\"type\":\"Plot\"},{\"attributes\":{},\"id\":\"5583\",\"type\":\"AllLabels\"},{\"attributes\":{\"line_alpha\":0.1,\"line_color\":\"green\",\"line_width\":2,\"x\":{\"field\":\"x\"},\"y\":{\"field\":\"y\"}},\"id\":\"5355\",\"type\":\"Line\"},{\"attributes\":{},\"id\":\"5585\",\"type\":\"BasicTickFormatter\"},{\"attributes\":{},\"id\":\"5340\",\"type\":\"WheelZoomTool\"},{\"attributes\":{},\"id\":\"5339\",\"type\":\"PanTool\"},{\"attributes\":{\"overlay\":{\"id\":\"5345\"}},\"id\":\"5341\",\"type\":\"BoxZoomTool\"},{\"attributes\":{},\"id\":\"5342\",\"type\":\"SaveTool\"},{\"attributes\":{},\"id\":\"5343\",\"type\":\"ResetTool\"},{\"attributes\":{\"source\":{\"id\":\"5353\"}},\"id\":\"5357\",\"type\":\"CDSView\"},{\"attributes\":{},\"id\":\"5590\",\"type\":\"UnionRenderers\"},{\"attributes\":{\"line_color\":\"green\",\"line_width\":2,\"x\":{\"field\":\"x\"},\"y\":{\"field\":\"y\"}},\"id\":\"5354\",\"type\":\"Line\"},{\"attributes\":{},\"id\":\"5323\",\"type\":\"DataRange1d\"},{\"attributes\":{\"data\":{\"x\":[1,2,3,4,5],\"y\":[4,5,5,7,2]},\"selected\":{\"id\":\"5589\"},\"selection_policy\":{\"id\":\"5590\"}},\"id\":\"5353\",\"type\":\"ColumnDataSource\"},{\"attributes\":{\"data_source\":{\"id\":\"5353\"},\"glyph\":{\"id\":\"5354\"},\"hover_glyph\":null,\"muted_glyph\":null,\"nonselection_glyph\":{\"id\":\"5355\"},\"view\":{\"id\":\"5357\"}},\"id\":\"5356\",\"type\":\"GlyphRenderer\"},{\"attributes\":{},\"id\":\"5586\",\"type\":\"AllLabels\"},{\"attributes\":{},\"id\":\"5588\",\"type\":\"BasicTickFormatter\"},{\"attributes\":{\"bottom_units\":\"screen\",\"fill_alpha\":0.5,\"fill_color\":\"lightgrey\",\"left_units\":\"screen\",\"level\":\"overlay\",\"line_alpha\":1.0,\"line_color\":\"black\",\"line_dash\":[4,4],\"line_width\":2,\"right_units\":\"screen\",\"syncable\":false,\"top_units\":\"screen\"},\"id\":\"5345\",\"type\":\"BoxAnnotation\"},{\"attributes\":{\"text\":\"Background colors example\",\"text_color\":\"#5B5B5B\",\"text_font\":\"Calibri Light\",\"text_font_size\":\"1.25em\",\"text_font_style\":\"bold\"},\"id\":\"5321\",\"type\":\"Title\"},{\"attributes\":{\"active_multi\":null,\"tools\":[{\"id\":\"5339\"},{\"id\":\"5340\"},{\"id\":\"5341\"},{\"id\":\"5342\"},{\"id\":\"5343\"},{\"id\":\"5344\"}]},\"id\":\"5346\",\"type\":\"Toolbar\"},{\"attributes\":{},\"id\":\"5329\",\"type\":\"LinearScale\"},{\"attributes\":{},\"id\":\"5344\",\"type\":\"HelpTool\"},{\"attributes\":{},\"id\":\"5325\",\"type\":\"DataRange1d\"},{\"attributes\":{\"axis_label_standoff\":10,\"axis_label_text_color\":\"#5B5B5B\",\"axis_label_text_font\":\"Calibri Light\",\"axis_label_text_font_size\":\"1.15em\",\"axis_label_text_font_style\":\"bold\",\"axis_line_alpha\":1,\"axis_line_color\":\"#5B5B5B\",\"formatter\":{\"id\":\"5588\"},\"major_label_policy\":{\"id\":\"5586\"},\"major_label_text_color\":\"#5B5B5B\",\"major_label_text_font\":\"Calibri Light\",\"major_label_text_font_size\":\"0.95em\",\"major_label_text_font_style\":\"bold\",\"major_tick_in\":0,\"major_tick_line_alpha\":0.25,\"major_tick_line_color\":\"#5B5B5B\",\"major_tick_out\":3,\"minor_tick_line_alpha\":0.25,\"minor_tick_line_color\":\"#5B5B5B\",\"ticker\":{\"id\":\"5336\"}},\"id\":\"5335\",\"type\":\"LinearAxis\"},{\"attributes\":{},\"id\":\"5327\",\"type\":\"LinearScale\"},{\"attributes\":{\"axis_label_standoff\":10,\"axis_label_text_color\":\"#5B5B5B\",\"axis_label_text_font\":\"Calibri Light\",\"axis_label_text_font_size\":\"1.15em\",\"axis_label_text_font_style\":\"bold\",\"axis_line_alpha\":1,\"axis_line_color\":\"#5B5B5B\",\"formatter\":{\"id\":\"5585\"},\"major_label_policy\":{\"id\":\"5583\"},\"major_label_text_color\":\"#5B5B5B\",\"major_label_text_font\":\"Calibri Light\",\"major_label_text_font_size\":\"0.95em\",\"major_label_text_font_style\":\"bold\",\"major_tick_in\":0,\"major_tick_line_alpha\":0.25,\"major_tick_line_color\":\"#5B5B5B\",\"major_tick_out\":3,\"minor_tick_line_alpha\":0.25,\"minor_tick_line_color\":\"#5B5B5B\",\"ticker\":{\"id\":\"5332\"}},\"id\":\"5331\",\"type\":\"LinearAxis\"},{\"attributes\":{},\"id\":\"5332\",\"type\":\"BasicTicker\"},{\"attributes\":{\"axis\":{\"id\":\"5331\"},\"ticker\":null},\"id\":\"5334\",\"type\":\"Grid\"},{\"attributes\":{},\"id\":\"5589\",\"type\":\"Selection\"},{\"attributes\":{\"axis\":{\"id\":\"5335\"},\"dimension\":1,\"ticker\":null},\"id\":\"5338\",\"type\":\"Grid\"},{\"attributes\":{},\"id\":\"5336\",\"type\":\"BasicTicker\"}],\"root_ids\":[\"5320\"]},\"title\":\"Bokeh Application\",\"version\":\"2.3.3\"}};\n",
       "  var render_items = [{\"docid\":\"8a2e58a2-6d0a-4ac8-8f36-f059e4b2030d\",\"root_ids\":[\"5320\"],\"roots\":{\"5320\":\"3be5b776-13ca-4d5e-8bf7-eeaf1eff5c6d\"}}];\n",
       "  root.Bokeh.embed.embed_items_notebook(docs_json, render_items);\n",
       "\n",
       "  }\n",
       "  if (root.Bokeh !== undefined) {\n",
       "    embed_document(root);\n",
       "  } else {\n",
       "    var attempts = 0;\n",
       "    var timer = setInterval(function(root) {\n",
       "      if (root.Bokeh !== undefined) {\n",
       "        clearInterval(timer);\n",
       "        embed_document(root);\n",
       "      } else {\n",
       "        attempts++;\n",
       "        if (attempts > 100) {\n",
       "          clearInterval(timer);\n",
       "          console.log(\"Bokeh: ERROR: Unable to run BokehJS code because BokehJS library is missing\");\n",
       "        }\n",
       "      }\n",
       "    }, 10, root)\n",
       "  }\n",
       "})(window);"
      ],
      "application/vnd.bokehjs_exec.v0+json": ""
     },
     "metadata": {
      "application/vnd.bokehjs_exec.v0+json": {
       "id": "5320"
      }
     },
     "output_type": "display_data"
    }
   ],
   "source": [
    "# prepare some data\n",
    "x = [1, 2, 3, 4, 5]\n",
    "y = [4, 5, 5, 7, 2]\n",
    "\n",
    "# create a plot\n",
    "p = figure(\n",
    "    title=\"Background colors example\",\n",
    "    sizing_mode=\"stretch_width\",\n",
    "    max_width=500,\n",
    "    height=250,\n",
    ")\n",
    "\n",
    "# add a renderer\n",
    "p.line(x, y, line_color=\"green\", line_width=2)\n",
    "\n",
    "# change the fill colors\n",
    "p.background_fill_color = (204, 255, 255)\n",
    "p.border_fill_color = (102, 204, 255)\n",
    "p.outline_line_color = (0, 0, 255)\n",
    "\n",
    "# show the results\n",
    "show(p)"
   ]
  },
  {
   "cell_type": "markdown",
   "id": "a6f52993",
   "metadata": {},
   "source": [
    "For more information on colors in Bokeh, see the entry for Color in the reference guide.\n",
    "\n",
    "## Customizing the toolbar\n",
    "Bokeh comes with a powerful toolbar to explore plots. You saw those tools in your very fist visualization, as part of first step guide 1.\n",
    "\n",
    "### Positioning the toolbar\n",
    "To define the position of the toolbar, use the toolbar_location attribute with one of these values: above, below, left, right\n",
    "\n",
    "Pass a value to toolbar_location when creating your figure:\n",
    "\n",
    "    p = figure(title=\"Toolbar positioning example\", toolbar_location=\"below\")\n",
    "Another option is to change the attribute toolbar_location at any time after creating your figure:\n",
    "\n",
    "    p.toolbar_location = \"below\"\n",
    "### Deactivating and hiding the toolbar\n",
    "To deactivate the toolbar completely, set toolbar_location to None.\n",
    "\n",
    "    p.toolbar_location = None\n",
    "To make your toolbar hide automatically, set autohide to True:\n"
   ]
  },
  {
   "cell_type": "code",
   "execution_count": 23,
   "id": "b2c48c6f",
   "metadata": {},
   "outputs": [
    {
     "data": {
      "text/html": [
       "\n",
       "\n",
       "\n",
       "\n",
       "\n",
       "\n",
       "  <div class=\"bk-root\" id=\"6d02284f-58e4-4d6a-8b49-f92f5d5f1f19\" data-root-id=\"5642\"></div>\n"
      ]
     },
     "metadata": {},
     "output_type": "display_data"
    },
    {
     "data": {
      "application/javascript": [
       "(function(root) {\n",
       "  function embed_document(root) {\n",
       "    \n",
       "  var docs_json = {\"b6780eeb-23b4-42da-a3f2-f320edd79757\":{\"defs\":[],\"roots\":{\"references\":[{\"attributes\":{\"below\":[{\"id\":\"5653\"}],\"center\":[{\"id\":\"5656\"},{\"id\":\"5660\"}],\"height\":250,\"left\":[{\"id\":\"5657\"}],\"max_width\":500,\"renderers\":[{\"id\":\"5679\"}],\"sizing_mode\":\"stretch_width\",\"title\":{\"id\":\"5643\"},\"toolbar\":{\"id\":\"5668\"},\"x_range\":{\"id\":\"5645\"},\"x_scale\":{\"id\":\"5649\"},\"y_range\":{\"id\":\"5647\"},\"y_scale\":{\"id\":\"5651\"}},\"id\":\"5642\",\"subtype\":\"Figure\",\"type\":\"Plot\"},{\"attributes\":{},\"id\":\"5923\",\"type\":\"UnionRenderers\"},{\"attributes\":{\"axis_label_standoff\":10,\"axis_label_text_color\":\"#5B5B5B\",\"axis_label_text_font\":\"Calibri Light\",\"axis_label_text_font_size\":\"1.15em\",\"axis_label_text_font_style\":\"bold\",\"axis_line_alpha\":1,\"axis_line_color\":\"#5B5B5B\",\"formatter\":{\"id\":\"5921\"},\"major_label_policy\":{\"id\":\"5919\"},\"major_label_text_color\":\"#5B5B5B\",\"major_label_text_font\":\"Calibri Light\",\"major_label_text_font_size\":\"0.95em\",\"major_label_text_font_style\":\"bold\",\"major_tick_in\":0,\"major_tick_line_alpha\":0.25,\"major_tick_line_color\":\"#5B5B5B\",\"major_tick_out\":3,\"minor_tick_line_alpha\":0.25,\"minor_tick_line_color\":\"#5B5B5B\",\"ticker\":{\"id\":\"5658\"}},\"id\":\"5657\",\"type\":\"LinearAxis\"},{\"attributes\":{},\"id\":\"5918\",\"type\":\"BasicTickFormatter\"},{\"attributes\":{},\"id\":\"5666\",\"type\":\"HelpTool\"},{\"attributes\":{},\"id\":\"5921\",\"type\":\"BasicTickFormatter\"},{\"attributes\":{\"source\":{\"id\":\"5676\"}},\"id\":\"5680\",\"type\":\"CDSView\"},{\"attributes\":{},\"id\":\"5654\",\"type\":\"BasicTicker\"},{\"attributes\":{},\"id\":\"5916\",\"type\":\"AllLabels\"},{\"attributes\":{\"line_color\":\"#1f77b4\",\"x\":{\"field\":\"x\"},\"y\":{\"field\":\"y\"}},\"id\":\"5677\",\"type\":\"Line\"},{\"attributes\":{},\"id\":\"5664\",\"type\":\"SaveTool\"},{\"attributes\":{},\"id\":\"5661\",\"type\":\"PanTool\"},{\"attributes\":{\"axis\":{\"id\":\"5653\"},\"ticker\":null},\"id\":\"5656\",\"type\":\"Grid\"},{\"attributes\":{},\"id\":\"5645\",\"type\":\"DataRange1d\"},{\"attributes\":{},\"id\":\"5919\",\"type\":\"AllLabels\"},{\"attributes\":{\"text\":\"Toolbar autohide example\",\"text_color\":\"#5B5B5B\",\"text_font\":\"Calibri Light\",\"text_font_size\":\"1.25em\",\"text_font_style\":\"bold\"},\"id\":\"5643\",\"type\":\"Title\"},{\"attributes\":{\"active_multi\":null,\"autohide\":true,\"tools\":[{\"id\":\"5661\"},{\"id\":\"5662\"},{\"id\":\"5663\"},{\"id\":\"5664\"},{\"id\":\"5665\"},{\"id\":\"5666\"}]},\"id\":\"5668\",\"type\":\"Toolbar\"},{\"attributes\":{\"bottom_units\":\"screen\",\"fill_alpha\":0.5,\"fill_color\":\"lightgrey\",\"left_units\":\"screen\",\"level\":\"overlay\",\"line_alpha\":1.0,\"line_color\":\"black\",\"line_dash\":[4,4],\"line_width\":2,\"right_units\":\"screen\",\"syncable\":false,\"top_units\":\"screen\"},\"id\":\"5667\",\"type\":\"BoxAnnotation\"},{\"attributes\":{},\"id\":\"5662\",\"type\":\"WheelZoomTool\"},{\"attributes\":{},\"id\":\"5647\",\"type\":\"DataRange1d\"},{\"attributes\":{\"data_source\":{\"id\":\"5676\"},\"glyph\":{\"id\":\"5677\"},\"hover_glyph\":null,\"muted_glyph\":null,\"nonselection_glyph\":{\"id\":\"5678\"},\"view\":{\"id\":\"5680\"}},\"id\":\"5679\",\"type\":\"GlyphRenderer\"},{\"attributes\":{\"data\":{\"x\":[1,2,3,4,5],\"y\":[4,5,5,7,2]},\"selected\":{\"id\":\"5922\"},\"selection_policy\":{\"id\":\"5923\"}},\"id\":\"5676\",\"type\":\"ColumnDataSource\"},{\"attributes\":{},\"id\":\"5922\",\"type\":\"Selection\"},{\"attributes\":{},\"id\":\"5649\",\"type\":\"LinearScale\"},{\"attributes\":{\"overlay\":{\"id\":\"5667\"}},\"id\":\"5663\",\"type\":\"BoxZoomTool\"},{\"attributes\":{\"axis\":{\"id\":\"5657\"},\"dimension\":1,\"ticker\":null},\"id\":\"5660\",\"type\":\"Grid\"},{\"attributes\":{\"line_alpha\":0.1,\"line_color\":\"#1f77b4\",\"x\":{\"field\":\"x\"},\"y\":{\"field\":\"y\"}},\"id\":\"5678\",\"type\":\"Line\"},{\"attributes\":{},\"id\":\"5651\",\"type\":\"LinearScale\"},{\"attributes\":{},\"id\":\"5665\",\"type\":\"ResetTool\"},{\"attributes\":{\"axis_label_standoff\":10,\"axis_label_text_color\":\"#5B5B5B\",\"axis_label_text_font\":\"Calibri Light\",\"axis_label_text_font_size\":\"1.15em\",\"axis_label_text_font_style\":\"bold\",\"axis_line_alpha\":1,\"axis_line_color\":\"#5B5B5B\",\"formatter\":{\"id\":\"5918\"},\"major_label_policy\":{\"id\":\"5916\"},\"major_label_text_color\":\"#5B5B5B\",\"major_label_text_font\":\"Calibri Light\",\"major_label_text_font_size\":\"0.95em\",\"major_label_text_font_style\":\"bold\",\"major_tick_in\":0,\"major_tick_line_alpha\":0.25,\"major_tick_line_color\":\"#5B5B5B\",\"major_tick_out\":3,\"minor_tick_line_alpha\":0.25,\"minor_tick_line_color\":\"#5B5B5B\",\"ticker\":{\"id\":\"5654\"}},\"id\":\"5653\",\"type\":\"LinearAxis\"},{\"attributes\":{},\"id\":\"5658\",\"type\":\"BasicTicker\"}],\"root_ids\":[\"5642\"]},\"title\":\"Bokeh Application\",\"version\":\"2.3.3\"}};\n",
       "  var render_items = [{\"docid\":\"b6780eeb-23b4-42da-a3f2-f320edd79757\",\"root_ids\":[\"5642\"],\"roots\":{\"5642\":\"6d02284f-58e4-4d6a-8b49-f92f5d5f1f19\"}}];\n",
       "  root.Bokeh.embed.embed_items_notebook(docs_json, render_items);\n",
       "\n",
       "  }\n",
       "  if (root.Bokeh !== undefined) {\n",
       "    embed_document(root);\n",
       "  } else {\n",
       "    var attempts = 0;\n",
       "    var timer = setInterval(function(root) {\n",
       "      if (root.Bokeh !== undefined) {\n",
       "        clearInterval(timer);\n",
       "        embed_document(root);\n",
       "      } else {\n",
       "        attempts++;\n",
       "        if (attempts > 100) {\n",
       "          clearInterval(timer);\n",
       "          console.log(\"Bokeh: ERROR: Unable to run BokehJS code because BokehJS library is missing\");\n",
       "        }\n",
       "      }\n",
       "    }, 10, root)\n",
       "  }\n",
       "})(window);"
      ],
      "application/vnd.bokehjs_exec.v0+json": ""
     },
     "metadata": {
      "application/vnd.bokehjs_exec.v0+json": {
       "id": "5642"
      }
     },
     "output_type": "display_data"
    }
   ],
   "source": [
    "# prepare some data\n",
    "x = [1, 2, 3, 4, 5]\n",
    "y = [4, 5, 5, 7, 2]\n",
    "\n",
    "# create a plot\n",
    "p = figure(\n",
    "    title=\"Toolbar autohide example\",\n",
    "    sizing_mode=\"stretch_width\",\n",
    "    max_width=500,\n",
    "    height=250,\n",
    ")\n",
    "\n",
    "# activate toolbar autohide\n",
    "p.toolbar.autohide = True\n",
    "\n",
    "# add a renderer\n",
    "p.line(x, y)\n",
    "\n",
    "# show the results\n",
    "show(p)"
   ]
  },
  {
   "cell_type": "markdown",
   "id": "e605bd01",
   "metadata": {},
   "source": [
    "With autohide set to True, Bokeh will hide the toolbar unless the mouse is inside the plot area or you tap inside the plot area.\n",
    "\n",
    "Similarly, use the logo property of the Toolbar to deactivate the Bokeh logo:\n",
    "\n",
    "    p.toolbar.logo = None\n",
    "Customizing available tools\n",
    "You can customize which tools Bokeh displays in the toolbar. For a detailed list of all available tools, see Configuring plot tools in the user guide.\n",
    "\n",
    "To customize which tools to use, you first need to import the relevant tools. For example:\n",
    "\n",
    "    from bokeh.models.tools import BoxZoomTool, ResetTool\n",
    "Next, define which tools to use when creating a new figure by passing the tools attribute to the figure() function.\n",
    "\n",
    "The tools attribute accepts a list of tools. This example enables only the BoxZoomTool and ResetTool:\n",
    "\n",
    "    p = figure(tools = [BoxZoomTool(), ResetTool()])\n",
    "This way, only the box zoom tool and the reset tool will be available in the toolbar:\n",
    "\n",
    "To change the available tools at any time after creating your figure, you need to use the add_tools() function.\n",
    "\n",
    "All tools also offer various properties to define how they can be used. With the PanTool, for example, you can limit the movement to only horizontal or vertical panning. The default behavior is to allow panning in both directions.\n"
   ]
  },
  {
   "cell_type": "code",
   "execution_count": 24,
   "id": "0e9c1c51",
   "metadata": {},
   "outputs": [
    {
     "data": {
      "text/html": [
       "\n",
       "\n",
       "\n",
       "\n",
       "\n",
       "\n",
       "  <div class=\"bk-root\" id=\"243327c7-f294-4f55-a477-5f73b2ccddf0\" data-root-id=\"5977\"></div>\n"
      ]
     },
     "metadata": {},
     "output_type": "display_data"
    },
    {
     "data": {
      "application/javascript": [
       "(function(root) {\n",
       "  function embed_document(root) {\n",
       "    \n",
       "  var docs_json = {\"8cbe9de9-f19d-4ec6-8365-c11150f2808c\":{\"defs\":[],\"roots\":{\"references\":[{\"attributes\":{\"below\":[{\"id\":\"5988\"}],\"center\":[{\"id\":\"5991\"},{\"id\":\"5995\"}],\"height\":250,\"left\":[{\"id\":\"5992\"}],\"max_width\":500,\"renderers\":[{\"id\":\"6005\"}],\"sizing_mode\":\"stretch_width\",\"title\":{\"id\":\"5978\"},\"toolbar\":{\"id\":\"5997\"},\"x_range\":{\"id\":\"5980\"},\"x_scale\":{\"id\":\"5984\"},\"y_range\":{\"id\":\"5982\"},\"y_scale\":{\"id\":\"5986\"}},\"id\":\"5977\",\"subtype\":\"Figure\",\"type\":\"Plot\"},{\"attributes\":{},\"id\":\"5993\",\"type\":\"BasicTicker\"},{\"attributes\":{\"source\":{\"id\":\"6002\"}},\"id\":\"6006\",\"type\":\"CDSView\"},{\"attributes\":{},\"id\":\"6252\",\"type\":\"AllLabels\"},{\"attributes\":{},\"id\":\"6254\",\"type\":\"BasicTickFormatter\"},{\"attributes\":{},\"id\":\"6257\",\"type\":\"BasicTickFormatter\"},{\"attributes\":{},\"id\":\"6255\",\"type\":\"AllLabels\"},{\"attributes\":{\"data_source\":{\"id\":\"6002\"},\"glyph\":{\"id\":\"6003\"},\"hover_glyph\":null,\"muted_glyph\":null,\"nonselection_glyph\":{\"id\":\"6004\"},\"view\":{\"id\":\"6006\"}},\"id\":\"6005\",\"type\":\"GlyphRenderer\"},{\"attributes\":{},\"id\":\"5976\",\"type\":\"ResetTool\"},{\"attributes\":{\"overlay\":{\"id\":\"5996\"}},\"id\":\"5975\",\"type\":\"BoxZoomTool\"},{\"attributes\":{\"fill_alpha\":{\"value\":0.1},\"fill_color\":{\"value\":\"#1f77b4\"},\"line_alpha\":{\"value\":0.1},\"line_color\":{\"value\":\"#1f77b4\"},\"size\":{\"value\":10},\"x\":{\"field\":\"x\"},\"y\":{\"field\":\"y\"}},\"id\":\"6004\",\"type\":\"Circle\"},{\"attributes\":{\"bottom_units\":\"screen\",\"fill_alpha\":0.5,\"fill_color\":\"lightgrey\",\"left_units\":\"screen\",\"level\":\"overlay\",\"line_alpha\":1.0,\"line_color\":\"black\",\"line_dash\":[4,4],\"line_width\":2,\"right_units\":\"screen\",\"syncable\":false,\"top_units\":\"screen\"},\"id\":\"5996\",\"type\":\"BoxAnnotation\"},{\"attributes\":{\"text\":\"Modifying tools example\",\"text_color\":\"#5B5B5B\",\"text_font\":\"Calibri Light\",\"text_font_size\":\"1.25em\",\"text_font_style\":\"bold\"},\"id\":\"5978\",\"type\":\"Title\"},{\"attributes\":{\"dimensions\":\"width\"},\"id\":\"6000\",\"type\":\"PanTool\"},{\"attributes\":{\"fill_color\":{\"value\":\"#1f77b4\"},\"line_color\":{\"value\":\"#1f77b4\"},\"size\":{\"value\":10},\"x\":{\"field\":\"x\"},\"y\":{\"field\":\"y\"}},\"id\":\"6003\",\"type\":\"Circle\"},{\"attributes\":{\"data\":{\"x\":[1,2,3,4,5],\"y\":[4,5,5,7,2]},\"selected\":{\"id\":\"6258\"},\"selection_policy\":{\"id\":\"6259\"}},\"id\":\"6002\",\"type\":\"ColumnDataSource\"},{\"attributes\":{},\"id\":\"5986\",\"type\":\"LinearScale\"},{\"attributes\":{\"axis_label_standoff\":10,\"axis_label_text_color\":\"#5B5B5B\",\"axis_label_text_font\":\"Calibri Light\",\"axis_label_text_font_size\":\"1.15em\",\"axis_label_text_font_style\":\"bold\",\"axis_line_alpha\":1,\"axis_line_color\":\"#5B5B5B\",\"formatter\":{\"id\":\"6257\"},\"major_label_policy\":{\"id\":\"6255\"},\"major_label_text_color\":\"#5B5B5B\",\"major_label_text_font\":\"Calibri Light\",\"major_label_text_font_size\":\"0.95em\",\"major_label_text_font_style\":\"bold\",\"major_tick_in\":0,\"major_tick_line_alpha\":0.25,\"major_tick_line_color\":\"#5B5B5B\",\"major_tick_out\":3,\"minor_tick_line_alpha\":0.25,\"minor_tick_line_color\":\"#5B5B5B\",\"ticker\":{\"id\":\"5993\"}},\"id\":\"5992\",\"type\":\"LinearAxis\"},{\"attributes\":{\"active_multi\":null,\"tools\":[{\"id\":\"5975\"},{\"id\":\"5976\"},{\"id\":\"6000\"}]},\"id\":\"5997\",\"type\":\"Toolbar\"},{\"attributes\":{},\"id\":\"5980\",\"type\":\"DataRange1d\"},{\"attributes\":{},\"id\":\"5982\",\"type\":\"DataRange1d\"},{\"attributes\":{},\"id\":\"6259\",\"type\":\"UnionRenderers\"},{\"attributes\":{},\"id\":\"6258\",\"type\":\"Selection\"},{\"attributes\":{},\"id\":\"5984\",\"type\":\"LinearScale\"},{\"attributes\":{\"axis_label_standoff\":10,\"axis_label_text_color\":\"#5B5B5B\",\"axis_label_text_font\":\"Calibri Light\",\"axis_label_text_font_size\":\"1.15em\",\"axis_label_text_font_style\":\"bold\",\"axis_line_alpha\":1,\"axis_line_color\":\"#5B5B5B\",\"formatter\":{\"id\":\"6254\"},\"major_label_policy\":{\"id\":\"6252\"},\"major_label_text_color\":\"#5B5B5B\",\"major_label_text_font\":\"Calibri Light\",\"major_label_text_font_size\":\"0.95em\",\"major_label_text_font_style\":\"bold\",\"major_tick_in\":0,\"major_tick_line_alpha\":0.25,\"major_tick_line_color\":\"#5B5B5B\",\"major_tick_out\":3,\"minor_tick_line_alpha\":0.25,\"minor_tick_line_color\":\"#5B5B5B\",\"ticker\":{\"id\":\"5989\"}},\"id\":\"5988\",\"type\":\"LinearAxis\"},{\"attributes\":{},\"id\":\"5989\",\"type\":\"BasicTicker\"},{\"attributes\":{\"axis\":{\"id\":\"5988\"},\"ticker\":null},\"id\":\"5991\",\"type\":\"Grid\"},{\"attributes\":{\"axis\":{\"id\":\"5992\"},\"dimension\":1,\"ticker\":null},\"id\":\"5995\",\"type\":\"Grid\"}],\"root_ids\":[\"5977\"]},\"title\":\"Bokeh Application\",\"version\":\"2.3.3\"}};\n",
       "  var render_items = [{\"docid\":\"8cbe9de9-f19d-4ec6-8365-c11150f2808c\",\"root_ids\":[\"5977\"],\"roots\":{\"5977\":\"243327c7-f294-4f55-a477-5f73b2ccddf0\"}}];\n",
       "  root.Bokeh.embed.embed_items_notebook(docs_json, render_items);\n",
       "\n",
       "  }\n",
       "  if (root.Bokeh !== undefined) {\n",
       "    embed_document(root);\n",
       "  } else {\n",
       "    var attempts = 0;\n",
       "    var timer = setInterval(function(root) {\n",
       "      if (root.Bokeh !== undefined) {\n",
       "        clearInterval(timer);\n",
       "        embed_document(root);\n",
       "      } else {\n",
       "        attempts++;\n",
       "        if (attempts > 100) {\n",
       "          clearInterval(timer);\n",
       "          console.log(\"Bokeh: ERROR: Unable to run BokehJS code because BokehJS library is missing\");\n",
       "        }\n",
       "      }\n",
       "    }, 10, root)\n",
       "  }\n",
       "})(window);"
      ],
      "application/vnd.bokehjs_exec.v0+json": ""
     },
     "metadata": {
      "application/vnd.bokehjs_exec.v0+json": {
       "id": "5977"
      }
     },
     "output_type": "display_data"
    }
   ],
   "source": [
    "from bokeh.models import BoxZoomTool, PanTool, ResetTool\n",
    "\n",
    "# prepare some data\n",
    "x = [1, 2, 3, 4, 5]\n",
    "y = [4, 5, 5, 7, 2]\n",
    "\n",
    "# create a plot\n",
    "p = figure(\n",
    "    title=\"Modifying tools example\",\n",
    "    tools=[BoxZoomTool(), ResetTool()],\n",
    "    sizing_mode=\"stretch_width\",\n",
    "    max_width=500,\n",
    "    height=250,\n",
    ")\n",
    "\n",
    "# add an additional pan tool\n",
    "# only vertical panning is allowed\n",
    "p.add_tools(PanTool(dimensions=\"width\"))\n",
    "\n",
    "# add a renderer\n",
    "p.circle(x, y, size=10)\n",
    "\n",
    "# show the results\n",
    "show(p)"
   ]
  },
  {
   "cell_type": "markdown",
   "id": "3a9fbadd",
   "metadata": {},
   "source": [
    "In this example, you first include the box zoom tool and the reset tool when creating your function. Next, you add a pan zoom tool. This results in all three tools being available:\n",
    "\n",
    "To learn more about tools and toolbars, see Configuring plot tools. For detailed information about all tools and their respective properties, see tools and Toolbar in the reference guide.\n",
    "\n",
    "### Adding tooltips\n",
    "Tooltips are little windows that appear when you hover your mouse over a data point or when you tap on a data point:\n",
    "\n",
    "Tooltips are based on the HoverTool. The hover tool is part of Bokeh’s toolbar.\n",
    "\n",
    "There are several ways to enable tooltips in Bokeh. This is the quickest:\n",
    "1. Import the HoverTool class from bokeh.models.tools.\n",
    "2. Include HoverTool() in the list passed to the tools argument when calling the figure() function.\n",
    "3. Include the tooltips argument when calling the figure() function.\n",
    "\n",
    "The tooltips argument accepts a string with a special syntax. Use the “@” symbol to include the name of the source for the data you want Bokeh to display. This example includes @x and @y. When the browser displays a tooltip, Bokeh replaces both those fields with the actual data from the lists x and y .\n",
    "\n",
    "This is what the code looks like:"
   ]
  },
  {
   "cell_type": "code",
   "execution_count": 25,
   "id": "d39f0ba2",
   "metadata": {},
   "outputs": [
    {
     "data": {
      "text/html": [
       "\n",
       "\n",
       "\n",
       "\n",
       "\n",
       "\n",
       "  <div class=\"bk-root\" id=\"de6c7c91-f9e5-4a29-ba65-c2ea004094c3\" data-root-id=\"6312\"></div>\n"
      ]
     },
     "metadata": {},
     "output_type": "display_data"
    },
    {
     "data": {
      "application/javascript": [
       "(function(root) {\n",
       "  function embed_document(root) {\n",
       "    \n",
       "  var docs_json = {\"ef09eb5c-8b6d-44de-87a9-7f0dbecfd330\":{\"defs\":[],\"roots\":{\"references\":[{\"attributes\":{\"below\":[{\"id\":\"6321\"}],\"center\":[{\"id\":\"6324\"},{\"id\":\"6328\"}],\"height\":250,\"left\":[{\"id\":\"6325\"}],\"max_width\":500,\"renderers\":[{\"id\":\"6334\"},{\"id\":\"6339\"}],\"sizing_mode\":\"stretch_width\",\"title\":{\"id\":\"6595\"},\"toolbar\":{\"id\":\"6329\"},\"toolbar_location\":null,\"x_range\":{\"id\":\"6313\"},\"x_scale\":{\"id\":\"6317\"},\"y_range\":{\"id\":\"6315\"},\"y_scale\":{\"id\":\"6319\"}},\"id\":\"6312\",\"subtype\":\"Figure\",\"type\":\"Plot\"},{\"attributes\":{},\"id\":\"6322\",\"type\":\"BasicTicker\"},{\"attributes\":{},\"id\":\"6319\",\"type\":\"LinearScale\"},{\"attributes\":{\"source\":{\"id\":\"6331\"}},\"id\":\"6335\",\"type\":\"CDSView\"},{\"attributes\":{\"data_source\":{\"id\":\"6331\"},\"glyph\":{\"id\":\"6332\"},\"hover_glyph\":null,\"muted_glyph\":null,\"nonselection_glyph\":{\"id\":\"6333\"},\"view\":{\"id\":\"6335\"}},\"id\":\"6334\",\"type\":\"GlyphRenderer\"},{\"attributes\":{\"axis_label_standoff\":10,\"axis_label_text_color\":\"#5B5B5B\",\"axis_label_text_font\":\"Calibri Light\",\"axis_label_text_font_size\":\"1.15em\",\"axis_label_text_font_style\":\"bold\",\"axis_line_alpha\":1,\"axis_line_color\":\"#5B5B5B\",\"formatter\":{\"id\":\"6599\"},\"major_label_policy\":{\"id\":\"6597\"},\"major_label_text_color\":\"#5B5B5B\",\"major_label_text_font\":\"Calibri Light\",\"major_label_text_font_size\":\"0.95em\",\"major_label_text_font_style\":\"bold\",\"major_tick_in\":0,\"major_tick_line_alpha\":0.25,\"major_tick_line_color\":\"#5B5B5B\",\"major_tick_out\":3,\"minor_tick_line_alpha\":0.25,\"minor_tick_line_color\":\"#5B5B5B\",\"ticker\":{\"id\":\"6322\"}},\"id\":\"6321\",\"type\":\"LinearAxis\"},{\"attributes\":{\"callback\":null,\"tooltips\":\"Data point @x has the value @y\"},\"id\":\"6311\",\"type\":\"HoverTool\"},{\"attributes\":{\"axis_label_standoff\":10,\"axis_label_text_color\":\"#5B5B5B\",\"axis_label_text_font\":\"Calibri Light\",\"axis_label_text_font_size\":\"1.15em\",\"axis_label_text_font_style\":\"bold\",\"axis_line_alpha\":1,\"axis_line_color\":\"#5B5B5B\",\"formatter\":{\"id\":\"6602\"},\"major_label_policy\":{\"id\":\"6600\"},\"major_label_text_color\":\"#5B5B5B\",\"major_label_text_font\":\"Calibri Light\",\"major_label_text_font_size\":\"0.95em\",\"major_label_text_font_style\":\"bold\",\"major_tick_in\":0,\"major_tick_line_alpha\":0.25,\"major_tick_line_color\":\"#5B5B5B\",\"major_tick_out\":3,\"minor_tick_line_alpha\":0.25,\"minor_tick_line_color\":\"#5B5B5B\",\"ticker\":{\"id\":\"6326\"}},\"id\":\"6325\",\"type\":\"LinearAxis\"},{\"attributes\":{},\"id\":\"6313\",\"type\":\"DataRange1d\"},{\"attributes\":{\"axis\":{\"id\":\"6321\"},\"ticker\":null},\"id\":\"6324\",\"type\":\"Grid\"},{\"attributes\":{},\"id\":\"6604\",\"type\":\"UnionRenderers\"},{\"attributes\":{\"fill_alpha\":{\"value\":0.1},\"fill_color\":{\"value\":\"#1f77b4\"},\"line_alpha\":{\"value\":0.1},\"line_color\":{\"value\":\"#1f77b4\"},\"size\":{\"value\":10},\"x\":{\"field\":\"x\"},\"y\":{\"field\":\"y\"}},\"id\":\"6333\",\"type\":\"Circle\"},{\"attributes\":{\"end\":10},\"id\":\"6315\",\"type\":\"Range1d\"},{\"attributes\":{\"axis\":{\"id\":\"6325\"},\"dimension\":1,\"ticker\":null},\"id\":\"6328\",\"type\":\"Grid\"},{\"attributes\":{\"fill_color\":{\"value\":\"#1f77b4\"},\"line_color\":{\"value\":\"#1f77b4\"},\"size\":{\"value\":10},\"x\":{\"field\":\"x\"},\"y\":{\"field\":\"y\"}},\"id\":\"6332\",\"type\":\"Circle\"},{\"attributes\":{},\"id\":\"6603\",\"type\":\"Selection\"},{\"attributes\":{},\"id\":\"6326\",\"type\":\"BasicTicker\"},{\"attributes\":{\"data_source\":{\"id\":\"6336\"},\"glyph\":{\"id\":\"6337\"},\"hover_glyph\":null,\"muted_glyph\":null,\"nonselection_glyph\":{\"id\":\"6338\"},\"view\":{\"id\":\"6340\"}},\"id\":\"6339\",\"type\":\"GlyphRenderer\"},{\"attributes\":{\"data\":{\"x\":[1,2,3,4,5],\"y\":[4,5,5,7,2]},\"selected\":{\"id\":\"6603\"},\"selection_policy\":{\"id\":\"6604\"}},\"id\":\"6331\",\"type\":\"ColumnDataSource\"},{\"attributes\":{\"active_multi\":null,\"tools\":[{\"id\":\"6311\"}]},\"id\":\"6329\",\"type\":\"Toolbar\"},{\"attributes\":{\"data\":{\"x\":[1,2,3,4,5],\"y\":[4,5,5,7,2]},\"selected\":{\"id\":\"6605\"},\"selection_policy\":{\"id\":\"6606\"}},\"id\":\"6336\",\"type\":\"ColumnDataSource\"},{\"attributes\":{},\"id\":\"6600\",\"type\":\"AllLabels\"},{\"attributes\":{\"text_color\":\"#5B5B5B\",\"text_font\":\"Calibri Light\",\"text_font_size\":\"1.25em\",\"text_font_style\":\"bold\"},\"id\":\"6595\",\"type\":\"Title\"},{\"attributes\":{},\"id\":\"6605\",\"type\":\"Selection\"},{\"attributes\":{},\"id\":\"6602\",\"type\":\"BasicTickFormatter\"},{\"attributes\":{},\"id\":\"6606\",\"type\":\"UnionRenderers\"},{\"attributes\":{},\"id\":\"6317\",\"type\":\"LinearScale\"},{\"attributes\":{},\"id\":\"6597\",\"type\":\"AllLabels\"},{\"attributes\":{\"line_color\":\"#1f77b4\",\"line_width\":2,\"x\":{\"field\":\"x\"},\"y\":{\"field\":\"y\"}},\"id\":\"6337\",\"type\":\"Line\"},{\"attributes\":{},\"id\":\"6599\",\"type\":\"BasicTickFormatter\"},{\"attributes\":{\"line_alpha\":0.1,\"line_color\":\"#1f77b4\",\"line_width\":2,\"x\":{\"field\":\"x\"},\"y\":{\"field\":\"y\"}},\"id\":\"6338\",\"type\":\"Line\"},{\"attributes\":{\"source\":{\"id\":\"6336\"}},\"id\":\"6340\",\"type\":\"CDSView\"}],\"root_ids\":[\"6312\"]},\"title\":\"Bokeh Application\",\"version\":\"2.3.3\"}};\n",
       "  var render_items = [{\"docid\":\"ef09eb5c-8b6d-44de-87a9-7f0dbecfd330\",\"root_ids\":[\"6312\"],\"roots\":{\"6312\":\"de6c7c91-f9e5-4a29-ba65-c2ea004094c3\"}}];\n",
       "  root.Bokeh.embed.embed_items_notebook(docs_json, render_items);\n",
       "\n",
       "  }\n",
       "  if (root.Bokeh !== undefined) {\n",
       "    embed_document(root);\n",
       "  } else {\n",
       "    var attempts = 0;\n",
       "    var timer = setInterval(function(root) {\n",
       "      if (root.Bokeh !== undefined) {\n",
       "        clearInterval(timer);\n",
       "        embed_document(root);\n",
       "      } else {\n",
       "        attempts++;\n",
       "        if (attempts > 100) {\n",
       "          clearInterval(timer);\n",
       "          console.log(\"Bokeh: ERROR: Unable to run BokehJS code because BokehJS library is missing\");\n",
       "        }\n",
       "      }\n",
       "    }, 10, root)\n",
       "  }\n",
       "})(window);"
      ],
      "application/vnd.bokehjs_exec.v0+json": ""
     },
     "metadata": {
      "application/vnd.bokehjs_exec.v0+json": {
       "id": "6312"
      }
     },
     "output_type": "display_data"
    }
   ],
   "source": [
    "from bokeh.models import HoverTool\n",
    "\n",
    "# prepare some data\n",
    "x = [1, 2, 3, 4, 5]\n",
    "y = [4, 5, 5, 7, 2]\n",
    "\n",
    "p = figure(\n",
    "    y_range=(0, 10),\n",
    "    toolbar_location=None,\n",
    "    tools=[HoverTool()],\n",
    "    tooltips=\"Data point @x has the value @y\",\n",
    "    sizing_mode=\"stretch_width\",\n",
    "    max_width=500,\n",
    "    height=250,\n",
    ")\n",
    "\n",
    "# add renderers\n",
    "p.circle(x, y, size=10)\n",
    "p.line(x, y, line_width=2)\n",
    "\n",
    "# show the results\n",
    "show(p)"
   ]
  },
  {
   "cell_type": "markdown",
   "id": "a82f1647",
   "metadata": {},
   "source": [
    "The user guide contains much more information on using the hover tool to create tooltips. See Basic Tooltips for more details. More information is also available at the entry for HoverTool in the reference guide."
   ]
  },
  {
   "cell_type": "markdown",
   "id": "724c965a",
   "metadata": {},
   "source": [
    "# First steps 5: Vectorizing glyph properties\n",
    "In the previous first steps guide, you customized various aspects of your plot by adding and changing attributes.\n",
    "\n",
    "In this section, you will use vectors of data to influence aspects of your plot and its elements.\n",
    "\n",
    "## Vectorizing colors\n",
    "So far, you have assigned specific colors to a glyph by using properties such as fill_color.\n",
    "\n",
    "To change colors depending on values in a variable, pass a variable containing color information to the fill_color attribute:\n"
   ]
  },
  {
   "cell_type": "code",
   "execution_count": 26,
   "id": "a354d979",
   "metadata": {},
   "outputs": [
    {
     "data": {
      "text/html": [
       "\n",
       "    <div class=\"bk-root\">\n",
       "        <a href=\"https://bokeh.org\" target=\"_blank\" class=\"bk-logo bk-logo-small bk-logo-notebook\"></a>\n",
       "        <span id=\"6710\">Loading BokehJS ...</span>\n",
       "    </div>"
      ]
     },
     "metadata": {},
     "output_type": "display_data"
    },
    {
     "data": {
      "application/javascript": [
       "\n",
       "(function(root) {\n",
       "  function now() {\n",
       "    return new Date();\n",
       "  }\n",
       "\n",
       "  var force = true;\n",
       "\n",
       "  if (typeof root._bokeh_onload_callbacks === \"undefined\" || force === true) {\n",
       "    root._bokeh_onload_callbacks = [];\n",
       "    root._bokeh_is_loading = undefined;\n",
       "  }\n",
       "\n",
       "  var JS_MIME_TYPE = 'application/javascript';\n",
       "  var HTML_MIME_TYPE = 'text/html';\n",
       "  var EXEC_MIME_TYPE = 'application/vnd.bokehjs_exec.v0+json';\n",
       "  var CLASS_NAME = 'output_bokeh rendered_html';\n",
       "\n",
       "  /**\n",
       "   * Render data to the DOM node\n",
       "   */\n",
       "  function render(props, node) {\n",
       "    var script = document.createElement(\"script\");\n",
       "    node.appendChild(script);\n",
       "  }\n",
       "\n",
       "  /**\n",
       "   * Handle when an output is cleared or removed\n",
       "   */\n",
       "  function handleClearOutput(event, handle) {\n",
       "    var cell = handle.cell;\n",
       "\n",
       "    var id = cell.output_area._bokeh_element_id;\n",
       "    var server_id = cell.output_area._bokeh_server_id;\n",
       "    // Clean up Bokeh references\n",
       "    if (id != null && id in Bokeh.index) {\n",
       "      Bokeh.index[id].model.document.clear();\n",
       "      delete Bokeh.index[id];\n",
       "    }\n",
       "\n",
       "    if (server_id !== undefined) {\n",
       "      // Clean up Bokeh references\n",
       "      var cmd = \"from bokeh.io.state import curstate; print(curstate().uuid_to_server['\" + server_id + \"'].get_sessions()[0].document.roots[0]._id)\";\n",
       "      cell.notebook.kernel.execute(cmd, {\n",
       "        iopub: {\n",
       "          output: function(msg) {\n",
       "            var id = msg.content.text.trim();\n",
       "            if (id in Bokeh.index) {\n",
       "              Bokeh.index[id].model.document.clear();\n",
       "              delete Bokeh.index[id];\n",
       "            }\n",
       "          }\n",
       "        }\n",
       "      });\n",
       "      // Destroy server and session\n",
       "      var cmd = \"import bokeh.io.notebook as ion; ion.destroy_server('\" + server_id + \"')\";\n",
       "      cell.notebook.kernel.execute(cmd);\n",
       "    }\n",
       "  }\n",
       "\n",
       "  /**\n",
       "   * Handle when a new output is added\n",
       "   */\n",
       "  function handleAddOutput(event, handle) {\n",
       "    var output_area = handle.output_area;\n",
       "    var output = handle.output;\n",
       "\n",
       "    // limit handleAddOutput to display_data with EXEC_MIME_TYPE content only\n",
       "    if ((output.output_type != \"display_data\") || (!Object.prototype.hasOwnProperty.call(output.data, EXEC_MIME_TYPE))) {\n",
       "      return\n",
       "    }\n",
       "\n",
       "    var toinsert = output_area.element.find(\".\" + CLASS_NAME.split(' ')[0]);\n",
       "\n",
       "    if (output.metadata[EXEC_MIME_TYPE][\"id\"] !== undefined) {\n",
       "      toinsert[toinsert.length - 1].firstChild.textContent = output.data[JS_MIME_TYPE];\n",
       "      // store reference to embed id on output_area\n",
       "      output_area._bokeh_element_id = output.metadata[EXEC_MIME_TYPE][\"id\"];\n",
       "    }\n",
       "    if (output.metadata[EXEC_MIME_TYPE][\"server_id\"] !== undefined) {\n",
       "      var bk_div = document.createElement(\"div\");\n",
       "      bk_div.innerHTML = output.data[HTML_MIME_TYPE];\n",
       "      var script_attrs = bk_div.children[0].attributes;\n",
       "      for (var i = 0; i < script_attrs.length; i++) {\n",
       "        toinsert[toinsert.length - 1].firstChild.setAttribute(script_attrs[i].name, script_attrs[i].value);\n",
       "        toinsert[toinsert.length - 1].firstChild.textContent = bk_div.children[0].textContent\n",
       "      }\n",
       "      // store reference to server id on output_area\n",
       "      output_area._bokeh_server_id = output.metadata[EXEC_MIME_TYPE][\"server_id\"];\n",
       "    }\n",
       "  }\n",
       "\n",
       "  function register_renderer(events, OutputArea) {\n",
       "\n",
       "    function append_mime(data, metadata, element) {\n",
       "      // create a DOM node to render to\n",
       "      var toinsert = this.create_output_subarea(\n",
       "        metadata,\n",
       "        CLASS_NAME,\n",
       "        EXEC_MIME_TYPE\n",
       "      );\n",
       "      this.keyboard_manager.register_events(toinsert);\n",
       "      // Render to node\n",
       "      var props = {data: data, metadata: metadata[EXEC_MIME_TYPE]};\n",
       "      render(props, toinsert[toinsert.length - 1]);\n",
       "      element.append(toinsert);\n",
       "      return toinsert\n",
       "    }\n",
       "\n",
       "    /* Handle when an output is cleared or removed */\n",
       "    events.on('clear_output.CodeCell', handleClearOutput);\n",
       "    events.on('delete.Cell', handleClearOutput);\n",
       "\n",
       "    /* Handle when a new output is added */\n",
       "    events.on('output_added.OutputArea', handleAddOutput);\n",
       "\n",
       "    /**\n",
       "     * Register the mime type and append_mime function with output_area\n",
       "     */\n",
       "    OutputArea.prototype.register_mime_type(EXEC_MIME_TYPE, append_mime, {\n",
       "      /* Is output safe? */\n",
       "      safe: true,\n",
       "      /* Index of renderer in `output_area.display_order` */\n",
       "      index: 0\n",
       "    });\n",
       "  }\n",
       "\n",
       "  // register the mime type if in Jupyter Notebook environment and previously unregistered\n",
       "  if (root.Jupyter !== undefined) {\n",
       "    var events = require('base/js/events');\n",
       "    var OutputArea = require('notebook/js/outputarea').OutputArea;\n",
       "\n",
       "    if (OutputArea.prototype.mime_types().indexOf(EXEC_MIME_TYPE) == -1) {\n",
       "      register_renderer(events, OutputArea);\n",
       "    }\n",
       "  }\n",
       "\n",
       "  \n",
       "  if (typeof (root._bokeh_timeout) === \"undefined\" || force === true) {\n",
       "    root._bokeh_timeout = Date.now() + 5000;\n",
       "    root._bokeh_failed_load = false;\n",
       "  }\n",
       "\n",
       "  var NB_LOAD_WARNING = {'data': {'text/html':\n",
       "     \"<div style='background-color: #fdd'>\\n\"+\n",
       "     \"<p>\\n\"+\n",
       "     \"BokehJS does not appear to have successfully loaded. If loading BokehJS from CDN, this \\n\"+\n",
       "     \"may be due to a slow or bad network connection. Possible fixes:\\n\"+\n",
       "     \"</p>\\n\"+\n",
       "     \"<ul>\\n\"+\n",
       "     \"<li>re-rerun `output_notebook()` to attempt to load from CDN again, or</li>\\n\"+\n",
       "     \"<li>use INLINE resources instead, as so:</li>\\n\"+\n",
       "     \"</ul>\\n\"+\n",
       "     \"<code>\\n\"+\n",
       "     \"from bokeh.resources import INLINE\\n\"+\n",
       "     \"output_notebook(resources=INLINE)\\n\"+\n",
       "     \"</code>\\n\"+\n",
       "     \"</div>\"}};\n",
       "\n",
       "  function display_loaded() {\n",
       "    var el = document.getElementById(\"6710\");\n",
       "    if (el != null) {\n",
       "      el.textContent = \"BokehJS is loading...\";\n",
       "    }\n",
       "    if (root.Bokeh !== undefined) {\n",
       "      if (el != null) {\n",
       "        el.textContent = \"BokehJS \" + root.Bokeh.version + \" successfully loaded.\";\n",
       "      }\n",
       "    } else if (Date.now() < root._bokeh_timeout) {\n",
       "      setTimeout(display_loaded, 100)\n",
       "    }\n",
       "  }\n",
       "\n",
       "\n",
       "  function run_callbacks() {\n",
       "    try {\n",
       "      root._bokeh_onload_callbacks.forEach(function(callback) {\n",
       "        if (callback != null)\n",
       "          callback();\n",
       "      });\n",
       "    } finally {\n",
       "      delete root._bokeh_onload_callbacks\n",
       "    }\n",
       "    console.debug(\"Bokeh: all callbacks have finished\");\n",
       "  }\n",
       "\n",
       "  function load_libs(css_urls, js_urls, callback) {\n",
       "    if (css_urls == null) css_urls = [];\n",
       "    if (js_urls == null) js_urls = [];\n",
       "\n",
       "    root._bokeh_onload_callbacks.push(callback);\n",
       "    if (root._bokeh_is_loading > 0) {\n",
       "      console.debug(\"Bokeh: BokehJS is being loaded, scheduling callback at\", now());\n",
       "      return null;\n",
       "    }\n",
       "    if (js_urls == null || js_urls.length === 0) {\n",
       "      run_callbacks();\n",
       "      return null;\n",
       "    }\n",
       "    console.debug(\"Bokeh: BokehJS not loaded, scheduling load and callback at\", now());\n",
       "    root._bokeh_is_loading = css_urls.length + js_urls.length;\n",
       "\n",
       "    function on_load() {\n",
       "      root._bokeh_is_loading--;\n",
       "      if (root._bokeh_is_loading === 0) {\n",
       "        console.debug(\"Bokeh: all BokehJS libraries/stylesheets loaded\");\n",
       "        run_callbacks()\n",
       "      }\n",
       "    }\n",
       "\n",
       "    function on_error(url) {\n",
       "      console.error(\"failed to load \" + url);\n",
       "    }\n",
       "\n",
       "    for (let i = 0; i < css_urls.length; i++) {\n",
       "      const url = css_urls[i];\n",
       "      const element = document.createElement(\"link\");\n",
       "      element.onload = on_load;\n",
       "      element.onerror = on_error.bind(null, url);\n",
       "      element.rel = \"stylesheet\";\n",
       "      element.type = \"text/css\";\n",
       "      element.href = url;\n",
       "      console.debug(\"Bokeh: injecting link tag for BokehJS stylesheet: \", url);\n",
       "      document.body.appendChild(element);\n",
       "    }\n",
       "\n",
       "    const hashes = {\"https://cdn.bokeh.org/bokeh/release/bokeh-2.3.3.min.js\": \"dM3QQsP+wXdHg42wTqW85BjZQdLNNIXqlPw/BgKoExPmTG7ZLML4EGqLMfqHT6ON\", \"https://cdn.bokeh.org/bokeh/release/bokeh-tables-2.3.3.min.js\": \"8x57I4YuIfu8XyZfFo0XVr2WAT8EK4rh/uDe3wF7YuW2FNUSNEpJbsPaB1nJ2fz2\", \"https://cdn.bokeh.org/bokeh/release/bokeh-widgets-2.3.3.min.js\": \"3QTqdz9LyAm2i0sG5XTePsHec3UHWwVsrOL68SYRoAXsafvfAyqtQ+h440+qIBhS\"};\n",
       "\n",
       "    for (let i = 0; i < js_urls.length; i++) {\n",
       "      const url = js_urls[i];\n",
       "      const element = document.createElement('script');\n",
       "      element.onload = on_load;\n",
       "      element.onerror = on_error.bind(null, url);\n",
       "      element.async = false;\n",
       "      element.src = url;\n",
       "      if (url in hashes) {\n",
       "        element.crossOrigin = \"anonymous\";\n",
       "        element.integrity = \"sha384-\" + hashes[url];\n",
       "      }\n",
       "      console.debug(\"Bokeh: injecting script tag for BokehJS library: \", url);\n",
       "      document.head.appendChild(element);\n",
       "    }\n",
       "  };\n",
       "\n",
       "  function inject_raw_css(css) {\n",
       "    const element = document.createElement(\"style\");\n",
       "    element.appendChild(document.createTextNode(css));\n",
       "    document.body.appendChild(element);\n",
       "  }\n",
       "\n",
       "  \n",
       "  var js_urls = [\"https://cdn.bokeh.org/bokeh/release/bokeh-2.3.3.min.js\", \"https://cdn.bokeh.org/bokeh/release/bokeh-widgets-2.3.3.min.js\", \"https://cdn.bokeh.org/bokeh/release/bokeh-tables-2.3.3.min.js\"];\n",
       "  var css_urls = [];\n",
       "  \n",
       "\n",
       "  var inline_js = [\n",
       "    function(Bokeh) {\n",
       "      Bokeh.set_log_level(\"info\");\n",
       "    },\n",
       "    function(Bokeh) {\n",
       "    \n",
       "    \n",
       "    }\n",
       "  ];\n",
       "\n",
       "  function run_inline_js() {\n",
       "    \n",
       "    if (root.Bokeh !== undefined || force === true) {\n",
       "      \n",
       "    for (var i = 0; i < inline_js.length; i++) {\n",
       "      inline_js[i].call(root, root.Bokeh);\n",
       "    }\n",
       "    if (force === true) {\n",
       "        display_loaded();\n",
       "      }} else if (Date.now() < root._bokeh_timeout) {\n",
       "      setTimeout(run_inline_js, 100);\n",
       "    } else if (!root._bokeh_failed_load) {\n",
       "      console.log(\"Bokeh: BokehJS failed to load within specified timeout.\");\n",
       "      root._bokeh_failed_load = true;\n",
       "    } else if (force !== true) {\n",
       "      var cell = $(document.getElementById(\"6710\")).parents('.cell').data().cell;\n",
       "      cell.output_area.append_execute_result(NB_LOAD_WARNING)\n",
       "    }\n",
       "\n",
       "  }\n",
       "\n",
       "  if (root._bokeh_is_loading === 0) {\n",
       "    console.debug(\"Bokeh: BokehJS loaded, going straight to plotting\");\n",
       "    run_inline_js();\n",
       "  } else {\n",
       "    load_libs(css_urls, js_urls, function() {\n",
       "      console.debug(\"Bokeh: BokehJS plotting callback run at\", now());\n",
       "      run_inline_js();\n",
       "    });\n",
       "  }\n",
       "}(window));"
      ],
      "application/vnd.bokehjs_load.v0+json": "\n(function(root) {\n  function now() {\n    return new Date();\n  }\n\n  var force = true;\n\n  if (typeof root._bokeh_onload_callbacks === \"undefined\" || force === true) {\n    root._bokeh_onload_callbacks = [];\n    root._bokeh_is_loading = undefined;\n  }\n\n  \n\n  \n  if (typeof (root._bokeh_timeout) === \"undefined\" || force === true) {\n    root._bokeh_timeout = Date.now() + 5000;\n    root._bokeh_failed_load = false;\n  }\n\n  var NB_LOAD_WARNING = {'data': {'text/html':\n     \"<div style='background-color: #fdd'>\\n\"+\n     \"<p>\\n\"+\n     \"BokehJS does not appear to have successfully loaded. If loading BokehJS from CDN, this \\n\"+\n     \"may be due to a slow or bad network connection. Possible fixes:\\n\"+\n     \"</p>\\n\"+\n     \"<ul>\\n\"+\n     \"<li>re-rerun `output_notebook()` to attempt to load from CDN again, or</li>\\n\"+\n     \"<li>use INLINE resources instead, as so:</li>\\n\"+\n     \"</ul>\\n\"+\n     \"<code>\\n\"+\n     \"from bokeh.resources import INLINE\\n\"+\n     \"output_notebook(resources=INLINE)\\n\"+\n     \"</code>\\n\"+\n     \"</div>\"}};\n\n  function display_loaded() {\n    var el = document.getElementById(\"6710\");\n    if (el != null) {\n      el.textContent = \"BokehJS is loading...\";\n    }\n    if (root.Bokeh !== undefined) {\n      if (el != null) {\n        el.textContent = \"BokehJS \" + root.Bokeh.version + \" successfully loaded.\";\n      }\n    } else if (Date.now() < root._bokeh_timeout) {\n      setTimeout(display_loaded, 100)\n    }\n  }\n\n\n  function run_callbacks() {\n    try {\n      root._bokeh_onload_callbacks.forEach(function(callback) {\n        if (callback != null)\n          callback();\n      });\n    } finally {\n      delete root._bokeh_onload_callbacks\n    }\n    console.debug(\"Bokeh: all callbacks have finished\");\n  }\n\n  function load_libs(css_urls, js_urls, callback) {\n    if (css_urls == null) css_urls = [];\n    if (js_urls == null) js_urls = [];\n\n    root._bokeh_onload_callbacks.push(callback);\n    if (root._bokeh_is_loading > 0) {\n      console.debug(\"Bokeh: BokehJS is being loaded, scheduling callback at\", now());\n      return null;\n    }\n    if (js_urls == null || js_urls.length === 0) {\n      run_callbacks();\n      return null;\n    }\n    console.debug(\"Bokeh: BokehJS not loaded, scheduling load and callback at\", now());\n    root._bokeh_is_loading = css_urls.length + js_urls.length;\n\n    function on_load() {\n      root._bokeh_is_loading--;\n      if (root._bokeh_is_loading === 0) {\n        console.debug(\"Bokeh: all BokehJS libraries/stylesheets loaded\");\n        run_callbacks()\n      }\n    }\n\n    function on_error(url) {\n      console.error(\"failed to load \" + url);\n    }\n\n    for (let i = 0; i < css_urls.length; i++) {\n      const url = css_urls[i];\n      const element = document.createElement(\"link\");\n      element.onload = on_load;\n      element.onerror = on_error.bind(null, url);\n      element.rel = \"stylesheet\";\n      element.type = \"text/css\";\n      element.href = url;\n      console.debug(\"Bokeh: injecting link tag for BokehJS stylesheet: \", url);\n      document.body.appendChild(element);\n    }\n\n    const hashes = {\"https://cdn.bokeh.org/bokeh/release/bokeh-2.3.3.min.js\": \"dM3QQsP+wXdHg42wTqW85BjZQdLNNIXqlPw/BgKoExPmTG7ZLML4EGqLMfqHT6ON\", \"https://cdn.bokeh.org/bokeh/release/bokeh-tables-2.3.3.min.js\": \"8x57I4YuIfu8XyZfFo0XVr2WAT8EK4rh/uDe3wF7YuW2FNUSNEpJbsPaB1nJ2fz2\", \"https://cdn.bokeh.org/bokeh/release/bokeh-widgets-2.3.3.min.js\": \"3QTqdz9LyAm2i0sG5XTePsHec3UHWwVsrOL68SYRoAXsafvfAyqtQ+h440+qIBhS\"};\n\n    for (let i = 0; i < js_urls.length; i++) {\n      const url = js_urls[i];\n      const element = document.createElement('script');\n      element.onload = on_load;\n      element.onerror = on_error.bind(null, url);\n      element.async = false;\n      element.src = url;\n      if (url in hashes) {\n        element.crossOrigin = \"anonymous\";\n        element.integrity = \"sha384-\" + hashes[url];\n      }\n      console.debug(\"Bokeh: injecting script tag for BokehJS library: \", url);\n      document.head.appendChild(element);\n    }\n  };\n\n  function inject_raw_css(css) {\n    const element = document.createElement(\"style\");\n    element.appendChild(document.createTextNode(css));\n    document.body.appendChild(element);\n  }\n\n  \n  var js_urls = [\"https://cdn.bokeh.org/bokeh/release/bokeh-2.3.3.min.js\", \"https://cdn.bokeh.org/bokeh/release/bokeh-widgets-2.3.3.min.js\", \"https://cdn.bokeh.org/bokeh/release/bokeh-tables-2.3.3.min.js\"];\n  var css_urls = [];\n  \n\n  var inline_js = [\n    function(Bokeh) {\n      Bokeh.set_log_level(\"info\");\n    },\n    function(Bokeh) {\n    \n    \n    }\n  ];\n\n  function run_inline_js() {\n    \n    if (root.Bokeh !== undefined || force === true) {\n      \n    for (var i = 0; i < inline_js.length; i++) {\n      inline_js[i].call(root, root.Bokeh);\n    }\n    if (force === true) {\n        display_loaded();\n      }} else if (Date.now() < root._bokeh_timeout) {\n      setTimeout(run_inline_js, 100);\n    } else if (!root._bokeh_failed_load) {\n      console.log(\"Bokeh: BokehJS failed to load within specified timeout.\");\n      root._bokeh_failed_load = true;\n    } else if (force !== true) {\n      var cell = $(document.getElementById(\"6710\")).parents('.cell').data().cell;\n      cell.output_area.append_execute_result(NB_LOAD_WARNING)\n    }\n\n  }\n\n  if (root._bokeh_is_loading === 0) {\n    console.debug(\"Bokeh: BokehJS loaded, going straight to plotting\");\n    run_inline_js();\n  } else {\n    load_libs(css_urls, js_urls, function() {\n      console.debug(\"Bokeh: BokehJS plotting callback run at\", now());\n      run_inline_js();\n    });\n  }\n}(window));"
     },
     "metadata": {},
     "output_type": "display_data"
    },
    {
     "data": {
      "text/html": [
       "\n",
       "\n",
       "\n",
       "\n",
       "\n",
       "\n",
       "  <div class=\"bk-root\" id=\"f8fec375-1c06-4581-9824-d46a60bb17bd\" data-root-id=\"6667\"></div>\n"
      ]
     },
     "metadata": {},
     "output_type": "display_data"
    },
    {
     "data": {
      "application/javascript": [
       "(function(root) {\n",
       "  function embed_document(root) {\n",
       "    \n",
       "  var docs_json = {\"181a011c-b394-4ef4-a06d-b5cb384a3354\":{\"defs\":[],\"roots\":{\"references\":[{\"attributes\":{\"below\":[{\"id\":\"6678\"}],\"center\":[{\"id\":\"6681\"},{\"id\":\"6685\"}],\"height\":250,\"left\":[{\"id\":\"6682\"}],\"max_width\":500,\"renderers\":[{\"id\":\"6703\"},{\"id\":\"6708\"}],\"sizing_mode\":\"stretch_width\",\"title\":{\"id\":\"6668\"},\"toolbar\":{\"id\":\"6693\"},\"x_range\":{\"id\":\"6670\"},\"x_scale\":{\"id\":\"6674\"},\"y_range\":{\"id\":\"6672\"},\"y_scale\":{\"id\":\"6676\"}},\"id\":\"6667\",\"subtype\":\"Figure\",\"type\":\"Plot\"},{\"attributes\":{\"data\":{\"fill_color\":[\"#ff1fff\",\"#ff14ff\",\"#ff78ff\",\"#fffaff\",\"#ff03ff\",\"#ff99ff\",\"#ff21ff\",\"#ff59ff\",\"#ff61ff\",\"#ff52ff\",\"#ff40ff\",\"#ffd1ff\",\"#ffebff\",\"#ff08ff\",\"#ffccff\",\"#ff73ff\",\"#ff1aff\",\"#ff54ff\",\"#ffa1ff\",\"#ff70ff\",\"#ff8cff\",\"#ffbdff\",\"#ffe8ff\",\"#ff87ff\",\"#ffb0ff\",\"#ffa8ff\"],\"x\":[0,1,2,3,4,5,6,7,8,9,10,11,12,13,14,15,16,17,18,19,20,21,22,23,24,25],\"y\":[12,8,47,98,1,60,13,35,38,32,25,82,92,3,80,45,10,33,63,44,55,74,91,53,69,66]},\"selected\":{\"id\":\"6986\"},\"selection_policy\":{\"id\":\"6987\"}},\"id\":\"6705\",\"type\":\"ColumnDataSource\"},{\"attributes\":{\"fill_color\":{\"field\":\"fill_color\"},\"line_color\":{\"value\":\"blue\"},\"size\":{\"value\":15},\"x\":{\"field\":\"x\"},\"y\":{\"field\":\"y\"}},\"id\":\"6706\",\"type\":\"Circle\"},{\"attributes\":{\"text\":\"Vectorized colors example\",\"text_color\":\"#5B5B5B\",\"text_font\":\"Calibri Light\",\"text_font_size\":\"1.25em\",\"text_font_style\":\"bold\"},\"id\":\"6668\",\"type\":\"Title\"},{\"attributes\":{\"data_source\":{\"id\":\"6700\"},\"glyph\":{\"id\":\"6701\"},\"hover_glyph\":null,\"muted_glyph\":null,\"nonselection_glyph\":{\"id\":\"6702\"},\"view\":{\"id\":\"6704\"}},\"id\":\"6703\",\"type\":\"GlyphRenderer\"},{\"attributes\":{\"bottom_units\":\"screen\",\"fill_alpha\":0.5,\"fill_color\":\"lightgrey\",\"left_units\":\"screen\",\"level\":\"overlay\",\"line_alpha\":1.0,\"line_color\":\"black\",\"line_dash\":[4,4],\"line_width\":2,\"right_units\":\"screen\",\"syncable\":false,\"top_units\":\"screen\"},\"id\":\"6692\",\"type\":\"BoxAnnotation\"},{\"attributes\":{\"line_color\":\"blue\",\"x\":{\"field\":\"x\"},\"y\":{\"field\":\"y\"}},\"id\":\"6701\",\"type\":\"Line\"},{\"attributes\":{\"data\":{\"x\":[0,1,2,3,4,5,6,7,8,9,10,11,12,13,14,15,16,17,18,19,20,21,22,23,24,25],\"y\":[12,8,47,98,1,60,13,35,38,32,25,82,92,3,80,45,10,33,63,44,55,74,91,53,69,66]},\"selected\":{\"id\":\"6984\"},\"selection_policy\":{\"id\":\"6985\"}},\"id\":\"6700\",\"type\":\"ColumnDataSource\"},{\"attributes\":{},\"id\":\"6670\",\"type\":\"DataRange1d\"},{\"attributes\":{},\"id\":\"6676\",\"type\":\"LinearScale\"},{\"attributes\":{},\"id\":\"6978\",\"type\":\"AllLabels\"},{\"attributes\":{\"overlay\":{\"id\":\"6692\"}},\"id\":\"6688\",\"type\":\"BoxZoomTool\"},{\"attributes\":{},\"id\":\"6672\",\"type\":\"DataRange1d\"},{\"attributes\":{},\"id\":\"6984\",\"type\":\"Selection\"},{\"attributes\":{},\"id\":\"6674\",\"type\":\"LinearScale\"},{\"attributes\":{},\"id\":\"6985\",\"type\":\"UnionRenderers\"},{\"attributes\":{\"axis_label_standoff\":10,\"axis_label_text_color\":\"#5B5B5B\",\"axis_label_text_font\":\"Calibri Light\",\"axis_label_text_font_size\":\"1.15em\",\"axis_label_text_font_style\":\"bold\",\"axis_line_alpha\":1,\"axis_line_color\":\"#5B5B5B\",\"formatter\":{\"id\":\"6980\"},\"major_label_policy\":{\"id\":\"6978\"},\"major_label_text_color\":\"#5B5B5B\",\"major_label_text_font\":\"Calibri Light\",\"major_label_text_font_size\":\"0.95em\",\"major_label_text_font_style\":\"bold\",\"major_tick_in\":0,\"major_tick_line_alpha\":0.25,\"major_tick_line_color\":\"#5B5B5B\",\"major_tick_out\":3,\"minor_tick_line_alpha\":0.25,\"minor_tick_line_color\":\"#5B5B5B\",\"ticker\":{\"id\":\"6679\"}},\"id\":\"6678\",\"type\":\"LinearAxis\"},{\"attributes\":{},\"id\":\"6679\",\"type\":\"BasicTicker\"},{\"attributes\":{},\"id\":\"6980\",\"type\":\"BasicTickFormatter\"},{\"attributes\":{\"axis\":{\"id\":\"6678\"},\"ticker\":null},\"id\":\"6681\",\"type\":\"Grid\"},{\"attributes\":{\"axis_label_standoff\":10,\"axis_label_text_color\":\"#5B5B5B\",\"axis_label_text_font\":\"Calibri Light\",\"axis_label_text_font_size\":\"1.15em\",\"axis_label_text_font_style\":\"bold\",\"axis_line_alpha\":1,\"axis_line_color\":\"#5B5B5B\",\"formatter\":{\"id\":\"6983\"},\"major_label_policy\":{\"id\":\"6981\"},\"major_label_text_color\":\"#5B5B5B\",\"major_label_text_font\":\"Calibri Light\",\"major_label_text_font_size\":\"0.95em\",\"major_label_text_font_style\":\"bold\",\"major_tick_in\":0,\"major_tick_line_alpha\":0.25,\"major_tick_line_color\":\"#5B5B5B\",\"major_tick_out\":3,\"minor_tick_line_alpha\":0.25,\"minor_tick_line_color\":\"#5B5B5B\",\"ticker\":{\"id\":\"6683\"}},\"id\":\"6682\",\"type\":\"LinearAxis\"},{\"attributes\":{},\"id\":\"6691\",\"type\":\"HelpTool\"},{\"attributes\":{\"axis\":{\"id\":\"6682\"},\"dimension\":1,\"ticker\":null},\"id\":\"6685\",\"type\":\"Grid\"},{\"attributes\":{\"active_multi\":null,\"tools\":[{\"id\":\"6686\"},{\"id\":\"6687\"},{\"id\":\"6688\"},{\"id\":\"6689\"},{\"id\":\"6690\"},{\"id\":\"6691\"}]},\"id\":\"6693\",\"type\":\"Toolbar\"},{\"attributes\":{},\"id\":\"6683\",\"type\":\"BasicTicker\"},{\"attributes\":{},\"id\":\"6687\",\"type\":\"WheelZoomTool\"},{\"attributes\":{\"data_source\":{\"id\":\"6705\"},\"glyph\":{\"id\":\"6706\"},\"hover_glyph\":null,\"muted_glyph\":null,\"nonselection_glyph\":{\"id\":\"6707\"},\"view\":{\"id\":\"6709\"}},\"id\":\"6708\",\"type\":\"GlyphRenderer\"},{\"attributes\":{},\"id\":\"6686\",\"type\":\"PanTool\"},{\"attributes\":{},\"id\":\"6987\",\"type\":\"UnionRenderers\"},{\"attributes\":{},\"id\":\"6689\",\"type\":\"SaveTool\"},{\"attributes\":{\"fill_alpha\":{\"value\":0.1},\"fill_color\":{\"field\":\"fill_color\"},\"line_alpha\":{\"value\":0.1},\"line_color\":{\"value\":\"blue\"},\"size\":{\"value\":15},\"x\":{\"field\":\"x\"},\"y\":{\"field\":\"y\"}},\"id\":\"6707\",\"type\":\"Circle\"},{\"attributes\":{},\"id\":\"6986\",\"type\":\"Selection\"},{\"attributes\":{\"source\":{\"id\":\"6700\"}},\"id\":\"6704\",\"type\":\"CDSView\"},{\"attributes\":{},\"id\":\"6690\",\"type\":\"ResetTool\"},{\"attributes\":{\"line_alpha\":0.1,\"line_color\":\"blue\",\"x\":{\"field\":\"x\"},\"y\":{\"field\":\"y\"}},\"id\":\"6702\",\"type\":\"Line\"},{\"attributes\":{},\"id\":\"6981\",\"type\":\"AllLabels\"},{\"attributes\":{},\"id\":\"6983\",\"type\":\"BasicTickFormatter\"},{\"attributes\":{\"source\":{\"id\":\"6705\"}},\"id\":\"6709\",\"type\":\"CDSView\"}],\"root_ids\":[\"6667\"]},\"title\":\"Bokeh Application\",\"version\":\"2.3.3\"}};\n",
       "  var render_items = [{\"docid\":\"181a011c-b394-4ef4-a06d-b5cb384a3354\",\"root_ids\":[\"6667\"],\"roots\":{\"6667\":\"f8fec375-1c06-4581-9824-d46a60bb17bd\"}}];\n",
       "  root.Bokeh.embed.embed_items_notebook(docs_json, render_items);\n",
       "\n",
       "  }\n",
       "  if (root.Bokeh !== undefined) {\n",
       "    embed_document(root);\n",
       "  } else {\n",
       "    var attempts = 0;\n",
       "    var timer = setInterval(function(root) {\n",
       "      if (root.Bokeh !== undefined) {\n",
       "        clearInterval(timer);\n",
       "        embed_document(root);\n",
       "      } else {\n",
       "        attempts++;\n",
       "        if (attempts > 100) {\n",
       "          clearInterval(timer);\n",
       "          console.log(\"Bokeh: ERROR: Unable to run BokehJS code because BokehJS library is missing\");\n",
       "        }\n",
       "      }\n",
       "    }, 10, root)\n",
       "  }\n",
       "})(window);"
      ],
      "application/vnd.bokehjs_exec.v0+json": ""
     },
     "metadata": {
      "application/vnd.bokehjs_exec.v0+json": {
       "id": "6667"
      }
     },
     "output_type": "display_data"
    }
   ],
   "source": [
    "import random\n",
    "\n",
    "# generate some data (1-10 for x, random values for y)\n",
    "x = list(range(0, 26))\n",
    "y = random.sample(range(0, 100), 26)\n",
    "\n",
    "# generate list of rgb hex colors in relation to y\n",
    "colors = [\"#%02x%02x%02x\" % (255, int(round(value * 255 / 100)), 255) for value in y]\n",
    "\n",
    "# create new plot\n",
    "p = figure(\n",
    "    title=\"Vectorized colors example\",\n",
    "    sizing_mode=\"stretch_width\",\n",
    "    max_width=500,\n",
    "    height=250,\n",
    ")\n",
    "\n",
    "# add circle and line renderers\n",
    "line = p.line(x, y, line_color=\"blue\", line_width=1)\n",
    "circle = p.circle(x, y, fill_color=colors, line_color=\"blue\", size=15)\n",
    "\n",
    "# show the results\n",
    "output_notebook()\n",
    "show(p)"
   ]
  },
  {
   "cell_type": "markdown",
   "id": "9fd976c7",
   "metadata": {},
   "source": [
    "In this example, the color of every circle corresponds to the y value of that circle.\n",
    "\n",
    "For more information on how to map data points to colors and color palettes, see Using mappers in the user guide.\n",
    "\n",
    "## Vectorizing colors and sizes\n",
    "To create a plot with colors and sizes in relation to your data, apply the same principle to the radius argument of your renderer:\n"
   ]
  },
  {
   "cell_type": "code",
   "execution_count": 27,
   "id": "29b5f46e",
   "metadata": {},
   "outputs": [
    {
     "data": {
      "text/html": [
       "\n",
       "\n",
       "\n",
       "\n",
       "\n",
       "\n",
       "  <div class=\"bk-root\" id=\"8bb91648-5c5d-4fe0-b414-cb21b3ca395b\" data-root-id=\"7049\"></div>\n"
      ]
     },
     "metadata": {},
     "output_type": "display_data"
    },
    {
     "data": {
      "application/javascript": [
       "(function(root) {\n",
       "  function embed_document(root) {\n",
       "    \n",
       "  var docs_json = {\"b4937e7a-d0a5-47b8-8369-f20cdf6f4759\":{\"defs\":[],\"roots\":{\"references\":[{\"attributes\":{\"below\":[{\"id\":\"7060\"}],\"center\":[{\"id\":\"7063\"},{\"id\":\"7067\"}],\"height\":250,\"left\":[{\"id\":\"7064\"}],\"max_width\":500,\"renderers\":[{\"id\":\"7085\"}],\"sizing_mode\":\"stretch_width\",\"title\":{\"id\":\"7050\"},\"toolbar\":{\"id\":\"7075\"},\"x_range\":{\"id\":\"7052\"},\"x_scale\":{\"id\":\"7056\"},\"y_range\":{\"id\":\"7054\"},\"y_scale\":{\"id\":\"7058\"}},\"id\":\"7049\",\"subtype\":\"Figure\",\"type\":\"Plot\"},{\"attributes\":{},\"id\":\"7058\",\"type\":\"LinearScale\"},{\"attributes\":{},\"id\":\"7069\",\"type\":\"WheelZoomTool\"},{\"attributes\":{},\"id\":\"7073\",\"type\":\"HelpTool\"},{\"attributes\":{},\"id\":\"7369\",\"type\":\"AllLabels\"},{\"attributes\":{},\"id\":\"7054\",\"type\":\"DataRange1d\"},{\"attributes\":{\"axis_label_standoff\":10,\"axis_label_text_color\":\"#5B5B5B\",\"axis_label_text_font\":\"Calibri Light\",\"axis_label_text_font_size\":\"1.15em\",\"axis_label_text_font_style\":\"bold\",\"axis_line_alpha\":1,\"axis_line_color\":\"#5B5B5B\",\"formatter\":{\"id\":\"7371\"},\"major_label_policy\":{\"id\":\"7369\"},\"major_label_text_color\":\"#5B5B5B\",\"major_label_text_font\":\"Calibri Light\",\"major_label_text_font_size\":\"0.95em\",\"major_label_text_font_style\":\"bold\",\"major_tick_in\":0,\"major_tick_line_alpha\":0.25,\"major_tick_line_color\":\"#5B5B5B\",\"major_tick_out\":3,\"minor_tick_line_alpha\":0.25,\"minor_tick_line_color\":\"#5B5B5B\",\"ticker\":{\"id\":\"7065\"}},\"id\":\"7064\",\"type\":\"LinearAxis\"},{\"attributes\":{},\"id\":\"7371\",\"type\":\"BasicTickFormatter\"},{\"attributes\":{},\"id\":\"7056\",\"type\":\"LinearScale\"},{\"attributes\":{\"axis_label_standoff\":10,\"axis_label_text_color\":\"#5B5B5B\",\"axis_label_text_font\":\"Calibri Light\",\"axis_label_text_font_size\":\"1.15em\",\"axis_label_text_font_style\":\"bold\",\"axis_line_alpha\":1,\"axis_line_color\":\"#5B5B5B\",\"formatter\":{\"id\":\"7368\"},\"major_label_policy\":{\"id\":\"7366\"},\"major_label_text_color\":\"#5B5B5B\",\"major_label_text_font\":\"Calibri Light\",\"major_label_text_font_size\":\"0.95em\",\"major_label_text_font_style\":\"bold\",\"major_tick_in\":0,\"major_tick_line_alpha\":0.25,\"major_tick_line_color\":\"#5B5B5B\",\"major_tick_out\":3,\"minor_tick_line_alpha\":0.25,\"minor_tick_line_color\":\"#5B5B5B\",\"ticker\":{\"id\":\"7061\"}},\"id\":\"7060\",\"type\":\"LinearAxis\"},{\"attributes\":{},\"id\":\"7061\",\"type\":\"BasicTicker\"},{\"attributes\":{\"axis\":{\"id\":\"7060\"},\"ticker\":null},\"id\":\"7063\",\"type\":\"Grid\"},{\"attributes\":{\"axis\":{\"id\":\"7064\"},\"dimension\":1,\"ticker\":null},\"id\":\"7067\",\"type\":\"Grid\"},{\"attributes\":{},\"id\":\"7065\",\"type\":\"BasicTicker\"},{\"attributes\":{},\"id\":\"7068\",\"type\":\"PanTool\"},{\"attributes\":{\"overlay\":{\"id\":\"7074\"}},\"id\":\"7070\",\"type\":\"BoxZoomTool\"},{\"attributes\":{},\"id\":\"7071\",\"type\":\"SaveTool\"},{\"attributes\":{},\"id\":\"7072\",\"type\":\"ResetTool\"},{\"attributes\":{},\"id\":\"7373\",\"type\":\"UnionRenderers\"},{\"attributes\":{},\"id\":\"7368\",\"type\":\"BasicTickFormatter\"},{\"attributes\":{},\"id\":\"7372\",\"type\":\"Selection\"},{\"attributes\":{},\"id\":\"7366\",\"type\":\"AllLabels\"},{\"attributes\":{\"fill_alpha\":{\"value\":0.1},\"fill_color\":{\"field\":\"fill_color\"},\"line_alpha\":{\"value\":0.1},\"line_color\":{\"value\":\"lightgrey\"},\"radius\":{\"field\":\"radius\"},\"x\":{\"field\":\"x\"},\"y\":{\"field\":\"y\"}},\"id\":\"7084\",\"type\":\"Circle\"},{\"attributes\":{\"source\":{\"id\":\"7082\"}},\"id\":\"7086\",\"type\":\"CDSView\"},{\"attributes\":{\"bottom_units\":\"screen\",\"fill_alpha\":0.5,\"fill_color\":\"lightgrey\",\"left_units\":\"screen\",\"level\":\"overlay\",\"line_alpha\":1.0,\"line_color\":\"black\",\"line_dash\":[4,4],\"line_width\":2,\"right_units\":\"screen\",\"syncable\":false,\"top_units\":\"screen\"},\"id\":\"7074\",\"type\":\"BoxAnnotation\"},{\"attributes\":{\"text\":\"Vectorized colors and radii example\",\"text_color\":\"#5B5B5B\",\"text_font\":\"Calibri Light\",\"text_font_size\":\"1.25em\",\"text_font_style\":\"bold\"},\"id\":\"7050\",\"type\":\"Title\"},{\"attributes\":{\"data\":{\"fill_color\":[\"#ffe6ff\",\"#ff47ff\",\"#fff7ff\",\"#fff2ff\",\"#ff10ff\",\"#ffe8ff\",\"#ff3bff\",\"#ffc0ff\",\"#ffd9ff\",\"#ff2fff\",\"#ff58ff\",\"#ffdfff\",\"#ff58ff\",\"#ffffff\",\"#ffcdff\",\"#ff83ff\",\"#ffadff\",\"#ffc5ff\",\"#ff0cff\",\"#ffe3ff\",\"#ffc3ff\",\"#ff23ff\",\"#fff2ff\",\"#ffb3ff\",\"#ff2eff\",\"#ff6cff\",\"#ffd4ff\",\"#ff86ff\",\"#ffa2ff\",\"#fff5ff\",\"#ff86ff\",\"#ff75ff\",\"#fff5ff\",\"#ff02ff\",\"#ff3fff\",\"#ffa0ff\",\"#fff9ff\",\"#ffb0ff\",\"#ff49ff\",\"#ffa5ff\",\"#ff6eff\",\"#ff62ff\",\"#ffadff\",\"#ff07ff\",\"#ff81ff\",\"#ff94ff\",\"#ffaeff\",\"#ff17ff\",\"#ff82ff\",\"#ff75ff\",\"#ff68ff\",\"#ff76ff\",\"#ffd8ff\",\"#ff1eff\",\"#ffafff\",\"#ff0fff\",\"#ff88ff\",\"#ff25ff\",\"#ffc9ff\",\"#ff6aff\",\"#ff26ff\",\"#ff51ff\",\"#ffafff\",\"#ffa1ff\",\"#ff7cff\",\"#ff3dff\",\"#ff42ff\",\"#ffbfff\",\"#ff2dff\",\"#ffb3ff\",\"#ffacff\",\"#ffe0ff\",\"#ffa4ff\",\"#ffc6ff\",\"#ff71ff\",\"#ffa8ff\",\"#ff3fff\",\"#ff78ff\",\"#ff26ff\",\"#ff1aff\",\"#ff8eff\",\"#ffe5ff\",\"#ffabff\",\"#ff94ff\",\"#fff4ff\",\"#ff65ff\",\"#ff5eff\",\"#fff3ff\",\"#ff67ff\",\"#ff12ff\",\"#ffb4ff\",\"#ff8eff\",\"#ff71ff\",\"#ff77ff\",\"#ff06ff\",\"#ff2aff\",\"#ff49ff\",\"#ff3bff\",\"#ff80ff\",\"#ffb6ff\",\"#ff26ff\",\"#ff65ff\",\"#ff5cff\",\"#ff24ff\",\"#ff66ff\",\"#ffbcff\",\"#ffc9ff\",\"#ffe1ff\",\"#ffcfff\",\"#ff2dff\",\"#ff68ff\",\"#ff9bff\",\"#ff06ff\",\"#ff1dff\",\"#ff5fff\",\"#ff0fff\",\"#ff17ff\",\"#ff1cff\",\"#ff62ff\",\"#ff24ff\",\"#ffc6ff\",\"#ff1fff\",\"#ffa7ff\",\"#ff88ff\",\"#ff83ff\",\"#ff69ff\",\"#ff0eff\",\"#ffc3ff\",\"#ffdcff\",\"#ffadff\",\"#ff65ff\",\"#ff63ff\",\"#ffb5ff\",\"#ff49ff\",\"#ffeaff\",\"#ff54ff\",\"#ff29ff\",\"#ff60ff\",\"#ff2cff\",\"#ff2aff\",\"#ffdaff\",\"#ff98ff\",\"#ff3dff\",\"#ffe7ff\",\"#ff2bff\",\"#ffd5ff\",\"#ff1eff\",\"#ff6bff\",\"#ff15ff\",\"#fffdff\",\"#ffa8ff\",\"#ffc2ff\",\"#ff3bff\",\"#ff42ff\",\"#ffb3ff\",\"#ff3cff\",\"#ffd7ff\",\"#ff92ff\",\"#ff93ff\",\"#ff32ff\",\"#ff9dff\",\"#ffe0ff\",\"#ff83ff\",\"#ffd1ff\",\"#ff98ff\",\"#ff24ff\",\"#ffe5ff\",\"#ffccff\",\"#ffc0ff\",\"#ff8cff\",\"#ffc4ff\",\"#ff35ff\",\"#ffc9ff\",\"#ff94ff\",\"#ff7cff\",\"#ff92ff\",\"#ff49ff\",\"#ff3cff\",\"#ff49ff\",\"#ff11ff\",\"#ff82ff\",\"#ff82ff\",\"#ff51ff\",\"#ff23ff\",\"#ffccff\",\"#ff51ff\",\"#ff01ff\",\"#ffb6ff\",\"#ffedff\",\"#ff94ff\",\"#ffabff\",\"#ffdeff\",\"#ff80ff\",\"#fffaff\",\"#ff8dff\",\"#fffbff\",\"#ff8dff\",\"#ff90ff\",\"#ffc9ff\",\"#ff72ff\",\"#ff64ff\",\"#ffddff\",\"#ff7aff\",\"#ff41ff\",\"#ffcbff\",\"#fff7ff\",\"#ff83ff\",\"#ff06ff\",\"#ff3cff\",\"#ff07ff\",\"#ff05ff\",\"#ff5fff\",\"#ffe5ff\",\"#ff88ff\",\"#ffa6ff\",\"#ff4cff\",\"#ff68ff\",\"#ff9bff\",\"#ff28ff\",\"#ff61ff\",\"#ff02ff\",\"#ffc1ff\",\"#ff46ff\",\"#ff37ff\",\"#ff8aff\",\"#ff56ff\",\"#ff96ff\",\"#fffaff\",\"#ff03ff\",\"#ffedff\",\"#ff2cff\",\"#ff87ff\",\"#ffe4ff\",\"#ff14ff\",\"#ffb7ff\",\"#ff5bff\",\"#ff62ff\",\"#ffaeff\",\"#ff28ff\",\"#ffa0ff\",\"#ff10ff\",\"#ff6fff\",\"#ff51ff\",\"#ff43ff\",\"#ff22ff\",\"#ff4fff\",\"#ff67ff\",\"#ff82ff\",\"#fff2ff\",\"#ff2dff\",\"#ff92ff\",\"#ff33ff\",\"#ff02ff\",\"#ff64ff\",\"#ff5fff\",\"#ff0fff\",\"#ff5eff\",\"#ff03ff\",\"#ff35ff\",\"#ff03ff\",\"#fff3ff\",\"#ff03ff\",\"#ff67ff\",\"#ff77ff\",\"#ff37ff\",\"#ffeaff\",\"#ffbfff\",\"#ff22ff\",\"#ffbaff\",\"#ffe7ff\",\"#ff37ff\",\"#ffc2ff\",\"#ffe6ff\",\"#ff5fff\",\"#ff2dff\",\"#ff9cff\",\"#ff4eff\",\"#fff6ff\",\"#ff42ff\",\"#ff46ff\",\"#ff5cff\",\"#ff3fff\",\"#ff53ff\",\"#ff6fff\",\"#ffd4ff\",\"#ffe1ff\",\"#ffa5ff\",\"#ffe3ff\",\"#ff8fff\",\"#ff1bff\",\"#ffadff\",\"#ff0eff\",\"#ffcbff\",\"#ffd2ff\",\"#ff46ff\",\"#ffa7ff\",\"#ffd9ff\",\"#ff72ff\",\"#ff5fff\",\"#ff98ff\",\"#ffa6ff\",\"#ff95ff\",\"#ff15ff\",\"#ffdcff\",\"#fff8ff\",\"#ffd5ff\",\"#ff41ff\",\"#ff77ff\",\"#ffa8ff\",\"#ff1aff\",\"#fffaff\",\"#ff69ff\",\"#ff81ff\",\"#fffcff\",\"#ff28ff\",\"#ffadff\",\"#ff44ff\",\"#ffc0ff\",\"#ff30ff\",\"#ffe9ff\",\"#ffc6ff\",\"#ff20ff\",\"#ff84ff\",\"#ff76ff\",\"#ff49ff\",\"#ffbaff\",\"#fff6ff\",\"#ff3bff\",\"#ff81ff\",\"#ff6aff\",\"#ff31ff\",\"#ff54ff\",\"#ff08ff\",\"#ff74ff\",\"#ffe8ff\",\"#ff9eff\",\"#ffa7ff\",\"#ff02ff\",\"#ff65ff\",\"#ff81ff\",\"#ff64ff\",\"#ff0cff\",\"#ff7cff\",\"#fffbff\",\"#ff43ff\",\"#ff31ff\",\"#ffcdff\",\"#ffe0ff\",\"#fff0ff\",\"#ffdcff\",\"#ff63ff\",\"#ff44ff\",\"#ffc8ff\",\"#ffadff\",\"#ff41ff\",\"#ffbdff\",\"#fff7ff\",\"#ff12ff\",\"#ff07ff\",\"#ffcaff\",\"#ff3bff\",\"#ff34ff\",\"#ffc0ff\",\"#ffe2ff\",\"#ff72ff\",\"#ffbdff\",\"#ff3cff\",\"#ffceff\",\"#fff0ff\",\"#ff78ff\",\"#ff9dff\",\"#ff1dff\",\"#ff73ff\",\"#ff60ff\",\"#ff10ff\",\"#ff83ff\",\"#ff7cff\",\"#ffe5ff\",\"#ff93ff\",\"#ff78ff\",\"#ff67ff\",\"#ffb9ff\",\"#ff9dff\",\"#ff53ff\",\"#ffadff\",\"#ff53ff\",\"#ff21ff\",\"#ff3aff\",\"#ff15ff\",\"#ffbeff\",\"#ff44ff\",\"#ffe8ff\",\"#ff41ff\",\"#ff2dff\",\"#ff45ff\",\"#ff79ff\",\"#ff5eff\",\"#ff5fff\",\"#ff9cff\",\"#ff1fff\",\"#ff9fff\",\"#ff22ff\",\"#ffa2ff\",\"#fff3ff\",\"#ff16ff\",\"#ff64ff\",\"#ff90ff\",\"#ff04ff\",\"#ff30ff\",\"#ff11ff\",\"#ff43ff\",\"#ffe5ff\",\"#ff53ff\",\"#ff1cff\",\"#ff28ff\",\"#ff9fff\",\"#ffdfff\",\"#ff08ff\",\"#ff6dff\",\"#ff2fff\",\"#ffe4ff\",\"#ffeeff\",\"#ff0cff\",\"#ff8aff\",\"#ffafff\",\"#ff3cff\",\"#fff3ff\",\"#ff55ff\",\"#fff8ff\",\"#ffc0ff\",\"#ff9fff\",\"#ffb0ff\",\"#ff22ff\",\"#ff42ff\",\"#ff98ff\",\"#ff49ff\",\"#ff4eff\",\"#ff50ff\",\"#fff1ff\",\"#ff0fff\",\"#ffb5ff\",\"#ffb7ff\",\"#fff2ff\",\"#ff88ff\",\"#ff1aff\",\"#ff30ff\",\"#ffb5ff\",\"#ffa3ff\",\"#ffa7ff\",\"#ffb9ff\",\"#ff32ff\",\"#ffe2ff\",\"#ff6cff\",\"#ffc4ff\",\"#ff54ff\",\"#ffc2ff\",\"#fff6ff\",\"#ff8bff\",\"#ff5bff\",\"#ffedff\",\"#ff22ff\",\"#ff51ff\",\"#fff0ff\",\"#ffc1ff\",\"#fffeff\",\"#ff10ff\",\"#ff97ff\",\"#ffa5ff\",\"#ff0eff\",\"#ff74ff\",\"#ff44ff\",\"#ff8aff\",\"#ff19ff\",\"#ffceff\",\"#ffceff\",\"#ff31ff\",\"#ffcfff\",\"#ff0aff\",\"#ffdfff\",\"#ff87ff\",\"#ffd9ff\",\"#ffcbff\",\"#ff28ff\",\"#ff51ff\",\"#ff9aff\",\"#ffe8ff\",\"#ff86ff\",\"#ff6bff\",\"#fff7ff\",\"#ff3aff\",\"#ff3eff\",\"#ff22ff\",\"#ff94ff\",\"#ff26ff\",\"#ff47ff\",\"#ff94ff\",\"#ffd1ff\",\"#ffd4ff\",\"#ff4eff\",\"#ffc3ff\",\"#ff98ff\",\"#ff78ff\",\"#ffe6ff\",\"#fff3ff\",\"#ff10ff\",\"#ff65ff\",\"#ff77ff\",\"#ff4dff\",\"#ff37ff\",\"#ffcfff\",\"#ffe1ff\",\"#ff64ff\",\"#ff94ff\",\"#ff57ff\",\"#ffdbff\",\"#ff43ff\",\"#ffa5ff\",\"#ff84ff\",\"#ff9dff\",\"#ff50ff\",\"#ff85ff\",\"#ffe0ff\",\"#ffceff\",\"#ff08ff\",\"#ff93ff\",\"#ffb6ff\",\"#ff8aff\",\"#ff1dff\",\"#ffb8ff\",\"#ff39ff\",\"#ff76ff\",\"#ffd9ff\",\"#ffc2ff\",\"#ff28ff\",\"#ff8eff\",\"#ffbeff\",\"#fff2ff\",\"#ff3fff\",\"#ff56ff\",\"#ff14ff\",\"#ff07ff\",\"#ff18ff\",\"#ff42ff\",\"#ff50ff\",\"#ff32ff\",\"#ffc5ff\",\"#ffecff\",\"#ff86ff\",\"#ff7aff\",\"#ff0fff\",\"#ff17ff\",\"#ff23ff\",\"#ff46ff\",\"#ffbeff\",\"#ffb9ff\",\"#fffeff\",\"#ff0bff\",\"#ffefff\",\"#fffeff\",\"#ff9fff\",\"#ff56ff\",\"#ff1aff\",\"#ffbfff\",\"#ff1eff\",\"#ff97ff\",\"#ff36ff\",\"#fffdff\",\"#ff41ff\",\"#ff02ff\",\"#ff9aff\",\"#ff94ff\",\"#ff46ff\",\"#ff31ff\",\"#ff7eff\",\"#ffc4ff\",\"#fff4ff\",\"#ff64ff\",\"#ff5eff\",\"#ffa6ff\",\"#ffe5ff\",\"#ffa2ff\",\"#ffa7ff\",\"#ffa2ff\",\"#ff0bff\",\"#ffd9ff\",\"#ffb4ff\",\"#ffa8ff\",\"#ff90ff\",\"#ff56ff\",\"#ffb1ff\",\"#ffa4ff\",\"#ff13ff\",\"#ff12ff\",\"#ff91ff\",\"#ffe1ff\",\"#ff8fff\",\"#ff43ff\",\"#ffe4ff\",\"#ffd3ff\",\"#ff3bff\",\"#ffa7ff\",\"#ffe4ff\",\"#ffb8ff\",\"#ff5eff\",\"#ffbcff\",\"#ff56ff\",\"#ff04ff\",\"#ff9fff\",\"#ff8fff\",\"#ff09ff\",\"#ff6eff\",\"#ff96ff\",\"#ff9aff\",\"#ffa5ff\",\"#ffcbff\",\"#ff10ff\",\"#ff7aff\",\"#ff87ff\",\"#ff54ff\",\"#ff94ff\",\"#ff30ff\",\"#fff4ff\",\"#ff9cff\",\"#ff6aff\",\"#ff5fff\",\"#ffe0ff\",\"#ff92ff\",\"#ff75ff\",\"#ff19ff\",\"#ff5bff\",\"#ff4dff\",\"#ff62ff\",\"#ffffff\",\"#ff55ff\",\"#fffeff\",\"#ff6aff\",\"#ff20ff\",\"#ff3cff\",\"#ffb0ff\",\"#ffc0ff\",\"#ff58ff\",\"#ffbdff\",\"#ffebff\",\"#ff3eff\",\"#ff07ff\",\"#ff7aff\",\"#ff8bff\",\"#ff2eff\",\"#ffb3ff\",\"#ff68ff\",\"#ff9eff\",\"#ffc0ff\",\"#ffa5ff\",\"#ffc8ff\",\"#ff90ff\",\"#ff46ff\",\"#ffd3ff\",\"#ff3aff\",\"#ffd8ff\",\"#ffcbff\",\"#ff0eff\",\"#ff21ff\",\"#ffcfff\",\"#ff9cff\",\"#ffe7ff\",\"#ffb8ff\",\"#ff43ff\",\"#ffe4ff\",\"#ff38ff\",\"#ff51ff\",\"#ff82ff\",\"#ffbdff\",\"#ffc0ff\",\"#ff67ff\",\"#ff7bff\",\"#ff25ff\",\"#ff48ff\",\"#ff51ff\",\"#ffb2ff\",\"#ffc2ff\",\"#ffa1ff\",\"#ff19ff\",\"#ff12ff\",\"#ffc5ff\",\"#ffeeff\",\"#ff40ff\",\"#ff41ff\",\"#ffdbff\",\"#ff1bff\",\"#ff6eff\",\"#ff00ff\",\"#ffe3ff\",\"#ffb5ff\",\"#ffe3ff\",\"#ffd1ff\",\"#ffb2ff\",\"#fff6ff\",\"#ffefff\",\"#ff02ff\",\"#ff59ff\",\"#ff6bff\",\"#ff21ff\",\"#ff4fff\",\"#ffc4ff\",\"#ff5fff\",\"#ff5dff\",\"#fff8ff\",\"#ff08ff\",\"#ffd3ff\",\"#ff8bff\",\"#ffabff\",\"#ff8dff\",\"#ffcfff\",\"#ff51ff\",\"#ff2eff\",\"#ff65ff\",\"#ff9cff\",\"#ff70ff\",\"#ff53ff\",\"#fff1ff\",\"#ffe6ff\",\"#ffc8ff\",\"#ff6fff\",\"#ffeeff\",\"#ffbbff\",\"#ffc5ff\",\"#ffe3ff\",\"#fffbff\",\"#ffefff\",\"#ffd5ff\",\"#ff1eff\",\"#ff3bff\",\"#ffc7ff\",\"#ff13ff\",\"#fff3ff\",\"#ff25ff\",\"#ff98ff\",\"#fffdff\",\"#ffd9ff\",\"#ff7cff\",\"#ff7aff\",\"#ff87ff\",\"#ff74ff\",\"#ff2dff\",\"#ff47ff\",\"#ff3aff\",\"#ff68ff\",\"#ff4aff\",\"#ff71ff\",\"#ff91ff\",\"#ff2cff\",\"#ff97ff\",\"#ff2fff\",\"#ff4aff\",\"#ffd0ff\",\"#fff5ff\",\"#ffa6ff\",\"#ff9dff\",\"#ff13ff\",\"#ffefff\",\"#ffa8ff\",\"#ff0aff\",\"#ffaaff\",\"#ff0cff\",\"#ff7fff\",\"#ffd8ff\",\"#ff43ff\",\"#ff03ff\",\"#ff62ff\",\"#ffbeff\",\"#ffd8ff\",\"#ffbdff\",\"#ffceff\",\"#ffc0ff\",\"#ff26ff\",\"#ff09ff\",\"#ffe9ff\",\"#fff6ff\",\"#ff43ff\",\"#ffc8ff\",\"#ffc9ff\",\"#ffbaff\",\"#ffddff\",\"#ff9bff\",\"#ffc7ff\",\"#ffb3ff\",\"#ffedff\",\"#ffbdff\",\"#ff29ff\",\"#ffb6ff\",\"#ff25ff\",\"#ff56ff\",\"#ff73ff\",\"#ff15ff\",\"#ffe5ff\",\"#ff55ff\",\"#fffbff\",\"#ffd4ff\",\"#ffa8ff\",\"#ff0fff\",\"#ff9aff\",\"#ff6aff\",\"#ffabff\",\"#fff3ff\",\"#ffcdff\",\"#ffe2ff\",\"#ff8aff\",\"#ffc2ff\",\"#ffe4ff\",\"#ff8dff\",\"#ffefff\",\"#ffc8ff\",\"#ffe4ff\",\"#ffd5ff\",\"#ff52ff\",\"#fff8ff\",\"#ff22ff\",\"#ffa2ff\",\"#ff32ff\",\"#ffedff\",\"#ff25ff\",\"#ffa6ff\",\"#ff2aff\",\"#ff17ff\",\"#ff7cff\",\"#ff36ff\",\"#ff6cff\",\"#ff28ff\",\"#ff8dff\",\"#ff8bff\",\"#ff6cff\",\"#ffbaff\",\"#ffd6ff\",\"#ffbfff\",\"#ff6fff\",\"#ff26ff\",\"#ff1dff\",\"#ff89ff\",\"#fff1ff\",\"#ff27ff\",\"#ff7bff\",\"#ffd8ff\",\"#ff4dff\",\"#ff87ff\",\"#ff7cff\",\"#ff32ff\",\"#ff13ff\",\"#fff0ff\",\"#ffaeff\",\"#ffdcff\",\"#fff1ff\",\"#ffc2ff\",\"#ffb5ff\",\"#ffd4ff\",\"#ff9dff\",\"#ff93ff\",\"#ffc5ff\",\"#ff58ff\",\"#ffa4ff\",\"#ff6bff\",\"#ff18ff\",\"#ff28ff\",\"#ffeeff\",\"#ffccff\",\"#ffeeff\",\"#fff2ff\",\"#ff6cff\",\"#ffb4ff\",\"#ffebff\",\"#ff69ff\",\"#ffadff\",\"#ff0cff\",\"#ffafff\",\"#ff97ff\",\"#ff86ff\",\"#ff96ff\",\"#ff66ff\",\"#ff18ff\",\"#ff9aff\",\"#ff91ff\",\"#ff29ff\",\"#ff79ff\",\"#ffddff\",\"#ff15ff\",\"#ff22ff\",\"#ff5cff\",\"#ff24ff\",\"#ffccff\",\"#ff56ff\",\"#ff21ff\",\"#ff75ff\",\"#ff48ff\",\"#ff06ff\",\"#ffafff\",\"#ff20ff\",\"#ffd4ff\",\"#fff8ff\",\"#ff21ff\",\"#ffe8ff\",\"#ff2bff\",\"#ff7dff\",\"#ffc3ff\",\"#ff11ff\",\"#ff10ff\",\"#ff35ff\",\"#ff81ff\",\"#ff85ff\",\"#ff65ff\",\"#ffedff\",\"#ff4aff\",\"#ff47ff\",\"#ffaaff\",\"#ffc9ff\",\"#ffbcff\",\"#ffd0ff\",\"#ff21ff\",\"#ff68ff\",\"#ffcfff\",\"#ff60ff\",\"#ff48ff\",\"#ffa5ff\",\"#ffc5ff\",\"#ff6fff\",\"#ff7eff\",\"#ffbdff\",\"#ff65ff\",\"#ff68ff\",\"#ff36ff\",\"#ff4eff\",\"#fffbff\",\"#ff41ff\",\"#ffbeff\",\"#ff42ff\",\"#ff44ff\",\"#ff9aff\",\"#ff18ff\",\"#ffb8ff\",\"#ff52ff\",\"#ff3eff\",\"#ffd2ff\",\"#ffefff\",\"#ff49ff\",\"#ff1aff\",\"#ff2dff\",\"#ff22ff\",\"#ff54ff\",\"#ffb4ff\",\"#ff24ff\",\"#ff2cff\",\"#ff6aff\",\"#ffbdff\",\"#ff48ff\",\"#ffdcff\",\"#ffdfff\",\"#ff6eff\",\"#ff4fff\",\"#ff15ff\",\"#ff27ff\",\"#ff72ff\",\"#ff08ff\",\"#ff05ff\",\"#ffc5ff\",\"#ffdeff\",\"#ff84ff\",\"#ff75ff\",\"#ffc8ff\",\"#ffb8ff\",\"#ffcbff\",\"#ffa3ff\",\"#ff98ff\",\"#ff74ff\",\"#ff8dff\",\"#ff78ff\",\"#ffefff\",\"#ff77ff\",\"#ff75ff\",\"#ff14ff\",\"#ffffff\",\"#ff62ff\",\"#ffe4ff\",\"#ffe5ff\",\"#ffe3ff\",\"#ffb8ff\",\"#ffd0ff\",\"#ff5eff\",\"#ff3bff\",\"#ffbcff\",\"#ff7fff\",\"#ff85ff\",\"#ff92ff\",\"#ff2cff\",\"#ffa8ff\",\"#ffeaff\",\"#ff73ff\",\"#ff2cff\",\"#ff99ff\",\"#ff84ff\",\"#fffaff\",\"#ff81ff\",\"#ff55ff\"],\"radius\":{\"__ndarray__\":\"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\",\"dtype\":\"float64\",\"order\":\"little\",\"shape\":[1000]},\"x\":{\"__ndarray__\":\"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\",\"dtype\":\"float64\",\"order\":\"little\",\"shape\":[1000]},\"y\":{\"__ndarray__\":\"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\",\"dtype\":\"float64\",\"order\":\"little\",\"shape\":[1000]}},\"selected\":{\"id\":\"7372\"},\"selection_policy\":{\"id\":\"7373\"}},\"id\":\"7082\",\"type\":\"ColumnDataSource\"},{\"attributes\":{\"data_source\":{\"id\":\"7082\"},\"glyph\":{\"id\":\"7083\"},\"hover_glyph\":null,\"muted_glyph\":null,\"nonselection_glyph\":{\"id\":\"7084\"},\"view\":{\"id\":\"7086\"}},\"id\":\"7085\",\"type\":\"GlyphRenderer\"},{\"attributes\":{\"fill_alpha\":{\"value\":0.6},\"fill_color\":{\"field\":\"fill_color\"},\"line_color\":{\"value\":\"lightgrey\"},\"radius\":{\"field\":\"radius\"},\"x\":{\"field\":\"x\"},\"y\":{\"field\":\"y\"}},\"id\":\"7083\",\"type\":\"Circle\"},{\"attributes\":{\"active_multi\":null,\"tools\":[{\"id\":\"7068\"},{\"id\":\"7069\"},{\"id\":\"7070\"},{\"id\":\"7071\"},{\"id\":\"7072\"},{\"id\":\"7073\"}]},\"id\":\"7075\",\"type\":\"Toolbar\"},{\"attributes\":{},\"id\":\"7052\",\"type\":\"DataRange1d\"}],\"root_ids\":[\"7049\"]},\"title\":\"Bokeh Application\",\"version\":\"2.3.3\"}};\n",
       "  var render_items = [{\"docid\":\"b4937e7a-d0a5-47b8-8369-f20cdf6f4759\",\"root_ids\":[\"7049\"],\"roots\":{\"7049\":\"8bb91648-5c5d-4fe0-b414-cb21b3ca395b\"}}];\n",
       "  root.Bokeh.embed.embed_items_notebook(docs_json, render_items);\n",
       "\n",
       "  }\n",
       "  if (root.Bokeh !== undefined) {\n",
       "    embed_document(root);\n",
       "  } else {\n",
       "    var attempts = 0;\n",
       "    var timer = setInterval(function(root) {\n",
       "      if (root.Bokeh !== undefined) {\n",
       "        clearInterval(timer);\n",
       "        embed_document(root);\n",
       "      } else {\n",
       "        attempts++;\n",
       "        if (attempts > 100) {\n",
       "          clearInterval(timer);\n",
       "          console.log(\"Bokeh: ERROR: Unable to run BokehJS code because BokehJS library is missing\");\n",
       "        }\n",
       "      }\n",
       "    }, 10, root)\n",
       "  }\n",
       "})(window);"
      ],
      "application/vnd.bokehjs_exec.v0+json": ""
     },
     "metadata": {
      "application/vnd.bokehjs_exec.v0+json": {
       "id": "7049"
      }
     },
     "output_type": "display_data"
    }
   ],
   "source": [
    "import numpy as np\n",
    "\n",
    "# generate some data\n",
    "N = 1000\n",
    "x = np.random.random(size=N) * 100\n",
    "y = np.random.random(size=N) * 100\n",
    "\n",
    "# generate radii and colors based on data\n",
    "radii = y / 100 * 2\n",
    "colors = [\"#%02x%02x%02x\" % (255, int(round(value * 255 / 100)), 255) for value in y]\n",
    "\n",
    "# create a new plot with a specific size\n",
    "p = figure(\n",
    "    title=\"Vectorized colors and radii example\",\n",
    "    sizing_mode=\"stretch_width\",\n",
    "    max_width=500,\n",
    "    height=250,\n",
    ")\n",
    "\n",
    "# add circle renderer\n",
    "p.circle(\n",
    "    x,\n",
    "    y,\n",
    "    radius=radii,\n",
    "    fill_color=colors,\n",
    "    fill_alpha=0.6,\n",
    "    line_color=\"lightgrey\",\n",
    ")\n",
    "\n",
    "# show the results\n",
    "show(p)"
   ]
  },
  {
   "cell_type": "markdown",
   "id": "3d56f211",
   "metadata": {},
   "source": [
    "\n",
    "In this example, the color and diameter of every circle correspond to the y value of that circle.\n",
    "\n",
    "Color mapping with palettes\n",
    "Bokeh comes with dozens of pre-defined color palettes that you can use to map colors to your data. This includes palettes from Brewer, D3, or Matplotlib. See palettes for a list of all available palettes.\n",
    "\n",
    "First, use the linear_cmap() function to create a color map for your data. The required attributes for this function are:\n",
    "- field_name: the data sequence to map colors to\n",
    "- palette: the palette to use\n",
    "- low: the lowest value to map a color to\n",
    "- high: the highest value to map a color to\n",
    "\n",
    "Then assign your color mapper to the color parameter of your renderer:"
   ]
  },
  {
   "cell_type": "code",
   "execution_count": 28,
   "id": "4e87a83f",
   "metadata": {},
   "outputs": [
    {
     "data": {
      "text/html": [
       "\n",
       "\n",
       "\n",
       "\n",
       "\n",
       "\n",
       "  <div class=\"bk-root\" id=\"3e004342-5d1d-4891-aed0-8d20db60de4e\" data-root-id=\"7426\"></div>\n"
      ]
     },
     "metadata": {},
     "output_type": "display_data"
    },
    {
     "data": {
      "application/javascript": [
       "(function(root) {\n",
       "  function embed_document(root) {\n",
       "    \n",
       "  var docs_json = {\"a38c3fcd-d948-45a6-8971-c4ede226435e\":{\"defs\":[],\"roots\":{\"references\":[{\"attributes\":{\"below\":[{\"id\":\"7435\"}],\"center\":[{\"id\":\"7438\"},{\"id\":\"7442\"}],\"height\":250,\"left\":[{\"id\":\"7439\"}],\"renderers\":[{\"id\":\"7460\"}],\"title\":{\"id\":\"7750\"},\"toolbar\":{\"id\":\"7450\"},\"width\":500,\"x_range\":{\"id\":\"7427\"},\"x_scale\":{\"id\":\"7431\"},\"y_range\":{\"id\":\"7429\"},\"y_scale\":{\"id\":\"7433\"}},\"id\":\"7426\",\"subtype\":\"Figure\",\"type\":\"Plot\"},{\"attributes\":{},\"id\":\"7752\",\"type\":\"AllLabels\"},{\"attributes\":{\"bottom_units\":\"screen\",\"fill_alpha\":0.5,\"fill_color\":\"lightgrey\",\"left_units\":\"screen\",\"level\":\"overlay\",\"line_alpha\":1.0,\"line_color\":\"black\",\"line_dash\":[4,4],\"line_width\":2,\"right_units\":\"screen\",\"syncable\":false,\"top_units\":\"screen\"},\"id\":\"7449\",\"type\":\"BoxAnnotation\"},{\"attributes\":{\"text_color\":\"#5B5B5B\",\"text_font\":\"Calibri Light\",\"text_font_size\":\"1.25em\",\"text_font_style\":\"bold\"},\"id\":\"7750\",\"type\":\"Title\"},{\"attributes\":{\"axis\":{\"id\":\"7439\"},\"dimension\":1,\"ticker\":null},\"id\":\"7442\",\"type\":\"Grid\"},{\"attributes\":{},\"id\":\"7755\",\"type\":\"AllLabels\"},{\"attributes\":{\"data_source\":{\"id\":\"7457\"},\"glyph\":{\"id\":\"7458\"},\"hover_glyph\":null,\"muted_glyph\":null,\"nonselection_glyph\":{\"id\":\"7459\"},\"view\":{\"id\":\"7461\"}},\"id\":\"7460\",\"type\":\"GlyphRenderer\"},{\"attributes\":{\"fill_alpha\":{\"value\":0.1},\"fill_color\":{\"field\":\"y\",\"transform\":{\"id\":\"7425\"}},\"line_alpha\":{\"value\":0.1},\"line_color\":{\"field\":\"y\",\"transform\":{\"id\":\"7425\"}},\"size\":{\"value\":10},\"x\":{\"field\":\"x\"},\"y\":{\"field\":\"y\"}},\"id\":\"7459\",\"type\":\"Circle\"},{\"attributes\":{},\"id\":\"7757\",\"type\":\"BasicTickFormatter\"},{\"attributes\":{},\"id\":\"7448\",\"type\":\"HelpTool\"},{\"attributes\":{},\"id\":\"7433\",\"type\":\"LinearScale\"},{\"attributes\":{},\"id\":\"7427\",\"type\":\"DataRange1d\"},{\"attributes\":{\"axis_label_standoff\":10,\"axis_label_text_color\":\"#5B5B5B\",\"axis_label_text_font\":\"Calibri Light\",\"axis_label_text_font_size\":\"1.15em\",\"axis_label_text_font_style\":\"bold\",\"axis_line_alpha\":1,\"axis_line_color\":\"#5B5B5B\",\"formatter\":{\"id\":\"7757\"},\"major_label_policy\":{\"id\":\"7755\"},\"major_label_text_color\":\"#5B5B5B\",\"major_label_text_font\":\"Calibri Light\",\"major_label_text_font_size\":\"0.95em\",\"major_label_text_font_style\":\"bold\",\"major_tick_in\":0,\"major_tick_line_alpha\":0.25,\"major_tick_line_color\":\"#5B5B5B\",\"major_tick_out\":3,\"minor_tick_line_alpha\":0.25,\"minor_tick_line_color\":\"#5B5B5B\",\"ticker\":{\"id\":\"7440\"}},\"id\":\"7439\",\"type\":\"LinearAxis\"},{\"attributes\":{\"axis\":{\"id\":\"7435\"},\"ticker\":null},\"id\":\"7438\",\"type\":\"Grid\"},{\"attributes\":{},\"id\":\"7440\",\"type\":\"BasicTicker\"},{\"attributes\":{\"axis_label_standoff\":10,\"axis_label_text_color\":\"#5B5B5B\",\"axis_label_text_font\":\"Calibri Light\",\"axis_label_text_font_size\":\"1.15em\",\"axis_label_text_font_style\":\"bold\",\"axis_line_alpha\":1,\"axis_line_color\":\"#5B5B5B\",\"formatter\":{\"id\":\"7754\"},\"major_label_policy\":{\"id\":\"7752\"},\"major_label_text_color\":\"#5B5B5B\",\"major_label_text_font\":\"Calibri Light\",\"major_label_text_font_size\":\"0.95em\",\"major_label_text_font_style\":\"bold\",\"major_tick_in\":0,\"major_tick_line_alpha\":0.25,\"major_tick_line_color\":\"#5B5B5B\",\"major_tick_out\":3,\"minor_tick_line_alpha\":0.25,\"minor_tick_line_color\":\"#5B5B5B\",\"ticker\":{\"id\":\"7436\"}},\"id\":\"7435\",\"type\":\"LinearAxis\"},{\"attributes\":{\"data\":{\"x\":[-32,-31,-30,-29,-28,-27,-26,-25,-24,-23,-22,-21,-20,-19,-18,-17,-16,-15,-14,-13,-12,-11,-10,-9,-8,-7,-6,-5,-4,-3,-2,-1,0,1,2,3,4,5,6,7,8,9,10,11,12,13,14,15,16,17,18,19,20,21,22,23,24,25,26,27,28,29,30,31,32],\"y\":[1024,961,900,841,784,729,676,625,576,529,484,441,400,361,324,289,256,225,196,169,144,121,100,81,64,49,36,25,16,9,4,1,0,1,4,9,16,25,36,49,64,81,100,121,144,169,196,225,256,289,324,361,400,441,484,529,576,625,676,729,784,841,900,961,1024]},\"selected\":{\"id\":\"7758\"},\"selection_policy\":{\"id\":\"7759\"}},\"id\":\"7457\",\"type\":\"ColumnDataSource\"},{\"attributes\":{},\"id\":\"7429\",\"type\":\"DataRange1d\"},{\"attributes\":{\"high\":1024,\"low\":0,\"palette\":[\"#30123b\",\"#311542\",\"#32184a\",\"#341b51\",\"#351e58\",\"#36215f\",\"#372365\",\"#38266c\",\"#392972\",\"#3a2c79\",\"#3b2f7f\",\"#3c3285\",\"#3c358b\",\"#3d3791\",\"#3e3a96\",\"#3f3d9c\",\"#4040a1\",\"#4043a6\",\"#4145ab\",\"#4148b0\",\"#424bb5\",\"#434eba\",\"#4350be\",\"#4353c2\",\"#4456c7\",\"#4458cb\",\"#455bce\",\"#455ed2\",\"#4560d6\",\"#4563d9\",\"#4666dd\",\"#4668e0\",\"#466be3\",\"#466de6\",\"#4670e8\",\"#4673eb\",\"#4675ed\",\"#4678f0\",\"#467af2\",\"#467df4\",\"#467ff6\",\"#4682f8\",\"#4584f9\",\"#4587fb\",\"#4589fc\",\"#448cfd\",\"#438efd\",\"#4291fe\",\"#4193fe\",\"#4096fe\",\"#3f98fe\",\"#3e9bfe\",\"#3c9dfd\",\"#3ba0fc\",\"#39a2fc\",\"#38a5fb\",\"#36a8f9\",\"#34aaf8\",\"#33acf6\",\"#31aff5\",\"#2fb1f3\",\"#2db4f1\",\"#2bb6ef\",\"#2ab9ed\",\"#28bbeb\",\"#26bde9\",\"#25c0e6\",\"#23c2e4\",\"#21c4e1\",\"#20c6df\",\"#1ec9dc\",\"#1dcbda\",\"#1ccdd7\",\"#1bcfd4\",\"#1ad1d2\",\"#19d3cf\",\"#18d5cc\",\"#18d7ca\",\"#17d9c7\",\"#17dac4\",\"#17dcc2\",\"#17debf\",\"#18e0bd\",\"#18e1ba\",\"#19e3b8\",\"#1ae4b6\",\"#1be5b4\",\"#1de7b1\",\"#1ee8af\",\"#20e9ac\",\"#22eba9\",\"#24eca6\",\"#27eda3\",\"#29eea0\",\"#2cef9d\",\"#2ff09a\",\"#32f197\",\"#35f394\",\"#38f491\",\"#3bf48d\",\"#3ff58a\",\"#42f687\",\"#46f783\",\"#4af880\",\"#4df97c\",\"#51f979\",\"#55fa76\",\"#59fb72\",\"#5dfb6f\",\"#61fc6c\",\"#65fc68\",\"#69fd65\",\"#6dfd62\",\"#71fd5f\",\"#74fe5c\",\"#78fe59\",\"#7cfe56\",\"#80fe53\",\"#84fe50\",\"#87fe4d\",\"#8bfe4b\",\"#8efe48\",\"#92fe46\",\"#95fe44\",\"#98fe42\",\"#9bfd40\",\"#9efd3e\",\"#a1fc3d\",\"#a4fc3b\",\"#a6fb3a\",\"#a9fb39\",\"#acfa37\",\"#aef937\",\"#b1f836\",\"#b3f835\",\"#b6f735\",\"#b9f534\",\"#bbf434\",\"#bef334\",\"#c0f233\",\"#c3f133\",\"#c5ef33\",\"#c8ee33\",\"#caed33\",\"#cdeb34\",\"#cfea34\",\"#d1e834\",\"#d4e735\",\"#d6e535\",\"#d8e335\",\"#dae236\",\"#dde036\",\"#dfde36\",\"#e1dc37\",\"#e3da37\",\"#e5d838\",\"#e7d738\",\"#e8d538\",\"#ead339\",\"#ecd139\",\"#edcf39\",\"#efcd39\",\"#f0cb3a\",\"#f2c83a\",\"#f3c63a\",\"#f4c43a\",\"#f6c23a\",\"#f7c039\",\"#f8be39\",\"#f9bc39\",\"#f9ba38\",\"#fab737\",\"#fbb537\",\"#fbb336\",\"#fcb035\",\"#fcae34\",\"#fdab33\",\"#fda932\",\"#fda631\",\"#fda330\",\"#fea12f\",\"#fe9e2e\",\"#fe9b2d\",\"#fe982c\",\"#fd952b\",\"#fd9229\",\"#fd8f28\",\"#fd8c27\",\"#fc8926\",\"#fc8624\",\"#fb8323\",\"#fb8022\",\"#fa7d20\",\"#fa7a1f\",\"#f9771e\",\"#f8741c\",\"#f7711b\",\"#f76e1a\",\"#f66b18\",\"#f56817\",\"#f46516\",\"#f36315\",\"#f26014\",\"#f15d13\",\"#ef5a11\",\"#ee5810\",\"#ed550f\",\"#ec520e\",\"#ea500d\",\"#e94d0d\",\"#e84b0c\",\"#e6490b\",\"#e5460a\",\"#e3440a\",\"#e24209\",\"#e04008\",\"#de3e08\",\"#dd3c07\",\"#db3a07\",\"#d93806\",\"#d73606\",\"#d63405\",\"#d43205\",\"#d23005\",\"#d02f04\",\"#ce2d04\",\"#cb2b03\",\"#c92903\",\"#c72803\",\"#c52602\",\"#c32402\",\"#c02302\",\"#be2102\",\"#bb1f01\",\"#b91e01\",\"#b61c01\",\"#b41b01\",\"#b11901\",\"#ae1801\",\"#ac1601\",\"#a91501\",\"#a61401\",\"#a31201\",\"#a01101\",\"#9d1001\",\"#9a0e01\",\"#970d01\",\"#940c01\",\"#910b01\",\"#8e0a01\",\"#8b0901\",\"#870801\",\"#840701\",\"#810602\",\"#7d0502\",\"#7a0402\"]},\"id\":\"7425\",\"type\":\"LinearColorMapper\"},{\"attributes\":{},\"id\":\"7444\",\"type\":\"WheelZoomTool\"},{\"attributes\":{},\"id\":\"7443\",\"type\":\"PanTool\"},{\"attributes\":{\"active_multi\":null,\"tools\":[{\"id\":\"7443\"},{\"id\":\"7444\"},{\"id\":\"7445\"},{\"id\":\"7446\"},{\"id\":\"7447\"},{\"id\":\"7448\"}]},\"id\":\"7450\",\"type\":\"Toolbar\"},{\"attributes\":{\"overlay\":{\"id\":\"7449\"}},\"id\":\"7445\",\"type\":\"BoxZoomTool\"},{\"attributes\":{},\"id\":\"7446\",\"type\":\"SaveTool\"},{\"attributes\":{},\"id\":\"7431\",\"type\":\"LinearScale\"},{\"attributes\":{\"source\":{\"id\":\"7457\"}},\"id\":\"7461\",\"type\":\"CDSView\"},{\"attributes\":{},\"id\":\"7447\",\"type\":\"ResetTool\"},{\"attributes\":{},\"id\":\"7759\",\"type\":\"UnionRenderers\"},{\"attributes\":{},\"id\":\"7758\",\"type\":\"Selection\"},{\"attributes\":{},\"id\":\"7754\",\"type\":\"BasicTickFormatter\"},{\"attributes\":{},\"id\":\"7436\",\"type\":\"BasicTicker\"},{\"attributes\":{\"fill_color\":{\"field\":\"y\",\"transform\":{\"id\":\"7425\"}},\"line_color\":{\"field\":\"y\",\"transform\":{\"id\":\"7425\"}},\"size\":{\"value\":10},\"x\":{\"field\":\"x\"},\"y\":{\"field\":\"y\"}},\"id\":\"7458\",\"type\":\"Circle\"}],\"root_ids\":[\"7426\"]},\"title\":\"Bokeh Application\",\"version\":\"2.3.3\"}};\n",
       "  var render_items = [{\"docid\":\"a38c3fcd-d948-45a6-8971-c4ede226435e\",\"root_ids\":[\"7426\"],\"roots\":{\"7426\":\"3e004342-5d1d-4891-aed0-8d20db60de4e\"}}];\n",
       "  root.Bokeh.embed.embed_items_notebook(docs_json, render_items);\n",
       "\n",
       "  }\n",
       "  if (root.Bokeh !== undefined) {\n",
       "    embed_document(root);\n",
       "  } else {\n",
       "    var attempts = 0;\n",
       "    var timer = setInterval(function(root) {\n",
       "      if (root.Bokeh !== undefined) {\n",
       "        clearInterval(timer);\n",
       "        embed_document(root);\n",
       "      } else {\n",
       "        attempts++;\n",
       "        if (attempts > 100) {\n",
       "          clearInterval(timer);\n",
       "          console.log(\"Bokeh: ERROR: Unable to run BokehJS code because BokehJS library is missing\");\n",
       "        }\n",
       "      }\n",
       "    }, 10, root)\n",
       "  }\n",
       "})(window);"
      ],
      "application/vnd.bokehjs_exec.v0+json": ""
     },
     "metadata": {
      "application/vnd.bokehjs_exec.v0+json": {
       "id": "7426"
      }
     },
     "output_type": "display_data"
    }
   ],
   "source": [
    "from bokeh.io import show\n",
    "from bokeh.palettes import Turbo256\n",
    "from bokeh.plotting import figure\n",
    "from bokeh.transform import linear_cmap\n",
    "\n",
    "# generate data\n",
    "x = list(range(-32, 33))\n",
    "y = [i**2 for i in x]\n",
    "\n",
    "# create linear color mapper\n",
    "mapper = linear_cmap(field_name=\"y\", palette=Turbo256, low=min(y), high=max(y))\n",
    "\n",
    "# create plot\n",
    "p = figure(width=500, height=250)\n",
    "\n",
    "# create circle renderer with color mapper\n",
    "p.circle(x, y, color=mapper, size=10)\n",
    "\n",
    "show(p)"
   ]
  },
  {
   "cell_type": "markdown",
   "id": "1ba2961c",
   "metadata": {},
   "source": [
    "For more information about color mapping and other similar operations, see Using mappers and Transforming data in the user guide. In addition to linear_cmap, this includes log_cmap and factor_cmap, for example.\n",
    "\n",
    "To learn more about Bokeh’s color palettes, see palettes in the reference guide. This document contains an overview of all available palettes and the various ways you can make those palettes available to your plots."
   ]
  },
  {
   "cell_type": "markdown",
   "id": "e3ddf91c",
   "metadata": {},
   "source": [
    "# First steps 6: Combining plots\n",
    "In the previous first steps guides, you created individual plots.\n",
    "\n",
    "In this section, you will combine several plots into different kinds of layouts.\n",
    "\n",
    "## Creating rows, columns, and grids\n",
    "The easiest way to combine individual plots is to assign them to rows or columns.\n",
    "\n",
    "To combine several plots into a horizontal row layout, you first need to import row. Then use the row() function when calling show():\n"
   ]
  },
  {
   "cell_type": "code",
   "execution_count": 29,
   "id": "56f7302c",
   "metadata": {},
   "outputs": [
    {
     "data": {
      "text/html": [
       "\n",
       "\n",
       "\n",
       "\n",
       "\n",
       "\n",
       "  <div class=\"bk-root\" id=\"e44064e8-cdb5-47a6-83cf-58328597f5dd\" data-root-id=\"7924\"></div>\n"
      ]
     },
     "metadata": {},
     "output_type": "display_data"
    },
    {
     "data": {
      "application/javascript": [
       "(function(root) {\n",
       "  function embed_document(root) {\n",
       "    \n",
       "  var docs_json = {\"ecb12d63-8a43-44af-9cfe-c0d5c2bae6b6\":{\"defs\":[],\"roots\":{\"references\":[{\"attributes\":{\"children\":[{\"id\":\"7816\"},{\"id\":\"7852\"},{\"id\":\"7888\"}]},\"id\":\"7924\",\"type\":\"Row\"},{\"attributes\":{\"bottom_units\":\"screen\",\"fill_alpha\":0.5,\"fill_color\":\"lightgrey\",\"left_units\":\"screen\",\"level\":\"overlay\",\"line_alpha\":1.0,\"line_color\":\"black\",\"line_dash\":[4,4],\"line_width\":2,\"right_units\":\"screen\",\"syncable\":false,\"top_units\":\"screen\"},\"id\":\"7839\",\"type\":\"BoxAnnotation\"},{\"attributes\":{},\"id\":\"8254\",\"type\":\"Selection\"},{\"attributes\":{},\"id\":\"8255\",\"type\":\"UnionRenderers\"},{\"attributes\":{},\"id\":\"7859\",\"type\":\"LinearScale\"},{\"attributes\":{\"source\":{\"id\":\"7847\"}},\"id\":\"7851\",\"type\":\"CDSView\"},{\"attributes\":{\"fill_alpha\":{\"value\":0.1},\"fill_color\":{\"value\":\"#53777a\"},\"line_alpha\":{\"value\":0.1},\"line_color\":{\"value\":\"#53777a\"},\"size\":{\"value\":12},\"x\":{\"field\":\"x\"},\"y\":{\"field\":\"y\"}},\"id\":\"7849\",\"type\":\"Circle\"},{\"attributes\":{\"data\":{\"x\":[0,1,2,3,4,5,6,7,8,9,10],\"y\":[10,9,8,7,6,5,4,3,2,1,0]},\"selected\":{\"id\":\"8251\"},\"selection_policy\":{\"id\":\"8252\"}},\"id\":\"7883\",\"type\":\"ColumnDataSource\"},{\"attributes\":{\"data_source\":{\"id\":\"7847\"},\"glyph\":{\"id\":\"7848\"},\"hover_glyph\":null,\"muted_glyph\":null,\"nonselection_glyph\":{\"id\":\"7849\"},\"view\":{\"id\":\"7851\"}},\"id\":\"7850\",\"type\":\"GlyphRenderer\"},{\"attributes\":{\"fill_alpha\":{\"value\":0.8},\"fill_color\":{\"value\":\"#c02942\"},\"line_alpha\":{\"value\":0.8},\"line_color\":{\"value\":\"#c02942\"},\"marker\":{\"value\":\"triangle\"},\"size\":{\"value\":12},\"x\":{\"field\":\"x\"},\"y\":{\"field\":\"y\"}},\"id\":\"7884\",\"type\":\"Scatter\"},{\"attributes\":{},\"id\":\"7855\",\"type\":\"DataRange1d\"},{\"attributes\":{},\"id\":\"7853\",\"type\":\"DataRange1d\"},{\"attributes\":{\"axis_label_standoff\":10,\"axis_label_text_color\":\"#5B5B5B\",\"axis_label_text_font\":\"Calibri Light\",\"axis_label_text_font_size\":\"1.15em\",\"axis_label_text_font_style\":\"bold\",\"axis_line_alpha\":1,\"axis_line_color\":\"#5B5B5B\",\"formatter\":{\"id\":\"8238\"},\"major_label_policy\":{\"id\":\"8236\"},\"major_label_text_color\":\"#5B5B5B\",\"major_label_text_font\":\"Calibri Light\",\"major_label_text_font_size\":\"0.95em\",\"major_label_text_font_style\":\"bold\",\"major_tick_in\":0,\"major_tick_line_alpha\":0.25,\"major_tick_line_color\":\"#5B5B5B\",\"major_tick_out\":3,\"minor_tick_line_alpha\":0.25,\"minor_tick_line_color\":\"#5B5B5B\",\"ticker\":{\"id\":\"7862\"}},\"id\":\"7861\",\"type\":\"LinearAxis\"},{\"attributes\":{\"axis_label_standoff\":10,\"axis_label_text_color\":\"#5B5B5B\",\"axis_label_text_font\":\"Calibri Light\",\"axis_label_text_font_size\":\"1.15em\",\"axis_label_text_font_style\":\"bold\",\"axis_line_alpha\":1,\"axis_line_color\":\"#5B5B5B\",\"formatter\":{\"id\":\"8241\"},\"major_label_policy\":{\"id\":\"8239\"},\"major_label_text_color\":\"#5B5B5B\",\"major_label_text_font\":\"Calibri Light\",\"major_label_text_font_size\":\"0.95em\",\"major_label_text_font_style\":\"bold\",\"major_tick_in\":0,\"major_tick_line_alpha\":0.25,\"major_tick_line_color\":\"#5B5B5B\",\"major_tick_out\":3,\"minor_tick_line_alpha\":0.25,\"minor_tick_line_color\":\"#5B5B5B\",\"ticker\":{\"id\":\"7866\"}},\"id\":\"7865\",\"type\":\"LinearAxis\"},{\"attributes\":{},\"id\":\"7857\",\"type\":\"LinearScale\"},{\"attributes\":{},\"id\":\"7874\",\"type\":\"HelpTool\"},{\"attributes\":{},\"id\":\"7862\",\"type\":\"BasicTicker\"},{\"attributes\":{\"axis\":{\"id\":\"7861\"},\"ticker\":null},\"id\":\"7864\",\"type\":\"Grid\"},{\"attributes\":{\"axis\":{\"id\":\"7865\"},\"dimension\":1,\"ticker\":null},\"id\":\"7868\",\"type\":\"Grid\"},{\"attributes\":{},\"id\":\"7866\",\"type\":\"BasicTicker\"},{\"attributes\":{\"active_multi\":null,\"tools\":[{\"id\":\"7869\"},{\"id\":\"7870\"},{\"id\":\"7871\"},{\"id\":\"7872\"},{\"id\":\"7873\"},{\"id\":\"7874\"}]},\"id\":\"7876\",\"type\":\"Toolbar\"},{\"attributes\":{},\"id\":\"7870\",\"type\":\"WheelZoomTool\"},{\"attributes\":{},\"id\":\"7869\",\"type\":\"PanTool\"},{\"attributes\":{\"overlay\":{\"id\":\"7875\"}},\"id\":\"7871\",\"type\":\"BoxZoomTool\"},{\"attributes\":{},\"id\":\"7872\",\"type\":\"SaveTool\"},{\"attributes\":{},\"id\":\"7873\",\"type\":\"ResetTool\"},{\"attributes\":{},\"id\":\"8248\",\"type\":\"Selection\"},{\"attributes\":{},\"id\":\"8249\",\"type\":\"UnionRenderers\"},{\"attributes\":{},\"id\":\"7910\",\"type\":\"HelpTool\"},{\"attributes\":{\"active_multi\":null,\"tools\":[{\"id\":\"7905\"},{\"id\":\"7906\"},{\"id\":\"7907\"},{\"id\":\"7908\"},{\"id\":\"7909\"},{\"id\":\"7910\"}]},\"id\":\"7912\",\"type\":\"Toolbar\"},{\"attributes\":{\"bottom_units\":\"screen\",\"fill_alpha\":0.5,\"fill_color\":\"lightgrey\",\"left_units\":\"screen\",\"level\":\"overlay\",\"line_alpha\":1.0,\"line_color\":\"black\",\"line_dash\":[4,4],\"line_width\":2,\"right_units\":\"screen\",\"syncable\":false,\"top_units\":\"screen\"},\"id\":\"7875\",\"type\":\"BoxAnnotation\"},{\"attributes\":{\"data_source\":{\"id\":\"7883\"},\"glyph\":{\"id\":\"7884\"},\"hover_glyph\":null,\"muted_glyph\":null,\"nonselection_glyph\":{\"id\":\"7885\"},\"view\":{\"id\":\"7887\"}},\"id\":\"7886\",\"type\":\"GlyphRenderer\"},{\"attributes\":{},\"id\":\"8242\",\"type\":\"AllLabels\"},{\"attributes\":{},\"id\":\"8244\",\"type\":\"BasicTickFormatter\"},{\"attributes\":{},\"id\":\"8230\",\"type\":\"AllLabels\"},{\"attributes\":{},\"id\":\"7891\",\"type\":\"DataRange1d\"},{\"attributes\":{},\"id\":\"8232\",\"type\":\"BasicTickFormatter\"},{\"attributes\":{\"fill_alpha\":{\"value\":0.1},\"fill_color\":{\"value\":\"#d95b43\"},\"line_alpha\":{\"value\":0.1},\"line_color\":{\"value\":\"#d95b43\"},\"marker\":{\"value\":\"square\"},\"size\":{\"value\":12},\"x\":{\"field\":\"x\"},\"y\":{\"field\":\"y\"}},\"id\":\"7921\",\"type\":\"Scatter\"},{\"attributes\":{\"fill_alpha\":{\"value\":0.8},\"fill_color\":{\"value\":\"#d95b43\"},\"line_alpha\":{\"value\":0.8},\"line_color\":{\"value\":\"#d95b43\"},\"marker\":{\"value\":\"square\"},\"size\":{\"value\":12},\"x\":{\"field\":\"x\"},\"y\":{\"field\":\"y\"}},\"id\":\"7920\",\"type\":\"Scatter\"},{\"attributes\":{},\"id\":\"7895\",\"type\":\"LinearScale\"},{\"attributes\":{\"source\":{\"id\":\"7883\"}},\"id\":\"7887\",\"type\":\"CDSView\"},{\"attributes\":{\"data\":{\"x\":[0,1,2,3,4,5,6,7,8,9,10],\"y\":[5,4,3,2,1,0,1,2,3,4,5]},\"selected\":{\"id\":\"8254\"},\"selection_policy\":{\"id\":\"8255\"}},\"id\":\"7919\",\"type\":\"ColumnDataSource\"},{\"attributes\":{},\"id\":\"7889\",\"type\":\"DataRange1d\"},{\"attributes\":{\"axis_label_standoff\":10,\"axis_label_text_color\":\"#5B5B5B\",\"axis_label_text_font\":\"Calibri Light\",\"axis_label_text_font_size\":\"1.15em\",\"axis_label_text_font_style\":\"bold\",\"axis_line_alpha\":1,\"axis_line_color\":\"#5B5B5B\",\"formatter\":{\"id\":\"8244\"},\"major_label_policy\":{\"id\":\"8242\"},\"major_label_text_color\":\"#5B5B5B\",\"major_label_text_font\":\"Calibri Light\",\"major_label_text_font_size\":\"0.95em\",\"major_label_text_font_style\":\"bold\",\"major_tick_in\":0,\"major_tick_line_alpha\":0.25,\"major_tick_line_color\":\"#5B5B5B\",\"major_tick_out\":3,\"minor_tick_line_alpha\":0.25,\"minor_tick_line_color\":\"#5B5B5B\",\"ticker\":{\"id\":\"7898\"}},\"id\":\"7897\",\"type\":\"LinearAxis\"},{\"attributes\":{\"axis_label_standoff\":10,\"axis_label_text_color\":\"#5B5B5B\",\"axis_label_text_font\":\"Calibri Light\",\"axis_label_text_font_size\":\"1.15em\",\"axis_label_text_font_style\":\"bold\",\"axis_line_alpha\":1,\"axis_line_color\":\"#5B5B5B\",\"formatter\":{\"id\":\"8247\"},\"major_label_policy\":{\"id\":\"8245\"},\"major_label_text_color\":\"#5B5B5B\",\"major_label_text_font\":\"Calibri Light\",\"major_label_text_font_size\":\"0.95em\",\"major_label_text_font_style\":\"bold\",\"major_tick_in\":0,\"major_tick_line_alpha\":0.25,\"major_tick_line_color\":\"#5B5B5B\",\"major_tick_out\":3,\"minor_tick_line_alpha\":0.25,\"minor_tick_line_color\":\"#5B5B5B\",\"ticker\":{\"id\":\"7902\"}},\"id\":\"7901\",\"type\":\"LinearAxis\"},{\"attributes\":{},\"id\":\"7893\",\"type\":\"LinearScale\"},{\"attributes\":{},\"id\":\"7898\",\"type\":\"BasicTicker\"},{\"attributes\":{\"axis\":{\"id\":\"7897\"},\"ticker\":null},\"id\":\"7900\",\"type\":\"Grid\"},{\"attributes\":{},\"id\":\"8245\",\"type\":\"AllLabels\"},{\"attributes\":{\"axis\":{\"id\":\"7901\"},\"dimension\":1,\"ticker\":null},\"id\":\"7904\",\"type\":\"Grid\"},{\"attributes\":{},\"id\":\"7902\",\"type\":\"BasicTicker\"},{\"attributes\":{},\"id\":\"8247\",\"type\":\"BasicTickFormatter\"},{\"attributes\":{},\"id\":\"8233\",\"type\":\"AllLabels\"},{\"attributes\":{},\"id\":\"7906\",\"type\":\"WheelZoomTool\"},{\"attributes\":{},\"id\":\"7905\",\"type\":\"PanTool\"},{\"attributes\":{\"overlay\":{\"id\":\"7911\"}},\"id\":\"7907\",\"type\":\"BoxZoomTool\"},{\"attributes\":{},\"id\":\"8235\",\"type\":\"BasicTickFormatter\"},{\"attributes\":{},\"id\":\"7908\",\"type\":\"SaveTool\"},{\"attributes\":{},\"id\":\"7909\",\"type\":\"ResetTool\"},{\"attributes\":{\"bottom_units\":\"screen\",\"fill_alpha\":0.5,\"fill_color\":\"lightgrey\",\"left_units\":\"screen\",\"level\":\"overlay\",\"line_alpha\":1.0,\"line_color\":\"black\",\"line_dash\":[4,4],\"line_width\":2,\"right_units\":\"screen\",\"syncable\":false,\"top_units\":\"screen\"},\"id\":\"7911\",\"type\":\"BoxAnnotation\"},{\"attributes\":{\"background_fill_color\":\"#fafafa\",\"below\":[{\"id\":\"7825\"}],\"center\":[{\"id\":\"7828\"},{\"id\":\"7832\"}],\"height\":250,\"left\":[{\"id\":\"7829\"}],\"renderers\":[{\"id\":\"7850\"}],\"title\":{\"id\":\"8224\"},\"toolbar\":{\"id\":\"7840\"},\"width\":250,\"x_range\":{\"id\":\"7817\"},\"x_scale\":{\"id\":\"7821\"},\"y_range\":{\"id\":\"7819\"},\"y_scale\":{\"id\":\"7823\"}},\"id\":\"7816\",\"subtype\":\"Figure\",\"type\":\"Plot\"},{\"attributes\":{\"fill_alpha\":{\"value\":0.1},\"fill_color\":{\"value\":\"#c02942\"},\"line_alpha\":{\"value\":0.1},\"line_color\":{\"value\":\"#c02942\"},\"marker\":{\"value\":\"triangle\"},\"size\":{\"value\":12},\"x\":{\"field\":\"x\"},\"y\":{\"field\":\"y\"}},\"id\":\"7885\",\"type\":\"Scatter\"},{\"attributes\":{},\"id\":\"7819\",\"type\":\"DataRange1d\"},{\"attributes\":{},\"id\":\"8236\",\"type\":\"AllLabels\"},{\"attributes\":{\"fill_alpha\":{\"value\":0.8},\"fill_color\":{\"value\":\"#53777a\"},\"line_alpha\":{\"value\":0.8},\"line_color\":{\"value\":\"#53777a\"},\"size\":{\"value\":12},\"x\":{\"field\":\"x\"},\"y\":{\"field\":\"y\"}},\"id\":\"7848\",\"type\":\"Circle\"},{\"attributes\":{\"background_fill_color\":\"#fafafa\",\"below\":[{\"id\":\"7897\"}],\"center\":[{\"id\":\"7900\"},{\"id\":\"7904\"}],\"height\":250,\"left\":[{\"id\":\"7901\"}],\"renderers\":[{\"id\":\"7922\"}],\"title\":{\"id\":\"8228\"},\"toolbar\":{\"id\":\"7912\"},\"width\":250,\"x_range\":{\"id\":\"7889\"},\"x_scale\":{\"id\":\"7893\"},\"y_range\":{\"id\":\"7891\"},\"y_scale\":{\"id\":\"7895\"}},\"id\":\"7888\",\"subtype\":\"Figure\",\"type\":\"Plot\"},{\"attributes\":{},\"id\":\"7823\",\"type\":\"LinearScale\"},{\"attributes\":{},\"id\":\"8238\",\"type\":\"BasicTickFormatter\"},{\"attributes\":{\"axis_label_standoff\":10,\"axis_label_text_color\":\"#5B5B5B\",\"axis_label_text_font\":\"Calibri Light\",\"axis_label_text_font_size\":\"1.15em\",\"axis_label_text_font_style\":\"bold\",\"axis_line_alpha\":1,\"axis_line_color\":\"#5B5B5B\",\"formatter\":{\"id\":\"8232\"},\"major_label_policy\":{\"id\":\"8230\"},\"major_label_text_color\":\"#5B5B5B\",\"major_label_text_font\":\"Calibri Light\",\"major_label_text_font_size\":\"0.95em\",\"major_label_text_font_style\":\"bold\",\"major_tick_in\":0,\"major_tick_line_alpha\":0.25,\"major_tick_line_color\":\"#5B5B5B\",\"major_tick_out\":3,\"minor_tick_line_alpha\":0.25,\"minor_tick_line_color\":\"#5B5B5B\",\"ticker\":{\"id\":\"7826\"}},\"id\":\"7825\",\"type\":\"LinearAxis\"},{\"attributes\":{},\"id\":\"7817\",\"type\":\"DataRange1d\"},{\"attributes\":{\"axis\":{\"id\":\"7829\"},\"dimension\":1,\"ticker\":null},\"id\":\"7832\",\"type\":\"Grid\"},{\"attributes\":{},\"id\":\"7821\",\"type\":\"LinearScale\"},{\"attributes\":{},\"id\":\"7830\",\"type\":\"BasicTicker\"},{\"attributes\":{},\"id\":\"7826\",\"type\":\"BasicTicker\"},{\"attributes\":{\"background_fill_color\":\"#fafafa\",\"below\":[{\"id\":\"7861\"}],\"center\":[{\"id\":\"7864\"},{\"id\":\"7868\"}],\"height\":250,\"left\":[{\"id\":\"7865\"}],\"renderers\":[{\"id\":\"7886\"}],\"title\":{\"id\":\"8226\"},\"toolbar\":{\"id\":\"7876\"},\"width\":250,\"x_range\":{\"id\":\"7853\"},\"x_scale\":{\"id\":\"7857\"},\"y_range\":{\"id\":\"7855\"},\"y_scale\":{\"id\":\"7859\"}},\"id\":\"7852\",\"subtype\":\"Figure\",\"type\":\"Plot\"},{\"attributes\":{\"data\":{\"x\":[0,1,2,3,4,5,6,7,8,9,10],\"y\":[0,1,2,3,4,5,6,7,8,9,10]},\"selected\":{\"id\":\"8248\"},\"selection_policy\":{\"id\":\"8249\"}},\"id\":\"7847\",\"type\":\"ColumnDataSource\"},{\"attributes\":{\"axis_label_standoff\":10,\"axis_label_text_color\":\"#5B5B5B\",\"axis_label_text_font\":\"Calibri Light\",\"axis_label_text_font_size\":\"1.15em\",\"axis_label_text_font_style\":\"bold\",\"axis_line_alpha\":1,\"axis_line_color\":\"#5B5B5B\",\"formatter\":{\"id\":\"8235\"},\"major_label_policy\":{\"id\":\"8233\"},\"major_label_text_color\":\"#5B5B5B\",\"major_label_text_font\":\"Calibri Light\",\"major_label_text_font_size\":\"0.95em\",\"major_label_text_font_style\":\"bold\",\"major_tick_in\":0,\"major_tick_line_alpha\":0.25,\"major_tick_line_color\":\"#5B5B5B\",\"major_tick_out\":3,\"minor_tick_line_alpha\":0.25,\"minor_tick_line_color\":\"#5B5B5B\",\"ticker\":{\"id\":\"7830\"}},\"id\":\"7829\",\"type\":\"LinearAxis\"},{\"attributes\":{\"data_source\":{\"id\":\"7919\"},\"glyph\":{\"id\":\"7920\"},\"hover_glyph\":null,\"muted_glyph\":null,\"nonselection_glyph\":{\"id\":\"7921\"},\"view\":{\"id\":\"7923\"}},\"id\":\"7922\",\"type\":\"GlyphRenderer\"},{\"attributes\":{},\"id\":\"7838\",\"type\":\"HelpTool\"},{\"attributes\":{},\"id\":\"7834\",\"type\":\"WheelZoomTool\"},{\"attributes\":{\"source\":{\"id\":\"7919\"}},\"id\":\"7923\",\"type\":\"CDSView\"},{\"attributes\":{\"active_multi\":null,\"tools\":[{\"id\":\"7833\"},{\"id\":\"7834\"},{\"id\":\"7835\"},{\"id\":\"7836\"},{\"id\":\"7837\"},{\"id\":\"7838\"}]},\"id\":\"7840\",\"type\":\"Toolbar\"},{\"attributes\":{},\"id\":\"7833\",\"type\":\"PanTool\"},{\"attributes\":{\"overlay\":{\"id\":\"7839\"}},\"id\":\"7835\",\"type\":\"BoxZoomTool\"},{\"attributes\":{},\"id\":\"7836\",\"type\":\"SaveTool\"},{\"attributes\":{},\"id\":\"7837\",\"type\":\"ResetTool\"},{\"attributes\":{},\"id\":\"8251\",\"type\":\"Selection\"},{\"attributes\":{},\"id\":\"8239\",\"type\":\"AllLabels\"},{\"attributes\":{},\"id\":\"8252\",\"type\":\"UnionRenderers\"},{\"attributes\":{},\"id\":\"8241\",\"type\":\"BasicTickFormatter\"},{\"attributes\":{\"text_color\":\"#5B5B5B\",\"text_font\":\"Calibri Light\",\"text_font_size\":\"1.25em\",\"text_font_style\":\"bold\"},\"id\":\"8226\",\"type\":\"Title\"},{\"attributes\":{\"axis\":{\"id\":\"7825\"},\"ticker\":null},\"id\":\"7828\",\"type\":\"Grid\"},{\"attributes\":{\"text_color\":\"#5B5B5B\",\"text_font\":\"Calibri Light\",\"text_font_size\":\"1.25em\",\"text_font_style\":\"bold\"},\"id\":\"8224\",\"type\":\"Title\"},{\"attributes\":{\"text_color\":\"#5B5B5B\",\"text_font\":\"Calibri Light\",\"text_font_size\":\"1.25em\",\"text_font_style\":\"bold\"},\"id\":\"8228\",\"type\":\"Title\"}],\"root_ids\":[\"7924\"]},\"title\":\"Bokeh Application\",\"version\":\"2.3.3\"}};\n",
       "  var render_items = [{\"docid\":\"ecb12d63-8a43-44af-9cfe-c0d5c2bae6b6\",\"root_ids\":[\"7924\"],\"roots\":{\"7924\":\"e44064e8-cdb5-47a6-83cf-58328597f5dd\"}}];\n",
       "  root.Bokeh.embed.embed_items_notebook(docs_json, render_items);\n",
       "\n",
       "  }\n",
       "  if (root.Bokeh !== undefined) {\n",
       "    embed_document(root);\n",
       "  } else {\n",
       "    var attempts = 0;\n",
       "    var timer = setInterval(function(root) {\n",
       "      if (root.Bokeh !== undefined) {\n",
       "        clearInterval(timer);\n",
       "        embed_document(root);\n",
       "      } else {\n",
       "        attempts++;\n",
       "        if (attempts > 100) {\n",
       "          clearInterval(timer);\n",
       "          console.log(\"Bokeh: ERROR: Unable to run BokehJS code because BokehJS library is missing\");\n",
       "        }\n",
       "      }\n",
       "    }, 10, root)\n",
       "  }\n",
       "})(window);"
      ],
      "application/vnd.bokehjs_exec.v0+json": ""
     },
     "metadata": {
      "application/vnd.bokehjs_exec.v0+json": {
       "id": "7924"
      }
     },
     "output_type": "display_data"
    }
   ],
   "source": [
    "from bokeh.layouts import row\n",
    "\n",
    "# prepare some data\n",
    "x = list(range(11))\n",
    "y0 = x\n",
    "y1 = [10 - i for i in x]\n",
    "y2 = [abs(i - 5) for i in x]\n",
    "\n",
    "# create three plots with one renderer each\n",
    "s1 = figure(width=250, height=250, background_fill_color=\"#fafafa\")\n",
    "s1.circle(x, y0, size=12, color=\"#53777a\", alpha=0.8)\n",
    "\n",
    "s2 = figure(width=250, height=250, background_fill_color=\"#fafafa\")\n",
    "s2.triangle(x, y1, size=12, color=\"#c02942\", alpha=0.8)\n",
    "\n",
    "s3 = figure(width=250, height=250, background_fill_color=\"#fafafa\")\n",
    "s3.square(x, y2, size=12, color=\"#d95b43\", alpha=0.8)\n",
    "\n",
    "# put the results in a row and show\n",
    "show(row(s1, s2, s3))"
   ]
  },
  {
   "cell_type": "markdown",
   "id": "c13ebad9",
   "metadata": {},
   "source": [
    "To display several plots in a vertical column layout, use the column() function instead.\n",
    "\n",
    "A more flexible way to arrange elements in Bokeh is to use the gridplot() function.\n",
    "\n",
    "For more information on row(), column(), and gridplot(), see Creating layouts in the user guide.\n",
    "\n",
    "## Defining sizing behavior\n",
    "You can use the functions row(), column(), and gridplot() with additional arguments to define how Bokeh scales the individual plots. See sizing_mode for a list of all sizing modes that Bokeh supports.\n",
    "\n",
    "For example: To make all plots in a row responsively fill the available width of the browser window, assign scale_width to sizing_mode:\n"
   ]
  },
  {
   "cell_type": "code",
   "execution_count": 30,
   "id": "1293cf59",
   "metadata": {},
   "outputs": [
    {
     "data": {
      "text/html": [
       "\n",
       "\n",
       "\n",
       "\n",
       "\n",
       "\n",
       "  <div class=\"bk-root\" id=\"41c2c057-b8b0-439a-9f5f-94a8541d2dd6\" data-root-id=\"8530\"></div>\n"
      ]
     },
     "metadata": {},
     "output_type": "display_data"
    },
    {
     "data": {
      "application/javascript": [
       "(function(root) {\n",
       "  function embed_document(root) {\n",
       "    \n",
       "  var docs_json = {\"48894aeb-9b02-4bbe-98a7-6e1f14041ced\":{\"defs\":[],\"roots\":{\"references\":[{\"attributes\":{\"children\":[{\"id\":\"8422\"},{\"id\":\"8458\"},{\"id\":\"8494\"}],\"sizing_mode\":\"scale_width\"},\"id\":\"8530\",\"type\":\"Row\"},{\"attributes\":{\"text_color\":\"#5B5B5B\",\"text_font\":\"Calibri Light\",\"text_font_size\":\"1.25em\",\"text_font_style\":\"bold\"},\"id\":\"8863\",\"type\":\"Title\"},{\"attributes\":{\"bottom_units\":\"screen\",\"fill_alpha\":0.5,\"fill_color\":\"lightgrey\",\"left_units\":\"screen\",\"level\":\"overlay\",\"line_alpha\":1.0,\"line_color\":\"black\",\"line_dash\":[4,4],\"line_width\":2,\"right_units\":\"screen\",\"syncable\":false,\"top_units\":\"screen\"},\"id\":\"8481\",\"type\":\"BoxAnnotation\"},{\"attributes\":{},\"id\":\"8878\",\"type\":\"AllLabels\"},{\"attributes\":{},\"id\":\"8880\",\"type\":\"BasicTickFormatter\"},{\"attributes\":{\"text_color\":\"#5B5B5B\",\"text_font\":\"Calibri Light\",\"text_font_size\":\"1.25em\",\"text_font_style\":\"bold\"},\"id\":\"8865\",\"type\":\"Title\"},{\"attributes\":{\"text_color\":\"#5B5B5B\",\"text_font\":\"Calibri Light\",\"text_font_size\":\"1.25em\",\"text_font_style\":\"bold\"},\"id\":\"8867\",\"type\":\"Title\"},{\"attributes\":{},\"id\":\"8881\",\"type\":\"AllLabels\"},{\"attributes\":{},\"id\":\"8883\",\"type\":\"BasicTickFormatter\"},{\"attributes\":{},\"id\":\"8869\",\"type\":\"AllLabels\"},{\"attributes\":{\"data_source\":{\"id\":\"8489\"},\"glyph\":{\"id\":\"8490\"},\"hover_glyph\":null,\"muted_glyph\":null,\"nonselection_glyph\":{\"id\":\"8491\"},\"view\":{\"id\":\"8493\"}},\"id\":\"8492\",\"type\":\"GlyphRenderer\"},{\"attributes\":{},\"id\":\"8501\",\"type\":\"LinearScale\"},{\"attributes\":{},\"id\":\"8440\",\"type\":\"WheelZoomTool\"},{\"attributes\":{},\"id\":\"8871\",\"type\":\"BasicTickFormatter\"},{\"attributes\":{\"source\":{\"id\":\"8489\"}},\"id\":\"8493\",\"type\":\"CDSView\"},{\"attributes\":{\"fill_alpha\":{\"value\":0.1},\"fill_color\":{\"value\":\"#c02942\"},\"line_alpha\":{\"value\":0.1},\"line_color\":{\"value\":\"#c02942\"},\"marker\":{\"value\":\"triangle\"},\"size\":{\"value\":12},\"x\":{\"field\":\"x\"},\"y\":{\"field\":\"y\"}},\"id\":\"8491\",\"type\":\"Scatter\"},{\"attributes\":{\"fill_alpha\":{\"value\":0.8},\"fill_color\":{\"value\":\"#d95b43\"},\"line_alpha\":{\"value\":0.8},\"line_color\":{\"value\":\"#d95b43\"},\"marker\":{\"value\":\"square\"},\"size\":{\"value\":12},\"x\":{\"field\":\"x\"},\"y\":{\"field\":\"y\"}},\"id\":\"8526\",\"type\":\"Scatter\"},{\"attributes\":{\"data\":{\"x\":[0,1,2,3,4,5,6,7,8,9,10],\"y\":[5,4,3,2,1,0,1,2,3,4,5]},\"selected\":{\"id\":\"8893\"},\"selection_policy\":{\"id\":\"8894\"}},\"id\":\"8525\",\"type\":\"ColumnDataSource\"},{\"attributes\":{\"fill_alpha\":{\"value\":0.1},\"fill_color\":{\"value\":\"#d95b43\"},\"line_alpha\":{\"value\":0.1},\"line_color\":{\"value\":\"#d95b43\"},\"marker\":{\"value\":\"square\"},\"size\":{\"value\":12},\"x\":{\"field\":\"x\"},\"y\":{\"field\":\"y\"}},\"id\":\"8527\",\"type\":\"Scatter\"},{\"attributes\":{},\"id\":\"8497\",\"type\":\"DataRange1d\"},{\"attributes\":{},\"id\":\"8495\",\"type\":\"DataRange1d\"},{\"attributes\":{\"axis_label_standoff\":10,\"axis_label_text_color\":\"#5B5B5B\",\"axis_label_text_font\":\"Calibri Light\",\"axis_label_text_font_size\":\"1.15em\",\"axis_label_text_font_style\":\"bold\",\"axis_line_alpha\":1,\"axis_line_color\":\"#5B5B5B\",\"formatter\":{\"id\":\"8883\"},\"major_label_policy\":{\"id\":\"8881\"},\"major_label_text_color\":\"#5B5B5B\",\"major_label_text_font\":\"Calibri Light\",\"major_label_text_font_size\":\"0.95em\",\"major_label_text_font_style\":\"bold\",\"major_tick_in\":0,\"major_tick_line_alpha\":0.25,\"major_tick_line_color\":\"#5B5B5B\",\"major_tick_out\":3,\"minor_tick_line_alpha\":0.25,\"minor_tick_line_color\":\"#5B5B5B\",\"ticker\":{\"id\":\"8504\"}},\"id\":\"8503\",\"type\":\"LinearAxis\"},{\"attributes\":{\"axis_label_standoff\":10,\"axis_label_text_color\":\"#5B5B5B\",\"axis_label_text_font\":\"Calibri Light\",\"axis_label_text_font_size\":\"1.15em\",\"axis_label_text_font_style\":\"bold\",\"axis_line_alpha\":1,\"axis_line_color\":\"#5B5B5B\",\"formatter\":{\"id\":\"8886\"},\"major_label_policy\":{\"id\":\"8884\"},\"major_label_text_color\":\"#5B5B5B\",\"major_label_text_font\":\"Calibri Light\",\"major_label_text_font_size\":\"0.95em\",\"major_label_text_font_style\":\"bold\",\"major_tick_in\":0,\"major_tick_line_alpha\":0.25,\"major_tick_line_color\":\"#5B5B5B\",\"major_tick_out\":3,\"minor_tick_line_alpha\":0.25,\"minor_tick_line_color\":\"#5B5B5B\",\"ticker\":{\"id\":\"8508\"}},\"id\":\"8507\",\"type\":\"LinearAxis\"},{\"attributes\":{},\"id\":\"8499\",\"type\":\"LinearScale\"},{\"attributes\":{},\"id\":\"8516\",\"type\":\"HelpTool\"},{\"attributes\":{},\"id\":\"8504\",\"type\":\"BasicTicker\"},{\"attributes\":{\"axis\":{\"id\":\"8503\"},\"ticker\":null},\"id\":\"8506\",\"type\":\"Grid\"},{\"attributes\":{},\"id\":\"8884\",\"type\":\"AllLabels\"},{\"attributes\":{},\"id\":\"8886\",\"type\":\"BasicTickFormatter\"},{\"attributes\":{\"axis\":{\"id\":\"8507\"},\"dimension\":1,\"ticker\":null},\"id\":\"8510\",\"type\":\"Grid\"},{\"attributes\":{},\"id\":\"8508\",\"type\":\"BasicTicker\"},{\"attributes\":{\"active_multi\":null,\"tools\":[{\"id\":\"8511\"},{\"id\":\"8512\"},{\"id\":\"8513\"},{\"id\":\"8514\"},{\"id\":\"8515\"},{\"id\":\"8516\"}]},\"id\":\"8518\",\"type\":\"Toolbar\"},{\"attributes\":{},\"id\":\"8872\",\"type\":\"AllLabels\"},{\"attributes\":{},\"id\":\"8512\",\"type\":\"WheelZoomTool\"},{\"attributes\":{},\"id\":\"8874\",\"type\":\"BasicTickFormatter\"},{\"attributes\":{},\"id\":\"8511\",\"type\":\"PanTool\"},{\"attributes\":{\"overlay\":{\"id\":\"8517\"}},\"id\":\"8513\",\"type\":\"BoxZoomTool\"},{\"attributes\":{},\"id\":\"8514\",\"type\":\"SaveTool\"},{\"attributes\":{},\"id\":\"8515\",\"type\":\"ResetTool\"},{\"attributes\":{\"background_fill_color\":\"#fafafa\",\"below\":[{\"id\":\"8503\"}],\"center\":[{\"id\":\"8506\"},{\"id\":\"8510\"}],\"height\":250,\"left\":[{\"id\":\"8507\"}],\"renderers\":[{\"id\":\"8528\"}],\"sizing_mode\":\"scale_width\",\"title\":{\"id\":\"8867\"},\"toolbar\":{\"id\":\"8518\"},\"width\":250,\"x_range\":{\"id\":\"8495\"},\"x_scale\":{\"id\":\"8499\"},\"y_range\":{\"id\":\"8497\"},\"y_scale\":{\"id\":\"8501\"}},\"id\":\"8494\",\"subtype\":\"Figure\",\"type\":\"Plot\"},{\"attributes\":{},\"id\":\"8887\",\"type\":\"Selection\"},{\"attributes\":{},\"id\":\"8875\",\"type\":\"AllLabels\"},{\"attributes\":{},\"id\":\"8888\",\"type\":\"UnionRenderers\"},{\"attributes\":{},\"id\":\"8877\",\"type\":\"BasicTickFormatter\"},{\"attributes\":{\"data_source\":{\"id\":\"8525\"},\"glyph\":{\"id\":\"8526\"},\"hover_glyph\":null,\"muted_glyph\":null,\"nonselection_glyph\":{\"id\":\"8527\"},\"view\":{\"id\":\"8529\"}},\"id\":\"8528\",\"type\":\"GlyphRenderer\"},{\"attributes\":{},\"id\":\"8439\",\"type\":\"PanTool\"},{\"attributes\":{\"source\":{\"id\":\"8525\"}},\"id\":\"8529\",\"type\":\"CDSView\"},{\"attributes\":{\"fill_alpha\":{\"value\":0.1},\"fill_color\":{\"value\":\"#53777a\"},\"line_alpha\":{\"value\":0.1},\"line_color\":{\"value\":\"#53777a\"},\"size\":{\"value\":12},\"x\":{\"field\":\"x\"},\"y\":{\"field\":\"y\"}},\"id\":\"8455\",\"type\":\"Circle\"},{\"attributes\":{},\"id\":\"8429\",\"type\":\"LinearScale\"},{\"attributes\":{\"axis_label_standoff\":10,\"axis_label_text_color\":\"#5B5B5B\",\"axis_label_text_font\":\"Calibri Light\",\"axis_label_text_font_size\":\"1.15em\",\"axis_label_text_font_style\":\"bold\",\"axis_line_alpha\":1,\"axis_line_color\":\"#5B5B5B\",\"formatter\":{\"id\":\"8871\"},\"major_label_policy\":{\"id\":\"8869\"},\"major_label_text_color\":\"#5B5B5B\",\"major_label_text_font\":\"Calibri Light\",\"major_label_text_font_size\":\"0.95em\",\"major_label_text_font_style\":\"bold\",\"major_tick_in\":0,\"major_tick_line_alpha\":0.25,\"major_tick_line_color\":\"#5B5B5B\",\"major_tick_out\":3,\"minor_tick_line_alpha\":0.25,\"minor_tick_line_color\":\"#5B5B5B\",\"ticker\":{\"id\":\"8432\"}},\"id\":\"8431\",\"type\":\"LinearAxis\"},{\"attributes\":{},\"id\":\"8425\",\"type\":\"DataRange1d\"},{\"attributes\":{\"axis_label_standoff\":10,\"axis_label_text_color\":\"#5B5B5B\",\"axis_label_text_font\":\"Calibri Light\",\"axis_label_text_font_size\":\"1.15em\",\"axis_label_text_font_style\":\"bold\",\"axis_line_alpha\":1,\"axis_line_color\":\"#5B5B5B\",\"formatter\":{\"id\":\"8874\"},\"major_label_policy\":{\"id\":\"8872\"},\"major_label_text_color\":\"#5B5B5B\",\"major_label_text_font\":\"Calibri Light\",\"major_label_text_font_size\":\"0.95em\",\"major_label_text_font_style\":\"bold\",\"major_tick_in\":0,\"major_tick_line_alpha\":0.25,\"major_tick_line_color\":\"#5B5B5B\",\"major_tick_out\":3,\"minor_tick_line_alpha\":0.25,\"minor_tick_line_color\":\"#5B5B5B\",\"ticker\":{\"id\":\"8436\"}},\"id\":\"8435\",\"type\":\"LinearAxis\"},{\"attributes\":{},\"id\":\"8427\",\"type\":\"LinearScale\"},{\"attributes\":{\"bottom_units\":\"screen\",\"fill_alpha\":0.5,\"fill_color\":\"lightgrey\",\"left_units\":\"screen\",\"level\":\"overlay\",\"line_alpha\":1.0,\"line_color\":\"black\",\"line_dash\":[4,4],\"line_width\":2,\"right_units\":\"screen\",\"syncable\":false,\"top_units\":\"screen\"},\"id\":\"8445\",\"type\":\"BoxAnnotation\"},{\"attributes\":{},\"id\":\"8432\",\"type\":\"BasicTicker\"},{\"attributes\":{\"axis\":{\"id\":\"8431\"},\"ticker\":null},\"id\":\"8434\",\"type\":\"Grid\"},{\"attributes\":{\"fill_alpha\":{\"value\":0.8},\"fill_color\":{\"value\":\"#53777a\"},\"line_alpha\":{\"value\":0.8},\"line_color\":{\"value\":\"#53777a\"},\"size\":{\"value\":12},\"x\":{\"field\":\"x\"},\"y\":{\"field\":\"y\"}},\"id\":\"8454\",\"type\":\"Circle\"},{\"attributes\":{},\"id\":\"8423\",\"type\":\"DataRange1d\"},{\"attributes\":{\"data\":{\"x\":[0,1,2,3,4,5,6,7,8,9,10],\"y\":[0,1,2,3,4,5,6,7,8,9,10]},\"selected\":{\"id\":\"8887\"},\"selection_policy\":{\"id\":\"8888\"}},\"id\":\"8453\",\"type\":\"ColumnDataSource\"},{\"attributes\":{\"axis\":{\"id\":\"8435\"},\"dimension\":1,\"ticker\":null},\"id\":\"8438\",\"type\":\"Grid\"},{\"attributes\":{},\"id\":\"8436\",\"type\":\"BasicTicker\"},{\"attributes\":{},\"id\":\"8890\",\"type\":\"Selection\"},{\"attributes\":{},\"id\":\"8891\",\"type\":\"UnionRenderers\"},{\"attributes\":{\"background_fill_color\":\"#fafafa\",\"below\":[{\"id\":\"8467\"}],\"center\":[{\"id\":\"8470\"},{\"id\":\"8474\"}],\"height\":250,\"left\":[{\"id\":\"8471\"}],\"renderers\":[{\"id\":\"8492\"}],\"sizing_mode\":\"scale_width\",\"title\":{\"id\":\"8865\"},\"toolbar\":{\"id\":\"8482\"},\"width\":250,\"x_range\":{\"id\":\"8459\"},\"x_scale\":{\"id\":\"8463\"},\"y_range\":{\"id\":\"8461\"},\"y_scale\":{\"id\":\"8465\"}},\"id\":\"8458\",\"subtype\":\"Figure\",\"type\":\"Plot\"},{\"attributes\":{},\"id\":\"8444\",\"type\":\"HelpTool\"},{\"attributes\":{\"bottom_units\":\"screen\",\"fill_alpha\":0.5,\"fill_color\":\"lightgrey\",\"left_units\":\"screen\",\"level\":\"overlay\",\"line_alpha\":1.0,\"line_color\":\"black\",\"line_dash\":[4,4],\"line_width\":2,\"right_units\":\"screen\",\"syncable\":false,\"top_units\":\"screen\"},\"id\":\"8517\",\"type\":\"BoxAnnotation\"},{\"attributes\":{\"axis_label_standoff\":10,\"axis_label_text_color\":\"#5B5B5B\",\"axis_label_text_font\":\"Calibri Light\",\"axis_label_text_font_size\":\"1.15em\",\"axis_label_text_font_style\":\"bold\",\"axis_line_alpha\":1,\"axis_line_color\":\"#5B5B5B\",\"formatter\":{\"id\":\"8877\"},\"major_label_policy\":{\"id\":\"8875\"},\"major_label_text_color\":\"#5B5B5B\",\"major_label_text_font\":\"Calibri Light\",\"major_label_text_font_size\":\"0.95em\",\"major_label_text_font_style\":\"bold\",\"major_tick_in\":0,\"major_tick_line_alpha\":0.25,\"major_tick_line_color\":\"#5B5B5B\",\"major_tick_out\":3,\"minor_tick_line_alpha\":0.25,\"minor_tick_line_color\":\"#5B5B5B\",\"ticker\":{\"id\":\"8468\"}},\"id\":\"8467\",\"type\":\"LinearAxis\"},{\"attributes\":{\"active_multi\":null,\"tools\":[{\"id\":\"8439\"},{\"id\":\"8440\"},{\"id\":\"8441\"},{\"id\":\"8442\"},{\"id\":\"8443\"},{\"id\":\"8444\"}]},\"id\":\"8446\",\"type\":\"Toolbar\"},{\"attributes\":{},\"id\":\"8443\",\"type\":\"ResetTool\"},{\"attributes\":{},\"id\":\"8468\",\"type\":\"BasicTicker\"},{\"attributes\":{},\"id\":\"8465\",\"type\":\"LinearScale\"},{\"attributes\":{\"source\":{\"id\":\"8453\"}},\"id\":\"8457\",\"type\":\"CDSView\"},{\"attributes\":{},\"id\":\"8893\",\"type\":\"Selection\"},{\"attributes\":{\"data\":{\"x\":[0,1,2,3,4,5,6,7,8,9,10],\"y\":[10,9,8,7,6,5,4,3,2,1,0]},\"selected\":{\"id\":\"8890\"},\"selection_policy\":{\"id\":\"8891\"}},\"id\":\"8489\",\"type\":\"ColumnDataSource\"},{\"attributes\":{},\"id\":\"8894\",\"type\":\"UnionRenderers\"},{\"attributes\":{\"data_source\":{\"id\":\"8453\"},\"glyph\":{\"id\":\"8454\"},\"hover_glyph\":null,\"muted_glyph\":null,\"nonselection_glyph\":{\"id\":\"8455\"},\"view\":{\"id\":\"8457\"}},\"id\":\"8456\",\"type\":\"GlyphRenderer\"},{\"attributes\":{\"fill_alpha\":{\"value\":0.8},\"fill_color\":{\"value\":\"#c02942\"},\"line_alpha\":{\"value\":0.8},\"line_color\":{\"value\":\"#c02942\"},\"marker\":{\"value\":\"triangle\"},\"size\":{\"value\":12},\"x\":{\"field\":\"x\"},\"y\":{\"field\":\"y\"}},\"id\":\"8490\",\"type\":\"Scatter\"},{\"attributes\":{},\"id\":\"8461\",\"type\":\"DataRange1d\"},{\"attributes\":{\"background_fill_color\":\"#fafafa\",\"below\":[{\"id\":\"8431\"}],\"center\":[{\"id\":\"8434\"},{\"id\":\"8438\"}],\"height\":250,\"left\":[{\"id\":\"8435\"}],\"renderers\":[{\"id\":\"8456\"}],\"sizing_mode\":\"scale_width\",\"title\":{\"id\":\"8863\"},\"toolbar\":{\"id\":\"8446\"},\"width\":250,\"x_range\":{\"id\":\"8423\"},\"x_scale\":{\"id\":\"8427\"},\"y_range\":{\"id\":\"8425\"},\"y_scale\":{\"id\":\"8429\"}},\"id\":\"8422\",\"subtype\":\"Figure\",\"type\":\"Plot\"},{\"attributes\":{},\"id\":\"8459\",\"type\":\"DataRange1d\"},{\"attributes\":{\"axis_label_standoff\":10,\"axis_label_text_color\":\"#5B5B5B\",\"axis_label_text_font\":\"Calibri Light\",\"axis_label_text_font_size\":\"1.15em\",\"axis_label_text_font_style\":\"bold\",\"axis_line_alpha\":1,\"axis_line_color\":\"#5B5B5B\",\"formatter\":{\"id\":\"8880\"},\"major_label_policy\":{\"id\":\"8878\"},\"major_label_text_color\":\"#5B5B5B\",\"major_label_text_font\":\"Calibri Light\",\"major_label_text_font_size\":\"0.95em\",\"major_label_text_font_style\":\"bold\",\"major_tick_in\":0,\"major_tick_line_alpha\":0.25,\"major_tick_line_color\":\"#5B5B5B\",\"major_tick_out\":3,\"minor_tick_line_alpha\":0.25,\"minor_tick_line_color\":\"#5B5B5B\",\"ticker\":{\"id\":\"8472\"}},\"id\":\"8471\",\"type\":\"LinearAxis\"},{\"attributes\":{},\"id\":\"8463\",\"type\":\"LinearScale\"},{\"attributes\":{},\"id\":\"8480\",\"type\":\"HelpTool\"},{\"attributes\":{\"axis\":{\"id\":\"8467\"},\"ticker\":null},\"id\":\"8470\",\"type\":\"Grid\"},{\"attributes\":{\"axis\":{\"id\":\"8471\"},\"dimension\":1,\"ticker\":null},\"id\":\"8474\",\"type\":\"Grid\"},{\"attributes\":{},\"id\":\"8472\",\"type\":\"BasicTicker\"},{\"attributes\":{\"active_multi\":null,\"tools\":[{\"id\":\"8475\"},{\"id\":\"8476\"},{\"id\":\"8477\"},{\"id\":\"8478\"},{\"id\":\"8479\"},{\"id\":\"8480\"}]},\"id\":\"8482\",\"type\":\"Toolbar\"},{\"attributes\":{},\"id\":\"8476\",\"type\":\"WheelZoomTool\"},{\"attributes\":{\"overlay\":{\"id\":\"8445\"}},\"id\":\"8441\",\"type\":\"BoxZoomTool\"},{\"attributes\":{},\"id\":\"8475\",\"type\":\"PanTool\"},{\"attributes\":{},\"id\":\"8442\",\"type\":\"SaveTool\"},{\"attributes\":{\"overlay\":{\"id\":\"8481\"}},\"id\":\"8477\",\"type\":\"BoxZoomTool\"},{\"attributes\":{},\"id\":\"8478\",\"type\":\"SaveTool\"},{\"attributes\":{},\"id\":\"8479\",\"type\":\"ResetTool\"}],\"root_ids\":[\"8530\"]},\"title\":\"Bokeh Application\",\"version\":\"2.3.3\"}};\n",
       "  var render_items = [{\"docid\":\"48894aeb-9b02-4bbe-98a7-6e1f14041ced\",\"root_ids\":[\"8530\"],\"roots\":{\"8530\":\"41c2c057-b8b0-439a-9f5f-94a8541d2dd6\"}}];\n",
       "  root.Bokeh.embed.embed_items_notebook(docs_json, render_items);\n",
       "\n",
       "  }\n",
       "  if (root.Bokeh !== undefined) {\n",
       "    embed_document(root);\n",
       "  } else {\n",
       "    var attempts = 0;\n",
       "    var timer = setInterval(function(root) {\n",
       "      if (root.Bokeh !== undefined) {\n",
       "        clearInterval(timer);\n",
       "        embed_document(root);\n",
       "      } else {\n",
       "        attempts++;\n",
       "        if (attempts > 100) {\n",
       "          clearInterval(timer);\n",
       "          console.log(\"Bokeh: ERROR: Unable to run BokehJS code because BokehJS library is missing\");\n",
       "        }\n",
       "      }\n",
       "    }, 10, root)\n",
       "  }\n",
       "})(window);"
      ],
      "application/vnd.bokehjs_exec.v0+json": ""
     },
     "metadata": {
      "application/vnd.bokehjs_exec.v0+json": {
       "id": "8530"
      }
     },
     "output_type": "display_data"
    }
   ],
   "source": [
    "from bokeh.layouts import row\n",
    "\n",
    "# prepare some data\n",
    "x = list(range(11))\n",
    "y0 = x\n",
    "y1 = [10 - i for i in x]\n",
    "y2 = [abs(i - 5) for i in x]\n",
    "\n",
    "# create three plots with one renderer each\n",
    "s1 = figure(width=250, height=250, background_fill_color=\"#fafafa\")\n",
    "s1.circle(x, y0, size=12, color=\"#53777a\", alpha=0.8)\n",
    "\n",
    "s2 = figure(width=250, height=250, background_fill_color=\"#fafafa\")\n",
    "s2.triangle(x, y1, size=12, color=\"#c02942\", alpha=0.8)\n",
    "\n",
    "s3 = figure(width=250, height=250, background_fill_color=\"#fafafa\")\n",
    "s3.square(x, y2, size=12, color=\"#d95b43\", alpha=0.8)\n",
    "\n",
    "# put the results in a row that automatically adjusts\n",
    "# to the browser window's width\n",
    "show(row(children=[s1, s2, s3], sizing_mode=\"scale_width\"))"
   ]
  },
  {
   "cell_type": "markdown",
   "id": "7bb3118f",
   "metadata": {},
   "source": [
    "For more information on sizing modes, see Sizing modes in the user guide.\n",
    "\n",
    "# First steps 7: Displaying and exporting\n",
    "In the previous first steps guides, you created, customized, and combined visualizations.\n",
    "\n",
    "In this section, you will use various methods to display and export your visualizations.\n",
    "\n",
    "## Creating a standalone HTML file\n",
    "All examples so far have used the **show()** function to save your visualization to an HTML file. This HTML file contains all the necessary information to display your plot.\n",
    "\n",
    "To customize the file Bokeh creates for your visualization, import and call the **output_file()** function. **output_file()** accepts various file-related arguments. For example:\n",
    "- filename: the filename for the HTML file. If you don’t supply a file name, Bokeh will use the file name of your python file as a filename for the HTML file it creates.\n",
    "- title: the title for you document (to be used in the HTML’s <title> tag)\n",
    "\n",
    "Bokeh creates the HTML file when you call the **show()** function. This function also automatically opens a web browser to display the HTML file.\n",
    "\n",
    "If you want Bokeh to only generate the file but not open it in a web browser, use the **save()** function instead.\n",
    "\n",
    "You need to import the **save()** and **output_file()** functions before using, just like you did for **show()**.\n",
    "\n",
    "    "
   ]
  },
  {
   "cell_type": "code",
   "execution_count": 31,
   "id": "a1224c15",
   "metadata": {},
   "outputs": [
    {
     "data": {
      "text/plain": [
       "'/home/franzi/CoActeu/try_sth/Master_Visualizations_2021/Topic_3_DataScience_and_Interactive_Visualizations/interactive_plots/custom_filename.html'"
      ]
     },
     "execution_count": 31,
     "metadata": {},
     "output_type": "execute_result"
    }
   ],
   "source": [
    "from bokeh.plotting import figure, output_file, save\n",
    "# prepare some data\n",
    "x = [1, 2, 3, 4, 5]\n",
    "y = [4, 5, 5, 7, 2]\n",
    "\n",
    "# set output to static HTML file\n",
    "output_file(filename=\"custom_filename.html\", title=\"Static HTML file\")\n",
    "\n",
    "# create a new plot with a specific size\n",
    "p = figure(sizing_mode=\"stretch_width\", max_width=500, height=250)\n",
    "\n",
    "# add a circle renderer\n",
    "circle = p.circle(x, y, fill_color=\"red\", size=15)\n",
    "\n",
    "# save the results to a file\n",
    "save(p)"
   ]
  },
  {
   "cell_type": "markdown",
   "id": "18f9fea0",
   "metadata": {},
   "source": [
    "For more information on embedding Bokeh visualizations online, see Embedding Bokeh content in the user guide.\n",
    "\n",
    "Note: By default, Bokeh-generated HTML files include a standard version of BokehJS that is automatically downloaded from Bokeh’s servers. Use the argument mode with the function output_file() to change this behavior. For more information, see output_file() and Resources in the reference guide.\n",
    "\n",
    "## Displaying in a Jupyter notebook\n",
    "If you use Jupyter notebooks, call Bokeh’s **output_notebook()** function in your code. Then, use the show() function to display your visualization right inside your notebook:\n",
    "\n",
    "For more information on using Jupyter notebooks, see Using with Jupyter in the user guide.\n",
    "\n",
    "Interact directly with live tutorial notebooks hosted online by MyBinder.\n",
    "\n",
    "## Exporting PNG files\n",
    "To export PNG or SVG files, you might need to install additional dependencies.\n",
    "\n",
    "In order to create PNG and SVG files, Bokeh uses Selenium. Selenium allows Bokeh to run in a browser without a graphical user interface. Bokeh uses this browser to render the PNG or SVG files. In order for this to work, Selenium needs to be able to access either a Firefox browser (through the geckodriver package) or a Chrome/Chromium browser (through the chromedriver package).\n",
    "\n",
    "Use this command to install Selenium with geckodriver and Firefox in a conda environment:\n",
    "\n",
    "    conda install selenium geckodriver firefox -c conda-forge\n",
    "See Additional dependencies for more options to install the required packages.\n",
    "\n",
    "Once the requirements are installed, you can use the export_png() function to export your plot into a PNG file:\n",
    "\n"
   ]
  },
  {
   "cell_type": "code",
   "execution_count": 32,
   "id": "904a8146",
   "metadata": {},
   "outputs": [
    {
     "ename": "RuntimeError",
     "evalue": "Neither firefox and geckodriver nor a variant of chromium browser and chromedriver are available on system PATH. You can install the former with 'conda install -c conda-forge firefox geckodriver'.",
     "output_type": "error",
     "traceback": [
      "\u001b[0;31m---------------------------------------------------------------------------\u001b[0m",
      "\u001b[0;31mRuntimeError\u001b[0m                              Traceback (most recent call last)",
      "\u001b[0;32m<ipython-input-32-1277de2bcaa5>\u001b[0m in \u001b[0;36m<module>\u001b[0;34m\u001b[0m\n\u001b[1;32m     13\u001b[0m \u001b[0;34m\u001b[0m\u001b[0m\n\u001b[1;32m     14\u001b[0m \u001b[0;31m# save the results to a file\u001b[0m\u001b[0;34m\u001b[0m\u001b[0;34m\u001b[0m\u001b[0;34m\u001b[0m\u001b[0m\n\u001b[0;32m---> 15\u001b[0;31m \u001b[0mexport_png\u001b[0m\u001b[0;34m(\u001b[0m\u001b[0mp\u001b[0m\u001b[0;34m,\u001b[0m \u001b[0mfilename\u001b[0m\u001b[0;34m=\u001b[0m\u001b[0;34m\"plot.png\"\u001b[0m\u001b[0;34m)\u001b[0m\u001b[0;34m\u001b[0m\u001b[0;34m\u001b[0m\u001b[0m\n\u001b[0m",
      "\u001b[0;32m~/.local/lib/python3.8/site-packages/bokeh/io/export.py\u001b[0m in \u001b[0;36mexport_png\u001b[0;34m(obj, filename, width, height, webdriver, timeout)\u001b[0m\n\u001b[1;32m     96\u001b[0m     '''\n\u001b[1;32m     97\u001b[0m \u001b[0;34m\u001b[0m\u001b[0m\n\u001b[0;32m---> 98\u001b[0;31m     \u001b[0mimage\u001b[0m \u001b[0;34m=\u001b[0m \u001b[0mget_screenshot_as_png\u001b[0m\u001b[0;34m(\u001b[0m\u001b[0mobj\u001b[0m\u001b[0;34m,\u001b[0m \u001b[0mwidth\u001b[0m\u001b[0;34m=\u001b[0m\u001b[0mwidth\u001b[0m\u001b[0;34m,\u001b[0m \u001b[0mheight\u001b[0m\u001b[0;34m=\u001b[0m\u001b[0mheight\u001b[0m\u001b[0;34m,\u001b[0m \u001b[0mdriver\u001b[0m\u001b[0;34m=\u001b[0m\u001b[0mwebdriver\u001b[0m\u001b[0;34m,\u001b[0m \u001b[0mtimeout\u001b[0m\u001b[0;34m=\u001b[0m\u001b[0mtimeout\u001b[0m\u001b[0;34m)\u001b[0m\u001b[0;34m\u001b[0m\u001b[0;34m\u001b[0m\u001b[0m\n\u001b[0m\u001b[1;32m     99\u001b[0m \u001b[0;34m\u001b[0m\u001b[0m\n\u001b[1;32m    100\u001b[0m     \u001b[0;32mif\u001b[0m \u001b[0mfilename\u001b[0m \u001b[0;32mis\u001b[0m \u001b[0;32mNone\u001b[0m\u001b[0;34m:\u001b[0m\u001b[0;34m\u001b[0m\u001b[0;34m\u001b[0m\u001b[0m\n",
      "\u001b[0;32m~/.local/lib/python3.8/site-packages/bokeh/io/export.py\u001b[0m in \u001b[0;36mget_screenshot_as_png\u001b[0;34m(obj, driver, timeout, resources, width, height)\u001b[0m\n\u001b[1;32m    220\u001b[0m             \u001b[0mfile\u001b[0m\u001b[0;34m.\u001b[0m\u001b[0mwrite\u001b[0m\u001b[0;34m(\u001b[0m\u001b[0mhtml\u001b[0m\u001b[0;34m)\u001b[0m\u001b[0;34m\u001b[0m\u001b[0;34m\u001b[0m\u001b[0m\n\u001b[1;32m    221\u001b[0m \u001b[0;34m\u001b[0m\u001b[0m\n\u001b[0;32m--> 222\u001b[0;31m         \u001b[0mweb_driver\u001b[0m \u001b[0;34m=\u001b[0m \u001b[0mdriver\u001b[0m \u001b[0;32mif\u001b[0m \u001b[0mdriver\u001b[0m \u001b[0;32mis\u001b[0m \u001b[0;32mnot\u001b[0m \u001b[0;32mNone\u001b[0m \u001b[0;32melse\u001b[0m \u001b[0mwebdriver_control\u001b[0m\u001b[0;34m.\u001b[0m\u001b[0mget\u001b[0m\u001b[0;34m(\u001b[0m\u001b[0;34m)\u001b[0m\u001b[0;34m\u001b[0m\u001b[0;34m\u001b[0m\u001b[0m\n\u001b[0m\u001b[1;32m    223\u001b[0m         \u001b[0mweb_driver\u001b[0m\u001b[0;34m.\u001b[0m\u001b[0mmaximize_window\u001b[0m\u001b[0;34m(\u001b[0m\u001b[0;34m)\u001b[0m\u001b[0;34m\u001b[0m\u001b[0;34m\u001b[0m\u001b[0m\n\u001b[1;32m    224\u001b[0m         \u001b[0mweb_driver\u001b[0m\u001b[0;34m.\u001b[0m\u001b[0mget\u001b[0m\u001b[0;34m(\u001b[0m\u001b[0;34m\"file:///\"\u001b[0m \u001b[0;34m+\u001b[0m \u001b[0mtmp\u001b[0m\u001b[0;34m.\u001b[0m\u001b[0mpath\u001b[0m\u001b[0;34m)\u001b[0m\u001b[0;34m\u001b[0m\u001b[0;34m\u001b[0m\u001b[0m\n",
      "\u001b[0;32m~/.local/lib/python3.8/site-packages/bokeh/io/webdriver.py\u001b[0m in \u001b[0;36mget\u001b[0;34m(self)\u001b[0m\n\u001b[1;32m    147\u001b[0m         \u001b[0;32mif\u001b[0m \u001b[0;32mnot\u001b[0m \u001b[0mself\u001b[0m\u001b[0;34m.\u001b[0m\u001b[0mreuse\u001b[0m \u001b[0;32mor\u001b[0m \u001b[0mself\u001b[0m\u001b[0;34m.\u001b[0m\u001b[0mcurrent\u001b[0m \u001b[0;32mis\u001b[0m \u001b[0;32mNone\u001b[0m\u001b[0;34m:\u001b[0m\u001b[0;34m\u001b[0m\u001b[0;34m\u001b[0m\u001b[0m\n\u001b[1;32m    148\u001b[0m             \u001b[0mself\u001b[0m\u001b[0;34m.\u001b[0m\u001b[0mreset\u001b[0m\u001b[0;34m(\u001b[0m\u001b[0;34m)\u001b[0m\u001b[0;34m\u001b[0m\u001b[0;34m\u001b[0m\u001b[0m\n\u001b[0;32m--> 149\u001b[0;31m             \u001b[0mself\u001b[0m\u001b[0;34m.\u001b[0m\u001b[0mcurrent\u001b[0m \u001b[0;34m=\u001b[0m \u001b[0mself\u001b[0m\u001b[0;34m.\u001b[0m\u001b[0mcreate\u001b[0m\u001b[0;34m(\u001b[0m\u001b[0;34m)\u001b[0m\u001b[0;34m\u001b[0m\u001b[0;34m\u001b[0m\u001b[0m\n\u001b[0m\u001b[1;32m    150\u001b[0m         \u001b[0;32mreturn\u001b[0m \u001b[0mself\u001b[0m\u001b[0;34m.\u001b[0m\u001b[0mcurrent\u001b[0m\u001b[0;34m\u001b[0m\u001b[0;34m\u001b[0m\u001b[0m\n\u001b[1;32m    151\u001b[0m \u001b[0;34m\u001b[0m\u001b[0m\n",
      "\u001b[0;32m~/.local/lib/python3.8/site-packages/bokeh/io/webdriver.py\u001b[0m in \u001b[0;36mcreate\u001b[0;34m(self, kind)\u001b[0m\n\u001b[1;32m    151\u001b[0m \u001b[0;34m\u001b[0m\u001b[0m\n\u001b[1;32m    152\u001b[0m     \u001b[0;32mdef\u001b[0m \u001b[0mcreate\u001b[0m\u001b[0;34m(\u001b[0m\u001b[0mself\u001b[0m\u001b[0;34m,\u001b[0m \u001b[0mkind\u001b[0m\u001b[0;34m:\u001b[0m \u001b[0mOptional\u001b[0m\u001b[0;34m[\u001b[0m\u001b[0mDriverKind\u001b[0m\u001b[0;34m]\u001b[0m \u001b[0;34m=\u001b[0m \u001b[0;32mNone\u001b[0m\u001b[0;34m)\u001b[0m \u001b[0;34m->\u001b[0m \u001b[0mWebDriver\u001b[0m\u001b[0;34m:\u001b[0m\u001b[0;34m\u001b[0m\u001b[0;34m\u001b[0m\u001b[0m\n\u001b[0;32m--> 153\u001b[0;31m         \u001b[0mdriver\u001b[0m \u001b[0;34m=\u001b[0m \u001b[0mself\u001b[0m\u001b[0;34m.\u001b[0m\u001b[0m_create\u001b[0m\u001b[0;34m(\u001b[0m\u001b[0mkind\u001b[0m\u001b[0;34m)\u001b[0m\u001b[0;34m\u001b[0m\u001b[0;34m\u001b[0m\u001b[0m\n\u001b[0m\u001b[1;32m    154\u001b[0m         \u001b[0mself\u001b[0m\u001b[0;34m.\u001b[0m\u001b[0m_drivers\u001b[0m\u001b[0;34m.\u001b[0m\u001b[0madd\u001b[0m\u001b[0;34m(\u001b[0m\u001b[0mdriver\u001b[0m\u001b[0;34m)\u001b[0m\u001b[0;34m\u001b[0m\u001b[0;34m\u001b[0m\u001b[0m\n\u001b[1;32m    155\u001b[0m         \u001b[0;32mreturn\u001b[0m \u001b[0mdriver\u001b[0m\u001b[0;34m\u001b[0m\u001b[0;34m\u001b[0m\u001b[0m\n",
      "\u001b[0;32m~/.local/lib/python3.8/site-packages/bokeh/io/webdriver.py\u001b[0m in \u001b[0;36m_create\u001b[0;34m(self, kind)\u001b[0m\n\u001b[1;32m    169\u001b[0m                 \u001b[0;32mreturn\u001b[0m \u001b[0mdriver\u001b[0m\u001b[0;34m\u001b[0m\u001b[0;34m\u001b[0m\u001b[0m\n\u001b[1;32m    170\u001b[0m \u001b[0;34m\u001b[0m\u001b[0m\n\u001b[0;32m--> 171\u001b[0;31m             raise RuntimeError(\"Neither firefox and geckodriver nor a variant of chromium browser and \" \\\n\u001b[0m\u001b[1;32m    172\u001b[0m                                \u001b[0;34m\"chromedriver are available on system PATH. You can install the former \"\u001b[0m\u001b[0;31m \u001b[0m\u001b[0;31m\\\u001b[0m\u001b[0;34m\u001b[0m\u001b[0;34m\u001b[0m\u001b[0m\n\u001b[1;32m    173\u001b[0m                                \"with 'conda install -c conda-forge firefox geckodriver'.\")\n",
      "\u001b[0;31mRuntimeError\u001b[0m: Neither firefox and geckodriver nor a variant of chromium browser and chromedriver are available on system PATH. You can install the former with 'conda install -c conda-forge firefox geckodriver'."
     ]
    }
   ],
   "source": [
    "from bokeh.io import export_png\n",
    "from bokeh.plotting import figure\n",
    "\n",
    "# prepare some data\n",
    "x = [1, 2, 3, 4, 5]\n",
    "y = [4, 5, 5, 7, 2]\n",
    "\n",
    "# create a new plot with fixed dimensions\n",
    "p = figure(width=350, height=250)\n",
    "\n",
    "# add a circle renderer\n",
    "circle = p.circle(x, y, fill_color=\"red\", size=15)\n",
    "\n",
    "# save the results to a file\n",
    "export_png(p, filename=\"plot.png\")"
   ]
  },
  {
   "cell_type": "code",
   "execution_count": null,
   "id": "4fabb310",
   "metadata": {},
   "outputs": [],
   "source": [
    "output_notebook()"
   ]
  },
  {
   "cell_type": "markdown",
   "id": "237e29e1",
   "metadata": {},
   "source": [
    "For information on how to export PNG and SVG files, see Exporting plots in the user guide.\n",
    "\n",
    "# First steps 8: Providing and filtering data\n",
    "In the previous first steps guides, you used different methods to display and export your visualizations.\n",
    "\n",
    "In this section, you will use various sources and structures to import and filter data.\n",
    "\n",
    "## Using ColumnDataSource\n",
    "The ColumnDataSource is Bokeh’s own data structure. For details about the ColumnDataSource, see ColumnDataSource in the user guide.\n",
    "\n",
    "So far, you have used data sequences like Python lists and NumPy arrays to pass data to Bokeh. Bokeh has automatically converted these lists into ColumnDataSource objects for you.\n",
    "\n",
    "Follow these steps to create a ColumnDataSource directly:\n",
    "- First, import ColumnDataSource.\n",
    "- Next, create a dict with your data: The dict’s keys are the column names (strings). The dict’s values are lists or arrays of data.\n",
    "- Then, pass your dict as the data argument to ColumnDataSource:\n",
    "- You can then use your ColumnDataSource as source for your renderer.\n",
    "\n"
   ]
  },
  {
   "cell_type": "code",
   "execution_count": null,
   "id": "ece8d1ab",
   "metadata": {},
   "outputs": [],
   "source": [
    "from bokeh.plotting import figure\n",
    "from bokeh.models import ColumnDataSource\n",
    "\n",
    "# create dict as basis for ColumnDataSource\n",
    "data = {'x_values': [1, 2, 3, 4, 5],\n",
    "        'y_values': [6, 7, 2, 3, 6]}\n",
    "\n",
    "# create ColumnDataSource based on dict\n",
    "source = ColumnDataSource(data=data)\n",
    "\n",
    "# create a plot and renderer with ColumnDataSource data\n",
    "p = figure()\n",
    "p.circle(x='x_values', y='y_values', source=source)"
   ]
  },
  {
   "cell_type": "markdown",
   "id": "29ea626a",
   "metadata": {},
   "source": [
    "For more information on Bokeh’s ColumnDataSource, see ColumnDataSource in the user guide and ColumnDataSource in the reference guide.\n",
    "\n",
    "For information about adding data to a ColumnDataSource, see Appending data to a ColumnDataSource. Information about replacing data of a ColumnDataSource is available at Replacing data in a ColumnDataSource in the user guide.\n",
    "\n",
    "For more information on using Python lists, see Providing data with Python lists. For more information on using NumPy data with Bokeh, see Providing NumPy data.\n",
    "\n",
    "## Converting pandas data\n",
    "To use data from a pandas DataFrame, pass your pandas data to a ColumnDataSource:\n",
    "\n",
    "    source = ColumnDataSource(df)\n",
    "\n",
    "For more information on using pandas data in Bokeh, see Using a pandas DataFrame in the user guide. This includes information on using pandas DataFrame, MultiIndex, and GroupBy data.\n",
    "### Filtering data\n",
    "Bokeh comes with various filtering methods. Use these filters if you want to create a specific subset of the data contained in your ColumnDataSource.\n",
    "\n",
    "In Bokeh, these filtered subsets are called “views”. Views are represented by Bokeh’s CDSView class.\n",
    "\n",
    "To plot with a filtered subset of data, pass a CDSView object to the view argument of your renderer.\n",
    "\n",
    "A CDSView object has two properties:\n",
    "- source: the ColumnDataSource that you want to apply the filters to\n",
    "- filters: a list of Filter objects\n",
    "\n",
    "The simplest filter is the IndexFilter. An IndexFilter uses a list of index positions and creates a view that contains nothing but the data points located at those index positions.\n",
    "\n",
    "For example, if your ColumnDataSource contains a list of five values and you apply an IndexFilter with [0,2,4], the resulting view contains only the first, the third, and the fifth value of your original list:\n"
   ]
  },
  {
   "cell_type": "code",
   "execution_count": null,
   "id": "9d68d350",
   "metadata": {},
   "outputs": [],
   "source": [
    "from bokeh.layouts import gridplot\n",
    "from bokeh.models import CDSView, ColumnDataSource, IndexFilter\n",
    "from bokeh.plotting import figure, show\n",
    "\n",
    "# create ColumnDataSource from a dict\n",
    "source = ColumnDataSource(data=dict(x=[1, 2, 3, 4, 5], y=[1, 2, 3, 4, 5]))\n",
    "\n",
    "# create a view using an IndexFilter with the index positions [0, 2, 4]\n",
    "view = CDSView(source=source, filters=[IndexFilter([0, 2, 4])])\n",
    "\n",
    "# setup tools\n",
    "tools = [\"box_select\", \"hover\", \"reset\"]\n",
    "\n",
    "# create a first plot with all data in the ColumnDataSource\n",
    "p = figure(height=300, width=300, tools=tools)\n",
    "p.circle(x=\"x\", y=\"y\", size=10, hover_color=\"red\", source=source)\n",
    "\n",
    "# create a second plot with a subset of ColumnDataSource, based on view\n",
    "p_filtered = figure(height=300, width=300, tools=tools)\n",
    "p_filtered.circle(x=\"x\", y=\"y\", size=10, hover_color=\"red\", source=source, view=view)\n",
    "\n",
    "# show both plots next to each other in a gridplot layout\n",
    "show(gridplot([[p, p_filtered]]))"
   ]
  },
  {
   "cell_type": "markdown",
   "id": "2752120f",
   "metadata": {},
   "source": [
    "For more information on the various filters in Bokeh, see Filtering data in the user guide. More information is also available in the entries for CDSView and Filter in the reference guide.\n",
    "\n",
    "# First steps 9: Using widgets\n",
    "In the previous first steps guides, you used different sources and structures to import and filter data.\n",
    "\n",
    "In this section, you will add interactive widgets to your plots.\n",
    "\n",
    "## Adding widgets\n",
    "Widgets are additional visual elements that you can include in your visualization. Use widgets to display additional information or to interactively control elements of your Bokeh document, for example:\n",
    "\n",
    "The following Bokeh document combines a plot with three widgets:\n",
    "- A Div widget to display HTML text\n",
    "- A Spinner widget to select a numeric value\n",
    "- A RangeSlider widget to adjust a range\n",
    "\n",
    "See Examples in the user guide for a complete list of Bokeh’s widgets.\n",
    "\n",
    "Follow these steps to recreate the example from above:\n",
    "- Import the Div, \n",
    "- RangeSlider, \n",
    "- and Spinner widgets from bokeh.models:\n",
    "\n",
    "    from bokeh.models import Div, RangeSlider, Spinner\n",
    "Set up your data, your figure, and your renderer:\n",
    "\n",
    "    x = [1, 2, 3, 4, 5, 6, 7, 8, 9, 10]\n",
    "    y = [4, 5, 5, 7, 2, 6, 4, 9, 1, 3]\n",
    "\n",
    "    p = figure(x_range=(1,9), width=500, height=250)\n",
    "    points = p.circle(x=x, y=y, size=30, fill_color=\"#21a7df\")\n",
    "Create a Div object and pass it some HTML code as a string:\n",
    "\n",
    "    div = Div(\n",
    "        text=\"\"\"\n",
    "            <p>Select the circle's size using this control element:</p>\n",
    "            \"\"\",\n",
    "        width=200,\n",
    "        height=30,\n",
    "    )\n",
    "Create a Spinner object:\n",
    "\n",
    "    spinner = Spinner(\n",
    "        title=\"Circle size\",  # a string to display above the widget\n",
    "        low=0,  # the lowest possible number to pick\n",
    "        high=60,  # the highest possible number to pick\n",
    "        step=5,  # the increments by which the number can be adjusted\n",
    "        value=points.glyph.size,  # the initial value to display in the widget\n",
    "        width=200,  #  the width of the widget in pixels\n",
    "        )\n",
    "        \n",
    "To link the value generated by the spinner to the size property of your glyph, use the js_link() function. This function uses JavaScript to interactively link two Bokeh models. The first argument you pass to this function is the attribute of your spinner (\"value\") that you want to link to your circle glyphs. The second attribute is the glyph you want to link to your spinner (points.glyph). The third argument is the property of your glyph that you want to link to your spinner’s value:\n",
    "\n",
    "    spinner.js_link(\"value\", points.glyph, \"size\")\n",
    "### Create a RangeSlider object:\n",
    "\n",
    "    range_slider = RangeSlider(\n",
    "        title=\"Adjust x-axis range\", # a title to display above the slider\n",
    "        start=0,  # set the minimum value for the slider\n",
    "        end=10,  # set the maximum value for the slider\n",
    "        step=1,  # increments for the slider\n",
    "        value=(p.x_range.start, p.x_range.end),  # initial values for slider\n",
    "        )\n",
    "To link the values generated by the RangeSlider to the existing plot, use the js_link() function again. This time, however, you need to assign two values at once: the beginning of the plot’s x-axis and the end of its x-axis. The RangeSlider returns a tuple of those two values. Therefore, you need to use the attr_selector of the js_link() function to tell Bokeh which part of the Tuple to assign to either the start or the end of the plot’s x-axis:\n",
    "\n",
    "    range_slider.js_link(\"value\", p.x_range, \"start\", attr_selector=0)\n",
    "    range_slider.js_link(\"value\", p.x_range, \"end\", attr_selector=1)\n",
    "Create a layout with all the elements of your dashboard and display it in a browser:\n",
    "\n",
    "    layout = layout([\n",
    "        [div, spinner],\n",
    "        [range_slider],\n",
    "        [p],\n",
    "    ])\n",
    "\n",
    "    show(layout)\n",
    "This is what the completed example looks like:"
   ]
  },
  {
   "cell_type": "code",
   "execution_count": null,
   "id": "3a10a3c3",
   "metadata": {},
   "outputs": [],
   "source": [
    "from bokeh.layouts import layout\n",
    "from bokeh.models import Div, RangeSlider, Spinner\n",
    "\n",
    "# prepare some data\n",
    "x = [1, 2, 3, 4, 5, 6, 7, 8, 9, 10]\n",
    "y = [4, 5, 5, 7, 2, 6, 4, 9, 1, 3]\n",
    "\n",
    "# create plot with circle glyphs\n",
    "p = figure(x_range=(1, 9), width=500, height=250)\n",
    "points = p.circle(x=x, y=y, size=30, fill_color=\"#21a7df\")\n",
    "\n",
    "# set up textarea (div)\n",
    "div = Div(\n",
    "    text=\"\"\"\n",
    "          <p>Select the circle's size using this control element:</p>\n",
    "          \"\"\",\n",
    "    width=200,\n",
    "    height=30,\n",
    ")\n",
    "\n",
    "# set up spinner\n",
    "spinner = Spinner(\n",
    "    title=\"Circle size\",\n",
    "    low=0,\n",
    "    high=60,\n",
    "    step=5,\n",
    "    value=points.glyph.size,\n",
    "    width=200,\n",
    ")\n",
    "spinner.js_link(\"value\", points.glyph, \"size\")\n",
    "\n",
    "# set up RangeSlider\n",
    "range_slider = RangeSlider(\n",
    "    title=\"Adjust x-axis range\",\n",
    "    start=0,\n",
    "    end=10,\n",
    "    step=1,\n",
    "    value=(p.x_range.start, p.x_range.end),\n",
    ")\n",
    "range_slider.js_link(\"value\", p.x_range, \"start\", attr_selector=0)\n",
    "range_slider.js_link(\"value\", p.x_range, \"end\", attr_selector=1)\n",
    "\n",
    "# create layout\n",
    "layout = layout(\n",
    "    [\n",
    "        [div, spinner],\n",
    "        [range_slider],\n",
    "        [p],\n",
    "    ]\n",
    ")\n",
    "\n",
    "# show result\n",
    "output_notebook() # uncomment this line if you want to open a browser window with the plot\n",
    "show(layout)"
   ]
  },
  {
   "cell_type": "markdown",
   "id": "5c6e629e",
   "metadata": {},
   "source": [
    "To learn more about Bokeh’s widgets and building interactive dashboards, see Adding widgets in the user guide.\n",
    "\n",
    "To learn about creating interactive legends, see interactive legends in the user guide.\n",
    "\n",
    "See JavaScript callbacks in the user guide to learn more about adding custom JavaScript code that you can use in combination with widgets, among other things.\n",
    "\n",
    "To learn more about combining widgets and plots into layouts, see Creating layouts in the user guide.\n",
    "\n",
    "### Using widgets with a Bokeh server\n",
    "Another way to use widgets is with a Bokeh server application. Bokeh includes a standalone server component. Use the Bokeh server if you want to connect your JavaScript-based visualization running in a browser to Python code running on a server.\n",
    "\n",
    "Use this command on a command line to start Bokeh in server mode:\n",
    "\n",
    "    bokeh serve\n",
    "You can use Bokeh Server to build complex dashboards and interactive applications. Some of the capabilities of the Bokeh server include:\n",
    "- UI widgets and plot selections that drive computations and plot updates\n",
    "- Streaming live data to automatically updating plots\n",
    "- Intelligent server-side downsampling of large datasets\n",
    "- Sophisticated glyph re-writing and transformations for “Big Data”\n",
    "- Plot and dashboard publishing for wider audiences\n",
    "\n",
    "For information on using the server and writing Bokeh server plots and apps, see Running a Bokeh server in the user guide.\n",
    "\n",
    "For more examples of Bokeh server applications, see the Server App Examples section of the Gallery.\n",
    "\n",
    "An easy way to create more complex dashboards is to use Panel (https://panel.holoviz.org). Panel is a separate Python library that uses Bokeh and Bokeh server in the background.\n",
    "\n",
    "# Next steps\n",
    "Congratulations, you have completed all of Bokeh’s first steps guides!\n",
    "\n",
    "More information about Bokeh is available in the user guide. For more in-depth information about all aspects of Bokeh, see the reference guide.\n",
    "\n",
    "For more examples of what you can do with Bokeh, check the Gallery and the examples directory in Bokeh’s GitHub repository.\n",
    "\n",
    "Finally, on the Bokeh community page, you can find links and information about asking for help and contributing to Bokeh and the Bokeh community."
   ]
  }
 ],
 "metadata": {
  "kernelspec": {
   "display_name": "Python 3.8 (ipykernel)",
   "language": "python",
   "name": "python3.8"
  },
  "language_info": {
   "codemirror_mode": {
    "name": "ipython",
    "version": 3
   },
   "file_extension": ".py",
   "mimetype": "text/x-python",
   "name": "python",
   "nbconvert_exporter": "python",
   "pygments_lexer": "ipython3",
   "version": "3.8.12"
  }
 },
 "nbformat": 4,
 "nbformat_minor": 5
}
