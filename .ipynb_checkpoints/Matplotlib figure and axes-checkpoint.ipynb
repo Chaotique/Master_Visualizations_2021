{
 "cells": [
  {
   "cell_type": "markdown",
   "id": "0f22f8cc",
   "metadata": {},
   "source": [
    "# Matplotlib Pyplot - the canvas"
   ]
  },
  {
   "cell_type": "markdown",
   "id": "0dd76393",
   "metadata": {},
   "source": [
    "Loading the matplotlib.pyplot library into namespace"
   ]
  },
  {
   "cell_type": "code",
   "execution_count": 2,
   "id": "d05e0071",
   "metadata": {},
   "outputs": [],
   "source": [
    "from matplotlib import pyplot as plt"
   ]
  },
  {
   "cell_type": "markdown",
   "id": "a4242c90",
   "metadata": {},
   "source": [
    "## Creating a canvas (\"Llenç\"):\n",
    "The following two ways of creating a canvas are equivalent:"
   ]
  },
  {
   "cell_type": "code",
   "execution_count": 3,
   "id": "0905d0ea",
   "metadata": {},
   "outputs": [
    {
     "data": {
      "image/png": "[encoded data removed]",
      "text/plain": [
       "<Figure size 432x288 with 1 Axes>"
      ]
     },
     "metadata": {
      "needs_background": "light"
     },
     "output_type": "display_data"
    }
   ],
   "source": [
    "f, ax = plt.subplots() # create one \"figure\" with one \"axes\""
   ]
  },
  {
   "cell_type": "code",
   "execution_count": 4,
   "id": "327fc549",
   "metadata": {},
   "outputs": [
    {
     "data": {
      "image/png": "[encoded data removed]",
      "text/plain": [
       "<Figure size 432x288 with 1 Axes>"
      ]
     },
     "metadata": {
      "needs_background": "light"
     },
     "output_type": "display_data"
    }
   ],
   "source": [
    "# same thing, said in different words:\n",
    "f  = plt.figure()\n",
    "ax = f.add_subplot()"
   ]
  },
  {
   "cell_type": "markdown",
   "id": "51b97a7f",
   "metadata": {},
   "source": [
    "One figure can also be generated with various axes:"
   ]
  },
  {
   "cell_type": "code",
   "execution_count": 5,
   "id": "2166f0bd",
   "metadata": {},
   "outputs": [
    {
     "data": {
      "image/png": "[encoded data removed]",
      "text/plain": [
       "<Figure size 432x288 with 6 Axes>"
      ]
     },
     "metadata": {
      "needs_background": "light"
     },
     "output_type": "display_data"
    }
   ],
   "source": [
    "f, ax = plt.subplots(2, 3) # create one figure with 6 axes, two rows, three columns"
   ]
  },
  {
   "cell_type": "markdown",
   "id": "ef5781ae",
   "metadata": {},
   "source": [
    "The object \"ax\" is then a numpy array of axes:"
   ]
  },
  {
   "cell_type": "code",
   "execution_count": null,
   "id": "a3e13d14",
   "metadata": {},
   "outputs": [],
   "source": [
    "ax[0, 1].plot([1, 2, 3, 4]) # refer to a specific subplot and plot a line\n",
    "f"
   ]
  },
  {
   "cell_type": "code",
   "execution_count": null,
   "id": "699ae027",
   "metadata": {},
   "outputs": [],
   "source": [
    "f, ax = plt.subplots(2, 3, figsize = (9, 4)) # change the size of the canvas"
   ]
  },
  {
   "cell_type": "markdown",
   "id": "44e33e32",
   "metadata": {},
   "source": [
    "### Spacing between axes\n",
    "To adapt the spacing bewtween subplots you can use a quick \"magic command\":"
   ]
  },
  {
   "cell_type": "code",
   "execution_count": null,
   "id": "3b4def97",
   "metadata": {},
   "outputs": [],
   "source": [
    "# set the spacing between subplots magically\n",
    "f.tight_layout()\n",
    "f"
   ]
  },
  {
   "cell_type": "markdown",
   "id": "9c776a15",
   "metadata": {},
   "source": [
    "If you want more specific spacings of the subplots, matplotlib allows you to adapt all white spaces around and between subplots."
   ]
  },
  {
   "cell_type": "code",
   "execution_count": null,
   "id": "b983829e",
   "metadata": {},
   "outputs": [],
   "source": [
    "# set the spacing between subplots manually\n",
    "f.subplots_adjust(left=0.3,\n",
    "                  bottom=0.2, \n",
    "                  right=0.85, \n",
    "                  top=0.95, \n",
    "                  wspace=0.4, \n",
    "                  hspace=0.6)\n",
    "f"
   ]
  },
  {
   "cell_type": "markdown",
   "id": "ec0bee03",
   "metadata": {},
   "source": [
    "Even more specific subplot arrangements can be obtained with subplot2grid."
   ]
  },
  {
   "cell_type": "code",
   "execution_count": null,
   "id": "eb98747f",
   "metadata": {},
   "outputs": [],
   "source": [
    "ax1 = plt.subplot2grid((3, 2), (0, 0), colspan=1)\n",
    "ax2 = plt.subplot2grid((3, 2), (0, 1), colspan=1)\n",
    "ax3 = plt.subplot2grid((3, 2), (1, 0), colspan=2)\n",
    "ax4 = plt.subplot2grid((3, 2), (2, 0), colspan=2)\n",
    "plt.tight_layout()"
   ]
  },
  {
   "cell_type": "markdown",
   "id": "58bc4bb6",
   "metadata": {},
   "source": [
    "### Playing around with the canvas\n",
    "Add an inset:"
   ]
  },
  {
   "cell_type": "code",
   "execution_count": null,
   "id": "574746dd",
   "metadata": {},
   "outputs": [],
   "source": [
    "ax[0, 1].inset_axes([0.2, 0.2, 0.4, 0.5]) # adding an inset to an axes inst., with param. [x0, y0, width, height]\n",
    "f"
   ]
  },
  {
   "cell_type": "markdown",
   "id": "034c9a00",
   "metadata": {},
   "source": [
    "Choose a different projection:"
   ]
  },
  {
   "cell_type": "code",
   "execution_count": null,
   "id": "76b071b4",
   "metadata": {},
   "outputs": [],
   "source": [
    "fig, axs = plt.subplots(2, 2, subplot_kw=dict(projection=\"polar\")) # with subplot keywords"
   ]
  },
  {
   "cell_type": "markdown",
   "id": "90582cfa",
   "metadata": {},
   "source": [
    "Share x (or y) axis between subplots in the same column (or row)."
   ]
  },
  {
   "cell_type": "code",
   "execution_count": null,
   "id": "7a605d1f",
   "metadata": {},
   "outputs": [],
   "source": [
    "fig, axs = plt.subplots(3, 2, sharex=True) # plots in the same column share the x-axis"
   ]
  }
 ],
 "metadata": {
  "kernelspec": {
   "display_name": "Python 3.8 (ipykernel)",
   "language": "python",
   "name": "python3.8"
  },
  "language_info": {
   "codemirror_mode": {
    "name": "ipython",
    "version": 3
   },
   "file_extension": ".py",
   "mimetype": "text/x-python",
   "name": "python",
   "nbconvert_exporter": "python",
   "pygments_lexer": "ipython3",
   "version": "3.8.12"
  }
 },
 "nbformat": 4,
 "nbformat_minor": 5
}
